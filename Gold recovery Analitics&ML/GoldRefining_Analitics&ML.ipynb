{
 "cells": [
  {
   "cell_type": "markdown",
   "metadata": {},
   "source": [
    "# Recovery of gold from ore"
   ]
  },
  {
   "cell_type": "markdown",
   "metadata": {},
   "source": [
    "The goal of the project is to set up 2 models that would predict 2 recovery parameters (enrichment efficiency). 1 model - recovery after flotation, 2 model - recovery after 2 stages of purification, i.e. from rough concentrate to final concentrate.\n",
    "\n",
    "The model quality metric will be sMAPE, calculated first for each model separately, and then the final one, calculated using the formula 0.25*sMAPE roung + 0.75sMAPE final\n"
   ]
  },
  {
   "cell_type": "markdown",
   "metadata": {},
   "source": [
    "## Data preparation"
   ]
  },
  {
   "cell_type": "code",
   "execution_count": 1,
   "metadata": {},
   "outputs": [],
   "source": [
    "import pandas as pd\n",
    "import matplotlib.pyplot as plt\n",
    "import seaborn as sns\n",
    "import numpy as np\n"
   ]
  },
  {
   "cell_type": "code",
   "execution_count": 2,
   "metadata": {},
   "outputs": [],
   "source": [
    "from sklearn.impute import KNNImputer\n",
    "from sklearn.metrics import make_scorer, mean_absolute_error,r2_score, mean_squared_error,recall_score\n",
    "from sklearn.preprocessing import MinMaxScaler\n",
    "from sklearn.model_selection import train_test_split\n",
    "from sklearn.tree import DecisionTreeRegressor\n",
    "from sklearn.ensemble import RandomForestRegressor\n",
    "from sklearn.linear_model import LinearRegression, Ridge\n",
    "from sklearn.model_selection import GridSearchCV, RandomizedSearchCV, cross_val_score"
   ]
  },
  {
   "cell_type": "code",
   "execution_count": 3,
   "metadata": {},
   "outputs": [],
   "source": [
    "import warnings\n",
    "warnings.filterwarnings('ignore')"
   ]
  },
  {
   "cell_type": "code",
   "execution_count": 4,
   "metadata": {},
   "outputs": [],
   "source": [
    "df_train = pd.read_csv('gold_industry_train.csv')\n",
    "df_test = pd.read_csv('gold_industry_test.csv')\n",
    "df_all = pd.read_csv('gold_industry_full.csv')"
   ]
  },
  {
   "cell_type": "code",
   "execution_count": 5,
   "metadata": {
    "scrolled": true
   },
   "outputs": [
    {
     "data": {
      "text/html": [
       "<div>\n",
       "<style scoped>\n",
       "    .dataframe tbody tr th:only-of-type {\n",
       "        vertical-align: middle;\n",
       "    }\n",
       "\n",
       "    .dataframe tbody tr th {\n",
       "        vertical-align: top;\n",
       "    }\n",
       "\n",
       "    .dataframe thead th {\n",
       "        text-align: right;\n",
       "    }\n",
       "</style>\n",
       "<table border=\"1\" class=\"dataframe\">\n",
       "  <thead>\n",
       "    <tr style=\"text-align: right;\">\n",
       "      <th></th>\n",
       "      <th>date</th>\n",
       "      <th>rougher.input.feed_au</th>\n",
       "      <th>rougher.input.feed_ag</th>\n",
       "      <th>rougher.input.feed_pb</th>\n",
       "      <th>rougher.input.feed_sol</th>\n",
       "      <th>rougher.input.feed_rate</th>\n",
       "      <th>rougher.input.feed_size</th>\n",
       "      <th>rougher.input.floatbank10_sulfate</th>\n",
       "      <th>rougher.input.floatbank10_xanthate</th>\n",
       "      <th>rougher.state.floatbank10_a_air</th>\n",
       "      <th>...</th>\n",
       "      <th>secondary_cleaner.output.tail_sol</th>\n",
       "      <th>final.output.concentrate_au</th>\n",
       "      <th>final.output.concentrate_ag</th>\n",
       "      <th>final.output.concentrate_pb</th>\n",
       "      <th>final.output.concentrate_sol</th>\n",
       "      <th>final.output.recovery</th>\n",
       "      <th>final.output.tail_au</th>\n",
       "      <th>final.output.tail_ag</th>\n",
       "      <th>final.output.tail_pb</th>\n",
       "      <th>final.output.tail_sol</th>\n",
       "    </tr>\n",
       "  </thead>\n",
       "  <tbody>\n",
       "    <tr>\n",
       "      <th>0</th>\n",
       "      <td>2016-01-15 00:00:00</td>\n",
       "      <td>6.486150</td>\n",
       "      <td>6.100378</td>\n",
       "      <td>2.284912</td>\n",
       "      <td>36.808594</td>\n",
       "      <td>523.546326</td>\n",
       "      <td>55.486599</td>\n",
       "      <td>11.986616</td>\n",
       "      <td>6.007990</td>\n",
       "      <td>999.706909</td>\n",
       "      <td>...</td>\n",
       "      <td>8.764648</td>\n",
       "      <td>42.192020</td>\n",
       "      <td>6.055403</td>\n",
       "      <td>9.889648</td>\n",
       "      <td>5.507324</td>\n",
       "      <td>70.541216</td>\n",
       "      <td>2.143149</td>\n",
       "      <td>10.411962</td>\n",
       "      <td>0.895447</td>\n",
       "      <td>16.904297</td>\n",
       "    </tr>\n",
       "    <tr>\n",
       "      <th>1</th>\n",
       "      <td>2016-01-15 01:00:00</td>\n",
       "      <td>6.478583</td>\n",
       "      <td>6.161113</td>\n",
       "      <td>2.266033</td>\n",
       "      <td>35.753385</td>\n",
       "      <td>525.290581</td>\n",
       "      <td>57.278666</td>\n",
       "      <td>11.971193</td>\n",
       "      <td>6.005766</td>\n",
       "      <td>1000.286398</td>\n",
       "      <td>...</td>\n",
       "      <td>9.001494</td>\n",
       "      <td>42.701629</td>\n",
       "      <td>6.029369</td>\n",
       "      <td>9.968944</td>\n",
       "      <td>5.257781</td>\n",
       "      <td>69.266198</td>\n",
       "      <td>2.224930</td>\n",
       "      <td>10.462676</td>\n",
       "      <td>0.927452</td>\n",
       "      <td>16.634514</td>\n",
       "    </tr>\n",
       "    <tr>\n",
       "      <th>2</th>\n",
       "      <td>2016-01-15 02:00:00</td>\n",
       "      <td>6.362222</td>\n",
       "      <td>6.116455</td>\n",
       "      <td>2.159622</td>\n",
       "      <td>35.971630</td>\n",
       "      <td>530.026610</td>\n",
       "      <td>57.510649</td>\n",
       "      <td>11.920603</td>\n",
       "      <td>6.197377</td>\n",
       "      <td>999.719565</td>\n",
       "      <td>...</td>\n",
       "      <td>8.842896</td>\n",
       "      <td>42.657501</td>\n",
       "      <td>6.055926</td>\n",
       "      <td>10.213995</td>\n",
       "      <td>5.383759</td>\n",
       "      <td>68.116445</td>\n",
       "      <td>2.257889</td>\n",
       "      <td>10.507046</td>\n",
       "      <td>0.953716</td>\n",
       "      <td>16.208849</td>\n",
       "    </tr>\n",
       "    <tr>\n",
       "      <th>3</th>\n",
       "      <td>2016-01-15 03:00:00</td>\n",
       "      <td>6.118189</td>\n",
       "      <td>6.043309</td>\n",
       "      <td>2.037807</td>\n",
       "      <td>36.862241</td>\n",
       "      <td>542.590390</td>\n",
       "      <td>57.792734</td>\n",
       "      <td>11.630094</td>\n",
       "      <td>6.203177</td>\n",
       "      <td>999.814770</td>\n",
       "      <td>...</td>\n",
       "      <td>9.122857</td>\n",
       "      <td>42.689819</td>\n",
       "      <td>6.047977</td>\n",
       "      <td>9.977019</td>\n",
       "      <td>4.858634</td>\n",
       "      <td>68.347543</td>\n",
       "      <td>2.146849</td>\n",
       "      <td>10.422762</td>\n",
       "      <td>0.883763</td>\n",
       "      <td>16.532835</td>\n",
       "    </tr>\n",
       "    <tr>\n",
       "      <th>4</th>\n",
       "      <td>2016-01-15 04:00:00</td>\n",
       "      <td>5.663707</td>\n",
       "      <td>6.060915</td>\n",
       "      <td>1.786875</td>\n",
       "      <td>34.347666</td>\n",
       "      <td>540.531893</td>\n",
       "      <td>56.047189</td>\n",
       "      <td>10.957755</td>\n",
       "      <td>6.198826</td>\n",
       "      <td>999.678690</td>\n",
       "      <td>...</td>\n",
       "      <td>8.871028</td>\n",
       "      <td>42.774141</td>\n",
       "      <td>6.148599</td>\n",
       "      <td>10.142511</td>\n",
       "      <td>4.939416</td>\n",
       "      <td>66.927016</td>\n",
       "      <td>2.055292</td>\n",
       "      <td>10.360302</td>\n",
       "      <td>0.792826</td>\n",
       "      <td>16.525686</td>\n",
       "    </tr>\n",
       "  </tbody>\n",
       "</table>\n",
       "<p>5 rows × 87 columns</p>\n",
       "</div>"
      ],
      "text/plain": [
       "                  date  rougher.input.feed_au  rougher.input.feed_ag  \\\n",
       "0  2016-01-15 00:00:00               6.486150               6.100378   \n",
       "1  2016-01-15 01:00:00               6.478583               6.161113   \n",
       "2  2016-01-15 02:00:00               6.362222               6.116455   \n",
       "3  2016-01-15 03:00:00               6.118189               6.043309   \n",
       "4  2016-01-15 04:00:00               5.663707               6.060915   \n",
       "\n",
       "   rougher.input.feed_pb  rougher.input.feed_sol  rougher.input.feed_rate  \\\n",
       "0               2.284912               36.808594               523.546326   \n",
       "1               2.266033               35.753385               525.290581   \n",
       "2               2.159622               35.971630               530.026610   \n",
       "3               2.037807               36.862241               542.590390   \n",
       "4               1.786875               34.347666               540.531893   \n",
       "\n",
       "   rougher.input.feed_size  rougher.input.floatbank10_sulfate  \\\n",
       "0                55.486599                          11.986616   \n",
       "1                57.278666                          11.971193   \n",
       "2                57.510649                          11.920603   \n",
       "3                57.792734                          11.630094   \n",
       "4                56.047189                          10.957755   \n",
       "\n",
       "   rougher.input.floatbank10_xanthate  rougher.state.floatbank10_a_air  ...  \\\n",
       "0                            6.007990                       999.706909  ...   \n",
       "1                            6.005766                      1000.286398  ...   \n",
       "2                            6.197377                       999.719565  ...   \n",
       "3                            6.203177                       999.814770  ...   \n",
       "4                            6.198826                       999.678690  ...   \n",
       "\n",
       "   secondary_cleaner.output.tail_sol  final.output.concentrate_au  \\\n",
       "0                           8.764648                    42.192020   \n",
       "1                           9.001494                    42.701629   \n",
       "2                           8.842896                    42.657501   \n",
       "3                           9.122857                    42.689819   \n",
       "4                           8.871028                    42.774141   \n",
       "\n",
       "   final.output.concentrate_ag  final.output.concentrate_pb  \\\n",
       "0                     6.055403                     9.889648   \n",
       "1                     6.029369                     9.968944   \n",
       "2                     6.055926                    10.213995   \n",
       "3                     6.047977                     9.977019   \n",
       "4                     6.148599                    10.142511   \n",
       "\n",
       "   final.output.concentrate_sol  final.output.recovery  final.output.tail_au  \\\n",
       "0                      5.507324              70.541216              2.143149   \n",
       "1                      5.257781              69.266198              2.224930   \n",
       "2                      5.383759              68.116445              2.257889   \n",
       "3                      4.858634              68.347543              2.146849   \n",
       "4                      4.939416              66.927016              2.055292   \n",
       "\n",
       "   final.output.tail_ag  final.output.tail_pb  final.output.tail_sol  \n",
       "0             10.411962              0.895447              16.904297  \n",
       "1             10.462676              0.927452              16.634514  \n",
       "2             10.507046              0.953716              16.208849  \n",
       "3             10.422762              0.883763              16.532835  \n",
       "4             10.360302              0.792826              16.525686  \n",
       "\n",
       "[5 rows x 87 columns]"
      ]
     },
     "execution_count": 5,
     "metadata": {},
     "output_type": "execute_result"
    }
   ],
   "source": [
    "df_train.head(5)"
   ]
  },
  {
   "cell_type": "code",
   "execution_count": 6,
   "metadata": {},
   "outputs": [
    {
     "data": {
      "text/html": [
       "<div>\n",
       "<style scoped>\n",
       "    .dataframe tbody tr th:only-of-type {\n",
       "        vertical-align: middle;\n",
       "    }\n",
       "\n",
       "    .dataframe tbody tr th {\n",
       "        vertical-align: top;\n",
       "    }\n",
       "\n",
       "    .dataframe thead th {\n",
       "        text-align: right;\n",
       "    }\n",
       "</style>\n",
       "<table border=\"1\" class=\"dataframe\">\n",
       "  <thead>\n",
       "    <tr style=\"text-align: right;\">\n",
       "      <th></th>\n",
       "      <th>date</th>\n",
       "      <th>rougher.input.feed_au</th>\n",
       "      <th>rougher.input.feed_ag</th>\n",
       "      <th>rougher.input.feed_pb</th>\n",
       "      <th>rougher.input.feed_sol</th>\n",
       "      <th>rougher.input.feed_rate</th>\n",
       "      <th>rougher.input.feed_size</th>\n",
       "      <th>rougher.input.floatbank10_sulfate</th>\n",
       "      <th>rougher.input.floatbank10_xanthate</th>\n",
       "      <th>rougher.state.floatbank10_a_air</th>\n",
       "      <th>...</th>\n",
       "      <th>secondary_cleaner.state.floatbank4_a_air</th>\n",
       "      <th>secondary_cleaner.state.floatbank4_a_level</th>\n",
       "      <th>secondary_cleaner.state.floatbank4_b_air</th>\n",
       "      <th>secondary_cleaner.state.floatbank4_b_level</th>\n",
       "      <th>secondary_cleaner.state.floatbank5_a_air</th>\n",
       "      <th>secondary_cleaner.state.floatbank5_a_level</th>\n",
       "      <th>secondary_cleaner.state.floatbank5_b_air</th>\n",
       "      <th>secondary_cleaner.state.floatbank5_b_level</th>\n",
       "      <th>secondary_cleaner.state.floatbank6_a_air</th>\n",
       "      <th>secondary_cleaner.state.floatbank6_a_level</th>\n",
       "    </tr>\n",
       "  </thead>\n",
       "  <tbody>\n",
       "    <tr>\n",
       "      <th>0</th>\n",
       "      <td>2017-12-09 14:59:59</td>\n",
       "      <td>4.365491</td>\n",
       "      <td>6.158718</td>\n",
       "      <td>3.875727</td>\n",
       "      <td>39.135119</td>\n",
       "      <td>555.820208</td>\n",
       "      <td>94.544358</td>\n",
       "      <td>6.146982</td>\n",
       "      <td>9.308612</td>\n",
       "      <td>1196.238112</td>\n",
       "      <td>...</td>\n",
       "      <td>23.018622</td>\n",
       "      <td>-500.492702</td>\n",
       "      <td>20.020205</td>\n",
       "      <td>-500.220296</td>\n",
       "      <td>17.963512</td>\n",
       "      <td>-499.939490</td>\n",
       "      <td>12.990306</td>\n",
       "      <td>-500.080993</td>\n",
       "      <td>19.990336</td>\n",
       "      <td>-499.191575</td>\n",
       "    </tr>\n",
       "    <tr>\n",
       "      <th>1</th>\n",
       "      <td>2017-12-09 15:59:59</td>\n",
       "      <td>4.362781</td>\n",
       "      <td>6.048130</td>\n",
       "      <td>3.902537</td>\n",
       "      <td>39.713906</td>\n",
       "      <td>544.731687</td>\n",
       "      <td>123.742430</td>\n",
       "      <td>6.210119</td>\n",
       "      <td>9.297709</td>\n",
       "      <td>1201.904177</td>\n",
       "      <td>...</td>\n",
       "      <td>23.024963</td>\n",
       "      <td>-501.153409</td>\n",
       "      <td>20.054122</td>\n",
       "      <td>-500.314711</td>\n",
       "      <td>17.979515</td>\n",
       "      <td>-499.272871</td>\n",
       "      <td>12.992404</td>\n",
       "      <td>-499.976268</td>\n",
       "      <td>20.013986</td>\n",
       "      <td>-500.625471</td>\n",
       "    </tr>\n",
       "    <tr>\n",
       "      <th>2</th>\n",
       "      <td>2017-12-09 16:59:59</td>\n",
       "      <td>5.081681</td>\n",
       "      <td>6.082745</td>\n",
       "      <td>4.564078</td>\n",
       "      <td>37.208683</td>\n",
       "      <td>558.155110</td>\n",
       "      <td>82.610855</td>\n",
       "      <td>7.363824</td>\n",
       "      <td>9.003562</td>\n",
       "      <td>1200.826926</td>\n",
       "      <td>...</td>\n",
       "      <td>22.993827</td>\n",
       "      <td>-501.559663</td>\n",
       "      <td>20.029144</td>\n",
       "      <td>-500.000662</td>\n",
       "      <td>18.012723</td>\n",
       "      <td>-500.024764</td>\n",
       "      <td>13.016445</td>\n",
       "      <td>-500.058432</td>\n",
       "      <td>19.973767</td>\n",
       "      <td>-501.394155</td>\n",
       "    </tr>\n",
       "    <tr>\n",
       "      <th>3</th>\n",
       "      <td>2017-12-09 17:59:59</td>\n",
       "      <td>5.145949</td>\n",
       "      <td>6.084374</td>\n",
       "      <td>4.768124</td>\n",
       "      <td>36.808874</td>\n",
       "      <td>539.713765</td>\n",
       "      <td>77.984784</td>\n",
       "      <td>6.927072</td>\n",
       "      <td>8.955597</td>\n",
       "      <td>1199.292489</td>\n",
       "      <td>...</td>\n",
       "      <td>23.032807</td>\n",
       "      <td>-501.287889</td>\n",
       "      <td>19.977466</td>\n",
       "      <td>-500.159903</td>\n",
       "      <td>17.980463</td>\n",
       "      <td>-500.504602</td>\n",
       "      <td>12.949071</td>\n",
       "      <td>-500.009937</td>\n",
       "      <td>20.010332</td>\n",
       "      <td>-508.337973</td>\n",
       "    </tr>\n",
       "    <tr>\n",
       "      <th>4</th>\n",
       "      <td>2017-12-09 18:59:59</td>\n",
       "      <td>5.735249</td>\n",
       "      <td>6.165220</td>\n",
       "      <td>4.512346</td>\n",
       "      <td>37.810642</td>\n",
       "      <td>558.713584</td>\n",
       "      <td>86.434874</td>\n",
       "      <td>7.823471</td>\n",
       "      <td>7.490356</td>\n",
       "      <td>1198.005449</td>\n",
       "      <td>...</td>\n",
       "      <td>23.001911</td>\n",
       "      <td>-499.947838</td>\n",
       "      <td>20.023735</td>\n",
       "      <td>-499.713680</td>\n",
       "      <td>17.990955</td>\n",
       "      <td>-500.334769</td>\n",
       "      <td>13.007523</td>\n",
       "      <td>-499.968459</td>\n",
       "      <td>19.995999</td>\n",
       "      <td>-499.788805</td>\n",
       "    </tr>\n",
       "  </tbody>\n",
       "</table>\n",
       "<p>5 rows × 53 columns</p>\n",
       "</div>"
      ],
      "text/plain": [
       "                  date  rougher.input.feed_au  rougher.input.feed_ag  \\\n",
       "0  2017-12-09 14:59:59               4.365491               6.158718   \n",
       "1  2017-12-09 15:59:59               4.362781               6.048130   \n",
       "2  2017-12-09 16:59:59               5.081681               6.082745   \n",
       "3  2017-12-09 17:59:59               5.145949               6.084374   \n",
       "4  2017-12-09 18:59:59               5.735249               6.165220   \n",
       "\n",
       "   rougher.input.feed_pb  rougher.input.feed_sol  rougher.input.feed_rate  \\\n",
       "0               3.875727               39.135119               555.820208   \n",
       "1               3.902537               39.713906               544.731687   \n",
       "2               4.564078               37.208683               558.155110   \n",
       "3               4.768124               36.808874               539.713765   \n",
       "4               4.512346               37.810642               558.713584   \n",
       "\n",
       "   rougher.input.feed_size  rougher.input.floatbank10_sulfate  \\\n",
       "0                94.544358                           6.146982   \n",
       "1               123.742430                           6.210119   \n",
       "2                82.610855                           7.363824   \n",
       "3                77.984784                           6.927072   \n",
       "4                86.434874                           7.823471   \n",
       "\n",
       "   rougher.input.floatbank10_xanthate  rougher.state.floatbank10_a_air  ...  \\\n",
       "0                            9.308612                      1196.238112  ...   \n",
       "1                            9.297709                      1201.904177  ...   \n",
       "2                            9.003562                      1200.826926  ...   \n",
       "3                            8.955597                      1199.292489  ...   \n",
       "4                            7.490356                      1198.005449  ...   \n",
       "\n",
       "   secondary_cleaner.state.floatbank4_a_air  \\\n",
       "0                                 23.018622   \n",
       "1                                 23.024963   \n",
       "2                                 22.993827   \n",
       "3                                 23.032807   \n",
       "4                                 23.001911   \n",
       "\n",
       "   secondary_cleaner.state.floatbank4_a_level  \\\n",
       "0                                 -500.492702   \n",
       "1                                 -501.153409   \n",
       "2                                 -501.559663   \n",
       "3                                 -501.287889   \n",
       "4                                 -499.947838   \n",
       "\n",
       "   secondary_cleaner.state.floatbank4_b_air  \\\n",
       "0                                 20.020205   \n",
       "1                                 20.054122   \n",
       "2                                 20.029144   \n",
       "3                                 19.977466   \n",
       "4                                 20.023735   \n",
       "\n",
       "   secondary_cleaner.state.floatbank4_b_level  \\\n",
       "0                                 -500.220296   \n",
       "1                                 -500.314711   \n",
       "2                                 -500.000662   \n",
       "3                                 -500.159903   \n",
       "4                                 -499.713680   \n",
       "\n",
       "   secondary_cleaner.state.floatbank5_a_air  \\\n",
       "0                                 17.963512   \n",
       "1                                 17.979515   \n",
       "2                                 18.012723   \n",
       "3                                 17.980463   \n",
       "4                                 17.990955   \n",
       "\n",
       "   secondary_cleaner.state.floatbank5_a_level  \\\n",
       "0                                 -499.939490   \n",
       "1                                 -499.272871   \n",
       "2                                 -500.024764   \n",
       "3                                 -500.504602   \n",
       "4                                 -500.334769   \n",
       "\n",
       "   secondary_cleaner.state.floatbank5_b_air  \\\n",
       "0                                 12.990306   \n",
       "1                                 12.992404   \n",
       "2                                 13.016445   \n",
       "3                                 12.949071   \n",
       "4                                 13.007523   \n",
       "\n",
       "   secondary_cleaner.state.floatbank5_b_level  \\\n",
       "0                                 -500.080993   \n",
       "1                                 -499.976268   \n",
       "2                                 -500.058432   \n",
       "3                                 -500.009937   \n",
       "4                                 -499.968459   \n",
       "\n",
       "   secondary_cleaner.state.floatbank6_a_air  \\\n",
       "0                                 19.990336   \n",
       "1                                 20.013986   \n",
       "2                                 19.973767   \n",
       "3                                 20.010332   \n",
       "4                                 19.995999   \n",
       "\n",
       "   secondary_cleaner.state.floatbank6_a_level  \n",
       "0                                 -499.191575  \n",
       "1                                 -500.625471  \n",
       "2                                 -501.394155  \n",
       "3                                 -508.337973  \n",
       "4                                 -499.788805  \n",
       "\n",
       "[5 rows x 53 columns]"
      ]
     },
     "execution_count": 6,
     "metadata": {},
     "output_type": "execute_result"
    }
   ],
   "source": [
    "df_test.head(5)"
   ]
  },
  {
   "cell_type": "code",
   "execution_count": 7,
   "metadata": {},
   "outputs": [
    {
     "data": {
      "text/html": [
       "<div>\n",
       "<style scoped>\n",
       "    .dataframe tbody tr th:only-of-type {\n",
       "        vertical-align: middle;\n",
       "    }\n",
       "\n",
       "    .dataframe tbody tr th {\n",
       "        vertical-align: top;\n",
       "    }\n",
       "\n",
       "    .dataframe thead th {\n",
       "        text-align: right;\n",
       "    }\n",
       "</style>\n",
       "<table border=\"1\" class=\"dataframe\">\n",
       "  <thead>\n",
       "    <tr style=\"text-align: right;\">\n",
       "      <th></th>\n",
       "      <th>date</th>\n",
       "      <th>rougher.input.feed_au</th>\n",
       "      <th>rougher.input.feed_ag</th>\n",
       "      <th>rougher.input.feed_pb</th>\n",
       "      <th>rougher.input.feed_sol</th>\n",
       "      <th>rougher.input.feed_rate</th>\n",
       "      <th>rougher.input.feed_size</th>\n",
       "      <th>rougher.input.floatbank10_sulfate</th>\n",
       "      <th>rougher.input.floatbank10_xanthate</th>\n",
       "      <th>rougher.state.floatbank10_a_air</th>\n",
       "      <th>...</th>\n",
       "      <th>secondary_cleaner.output.tail_sol</th>\n",
       "      <th>final.output.concentrate_au</th>\n",
       "      <th>final.output.concentrate_ag</th>\n",
       "      <th>final.output.concentrate_pb</th>\n",
       "      <th>final.output.concentrate_sol</th>\n",
       "      <th>final.output.recovery</th>\n",
       "      <th>final.output.tail_au</th>\n",
       "      <th>final.output.tail_ag</th>\n",
       "      <th>final.output.tail_pb</th>\n",
       "      <th>final.output.tail_sol</th>\n",
       "    </tr>\n",
       "  </thead>\n",
       "  <tbody>\n",
       "    <tr>\n",
       "      <th>0</th>\n",
       "      <td>2016-01-15 00:00:00</td>\n",
       "      <td>6.486150</td>\n",
       "      <td>6.100378</td>\n",
       "      <td>2.284912</td>\n",
       "      <td>36.808594</td>\n",
       "      <td>523.546326</td>\n",
       "      <td>55.486599</td>\n",
       "      <td>11.986616</td>\n",
       "      <td>6.007990</td>\n",
       "      <td>999.706909</td>\n",
       "      <td>...</td>\n",
       "      <td>8.764648</td>\n",
       "      <td>42.192020</td>\n",
       "      <td>6.055403</td>\n",
       "      <td>9.889648</td>\n",
       "      <td>5.507324</td>\n",
       "      <td>70.541216</td>\n",
       "      <td>2.143149</td>\n",
       "      <td>10.411962</td>\n",
       "      <td>0.895447</td>\n",
       "      <td>16.904297</td>\n",
       "    </tr>\n",
       "    <tr>\n",
       "      <th>1</th>\n",
       "      <td>2016-01-15 01:00:00</td>\n",
       "      <td>6.478583</td>\n",
       "      <td>6.161113</td>\n",
       "      <td>2.266033</td>\n",
       "      <td>35.753385</td>\n",
       "      <td>525.290581</td>\n",
       "      <td>57.278666</td>\n",
       "      <td>11.971193</td>\n",
       "      <td>6.005766</td>\n",
       "      <td>1000.286398</td>\n",
       "      <td>...</td>\n",
       "      <td>9.001494</td>\n",
       "      <td>42.701629</td>\n",
       "      <td>6.029369</td>\n",
       "      <td>9.968944</td>\n",
       "      <td>5.257781</td>\n",
       "      <td>69.266198</td>\n",
       "      <td>2.224930</td>\n",
       "      <td>10.462676</td>\n",
       "      <td>0.927452</td>\n",
       "      <td>16.634514</td>\n",
       "    </tr>\n",
       "    <tr>\n",
       "      <th>2</th>\n",
       "      <td>2016-01-15 02:00:00</td>\n",
       "      <td>6.362222</td>\n",
       "      <td>6.116455</td>\n",
       "      <td>2.159622</td>\n",
       "      <td>35.971630</td>\n",
       "      <td>530.026610</td>\n",
       "      <td>57.510649</td>\n",
       "      <td>11.920603</td>\n",
       "      <td>6.197377</td>\n",
       "      <td>999.719565</td>\n",
       "      <td>...</td>\n",
       "      <td>8.842896</td>\n",
       "      <td>42.657501</td>\n",
       "      <td>6.055926</td>\n",
       "      <td>10.213995</td>\n",
       "      <td>5.383759</td>\n",
       "      <td>68.116445</td>\n",
       "      <td>2.257889</td>\n",
       "      <td>10.507046</td>\n",
       "      <td>0.953716</td>\n",
       "      <td>16.208849</td>\n",
       "    </tr>\n",
       "    <tr>\n",
       "      <th>3</th>\n",
       "      <td>2016-01-15 03:00:00</td>\n",
       "      <td>6.118189</td>\n",
       "      <td>6.043309</td>\n",
       "      <td>2.037807</td>\n",
       "      <td>36.862241</td>\n",
       "      <td>542.590390</td>\n",
       "      <td>57.792734</td>\n",
       "      <td>11.630094</td>\n",
       "      <td>6.203177</td>\n",
       "      <td>999.814770</td>\n",
       "      <td>...</td>\n",
       "      <td>9.122857</td>\n",
       "      <td>42.689819</td>\n",
       "      <td>6.047977</td>\n",
       "      <td>9.977019</td>\n",
       "      <td>4.858634</td>\n",
       "      <td>68.347543</td>\n",
       "      <td>2.146849</td>\n",
       "      <td>10.422762</td>\n",
       "      <td>0.883763</td>\n",
       "      <td>16.532835</td>\n",
       "    </tr>\n",
       "    <tr>\n",
       "      <th>4</th>\n",
       "      <td>2016-01-15 04:00:00</td>\n",
       "      <td>5.663707</td>\n",
       "      <td>6.060915</td>\n",
       "      <td>1.786875</td>\n",
       "      <td>34.347666</td>\n",
       "      <td>540.531893</td>\n",
       "      <td>56.047189</td>\n",
       "      <td>10.957755</td>\n",
       "      <td>6.198826</td>\n",
       "      <td>999.678690</td>\n",
       "      <td>...</td>\n",
       "      <td>8.871028</td>\n",
       "      <td>42.774141</td>\n",
       "      <td>6.148599</td>\n",
       "      <td>10.142511</td>\n",
       "      <td>4.939416</td>\n",
       "      <td>66.927016</td>\n",
       "      <td>2.055292</td>\n",
       "      <td>10.360302</td>\n",
       "      <td>0.792826</td>\n",
       "      <td>16.525686</td>\n",
       "    </tr>\n",
       "  </tbody>\n",
       "</table>\n",
       "<p>5 rows × 87 columns</p>\n",
       "</div>"
      ],
      "text/plain": [
       "                  date  rougher.input.feed_au  rougher.input.feed_ag  \\\n",
       "0  2016-01-15 00:00:00               6.486150               6.100378   \n",
       "1  2016-01-15 01:00:00               6.478583               6.161113   \n",
       "2  2016-01-15 02:00:00               6.362222               6.116455   \n",
       "3  2016-01-15 03:00:00               6.118189               6.043309   \n",
       "4  2016-01-15 04:00:00               5.663707               6.060915   \n",
       "\n",
       "   rougher.input.feed_pb  rougher.input.feed_sol  rougher.input.feed_rate  \\\n",
       "0               2.284912               36.808594               523.546326   \n",
       "1               2.266033               35.753385               525.290581   \n",
       "2               2.159622               35.971630               530.026610   \n",
       "3               2.037807               36.862241               542.590390   \n",
       "4               1.786875               34.347666               540.531893   \n",
       "\n",
       "   rougher.input.feed_size  rougher.input.floatbank10_sulfate  \\\n",
       "0                55.486599                          11.986616   \n",
       "1                57.278666                          11.971193   \n",
       "2                57.510649                          11.920603   \n",
       "3                57.792734                          11.630094   \n",
       "4                56.047189                          10.957755   \n",
       "\n",
       "   rougher.input.floatbank10_xanthate  rougher.state.floatbank10_a_air  ...  \\\n",
       "0                            6.007990                       999.706909  ...   \n",
       "1                            6.005766                      1000.286398  ...   \n",
       "2                            6.197377                       999.719565  ...   \n",
       "3                            6.203177                       999.814770  ...   \n",
       "4                            6.198826                       999.678690  ...   \n",
       "\n",
       "   secondary_cleaner.output.tail_sol  final.output.concentrate_au  \\\n",
       "0                           8.764648                    42.192020   \n",
       "1                           9.001494                    42.701629   \n",
       "2                           8.842896                    42.657501   \n",
       "3                           9.122857                    42.689819   \n",
       "4                           8.871028                    42.774141   \n",
       "\n",
       "   final.output.concentrate_ag  final.output.concentrate_pb  \\\n",
       "0                     6.055403                     9.889648   \n",
       "1                     6.029369                     9.968944   \n",
       "2                     6.055926                    10.213995   \n",
       "3                     6.047977                     9.977019   \n",
       "4                     6.148599                    10.142511   \n",
       "\n",
       "   final.output.concentrate_sol  final.output.recovery  final.output.tail_au  \\\n",
       "0                      5.507324              70.541216              2.143149   \n",
       "1                      5.257781              69.266198              2.224930   \n",
       "2                      5.383759              68.116445              2.257889   \n",
       "3                      4.858634              68.347543              2.146849   \n",
       "4                      4.939416              66.927016              2.055292   \n",
       "\n",
       "   final.output.tail_ag  final.output.tail_pb  final.output.tail_sol  \n",
       "0             10.411962              0.895447              16.904297  \n",
       "1             10.462676              0.927452              16.634514  \n",
       "2             10.507046              0.953716              16.208849  \n",
       "3             10.422762              0.883763              16.532835  \n",
       "4             10.360302              0.792826              16.525686  \n",
       "\n",
       "[5 rows x 87 columns]"
      ]
     },
     "execution_count": 7,
     "metadata": {},
     "output_type": "execute_result"
    }
   ],
   "source": [
    "df_all.head(5)"
   ]
  },
  {
   "cell_type": "code",
   "execution_count": 8,
   "metadata": {
    "scrolled": true
   },
   "outputs": [
    {
     "name": "stdout",
     "output_type": "stream",
     "text": [
      "<class 'pandas.core.frame.DataFrame'>\n",
      "RangeIndex: 14579 entries, 0 to 14578\n",
      "Data columns (total 87 columns):\n",
      " #   Column                                              Non-Null Count  Dtype  \n",
      "---  ------                                              --------------  -----  \n",
      " 0   date                                                14579 non-null  object \n",
      " 1   rougher.input.feed_au                               14579 non-null  float64\n",
      " 2   rougher.input.feed_ag                               14579 non-null  float64\n",
      " 3   rougher.input.feed_pb                               14507 non-null  float64\n",
      " 4   rougher.input.feed_sol                              14502 non-null  float64\n",
      " 5   rougher.input.feed_rate                             14572 non-null  float64\n",
      " 6   rougher.input.feed_size                             14478 non-null  float64\n",
      " 7   rougher.input.floatbank10_sulfate                   14548 non-null  float64\n",
      " 8   rougher.input.floatbank10_xanthate                  14572 non-null  float64\n",
      " 9   rougher.state.floatbank10_a_air                     14579 non-null  float64\n",
      " 10  rougher.state.floatbank10_a_level                   14579 non-null  float64\n",
      " 11  rougher.state.floatbank10_b_air                     14579 non-null  float64\n",
      " 12  rougher.state.floatbank10_b_level                   14579 non-null  float64\n",
      " 13  rougher.state.floatbank10_c_air                     14579 non-null  float64\n",
      " 14  rougher.state.floatbank10_c_level                   14579 non-null  float64\n",
      " 15  rougher.state.floatbank10_d_air                     14579 non-null  float64\n",
      " 16  rougher.state.floatbank10_d_level                   14579 non-null  float64\n",
      " 17  rougher.state.floatbank10_e_air                     14150 non-null  float64\n",
      " 18  rougher.state.floatbank10_e_level                   14579 non-null  float64\n",
      " 19  rougher.state.floatbank10_f_air                     14579 non-null  float64\n",
      " 20  rougher.state.floatbank10_f_level                   14579 non-null  float64\n",
      " 21  rougher.input.floatbank11_sulfate                   14543 non-null  float64\n",
      " 22  rougher.input.floatbank11_xanthate                  14172 non-null  float64\n",
      " 23  rougher.calculation.sulfate_to_au_concentrate       14578 non-null  float64\n",
      " 24  rougher.calculation.floatbank10_sulfate_to_au_feed  14578 non-null  float64\n",
      " 25  rougher.calculation.floatbank11_sulfate_to_au_feed  14578 non-null  float64\n",
      " 26  rougher.calculation.au_pb_ratio                     14579 non-null  float64\n",
      " 27  rougher.output.concentrate_au                       14579 non-null  float64\n",
      " 28  rougher.output.concentrate_ag                       14579 non-null  float64\n",
      " 29  rougher.output.concentrate_pb                       14579 non-null  float64\n",
      " 30  rougher.output.concentrate_sol                      14561 non-null  float64\n",
      " 31  rougher.output.recovery                             14579 non-null  float64\n",
      " 32  rougher.output.tail_au                              14579 non-null  float64\n",
      " 33  rougher.output.tail_ag                              14578 non-null  float64\n",
      " 34  rougher.output.tail_pb                              14579 non-null  float64\n",
      " 35  rougher.output.tail_sol                             14579 non-null  float64\n",
      " 36  primary_cleaner.input.sulfate                       14556 non-null  float64\n",
      " 37  primary_cleaner.input.depressant                    14551 non-null  float64\n",
      " 38  primary_cleaner.input.feed_size                     14579 non-null  float64\n",
      " 39  primary_cleaner.input.xanthate                      14518 non-null  float64\n",
      " 40  primary_cleaner.state.floatbank8_a_air              14576 non-null  float64\n",
      " 41  primary_cleaner.state.floatbank8_a_level            14579 non-null  float64\n",
      " 42  primary_cleaner.state.floatbank8_b_air              14576 non-null  float64\n",
      " 43  primary_cleaner.state.floatbank8_b_level            14579 non-null  float64\n",
      " 44  primary_cleaner.state.floatbank8_c_air              14579 non-null  float64\n",
      " 45  primary_cleaner.state.floatbank8_c_level            14579 non-null  float64\n",
      " 46  primary_cleaner.state.floatbank8_d_air              14578 non-null  float64\n",
      " 47  primary_cleaner.state.floatbank8_d_level            14579 non-null  float64\n",
      " 48  primary_cleaner.output.concentrate_au               14579 non-null  float64\n",
      " 49  primary_cleaner.output.concentrate_ag               14579 non-null  float64\n",
      " 50  primary_cleaner.output.concentrate_pb               14491 non-null  float64\n",
      " 51  primary_cleaner.output.concentrate_sol              14314 non-null  float64\n",
      " 52  primary_cleaner.output.tail_au                      14579 non-null  float64\n",
      " 53  primary_cleaner.output.tail_ag                      14575 non-null  float64\n",
      " 54  primary_cleaner.output.tail_pb                      14573 non-null  float64\n",
      " 55  primary_cleaner.output.tail_sol                     14534 non-null  float64\n",
      " 56  secondary_cleaner.state.floatbank2_a_air            14485 non-null  float64\n",
      " 57  secondary_cleaner.state.floatbank2_a_level          14579 non-null  float64\n",
      " 58  secondary_cleaner.state.floatbank2_b_air            14557 non-null  float64\n",
      " 59  secondary_cleaner.state.floatbank2_b_level          14579 non-null  float64\n",
      " 60  secondary_cleaner.state.floatbank3_a_air            14567 non-null  float64\n",
      " 61  secondary_cleaner.state.floatbank3_a_level          14579 non-null  float64\n",
      " 62  secondary_cleaner.state.floatbank3_b_air            14579 non-null  float64\n",
      " 63  secondary_cleaner.state.floatbank3_b_level          14579 non-null  float64\n",
      " 64  secondary_cleaner.state.floatbank4_a_air            14574 non-null  float64\n",
      " 65  secondary_cleaner.state.floatbank4_a_level          14579 non-null  float64\n",
      " 66  secondary_cleaner.state.floatbank4_b_air            14579 non-null  float64\n",
      " 67  secondary_cleaner.state.floatbank4_b_level          14579 non-null  float64\n",
      " 68  secondary_cleaner.state.floatbank5_a_air            14579 non-null  float64\n",
      " 69  secondary_cleaner.state.floatbank5_a_level          14579 non-null  float64\n",
      " 70  secondary_cleaner.state.floatbank5_b_air            14579 non-null  float64\n",
      " 71  secondary_cleaner.state.floatbank5_b_level          14579 non-null  float64\n",
      " 72  secondary_cleaner.state.floatbank6_a_air            14578 non-null  float64\n",
      " 73  secondary_cleaner.state.floatbank6_a_level          14579 non-null  float64\n",
      " 74  secondary_cleaner.output.tail_au                    14579 non-null  float64\n",
      " 75  secondary_cleaner.output.tail_ag                    14578 non-null  float64\n",
      " 76  secondary_cleaner.output.tail_pb                    14575 non-null  float64\n",
      " 77  secondary_cleaner.output.tail_sol                   13659 non-null  float64\n",
      " 78  final.output.concentrate_au                         14579 non-null  float64\n",
      " 79  final.output.concentrate_ag                         14578 non-null  float64\n",
      " 80  final.output.concentrate_pb                         14578 non-null  float64\n",
      " 81  final.output.concentrate_sol                        14387 non-null  float64\n",
      " 82  final.output.recovery                               14579 non-null  float64\n",
      " 83  final.output.tail_au                                14579 non-null  float64\n",
      " 84  final.output.tail_ag                                14578 non-null  float64\n",
      " 85  final.output.tail_pb                                14504 non-null  float64\n",
      " 86  final.output.tail_sol                               14574 non-null  float64\n",
      "dtypes: float64(86), object(1)\n",
      "memory usage: 9.7+ MB\n"
     ]
    }
   ],
   "source": [
    "df_train.info()"
   ]
  },
  {
   "cell_type": "code",
   "execution_count": 9,
   "metadata": {
    "scrolled": true
   },
   "outputs": [
    {
     "name": "stdout",
     "output_type": "stream",
     "text": [
      "<class 'pandas.core.frame.DataFrame'>\n",
      "RangeIndex: 4860 entries, 0 to 4859\n",
      "Data columns (total 53 columns):\n",
      " #   Column                                      Non-Null Count  Dtype  \n",
      "---  ------                                      --------------  -----  \n",
      " 0   date                                        4860 non-null   object \n",
      " 1   rougher.input.feed_au                       4860 non-null   float64\n",
      " 2   rougher.input.feed_ag                       4860 non-null   float64\n",
      " 3   rougher.input.feed_pb                       4832 non-null   float64\n",
      " 4   rougher.input.feed_sol                      4838 non-null   float64\n",
      " 5   rougher.input.feed_rate                     4856 non-null   float64\n",
      " 6   rougher.input.feed_size                     4816 non-null   float64\n",
      " 7   rougher.input.floatbank10_sulfate           4857 non-null   float64\n",
      " 8   rougher.input.floatbank10_xanthate          4859 non-null   float64\n",
      " 9   rougher.state.floatbank10_a_air             4859 non-null   float64\n",
      " 10  rougher.state.floatbank10_a_level           4859 non-null   float64\n",
      " 11  rougher.state.floatbank10_b_air             4859 non-null   float64\n",
      " 12  rougher.state.floatbank10_b_level           4859 non-null   float64\n",
      " 13  rougher.state.floatbank10_c_air             4859 non-null   float64\n",
      " 14  rougher.state.floatbank10_c_level           4859 non-null   float64\n",
      " 15  rougher.state.floatbank10_d_air             4860 non-null   float64\n",
      " 16  rougher.state.floatbank10_d_level           4860 non-null   float64\n",
      " 17  rougher.state.floatbank10_e_air             4853 non-null   float64\n",
      " 18  rougher.state.floatbank10_e_level           4860 non-null   float64\n",
      " 19  rougher.state.floatbank10_f_air             4860 non-null   float64\n",
      " 20  rougher.state.floatbank10_f_level           4860 non-null   float64\n",
      " 21  rougher.input.floatbank11_sulfate           4852 non-null   float64\n",
      " 22  rougher.input.floatbank11_xanthate          4814 non-null   float64\n",
      " 23  primary_cleaner.input.sulfate               4859 non-null   float64\n",
      " 24  primary_cleaner.input.depressant            4851 non-null   float64\n",
      " 25  primary_cleaner.input.feed_size             4860 non-null   float64\n",
      " 26  primary_cleaner.input.xanthate              4817 non-null   float64\n",
      " 27  primary_cleaner.state.floatbank8_a_air      4859 non-null   float64\n",
      " 28  primary_cleaner.state.floatbank8_a_level    4859 non-null   float64\n",
      " 29  primary_cleaner.state.floatbank8_b_air      4859 non-null   float64\n",
      " 30  primary_cleaner.state.floatbank8_b_level    4859 non-null   float64\n",
      " 31  primary_cleaner.state.floatbank8_c_air      4858 non-null   float64\n",
      " 32  primary_cleaner.state.floatbank8_c_level    4859 non-null   float64\n",
      " 33  primary_cleaner.state.floatbank8_d_air      4858 non-null   float64\n",
      " 34  primary_cleaner.state.floatbank8_d_level    4859 non-null   float64\n",
      " 35  secondary_cleaner.state.floatbank2_a_air    4734 non-null   float64\n",
      " 36  secondary_cleaner.state.floatbank2_a_level  4859 non-null   float64\n",
      " 37  secondary_cleaner.state.floatbank2_b_air    4859 non-null   float64\n",
      " 38  secondary_cleaner.state.floatbank2_b_level  4859 non-null   float64\n",
      " 39  secondary_cleaner.state.floatbank3_a_air    4859 non-null   float64\n",
      " 40  secondary_cleaner.state.floatbank3_a_level  4859 non-null   float64\n",
      " 41  secondary_cleaner.state.floatbank3_b_air    4859 non-null   float64\n",
      " 42  secondary_cleaner.state.floatbank3_b_level  4859 non-null   float64\n",
      " 43  secondary_cleaner.state.floatbank4_a_air    4859 non-null   float64\n",
      " 44  secondary_cleaner.state.floatbank4_a_level  4859 non-null   float64\n",
      " 45  secondary_cleaner.state.floatbank4_b_air    4859 non-null   float64\n",
      " 46  secondary_cleaner.state.floatbank4_b_level  4859 non-null   float64\n",
      " 47  secondary_cleaner.state.floatbank5_a_air    4859 non-null   float64\n",
      " 48  secondary_cleaner.state.floatbank5_a_level  4859 non-null   float64\n",
      " 49  secondary_cleaner.state.floatbank5_b_air    4859 non-null   float64\n",
      " 50  secondary_cleaner.state.floatbank5_b_level  4859 non-null   float64\n",
      " 51  secondary_cleaner.state.floatbank6_a_air    4859 non-null   float64\n",
      " 52  secondary_cleaner.state.floatbank6_a_level  4859 non-null   float64\n",
      "dtypes: float64(52), object(1)\n",
      "memory usage: 2.0+ MB\n"
     ]
    }
   ],
   "source": [
    "df_test.info()"
   ]
  },
  {
   "cell_type": "code",
   "execution_count": 10,
   "metadata": {
    "scrolled": true
   },
   "outputs": [
    {
     "name": "stdout",
     "output_type": "stream",
     "text": [
      "<class 'pandas.core.frame.DataFrame'>\n",
      "RangeIndex: 19439 entries, 0 to 19438\n",
      "Data columns (total 87 columns):\n",
      " #   Column                                              Non-Null Count  Dtype  \n",
      "---  ------                                              --------------  -----  \n",
      " 0   date                                                19439 non-null  object \n",
      " 1   rougher.input.feed_au                               19439 non-null  float64\n",
      " 2   rougher.input.feed_ag                               19439 non-null  float64\n",
      " 3   rougher.input.feed_pb                               19339 non-null  float64\n",
      " 4   rougher.input.feed_sol                              19340 non-null  float64\n",
      " 5   rougher.input.feed_rate                             19428 non-null  float64\n",
      " 6   rougher.input.feed_size                             19294 non-null  float64\n",
      " 7   rougher.input.floatbank10_sulfate                   19405 non-null  float64\n",
      " 8   rougher.input.floatbank10_xanthate                  19431 non-null  float64\n",
      " 9   rougher.state.floatbank10_a_air                     19438 non-null  float64\n",
      " 10  rougher.state.floatbank10_a_level                   19438 non-null  float64\n",
      " 11  rougher.state.floatbank10_b_air                     19438 non-null  float64\n",
      " 12  rougher.state.floatbank10_b_level                   19438 non-null  float64\n",
      " 13  rougher.state.floatbank10_c_air                     19438 non-null  float64\n",
      " 14  rougher.state.floatbank10_c_level                   19438 non-null  float64\n",
      " 15  rougher.state.floatbank10_d_air                     19439 non-null  float64\n",
      " 16  rougher.state.floatbank10_d_level                   19439 non-null  float64\n",
      " 17  rougher.state.floatbank10_e_air                     19003 non-null  float64\n",
      " 18  rougher.state.floatbank10_e_level                   19439 non-null  float64\n",
      " 19  rougher.state.floatbank10_f_air                     19439 non-null  float64\n",
      " 20  rougher.state.floatbank10_f_level                   19439 non-null  float64\n",
      " 21  rougher.input.floatbank11_sulfate                   19395 non-null  float64\n",
      " 22  rougher.input.floatbank11_xanthate                  18986 non-null  float64\n",
      " 23  rougher.calculation.sulfate_to_au_concentrate       19437 non-null  float64\n",
      " 24  rougher.calculation.floatbank10_sulfate_to_au_feed  19437 non-null  float64\n",
      " 25  rougher.calculation.floatbank11_sulfate_to_au_feed  19437 non-null  float64\n",
      " 26  rougher.calculation.au_pb_ratio                     19439 non-null  float64\n",
      " 27  rougher.output.concentrate_au                       19439 non-null  float64\n",
      " 28  rougher.output.concentrate_ag                       19439 non-null  float64\n",
      " 29  rougher.output.concentrate_pb                       19439 non-null  float64\n",
      " 30  rougher.output.concentrate_sol                      19416 non-null  float64\n",
      " 31  rougher.output.recovery                             19439 non-null  float64\n",
      " 32  rougher.output.tail_au                              19439 non-null  float64\n",
      " 33  rougher.output.tail_ag                              19438 non-null  float64\n",
      " 34  rougher.output.tail_pb                              19439 non-null  float64\n",
      " 35  rougher.output.tail_sol                             19439 non-null  float64\n",
      " 36  primary_cleaner.input.sulfate                       19415 non-null  float64\n",
      " 37  primary_cleaner.input.depressant                    19402 non-null  float64\n",
      " 38  primary_cleaner.input.feed_size                     19439 non-null  float64\n",
      " 39  primary_cleaner.input.xanthate                      19335 non-null  float64\n",
      " 40  primary_cleaner.state.floatbank8_a_air              19435 non-null  float64\n",
      " 41  primary_cleaner.state.floatbank8_a_level            19438 non-null  float64\n",
      " 42  primary_cleaner.state.floatbank8_b_air              19435 non-null  float64\n",
      " 43  primary_cleaner.state.floatbank8_b_level            19438 non-null  float64\n",
      " 44  primary_cleaner.state.floatbank8_c_air              19437 non-null  float64\n",
      " 45  primary_cleaner.state.floatbank8_c_level            19438 non-null  float64\n",
      " 46  primary_cleaner.state.floatbank8_d_air              19436 non-null  float64\n",
      " 47  primary_cleaner.state.floatbank8_d_level            19438 non-null  float64\n",
      " 48  primary_cleaner.output.concentrate_au               19439 non-null  float64\n",
      " 49  primary_cleaner.output.concentrate_ag               19439 non-null  float64\n",
      " 50  primary_cleaner.output.concentrate_pb               19323 non-null  float64\n",
      " 51  primary_cleaner.output.concentrate_sol              19069 non-null  float64\n",
      " 52  primary_cleaner.output.tail_au                      19439 non-null  float64\n",
      " 53  primary_cleaner.output.tail_ag                      19435 non-null  float64\n",
      " 54  primary_cleaner.output.tail_pb                      19418 non-null  float64\n",
      " 55  primary_cleaner.output.tail_sol                     19377 non-null  float64\n",
      " 56  secondary_cleaner.state.floatbank2_a_air            19219 non-null  float64\n",
      " 57  secondary_cleaner.state.floatbank2_a_level          19438 non-null  float64\n",
      " 58  secondary_cleaner.state.floatbank2_b_air            19416 non-null  float64\n",
      " 59  secondary_cleaner.state.floatbank2_b_level          19438 non-null  float64\n",
      " 60  secondary_cleaner.state.floatbank3_a_air            19426 non-null  float64\n",
      " 61  secondary_cleaner.state.floatbank3_a_level          19438 non-null  float64\n",
      " 62  secondary_cleaner.state.floatbank3_b_air            19438 non-null  float64\n",
      " 63  secondary_cleaner.state.floatbank3_b_level          19438 non-null  float64\n",
      " 64  secondary_cleaner.state.floatbank4_a_air            19433 non-null  float64\n",
      " 65  secondary_cleaner.state.floatbank4_a_level          19438 non-null  float64\n",
      " 66  secondary_cleaner.state.floatbank4_b_air            19438 non-null  float64\n",
      " 67  secondary_cleaner.state.floatbank4_b_level          19438 non-null  float64\n",
      " 68  secondary_cleaner.state.floatbank5_a_air            19438 non-null  float64\n",
      " 69  secondary_cleaner.state.floatbank5_a_level          19438 non-null  float64\n",
      " 70  secondary_cleaner.state.floatbank5_b_air            19438 non-null  float64\n",
      " 71  secondary_cleaner.state.floatbank5_b_level          19438 non-null  float64\n",
      " 72  secondary_cleaner.state.floatbank6_a_air            19437 non-null  float64\n",
      " 73  secondary_cleaner.state.floatbank6_a_level          19438 non-null  float64\n",
      " 74  secondary_cleaner.output.tail_au                    19439 non-null  float64\n",
      " 75  secondary_cleaner.output.tail_ag                    19437 non-null  float64\n",
      " 76  secondary_cleaner.output.tail_pb                    19427 non-null  float64\n",
      " 77  secondary_cleaner.output.tail_sol                   17691 non-null  float64\n",
      " 78  final.output.concentrate_au                         19439 non-null  float64\n",
      " 79  final.output.concentrate_ag                         19438 non-null  float64\n",
      " 80  final.output.concentrate_pb                         19438 non-null  float64\n",
      " 81  final.output.concentrate_sol                        19228 non-null  float64\n",
      " 82  final.output.recovery                               19439 non-null  float64\n",
      " 83  final.output.tail_au                                19439 non-null  float64\n",
      " 84  final.output.tail_ag                                19438 non-null  float64\n",
      " 85  final.output.tail_pb                                19338 non-null  float64\n",
      " 86  final.output.tail_sol                               19433 non-null  float64\n",
      "dtypes: float64(86), object(1)\n",
      "memory usage: 12.9+ MB\n"
     ]
    }
   ],
   "source": [
    "df_all.info()"
   ]
  },
  {
   "cell_type": "code",
   "execution_count": 11,
   "metadata": {},
   "outputs": [
    {
     "data": {
      "text/html": [
       "<div>\n",
       "<style scoped>\n",
       "    .dataframe tbody tr th:only-of-type {\n",
       "        vertical-align: middle;\n",
       "    }\n",
       "\n",
       "    .dataframe tbody tr th {\n",
       "        vertical-align: top;\n",
       "    }\n",
       "\n",
       "    .dataframe thead th {\n",
       "        text-align: right;\n",
       "    }\n",
       "</style>\n",
       "<table border=\"1\" class=\"dataframe\">\n",
       "  <thead>\n",
       "    <tr style=\"text-align: right;\">\n",
       "      <th></th>\n",
       "      <th>rougher.input.feed_au</th>\n",
       "      <th>rougher.input.feed_ag</th>\n",
       "      <th>rougher.input.feed_pb</th>\n",
       "      <th>rougher.input.feed_sol</th>\n",
       "      <th>rougher.input.feed_rate</th>\n",
       "      <th>rougher.input.feed_size</th>\n",
       "      <th>rougher.input.floatbank10_sulfate</th>\n",
       "      <th>rougher.input.floatbank10_xanthate</th>\n",
       "      <th>rougher.state.floatbank10_a_air</th>\n",
       "      <th>rougher.state.floatbank10_a_level</th>\n",
       "      <th>...</th>\n",
       "      <th>secondary_cleaner.output.tail_sol</th>\n",
       "      <th>final.output.concentrate_au</th>\n",
       "      <th>final.output.concentrate_ag</th>\n",
       "      <th>final.output.concentrate_pb</th>\n",
       "      <th>final.output.concentrate_sol</th>\n",
       "      <th>final.output.recovery</th>\n",
       "      <th>final.output.tail_au</th>\n",
       "      <th>final.output.tail_ag</th>\n",
       "      <th>final.output.tail_pb</th>\n",
       "      <th>final.output.tail_sol</th>\n",
       "    </tr>\n",
       "  </thead>\n",
       "  <tbody>\n",
       "    <tr>\n",
       "      <th>count</th>\n",
       "      <td>14579.000000</td>\n",
       "      <td>14579.000000</td>\n",
       "      <td>14507.000000</td>\n",
       "      <td>14502.000000</td>\n",
       "      <td>14572.000000</td>\n",
       "      <td>14478.000000</td>\n",
       "      <td>14548.000000</td>\n",
       "      <td>14572.000000</td>\n",
       "      <td>14579.000000</td>\n",
       "      <td>14579.000000</td>\n",
       "      <td>...</td>\n",
       "      <td>13659.000000</td>\n",
       "      <td>14579.000000</td>\n",
       "      <td>14578.000000</td>\n",
       "      <td>14578.000000</td>\n",
       "      <td>14387.000000</td>\n",
       "      <td>14579.000000</td>\n",
       "      <td>14579.000000</td>\n",
       "      <td>14578.000000</td>\n",
       "      <td>14504.000000</td>\n",
       "      <td>14574.000000</td>\n",
       "    </tr>\n",
       "    <tr>\n",
       "      <th>mean</th>\n",
       "      <td>8.352941</td>\n",
       "      <td>8.877460</td>\n",
       "      <td>3.604221</td>\n",
       "      <td>36.561420</td>\n",
       "      <td>474.332784</td>\n",
       "      <td>58.922712</td>\n",
       "      <td>12.427399</td>\n",
       "      <td>5.994854</td>\n",
       "      <td>1104.208278</td>\n",
       "      <td>-379.367166</td>\n",
       "      <td>...</td>\n",
       "      <td>7.111347</td>\n",
       "      <td>43.979499</td>\n",
       "      <td>5.192145</td>\n",
       "      <td>9.923809</td>\n",
       "      <td>9.566676</td>\n",
       "      <td>66.759066</td>\n",
       "      <td>3.087939</td>\n",
       "      <td>9.731972</td>\n",
       "      <td>2.719985</td>\n",
       "      <td>10.612745</td>\n",
       "    </tr>\n",
       "    <tr>\n",
       "      <th>std</th>\n",
       "      <td>1.934376</td>\n",
       "      <td>1.922536</td>\n",
       "      <td>1.056063</td>\n",
       "      <td>5.209823</td>\n",
       "      <td>108.503552</td>\n",
       "      <td>22.407410</td>\n",
       "      <td>3.428939</td>\n",
       "      <td>1.152873</td>\n",
       "      <td>162.235606</td>\n",
       "      <td>94.652311</td>\n",
       "      <td>...</td>\n",
       "      <td>3.909951</td>\n",
       "      <td>5.471437</td>\n",
       "      <td>1.388014</td>\n",
       "      <td>1.706976</td>\n",
       "      <td>2.805654</td>\n",
       "      <td>10.619709</td>\n",
       "      <td>0.915187</td>\n",
       "      <td>2.358143</td>\n",
       "      <td>0.958929</td>\n",
       "      <td>2.871075</td>\n",
       "    </tr>\n",
       "    <tr>\n",
       "      <th>min</th>\n",
       "      <td>0.010000</td>\n",
       "      <td>0.010000</td>\n",
       "      <td>0.010000</td>\n",
       "      <td>0.010000</td>\n",
       "      <td>0.002986</td>\n",
       "      <td>0.049194</td>\n",
       "      <td>0.001083</td>\n",
       "      <td>0.000568</td>\n",
       "      <td>-0.042069</td>\n",
       "      <td>-657.949759</td>\n",
       "      <td>...</td>\n",
       "      <td>0.000000</td>\n",
       "      <td>0.000000</td>\n",
       "      <td>0.000000</td>\n",
       "      <td>0.000000</td>\n",
       "      <td>0.000000</td>\n",
       "      <td>0.000000</td>\n",
       "      <td>0.000000</td>\n",
       "      <td>0.000000</td>\n",
       "      <td>0.000000</td>\n",
       "      <td>0.000000</td>\n",
       "    </tr>\n",
       "    <tr>\n",
       "      <th>25%</th>\n",
       "      <td>6.932996</td>\n",
       "      <td>7.341922</td>\n",
       "      <td>2.880490</td>\n",
       "      <td>34.093951</td>\n",
       "      <td>411.048483</td>\n",
       "      <td>47.278490</td>\n",
       "      <td>10.002832</td>\n",
       "      <td>5.304167</td>\n",
       "      <td>999.644856</td>\n",
       "      <td>-499.861797</td>\n",
       "      <td>...</td>\n",
       "      <td>3.784897</td>\n",
       "      <td>43.345906</td>\n",
       "      <td>4.283347</td>\n",
       "      <td>9.103183</td>\n",
       "      <td>7.860030</td>\n",
       "      <td>63.114596</td>\n",
       "      <td>2.505287</td>\n",
       "      <td>8.088928</td>\n",
       "      <td>2.036512</td>\n",
       "      <td>9.013412</td>\n",
       "    </tr>\n",
       "    <tr>\n",
       "      <th>50%</th>\n",
       "      <td>8.225284</td>\n",
       "      <td>8.715859</td>\n",
       "      <td>3.532399</td>\n",
       "      <td>37.097511</td>\n",
       "      <td>498.187968</td>\n",
       "      <td>54.361187</td>\n",
       "      <td>12.003320</td>\n",
       "      <td>6.003053</td>\n",
       "      <td>1000.982624</td>\n",
       "      <td>-300.314199</td>\n",
       "      <td>...</td>\n",
       "      <td>7.629968</td>\n",
       "      <td>44.975014</td>\n",
       "      <td>5.118647</td>\n",
       "      <td>10.046455</td>\n",
       "      <td>9.301970</td>\n",
       "      <td>67.962788</td>\n",
       "      <td>3.029238</td>\n",
       "      <td>9.818512</td>\n",
       "      <td>2.774847</td>\n",
       "      <td>10.670515</td>\n",
       "    </tr>\n",
       "    <tr>\n",
       "      <th>75%</th>\n",
       "      <td>9.832210</td>\n",
       "      <td>10.255843</td>\n",
       "      <td>4.257282</td>\n",
       "      <td>39.899799</td>\n",
       "      <td>549.586552</td>\n",
       "      <td>64.464926</td>\n",
       "      <td>14.929903</td>\n",
       "      <td>6.796632</td>\n",
       "      <td>1292.663971</td>\n",
       "      <td>-299.989315</td>\n",
       "      <td>...</td>\n",
       "      <td>10.367050</td>\n",
       "      <td>46.275153</td>\n",
       "      <td>5.925380</td>\n",
       "      <td>10.981203</td>\n",
       "      <td>11.001573</td>\n",
       "      <td>72.598187</td>\n",
       "      <td>3.614098</td>\n",
       "      <td>11.169187</td>\n",
       "      <td>3.353845</td>\n",
       "      <td>12.130827</td>\n",
       "    </tr>\n",
       "    <tr>\n",
       "      <th>max</th>\n",
       "      <td>13.731330</td>\n",
       "      <td>14.596026</td>\n",
       "      <td>7.052325</td>\n",
       "      <td>53.475325</td>\n",
       "      <td>717.508837</td>\n",
       "      <td>484.967466</td>\n",
       "      <td>36.118275</td>\n",
       "      <td>9.703448</td>\n",
       "      <td>1512.299531</td>\n",
       "      <td>-273.776101</td>\n",
       "      <td>...</td>\n",
       "      <td>26.000772</td>\n",
       "      <td>52.756638</td>\n",
       "      <td>16.001945</td>\n",
       "      <td>16.705297</td>\n",
       "      <td>19.423912</td>\n",
       "      <td>100.000000</td>\n",
       "      <td>8.245022</td>\n",
       "      <td>19.552149</td>\n",
       "      <td>5.804178</td>\n",
       "      <td>22.317730</td>\n",
       "    </tr>\n",
       "  </tbody>\n",
       "</table>\n",
       "<p>8 rows × 86 columns</p>\n",
       "</div>"
      ],
      "text/plain": [
       "       rougher.input.feed_au  rougher.input.feed_ag  rougher.input.feed_pb  \\\n",
       "count           14579.000000           14579.000000           14507.000000   \n",
       "mean                8.352941               8.877460               3.604221   \n",
       "std                 1.934376               1.922536               1.056063   \n",
       "min                 0.010000               0.010000               0.010000   \n",
       "25%                 6.932996               7.341922               2.880490   \n",
       "50%                 8.225284               8.715859               3.532399   \n",
       "75%                 9.832210              10.255843               4.257282   \n",
       "max                13.731330              14.596026               7.052325   \n",
       "\n",
       "       rougher.input.feed_sol  rougher.input.feed_rate  \\\n",
       "count            14502.000000             14572.000000   \n",
       "mean                36.561420               474.332784   \n",
       "std                  5.209823               108.503552   \n",
       "min                  0.010000                 0.002986   \n",
       "25%                 34.093951               411.048483   \n",
       "50%                 37.097511               498.187968   \n",
       "75%                 39.899799               549.586552   \n",
       "max                 53.475325               717.508837   \n",
       "\n",
       "       rougher.input.feed_size  rougher.input.floatbank10_sulfate  \\\n",
       "count             14478.000000                       14548.000000   \n",
       "mean                 58.922712                          12.427399   \n",
       "std                  22.407410                           3.428939   \n",
       "min                   0.049194                           0.001083   \n",
       "25%                  47.278490                          10.002832   \n",
       "50%                  54.361187                          12.003320   \n",
       "75%                  64.464926                          14.929903   \n",
       "max                 484.967466                          36.118275   \n",
       "\n",
       "       rougher.input.floatbank10_xanthate  rougher.state.floatbank10_a_air  \\\n",
       "count                        14572.000000                     14579.000000   \n",
       "mean                             5.994854                      1104.208278   \n",
       "std                              1.152873                       162.235606   \n",
       "min                              0.000568                        -0.042069   \n",
       "25%                              5.304167                       999.644856   \n",
       "50%                              6.003053                      1000.982624   \n",
       "75%                              6.796632                      1292.663971   \n",
       "max                              9.703448                      1512.299531   \n",
       "\n",
       "       rougher.state.floatbank10_a_level  ...  \\\n",
       "count                       14579.000000  ...   \n",
       "mean                         -379.367166  ...   \n",
       "std                            94.652311  ...   \n",
       "min                          -657.949759  ...   \n",
       "25%                          -499.861797  ...   \n",
       "50%                          -300.314199  ...   \n",
       "75%                          -299.989315  ...   \n",
       "max                          -273.776101  ...   \n",
       "\n",
       "       secondary_cleaner.output.tail_sol  final.output.concentrate_au  \\\n",
       "count                       13659.000000                 14579.000000   \n",
       "mean                            7.111347                    43.979499   \n",
       "std                             3.909951                     5.471437   \n",
       "min                             0.000000                     0.000000   \n",
       "25%                             3.784897                    43.345906   \n",
       "50%                             7.629968                    44.975014   \n",
       "75%                            10.367050                    46.275153   \n",
       "max                            26.000772                    52.756638   \n",
       "\n",
       "       final.output.concentrate_ag  final.output.concentrate_pb  \\\n",
       "count                 14578.000000                 14578.000000   \n",
       "mean                      5.192145                     9.923809   \n",
       "std                       1.388014                     1.706976   \n",
       "min                       0.000000                     0.000000   \n",
       "25%                       4.283347                     9.103183   \n",
       "50%                       5.118647                    10.046455   \n",
       "75%                       5.925380                    10.981203   \n",
       "max                      16.001945                    16.705297   \n",
       "\n",
       "       final.output.concentrate_sol  final.output.recovery  \\\n",
       "count                  14387.000000           14579.000000   \n",
       "mean                       9.566676              66.759066   \n",
       "std                        2.805654              10.619709   \n",
       "min                        0.000000               0.000000   \n",
       "25%                        7.860030              63.114596   \n",
       "50%                        9.301970              67.962788   \n",
       "75%                       11.001573              72.598187   \n",
       "max                       19.423912             100.000000   \n",
       "\n",
       "       final.output.tail_au  final.output.tail_ag  final.output.tail_pb  \\\n",
       "count          14579.000000          14578.000000          14504.000000   \n",
       "mean               3.087939              9.731972              2.719985   \n",
       "std                0.915187              2.358143              0.958929   \n",
       "min                0.000000              0.000000              0.000000   \n",
       "25%                2.505287              8.088928              2.036512   \n",
       "50%                3.029238              9.818512              2.774847   \n",
       "75%                3.614098             11.169187              3.353845   \n",
       "max                8.245022             19.552149              5.804178   \n",
       "\n",
       "       final.output.tail_sol  \n",
       "count           14574.000000  \n",
       "mean               10.612745  \n",
       "std                 2.871075  \n",
       "min                 0.000000  \n",
       "25%                 9.013412  \n",
       "50%                10.670515  \n",
       "75%                12.130827  \n",
       "max                22.317730  \n",
       "\n",
       "[8 rows x 86 columns]"
      ]
     },
     "execution_count": 11,
     "metadata": {},
     "output_type": "execute_result"
    }
   ],
   "source": [
    "df_train.describe()"
   ]
  },
  {
   "cell_type": "code",
   "execution_count": 12,
   "metadata": {},
   "outputs": [
    {
     "data": {
      "text/html": [
       "<div>\n",
       "<style scoped>\n",
       "    .dataframe tbody tr th:only-of-type {\n",
       "        vertical-align: middle;\n",
       "    }\n",
       "\n",
       "    .dataframe tbody tr th {\n",
       "        vertical-align: top;\n",
       "    }\n",
       "\n",
       "    .dataframe thead th {\n",
       "        text-align: right;\n",
       "    }\n",
       "</style>\n",
       "<table border=\"1\" class=\"dataframe\">\n",
       "  <thead>\n",
       "    <tr style=\"text-align: right;\">\n",
       "      <th></th>\n",
       "      <th>rougher.input.feed_au</th>\n",
       "      <th>rougher.input.feed_ag</th>\n",
       "      <th>rougher.input.feed_pb</th>\n",
       "      <th>rougher.input.feed_sol</th>\n",
       "      <th>rougher.input.feed_rate</th>\n",
       "      <th>rougher.input.feed_size</th>\n",
       "      <th>rougher.input.floatbank10_sulfate</th>\n",
       "      <th>rougher.input.floatbank10_xanthate</th>\n",
       "      <th>rougher.state.floatbank10_a_air</th>\n",
       "      <th>rougher.state.floatbank10_a_level</th>\n",
       "      <th>...</th>\n",
       "      <th>secondary_cleaner.state.floatbank4_a_air</th>\n",
       "      <th>secondary_cleaner.state.floatbank4_a_level</th>\n",
       "      <th>secondary_cleaner.state.floatbank4_b_air</th>\n",
       "      <th>secondary_cleaner.state.floatbank4_b_level</th>\n",
       "      <th>secondary_cleaner.state.floatbank5_a_air</th>\n",
       "      <th>secondary_cleaner.state.floatbank5_a_level</th>\n",
       "      <th>secondary_cleaner.state.floatbank5_b_air</th>\n",
       "      <th>secondary_cleaner.state.floatbank5_b_level</th>\n",
       "      <th>secondary_cleaner.state.floatbank6_a_air</th>\n",
       "      <th>secondary_cleaner.state.floatbank6_a_level</th>\n",
       "    </tr>\n",
       "  </thead>\n",
       "  <tbody>\n",
       "    <tr>\n",
       "      <th>count</th>\n",
       "      <td>4860.000000</td>\n",
       "      <td>4860.000000</td>\n",
       "      <td>4832.000000</td>\n",
       "      <td>4838.000000</td>\n",
       "      <td>4856.000000</td>\n",
       "      <td>4816.000000</td>\n",
       "      <td>4857.000000</td>\n",
       "      <td>4859.000000</td>\n",
       "      <td>4859.000000</td>\n",
       "      <td>4859.000000</td>\n",
       "      <td>...</td>\n",
       "      <td>4.859000e+03</td>\n",
       "      <td>4859.000000</td>\n",
       "      <td>4.859000e+03</td>\n",
       "      <td>4859.000000</td>\n",
       "      <td>4859.000000</td>\n",
       "      <td>4859.000000</td>\n",
       "      <td>4859.000000</td>\n",
       "      <td>4859.000000</td>\n",
       "      <td>4859.000000</td>\n",
       "      <td>4859.000000</td>\n",
       "    </tr>\n",
       "    <tr>\n",
       "      <th>mean</th>\n",
       "      <td>8.005584</td>\n",
       "      <td>8.547348</td>\n",
       "      <td>3.579662</td>\n",
       "      <td>37.095864</td>\n",
       "      <td>490.285103</td>\n",
       "      <td>59.113400</td>\n",
       "      <td>12.055735</td>\n",
       "      <td>6.101308</td>\n",
       "      <td>1108.635895</td>\n",
       "      <td>-368.340127</td>\n",
       "      <td>...</td>\n",
       "      <td>1.985770e+01</td>\n",
       "      <td>-488.665140</td>\n",
       "      <td>1.557025e+01</td>\n",
       "      <td>-464.176507</td>\n",
       "      <td>16.594103</td>\n",
       "      <td>-490.815250</td>\n",
       "      <td>12.945971</td>\n",
       "      <td>-489.583564</td>\n",
       "      <td>19.053888</td>\n",
       "      <td>-504.678924</td>\n",
       "    </tr>\n",
       "    <tr>\n",
       "      <th>std</th>\n",
       "      <td>1.993590</td>\n",
       "      <td>1.958601</td>\n",
       "      <td>1.029377</td>\n",
       "      <td>4.926284</td>\n",
       "      <td>94.371623</td>\n",
       "      <td>19.125122</td>\n",
       "      <td>3.407642</td>\n",
       "      <td>1.042754</td>\n",
       "      <td>156.493143</td>\n",
       "      <td>91.155929</td>\n",
       "      <td>...</td>\n",
       "      <td>5.913105e+00</td>\n",
       "      <td>44.392714</td>\n",
       "      <td>4.927361e+00</td>\n",
       "      <td>65.706994</td>\n",
       "      <td>5.724305</td>\n",
       "      <td>32.258443</td>\n",
       "      <td>5.533176</td>\n",
       "      <td>37.084609</td>\n",
       "      <td>5.548996</td>\n",
       "      <td>38.690186</td>\n",
       "    </tr>\n",
       "    <tr>\n",
       "      <th>min</th>\n",
       "      <td>0.010000</td>\n",
       "      <td>0.010000</td>\n",
       "      <td>0.010000</td>\n",
       "      <td>0.010000</td>\n",
       "      <td>0.012786</td>\n",
       "      <td>0.046369</td>\n",
       "      <td>0.018907</td>\n",
       "      <td>0.015783</td>\n",
       "      <td>300.792494</td>\n",
       "      <td>-600.568138</td>\n",
       "      <td>...</td>\n",
       "      <td>1.079872e-16</td>\n",
       "      <td>-799.704969</td>\n",
       "      <td>2.489718e-17</td>\n",
       "      <td>-799.860767</td>\n",
       "      <td>-0.371498</td>\n",
       "      <td>-797.142475</td>\n",
       "      <td>1.358469</td>\n",
       "      <td>-800.006180</td>\n",
       "      <td>0.160386</td>\n",
       "      <td>-809.734800</td>\n",
       "    </tr>\n",
       "    <tr>\n",
       "      <th>25%</th>\n",
       "      <td>6.574363</td>\n",
       "      <td>6.975898</td>\n",
       "      <td>2.903612</td>\n",
       "      <td>34.510841</td>\n",
       "      <td>434.099695</td>\n",
       "      <td>47.596984</td>\n",
       "      <td>9.890429</td>\n",
       "      <td>5.499808</td>\n",
       "      <td>999.715729</td>\n",
       "      <td>-499.731972</td>\n",
       "      <td>...</td>\n",
       "      <td>1.501123e+01</td>\n",
       "      <td>-500.704004</td>\n",
       "      <td>1.202172e+01</td>\n",
       "      <td>-500.196517</td>\n",
       "      <td>11.073822</td>\n",
       "      <td>-500.483564</td>\n",
       "      <td>9.011890</td>\n",
       "      <td>-500.129913</td>\n",
       "      <td>14.963953</td>\n",
       "      <td>-500.668501</td>\n",
       "    </tr>\n",
       "    <tr>\n",
       "      <th>50%</th>\n",
       "      <td>7.812923</td>\n",
       "      <td>8.179714</td>\n",
       "      <td>3.540772</td>\n",
       "      <td>37.499761</td>\n",
       "      <td>502.118742</td>\n",
       "      <td>55.509481</td>\n",
       "      <td>11.997859</td>\n",
       "      <td>6.099805</td>\n",
       "      <td>1001.414798</td>\n",
       "      <td>-300.181367</td>\n",
       "      <td>...</td>\n",
       "      <td>1.996807e+01</td>\n",
       "      <td>-499.892919</td>\n",
       "      <td>1.501240e+01</td>\n",
       "      <td>-499.540776</td>\n",
       "      <td>16.631195</td>\n",
       "      <td>-499.873136</td>\n",
       "      <td>11.999417</td>\n",
       "      <td>-499.955304</td>\n",
       "      <td>19.960006</td>\n",
       "      <td>-500.033769</td>\n",
       "    </tr>\n",
       "    <tr>\n",
       "      <th>75%</th>\n",
       "      <td>9.556589</td>\n",
       "      <td>10.084339</td>\n",
       "      <td>4.199847</td>\n",
       "      <td>40.461315</td>\n",
       "      <td>555.596563</td>\n",
       "      <td>66.661547</td>\n",
       "      <td>14.496072</td>\n",
       "      <td>6.802101</td>\n",
       "      <td>1202.837565</td>\n",
       "      <td>-299.961547</td>\n",
       "      <td>...</td>\n",
       "      <td>2.498900e+01</td>\n",
       "      <td>-498.652030</td>\n",
       "      <td>1.999949e+01</td>\n",
       "      <td>-400.302329</td>\n",
       "      <td>19.983191</td>\n",
       "      <td>-498.852815</td>\n",
       "      <td>15.004198</td>\n",
       "      <td>-499.643776</td>\n",
       "      <td>24.974583</td>\n",
       "      <td>-499.460134</td>\n",
       "    </tr>\n",
       "    <tr>\n",
       "      <th>max</th>\n",
       "      <td>13.417156</td>\n",
       "      <td>14.533698</td>\n",
       "      <td>7.142594</td>\n",
       "      <td>53.477742</td>\n",
       "      <td>702.523396</td>\n",
       "      <td>363.989699</td>\n",
       "      <td>30.010759</td>\n",
       "      <td>9.396928</td>\n",
       "      <td>1521.980372</td>\n",
       "      <td>-281.039299</td>\n",
       "      <td>...</td>\n",
       "      <td>3.008450e+01</td>\n",
       "      <td>-383.373053</td>\n",
       "      <td>2.398898e+01</td>\n",
       "      <td>-114.250832</td>\n",
       "      <td>33.215996</td>\n",
       "      <td>-288.963521</td>\n",
       "      <td>24.177106</td>\n",
       "      <td>-141.934397</td>\n",
       "      <td>32.028529</td>\n",
       "      <td>-104.427459</td>\n",
       "    </tr>\n",
       "  </tbody>\n",
       "</table>\n",
       "<p>8 rows × 52 columns</p>\n",
       "</div>"
      ],
      "text/plain": [
       "       rougher.input.feed_au  rougher.input.feed_ag  rougher.input.feed_pb  \\\n",
       "count            4860.000000            4860.000000            4832.000000   \n",
       "mean                8.005584               8.547348               3.579662   \n",
       "std                 1.993590               1.958601               1.029377   \n",
       "min                 0.010000               0.010000               0.010000   \n",
       "25%                 6.574363               6.975898               2.903612   \n",
       "50%                 7.812923               8.179714               3.540772   \n",
       "75%                 9.556589              10.084339               4.199847   \n",
       "max                13.417156              14.533698               7.142594   \n",
       "\n",
       "       rougher.input.feed_sol  rougher.input.feed_rate  \\\n",
       "count             4838.000000              4856.000000   \n",
       "mean                37.095864               490.285103   \n",
       "std                  4.926284                94.371623   \n",
       "min                  0.010000                 0.012786   \n",
       "25%                 34.510841               434.099695   \n",
       "50%                 37.499761               502.118742   \n",
       "75%                 40.461315               555.596563   \n",
       "max                 53.477742               702.523396   \n",
       "\n",
       "       rougher.input.feed_size  rougher.input.floatbank10_sulfate  \\\n",
       "count              4816.000000                        4857.000000   \n",
       "mean                 59.113400                          12.055735   \n",
       "std                  19.125122                           3.407642   \n",
       "min                   0.046369                           0.018907   \n",
       "25%                  47.596984                           9.890429   \n",
       "50%                  55.509481                          11.997859   \n",
       "75%                  66.661547                          14.496072   \n",
       "max                 363.989699                          30.010759   \n",
       "\n",
       "       rougher.input.floatbank10_xanthate  rougher.state.floatbank10_a_air  \\\n",
       "count                         4859.000000                      4859.000000   \n",
       "mean                             6.101308                      1108.635895   \n",
       "std                              1.042754                       156.493143   \n",
       "min                              0.015783                       300.792494   \n",
       "25%                              5.499808                       999.715729   \n",
       "50%                              6.099805                      1001.414798   \n",
       "75%                              6.802101                      1202.837565   \n",
       "max                              9.396928                      1521.980372   \n",
       "\n",
       "       rougher.state.floatbank10_a_level  ...  \\\n",
       "count                        4859.000000  ...   \n",
       "mean                         -368.340127  ...   \n",
       "std                            91.155929  ...   \n",
       "min                          -600.568138  ...   \n",
       "25%                          -499.731972  ...   \n",
       "50%                          -300.181367  ...   \n",
       "75%                          -299.961547  ...   \n",
       "max                          -281.039299  ...   \n",
       "\n",
       "       secondary_cleaner.state.floatbank4_a_air  \\\n",
       "count                              4.859000e+03   \n",
       "mean                               1.985770e+01   \n",
       "std                                5.913105e+00   \n",
       "min                                1.079872e-16   \n",
       "25%                                1.501123e+01   \n",
       "50%                                1.996807e+01   \n",
       "75%                                2.498900e+01   \n",
       "max                                3.008450e+01   \n",
       "\n",
       "       secondary_cleaner.state.floatbank4_a_level  \\\n",
       "count                                 4859.000000   \n",
       "mean                                  -488.665140   \n",
       "std                                     44.392714   \n",
       "min                                   -799.704969   \n",
       "25%                                   -500.704004   \n",
       "50%                                   -499.892919   \n",
       "75%                                   -498.652030   \n",
       "max                                   -383.373053   \n",
       "\n",
       "       secondary_cleaner.state.floatbank4_b_air  \\\n",
       "count                              4.859000e+03   \n",
       "mean                               1.557025e+01   \n",
       "std                                4.927361e+00   \n",
       "min                                2.489718e-17   \n",
       "25%                                1.202172e+01   \n",
       "50%                                1.501240e+01   \n",
       "75%                                1.999949e+01   \n",
       "max                                2.398898e+01   \n",
       "\n",
       "       secondary_cleaner.state.floatbank4_b_level  \\\n",
       "count                                 4859.000000   \n",
       "mean                                  -464.176507   \n",
       "std                                     65.706994   \n",
       "min                                   -799.860767   \n",
       "25%                                   -500.196517   \n",
       "50%                                   -499.540776   \n",
       "75%                                   -400.302329   \n",
       "max                                   -114.250832   \n",
       "\n",
       "       secondary_cleaner.state.floatbank5_a_air  \\\n",
       "count                               4859.000000   \n",
       "mean                                  16.594103   \n",
       "std                                    5.724305   \n",
       "min                                   -0.371498   \n",
       "25%                                   11.073822   \n",
       "50%                                   16.631195   \n",
       "75%                                   19.983191   \n",
       "max                                   33.215996   \n",
       "\n",
       "       secondary_cleaner.state.floatbank5_a_level  \\\n",
       "count                                 4859.000000   \n",
       "mean                                  -490.815250   \n",
       "std                                     32.258443   \n",
       "min                                   -797.142475   \n",
       "25%                                   -500.483564   \n",
       "50%                                   -499.873136   \n",
       "75%                                   -498.852815   \n",
       "max                                   -288.963521   \n",
       "\n",
       "       secondary_cleaner.state.floatbank5_b_air  \\\n",
       "count                               4859.000000   \n",
       "mean                                  12.945971   \n",
       "std                                    5.533176   \n",
       "min                                    1.358469   \n",
       "25%                                    9.011890   \n",
       "50%                                   11.999417   \n",
       "75%                                   15.004198   \n",
       "max                                   24.177106   \n",
       "\n",
       "       secondary_cleaner.state.floatbank5_b_level  \\\n",
       "count                                 4859.000000   \n",
       "mean                                  -489.583564   \n",
       "std                                     37.084609   \n",
       "min                                   -800.006180   \n",
       "25%                                   -500.129913   \n",
       "50%                                   -499.955304   \n",
       "75%                                   -499.643776   \n",
       "max                                   -141.934397   \n",
       "\n",
       "       secondary_cleaner.state.floatbank6_a_air  \\\n",
       "count                               4859.000000   \n",
       "mean                                  19.053888   \n",
       "std                                    5.548996   \n",
       "min                                    0.160386   \n",
       "25%                                   14.963953   \n",
       "50%                                   19.960006   \n",
       "75%                                   24.974583   \n",
       "max                                   32.028529   \n",
       "\n",
       "       secondary_cleaner.state.floatbank6_a_level  \n",
       "count                                 4859.000000  \n",
       "mean                                  -504.678924  \n",
       "std                                     38.690186  \n",
       "min                                   -809.734800  \n",
       "25%                                   -500.668501  \n",
       "50%                                   -500.033769  \n",
       "75%                                   -499.460134  \n",
       "max                                   -104.427459  \n",
       "\n",
       "[8 rows x 52 columns]"
      ]
     },
     "execution_count": 12,
     "metadata": {},
     "output_type": "execute_result"
    }
   ],
   "source": [
    "df_test.describe()"
   ]
  },
  {
   "cell_type": "code",
   "execution_count": 13,
   "metadata": {},
   "outputs": [
    {
     "data": {
      "text/html": [
       "<div>\n",
       "<style scoped>\n",
       "    .dataframe tbody tr th:only-of-type {\n",
       "        vertical-align: middle;\n",
       "    }\n",
       "\n",
       "    .dataframe tbody tr th {\n",
       "        vertical-align: top;\n",
       "    }\n",
       "\n",
       "    .dataframe thead th {\n",
       "        text-align: right;\n",
       "    }\n",
       "</style>\n",
       "<table border=\"1\" class=\"dataframe\">\n",
       "  <thead>\n",
       "    <tr style=\"text-align: right;\">\n",
       "      <th></th>\n",
       "      <th>rougher.input.feed_au</th>\n",
       "      <th>rougher.input.feed_ag</th>\n",
       "      <th>rougher.input.feed_pb</th>\n",
       "      <th>rougher.input.feed_sol</th>\n",
       "      <th>rougher.input.feed_rate</th>\n",
       "      <th>rougher.input.feed_size</th>\n",
       "      <th>rougher.input.floatbank10_sulfate</th>\n",
       "      <th>rougher.input.floatbank10_xanthate</th>\n",
       "      <th>rougher.state.floatbank10_a_air</th>\n",
       "      <th>rougher.state.floatbank10_a_level</th>\n",
       "      <th>...</th>\n",
       "      <th>secondary_cleaner.output.tail_sol</th>\n",
       "      <th>final.output.concentrate_au</th>\n",
       "      <th>final.output.concentrate_ag</th>\n",
       "      <th>final.output.concentrate_pb</th>\n",
       "      <th>final.output.concentrate_sol</th>\n",
       "      <th>final.output.recovery</th>\n",
       "      <th>final.output.tail_au</th>\n",
       "      <th>final.output.tail_ag</th>\n",
       "      <th>final.output.tail_pb</th>\n",
       "      <th>final.output.tail_sol</th>\n",
       "    </tr>\n",
       "  </thead>\n",
       "  <tbody>\n",
       "    <tr>\n",
       "      <th>count</th>\n",
       "      <td>19439.000000</td>\n",
       "      <td>19439.000000</td>\n",
       "      <td>19339.000000</td>\n",
       "      <td>19340.000000</td>\n",
       "      <td>19428.000000</td>\n",
       "      <td>19294.000000</td>\n",
       "      <td>19405.000000</td>\n",
       "      <td>19431.000000</td>\n",
       "      <td>19438.000000</td>\n",
       "      <td>19438.000000</td>\n",
       "      <td>...</td>\n",
       "      <td>17691.000000</td>\n",
       "      <td>19439.000000</td>\n",
       "      <td>19438.000000</td>\n",
       "      <td>19438.000000</td>\n",
       "      <td>19228.000000</td>\n",
       "      <td>19439.000000</td>\n",
       "      <td>19439.000000</td>\n",
       "      <td>19438.000000</td>\n",
       "      <td>19338.000000</td>\n",
       "      <td>19433.000000</td>\n",
       "    </tr>\n",
       "    <tr>\n",
       "      <th>mean</th>\n",
       "      <td>8.266097</td>\n",
       "      <td>8.794927</td>\n",
       "      <td>3.598085</td>\n",
       "      <td>36.695114</td>\n",
       "      <td>478.320042</td>\n",
       "      <td>58.970310</td>\n",
       "      <td>12.334373</td>\n",
       "      <td>6.021474</td>\n",
       "      <td>1105.315068</td>\n",
       "      <td>-376.610690</td>\n",
       "      <td>...</td>\n",
       "      <td>7.167247</td>\n",
       "      <td>44.076513</td>\n",
       "      <td>5.168470</td>\n",
       "      <td>9.978895</td>\n",
       "      <td>9.501224</td>\n",
       "      <td>67.050208</td>\n",
       "      <td>3.042467</td>\n",
       "      <td>9.688589</td>\n",
       "      <td>2.705795</td>\n",
       "      <td>10.583728</td>\n",
       "    </tr>\n",
       "    <tr>\n",
       "      <th>std</th>\n",
       "      <td>1.955092</td>\n",
       "      <td>1.936847</td>\n",
       "      <td>1.049486</td>\n",
       "      <td>5.145445</td>\n",
       "      <td>105.373758</td>\n",
       "      <td>21.634478</td>\n",
       "      <td>3.427317</td>\n",
       "      <td>1.127263</td>\n",
       "      <td>160.826798</td>\n",
       "      <td>93.909667</td>\n",
       "      <td>...</td>\n",
       "      <td>3.916079</td>\n",
       "      <td>5.129784</td>\n",
       "      <td>1.372348</td>\n",
       "      <td>1.669240</td>\n",
       "      <td>2.787537</td>\n",
       "      <td>10.125840</td>\n",
       "      <td>0.922808</td>\n",
       "      <td>2.328642</td>\n",
       "      <td>0.949077</td>\n",
       "      <td>2.868782</td>\n",
       "    </tr>\n",
       "    <tr>\n",
       "      <th>min</th>\n",
       "      <td>0.010000</td>\n",
       "      <td>0.010000</td>\n",
       "      <td>0.010000</td>\n",
       "      <td>0.010000</td>\n",
       "      <td>0.002986</td>\n",
       "      <td>0.046369</td>\n",
       "      <td>0.001083</td>\n",
       "      <td>0.000568</td>\n",
       "      <td>-0.042069</td>\n",
       "      <td>-657.949759</td>\n",
       "      <td>...</td>\n",
       "      <td>0.000000</td>\n",
       "      <td>0.000000</td>\n",
       "      <td>0.000000</td>\n",
       "      <td>0.000000</td>\n",
       "      <td>0.000000</td>\n",
       "      <td>0.000000</td>\n",
       "      <td>0.000000</td>\n",
       "      <td>0.000000</td>\n",
       "      <td>0.000000</td>\n",
       "      <td>0.000000</td>\n",
       "    </tr>\n",
       "    <tr>\n",
       "      <th>25%</th>\n",
       "      <td>6.854384</td>\n",
       "      <td>7.237967</td>\n",
       "      <td>2.887280</td>\n",
       "      <td>34.207799</td>\n",
       "      <td>416.525453</td>\n",
       "      <td>47.435103</td>\n",
       "      <td>10.000362</td>\n",
       "      <td>5.398678</td>\n",
       "      <td>999.661867</td>\n",
       "      <td>-499.835165</td>\n",
       "      <td>...</td>\n",
       "      <td>3.845475</td>\n",
       "      <td>43.402215</td>\n",
       "      <td>4.251240</td>\n",
       "      <td>9.137262</td>\n",
       "      <td>7.722820</td>\n",
       "      <td>63.299712</td>\n",
       "      <td>2.461138</td>\n",
       "      <td>8.062878</td>\n",
       "      <td>2.040119</td>\n",
       "      <td>8.938947</td>\n",
       "    </tr>\n",
       "    <tr>\n",
       "      <th>50%</th>\n",
       "      <td>8.125839</td>\n",
       "      <td>8.593574</td>\n",
       "      <td>3.534895</td>\n",
       "      <td>37.202650</td>\n",
       "      <td>499.416120</td>\n",
       "      <td>54.610197</td>\n",
       "      <td>12.001174</td>\n",
       "      <td>6.008273</td>\n",
       "      <td>1001.072890</td>\n",
       "      <td>-300.263994</td>\n",
       "      <td>...</td>\n",
       "      <td>7.685827</td>\n",
       "      <td>45.011244</td>\n",
       "      <td>5.066094</td>\n",
       "      <td>10.102433</td>\n",
       "      <td>9.218961</td>\n",
       "      <td>68.172738</td>\n",
       "      <td>2.984909</td>\n",
       "      <td>9.743623</td>\n",
       "      <td>2.748730</td>\n",
       "      <td>10.622456</td>\n",
       "    </tr>\n",
       "    <tr>\n",
       "      <th>75%</th>\n",
       "      <td>9.769917</td>\n",
       "      <td>10.213771</td>\n",
       "      <td>4.244161</td>\n",
       "      <td>40.039133</td>\n",
       "      <td>550.172183</td>\n",
       "      <td>65.023044</td>\n",
       "      <td>14.716595</td>\n",
       "      <td>6.798051</td>\n",
       "      <td>1205.620588</td>\n",
       "      <td>-299.981998</td>\n",
       "      <td>...</td>\n",
       "      <td>10.411296</td>\n",
       "      <td>46.275313</td>\n",
       "      <td>5.895527</td>\n",
       "      <td>11.035769</td>\n",
       "      <td>10.947813</td>\n",
       "      <td>72.686642</td>\n",
       "      <td>3.571351</td>\n",
       "      <td>11.134294</td>\n",
       "      <td>3.333216</td>\n",
       "      <td>12.104271</td>\n",
       "    </tr>\n",
       "    <tr>\n",
       "      <th>max</th>\n",
       "      <td>13.731330</td>\n",
       "      <td>14.596026</td>\n",
       "      <td>7.142594</td>\n",
       "      <td>53.477742</td>\n",
       "      <td>717.508837</td>\n",
       "      <td>484.967466</td>\n",
       "      <td>36.118275</td>\n",
       "      <td>9.703448</td>\n",
       "      <td>1521.980372</td>\n",
       "      <td>-273.776101</td>\n",
       "      <td>...</td>\n",
       "      <td>26.000772</td>\n",
       "      <td>52.756638</td>\n",
       "      <td>16.001945</td>\n",
       "      <td>17.031899</td>\n",
       "      <td>19.615720</td>\n",
       "      <td>100.000000</td>\n",
       "      <td>8.245022</td>\n",
       "      <td>19.552149</td>\n",
       "      <td>5.804178</td>\n",
       "      <td>22.317730</td>\n",
       "    </tr>\n",
       "  </tbody>\n",
       "</table>\n",
       "<p>8 rows × 86 columns</p>\n",
       "</div>"
      ],
      "text/plain": [
       "       rougher.input.feed_au  rougher.input.feed_ag  rougher.input.feed_pb  \\\n",
       "count           19439.000000           19439.000000           19339.000000   \n",
       "mean                8.266097               8.794927               3.598085   \n",
       "std                 1.955092               1.936847               1.049486   \n",
       "min                 0.010000               0.010000               0.010000   \n",
       "25%                 6.854384               7.237967               2.887280   \n",
       "50%                 8.125839               8.593574               3.534895   \n",
       "75%                 9.769917              10.213771               4.244161   \n",
       "max                13.731330              14.596026               7.142594   \n",
       "\n",
       "       rougher.input.feed_sol  rougher.input.feed_rate  \\\n",
       "count            19340.000000             19428.000000   \n",
       "mean                36.695114               478.320042   \n",
       "std                  5.145445               105.373758   \n",
       "min                  0.010000                 0.002986   \n",
       "25%                 34.207799               416.525453   \n",
       "50%                 37.202650               499.416120   \n",
       "75%                 40.039133               550.172183   \n",
       "max                 53.477742               717.508837   \n",
       "\n",
       "       rougher.input.feed_size  rougher.input.floatbank10_sulfate  \\\n",
       "count             19294.000000                       19405.000000   \n",
       "mean                 58.970310                          12.334373   \n",
       "std                  21.634478                           3.427317   \n",
       "min                   0.046369                           0.001083   \n",
       "25%                  47.435103                          10.000362   \n",
       "50%                  54.610197                          12.001174   \n",
       "75%                  65.023044                          14.716595   \n",
       "max                 484.967466                          36.118275   \n",
       "\n",
       "       rougher.input.floatbank10_xanthate  rougher.state.floatbank10_a_air  \\\n",
       "count                        19431.000000                     19438.000000   \n",
       "mean                             6.021474                      1105.315068   \n",
       "std                              1.127263                       160.826798   \n",
       "min                              0.000568                        -0.042069   \n",
       "25%                              5.398678                       999.661867   \n",
       "50%                              6.008273                      1001.072890   \n",
       "75%                              6.798051                      1205.620588   \n",
       "max                              9.703448                      1521.980372   \n",
       "\n",
       "       rougher.state.floatbank10_a_level  ...  \\\n",
       "count                       19438.000000  ...   \n",
       "mean                         -376.610690  ...   \n",
       "std                            93.909667  ...   \n",
       "min                          -657.949759  ...   \n",
       "25%                          -499.835165  ...   \n",
       "50%                          -300.263994  ...   \n",
       "75%                          -299.981998  ...   \n",
       "max                          -273.776101  ...   \n",
       "\n",
       "       secondary_cleaner.output.tail_sol  final.output.concentrate_au  \\\n",
       "count                       17691.000000                 19439.000000   \n",
       "mean                            7.167247                    44.076513   \n",
       "std                             3.916079                     5.129784   \n",
       "min                             0.000000                     0.000000   \n",
       "25%                             3.845475                    43.402215   \n",
       "50%                             7.685827                    45.011244   \n",
       "75%                            10.411296                    46.275313   \n",
       "max                            26.000772                    52.756638   \n",
       "\n",
       "       final.output.concentrate_ag  final.output.concentrate_pb  \\\n",
       "count                 19438.000000                 19438.000000   \n",
       "mean                      5.168470                     9.978895   \n",
       "std                       1.372348                     1.669240   \n",
       "min                       0.000000                     0.000000   \n",
       "25%                       4.251240                     9.137262   \n",
       "50%                       5.066094                    10.102433   \n",
       "75%                       5.895527                    11.035769   \n",
       "max                      16.001945                    17.031899   \n",
       "\n",
       "       final.output.concentrate_sol  final.output.recovery  \\\n",
       "count                  19228.000000           19439.000000   \n",
       "mean                       9.501224              67.050208   \n",
       "std                        2.787537              10.125840   \n",
       "min                        0.000000               0.000000   \n",
       "25%                        7.722820              63.299712   \n",
       "50%                        9.218961              68.172738   \n",
       "75%                       10.947813              72.686642   \n",
       "max                       19.615720             100.000000   \n",
       "\n",
       "       final.output.tail_au  final.output.tail_ag  final.output.tail_pb  \\\n",
       "count          19439.000000          19438.000000          19338.000000   \n",
       "mean               3.042467              9.688589              2.705795   \n",
       "std                0.922808              2.328642              0.949077   \n",
       "min                0.000000              0.000000              0.000000   \n",
       "25%                2.461138              8.062878              2.040119   \n",
       "50%                2.984909              9.743623              2.748730   \n",
       "75%                3.571351             11.134294              3.333216   \n",
       "max                8.245022             19.552149              5.804178   \n",
       "\n",
       "       final.output.tail_sol  \n",
       "count           19433.000000  \n",
       "mean               10.583728  \n",
       "std                 2.868782  \n",
       "min                 0.000000  \n",
       "25%                 8.938947  \n",
       "50%                10.622456  \n",
       "75%                12.104271  \n",
       "max                22.317730  \n",
       "\n",
       "[8 rows x 86 columns]"
      ]
     },
     "execution_count": 13,
     "metadata": {},
     "output_type": "execute_result"
    }
   ],
   "source": [
    "df_all.describe()"
   ]
  },
  {
   "cell_type": "markdown",
   "metadata": {},
   "source": [
    "Let's evaluate which columns are missing in df_test"
   ]
  },
  {
   "cell_type": "code",
   "execution_count": 14,
   "metadata": {},
   "outputs": [],
   "source": [
    "train_columns = df_train.columns.values.tolist()\n",
    "test_columns = df_test.columns.values.tolist()"
   ]
  },
  {
   "cell_type": "code",
   "execution_count": 15,
   "metadata": {},
   "outputs": [],
   "source": [
    "diff = [x for x in train_columns if x not in test_columns]"
   ]
  },
  {
   "cell_type": "code",
   "execution_count": 16,
   "metadata": {},
   "outputs": [
    {
     "data": {
      "text/plain": [
       "34"
      ]
     },
     "execution_count": 16,
     "metadata": {},
     "output_type": "execute_result"
    }
   ],
   "source": [
    "len(diff)"
   ]
  },
  {
   "cell_type": "code",
   "execution_count": 17,
   "metadata": {
    "scrolled": true
   },
   "outputs": [
    {
     "data": {
      "text/plain": [
       "['rougher.calculation.sulfate_to_au_concentrate',\n",
       " 'rougher.calculation.floatbank10_sulfate_to_au_feed',\n",
       " 'rougher.calculation.floatbank11_sulfate_to_au_feed',\n",
       " 'rougher.calculation.au_pb_ratio',\n",
       " 'rougher.output.concentrate_au',\n",
       " 'rougher.output.concentrate_ag',\n",
       " 'rougher.output.concentrate_pb',\n",
       " 'rougher.output.concentrate_sol',\n",
       " 'rougher.output.recovery',\n",
       " 'rougher.output.tail_au',\n",
       " 'rougher.output.tail_ag',\n",
       " 'rougher.output.tail_pb',\n",
       " 'rougher.output.tail_sol',\n",
       " 'primary_cleaner.output.concentrate_au',\n",
       " 'primary_cleaner.output.concentrate_ag',\n",
       " 'primary_cleaner.output.concentrate_pb',\n",
       " 'primary_cleaner.output.concentrate_sol',\n",
       " 'primary_cleaner.output.tail_au',\n",
       " 'primary_cleaner.output.tail_ag',\n",
       " 'primary_cleaner.output.tail_pb',\n",
       " 'primary_cleaner.output.tail_sol',\n",
       " 'secondary_cleaner.output.tail_au',\n",
       " 'secondary_cleaner.output.tail_ag',\n",
       " 'secondary_cleaner.output.tail_pb',\n",
       " 'secondary_cleaner.output.tail_sol',\n",
       " 'final.output.concentrate_au',\n",
       " 'final.output.concentrate_ag',\n",
       " 'final.output.concentrate_pb',\n",
       " 'final.output.concentrate_sol',\n",
       " 'final.output.recovery',\n",
       " 'final.output.tail_au',\n",
       " 'final.output.tail_ag',\n",
       " 'final.output.tail_pb',\n",
       " 'final.output.tail_sol']"
      ]
     },
     "execution_count": 17,
     "metadata": {},
     "output_type": "execute_result"
    }
   ],
   "source": [
    "diff"
   ]
  },
  {
   "cell_type": "markdown",
   "metadata": {},
   "source": [
    "Conclusion after reading the data. In the test sample from the client, unlike the training sample, there are 34 columns missing. Since all these columns are the final values ​​with the concentrations of substances after flotation or purification, as well as the saturation coefficient, we can conclude that these are exactly the features that are not needed for training the model."
   ]
  },
  {
   "cell_type": "markdown",
   "metadata": {},
   "source": [
    "Сalculate recovery in the training set, make sure that it is calculated correctly using the MAE metric"
   ]
  },
  {
   "cell_type": "code",
   "execution_count": 18,
   "metadata": {},
   "outputs": [],
   "source": [
    "df_train['recovry_rougher_my'] = (df_train['rougher.output.concentrate_au']*(\n",
    "    df_train['rougher.input.feed_au'] - df_train['rougher.output.tail_au']))/(\n",
    "    df_train['rougher.input.feed_au']*(\n",
    "        df_train['rougher.output.concentrate_au'] - df_train['rougher.output.tail_au']))*100"
   ]
  },
  {
   "cell_type": "code",
   "execution_count": 19,
   "metadata": {},
   "outputs": [],
   "source": [
    "df_train['recovry_final_my'] = df_train['final.output.concentrate_au']*(\n",
    "    df_train['rougher.input.feed_au'] - df_train['final.output.tail_au'])/(\n",
    "    df_train['rougher.input.feed_au']*(\n",
    "        df_train['final.output.concentrate_au'] - df_train['final.output.tail_au']))*100"
   ]
  },
  {
   "cell_type": "code",
   "execution_count": 20,
   "metadata": {
    "scrolled": true
   },
   "outputs": [
    {
     "data": {
      "text/plain": [
       "(0        87.107763\n",
       " 1        86.843261\n",
       " 2        86.842308\n",
       " 3        87.226430\n",
       " 4        86.688794\n",
       "            ...    \n",
       " 14574    87.684717\n",
       " 14575    90.677361\n",
       " 14576    89.574376\n",
       " 14577    87.724007\n",
       " 14578    88.890579\n",
       " Name: recovry_rougher_my, Length: 14579, dtype: float64,\n",
       " 0        87.107763\n",
       " 1        86.843261\n",
       " 2        86.842308\n",
       " 3        87.226430\n",
       " 4        86.688794\n",
       "            ...    \n",
       " 14574    87.684717\n",
       " 14575    90.677361\n",
       " 14576    89.574376\n",
       " 14577    87.724007\n",
       " 14578    88.890579\n",
       " Name: rougher.output.recovery, Length: 14579, dtype: float64)"
      ]
     },
     "execution_count": 20,
     "metadata": {},
     "output_type": "execute_result"
    }
   ],
   "source": [
    "#Let's take a look at the tables after the calculation\n",
    "df_train['recovry_rougher_my'], df_train['rougher.output.recovery']"
   ]
  },
  {
   "cell_type": "code",
   "execution_count": 21,
   "metadata": {
    "scrolled": true
   },
   "outputs": [
    {
     "data": {
      "text/plain": [
       "(0        70.541216\n",
       " 1        69.266198\n",
       " 2        68.116445\n",
       " 3        68.347543\n",
       " 4        66.927016\n",
       "            ...    \n",
       " 14574    64.054699\n",
       " 14575    68.643324\n",
       " 14576    73.755150\n",
       " 14577    69.049291\n",
       " 14578    67.002189\n",
       " Name: recovry_final_my, Length: 14579, dtype: float64,\n",
       " 0        70.541216\n",
       " 1        69.266198\n",
       " 2        68.116445\n",
       " 3        68.347543\n",
       " 4        66.927016\n",
       "            ...    \n",
       " 14574    64.054699\n",
       " 14575    68.643324\n",
       " 14576    73.755150\n",
       " 14577    69.049291\n",
       " 14578    67.002189\n",
       " Name: final.output.recovery, Length: 14579, dtype: float64)"
      ]
     },
     "execution_count": 21,
     "metadata": {},
     "output_type": "execute_result"
    }
   ],
   "source": [
    "df_train['recovry_final_my'], df_train['final.output.recovery']"
   ]
  },
  {
   "cell_type": "code",
   "execution_count": 22,
   "metadata": {},
   "outputs": [
    {
     "data": {
      "text/plain": [
       "9.83758577644259e-15"
      ]
     },
     "execution_count": 22,
     "metadata": {},
     "output_type": "execute_result"
    }
   ],
   "source": [
    "mae_recovery = mean_absolute_error(df_train['rougher.output.recovery'], df_train['recovry_rougher_my'])\n",
    "mae_recovery"
   ]
  },
  {
   "cell_type": "code",
   "execution_count": 23,
   "metadata": {},
   "outputs": [
    {
     "data": {
      "text/plain": [
       "8.569602032360358e-15"
      ]
     },
     "execution_count": 23,
     "metadata": {},
     "output_type": "execute_result"
    }
   ],
   "source": [
    "mae_recovery_final = mean_absolute_error(df_train['final.output.recovery'], df_train['recovry_final_my'])\n",
    "mae_recovery_final"
   ]
  },
  {
   "cell_type": "markdown",
   "metadata": {},
   "source": [
    "Based on the calculated values, we see that the values ​​are very small, which means that the recovery table is presented correctly (there are differences, but they are minimal or sporadic)."
   ]
  },
  {
   "cell_type": "markdown",
   "metadata": {},
   "source": [
    "# Processing passes"
   ]
  },
  {
   "cell_type": "code",
   "execution_count": 24,
   "metadata": {},
   "outputs": [
    {
     "data": {
      "text/plain": [
       "date                       0\n",
       "rougher.input.feed_au      0\n",
       "rougher.input.feed_ag      0\n",
       "rougher.input.feed_pb     72\n",
       "rougher.input.feed_sol    77\n",
       "                          ..\n",
       "final.output.tail_ag       1\n",
       "final.output.tail_pb      75\n",
       "final.output.tail_sol      5\n",
       "recovry_rougher_my         0\n",
       "recovry_final_my           0\n",
       "Length: 89, dtype: int64"
      ]
     },
     "execution_count": 24,
     "metadata": {},
     "output_type": "execute_result"
    }
   ],
   "source": [
    "df_train.isnull().sum()"
   ]
  },
  {
   "cell_type": "markdown",
   "metadata": {},
   "source": [
    "Let's fill in the gaps with values close to the values of neighboring records. Using the KNNimputer function"
   ]
  },
  {
   "cell_type": "code",
   "execution_count": 25,
   "metadata": {},
   "outputs": [],
   "source": [
    "#delete the date column, it is not needed\n",
    "df_train = df_train.drop('date', axis=1)"
   ]
  },
  {
   "cell_type": "code",
   "execution_count": 26,
   "metadata": {},
   "outputs": [],
   "source": [
    "x = df_train\n",
    "imputer = KNNImputer(n_neighbors=5)\n",
    "x1 = imputer.fit_transform(x)\n",
    "train_final = pd.DataFrame(x1, columns=df_train.columns)"
   ]
  },
  {
   "cell_type": "code",
   "execution_count": 27,
   "metadata": {
    "scrolled": true
   },
   "outputs": [
    {
     "name": "stdout",
     "output_type": "stream",
     "text": [
      "<class 'pandas.core.frame.DataFrame'>\n",
      "RangeIndex: 14579 entries, 0 to 14578\n",
      "Data columns (total 88 columns):\n",
      " #   Column                                              Non-Null Count  Dtype  \n",
      "---  ------                                              --------------  -----  \n",
      " 0   rougher.input.feed_au                               14579 non-null  float64\n",
      " 1   rougher.input.feed_ag                               14579 non-null  float64\n",
      " 2   rougher.input.feed_pb                               14579 non-null  float64\n",
      " 3   rougher.input.feed_sol                              14579 non-null  float64\n",
      " 4   rougher.input.feed_rate                             14579 non-null  float64\n",
      " 5   rougher.input.feed_size                             14579 non-null  float64\n",
      " 6   rougher.input.floatbank10_sulfate                   14579 non-null  float64\n",
      " 7   rougher.input.floatbank10_xanthate                  14579 non-null  float64\n",
      " 8   rougher.state.floatbank10_a_air                     14579 non-null  float64\n",
      " 9   rougher.state.floatbank10_a_level                   14579 non-null  float64\n",
      " 10  rougher.state.floatbank10_b_air                     14579 non-null  float64\n",
      " 11  rougher.state.floatbank10_b_level                   14579 non-null  float64\n",
      " 12  rougher.state.floatbank10_c_air                     14579 non-null  float64\n",
      " 13  rougher.state.floatbank10_c_level                   14579 non-null  float64\n",
      " 14  rougher.state.floatbank10_d_air                     14579 non-null  float64\n",
      " 15  rougher.state.floatbank10_d_level                   14579 non-null  float64\n",
      " 16  rougher.state.floatbank10_e_air                     14579 non-null  float64\n",
      " 17  rougher.state.floatbank10_e_level                   14579 non-null  float64\n",
      " 18  rougher.state.floatbank10_f_air                     14579 non-null  float64\n",
      " 19  rougher.state.floatbank10_f_level                   14579 non-null  float64\n",
      " 20  rougher.input.floatbank11_sulfate                   14579 non-null  float64\n",
      " 21  rougher.input.floatbank11_xanthate                  14579 non-null  float64\n",
      " 22  rougher.calculation.sulfate_to_au_concentrate       14579 non-null  float64\n",
      " 23  rougher.calculation.floatbank10_sulfate_to_au_feed  14579 non-null  float64\n",
      " 24  rougher.calculation.floatbank11_sulfate_to_au_feed  14579 non-null  float64\n",
      " 25  rougher.calculation.au_pb_ratio                     14579 non-null  float64\n",
      " 26  rougher.output.concentrate_au                       14579 non-null  float64\n",
      " 27  rougher.output.concentrate_ag                       14579 non-null  float64\n",
      " 28  rougher.output.concentrate_pb                       14579 non-null  float64\n",
      " 29  rougher.output.concentrate_sol                      14579 non-null  float64\n",
      " 30  rougher.output.recovery                             14579 non-null  float64\n",
      " 31  rougher.output.tail_au                              14579 non-null  float64\n",
      " 32  rougher.output.tail_ag                              14579 non-null  float64\n",
      " 33  rougher.output.tail_pb                              14579 non-null  float64\n",
      " 34  rougher.output.tail_sol                             14579 non-null  float64\n",
      " 35  primary_cleaner.input.sulfate                       14579 non-null  float64\n",
      " 36  primary_cleaner.input.depressant                    14579 non-null  float64\n",
      " 37  primary_cleaner.input.feed_size                     14579 non-null  float64\n",
      " 38  primary_cleaner.input.xanthate                      14579 non-null  float64\n",
      " 39  primary_cleaner.state.floatbank8_a_air              14579 non-null  float64\n",
      " 40  primary_cleaner.state.floatbank8_a_level            14579 non-null  float64\n",
      " 41  primary_cleaner.state.floatbank8_b_air              14579 non-null  float64\n",
      " 42  primary_cleaner.state.floatbank8_b_level            14579 non-null  float64\n",
      " 43  primary_cleaner.state.floatbank8_c_air              14579 non-null  float64\n",
      " 44  primary_cleaner.state.floatbank8_c_level            14579 non-null  float64\n",
      " 45  primary_cleaner.state.floatbank8_d_air              14579 non-null  float64\n",
      " 46  primary_cleaner.state.floatbank8_d_level            14579 non-null  float64\n",
      " 47  primary_cleaner.output.concentrate_au               14579 non-null  float64\n",
      " 48  primary_cleaner.output.concentrate_ag               14579 non-null  float64\n",
      " 49  primary_cleaner.output.concentrate_pb               14579 non-null  float64\n",
      " 50  primary_cleaner.output.concentrate_sol              14579 non-null  float64\n",
      " 51  primary_cleaner.output.tail_au                      14579 non-null  float64\n",
      " 52  primary_cleaner.output.tail_ag                      14579 non-null  float64\n",
      " 53  primary_cleaner.output.tail_pb                      14579 non-null  float64\n",
      " 54  primary_cleaner.output.tail_sol                     14579 non-null  float64\n",
      " 55  secondary_cleaner.state.floatbank2_a_air            14579 non-null  float64\n",
      " 56  secondary_cleaner.state.floatbank2_a_level          14579 non-null  float64\n",
      " 57  secondary_cleaner.state.floatbank2_b_air            14579 non-null  float64\n",
      " 58  secondary_cleaner.state.floatbank2_b_level          14579 non-null  float64\n",
      " 59  secondary_cleaner.state.floatbank3_a_air            14579 non-null  float64\n",
      " 60  secondary_cleaner.state.floatbank3_a_level          14579 non-null  float64\n",
      " 61  secondary_cleaner.state.floatbank3_b_air            14579 non-null  float64\n",
      " 62  secondary_cleaner.state.floatbank3_b_level          14579 non-null  float64\n",
      " 63  secondary_cleaner.state.floatbank4_a_air            14579 non-null  float64\n",
      " 64  secondary_cleaner.state.floatbank4_a_level          14579 non-null  float64\n",
      " 65  secondary_cleaner.state.floatbank4_b_air            14579 non-null  float64\n",
      " 66  secondary_cleaner.state.floatbank4_b_level          14579 non-null  float64\n",
      " 67  secondary_cleaner.state.floatbank5_a_air            14579 non-null  float64\n",
      " 68  secondary_cleaner.state.floatbank5_a_level          14579 non-null  float64\n",
      " 69  secondary_cleaner.state.floatbank5_b_air            14579 non-null  float64\n",
      " 70  secondary_cleaner.state.floatbank5_b_level          14579 non-null  float64\n",
      " 71  secondary_cleaner.state.floatbank6_a_air            14579 non-null  float64\n",
      " 72  secondary_cleaner.state.floatbank6_a_level          14579 non-null  float64\n",
      " 73  secondary_cleaner.output.tail_au                    14579 non-null  float64\n",
      " 74  secondary_cleaner.output.tail_ag                    14579 non-null  float64\n",
      " 75  secondary_cleaner.output.tail_pb                    14579 non-null  float64\n",
      " 76  secondary_cleaner.output.tail_sol                   14579 non-null  float64\n",
      " 77  final.output.concentrate_au                         14579 non-null  float64\n",
      " 78  final.output.concentrate_ag                         14579 non-null  float64\n",
      " 79  final.output.concentrate_pb                         14579 non-null  float64\n",
      " 80  final.output.concentrate_sol                        14579 non-null  float64\n",
      " 81  final.output.recovery                               14579 non-null  float64\n",
      " 82  final.output.tail_au                                14579 non-null  float64\n",
      " 83  final.output.tail_ag                                14579 non-null  float64\n",
      " 84  final.output.tail_pb                                14579 non-null  float64\n",
      " 85  final.output.tail_sol                               14579 non-null  float64\n",
      " 86  recovry_rougher_my                                  14579 non-null  float64\n",
      " 87  recovry_final_my                                    14579 non-null  float64\n",
      "dtypes: float64(88)\n",
      "memory usage: 9.8 MB\n"
     ]
    }
   ],
   "source": [
    "train_final.info()"
   ]
  },
  {
   "cell_type": "markdown",
   "metadata": {},
   "source": [
    "## Data analysis\n"
   ]
  },
  {
   "cell_type": "markdown",
   "metadata": {},
   "source": [
    "Let's estimate what outliers the target value has (column recovery)"
   ]
  },
  {
   "cell_type": "code",
   "execution_count": 28,
   "metadata": {},
   "outputs": [
    {
     "data": {
      "text/plain": [
       "<AxesSubplot:>"
      ]
     },
     "execution_count": 28,
     "metadata": {},
     "output_type": "execute_result"
    },
    {
     "data": {
      "image/png": "[encoded data removed]",
      "text/plain": [
       "<Figure size 640x480 with 1 Axes>"
      ]
     },
     "metadata": {},
     "output_type": "display_data"
    }
   ],
   "source": [
    "train_final['final.output.recovery'].plot.box()"
   ]
  },
  {
   "cell_type": "code",
   "execution_count": 29,
   "metadata": {},
   "outputs": [
    {
     "data": {
      "text/plain": [
       "<AxesSubplot:>"
      ]
     },
     "execution_count": 29,
     "metadata": {},
     "output_type": "execute_result"
    },
    {
     "data": {
      "image/png": "[encoded data removed]",
      "text/plain": [
       "<Figure size 640x480 with 1 Axes>"
      ]
     },
     "metadata": {},
     "output_type": "display_data"
    }
   ],
   "source": [
    "train_final['rougher.output.recovery'].plot.box()"
   ]
  },
  {
   "cell_type": "markdown",
   "metadata": {},
   "source": [
    "Zero values that are out of the general distribution are suspicious. They look like either a measurement error or random pieces of ore that cannot be considered gold-bearing. It may no longer be necessary to remove non-zero but rather rare observations from the sample. Depends on whether we want to try to train the model to recognize this rare group of observations and make more accurate predictions for them, or whether we don't want to."
   ]
  },
  {
   "cell_type": "markdown",
   "metadata": {},
   "source": [
    "List of values not included in the test sample."
   ]
  },
  {
   "cell_type": "code",
   "execution_count": 30,
   "metadata": {},
   "outputs": [],
   "source": [
    "not_in_test_df = df_train[diff]"
   ]
  },
  {
   "cell_type": "code",
   "execution_count": 31,
   "metadata": {
    "scrolled": true
   },
   "outputs": [
    {
     "name": "stdout",
     "output_type": "stream",
     "text": [
      "<class 'pandas.core.frame.DataFrame'>\n",
      "RangeIndex: 14579 entries, 0 to 14578\n",
      "Data columns (total 34 columns):\n",
      " #   Column                                              Non-Null Count  Dtype  \n",
      "---  ------                                              --------------  -----  \n",
      " 0   rougher.calculation.sulfate_to_au_concentrate       14578 non-null  float64\n",
      " 1   rougher.calculation.floatbank10_sulfate_to_au_feed  14578 non-null  float64\n",
      " 2   rougher.calculation.floatbank11_sulfate_to_au_feed  14578 non-null  float64\n",
      " 3   rougher.calculation.au_pb_ratio                     14579 non-null  float64\n",
      " 4   rougher.output.concentrate_au                       14579 non-null  float64\n",
      " 5   rougher.output.concentrate_ag                       14579 non-null  float64\n",
      " 6   rougher.output.concentrate_pb                       14579 non-null  float64\n",
      " 7   rougher.output.concentrate_sol                      14561 non-null  float64\n",
      " 8   rougher.output.recovery                             14579 non-null  float64\n",
      " 9   rougher.output.tail_au                              14579 non-null  float64\n",
      " 10  rougher.output.tail_ag                              14578 non-null  float64\n",
      " 11  rougher.output.tail_pb                              14579 non-null  float64\n",
      " 12  rougher.output.tail_sol                             14579 non-null  float64\n",
      " 13  primary_cleaner.output.concentrate_au               14579 non-null  float64\n",
      " 14  primary_cleaner.output.concentrate_ag               14579 non-null  float64\n",
      " 15  primary_cleaner.output.concentrate_pb               14491 non-null  float64\n",
      " 16  primary_cleaner.output.concentrate_sol              14314 non-null  float64\n",
      " 17  primary_cleaner.output.tail_au                      14579 non-null  float64\n",
      " 18  primary_cleaner.output.tail_ag                      14575 non-null  float64\n",
      " 19  primary_cleaner.output.tail_pb                      14573 non-null  float64\n",
      " 20  primary_cleaner.output.tail_sol                     14534 non-null  float64\n",
      " 21  secondary_cleaner.output.tail_au                    14579 non-null  float64\n",
      " 22  secondary_cleaner.output.tail_ag                    14578 non-null  float64\n",
      " 23  secondary_cleaner.output.tail_pb                    14575 non-null  float64\n",
      " 24  secondary_cleaner.output.tail_sol                   13659 non-null  float64\n",
      " 25  final.output.concentrate_au                         14579 non-null  float64\n",
      " 26  final.output.concentrate_ag                         14578 non-null  float64\n",
      " 27  final.output.concentrate_pb                         14578 non-null  float64\n",
      " 28  final.output.concentrate_sol                        14387 non-null  float64\n",
      " 29  final.output.recovery                               14579 non-null  float64\n",
      " 30  final.output.tail_au                                14579 non-null  float64\n",
      " 31  final.output.tail_ag                                14578 non-null  float64\n",
      " 32  final.output.tail_pb                                14504 non-null  float64\n",
      " 33  final.output.tail_sol                               14574 non-null  float64\n",
      "dtypes: float64(34)\n",
      "memory usage: 3.8 MB\n"
     ]
    }
   ],
   "source": [
    "not_in_test_df.info()"
   ]
  },
  {
   "cell_type": "markdown",
   "metadata": {},
   "source": [
    "Analyzing the data, we can conclude that these are the parameters that are obtained during the ore purification process. That is, we can say that these are online metrics. And plus the calculated metrics, which we also obtain using online metrics. This is the data that we cannot obtain at the very first, zero stage. Because we make predictions at the zero stage, knowing only the characteristics of the original ore, we do not and cannot have this data, that’s why they are not in the test set and therefore we removed them from the training sample - so that there is no data leakage"
   ]
  },
  {
   "cell_type": "markdown",
   "metadata": {},
   "source": [
    "2.1.See how the concentration of metals (Au, Ag, Pb) changes at different stages of purification (customer request)"
   ]
  },
  {
   "cell_type": "markdown",
   "metadata": {},
   "source": [
    "Let's see how the concentration of gold changed"
   ]
  },
  {
   "cell_type": "code",
   "execution_count": 32,
   "metadata": {},
   "outputs": [
    {
     "data": {
      "text/plain": [
       "<function matplotlib.pyplot.show(close=None, block=None)>"
      ]
     },
     "execution_count": 32,
     "metadata": {},
     "output_type": "execute_result"
    },
    {
     "data": {
      "image/png": "[encoded data removed]",
      "text/plain": [
       "<Figure size 1500x1000 with 1 Axes>"
      ]
     },
     "metadata": {},
     "output_type": "display_data"
    }
   ],
   "source": [
    "plt.figure(figsize = (15,10))\n",
    "plt.hist(train_final['rougher.input.feed_au'], bins=50, alpha=0.5 , label= 'Ιnitial gold concentration')\n",
    "plt.hist(train_final['rougher.output.concentrate_au'], bins=50, alpha=0.5 , label= 'Gold concentration after flotation')\n",
    "plt.hist(train_final['primary_cleaner.output.concentrate_au'], bins=50, alpha=0.5 , label='Gold concentration after 1 wash')\n",
    "plt.hist(train_final['final.output.concentrate_au'], bins=50, alpha=0.5 , label= 'Final gold concentration')\n",
    "\n",
    "plt.xlabel('Gold concentration')\n",
    "plt.ylabel('Number of values received')\n",
    "plt.title('Gold concentration at different stages')\n",
    "plt.xlim([0,55])\n",
    "\n",
    "plt.legend()\n",
    "\n",
    "plt.show\n",
    "\n"
   ]
  },
  {
   "cell_type": "markdown",
   "metadata": {},
   "source": [
    "We see zero values and that the concentration of gold increases after each stage of purification. The distribution of concentrations looks like a normal distribution."
   ]
  },
  {
   "cell_type": "markdown",
   "metadata": {},
   "source": [
    "Silver concentrations analsyis\n"
   ]
  },
  {
   "cell_type": "code",
   "execution_count": 33,
   "metadata": {},
   "outputs": [
    {
     "data": {
      "text/plain": [
       "<function matplotlib.pyplot.show(close=None, block=None)>"
      ]
     },
     "execution_count": 33,
     "metadata": {},
     "output_type": "execute_result"
    },
    {
     "data": {
      "image/png": "[encoded data removed]",
      "text/plain": [
       "<Figure size 1500x800 with 1 Axes>"
      ]
     },
     "metadata": {},
     "output_type": "display_data"
    }
   ],
   "source": [
    "plt.figure(figsize=(15,8))\n",
    "plt.hist(train_final['rougher.input.feed_ag'], bins=50, alpha=0.5,label='initial silver concentration')\n",
    "plt.hist(train_final['rougher.output.concentrate_ag'], bins= 50, alpha=0.5, label = 'silver concentration after flotation')\n",
    "plt.hist(train_final['primary_cleaner.output.concentrate_ag'], bins=50, alpha=0.5, label='silver concentration after 1 wash')\n",
    "plt.hist(train_final['final.output.concentrate_ag'], bins=50, alpha=0.5, label='final silver concentration')\n",
    "\n",
    "plt.xlabel('silver concentration')\n",
    "plt.ylabel('number of values received')\n",
    "\n",
    "plt.title('Histogram of silver concentrations at purification stages')\n",
    "plt.legend()\n",
    "plt.xlim([0,25])\n",
    "plt.show\n",
    "\n",
    "\n"
   ]
  },
  {
   "cell_type": "markdown",
   "metadata": {},
   "source": [
    "The final concentration of silver is the lowest, and after flotation it is the highest."
   ]
  },
  {
   "cell_type": "markdown",
   "metadata": {},
   "source": [
    "Lead concentration analysis"
   ]
  },
  {
   "cell_type": "code",
   "execution_count": 34,
   "metadata": {},
   "outputs": [
    {
     "data": {
      "text/plain": [
       "<function matplotlib.pyplot.show(close=None, block=None)>"
      ]
     },
     "execution_count": 34,
     "metadata": {},
     "output_type": "execute_result"
    },
    {
     "data": {
      "image/png": "[encoded data removed]",
      "text/plain": [
       "<Figure size 1500x800 with 1 Axes>"
      ]
     },
     "metadata": {},
     "output_type": "display_data"
    }
   ],
   "source": [
    "plt.figure(figsize=(15,8))\n",
    "\n",
    "plt.hist(train_final['rougher.input.feed_pb'], bins=50, alpha=0.5,label='initial lead concentration')\n",
    "plt.hist(train_final['rougher.output.concentrate_pb'], bins= 50, alpha=0.5, label = 'lead concentration after flotation')\n",
    "plt.hist(train_final['primary_cleaner.output.concentrate_pb'], bins=50, alpha=0.5, label='lead concentration after 1 wash')\n",
    "plt.hist(train_final['final.output.concentrate_pb'], bins=50, alpha=0.5, label='final lead concentration')\n",
    "\n",
    "plt.xlabel('lead concentration')\n",
    "plt.ylabel('number of values received')\n",
    "\n",
    "plt.title('Histogram of lead concentrations at treatment stages')\n",
    "plt.legend()\n",
    "plt.xlim([0,25])\n",
    "plt.show"
   ]
  },
  {
   "cell_type": "markdown",
   "metadata": {},
   "source": [
    "We see that the lead concentration eventually increases. This is due to the fact that lead is the carrier metal of gold. We conclude that from the initial concentrations of metals in the ore, we can guess what the final concentration of gold and lead (as a carrier) will be."
   ]
  },
  {
   "cell_type": "markdown",
   "metadata": {},
   "source": [
    "2.2. Comparison of the size distribution of raw material granules on training and test samples. If the distributions are very different from each other, the model estimation will be incorrect (customer request)"
   ]
  },
  {
   "cell_type": "code",
   "execution_count": 35,
   "metadata": {},
   "outputs": [
    {
     "data": {
      "text/plain": [
       "<function matplotlib.pyplot.show(close=None, block=None)>"
      ]
     },
     "execution_count": 35,
     "metadata": {},
     "output_type": "execute_result"
    },
    {
     "data": {
      "image/png": "[encoded data removed]",
      "text/plain": [
       "<Figure size 1000x700 with 1 Axes>"
      ]
     },
     "metadata": {},
     "output_type": "display_data"
    }
   ],
   "source": [
    "plt.figure(figsize=(10,7))\n",
    "plt.hist(train_final['rougher.input.feed_size'],bins=50, alpha=0.5, density = True, label='size of granules in the training set')\n",
    "plt.hist(df_test['rougher.input.feed_size'], bins=50, alpha=0.5, density = True, label ='size of granules in the test sample' )\n",
    "plt.legend()\n",
    "plt.xlabel('granule size')\n",
    "plt.ylabel('number of results')\n",
    "plt.title('histogram of granule size distribution in training and test samples')\n",
    "plt.xlim([0,250])\n",
    "plt.show"
   ]
  },
  {
   "cell_type": "code",
   "execution_count": 36,
   "metadata": {},
   "outputs": [
    {
     "data": {
      "text/plain": [
       "58.92271219189495"
      ]
     },
     "execution_count": 36,
     "metadata": {},
     "output_type": "execute_result"
    }
   ],
   "source": [
    "df_train['rougher.input.feed_size'].mean()\n"
   ]
  },
  {
   "cell_type": "code",
   "execution_count": 37,
   "metadata": {},
   "outputs": [
    {
     "data": {
      "text/plain": [
       "59.11339962327549"
      ]
     },
     "execution_count": 37,
     "metadata": {},
     "output_type": "execute_result"
    }
   ],
   "source": [
    "df_test['rougher.input.feed_size'].mean()"
   ]
  },
  {
   "cell_type": "markdown",
   "metadata": {},
   "source": [
    "The distributions are approximately the same."
   ]
  },
  {
   "cell_type": "markdown",
   "metadata": {},
   "source": [
    "2.3. Study of the total concentration of all substances at different stages: in raw materials, in rough and final concentrates."
   ]
  },
  {
   "cell_type": "code",
   "execution_count": 38,
   "metadata": {},
   "outputs": [],
   "source": [
    "sum_input_train = train_final['rougher.input.feed_ag']\\\n",
    "                   + train_final['rougher.input.feed_pb'] + train_final['rougher.input.feed_au']\n"
   ]
  },
  {
   "cell_type": "code",
   "execution_count": 39,
   "metadata": {},
   "outputs": [],
   "source": [
    "sum_after_rougher_train = train_final['rougher.output.concentrate_ag']\\\n",
    "    + train_final['rougher.output.concentrate_pb'] + train_final['rougher.output.concentrate_au']\n"
   ]
  },
  {
   "cell_type": "code",
   "execution_count": 40,
   "metadata": {},
   "outputs": [],
   "source": [
    "sum_after_1cl_train = train_final['primary_cleaner.output.concentrate_ag']\\\n",
    "    + train_final['primary_cleaner.output.concentrate_pb'] + train_final['primary_cleaner.output.concentrate_au']\n"
   ]
  },
  {
   "cell_type": "code",
   "execution_count": 41,
   "metadata": {},
   "outputs": [],
   "source": [
    "sum_final_train = train_final['final.output.concentrate_ag']\\\n",
    "    + train_final['final.output.concentrate_pb'] + train_final['final.output.concentrate_au']\n"
   ]
  },
  {
   "cell_type": "code",
   "execution_count": 42,
   "metadata": {},
   "outputs": [
    {
     "data": {
      "text/plain": [
       "<function matplotlib.pyplot.show(close=None, block=None)>"
      ]
     },
     "execution_count": 42,
     "metadata": {},
     "output_type": "execute_result"
    },
    {
     "data": {
      "image/png": "[encoded data removed]",
      "text/plain": [
       "<Figure size 1500x800 with 1 Axes>"
      ]
     },
     "metadata": {},
     "output_type": "display_data"
    }
   ],
   "source": [
    "plt.figure(figsize=(15,8))\n",
    "\n",
    "sum_input_train.hist(bins=50, alpha=0.5,label='initial total concentration')\n",
    "sum_after_rougher_train.hist( bins= 50, alpha=0.5, label = 'total concentration after flotation')\n",
    "sum_after_1cl_train.hist( bins=50, alpha=0.5, label='total concentration after 1 wash')\n",
    "sum_final_train.hist(bins=50, alpha=0.5, label='final total concentration')\n",
    "\n",
    "plt.xlabel('total concentration of all substances')\n",
    "plt.ylabel('number of values ​​received')\n",
    "\n",
    "plt.title('Histogram of the total concentration of all substances at the purification stages')\n",
    "plt.legend()\n",
    "plt.show"
   ]
  },
  {
   "cell_type": "markdown",
   "metadata": {},
   "source": [
    "Concentrations increase as the purification stages progress, and the spread in concentrations becomes smaller and smaller with each stage. However, zero values are visible. Separately for each substance there may be (there are not always grains of gold in the ore), but in total they are unlikely (there will be at least something in the ore). And if we have anomalies, then there is a high probability of inaccuracy in the measurements.They should be removed"
   ]
  },
  {
   "cell_type": "code",
   "execution_count": 43,
   "metadata": {},
   "outputs": [],
   "source": [
    "#at first delite it from the input part\n",
    "train_final['sum_input_train'] = train_final['rougher.input.feed_ag']\\\n",
    "    +train_final['rougher.input.feed_pb'] + train_final['rougher.input.feed_au']"
   ]
  },
  {
   "cell_type": "code",
   "execution_count": 44,
   "metadata": {},
   "outputs": [],
   "source": [
    "list_del = train_final['sum_input_train']<1"
   ]
  },
  {
   "cell_type": "code",
   "execution_count": 45,
   "metadata": {},
   "outputs": [
    {
     "data": {
      "text/html": [
       "<div>\n",
       "<style scoped>\n",
       "    .dataframe tbody tr th:only-of-type {\n",
       "        vertical-align: middle;\n",
       "    }\n",
       "\n",
       "    .dataframe tbody tr th {\n",
       "        vertical-align: top;\n",
       "    }\n",
       "\n",
       "    .dataframe thead th {\n",
       "        text-align: right;\n",
       "    }\n",
       "</style>\n",
       "<table border=\"1\" class=\"dataframe\">\n",
       "  <thead>\n",
       "    <tr style=\"text-align: right;\">\n",
       "      <th></th>\n",
       "      <th>rougher.input.feed_au</th>\n",
       "      <th>rougher.input.feed_ag</th>\n",
       "      <th>rougher.input.feed_pb</th>\n",
       "      <th>rougher.input.feed_sol</th>\n",
       "      <th>rougher.input.feed_rate</th>\n",
       "      <th>rougher.input.feed_size</th>\n",
       "      <th>rougher.input.floatbank10_sulfate</th>\n",
       "      <th>rougher.input.floatbank10_xanthate</th>\n",
       "      <th>rougher.state.floatbank10_a_air</th>\n",
       "      <th>rougher.state.floatbank10_a_level</th>\n",
       "      <th>...</th>\n",
       "      <th>final.output.concentrate_pb</th>\n",
       "      <th>final.output.concentrate_sol</th>\n",
       "      <th>final.output.recovery</th>\n",
       "      <th>final.output.tail_au</th>\n",
       "      <th>final.output.tail_ag</th>\n",
       "      <th>final.output.tail_pb</th>\n",
       "      <th>final.output.tail_sol</th>\n",
       "      <th>recovry_rougher_my</th>\n",
       "      <th>recovry_final_my</th>\n",
       "      <th>sum_input_train</th>\n",
       "    </tr>\n",
       "  </thead>\n",
       "  <tbody>\n",
       "    <tr>\n",
       "      <th>12626</th>\n",
       "      <td>0.01</td>\n",
       "      <td>0.01</td>\n",
       "      <td>0.01</td>\n",
       "      <td>0.01</td>\n",
       "      <td>602.530096</td>\n",
       "      <td>80.935301</td>\n",
       "      <td>12.473082</td>\n",
       "      <td>7.004836</td>\n",
       "      <td>1401.025067</td>\n",
       "      <td>-299.969743</td>\n",
       "      <td>...</td>\n",
       "      <td>9.389648</td>\n",
       "      <td>8.731319</td>\n",
       "      <td>100.0</td>\n",
       "      <td>0.0</td>\n",
       "      <td>0.0</td>\n",
       "      <td>0.0</td>\n",
       "      <td>0.0</td>\n",
       "      <td>100.0</td>\n",
       "      <td>100.0</td>\n",
       "      <td>0.03</td>\n",
       "    </tr>\n",
       "    <tr>\n",
       "      <th>12627</th>\n",
       "      <td>0.01</td>\n",
       "      <td>0.01</td>\n",
       "      <td>0.01</td>\n",
       "      <td>0.01</td>\n",
       "      <td>609.936421</td>\n",
       "      <td>81.143699</td>\n",
       "      <td>12.465643</td>\n",
       "      <td>7.000502</td>\n",
       "      <td>1398.316802</td>\n",
       "      <td>-299.822231</td>\n",
       "      <td>...</td>\n",
       "      <td>9.389648</td>\n",
       "      <td>8.731319</td>\n",
       "      <td>100.0</td>\n",
       "      <td>0.0</td>\n",
       "      <td>0.0</td>\n",
       "      <td>0.0</td>\n",
       "      <td>0.0</td>\n",
       "      <td>100.0</td>\n",
       "      <td>100.0</td>\n",
       "      <td>0.03</td>\n",
       "    </tr>\n",
       "    <tr>\n",
       "      <th>12628</th>\n",
       "      <td>0.01</td>\n",
       "      <td>0.01</td>\n",
       "      <td>0.01</td>\n",
       "      <td>0.01</td>\n",
       "      <td>584.285584</td>\n",
       "      <td>80.737541</td>\n",
       "      <td>12.479808</td>\n",
       "      <td>6.996583</td>\n",
       "      <td>1399.833188</td>\n",
       "      <td>-300.415860</td>\n",
       "      <td>...</td>\n",
       "      <td>9.389648</td>\n",
       "      <td>8.731319</td>\n",
       "      <td>100.0</td>\n",
       "      <td>0.0</td>\n",
       "      <td>0.0</td>\n",
       "      <td>0.0</td>\n",
       "      <td>0.0</td>\n",
       "      <td>100.0</td>\n",
       "      <td>100.0</td>\n",
       "      <td>0.03</td>\n",
       "    </tr>\n",
       "  </tbody>\n",
       "</table>\n",
       "<p>3 rows × 89 columns</p>\n",
       "</div>"
      ],
      "text/plain": [
       "       rougher.input.feed_au  rougher.input.feed_ag  rougher.input.feed_pb  \\\n",
       "12626                   0.01                   0.01                   0.01   \n",
       "12627                   0.01                   0.01                   0.01   \n",
       "12628                   0.01                   0.01                   0.01   \n",
       "\n",
       "       rougher.input.feed_sol  rougher.input.feed_rate  \\\n",
       "12626                    0.01               602.530096   \n",
       "12627                    0.01               609.936421   \n",
       "12628                    0.01               584.285584   \n",
       "\n",
       "       rougher.input.feed_size  rougher.input.floatbank10_sulfate  \\\n",
       "12626                80.935301                          12.473082   \n",
       "12627                81.143699                          12.465643   \n",
       "12628                80.737541                          12.479808   \n",
       "\n",
       "       rougher.input.floatbank10_xanthate  rougher.state.floatbank10_a_air  \\\n",
       "12626                            7.004836                      1401.025067   \n",
       "12627                            7.000502                      1398.316802   \n",
       "12628                            6.996583                      1399.833188   \n",
       "\n",
       "       rougher.state.floatbank10_a_level  ...  final.output.concentrate_pb  \\\n",
       "12626                        -299.969743  ...                     9.389648   \n",
       "12627                        -299.822231  ...                     9.389648   \n",
       "12628                        -300.415860  ...                     9.389648   \n",
       "\n",
       "       final.output.concentrate_sol  final.output.recovery  \\\n",
       "12626                      8.731319                  100.0   \n",
       "12627                      8.731319                  100.0   \n",
       "12628                      8.731319                  100.0   \n",
       "\n",
       "       final.output.tail_au  final.output.tail_ag  final.output.tail_pb  \\\n",
       "12626                   0.0                   0.0                   0.0   \n",
       "12627                   0.0                   0.0                   0.0   \n",
       "12628                   0.0                   0.0                   0.0   \n",
       "\n",
       "       final.output.tail_sol  recovry_rougher_my  recovry_final_my  \\\n",
       "12626                    0.0               100.0             100.0   \n",
       "12627                    0.0               100.0             100.0   \n",
       "12628                    0.0               100.0             100.0   \n",
       "\n",
       "       sum_input_train  \n",
       "12626             0.03  \n",
       "12627             0.03  \n",
       "12628             0.03  \n",
       "\n",
       "[3 rows x 89 columns]"
      ]
     },
     "execution_count": 45,
     "metadata": {},
     "output_type": "execute_result"
    }
   ],
   "source": [
    "train_final[list_del]"
   ]
  },
  {
   "cell_type": "code",
   "execution_count": 46,
   "metadata": {},
   "outputs": [
    {
     "data": {
      "text/plain": [
       "14579"
      ]
     },
     "execution_count": 46,
     "metadata": {},
     "output_type": "execute_result"
    }
   ],
   "source": [
    "len(train_final)"
   ]
  },
  {
   "cell_type": "code",
   "execution_count": 47,
   "metadata": {},
   "outputs": [],
   "source": [
    "train_final = train_final.drop(train_final[list_del].index)"
   ]
  },
  {
   "cell_type": "code",
   "execution_count": 48,
   "metadata": {},
   "outputs": [
    {
     "data": {
      "text/plain": [
       "14576"
      ]
     },
     "execution_count": 48,
     "metadata": {},
     "output_type": "execute_result"
    }
   ],
   "source": [
    "len(train_final)"
   ]
  },
  {
   "cell_type": "code",
   "execution_count": 49,
   "metadata": {},
   "outputs": [],
   "source": [
    "# now after rougher\n",
    "train_final['sum_after_rougher_train'] = train_final['rougher.output.concentrate_ag']\\\n",
    "+ train_final['rougher.output.concentrate_pb'] + train_final['rougher.output.concentrate_au']"
   ]
  },
  {
   "cell_type": "code",
   "execution_count": 50,
   "metadata": {},
   "outputs": [],
   "source": [
    "list_del = train_final['sum_after_rougher_train']<1"
   ]
  },
  {
   "cell_type": "code",
   "execution_count": 51,
   "metadata": {},
   "outputs": [
    {
     "data": {
      "text/html": [
       "<div>\n",
       "<style scoped>\n",
       "    .dataframe tbody tr th:only-of-type {\n",
       "        vertical-align: middle;\n",
       "    }\n",
       "\n",
       "    .dataframe tbody tr th {\n",
       "        vertical-align: top;\n",
       "    }\n",
       "\n",
       "    .dataframe thead th {\n",
       "        text-align: right;\n",
       "    }\n",
       "</style>\n",
       "<table border=\"1\" class=\"dataframe\">\n",
       "  <thead>\n",
       "    <tr style=\"text-align: right;\">\n",
       "      <th></th>\n",
       "      <th>rougher.input.feed_au</th>\n",
       "      <th>rougher.input.feed_ag</th>\n",
       "      <th>rougher.input.feed_pb</th>\n",
       "      <th>rougher.input.feed_sol</th>\n",
       "      <th>rougher.input.feed_rate</th>\n",
       "      <th>rougher.input.feed_size</th>\n",
       "      <th>rougher.input.floatbank10_sulfate</th>\n",
       "      <th>rougher.input.floatbank10_xanthate</th>\n",
       "      <th>rougher.state.floatbank10_a_air</th>\n",
       "      <th>rougher.state.floatbank10_a_level</th>\n",
       "      <th>...</th>\n",
       "      <th>final.output.concentrate_sol</th>\n",
       "      <th>final.output.recovery</th>\n",
       "      <th>final.output.tail_au</th>\n",
       "      <th>final.output.tail_ag</th>\n",
       "      <th>final.output.tail_pb</th>\n",
       "      <th>final.output.tail_sol</th>\n",
       "      <th>recovry_rougher_my</th>\n",
       "      <th>recovry_final_my</th>\n",
       "      <th>sum_input_train</th>\n",
       "      <th>sum_after_rougher_train</th>\n",
       "    </tr>\n",
       "  </thead>\n",
       "  <tbody>\n",
       "    <tr>\n",
       "      <th>36</th>\n",
       "      <td>7.114065</td>\n",
       "      <td>7.521974</td>\n",
       "      <td>2.811569</td>\n",
       "      <td>41.154430</td>\n",
       "      <td>581.605260</td>\n",
       "      <td>65.620714</td>\n",
       "      <td>13.322740</td>\n",
       "      <td>7.504592</td>\n",
       "      <td>999.026619</td>\n",
       "      <td>-499.850895</td>\n",
       "      <td>...</td>\n",
       "      <td>4.588698</td>\n",
       "      <td>68.403877</td>\n",
       "      <td>2.509776</td>\n",
       "      <td>10.705777</td>\n",
       "      <td>1.509070</td>\n",
       "      <td>17.875134</td>\n",
       "      <td>-0.0</td>\n",
       "      <td>68.403877</td>\n",
       "      <td>17.447608</td>\n",
       "      <td>0.0</td>\n",
       "    </tr>\n",
       "    <tr>\n",
       "      <th>37</th>\n",
       "      <td>7.651522</td>\n",
       "      <td>7.313187</td>\n",
       "      <td>2.973841</td>\n",
       "      <td>41.983063</td>\n",
       "      <td>562.972841</td>\n",
       "      <td>66.014780</td>\n",
       "      <td>14.433889</td>\n",
       "      <td>7.583598</td>\n",
       "      <td>999.846655</td>\n",
       "      <td>-500.082738</td>\n",
       "      <td>...</td>\n",
       "      <td>5.274175</td>\n",
       "      <td>70.675633</td>\n",
       "      <td>2.540843</td>\n",
       "      <td>10.728531</td>\n",
       "      <td>1.641216</td>\n",
       "      <td>18.349339</td>\n",
       "      <td>-0.0</td>\n",
       "      <td>70.675633</td>\n",
       "      <td>17.938550</td>\n",
       "      <td>0.0</td>\n",
       "    </tr>\n",
       "    <tr>\n",
       "      <th>38</th>\n",
       "      <td>5.587750</td>\n",
       "      <td>7.934791</td>\n",
       "      <td>1.763437</td>\n",
       "      <td>34.446840</td>\n",
       "      <td>229.379445</td>\n",
       "      <td>40.601032</td>\n",
       "      <td>10.865871</td>\n",
       "      <td>5.648950</td>\n",
       "      <td>1003.354806</td>\n",
       "      <td>-501.078303</td>\n",
       "      <td>...</td>\n",
       "      <td>5.688961</td>\n",
       "      <td>55.088448</td>\n",
       "      <td>2.686782</td>\n",
       "      <td>10.694584</td>\n",
       "      <td>1.671644</td>\n",
       "      <td>17.910312</td>\n",
       "      <td>-0.0</td>\n",
       "      <td>55.088448</td>\n",
       "      <td>15.285978</td>\n",
       "      <td>0.0</td>\n",
       "    </tr>\n",
       "    <tr>\n",
       "      <th>39</th>\n",
       "      <td>4.752992</td>\n",
       "      <td>7.756881</td>\n",
       "      <td>1.025762</td>\n",
       "      <td>11.816724</td>\n",
       "      <td>228.510521</td>\n",
       "      <td>41.248945</td>\n",
       "      <td>5.908582</td>\n",
       "      <td>5.048482</td>\n",
       "      <td>998.548594</td>\n",
       "      <td>-500.170221</td>\n",
       "      <td>...</td>\n",
       "      <td>7.769770</td>\n",
       "      <td>41.962008</td>\n",
       "      <td>2.889469</td>\n",
       "      <td>11.975654</td>\n",
       "      <td>1.846558</td>\n",
       "      <td>8.138408</td>\n",
       "      <td>-0.0</td>\n",
       "      <td>41.962008</td>\n",
       "      <td>13.535634</td>\n",
       "      <td>0.0</td>\n",
       "    </tr>\n",
       "    <tr>\n",
       "      <th>40</th>\n",
       "      <td>5.122801</td>\n",
       "      <td>5.393466</td>\n",
       "      <td>1.824835</td>\n",
       "      <td>28.380274</td>\n",
       "      <td>550.606559</td>\n",
       "      <td>45.329106</td>\n",
       "      <td>10.060214</td>\n",
       "      <td>7.758600</td>\n",
       "      <td>1000.013401</td>\n",
       "      <td>-499.520359</td>\n",
       "      <td>...</td>\n",
       "      <td>5.965126</td>\n",
       "      <td>49.884856</td>\n",
       "      <td>2.739224</td>\n",
       "      <td>10.381465</td>\n",
       "      <td>1.024030</td>\n",
       "      <td>12.974257</td>\n",
       "      <td>-0.0</td>\n",
       "      <td>49.884856</td>\n",
       "      <td>12.341101</td>\n",
       "      <td>0.0</td>\n",
       "    </tr>\n",
       "    <tr>\n",
       "      <th>...</th>\n",
       "      <td>...</td>\n",
       "      <td>...</td>\n",
       "      <td>...</td>\n",
       "      <td>...</td>\n",
       "      <td>...</td>\n",
       "      <td>...</td>\n",
       "      <td>...</td>\n",
       "      <td>...</td>\n",
       "      <td>...</td>\n",
       "      <td>...</td>\n",
       "      <td>...</td>\n",
       "      <td>...</td>\n",
       "      <td>...</td>\n",
       "      <td>...</td>\n",
       "      <td>...</td>\n",
       "      <td>...</td>\n",
       "      <td>...</td>\n",
       "      <td>...</td>\n",
       "      <td>...</td>\n",
       "      <td>...</td>\n",
       "      <td>...</td>\n",
       "    </tr>\n",
       "    <tr>\n",
       "      <th>12134</th>\n",
       "      <td>7.951063</td>\n",
       "      <td>8.576019</td>\n",
       "      <td>2.607144</td>\n",
       "      <td>38.972270</td>\n",
       "      <td>570.495631</td>\n",
       "      <td>83.488615</td>\n",
       "      <td>9.393174</td>\n",
       "      <td>6.199710</td>\n",
       "      <td>1401.356444</td>\n",
       "      <td>-300.054420</td>\n",
       "      <td>...</td>\n",
       "      <td>8.191698</td>\n",
       "      <td>83.597741</td>\n",
       "      <td>1.515512</td>\n",
       "      <td>8.853800</td>\n",
       "      <td>0.717677</td>\n",
       "      <td>13.399798</td>\n",
       "      <td>-0.0</td>\n",
       "      <td>83.597741</td>\n",
       "      <td>19.134226</td>\n",
       "      <td>0.0</td>\n",
       "    </tr>\n",
       "    <tr>\n",
       "      <th>12135</th>\n",
       "      <td>8.715784</td>\n",
       "      <td>8.640039</td>\n",
       "      <td>2.905023</td>\n",
       "      <td>39.239893</td>\n",
       "      <td>581.010329</td>\n",
       "      <td>83.286682</td>\n",
       "      <td>9.974236</td>\n",
       "      <td>6.198513</td>\n",
       "      <td>1401.413087</td>\n",
       "      <td>-299.653521</td>\n",
       "      <td>...</td>\n",
       "      <td>8.326773</td>\n",
       "      <td>84.738648</td>\n",
       "      <td>1.573222</td>\n",
       "      <td>8.503813</td>\n",
       "      <td>0.757507</td>\n",
       "      <td>13.591903</td>\n",
       "      <td>-0.0</td>\n",
       "      <td>84.738648</td>\n",
       "      <td>20.260847</td>\n",
       "      <td>0.0</td>\n",
       "    </tr>\n",
       "    <tr>\n",
       "      <th>12136</th>\n",
       "      <td>9.026122</td>\n",
       "      <td>8.769059</td>\n",
       "      <td>3.020251</td>\n",
       "      <td>39.314207</td>\n",
       "      <td>573.666121</td>\n",
       "      <td>82.826034</td>\n",
       "      <td>10.496884</td>\n",
       "      <td>6.346330</td>\n",
       "      <td>1395.909178</td>\n",
       "      <td>-300.346614</td>\n",
       "      <td>...</td>\n",
       "      <td>8.173988</td>\n",
       "      <td>73.519948</td>\n",
       "      <td>2.760905</td>\n",
       "      <td>8.846540</td>\n",
       "      <td>1.479231</td>\n",
       "      <td>13.094763</td>\n",
       "      <td>-0.0</td>\n",
       "      <td>73.519948</td>\n",
       "      <td>20.815431</td>\n",
       "      <td>0.0</td>\n",
       "    </tr>\n",
       "    <tr>\n",
       "      <th>12137</th>\n",
       "      <td>8.752430</td>\n",
       "      <td>8.705607</td>\n",
       "      <td>2.881386</td>\n",
       "      <td>38.927725</td>\n",
       "      <td>590.638687</td>\n",
       "      <td>81.400786</td>\n",
       "      <td>9.966670</td>\n",
       "      <td>6.399316</td>\n",
       "      <td>1400.365227</td>\n",
       "      <td>-299.762683</td>\n",
       "      <td>...</td>\n",
       "      <td>8.396492</td>\n",
       "      <td>78.415342</td>\n",
       "      <td>2.198065</td>\n",
       "      <td>8.485093</td>\n",
       "      <td>1.155559</td>\n",
       "      <td>13.380461</td>\n",
       "      <td>-0.0</td>\n",
       "      <td>78.415342</td>\n",
       "      <td>20.339423</td>\n",
       "      <td>0.0</td>\n",
       "    </tr>\n",
       "    <tr>\n",
       "      <th>12138</th>\n",
       "      <td>8.467616</td>\n",
       "      <td>8.897043</td>\n",
       "      <td>2.760468</td>\n",
       "      <td>39.365847</td>\n",
       "      <td>600.568146</td>\n",
       "      <td>84.250525</td>\n",
       "      <td>9.935255</td>\n",
       "      <td>6.396890</td>\n",
       "      <td>1398.449419</td>\n",
       "      <td>-299.974952</td>\n",
       "      <td>...</td>\n",
       "      <td>8.756321</td>\n",
       "      <td>81.353620</td>\n",
       "      <td>1.847744</td>\n",
       "      <td>8.900304</td>\n",
       "      <td>0.954961</td>\n",
       "      <td>13.374091</td>\n",
       "      <td>-0.0</td>\n",
       "      <td>81.353620</td>\n",
       "      <td>20.125127</td>\n",
       "      <td>0.0</td>\n",
       "    </tr>\n",
       "  </tbody>\n",
       "</table>\n",
       "<p>394 rows × 90 columns</p>\n",
       "</div>"
      ],
      "text/plain": [
       "       rougher.input.feed_au  rougher.input.feed_ag  rougher.input.feed_pb  \\\n",
       "36                  7.114065               7.521974               2.811569   \n",
       "37                  7.651522               7.313187               2.973841   \n",
       "38                  5.587750               7.934791               1.763437   \n",
       "39                  4.752992               7.756881               1.025762   \n",
       "40                  5.122801               5.393466               1.824835   \n",
       "...                      ...                    ...                    ...   \n",
       "12134               7.951063               8.576019               2.607144   \n",
       "12135               8.715784               8.640039               2.905023   \n",
       "12136               9.026122               8.769059               3.020251   \n",
       "12137               8.752430               8.705607               2.881386   \n",
       "12138               8.467616               8.897043               2.760468   \n",
       "\n",
       "       rougher.input.feed_sol  rougher.input.feed_rate  \\\n",
       "36                  41.154430               581.605260   \n",
       "37                  41.983063               562.972841   \n",
       "38                  34.446840               229.379445   \n",
       "39                  11.816724               228.510521   \n",
       "40                  28.380274               550.606559   \n",
       "...                       ...                      ...   \n",
       "12134               38.972270               570.495631   \n",
       "12135               39.239893               581.010329   \n",
       "12136               39.314207               573.666121   \n",
       "12137               38.927725               590.638687   \n",
       "12138               39.365847               600.568146   \n",
       "\n",
       "       rougher.input.feed_size  rougher.input.floatbank10_sulfate  \\\n",
       "36                   65.620714                          13.322740   \n",
       "37                   66.014780                          14.433889   \n",
       "38                   40.601032                          10.865871   \n",
       "39                   41.248945                           5.908582   \n",
       "40                   45.329106                          10.060214   \n",
       "...                        ...                                ...   \n",
       "12134                83.488615                           9.393174   \n",
       "12135                83.286682                           9.974236   \n",
       "12136                82.826034                          10.496884   \n",
       "12137                81.400786                           9.966670   \n",
       "12138                84.250525                           9.935255   \n",
       "\n",
       "       rougher.input.floatbank10_xanthate  rougher.state.floatbank10_a_air  \\\n",
       "36                               7.504592                       999.026619   \n",
       "37                               7.583598                       999.846655   \n",
       "38                               5.648950                      1003.354806   \n",
       "39                               5.048482                       998.548594   \n",
       "40                               7.758600                      1000.013401   \n",
       "...                                   ...                              ...   \n",
       "12134                            6.199710                      1401.356444   \n",
       "12135                            6.198513                      1401.413087   \n",
       "12136                            6.346330                      1395.909178   \n",
       "12137                            6.399316                      1400.365227   \n",
       "12138                            6.396890                      1398.449419   \n",
       "\n",
       "       rougher.state.floatbank10_a_level  ...  final.output.concentrate_sol  \\\n",
       "36                           -499.850895  ...                      4.588698   \n",
       "37                           -500.082738  ...                      5.274175   \n",
       "38                           -501.078303  ...                      5.688961   \n",
       "39                           -500.170221  ...                      7.769770   \n",
       "40                           -499.520359  ...                      5.965126   \n",
       "...                                  ...  ...                           ...   \n",
       "12134                        -300.054420  ...                      8.191698   \n",
       "12135                        -299.653521  ...                      8.326773   \n",
       "12136                        -300.346614  ...                      8.173988   \n",
       "12137                        -299.762683  ...                      8.396492   \n",
       "12138                        -299.974952  ...                      8.756321   \n",
       "\n",
       "       final.output.recovery  final.output.tail_au  final.output.tail_ag  \\\n",
       "36                 68.403877              2.509776             10.705777   \n",
       "37                 70.675633              2.540843             10.728531   \n",
       "38                 55.088448              2.686782             10.694584   \n",
       "39                 41.962008              2.889469             11.975654   \n",
       "40                 49.884856              2.739224             10.381465   \n",
       "...                      ...                   ...                   ...   \n",
       "12134              83.597741              1.515512              8.853800   \n",
       "12135              84.738648              1.573222              8.503813   \n",
       "12136              73.519948              2.760905              8.846540   \n",
       "12137              78.415342              2.198065              8.485093   \n",
       "12138              81.353620              1.847744              8.900304   \n",
       "\n",
       "       final.output.tail_pb  final.output.tail_sol  recovry_rougher_my  \\\n",
       "36                 1.509070              17.875134                -0.0   \n",
       "37                 1.641216              18.349339                -0.0   \n",
       "38                 1.671644              17.910312                -0.0   \n",
       "39                 1.846558               8.138408                -0.0   \n",
       "40                 1.024030              12.974257                -0.0   \n",
       "...                     ...                    ...                 ...   \n",
       "12134              0.717677              13.399798                -0.0   \n",
       "12135              0.757507              13.591903                -0.0   \n",
       "12136              1.479231              13.094763                -0.0   \n",
       "12137              1.155559              13.380461                -0.0   \n",
       "12138              0.954961              13.374091                -0.0   \n",
       "\n",
       "       recovry_final_my  sum_input_train  sum_after_rougher_train  \n",
       "36            68.403877        17.447608                      0.0  \n",
       "37            70.675633        17.938550                      0.0  \n",
       "38            55.088448        15.285978                      0.0  \n",
       "39            41.962008        13.535634                      0.0  \n",
       "40            49.884856        12.341101                      0.0  \n",
       "...                 ...              ...                      ...  \n",
       "12134         83.597741        19.134226                      0.0  \n",
       "12135         84.738648        20.260847                      0.0  \n",
       "12136         73.519948        20.815431                      0.0  \n",
       "12137         78.415342        20.339423                      0.0  \n",
       "12138         81.353620        20.125127                      0.0  \n",
       "\n",
       "[394 rows x 90 columns]"
      ]
     },
     "execution_count": 51,
     "metadata": {},
     "output_type": "execute_result"
    }
   ],
   "source": [
    "train_final[list_del]"
   ]
  },
  {
   "cell_type": "code",
   "execution_count": 52,
   "metadata": {},
   "outputs": [],
   "source": [
    "train_final = train_final.drop(train_final[list_del].index)"
   ]
  },
  {
   "cell_type": "code",
   "execution_count": 53,
   "metadata": {},
   "outputs": [
    {
     "data": {
      "text/plain": [
       "14182"
      ]
     },
     "execution_count": 53,
     "metadata": {},
     "output_type": "execute_result"
    }
   ],
   "source": [
    "len(train_final)"
   ]
  },
  {
   "cell_type": "code",
   "execution_count": 54,
   "metadata": {},
   "outputs": [],
   "source": [
    "#after first clean\n",
    "train_final['sum_after_1cl_train'] = train_final['primary_cleaner.output.concentrate_ag']+ train_final['primary_cleaner.output.concentrate_pb'] + train_final['primary_cleaner.output.concentrate_au']"
   ]
  },
  {
   "cell_type": "code",
   "execution_count": 55,
   "metadata": {},
   "outputs": [],
   "source": [
    "list_del = train_final['sum_after_1cl_train']<1"
   ]
  },
  {
   "cell_type": "code",
   "execution_count": 56,
   "metadata": {},
   "outputs": [],
   "source": [
    "train_final = train_final.drop(train_final[list_del].index)"
   ]
  },
  {
   "cell_type": "code",
   "execution_count": 57,
   "metadata": {},
   "outputs": [
    {
     "data": {
      "text/plain": [
       "13978"
      ]
     },
     "execution_count": 57,
     "metadata": {},
     "output_type": "execute_result"
    }
   ],
   "source": [
    "len(train_final)"
   ]
  },
  {
   "cell_type": "code",
   "execution_count": 58,
   "metadata": {},
   "outputs": [],
   "source": [
    "train_final['sum_final_train'] = train_final['final.output.concentrate_ag']\\\n",
    "+ train_final['final.output.concentrate_pb'] + train_final['final.output.concentrate_au']"
   ]
  },
  {
   "cell_type": "code",
   "execution_count": 59,
   "metadata": {},
   "outputs": [],
   "source": [
    "list_del = train_final['sum_final_train']<1"
   ]
  },
  {
   "cell_type": "code",
   "execution_count": 60,
   "metadata": {},
   "outputs": [],
   "source": [
    "train_final = train_final.drop(train_final[list_del].index)"
   ]
  },
  {
   "cell_type": "code",
   "execution_count": 61,
   "metadata": {},
   "outputs": [
    {
     "data": {
      "text/plain": [
       "13883"
      ]
     },
     "execution_count": 61,
     "metadata": {},
     "output_type": "execute_result"
    }
   ],
   "source": [
    "len(train_final)"
   ]
  },
  {
   "cell_type": "code",
   "execution_count": 62,
   "metadata": {},
   "outputs": [
    {
     "data": {
      "text/plain": [
       "<function matplotlib.pyplot.show(close=None, block=None)>"
      ]
     },
     "execution_count": 62,
     "metadata": {},
     "output_type": "execute_result"
    },
    {
     "data": {
      "image/png": "[encoded data removed]",
      "text/plain": [
       "<Figure size 1500x800 with 1 Axes>"
      ]
     },
     "metadata": {},
     "output_type": "display_data"
    }
   ],
   "source": [
    "plt.figure(figsize=(15,8))\n",
    "\n",
    "train_final['sum_input_train'].hist(bins=50, alpha=0.5,label='initial total concentration')\n",
    "train_final['sum_after_rougher_train'].hist( bins= 50, alpha=0.5, label = 'total concentration after flotation')\n",
    "train_final['sum_after_1cl_train'].hist( bins=50, alpha=0.5, label='total concentration after 1 wash')\n",
    "train_final['sum_final_train'].hist(bins=50, alpha=0.5, label='final total concentration')\n",
    "\n",
    "plt.xlabel('total concentration of all substances')\n",
    "plt.ylabel('number of values received')\n",
    "\n",
    "plt.title('Histogram of the total concentration of all substances at the purification stages')\n",
    "plt.legend()\n",
    "plt.show"
   ]
  },
  {
   "cell_type": "markdown",
   "metadata": {},
   "source": [
    "Thanks to the summation, zero values ​​were found that could distort ml learning. Now we don’t need these total values"
   ]
  },
  {
   "cell_type": "code",
   "execution_count": 63,
   "metadata": {},
   "outputs": [],
   "source": [
    "train_final = train_final.drop('sum_input_train', axis=1)"
   ]
  },
  {
   "cell_type": "code",
   "execution_count": 64,
   "metadata": {},
   "outputs": [],
   "source": [
    "train_final = train_final.drop('sum_after_1cl_train', axis=1)"
   ]
  },
  {
   "cell_type": "code",
   "execution_count": 65,
   "metadata": {},
   "outputs": [],
   "source": [
    "train_final = train_final.drop('sum_after_rougher_train', axis=1)"
   ]
  },
  {
   "cell_type": "code",
   "execution_count": 66,
   "metadata": {},
   "outputs": [],
   "source": [
    "train_final = train_final.drop('sum_final_train', axis=1)"
   ]
  },
  {
   "cell_type": "code",
   "execution_count": 67,
   "metadata": {
    "scrolled": true
   },
   "outputs": [
    {
     "name": "stdout",
     "output_type": "stream",
     "text": [
      "<class 'pandas.core.frame.DataFrame'>\n",
      "Int64Index: 13883 entries, 0 to 14578\n",
      "Data columns (total 88 columns):\n",
      " #   Column                                              Non-Null Count  Dtype  \n",
      "---  ------                                              --------------  -----  \n",
      " 0   rougher.input.feed_au                               13883 non-null  float64\n",
      " 1   rougher.input.feed_ag                               13883 non-null  float64\n",
      " 2   rougher.input.feed_pb                               13883 non-null  float64\n",
      " 3   rougher.input.feed_sol                              13883 non-null  float64\n",
      " 4   rougher.input.feed_rate                             13883 non-null  float64\n",
      " 5   rougher.input.feed_size                             13883 non-null  float64\n",
      " 6   rougher.input.floatbank10_sulfate                   13883 non-null  float64\n",
      " 7   rougher.input.floatbank10_xanthate                  13883 non-null  float64\n",
      " 8   rougher.state.floatbank10_a_air                     13883 non-null  float64\n",
      " 9   rougher.state.floatbank10_a_level                   13883 non-null  float64\n",
      " 10  rougher.state.floatbank10_b_air                     13883 non-null  float64\n",
      " 11  rougher.state.floatbank10_b_level                   13883 non-null  float64\n",
      " 12  rougher.state.floatbank10_c_air                     13883 non-null  float64\n",
      " 13  rougher.state.floatbank10_c_level                   13883 non-null  float64\n",
      " 14  rougher.state.floatbank10_d_air                     13883 non-null  float64\n",
      " 15  rougher.state.floatbank10_d_level                   13883 non-null  float64\n",
      " 16  rougher.state.floatbank10_e_air                     13883 non-null  float64\n",
      " 17  rougher.state.floatbank10_e_level                   13883 non-null  float64\n",
      " 18  rougher.state.floatbank10_f_air                     13883 non-null  float64\n",
      " 19  rougher.state.floatbank10_f_level                   13883 non-null  float64\n",
      " 20  rougher.input.floatbank11_sulfate                   13883 non-null  float64\n",
      " 21  rougher.input.floatbank11_xanthate                  13883 non-null  float64\n",
      " 22  rougher.calculation.sulfate_to_au_concentrate       13883 non-null  float64\n",
      " 23  rougher.calculation.floatbank10_sulfate_to_au_feed  13883 non-null  float64\n",
      " 24  rougher.calculation.floatbank11_sulfate_to_au_feed  13883 non-null  float64\n",
      " 25  rougher.calculation.au_pb_ratio                     13883 non-null  float64\n",
      " 26  rougher.output.concentrate_au                       13883 non-null  float64\n",
      " 27  rougher.output.concentrate_ag                       13883 non-null  float64\n",
      " 28  rougher.output.concentrate_pb                       13883 non-null  float64\n",
      " 29  rougher.output.concentrate_sol                      13883 non-null  float64\n",
      " 30  rougher.output.recovery                             13883 non-null  float64\n",
      " 31  rougher.output.tail_au                              13883 non-null  float64\n",
      " 32  rougher.output.tail_ag                              13883 non-null  float64\n",
      " 33  rougher.output.tail_pb                              13883 non-null  float64\n",
      " 34  rougher.output.tail_sol                             13883 non-null  float64\n",
      " 35  primary_cleaner.input.sulfate                       13883 non-null  float64\n",
      " 36  primary_cleaner.input.depressant                    13883 non-null  float64\n",
      " 37  primary_cleaner.input.feed_size                     13883 non-null  float64\n",
      " 38  primary_cleaner.input.xanthate                      13883 non-null  float64\n",
      " 39  primary_cleaner.state.floatbank8_a_air              13883 non-null  float64\n",
      " 40  primary_cleaner.state.floatbank8_a_level            13883 non-null  float64\n",
      " 41  primary_cleaner.state.floatbank8_b_air              13883 non-null  float64\n",
      " 42  primary_cleaner.state.floatbank8_b_level            13883 non-null  float64\n",
      " 43  primary_cleaner.state.floatbank8_c_air              13883 non-null  float64\n",
      " 44  primary_cleaner.state.floatbank8_c_level            13883 non-null  float64\n",
      " 45  primary_cleaner.state.floatbank8_d_air              13883 non-null  float64\n",
      " 46  primary_cleaner.state.floatbank8_d_level            13883 non-null  float64\n",
      " 47  primary_cleaner.output.concentrate_au               13883 non-null  float64\n",
      " 48  primary_cleaner.output.concentrate_ag               13883 non-null  float64\n",
      " 49  primary_cleaner.output.concentrate_pb               13883 non-null  float64\n",
      " 50  primary_cleaner.output.concentrate_sol              13883 non-null  float64\n",
      " 51  primary_cleaner.output.tail_au                      13883 non-null  float64\n",
      " 52  primary_cleaner.output.tail_ag                      13883 non-null  float64\n",
      " 53  primary_cleaner.output.tail_pb                      13883 non-null  float64\n",
      " 54  primary_cleaner.output.tail_sol                     13883 non-null  float64\n",
      " 55  secondary_cleaner.state.floatbank2_a_air            13883 non-null  float64\n",
      " 56  secondary_cleaner.state.floatbank2_a_level          13883 non-null  float64\n",
      " 57  secondary_cleaner.state.floatbank2_b_air            13883 non-null  float64\n",
      " 58  secondary_cleaner.state.floatbank2_b_level          13883 non-null  float64\n",
      " 59  secondary_cleaner.state.floatbank3_a_air            13883 non-null  float64\n",
      " 60  secondary_cleaner.state.floatbank3_a_level          13883 non-null  float64\n",
      " 61  secondary_cleaner.state.floatbank3_b_air            13883 non-null  float64\n",
      " 62  secondary_cleaner.state.floatbank3_b_level          13883 non-null  float64\n",
      " 63  secondary_cleaner.state.floatbank4_a_air            13883 non-null  float64\n",
      " 64  secondary_cleaner.state.floatbank4_a_level          13883 non-null  float64\n",
      " 65  secondary_cleaner.state.floatbank4_b_air            13883 non-null  float64\n",
      " 66  secondary_cleaner.state.floatbank4_b_level          13883 non-null  float64\n",
      " 67  secondary_cleaner.state.floatbank5_a_air            13883 non-null  float64\n",
      " 68  secondary_cleaner.state.floatbank5_a_level          13883 non-null  float64\n",
      " 69  secondary_cleaner.state.floatbank5_b_air            13883 non-null  float64\n",
      " 70  secondary_cleaner.state.floatbank5_b_level          13883 non-null  float64\n",
      " 71  secondary_cleaner.state.floatbank6_a_air            13883 non-null  float64\n",
      " 72  secondary_cleaner.state.floatbank6_a_level          13883 non-null  float64\n",
      " 73  secondary_cleaner.output.tail_au                    13883 non-null  float64\n",
      " 74  secondary_cleaner.output.tail_ag                    13883 non-null  float64\n",
      " 75  secondary_cleaner.output.tail_pb                    13883 non-null  float64\n",
      " 76  secondary_cleaner.output.tail_sol                   13883 non-null  float64\n",
      " 77  final.output.concentrate_au                         13883 non-null  float64\n",
      " 78  final.output.concentrate_ag                         13883 non-null  float64\n",
      " 79  final.output.concentrate_pb                         13883 non-null  float64\n",
      " 80  final.output.concentrate_sol                        13883 non-null  float64\n",
      " 81  final.output.recovery                               13883 non-null  float64\n",
      " 82  final.output.tail_au                                13883 non-null  float64\n",
      " 83  final.output.tail_ag                                13883 non-null  float64\n",
      " 84  final.output.tail_pb                                13883 non-null  float64\n",
      " 85  final.output.tail_sol                               13883 non-null  float64\n",
      " 86  recovry_rougher_my                                  13883 non-null  float64\n",
      " 87  recovry_final_my                                    13883 non-null  float64\n",
      "dtypes: float64(88)\n",
      "memory usage: 9.4 MB\n"
     ]
    }
   ],
   "source": [
    "train_final.info()"
   ]
  },
  {
   "cell_type": "markdown",
   "metadata": {},
   "source": [
    "##  Build a model\n",
    "\n"
   ]
  },
  {
   "cell_type": "markdown",
   "metadata": {},
   "source": [
    "3.1. Write a function to calculate the final sMAPE."
   ]
  },
  {
   "cell_type": "code",
   "execution_count": 68,
   "metadata": {},
   "outputs": [],
   "source": [
    "def sMare_func (target, predict):\n",
    "    x = abs(target-predict)\n",
    "    y = (abs(target)+abs(predict))/2\n",
    "    sMARE = (x/y).mean()*100\n",
    "    return sMARE"
   ]
  },
  {
   "cell_type": "code",
   "execution_count": 69,
   "metadata": {},
   "outputs": [],
   "source": [
    "def final_sMARE (sMARE_rougher, sMARE_end):\n",
    "    SMARE = sMARE_rougher*0.25 + sMARE_end*0.75\n",
    "    return SMARE"
   ]
  },
  {
   "cell_type": "markdown",
   "metadata": {},
   "source": [
    "3.2. Train different models and evaluate their quality through cross-validation. Select the best model and test it on a test set."
   ]
  },
  {
   "cell_type": "markdown",
   "metadata": {},
   "source": [
    "Let's decide on the signs and targets.\n",
    "We have a list of metrics (diff), which are online metrics (obtained during the cleaning process). We don't need them to train models.\n",
    "For a model predicting the coefficient after flotation, the target will be the rougher.output.recovery column, and the attributes will be all the attributes remaining after deleting online metrics with the mention rougher/\n",
    "\n",
    "for a model predicting the final coefficient, the final.output.recovery column will be the target.\n",
    "\n",
    "Plan: first we will get a dataframe with all the necessary features, then we will select the features for the model that predicts the coefficients after flotation, combine the necessary features with the necessary targets and divide the volume of sampling into training and validation. Then select the targets"
   ]
  },
  {
   "cell_type": "code",
   "execution_count": 70,
   "metadata": {},
   "outputs": [],
   "source": [
    "train_final = train_final.drop(['recovry_rougher_my','recovry_final_my'], axis=1)"
   ]
  },
  {
   "cell_type": "code",
   "execution_count": 71,
   "metadata": {
    "scrolled": true
   },
   "outputs": [
    {
     "name": "stdout",
     "output_type": "stream",
     "text": [
      "<class 'pandas.core.frame.DataFrame'>\n",
      "Int64Index: 13883 entries, 0 to 14578\n",
      "Data columns (total 86 columns):\n",
      " #   Column                                              Non-Null Count  Dtype  \n",
      "---  ------                                              --------------  -----  \n",
      " 0   rougher.input.feed_au                               13883 non-null  float64\n",
      " 1   rougher.input.feed_ag                               13883 non-null  float64\n",
      " 2   rougher.input.feed_pb                               13883 non-null  float64\n",
      " 3   rougher.input.feed_sol                              13883 non-null  float64\n",
      " 4   rougher.input.feed_rate                             13883 non-null  float64\n",
      " 5   rougher.input.feed_size                             13883 non-null  float64\n",
      " 6   rougher.input.floatbank10_sulfate                   13883 non-null  float64\n",
      " 7   rougher.input.floatbank10_xanthate                  13883 non-null  float64\n",
      " 8   rougher.state.floatbank10_a_air                     13883 non-null  float64\n",
      " 9   rougher.state.floatbank10_a_level                   13883 non-null  float64\n",
      " 10  rougher.state.floatbank10_b_air                     13883 non-null  float64\n",
      " 11  rougher.state.floatbank10_b_level                   13883 non-null  float64\n",
      " 12  rougher.state.floatbank10_c_air                     13883 non-null  float64\n",
      " 13  rougher.state.floatbank10_c_level                   13883 non-null  float64\n",
      " 14  rougher.state.floatbank10_d_air                     13883 non-null  float64\n",
      " 15  rougher.state.floatbank10_d_level                   13883 non-null  float64\n",
      " 16  rougher.state.floatbank10_e_air                     13883 non-null  float64\n",
      " 17  rougher.state.floatbank10_e_level                   13883 non-null  float64\n",
      " 18  rougher.state.floatbank10_f_air                     13883 non-null  float64\n",
      " 19  rougher.state.floatbank10_f_level                   13883 non-null  float64\n",
      " 20  rougher.input.floatbank11_sulfate                   13883 non-null  float64\n",
      " 21  rougher.input.floatbank11_xanthate                  13883 non-null  float64\n",
      " 22  rougher.calculation.sulfate_to_au_concentrate       13883 non-null  float64\n",
      " 23  rougher.calculation.floatbank10_sulfate_to_au_feed  13883 non-null  float64\n",
      " 24  rougher.calculation.floatbank11_sulfate_to_au_feed  13883 non-null  float64\n",
      " 25  rougher.calculation.au_pb_ratio                     13883 non-null  float64\n",
      " 26  rougher.output.concentrate_au                       13883 non-null  float64\n",
      " 27  rougher.output.concentrate_ag                       13883 non-null  float64\n",
      " 28  rougher.output.concentrate_pb                       13883 non-null  float64\n",
      " 29  rougher.output.concentrate_sol                      13883 non-null  float64\n",
      " 30  rougher.output.recovery                             13883 non-null  float64\n",
      " 31  rougher.output.tail_au                              13883 non-null  float64\n",
      " 32  rougher.output.tail_ag                              13883 non-null  float64\n",
      " 33  rougher.output.tail_pb                              13883 non-null  float64\n",
      " 34  rougher.output.tail_sol                             13883 non-null  float64\n",
      " 35  primary_cleaner.input.sulfate                       13883 non-null  float64\n",
      " 36  primary_cleaner.input.depressant                    13883 non-null  float64\n",
      " 37  primary_cleaner.input.feed_size                     13883 non-null  float64\n",
      " 38  primary_cleaner.input.xanthate                      13883 non-null  float64\n",
      " 39  primary_cleaner.state.floatbank8_a_air              13883 non-null  float64\n",
      " 40  primary_cleaner.state.floatbank8_a_level            13883 non-null  float64\n",
      " 41  primary_cleaner.state.floatbank8_b_air              13883 non-null  float64\n",
      " 42  primary_cleaner.state.floatbank8_b_level            13883 non-null  float64\n",
      " 43  primary_cleaner.state.floatbank8_c_air              13883 non-null  float64\n",
      " 44  primary_cleaner.state.floatbank8_c_level            13883 non-null  float64\n",
      " 45  primary_cleaner.state.floatbank8_d_air              13883 non-null  float64\n",
      " 46  primary_cleaner.state.floatbank8_d_level            13883 non-null  float64\n",
      " 47  primary_cleaner.output.concentrate_au               13883 non-null  float64\n",
      " 48  primary_cleaner.output.concentrate_ag               13883 non-null  float64\n",
      " 49  primary_cleaner.output.concentrate_pb               13883 non-null  float64\n",
      " 50  primary_cleaner.output.concentrate_sol              13883 non-null  float64\n",
      " 51  primary_cleaner.output.tail_au                      13883 non-null  float64\n",
      " 52  primary_cleaner.output.tail_ag                      13883 non-null  float64\n",
      " 53  primary_cleaner.output.tail_pb                      13883 non-null  float64\n",
      " 54  primary_cleaner.output.tail_sol                     13883 non-null  float64\n",
      " 55  secondary_cleaner.state.floatbank2_a_air            13883 non-null  float64\n",
      " 56  secondary_cleaner.state.floatbank2_a_level          13883 non-null  float64\n",
      " 57  secondary_cleaner.state.floatbank2_b_air            13883 non-null  float64\n",
      " 58  secondary_cleaner.state.floatbank2_b_level          13883 non-null  float64\n",
      " 59  secondary_cleaner.state.floatbank3_a_air            13883 non-null  float64\n",
      " 60  secondary_cleaner.state.floatbank3_a_level          13883 non-null  float64\n",
      " 61  secondary_cleaner.state.floatbank3_b_air            13883 non-null  float64\n",
      " 62  secondary_cleaner.state.floatbank3_b_level          13883 non-null  float64\n",
      " 63  secondary_cleaner.state.floatbank4_a_air            13883 non-null  float64\n",
      " 64  secondary_cleaner.state.floatbank4_a_level          13883 non-null  float64\n",
      " 65  secondary_cleaner.state.floatbank4_b_air            13883 non-null  float64\n",
      " 66  secondary_cleaner.state.floatbank4_b_level          13883 non-null  float64\n",
      " 67  secondary_cleaner.state.floatbank5_a_air            13883 non-null  float64\n",
      " 68  secondary_cleaner.state.floatbank5_a_level          13883 non-null  float64\n",
      " 69  secondary_cleaner.state.floatbank5_b_air            13883 non-null  float64\n",
      " 70  secondary_cleaner.state.floatbank5_b_level          13883 non-null  float64\n",
      " 71  secondary_cleaner.state.floatbank6_a_air            13883 non-null  float64\n",
      " 72  secondary_cleaner.state.floatbank6_a_level          13883 non-null  float64\n",
      " 73  secondary_cleaner.output.tail_au                    13883 non-null  float64\n",
      " 74  secondary_cleaner.output.tail_ag                    13883 non-null  float64\n",
      " 75  secondary_cleaner.output.tail_pb                    13883 non-null  float64\n",
      " 76  secondary_cleaner.output.tail_sol                   13883 non-null  float64\n",
      " 77  final.output.concentrate_au                         13883 non-null  float64\n",
      " 78  final.output.concentrate_ag                         13883 non-null  float64\n",
      " 79  final.output.concentrate_pb                         13883 non-null  float64\n",
      " 80  final.output.concentrate_sol                        13883 non-null  float64\n",
      " 81  final.output.recovery                               13883 non-null  float64\n",
      " 82  final.output.tail_au                                13883 non-null  float64\n",
      " 83  final.output.tail_ag                                13883 non-null  float64\n",
      " 84  final.output.tail_pb                                13883 non-null  float64\n",
      " 85  final.output.tail_sol                               13883 non-null  float64\n",
      "dtypes: float64(86)\n",
      "memory usage: 9.2 MB\n"
     ]
    }
   ],
   "source": [
    "train_final.info()"
   ]
  },
  {
   "cell_type": "code",
   "execution_count": 72,
   "metadata": {},
   "outputs": [],
   "source": [
    "df_all_train = train_final.drop(diff, axis=1)"
   ]
  },
  {
   "cell_type": "code",
   "execution_count": 73,
   "metadata": {
    "scrolled": true
   },
   "outputs": [
    {
     "name": "stdout",
     "output_type": "stream",
     "text": [
      "<class 'pandas.core.frame.DataFrame'>\n",
      "Int64Index: 13883 entries, 0 to 14578\n",
      "Data columns (total 52 columns):\n",
      " #   Column                                      Non-Null Count  Dtype  \n",
      "---  ------                                      --------------  -----  \n",
      " 0   rougher.input.feed_au                       13883 non-null  float64\n",
      " 1   rougher.input.feed_ag                       13883 non-null  float64\n",
      " 2   rougher.input.feed_pb                       13883 non-null  float64\n",
      " 3   rougher.input.feed_sol                      13883 non-null  float64\n",
      " 4   rougher.input.feed_rate                     13883 non-null  float64\n",
      " 5   rougher.input.feed_size                     13883 non-null  float64\n",
      " 6   rougher.input.floatbank10_sulfate           13883 non-null  float64\n",
      " 7   rougher.input.floatbank10_xanthate          13883 non-null  float64\n",
      " 8   rougher.state.floatbank10_a_air             13883 non-null  float64\n",
      " 9   rougher.state.floatbank10_a_level           13883 non-null  float64\n",
      " 10  rougher.state.floatbank10_b_air             13883 non-null  float64\n",
      " 11  rougher.state.floatbank10_b_level           13883 non-null  float64\n",
      " 12  rougher.state.floatbank10_c_air             13883 non-null  float64\n",
      " 13  rougher.state.floatbank10_c_level           13883 non-null  float64\n",
      " 14  rougher.state.floatbank10_d_air             13883 non-null  float64\n",
      " 15  rougher.state.floatbank10_d_level           13883 non-null  float64\n",
      " 16  rougher.state.floatbank10_e_air             13883 non-null  float64\n",
      " 17  rougher.state.floatbank10_e_level           13883 non-null  float64\n",
      " 18  rougher.state.floatbank10_f_air             13883 non-null  float64\n",
      " 19  rougher.state.floatbank10_f_level           13883 non-null  float64\n",
      " 20  rougher.input.floatbank11_sulfate           13883 non-null  float64\n",
      " 21  rougher.input.floatbank11_xanthate          13883 non-null  float64\n",
      " 22  primary_cleaner.input.sulfate               13883 non-null  float64\n",
      " 23  primary_cleaner.input.depressant            13883 non-null  float64\n",
      " 24  primary_cleaner.input.feed_size             13883 non-null  float64\n",
      " 25  primary_cleaner.input.xanthate              13883 non-null  float64\n",
      " 26  primary_cleaner.state.floatbank8_a_air      13883 non-null  float64\n",
      " 27  primary_cleaner.state.floatbank8_a_level    13883 non-null  float64\n",
      " 28  primary_cleaner.state.floatbank8_b_air      13883 non-null  float64\n",
      " 29  primary_cleaner.state.floatbank8_b_level    13883 non-null  float64\n",
      " 30  primary_cleaner.state.floatbank8_c_air      13883 non-null  float64\n",
      " 31  primary_cleaner.state.floatbank8_c_level    13883 non-null  float64\n",
      " 32  primary_cleaner.state.floatbank8_d_air      13883 non-null  float64\n",
      " 33  primary_cleaner.state.floatbank8_d_level    13883 non-null  float64\n",
      " 34  secondary_cleaner.state.floatbank2_a_air    13883 non-null  float64\n",
      " 35  secondary_cleaner.state.floatbank2_a_level  13883 non-null  float64\n",
      " 36  secondary_cleaner.state.floatbank2_b_air    13883 non-null  float64\n",
      " 37  secondary_cleaner.state.floatbank2_b_level  13883 non-null  float64\n",
      " 38  secondary_cleaner.state.floatbank3_a_air    13883 non-null  float64\n",
      " 39  secondary_cleaner.state.floatbank3_a_level  13883 non-null  float64\n",
      " 40  secondary_cleaner.state.floatbank3_b_air    13883 non-null  float64\n",
      " 41  secondary_cleaner.state.floatbank3_b_level  13883 non-null  float64\n",
      " 42  secondary_cleaner.state.floatbank4_a_air    13883 non-null  float64\n",
      " 43  secondary_cleaner.state.floatbank4_a_level  13883 non-null  float64\n",
      " 44  secondary_cleaner.state.floatbank4_b_air    13883 non-null  float64\n",
      " 45  secondary_cleaner.state.floatbank4_b_level  13883 non-null  float64\n",
      " 46  secondary_cleaner.state.floatbank5_a_air    13883 non-null  float64\n",
      " 47  secondary_cleaner.state.floatbank5_a_level  13883 non-null  float64\n",
      " 48  secondary_cleaner.state.floatbank5_b_air    13883 non-null  float64\n",
      " 49  secondary_cleaner.state.floatbank5_b_level  13883 non-null  float64\n",
      " 50  secondary_cleaner.state.floatbank6_a_air    13883 non-null  float64\n",
      " 51  secondary_cleaner.state.floatbank6_a_level  13883 non-null  float64\n",
      "dtypes: float64(52)\n",
      "memory usage: 5.6 MB\n"
     ]
    }
   ],
   "source": [
    "df_all_train.info()"
   ]
  },
  {
   "cell_type": "markdown",
   "metadata": {},
   "source": [
    "highlight the signs for flotation"
   ]
  },
  {
   "cell_type": "code",
   "execution_count": 74,
   "metadata": {},
   "outputs": [],
   "source": [
    "list_for_rougher = []\n",
    "for i in df_all_train:\n",
    "    if 'rougher' in i:\n",
    "        list_for_rougher.append(i) "
   ]
  },
  {
   "cell_type": "code",
   "execution_count": 75,
   "metadata": {},
   "outputs": [],
   "source": [
    "df_rougher = df_all_train.loc[:,list_for_rougher]"
   ]
  },
  {
   "cell_type": "code",
   "execution_count": 76,
   "metadata": {},
   "outputs": [],
   "source": [
    "df_rougher['rougher.output.recovery'] = train_final['rougher.output.recovery']"
   ]
  },
  {
   "cell_type": "code",
   "execution_count": 77,
   "metadata": {},
   "outputs": [],
   "source": [
    "df_all_train['final.output.recovery'] = train_final['final.output.recovery']"
   ]
  },
  {
   "cell_type": "code",
   "execution_count": 78,
   "metadata": {
    "scrolled": true
   },
   "outputs": [
    {
     "name": "stdout",
     "output_type": "stream",
     "text": [
      "<class 'pandas.core.frame.DataFrame'>\n",
      "Int64Index: 13883 entries, 0 to 14578\n",
      "Data columns (total 23 columns):\n",
      " #   Column                              Non-Null Count  Dtype  \n",
      "---  ------                              --------------  -----  \n",
      " 0   rougher.input.feed_au               13883 non-null  float64\n",
      " 1   rougher.input.feed_ag               13883 non-null  float64\n",
      " 2   rougher.input.feed_pb               13883 non-null  float64\n",
      " 3   rougher.input.feed_sol              13883 non-null  float64\n",
      " 4   rougher.input.feed_rate             13883 non-null  float64\n",
      " 5   rougher.input.feed_size             13883 non-null  float64\n",
      " 6   rougher.input.floatbank10_sulfate   13883 non-null  float64\n",
      " 7   rougher.input.floatbank10_xanthate  13883 non-null  float64\n",
      " 8   rougher.state.floatbank10_a_air     13883 non-null  float64\n",
      " 9   rougher.state.floatbank10_a_level   13883 non-null  float64\n",
      " 10  rougher.state.floatbank10_b_air     13883 non-null  float64\n",
      " 11  rougher.state.floatbank10_b_level   13883 non-null  float64\n",
      " 12  rougher.state.floatbank10_c_air     13883 non-null  float64\n",
      " 13  rougher.state.floatbank10_c_level   13883 non-null  float64\n",
      " 14  rougher.state.floatbank10_d_air     13883 non-null  float64\n",
      " 15  rougher.state.floatbank10_d_level   13883 non-null  float64\n",
      " 16  rougher.state.floatbank10_e_air     13883 non-null  float64\n",
      " 17  rougher.state.floatbank10_e_level   13883 non-null  float64\n",
      " 18  rougher.state.floatbank10_f_air     13883 non-null  float64\n",
      " 19  rougher.state.floatbank10_f_level   13883 non-null  float64\n",
      " 20  rougher.input.floatbank11_sulfate   13883 non-null  float64\n",
      " 21  rougher.input.floatbank11_xanthate  13883 non-null  float64\n",
      " 22  rougher.output.recovery             13883 non-null  float64\n",
      "dtypes: float64(23)\n",
      "memory usage: 2.5 MB\n"
     ]
    }
   ],
   "source": [
    "df_rougher.info()"
   ]
  },
  {
   "cell_type": "code",
   "execution_count": 79,
   "metadata": {
    "scrolled": true
   },
   "outputs": [
    {
     "name": "stdout",
     "output_type": "stream",
     "text": [
      "<class 'pandas.core.frame.DataFrame'>\n",
      "Int64Index: 13883 entries, 0 to 14578\n",
      "Data columns (total 53 columns):\n",
      " #   Column                                      Non-Null Count  Dtype  \n",
      "---  ------                                      --------------  -----  \n",
      " 0   rougher.input.feed_au                       13883 non-null  float64\n",
      " 1   rougher.input.feed_ag                       13883 non-null  float64\n",
      " 2   rougher.input.feed_pb                       13883 non-null  float64\n",
      " 3   rougher.input.feed_sol                      13883 non-null  float64\n",
      " 4   rougher.input.feed_rate                     13883 non-null  float64\n",
      " 5   rougher.input.feed_size                     13883 non-null  float64\n",
      " 6   rougher.input.floatbank10_sulfate           13883 non-null  float64\n",
      " 7   rougher.input.floatbank10_xanthate          13883 non-null  float64\n",
      " 8   rougher.state.floatbank10_a_air             13883 non-null  float64\n",
      " 9   rougher.state.floatbank10_a_level           13883 non-null  float64\n",
      " 10  rougher.state.floatbank10_b_air             13883 non-null  float64\n",
      " 11  rougher.state.floatbank10_b_level           13883 non-null  float64\n",
      " 12  rougher.state.floatbank10_c_air             13883 non-null  float64\n",
      " 13  rougher.state.floatbank10_c_level           13883 non-null  float64\n",
      " 14  rougher.state.floatbank10_d_air             13883 non-null  float64\n",
      " 15  rougher.state.floatbank10_d_level           13883 non-null  float64\n",
      " 16  rougher.state.floatbank10_e_air             13883 non-null  float64\n",
      " 17  rougher.state.floatbank10_e_level           13883 non-null  float64\n",
      " 18  rougher.state.floatbank10_f_air             13883 non-null  float64\n",
      " 19  rougher.state.floatbank10_f_level           13883 non-null  float64\n",
      " 20  rougher.input.floatbank11_sulfate           13883 non-null  float64\n",
      " 21  rougher.input.floatbank11_xanthate          13883 non-null  float64\n",
      " 22  primary_cleaner.input.sulfate               13883 non-null  float64\n",
      " 23  primary_cleaner.input.depressant            13883 non-null  float64\n",
      " 24  primary_cleaner.input.feed_size             13883 non-null  float64\n",
      " 25  primary_cleaner.input.xanthate              13883 non-null  float64\n",
      " 26  primary_cleaner.state.floatbank8_a_air      13883 non-null  float64\n",
      " 27  primary_cleaner.state.floatbank8_a_level    13883 non-null  float64\n",
      " 28  primary_cleaner.state.floatbank8_b_air      13883 non-null  float64\n",
      " 29  primary_cleaner.state.floatbank8_b_level    13883 non-null  float64\n",
      " 30  primary_cleaner.state.floatbank8_c_air      13883 non-null  float64\n",
      " 31  primary_cleaner.state.floatbank8_c_level    13883 non-null  float64\n",
      " 32  primary_cleaner.state.floatbank8_d_air      13883 non-null  float64\n",
      " 33  primary_cleaner.state.floatbank8_d_level    13883 non-null  float64\n",
      " 34  secondary_cleaner.state.floatbank2_a_air    13883 non-null  float64\n",
      " 35  secondary_cleaner.state.floatbank2_a_level  13883 non-null  float64\n",
      " 36  secondary_cleaner.state.floatbank2_b_air    13883 non-null  float64\n",
      " 37  secondary_cleaner.state.floatbank2_b_level  13883 non-null  float64\n",
      " 38  secondary_cleaner.state.floatbank3_a_air    13883 non-null  float64\n",
      " 39  secondary_cleaner.state.floatbank3_a_level  13883 non-null  float64\n",
      " 40  secondary_cleaner.state.floatbank3_b_air    13883 non-null  float64\n",
      " 41  secondary_cleaner.state.floatbank3_b_level  13883 non-null  float64\n",
      " 42  secondary_cleaner.state.floatbank4_a_air    13883 non-null  float64\n",
      " 43  secondary_cleaner.state.floatbank4_a_level  13883 non-null  float64\n",
      " 44  secondary_cleaner.state.floatbank4_b_air    13883 non-null  float64\n",
      " 45  secondary_cleaner.state.floatbank4_b_level  13883 non-null  float64\n",
      " 46  secondary_cleaner.state.floatbank5_a_air    13883 non-null  float64\n",
      " 47  secondary_cleaner.state.floatbank5_a_level  13883 non-null  float64\n",
      " 48  secondary_cleaner.state.floatbank5_b_air    13883 non-null  float64\n",
      " 49  secondary_cleaner.state.floatbank5_b_level  13883 non-null  float64\n",
      " 50  secondary_cleaner.state.floatbank6_a_air    13883 non-null  float64\n",
      " 51  secondary_cleaner.state.floatbank6_a_level  13883 non-null  float64\n",
      " 52  final.output.recovery                       13883 non-null  float64\n",
      "dtypes: float64(53)\n",
      "memory usage: 5.7 MB\n"
     ]
    }
   ],
   "source": [
    "df_all_train.info()"
   ]
  },
  {
   "cell_type": "code",
   "execution_count": 80,
   "metadata": {},
   "outputs": [],
   "source": [
    "rougher_train_target = df_rougher['rougher.output.recovery']\n",
    "rougher_train_features = df_rougher.drop('rougher.output.recovery', axis=1)"
   ]
  },
  {
   "cell_type": "markdown",
   "metadata": {},
   "source": [
    "Scaling the features"
   ]
  },
  {
   "cell_type": "code",
   "execution_count": 81,
   "metadata": {},
   "outputs": [],
   "source": [
    "numeric = rougher_train_features.columns\n",
    "mmscaler = MinMaxScaler()\n",
    "\n",
    "rougher_train_features[numeric] = mmscaler.fit_transform(rougher_train_features[numeric])\n",
    "\n",
    "\n"
   ]
  },
  {
   "cell_type": "code",
   "execution_count": 82,
   "metadata": {
    "scrolled": true
   },
   "outputs": [
    {
     "data": {
      "text/html": [
       "<div>\n",
       "<style scoped>\n",
       "    .dataframe tbody tr th:only-of-type {\n",
       "        vertical-align: middle;\n",
       "    }\n",
       "\n",
       "    .dataframe tbody tr th {\n",
       "        vertical-align: top;\n",
       "    }\n",
       "\n",
       "    .dataframe thead th {\n",
       "        text-align: right;\n",
       "    }\n",
       "</style>\n",
       "<table border=\"1\" class=\"dataframe\">\n",
       "  <thead>\n",
       "    <tr style=\"text-align: right;\">\n",
       "      <th></th>\n",
       "      <th>rougher.input.feed_au</th>\n",
       "      <th>rougher.input.feed_ag</th>\n",
       "      <th>rougher.input.feed_pb</th>\n",
       "      <th>rougher.input.feed_sol</th>\n",
       "      <th>rougher.input.feed_rate</th>\n",
       "      <th>rougher.input.feed_size</th>\n",
       "      <th>rougher.input.floatbank10_sulfate</th>\n",
       "      <th>rougher.input.floatbank10_xanthate</th>\n",
       "      <th>rougher.state.floatbank10_a_air</th>\n",
       "      <th>rougher.state.floatbank10_a_level</th>\n",
       "      <th>...</th>\n",
       "      <th>rougher.state.floatbank10_c_air</th>\n",
       "      <th>rougher.state.floatbank10_c_level</th>\n",
       "      <th>rougher.state.floatbank10_d_air</th>\n",
       "      <th>rougher.state.floatbank10_d_level</th>\n",
       "      <th>rougher.state.floatbank10_e_air</th>\n",
       "      <th>rougher.state.floatbank10_e_level</th>\n",
       "      <th>rougher.state.floatbank10_f_air</th>\n",
       "      <th>rougher.state.floatbank10_f_level</th>\n",
       "      <th>rougher.input.floatbank11_sulfate</th>\n",
       "      <th>rougher.input.floatbank11_xanthate</th>\n",
       "    </tr>\n",
       "  </thead>\n",
       "  <tbody>\n",
       "    <tr>\n",
       "      <th>0</th>\n",
       "      <td>0.433422</td>\n",
       "      <td>0.369717</td>\n",
       "      <td>0.311708</td>\n",
       "      <td>0.685601</td>\n",
       "      <td>0.729671</td>\n",
       "      <td>0.114323</td>\n",
       "      <td>0.331850</td>\n",
       "      <td>0.619138</td>\n",
       "      <td>0.661060</td>\n",
       "      <td>0.660854</td>\n",
       "      <td>...</td>\n",
       "      <td>0.641181</td>\n",
       "      <td>0.577789</td>\n",
       "      <td>0.879957</td>\n",
       "      <td>0.344578</td>\n",
       "      <td>0.730770</td>\n",
       "      <td>0.378829</td>\n",
       "      <td>0.830328</td>\n",
       "      <td>0.432118</td>\n",
       "      <td>0.311650</td>\n",
       "      <td>0.619247</td>\n",
       "    </tr>\n",
       "    <tr>\n",
       "      <th>1</th>\n",
       "      <td>0.432830</td>\n",
       "      <td>0.374223</td>\n",
       "      <td>0.308982</td>\n",
       "      <td>0.665696</td>\n",
       "      <td>0.732102</td>\n",
       "      <td>0.118019</td>\n",
       "      <td>0.331423</td>\n",
       "      <td>0.618909</td>\n",
       "      <td>0.661443</td>\n",
       "      <td>0.671271</td>\n",
       "      <td>...</td>\n",
       "      <td>0.640423</td>\n",
       "      <td>0.556331</td>\n",
       "      <td>0.880831</td>\n",
       "      <td>0.346922</td>\n",
       "      <td>0.728045</td>\n",
       "      <td>0.387866</td>\n",
       "      <td>0.820593</td>\n",
       "      <td>0.436091</td>\n",
       "      <td>0.315848</td>\n",
       "      <td>0.619945</td>\n",
       "    </tr>\n",
       "    <tr>\n",
       "      <th>2</th>\n",
       "      <td>0.423731</td>\n",
       "      <td>0.370910</td>\n",
       "      <td>0.293619</td>\n",
       "      <td>0.669813</td>\n",
       "      <td>0.738703</td>\n",
       "      <td>0.118497</td>\n",
       "      <td>0.330022</td>\n",
       "      <td>0.638657</td>\n",
       "      <td>0.661069</td>\n",
       "      <td>0.671248</td>\n",
       "      <td>...</td>\n",
       "      <td>0.640100</td>\n",
       "      <td>0.555982</td>\n",
       "      <td>0.880458</td>\n",
       "      <td>0.346921</td>\n",
       "      <td>0.728021</td>\n",
       "      <td>0.389700</td>\n",
       "      <td>0.820943</td>\n",
       "      <td>0.435200</td>\n",
       "      <td>0.313850</td>\n",
       "      <td>0.639747</td>\n",
       "    </tr>\n",
       "    <tr>\n",
       "      <th>3</th>\n",
       "      <td>0.404647</td>\n",
       "      <td>0.365483</td>\n",
       "      <td>0.276032</td>\n",
       "      <td>0.686613</td>\n",
       "      <td>0.756213</td>\n",
       "      <td>0.119079</td>\n",
       "      <td>0.321979</td>\n",
       "      <td>0.639254</td>\n",
       "      <td>0.661132</td>\n",
       "      <td>0.670919</td>\n",
       "      <td>...</td>\n",
       "      <td>0.640236</td>\n",
       "      <td>0.556106</td>\n",
       "      <td>0.879290</td>\n",
       "      <td>0.346613</td>\n",
       "      <td>0.728937</td>\n",
       "      <td>0.389518</td>\n",
       "      <td>0.820895</td>\n",
       "      <td>0.436807</td>\n",
       "      <td>0.307851</td>\n",
       "      <td>0.638917</td>\n",
       "    </tr>\n",
       "    <tr>\n",
       "      <th>4</th>\n",
       "      <td>0.369106</td>\n",
       "      <td>0.366789</td>\n",
       "      <td>0.239804</td>\n",
       "      <td>0.639179</td>\n",
       "      <td>0.753344</td>\n",
       "      <td>0.115479</td>\n",
       "      <td>0.303363</td>\n",
       "      <td>0.638806</td>\n",
       "      <td>0.661042</td>\n",
       "      <td>0.672084</td>\n",
       "      <td>...</td>\n",
       "      <td>0.640374</td>\n",
       "      <td>0.555758</td>\n",
       "      <td>0.880409</td>\n",
       "      <td>0.346999</td>\n",
       "      <td>0.729258</td>\n",
       "      <td>0.391786</td>\n",
       "      <td>0.821437</td>\n",
       "      <td>0.435462</td>\n",
       "      <td>0.288580</td>\n",
       "      <td>0.638743</td>\n",
       "    </tr>\n",
       "    <tr>\n",
       "      <th>...</th>\n",
       "      <td>...</td>\n",
       "      <td>...</td>\n",
       "      <td>...</td>\n",
       "      <td>...</td>\n",
       "      <td>...</td>\n",
       "      <td>...</td>\n",
       "      <td>...</td>\n",
       "      <td>...</td>\n",
       "      <td>...</td>\n",
       "      <td>...</td>\n",
       "      <td>...</td>\n",
       "      <td>...</td>\n",
       "      <td>...</td>\n",
       "      <td>...</td>\n",
       "      <td>...</td>\n",
       "      <td>...</td>\n",
       "      <td>...</td>\n",
       "      <td>...</td>\n",
       "      <td>...</td>\n",
       "      <td>...</td>\n",
       "      <td>...</td>\n",
       "    </tr>\n",
       "    <tr>\n",
       "      <th>14574</th>\n",
       "      <td>0.285887</td>\n",
       "      <td>0.349070</td>\n",
       "      <td>0.596217</td>\n",
       "      <td>0.698276</td>\n",
       "      <td>0.780331</td>\n",
       "      <td>0.175695</td>\n",
       "      <td>0.187576</td>\n",
       "      <td>0.928060</td>\n",
       "      <td>0.793800</td>\n",
       "      <td>0.931707</td>\n",
       "      <td>...</td>\n",
       "      <td>0.421045</td>\n",
       "      <td>0.415684</td>\n",
       "      <td>0.521443</td>\n",
       "      <td>0.259491</td>\n",
       "      <td>0.442785</td>\n",
       "      <td>0.291259</td>\n",
       "      <td>0.498995</td>\n",
       "      <td>0.330026</td>\n",
       "      <td>0.178386</td>\n",
       "      <td>0.928074</td>\n",
       "    </tr>\n",
       "    <tr>\n",
       "      <th>14575</th>\n",
       "      <td>0.290469</td>\n",
       "      <td>0.350756</td>\n",
       "      <td>0.594198</td>\n",
       "      <td>0.696674</td>\n",
       "      <td>0.782519</td>\n",
       "      <td>0.172836</td>\n",
       "      <td>0.187429</td>\n",
       "      <td>0.927593</td>\n",
       "      <td>0.794133</td>\n",
       "      <td>0.931704</td>\n",
       "      <td>...</td>\n",
       "      <td>0.419950</td>\n",
       "      <td>0.414922</td>\n",
       "      <td>0.528853</td>\n",
       "      <td>0.259995</td>\n",
       "      <td>0.442570</td>\n",
       "      <td>0.289989</td>\n",
       "      <td>0.499184</td>\n",
       "      <td>0.325699</td>\n",
       "      <td>0.178292</td>\n",
       "      <td>0.928160</td>\n",
       "    </tr>\n",
       "    <tr>\n",
       "      <th>14576</th>\n",
       "      <td>0.343469</td>\n",
       "      <td>0.369084</td>\n",
       "      <td>0.648482</td>\n",
       "      <td>0.696187</td>\n",
       "      <td>0.781716</td>\n",
       "      <td>0.176667</td>\n",
       "      <td>0.214901</td>\n",
       "      <td>0.943848</td>\n",
       "      <td>0.793001</td>\n",
       "      <td>0.929539</td>\n",
       "      <td>...</td>\n",
       "      <td>0.419345</td>\n",
       "      <td>0.419629</td>\n",
       "      <td>0.521195</td>\n",
       "      <td>0.260909</td>\n",
       "      <td>0.442502</td>\n",
       "      <td>0.292746</td>\n",
       "      <td>0.498772</td>\n",
       "      <td>0.332803</td>\n",
       "      <td>0.204490</td>\n",
       "      <td>0.944078</td>\n",
       "    </tr>\n",
       "    <tr>\n",
       "      <th>14577</th>\n",
       "      <td>0.304584</td>\n",
       "      <td>0.371271</td>\n",
       "      <td>0.580255</td>\n",
       "      <td>0.719235</td>\n",
       "      <td>0.779128</td>\n",
       "      <td>0.246330</td>\n",
       "      <td>0.203658</td>\n",
       "      <td>0.958930</td>\n",
       "      <td>0.791231</td>\n",
       "      <td>0.933009</td>\n",
       "      <td>...</td>\n",
       "      <td>0.419586</td>\n",
       "      <td>0.412539</td>\n",
       "      <td>0.522918</td>\n",
       "      <td>0.259387</td>\n",
       "      <td>0.441904</td>\n",
       "      <td>0.290631</td>\n",
       "      <td>0.498921</td>\n",
       "      <td>0.334170</td>\n",
       "      <td>0.186817</td>\n",
       "      <td>0.958705</td>\n",
       "    </tr>\n",
       "    <tr>\n",
       "      <th>14578</th>\n",
       "      <td>0.280064</td>\n",
       "      <td>0.360082</td>\n",
       "      <td>0.562210</td>\n",
       "      <td>0.747200</td>\n",
       "      <td>0.774460</td>\n",
       "      <td>0.252029</td>\n",
       "      <td>0.182320</td>\n",
       "      <td>0.958379</td>\n",
       "      <td>0.796717</td>\n",
       "      <td>0.933729</td>\n",
       "      <td>...</td>\n",
       "      <td>0.420001</td>\n",
       "      <td>0.413618</td>\n",
       "      <td>0.524529</td>\n",
       "      <td>0.255315</td>\n",
       "      <td>0.442165</td>\n",
       "      <td>0.290205</td>\n",
       "      <td>0.499180</td>\n",
       "      <td>0.312182</td>\n",
       "      <td>0.173353</td>\n",
       "      <td>0.958933</td>\n",
       "    </tr>\n",
       "  </tbody>\n",
       "</table>\n",
       "<p>13883 rows × 22 columns</p>\n",
       "</div>"
      ],
      "text/plain": [
       "       rougher.input.feed_au  rougher.input.feed_ag  rougher.input.feed_pb  \\\n",
       "0                   0.433422               0.369717               0.311708   \n",
       "1                   0.432830               0.374223               0.308982   \n",
       "2                   0.423731               0.370910               0.293619   \n",
       "3                   0.404647               0.365483               0.276032   \n",
       "4                   0.369106               0.366789               0.239804   \n",
       "...                      ...                    ...                    ...   \n",
       "14574               0.285887               0.349070               0.596217   \n",
       "14575               0.290469               0.350756               0.594198   \n",
       "14576               0.343469               0.369084               0.648482   \n",
       "14577               0.304584               0.371271               0.580255   \n",
       "14578               0.280064               0.360082               0.562210   \n",
       "\n",
       "       rougher.input.feed_sol  rougher.input.feed_rate  \\\n",
       "0                    0.685601                 0.729671   \n",
       "1                    0.665696                 0.732102   \n",
       "2                    0.669813                 0.738703   \n",
       "3                    0.686613                 0.756213   \n",
       "4                    0.639179                 0.753344   \n",
       "...                       ...                      ...   \n",
       "14574                0.698276                 0.780331   \n",
       "14575                0.696674                 0.782519   \n",
       "14576                0.696187                 0.781716   \n",
       "14577                0.719235                 0.779128   \n",
       "14578                0.747200                 0.774460   \n",
       "\n",
       "       rougher.input.feed_size  rougher.input.floatbank10_sulfate  \\\n",
       "0                     0.114323                           0.331850   \n",
       "1                     0.118019                           0.331423   \n",
       "2                     0.118497                           0.330022   \n",
       "3                     0.119079                           0.321979   \n",
       "4                     0.115479                           0.303363   \n",
       "...                        ...                                ...   \n",
       "14574                 0.175695                           0.187576   \n",
       "14575                 0.172836                           0.187429   \n",
       "14576                 0.176667                           0.214901   \n",
       "14577                 0.246330                           0.203658   \n",
       "14578                 0.252029                           0.182320   \n",
       "\n",
       "       rougher.input.floatbank10_xanthate  rougher.state.floatbank10_a_air  \\\n",
       "0                                0.619138                         0.661060   \n",
       "1                                0.618909                         0.661443   \n",
       "2                                0.638657                         0.661069   \n",
       "3                                0.639254                         0.661132   \n",
       "4                                0.638806                         0.661042   \n",
       "...                                   ...                              ...   \n",
       "14574                            0.928060                         0.793800   \n",
       "14575                            0.927593                         0.794133   \n",
       "14576                            0.943848                         0.793001   \n",
       "14577                            0.958930                         0.791231   \n",
       "14578                            0.958379                         0.796717   \n",
       "\n",
       "       rougher.state.floatbank10_a_level  ...  \\\n",
       "0                               0.660854  ...   \n",
       "1                               0.671271  ...   \n",
       "2                               0.671248  ...   \n",
       "3                               0.670919  ...   \n",
       "4                               0.672084  ...   \n",
       "...                                  ...  ...   \n",
       "14574                           0.931707  ...   \n",
       "14575                           0.931704  ...   \n",
       "14576                           0.929539  ...   \n",
       "14577                           0.933009  ...   \n",
       "14578                           0.933729  ...   \n",
       "\n",
       "       rougher.state.floatbank10_c_air  rougher.state.floatbank10_c_level  \\\n",
       "0                             0.641181                           0.577789   \n",
       "1                             0.640423                           0.556331   \n",
       "2                             0.640100                           0.555982   \n",
       "3                             0.640236                           0.556106   \n",
       "4                             0.640374                           0.555758   \n",
       "...                                ...                                ...   \n",
       "14574                         0.421045                           0.415684   \n",
       "14575                         0.419950                           0.414922   \n",
       "14576                         0.419345                           0.419629   \n",
       "14577                         0.419586                           0.412539   \n",
       "14578                         0.420001                           0.413618   \n",
       "\n",
       "       rougher.state.floatbank10_d_air  rougher.state.floatbank10_d_level  \\\n",
       "0                             0.879957                           0.344578   \n",
       "1                             0.880831                           0.346922   \n",
       "2                             0.880458                           0.346921   \n",
       "3                             0.879290                           0.346613   \n",
       "4                             0.880409                           0.346999   \n",
       "...                                ...                                ...   \n",
       "14574                         0.521443                           0.259491   \n",
       "14575                         0.528853                           0.259995   \n",
       "14576                         0.521195                           0.260909   \n",
       "14577                         0.522918                           0.259387   \n",
       "14578                         0.524529                           0.255315   \n",
       "\n",
       "       rougher.state.floatbank10_e_air  rougher.state.floatbank10_e_level  \\\n",
       "0                             0.730770                           0.378829   \n",
       "1                             0.728045                           0.387866   \n",
       "2                             0.728021                           0.389700   \n",
       "3                             0.728937                           0.389518   \n",
       "4                             0.729258                           0.391786   \n",
       "...                                ...                                ...   \n",
       "14574                         0.442785                           0.291259   \n",
       "14575                         0.442570                           0.289989   \n",
       "14576                         0.442502                           0.292746   \n",
       "14577                         0.441904                           0.290631   \n",
       "14578                         0.442165                           0.290205   \n",
       "\n",
       "       rougher.state.floatbank10_f_air  rougher.state.floatbank10_f_level  \\\n",
       "0                             0.830328                           0.432118   \n",
       "1                             0.820593                           0.436091   \n",
       "2                             0.820943                           0.435200   \n",
       "3                             0.820895                           0.436807   \n",
       "4                             0.821437                           0.435462   \n",
       "...                                ...                                ...   \n",
       "14574                         0.498995                           0.330026   \n",
       "14575                         0.499184                           0.325699   \n",
       "14576                         0.498772                           0.332803   \n",
       "14577                         0.498921                           0.334170   \n",
       "14578                         0.499180                           0.312182   \n",
       "\n",
       "       rougher.input.floatbank11_sulfate  rougher.input.floatbank11_xanthate  \n",
       "0                               0.311650                            0.619247  \n",
       "1                               0.315848                            0.619945  \n",
       "2                               0.313850                            0.639747  \n",
       "3                               0.307851                            0.638917  \n",
       "4                               0.288580                            0.638743  \n",
       "...                                  ...                                 ...  \n",
       "14574                           0.178386                            0.928074  \n",
       "14575                           0.178292                            0.928160  \n",
       "14576                           0.204490                            0.944078  \n",
       "14577                           0.186817                            0.958705  \n",
       "14578                           0.173353                            0.958933  \n",
       "\n",
       "[13883 rows x 22 columns]"
      ]
     },
     "execution_count": 82,
     "metadata": {},
     "output_type": "execute_result"
    }
   ],
   "source": [
    "rougher_train_features"
   ]
  },
  {
   "cell_type": "markdown",
   "metadata": {},
   "source": [
    "We divide the data for the final prediction into training and validation samples"
   ]
  },
  {
   "cell_type": "code",
   "execution_count": 83,
   "metadata": {},
   "outputs": [],
   "source": [
    "final_train_target = df_all_train['final.output.recovery']\n",
    "final_train_features = df_all_train.drop('final.output.recovery', axis=1)"
   ]
  },
  {
   "cell_type": "markdown",
   "metadata": {},
   "source": [
    "Scaling the features"
   ]
  },
  {
   "cell_type": "code",
   "execution_count": 84,
   "metadata": {},
   "outputs": [],
   "source": [
    "numeric = final_train_features.columns\n",
    "mmscaler = MinMaxScaler()\n",
    "\n",
    "final_train_features[numeric] = mmscaler.fit_transform(final_train_features[numeric])\n",
    "\n",
    "\n"
   ]
  },
  {
   "cell_type": "code",
   "execution_count": 85,
   "metadata": {
    "scrolled": true
   },
   "outputs": [
    {
     "data": {
      "text/html": [
       "<div>\n",
       "<style scoped>\n",
       "    .dataframe tbody tr th:only-of-type {\n",
       "        vertical-align: middle;\n",
       "    }\n",
       "\n",
       "    .dataframe tbody tr th {\n",
       "        vertical-align: top;\n",
       "    }\n",
       "\n",
       "    .dataframe thead th {\n",
       "        text-align: right;\n",
       "    }\n",
       "</style>\n",
       "<table border=\"1\" class=\"dataframe\">\n",
       "  <thead>\n",
       "    <tr style=\"text-align: right;\">\n",
       "      <th></th>\n",
       "      <th>rougher.input.feed_au</th>\n",
       "      <th>rougher.input.feed_ag</th>\n",
       "      <th>rougher.input.feed_pb</th>\n",
       "      <th>rougher.input.feed_sol</th>\n",
       "      <th>rougher.input.feed_rate</th>\n",
       "      <th>rougher.input.feed_size</th>\n",
       "      <th>rougher.input.floatbank10_sulfate</th>\n",
       "      <th>rougher.input.floatbank10_xanthate</th>\n",
       "      <th>rougher.state.floatbank10_a_air</th>\n",
       "      <th>rougher.state.floatbank10_a_level</th>\n",
       "      <th>...</th>\n",
       "      <th>secondary_cleaner.state.floatbank4_a_air</th>\n",
       "      <th>secondary_cleaner.state.floatbank4_a_level</th>\n",
       "      <th>secondary_cleaner.state.floatbank4_b_air</th>\n",
       "      <th>secondary_cleaner.state.floatbank4_b_level</th>\n",
       "      <th>secondary_cleaner.state.floatbank5_a_air</th>\n",
       "      <th>secondary_cleaner.state.floatbank5_a_level</th>\n",
       "      <th>secondary_cleaner.state.floatbank5_b_air</th>\n",
       "      <th>secondary_cleaner.state.floatbank5_b_level</th>\n",
       "      <th>secondary_cleaner.state.floatbank6_a_air</th>\n",
       "      <th>secondary_cleaner.state.floatbank6_a_level</th>\n",
       "    </tr>\n",
       "  </thead>\n",
       "  <tbody>\n",
       "    <tr>\n",
       "      <th>0</th>\n",
       "      <td>0.433422</td>\n",
       "      <td>0.369717</td>\n",
       "      <td>0.311708</td>\n",
       "      <td>0.685601</td>\n",
       "      <td>0.729671</td>\n",
       "      <td>0.114323</td>\n",
       "      <td>0.331850</td>\n",
       "      <td>0.619138</td>\n",
       "      <td>0.661060</td>\n",
       "      <td>0.660854</td>\n",
       "      <td>...</td>\n",
       "      <td>0.465432</td>\n",
       "      <td>0.536120</td>\n",
       "      <td>0.503998</td>\n",
       "      <td>0.373418</td>\n",
       "      <td>0.233603</td>\n",
       "      <td>0.540868</td>\n",
       "      <td>0.275626</td>\n",
       "      <td>0.452465</td>\n",
       "      <td>0.441013</td>\n",
       "      <td>0.297042</td>\n",
       "    </tr>\n",
       "    <tr>\n",
       "      <th>1</th>\n",
       "      <td>0.432830</td>\n",
       "      <td>0.374223</td>\n",
       "      <td>0.308982</td>\n",
       "      <td>0.665696</td>\n",
       "      <td>0.732102</td>\n",
       "      <td>0.118019</td>\n",
       "      <td>0.331423</td>\n",
       "      <td>0.618909</td>\n",
       "      <td>0.661443</td>\n",
       "      <td>0.671271</td>\n",
       "      <td>...</td>\n",
       "      <td>0.464617</td>\n",
       "      <td>0.530683</td>\n",
       "      <td>0.497775</td>\n",
       "      <td>0.377685</td>\n",
       "      <td>0.236180</td>\n",
       "      <td>0.537504</td>\n",
       "      <td>0.272162</td>\n",
       "      <td>0.452297</td>\n",
       "      <td>0.436272</td>\n",
       "      <td>0.305862</td>\n",
       "    </tr>\n",
       "    <tr>\n",
       "      <th>2</th>\n",
       "      <td>0.423731</td>\n",
       "      <td>0.370910</td>\n",
       "      <td>0.293619</td>\n",
       "      <td>0.669813</td>\n",
       "      <td>0.738703</td>\n",
       "      <td>0.118497</td>\n",
       "      <td>0.330022</td>\n",
       "      <td>0.638657</td>\n",
       "      <td>0.661069</td>\n",
       "      <td>0.671248</td>\n",
       "      <td>...</td>\n",
       "      <td>0.465372</td>\n",
       "      <td>0.536061</td>\n",
       "      <td>0.496202</td>\n",
       "      <td>0.377935</td>\n",
       "      <td>0.236899</td>\n",
       "      <td>0.537578</td>\n",
       "      <td>0.273225</td>\n",
       "      <td>0.452395</td>\n",
       "      <td>0.437212</td>\n",
       "      <td>0.303473</td>\n",
       "    </tr>\n",
       "    <tr>\n",
       "      <th>3</th>\n",
       "      <td>0.404647</td>\n",
       "      <td>0.365483</td>\n",
       "      <td>0.276032</td>\n",
       "      <td>0.686613</td>\n",
       "      <td>0.756213</td>\n",
       "      <td>0.119079</td>\n",
       "      <td>0.321979</td>\n",
       "      <td>0.639254</td>\n",
       "      <td>0.661132</td>\n",
       "      <td>0.670919</td>\n",
       "      <td>...</td>\n",
       "      <td>0.466086</td>\n",
       "      <td>0.539061</td>\n",
       "      <td>0.499816</td>\n",
       "      <td>0.377859</td>\n",
       "      <td>0.234618</td>\n",
       "      <td>0.539256</td>\n",
       "      <td>0.271891</td>\n",
       "      <td>0.452790</td>\n",
       "      <td>0.436495</td>\n",
       "      <td>0.305558</td>\n",
       "    </tr>\n",
       "    <tr>\n",
       "      <th>4</th>\n",
       "      <td>0.369106</td>\n",
       "      <td>0.366789</td>\n",
       "      <td>0.239804</td>\n",
       "      <td>0.639179</td>\n",
       "      <td>0.753344</td>\n",
       "      <td>0.115479</td>\n",
       "      <td>0.303363</td>\n",
       "      <td>0.638806</td>\n",
       "      <td>0.661042</td>\n",
       "      <td>0.672084</td>\n",
       "      <td>...</td>\n",
       "      <td>0.465780</td>\n",
       "      <td>0.540898</td>\n",
       "      <td>0.497880</td>\n",
       "      <td>0.378036</td>\n",
       "      <td>0.233605</td>\n",
       "      <td>0.534761</td>\n",
       "      <td>0.268858</td>\n",
       "      <td>0.452639</td>\n",
       "      <td>0.436219</td>\n",
       "      <td>0.303372</td>\n",
       "    </tr>\n",
       "    <tr>\n",
       "      <th>...</th>\n",
       "      <td>...</td>\n",
       "      <td>...</td>\n",
       "      <td>...</td>\n",
       "      <td>...</td>\n",
       "      <td>...</td>\n",
       "      <td>...</td>\n",
       "      <td>...</td>\n",
       "      <td>...</td>\n",
       "      <td>...</td>\n",
       "      <td>...</td>\n",
       "      <td>...</td>\n",
       "      <td>...</td>\n",
       "      <td>...</td>\n",
       "      <td>...</td>\n",
       "      <td>...</td>\n",
       "      <td>...</td>\n",
       "      <td>...</td>\n",
       "      <td>...</td>\n",
       "      <td>...</td>\n",
       "      <td>...</td>\n",
       "      <td>...</td>\n",
       "    </tr>\n",
       "    <tr>\n",
       "      <th>14574</th>\n",
       "      <td>0.285887</td>\n",
       "      <td>0.349070</td>\n",
       "      <td>0.596217</td>\n",
       "      <td>0.698276</td>\n",
       "      <td>0.780331</td>\n",
       "      <td>0.175695</td>\n",
       "      <td>0.187576</td>\n",
       "      <td>0.928060</td>\n",
       "      <td>0.793800</td>\n",
       "      <td>0.931707</td>\n",
       "      <td>...</td>\n",
       "      <td>0.764748</td>\n",
       "      <td>0.538449</td>\n",
       "      <td>0.834493</td>\n",
       "      <td>0.379564</td>\n",
       "      <td>0.416804</td>\n",
       "      <td>0.538043</td>\n",
       "      <td>0.455152</td>\n",
       "      <td>0.453134</td>\n",
       "      <td>0.622484</td>\n",
       "      <td>0.449993</td>\n",
       "    </tr>\n",
       "    <tr>\n",
       "      <th>14575</th>\n",
       "      <td>0.290469</td>\n",
       "      <td>0.350756</td>\n",
       "      <td>0.594198</td>\n",
       "      <td>0.696674</td>\n",
       "      <td>0.782519</td>\n",
       "      <td>0.172836</td>\n",
       "      <td>0.187429</td>\n",
       "      <td>0.927593</td>\n",
       "      <td>0.794133</td>\n",
       "      <td>0.931704</td>\n",
       "      <td>...</td>\n",
       "      <td>0.764824</td>\n",
       "      <td>0.538962</td>\n",
       "      <td>0.832577</td>\n",
       "      <td>0.379206</td>\n",
       "      <td>0.417036</td>\n",
       "      <td>0.537647</td>\n",
       "      <td>0.455473</td>\n",
       "      <td>0.452786</td>\n",
       "      <td>0.621764</td>\n",
       "      <td>0.447472</td>\n",
       "    </tr>\n",
       "    <tr>\n",
       "      <th>14576</th>\n",
       "      <td>0.343469</td>\n",
       "      <td>0.369084</td>\n",
       "      <td>0.648482</td>\n",
       "      <td>0.696187</td>\n",
       "      <td>0.781716</td>\n",
       "      <td>0.176667</td>\n",
       "      <td>0.214901</td>\n",
       "      <td>0.943848</td>\n",
       "      <td>0.793001</td>\n",
       "      <td>0.929539</td>\n",
       "      <td>...</td>\n",
       "      <td>0.764766</td>\n",
       "      <td>0.538501</td>\n",
       "      <td>0.833374</td>\n",
       "      <td>0.379692</td>\n",
       "      <td>0.416907</td>\n",
       "      <td>0.538111</td>\n",
       "      <td>0.455255</td>\n",
       "      <td>0.452941</td>\n",
       "      <td>0.622507</td>\n",
       "      <td>0.449344</td>\n",
       "    </tr>\n",
       "    <tr>\n",
       "      <th>14577</th>\n",
       "      <td>0.304584</td>\n",
       "      <td>0.371271</td>\n",
       "      <td>0.580255</td>\n",
       "      <td>0.719235</td>\n",
       "      <td>0.779128</td>\n",
       "      <td>0.246330</td>\n",
       "      <td>0.203658</td>\n",
       "      <td>0.958930</td>\n",
       "      <td>0.791231</td>\n",
       "      <td>0.933009</td>\n",
       "      <td>...</td>\n",
       "      <td>0.762395</td>\n",
       "      <td>0.537699</td>\n",
       "      <td>0.834544</td>\n",
       "      <td>0.379048</td>\n",
       "      <td>0.416737</td>\n",
       "      <td>0.537097</td>\n",
       "      <td>0.453537</td>\n",
       "      <td>0.453334</td>\n",
       "      <td>0.621288</td>\n",
       "      <td>0.449715</td>\n",
       "    </tr>\n",
       "    <tr>\n",
       "      <th>14578</th>\n",
       "      <td>0.280064</td>\n",
       "      <td>0.360082</td>\n",
       "      <td>0.562210</td>\n",
       "      <td>0.747200</td>\n",
       "      <td>0.774460</td>\n",
       "      <td>0.252029</td>\n",
       "      <td>0.182320</td>\n",
       "      <td>0.958379</td>\n",
       "      <td>0.796717</td>\n",
       "      <td>0.933729</td>\n",
       "      <td>...</td>\n",
       "      <td>0.764242</td>\n",
       "      <td>0.537520</td>\n",
       "      <td>0.831027</td>\n",
       "      <td>0.379545</td>\n",
       "      <td>0.417213</td>\n",
       "      <td>0.536996</td>\n",
       "      <td>0.456069</td>\n",
       "      <td>0.453305</td>\n",
       "      <td>0.621982</td>\n",
       "      <td>0.449021</td>\n",
       "    </tr>\n",
       "  </tbody>\n",
       "</table>\n",
       "<p>13883 rows × 52 columns</p>\n",
       "</div>"
      ],
      "text/plain": [
       "       rougher.input.feed_au  rougher.input.feed_ag  rougher.input.feed_pb  \\\n",
       "0                   0.433422               0.369717               0.311708   \n",
       "1                   0.432830               0.374223               0.308982   \n",
       "2                   0.423731               0.370910               0.293619   \n",
       "3                   0.404647               0.365483               0.276032   \n",
       "4                   0.369106               0.366789               0.239804   \n",
       "...                      ...                    ...                    ...   \n",
       "14574               0.285887               0.349070               0.596217   \n",
       "14575               0.290469               0.350756               0.594198   \n",
       "14576               0.343469               0.369084               0.648482   \n",
       "14577               0.304584               0.371271               0.580255   \n",
       "14578               0.280064               0.360082               0.562210   \n",
       "\n",
       "       rougher.input.feed_sol  rougher.input.feed_rate  \\\n",
       "0                    0.685601                 0.729671   \n",
       "1                    0.665696                 0.732102   \n",
       "2                    0.669813                 0.738703   \n",
       "3                    0.686613                 0.756213   \n",
       "4                    0.639179                 0.753344   \n",
       "...                       ...                      ...   \n",
       "14574                0.698276                 0.780331   \n",
       "14575                0.696674                 0.782519   \n",
       "14576                0.696187                 0.781716   \n",
       "14577                0.719235                 0.779128   \n",
       "14578                0.747200                 0.774460   \n",
       "\n",
       "       rougher.input.feed_size  rougher.input.floatbank10_sulfate  \\\n",
       "0                     0.114323                           0.331850   \n",
       "1                     0.118019                           0.331423   \n",
       "2                     0.118497                           0.330022   \n",
       "3                     0.119079                           0.321979   \n",
       "4                     0.115479                           0.303363   \n",
       "...                        ...                                ...   \n",
       "14574                 0.175695                           0.187576   \n",
       "14575                 0.172836                           0.187429   \n",
       "14576                 0.176667                           0.214901   \n",
       "14577                 0.246330                           0.203658   \n",
       "14578                 0.252029                           0.182320   \n",
       "\n",
       "       rougher.input.floatbank10_xanthate  rougher.state.floatbank10_a_air  \\\n",
       "0                                0.619138                         0.661060   \n",
       "1                                0.618909                         0.661443   \n",
       "2                                0.638657                         0.661069   \n",
       "3                                0.639254                         0.661132   \n",
       "4                                0.638806                         0.661042   \n",
       "...                                   ...                              ...   \n",
       "14574                            0.928060                         0.793800   \n",
       "14575                            0.927593                         0.794133   \n",
       "14576                            0.943848                         0.793001   \n",
       "14577                            0.958930                         0.791231   \n",
       "14578                            0.958379                         0.796717   \n",
       "\n",
       "       rougher.state.floatbank10_a_level  ...  \\\n",
       "0                               0.660854  ...   \n",
       "1                               0.671271  ...   \n",
       "2                               0.671248  ...   \n",
       "3                               0.670919  ...   \n",
       "4                               0.672084  ...   \n",
       "...                                  ...  ...   \n",
       "14574                           0.931707  ...   \n",
       "14575                           0.931704  ...   \n",
       "14576                           0.929539  ...   \n",
       "14577                           0.933009  ...   \n",
       "14578                           0.933729  ...   \n",
       "\n",
       "       secondary_cleaner.state.floatbank4_a_air  \\\n",
       "0                                      0.465432   \n",
       "1                                      0.464617   \n",
       "2                                      0.465372   \n",
       "3                                      0.466086   \n",
       "4                                      0.465780   \n",
       "...                                         ...   \n",
       "14574                                  0.764748   \n",
       "14575                                  0.764824   \n",
       "14576                                  0.764766   \n",
       "14577                                  0.762395   \n",
       "14578                                  0.764242   \n",
       "\n",
       "       secondary_cleaner.state.floatbank4_a_level  \\\n",
       "0                                        0.536120   \n",
       "1                                        0.530683   \n",
       "2                                        0.536061   \n",
       "3                                        0.539061   \n",
       "4                                        0.540898   \n",
       "...                                           ...   \n",
       "14574                                    0.538449   \n",
       "14575                                    0.538962   \n",
       "14576                                    0.538501   \n",
       "14577                                    0.537699   \n",
       "14578                                    0.537520   \n",
       "\n",
       "       secondary_cleaner.state.floatbank4_b_air  \\\n",
       "0                                      0.503998   \n",
       "1                                      0.497775   \n",
       "2                                      0.496202   \n",
       "3                                      0.499816   \n",
       "4                                      0.497880   \n",
       "...                                         ...   \n",
       "14574                                  0.834493   \n",
       "14575                                  0.832577   \n",
       "14576                                  0.833374   \n",
       "14577                                  0.834544   \n",
       "14578                                  0.831027   \n",
       "\n",
       "       secondary_cleaner.state.floatbank4_b_level  \\\n",
       "0                                        0.373418   \n",
       "1                                        0.377685   \n",
       "2                                        0.377935   \n",
       "3                                        0.377859   \n",
       "4                                        0.378036   \n",
       "...                                           ...   \n",
       "14574                                    0.379564   \n",
       "14575                                    0.379206   \n",
       "14576                                    0.379692   \n",
       "14577                                    0.379048   \n",
       "14578                                    0.379545   \n",
       "\n",
       "       secondary_cleaner.state.floatbank5_a_air  \\\n",
       "0                                      0.233603   \n",
       "1                                      0.236180   \n",
       "2                                      0.236899   \n",
       "3                                      0.234618   \n",
       "4                                      0.233605   \n",
       "...                                         ...   \n",
       "14574                                  0.416804   \n",
       "14575                                  0.417036   \n",
       "14576                                  0.416907   \n",
       "14577                                  0.416737   \n",
       "14578                                  0.417213   \n",
       "\n",
       "       secondary_cleaner.state.floatbank5_a_level  \\\n",
       "0                                        0.540868   \n",
       "1                                        0.537504   \n",
       "2                                        0.537578   \n",
       "3                                        0.539256   \n",
       "4                                        0.534761   \n",
       "...                                           ...   \n",
       "14574                                    0.538043   \n",
       "14575                                    0.537647   \n",
       "14576                                    0.538111   \n",
       "14577                                    0.537097   \n",
       "14578                                    0.536996   \n",
       "\n",
       "       secondary_cleaner.state.floatbank5_b_air  \\\n",
       "0                                      0.275626   \n",
       "1                                      0.272162   \n",
       "2                                      0.273225   \n",
       "3                                      0.271891   \n",
       "4                                      0.268858   \n",
       "...                                         ...   \n",
       "14574                                  0.455152   \n",
       "14575                                  0.455473   \n",
       "14576                                  0.455255   \n",
       "14577                                  0.453537   \n",
       "14578                                  0.456069   \n",
       "\n",
       "       secondary_cleaner.state.floatbank5_b_level  \\\n",
       "0                                        0.452465   \n",
       "1                                        0.452297   \n",
       "2                                        0.452395   \n",
       "3                                        0.452790   \n",
       "4                                        0.452639   \n",
       "...                                           ...   \n",
       "14574                                    0.453134   \n",
       "14575                                    0.452786   \n",
       "14576                                    0.452941   \n",
       "14577                                    0.453334   \n",
       "14578                                    0.453305   \n",
       "\n",
       "       secondary_cleaner.state.floatbank6_a_air  \\\n",
       "0                                      0.441013   \n",
       "1                                      0.436272   \n",
       "2                                      0.437212   \n",
       "3                                      0.436495   \n",
       "4                                      0.436219   \n",
       "...                                         ...   \n",
       "14574                                  0.622484   \n",
       "14575                                  0.621764   \n",
       "14576                                  0.622507   \n",
       "14577                                  0.621288   \n",
       "14578                                  0.621982   \n",
       "\n",
       "       secondary_cleaner.state.floatbank6_a_level  \n",
       "0                                        0.297042  \n",
       "1                                        0.305862  \n",
       "2                                        0.303473  \n",
       "3                                        0.305558  \n",
       "4                                        0.303372  \n",
       "...                                           ...  \n",
       "14574                                    0.449993  \n",
       "14575                                    0.447472  \n",
       "14576                                    0.449344  \n",
       "14577                                    0.449715  \n",
       "14578                                    0.449021  \n",
       "\n",
       "[13883 rows x 52 columns]"
      ]
     },
     "execution_count": 85,
     "metadata": {},
     "output_type": "execute_result"
    }
   ],
   "source": [
    "final_train_features"
   ]
  },
  {
   "cell_type": "markdown",
   "metadata": {},
   "source": [
    "Let's pass the metric to the function so that it can be inserted into Gridsearch"
   ]
  },
  {
   "cell_type": "code",
   "execution_count": 86,
   "metadata": {},
   "outputs": [],
   "source": [
    "sMAPE_score = make_scorer(sMare_func, greater_is_better = False)"
   ]
  },
  {
   "cell_type": "markdown",
   "metadata": {},
   "source": [
    "Linear Regression Model for Flotation"
   ]
  },
  {
   "cell_type": "code",
   "execution_count": 87,
   "metadata": {},
   "outputs": [],
   "source": [
    "ridge = Ridge()"
   ]
  },
  {
   "cell_type": "code",
   "execution_count": 88,
   "metadata": {},
   "outputs": [
    {
     "data": {
      "text/html": [
       "<style>#sk-container-id-1 {color: black;background-color: white;}#sk-container-id-1 pre{padding: 0;}#sk-container-id-1 div.sk-toggleable {background-color: white;}#sk-container-id-1 label.sk-toggleable__label {cursor: pointer;display: block;width: 100%;margin-bottom: 0;padding: 0.3em;box-sizing: border-box;text-align: center;}#sk-container-id-1 label.sk-toggleable__label-arrow:before {content: \"▸\";float: left;margin-right: 0.25em;color: #696969;}#sk-container-id-1 label.sk-toggleable__label-arrow:hover:before {color: black;}#sk-container-id-1 div.sk-estimator:hover label.sk-toggleable__label-arrow:before {color: black;}#sk-container-id-1 div.sk-toggleable__content {max-height: 0;max-width: 0;overflow: hidden;text-align: left;background-color: #f0f8ff;}#sk-container-id-1 div.sk-toggleable__content pre {margin: 0.2em;color: black;border-radius: 0.25em;background-color: #f0f8ff;}#sk-container-id-1 input.sk-toggleable__control:checked~div.sk-toggleable__content {max-height: 200px;max-width: 100%;overflow: auto;}#sk-container-id-1 input.sk-toggleable__control:checked~label.sk-toggleable__label-arrow:before {content: \"▾\";}#sk-container-id-1 div.sk-estimator input.sk-toggleable__control:checked~label.sk-toggleable__label {background-color: #d4ebff;}#sk-container-id-1 div.sk-label input.sk-toggleable__control:checked~label.sk-toggleable__label {background-color: #d4ebff;}#sk-container-id-1 input.sk-hidden--visually {border: 0;clip: rect(1px 1px 1px 1px);clip: rect(1px, 1px, 1px, 1px);height: 1px;margin: -1px;overflow: hidden;padding: 0;position: absolute;width: 1px;}#sk-container-id-1 div.sk-estimator {font-family: monospace;background-color: #f0f8ff;border: 1px dotted black;border-radius: 0.25em;box-sizing: border-box;margin-bottom: 0.5em;}#sk-container-id-1 div.sk-estimator:hover {background-color: #d4ebff;}#sk-container-id-1 div.sk-parallel-item::after {content: \"\";width: 100%;border-bottom: 1px solid gray;flex-grow: 1;}#sk-container-id-1 div.sk-label:hover label.sk-toggleable__label {background-color: #d4ebff;}#sk-container-id-1 div.sk-serial::before {content: \"\";position: absolute;border-left: 1px solid gray;box-sizing: border-box;top: 0;bottom: 0;left: 50%;z-index: 0;}#sk-container-id-1 div.sk-serial {display: flex;flex-direction: column;align-items: center;background-color: white;padding-right: 0.2em;padding-left: 0.2em;position: relative;}#sk-container-id-1 div.sk-item {position: relative;z-index: 1;}#sk-container-id-1 div.sk-parallel {display: flex;align-items: stretch;justify-content: center;background-color: white;position: relative;}#sk-container-id-1 div.sk-item::before, #sk-container-id-1 div.sk-parallel-item::before {content: \"\";position: absolute;border-left: 1px solid gray;box-sizing: border-box;top: 0;bottom: 0;left: 50%;z-index: -1;}#sk-container-id-1 div.sk-parallel-item {display: flex;flex-direction: column;z-index: 1;position: relative;background-color: white;}#sk-container-id-1 div.sk-parallel-item:first-child::after {align-self: flex-end;width: 50%;}#sk-container-id-1 div.sk-parallel-item:last-child::after {align-self: flex-start;width: 50%;}#sk-container-id-1 div.sk-parallel-item:only-child::after {width: 0;}#sk-container-id-1 div.sk-dashed-wrapped {border: 1px dashed gray;margin: 0 0.4em 0.5em 0.4em;box-sizing: border-box;padding-bottom: 0.4em;background-color: white;}#sk-container-id-1 div.sk-label label {font-family: monospace;font-weight: bold;display: inline-block;line-height: 1.2em;}#sk-container-id-1 div.sk-label-container {text-align: center;}#sk-container-id-1 div.sk-container {/* jupyter's `normalize.less` sets `[hidden] { display: none; }` but bootstrap.min.css set `[hidden] { display: none !important; }` so we also need the `!important` here to be able to override the default hidden behavior on the sphinx rendered scikit-learn.org. See: https://github.com/scikit-learn/scikit-learn/issues/21755 */display: inline-block !important;position: relative;}#sk-container-id-1 div.sk-text-repr-fallback {display: none;}</style><div id=\"sk-container-id-1\" class=\"sk-top-container\"><div class=\"sk-text-repr-fallback\"><pre>GridSearchCV(cv=5, estimator=Ridge(),\n",
       "             param_grid={&#x27;alpha&#x27;: array([1.00000000e-04, 2.63665090e-04, 6.95192796e-04, 1.83298071e-03,\n",
       "       4.83293024e-03, 1.27427499e-02, 3.35981829e-02, 8.85866790e-02,\n",
       "       2.33572147e-01, 6.15848211e-01, 1.62377674e+00, 4.28133240e+00,\n",
       "       1.12883789e+01, 2.97635144e+01, 7.84759970e+01, 2.06913808e+02,\n",
       "       5.45559478e+02, 1.43844989e+03, 3.79269019e+03, 1.00000000e+04])},\n",
       "             scoring=make_scorer(sMare_func, greater_is_better=False))</pre><b>In a Jupyter environment, please rerun this cell to show the HTML representation or trust the notebook. <br />On GitHub, the HTML representation is unable to render, please try loading this page with nbviewer.org.</b></div><div class=\"sk-container\" hidden><div class=\"sk-item sk-dashed-wrapped\"><div class=\"sk-label-container\"><div class=\"sk-label sk-toggleable\"><input class=\"sk-toggleable__control sk-hidden--visually\" id=\"sk-estimator-id-1\" type=\"checkbox\" ><label for=\"sk-estimator-id-1\" class=\"sk-toggleable__label sk-toggleable__label-arrow\">GridSearchCV</label><div class=\"sk-toggleable__content\"><pre>GridSearchCV(cv=5, estimator=Ridge(),\n",
       "             param_grid={&#x27;alpha&#x27;: array([1.00000000e-04, 2.63665090e-04, 6.95192796e-04, 1.83298071e-03,\n",
       "       4.83293024e-03, 1.27427499e-02, 3.35981829e-02, 8.85866790e-02,\n",
       "       2.33572147e-01, 6.15848211e-01, 1.62377674e+00, 4.28133240e+00,\n",
       "       1.12883789e+01, 2.97635144e+01, 7.84759970e+01, 2.06913808e+02,\n",
       "       5.45559478e+02, 1.43844989e+03, 3.79269019e+03, 1.00000000e+04])},\n",
       "             scoring=make_scorer(sMare_func, greater_is_better=False))</pre></div></div></div><div class=\"sk-parallel\"><div class=\"sk-parallel-item\"><div class=\"sk-item\"><div class=\"sk-label-container\"><div class=\"sk-label sk-toggleable\"><input class=\"sk-toggleable__control sk-hidden--visually\" id=\"sk-estimator-id-2\" type=\"checkbox\" ><label for=\"sk-estimator-id-2\" class=\"sk-toggleable__label sk-toggleable__label-arrow\">estimator: Ridge</label><div class=\"sk-toggleable__content\"><pre>Ridge()</pre></div></div></div><div class=\"sk-serial\"><div class=\"sk-item\"><div class=\"sk-estimator sk-toggleable\"><input class=\"sk-toggleable__control sk-hidden--visually\" id=\"sk-estimator-id-3\" type=\"checkbox\" ><label for=\"sk-estimator-id-3\" class=\"sk-toggleable__label sk-toggleable__label-arrow\">Ridge</label><div class=\"sk-toggleable__content\"><pre>Ridge()</pre></div></div></div></div></div></div></div></div></div></div>"
      ],
      "text/plain": [
       "GridSearchCV(cv=5, estimator=Ridge(),\n",
       "             param_grid={'alpha': array([1.00000000e-04, 2.63665090e-04, 6.95192796e-04, 1.83298071e-03,\n",
       "       4.83293024e-03, 1.27427499e-02, 3.35981829e-02, 8.85866790e-02,\n",
       "       2.33572147e-01, 6.15848211e-01, 1.62377674e+00, 4.28133240e+00,\n",
       "       1.12883789e+01, 2.97635144e+01, 7.84759970e+01, 2.06913808e+02,\n",
       "       5.45559478e+02, 1.43844989e+03, 3.79269019e+03, 1.00000000e+04])},\n",
       "             scoring=make_scorer(sMare_func, greater_is_better=False))"
      ]
     },
     "execution_count": 88,
     "metadata": {},
     "output_type": "execute_result"
    }
   ],
   "source": [
    "alpha_grid = {'alpha': np.logspace(-4, 4, 20)} # 20 points from 10^(-4) to 10^4\n",
    "ridge_grid = GridSearchCV(ridge, alpha_grid, cv=5, scoring=sMAPE_score) \n",
    "ridge_grid.fit(rougher_train_features, rougher_train_target)"
   ]
  },
  {
   "cell_type": "code",
   "execution_count": 89,
   "metadata": {},
   "outputs": [
    {
     "name": "stdout",
     "output_type": "stream",
     "text": [
      "Best alpha: {'alpha': 78.47599703514607}\n",
      "\n",
      "Best score: -6.084483431455421\n"
     ]
    }
   ],
   "source": [
    "# Let's look at the best performance\n",
    "print('Best alpha:', ridge_grid.best_params_)\n",
    "print('\\nBest score:', ridge_grid.best_score_)\n"
   ]
  },
  {
   "cell_type": "code",
   "execution_count": 90,
   "metadata": {},
   "outputs": [],
   "source": [
    "sMAPE_score_L2 = ridge_grid.best_score_"
   ]
  },
  {
   "cell_type": "code",
   "execution_count": 91,
   "metadata": {},
   "outputs": [
    {
     "name": "stdout",
     "output_type": "stream",
     "text": [
      "sMAPE_score with L2 regularization: -6.084483431455421\n"
     ]
    }
   ],
   "source": [
    "print('sMAPE_score with L2 regularization:', sMAPE_score_L2)"
   ]
  },
  {
   "cell_type": "markdown",
   "metadata": {},
   "source": [
    "Decision tree\n"
   ]
  },
  {
   "cell_type": "code",
   "execution_count": 92,
   "metadata": {},
   "outputs": [],
   "source": [
    "params = {'max_depth':range(2, 10),\n",
    "          'criterion':['mse', 'mae']}\n"
   ]
  },
  {
   "cell_type": "code",
   "execution_count": 93,
   "metadata": {},
   "outputs": [],
   "source": [
    "greedS_tree = RandomizedSearchCV(DecisionTreeRegressor(random_state=2023), params,\n",
    "                             scoring=sMAPE_score , cv=3, n_iter=16, n_jobs = -1)"
   ]
  },
  {
   "cell_type": "code",
   "execution_count": 94,
   "metadata": {},
   "outputs": [
    {
     "name": "stdout",
     "output_type": "stream",
     "text": [
      "Wall time: 1min 21s\n"
     ]
    },
    {
     "data": {
      "text/plain": [
       "{'max_depth': 2, 'criterion': 'mae'}"
      ]
     },
     "execution_count": 94,
     "metadata": {},
     "output_type": "execute_result"
    }
   ],
   "source": [
    "%%time\n",
    "\n",
    "greedS_tree.fit(rougher_train_features, rougher_train_target)\n",
    "\n",
    "greedS_tree.best_params_\n",
    "\n"
   ]
  },
  {
   "cell_type": "code",
   "execution_count": 95,
   "metadata": {},
   "outputs": [],
   "source": [
    "sMare_tree_cv = greedS_tree.best_score_"
   ]
  },
  {
   "cell_type": "code",
   "execution_count": 96,
   "metadata": {},
   "outputs": [
    {
     "data": {
      "text/plain": [
       "-6.665899366202869"
      ]
     },
     "execution_count": 96,
     "metadata": {},
     "output_type": "execute_result"
    }
   ],
   "source": [
    "sMare_tree_cv"
   ]
  },
  {
   "cell_type": "markdown",
   "metadata": {},
   "source": [
    "random forest"
   ]
  },
  {
   "cell_type": "code",
   "execution_count": 97,
   "metadata": {},
   "outputs": [],
   "source": [
    "forest_params = {'n_estimators':range(1,10),\n",
    "                 'max_depth':range(1,11),\n",
    "                 'max_features':range(1, 53),\n",
    "                 'bootstrap':[True, False],\n",
    "                 'criterion':['mse', 'mae']\n",
    "                }"
   ]
  },
  {
   "cell_type": "code",
   "execution_count": 98,
   "metadata": {},
   "outputs": [],
   "source": [
    "rs_forest = RandomizedSearchCV(RandomForestRegressor(random_state=2023),\n",
    "                               forest_params, cv = 5, n_iter = 16, scoring = sMAPE_score)"
   ]
  },
  {
   "cell_type": "code",
   "execution_count": 99,
   "metadata": {},
   "outputs": [
    {
     "data": {
      "text/plain": [
       "-6.048599991640414"
      ]
     },
     "execution_count": 99,
     "metadata": {},
     "output_type": "execute_result"
    }
   ],
   "source": [
    "\n",
    "rs_forest.fit(rougher_train_features, rougher_train_target)\n",
    "\n",
    "\n",
    "rs_forest.best_score_\n",
    "\n"
   ]
  },
  {
   "cell_type": "code",
   "execution_count": 100,
   "metadata": {},
   "outputs": [
    {
     "data": {
      "text/plain": [
       "{'n_estimators': 7,\n",
       " 'max_features': 10,\n",
       " 'max_depth': 3,\n",
       " 'criterion': 'mae',\n",
       " 'bootstrap': True}"
      ]
     },
     "execution_count": 100,
     "metadata": {},
     "output_type": "execute_result"
    }
   ],
   "source": [
    "\n",
    "rs_forest.best_params_\n"
   ]
  },
  {
   "cell_type": "code",
   "execution_count": 101,
   "metadata": {},
   "outputs": [],
   "source": [
    "Smare_forest_cv = rs_forest.best_score_"
   ]
  },
  {
   "cell_type": "code",
   "execution_count": 102,
   "metadata": {},
   "outputs": [
    {
     "name": "stdout",
     "output_type": "stream",
     "text": [
      "sMare L2 regularization -6.084483431455421\n",
      "sMare decision tree with parameter selection and cross-validation -6.665899366202869\n",
      "sMare random forest with parameter selection and cross-validation -6.048599991640414\n"
     ]
    }
   ],
   "source": [
    "print('sMare L2 regularization', sMAPE_score_L2)\n",
    "print('sMare decision tree with parameter selection and cross-validation',sMare_tree_cv)\n",
    "print('sMare random forest with parameter selection and cross-validation',Smare_forest_cv)"
   ]
  },
  {
   "cell_type": "markdown",
   "metadata": {},
   "source": [
    "Conclusion. selected models for predicting recovery after flotation. The best model according to the results of sMARE-random forest"
   ]
  },
  {
   "cell_type": "markdown",
   "metadata": {},
   "source": [
    "Selection of model for final recovery"
   ]
  },
  {
   "cell_type": "markdown",
   "metadata": {},
   "source": [
    "Linear model"
   ]
  },
  {
   "cell_type": "code",
   "execution_count": 103,
   "metadata": {},
   "outputs": [],
   "source": [
    "ridge_fin = Ridge() "
   ]
  },
  {
   "cell_type": "code",
   "execution_count": 104,
   "metadata": {},
   "outputs": [
    {
     "data": {
      "text/html": [
       "<style>#sk-container-id-2 {color: black;background-color: white;}#sk-container-id-2 pre{padding: 0;}#sk-container-id-2 div.sk-toggleable {background-color: white;}#sk-container-id-2 label.sk-toggleable__label {cursor: pointer;display: block;width: 100%;margin-bottom: 0;padding: 0.3em;box-sizing: border-box;text-align: center;}#sk-container-id-2 label.sk-toggleable__label-arrow:before {content: \"▸\";float: left;margin-right: 0.25em;color: #696969;}#sk-container-id-2 label.sk-toggleable__label-arrow:hover:before {color: black;}#sk-container-id-2 div.sk-estimator:hover label.sk-toggleable__label-arrow:before {color: black;}#sk-container-id-2 div.sk-toggleable__content {max-height: 0;max-width: 0;overflow: hidden;text-align: left;background-color: #f0f8ff;}#sk-container-id-2 div.sk-toggleable__content pre {margin: 0.2em;color: black;border-radius: 0.25em;background-color: #f0f8ff;}#sk-container-id-2 input.sk-toggleable__control:checked~div.sk-toggleable__content {max-height: 200px;max-width: 100%;overflow: auto;}#sk-container-id-2 input.sk-toggleable__control:checked~label.sk-toggleable__label-arrow:before {content: \"▾\";}#sk-container-id-2 div.sk-estimator input.sk-toggleable__control:checked~label.sk-toggleable__label {background-color: #d4ebff;}#sk-container-id-2 div.sk-label input.sk-toggleable__control:checked~label.sk-toggleable__label {background-color: #d4ebff;}#sk-container-id-2 input.sk-hidden--visually {border: 0;clip: rect(1px 1px 1px 1px);clip: rect(1px, 1px, 1px, 1px);height: 1px;margin: -1px;overflow: hidden;padding: 0;position: absolute;width: 1px;}#sk-container-id-2 div.sk-estimator {font-family: monospace;background-color: #f0f8ff;border: 1px dotted black;border-radius: 0.25em;box-sizing: border-box;margin-bottom: 0.5em;}#sk-container-id-2 div.sk-estimator:hover {background-color: #d4ebff;}#sk-container-id-2 div.sk-parallel-item::after {content: \"\";width: 100%;border-bottom: 1px solid gray;flex-grow: 1;}#sk-container-id-2 div.sk-label:hover label.sk-toggleable__label {background-color: #d4ebff;}#sk-container-id-2 div.sk-serial::before {content: \"\";position: absolute;border-left: 1px solid gray;box-sizing: border-box;top: 0;bottom: 0;left: 50%;z-index: 0;}#sk-container-id-2 div.sk-serial {display: flex;flex-direction: column;align-items: center;background-color: white;padding-right: 0.2em;padding-left: 0.2em;position: relative;}#sk-container-id-2 div.sk-item {position: relative;z-index: 1;}#sk-container-id-2 div.sk-parallel {display: flex;align-items: stretch;justify-content: center;background-color: white;position: relative;}#sk-container-id-2 div.sk-item::before, #sk-container-id-2 div.sk-parallel-item::before {content: \"\";position: absolute;border-left: 1px solid gray;box-sizing: border-box;top: 0;bottom: 0;left: 50%;z-index: -1;}#sk-container-id-2 div.sk-parallel-item {display: flex;flex-direction: column;z-index: 1;position: relative;background-color: white;}#sk-container-id-2 div.sk-parallel-item:first-child::after {align-self: flex-end;width: 50%;}#sk-container-id-2 div.sk-parallel-item:last-child::after {align-self: flex-start;width: 50%;}#sk-container-id-2 div.sk-parallel-item:only-child::after {width: 0;}#sk-container-id-2 div.sk-dashed-wrapped {border: 1px dashed gray;margin: 0 0.4em 0.5em 0.4em;box-sizing: border-box;padding-bottom: 0.4em;background-color: white;}#sk-container-id-2 div.sk-label label {font-family: monospace;font-weight: bold;display: inline-block;line-height: 1.2em;}#sk-container-id-2 div.sk-label-container {text-align: center;}#sk-container-id-2 div.sk-container {/* jupyter's `normalize.less` sets `[hidden] { display: none; }` but bootstrap.min.css set `[hidden] { display: none !important; }` so we also need the `!important` here to be able to override the default hidden behavior on the sphinx rendered scikit-learn.org. See: https://github.com/scikit-learn/scikit-learn/issues/21755 */display: inline-block !important;position: relative;}#sk-container-id-2 div.sk-text-repr-fallback {display: none;}</style><div id=\"sk-container-id-2\" class=\"sk-top-container\"><div class=\"sk-text-repr-fallback\"><pre>GridSearchCV(cv=5, estimator=Ridge(),\n",
       "             param_grid={&#x27;alpha&#x27;: array([1.00000000e-04, 2.63665090e-04, 6.95192796e-04, 1.83298071e-03,\n",
       "       4.83293024e-03, 1.27427499e-02, 3.35981829e-02, 8.85866790e-02,\n",
       "       2.33572147e-01, 6.15848211e-01, 1.62377674e+00, 4.28133240e+00,\n",
       "       1.12883789e+01, 2.97635144e+01, 7.84759970e+01, 2.06913808e+02,\n",
       "       5.45559478e+02, 1.43844989e+03, 3.79269019e+03, 1.00000000e+04])},\n",
       "             scoring=make_scorer(sMare_func, greater_is_better=False))</pre><b>In a Jupyter environment, please rerun this cell to show the HTML representation or trust the notebook. <br />On GitHub, the HTML representation is unable to render, please try loading this page with nbviewer.org.</b></div><div class=\"sk-container\" hidden><div class=\"sk-item sk-dashed-wrapped\"><div class=\"sk-label-container\"><div class=\"sk-label sk-toggleable\"><input class=\"sk-toggleable__control sk-hidden--visually\" id=\"sk-estimator-id-4\" type=\"checkbox\" ><label for=\"sk-estimator-id-4\" class=\"sk-toggleable__label sk-toggleable__label-arrow\">GridSearchCV</label><div class=\"sk-toggleable__content\"><pre>GridSearchCV(cv=5, estimator=Ridge(),\n",
       "             param_grid={&#x27;alpha&#x27;: array([1.00000000e-04, 2.63665090e-04, 6.95192796e-04, 1.83298071e-03,\n",
       "       4.83293024e-03, 1.27427499e-02, 3.35981829e-02, 8.85866790e-02,\n",
       "       2.33572147e-01, 6.15848211e-01, 1.62377674e+00, 4.28133240e+00,\n",
       "       1.12883789e+01, 2.97635144e+01, 7.84759970e+01, 2.06913808e+02,\n",
       "       5.45559478e+02, 1.43844989e+03, 3.79269019e+03, 1.00000000e+04])},\n",
       "             scoring=make_scorer(sMare_func, greater_is_better=False))</pre></div></div></div><div class=\"sk-parallel\"><div class=\"sk-parallel-item\"><div class=\"sk-item\"><div class=\"sk-label-container\"><div class=\"sk-label sk-toggleable\"><input class=\"sk-toggleable__control sk-hidden--visually\" id=\"sk-estimator-id-5\" type=\"checkbox\" ><label for=\"sk-estimator-id-5\" class=\"sk-toggleable__label sk-toggleable__label-arrow\">estimator: Ridge</label><div class=\"sk-toggleable__content\"><pre>Ridge()</pre></div></div></div><div class=\"sk-serial\"><div class=\"sk-item\"><div class=\"sk-estimator sk-toggleable\"><input class=\"sk-toggleable__control sk-hidden--visually\" id=\"sk-estimator-id-6\" type=\"checkbox\" ><label for=\"sk-estimator-id-6\" class=\"sk-toggleable__label sk-toggleable__label-arrow\">Ridge</label><div class=\"sk-toggleable__content\"><pre>Ridge()</pre></div></div></div></div></div></div></div></div></div></div>"
      ],
      "text/plain": [
       "GridSearchCV(cv=5, estimator=Ridge(),\n",
       "             param_grid={'alpha': array([1.00000000e-04, 2.63665090e-04, 6.95192796e-04, 1.83298071e-03,\n",
       "       4.83293024e-03, 1.27427499e-02, 3.35981829e-02, 8.85866790e-02,\n",
       "       2.33572147e-01, 6.15848211e-01, 1.62377674e+00, 4.28133240e+00,\n",
       "       1.12883789e+01, 2.97635144e+01, 7.84759970e+01, 2.06913808e+02,\n",
       "       5.45559478e+02, 1.43844989e+03, 3.79269019e+03, 1.00000000e+04])},\n",
       "             scoring=make_scorer(sMare_func, greater_is_better=False))"
      ]
     },
     "execution_count": 104,
     "metadata": {},
     "output_type": "execute_result"
    }
   ],
   "source": [
    "alpha_grid_fin = {'alpha': np.logspace(-4, 4, 20)} \n",
    "ridge_grid_fin = GridSearchCV(ridge_fin, alpha_grid, cv=5, scoring=sMAPE_score) \n",
    "ridge_grid_fin.fit(final_train_features, final_train_target)"
   ]
  },
  {
   "cell_type": "code",
   "execution_count": 105,
   "metadata": {},
   "outputs": [
    {
     "name": "stdout",
     "output_type": "stream",
     "text": [
      "Best alpha: {'alpha': 206.913808111479}\n",
      "\n",
      "Best score: -8.757030266484133\n"
     ]
    }
   ],
   "source": [
    "# Let's look at the best performance\n",
    "print('Best alpha:', ridge_grid_fin.best_params_)\n",
    "print('\\nBest score:', ridge_grid_fin.best_score_)\n"
   ]
  },
  {
   "cell_type": "code",
   "execution_count": 106,
   "metadata": {},
   "outputs": [
    {
     "data": {
      "text/html": [
       "<style>#sk-container-id-3 {color: black;background-color: white;}#sk-container-id-3 pre{padding: 0;}#sk-container-id-3 div.sk-toggleable {background-color: white;}#sk-container-id-3 label.sk-toggleable__label {cursor: pointer;display: block;width: 100%;margin-bottom: 0;padding: 0.3em;box-sizing: border-box;text-align: center;}#sk-container-id-3 label.sk-toggleable__label-arrow:before {content: \"▸\";float: left;margin-right: 0.25em;color: #696969;}#sk-container-id-3 label.sk-toggleable__label-arrow:hover:before {color: black;}#sk-container-id-3 div.sk-estimator:hover label.sk-toggleable__label-arrow:before {color: black;}#sk-container-id-3 div.sk-toggleable__content {max-height: 0;max-width: 0;overflow: hidden;text-align: left;background-color: #f0f8ff;}#sk-container-id-3 div.sk-toggleable__content pre {margin: 0.2em;color: black;border-radius: 0.25em;background-color: #f0f8ff;}#sk-container-id-3 input.sk-toggleable__control:checked~div.sk-toggleable__content {max-height: 200px;max-width: 100%;overflow: auto;}#sk-container-id-3 input.sk-toggleable__control:checked~label.sk-toggleable__label-arrow:before {content: \"▾\";}#sk-container-id-3 div.sk-estimator input.sk-toggleable__control:checked~label.sk-toggleable__label {background-color: #d4ebff;}#sk-container-id-3 div.sk-label input.sk-toggleable__control:checked~label.sk-toggleable__label {background-color: #d4ebff;}#sk-container-id-3 input.sk-hidden--visually {border: 0;clip: rect(1px 1px 1px 1px);clip: rect(1px, 1px, 1px, 1px);height: 1px;margin: -1px;overflow: hidden;padding: 0;position: absolute;width: 1px;}#sk-container-id-3 div.sk-estimator {font-family: monospace;background-color: #f0f8ff;border: 1px dotted black;border-radius: 0.25em;box-sizing: border-box;margin-bottom: 0.5em;}#sk-container-id-3 div.sk-estimator:hover {background-color: #d4ebff;}#sk-container-id-3 div.sk-parallel-item::after {content: \"\";width: 100%;border-bottom: 1px solid gray;flex-grow: 1;}#sk-container-id-3 div.sk-label:hover label.sk-toggleable__label {background-color: #d4ebff;}#sk-container-id-3 div.sk-serial::before {content: \"\";position: absolute;border-left: 1px solid gray;box-sizing: border-box;top: 0;bottom: 0;left: 50%;z-index: 0;}#sk-container-id-3 div.sk-serial {display: flex;flex-direction: column;align-items: center;background-color: white;padding-right: 0.2em;padding-left: 0.2em;position: relative;}#sk-container-id-3 div.sk-item {position: relative;z-index: 1;}#sk-container-id-3 div.sk-parallel {display: flex;align-items: stretch;justify-content: center;background-color: white;position: relative;}#sk-container-id-3 div.sk-item::before, #sk-container-id-3 div.sk-parallel-item::before {content: \"\";position: absolute;border-left: 1px solid gray;box-sizing: border-box;top: 0;bottom: 0;left: 50%;z-index: -1;}#sk-container-id-3 div.sk-parallel-item {display: flex;flex-direction: column;z-index: 1;position: relative;background-color: white;}#sk-container-id-3 div.sk-parallel-item:first-child::after {align-self: flex-end;width: 50%;}#sk-container-id-3 div.sk-parallel-item:last-child::after {align-self: flex-start;width: 50%;}#sk-container-id-3 div.sk-parallel-item:only-child::after {width: 0;}#sk-container-id-3 div.sk-dashed-wrapped {border: 1px dashed gray;margin: 0 0.4em 0.5em 0.4em;box-sizing: border-box;padding-bottom: 0.4em;background-color: white;}#sk-container-id-3 div.sk-label label {font-family: monospace;font-weight: bold;display: inline-block;line-height: 1.2em;}#sk-container-id-3 div.sk-label-container {text-align: center;}#sk-container-id-3 div.sk-container {/* jupyter's `normalize.less` sets `[hidden] { display: none; }` but bootstrap.min.css set `[hidden] { display: none !important; }` so we also need the `!important` here to be able to override the default hidden behavior on the sphinx rendered scikit-learn.org. See: https://github.com/scikit-learn/scikit-learn/issues/21755 */display: inline-block !important;position: relative;}#sk-container-id-3 div.sk-text-repr-fallback {display: none;}</style><div id=\"sk-container-id-3\" class=\"sk-top-container\"><div class=\"sk-text-repr-fallback\"><pre>Ridge(alpha=206.913808111479)</pre><b>In a Jupyter environment, please rerun this cell to show the HTML representation or trust the notebook. <br />On GitHub, the HTML representation is unable to render, please try loading this page with nbviewer.org.</b></div><div class=\"sk-container\" hidden><div class=\"sk-item\"><div class=\"sk-estimator sk-toggleable\"><input class=\"sk-toggleable__control sk-hidden--visually\" id=\"sk-estimator-id-7\" type=\"checkbox\" checked><label for=\"sk-estimator-id-7\" class=\"sk-toggleable__label sk-toggleable__label-arrow\">Ridge</label><div class=\"sk-toggleable__content\"><pre>Ridge(alpha=206.913808111479)</pre></div></div></div></div></div>"
      ],
      "text/plain": [
       "Ridge(alpha=206.913808111479)"
      ]
     },
     "execution_count": 106,
     "metadata": {},
     "output_type": "execute_result"
    }
   ],
   "source": [
    "ridge_grid_fin.best_estimator_\n"
   ]
  },
  {
   "cell_type": "code",
   "execution_count": 107,
   "metadata": {},
   "outputs": [],
   "source": [
    "sMAPE_score_L2_fin =  ridge_grid_fin.best_score_"
   ]
  },
  {
   "cell_type": "code",
   "execution_count": 108,
   "metadata": {},
   "outputs": [
    {
     "name": "stdout",
     "output_type": "stream",
     "text": [
      "sMAPE_score with L2 regularization: -8.757030266484133\n"
     ]
    }
   ],
   "source": [
    "print('sMAPE_score with L2 regularization:', sMAPE_score_L2_fin)"
   ]
  },
  {
   "cell_type": "markdown",
   "metadata": {},
   "source": [
    "Decision tree\n"
   ]
  },
  {
   "cell_type": "code",
   "execution_count": 109,
   "metadata": {},
   "outputs": [],
   "source": [
    "params = {'max_depth':range(2, 5),\n",
    "          'criterion':['mse', 'mae']}"
   ]
  },
  {
   "cell_type": "code",
   "execution_count": 110,
   "metadata": {},
   "outputs": [
    {
     "data": {
      "text/html": [
       "<style>#sk-container-id-4 {color: black;background-color: white;}#sk-container-id-4 pre{padding: 0;}#sk-container-id-4 div.sk-toggleable {background-color: white;}#sk-container-id-4 label.sk-toggleable__label {cursor: pointer;display: block;width: 100%;margin-bottom: 0;padding: 0.3em;box-sizing: border-box;text-align: center;}#sk-container-id-4 label.sk-toggleable__label-arrow:before {content: \"▸\";float: left;margin-right: 0.25em;color: #696969;}#sk-container-id-4 label.sk-toggleable__label-arrow:hover:before {color: black;}#sk-container-id-4 div.sk-estimator:hover label.sk-toggleable__label-arrow:before {color: black;}#sk-container-id-4 div.sk-toggleable__content {max-height: 0;max-width: 0;overflow: hidden;text-align: left;background-color: #f0f8ff;}#sk-container-id-4 div.sk-toggleable__content pre {margin: 0.2em;color: black;border-radius: 0.25em;background-color: #f0f8ff;}#sk-container-id-4 input.sk-toggleable__control:checked~div.sk-toggleable__content {max-height: 200px;max-width: 100%;overflow: auto;}#sk-container-id-4 input.sk-toggleable__control:checked~label.sk-toggleable__label-arrow:before {content: \"▾\";}#sk-container-id-4 div.sk-estimator input.sk-toggleable__control:checked~label.sk-toggleable__label {background-color: #d4ebff;}#sk-container-id-4 div.sk-label input.sk-toggleable__control:checked~label.sk-toggleable__label {background-color: #d4ebff;}#sk-container-id-4 input.sk-hidden--visually {border: 0;clip: rect(1px 1px 1px 1px);clip: rect(1px, 1px, 1px, 1px);height: 1px;margin: -1px;overflow: hidden;padding: 0;position: absolute;width: 1px;}#sk-container-id-4 div.sk-estimator {font-family: monospace;background-color: #f0f8ff;border: 1px dotted black;border-radius: 0.25em;box-sizing: border-box;margin-bottom: 0.5em;}#sk-container-id-4 div.sk-estimator:hover {background-color: #d4ebff;}#sk-container-id-4 div.sk-parallel-item::after {content: \"\";width: 100%;border-bottom: 1px solid gray;flex-grow: 1;}#sk-container-id-4 div.sk-label:hover label.sk-toggleable__label {background-color: #d4ebff;}#sk-container-id-4 div.sk-serial::before {content: \"\";position: absolute;border-left: 1px solid gray;box-sizing: border-box;top: 0;bottom: 0;left: 50%;z-index: 0;}#sk-container-id-4 div.sk-serial {display: flex;flex-direction: column;align-items: center;background-color: white;padding-right: 0.2em;padding-left: 0.2em;position: relative;}#sk-container-id-4 div.sk-item {position: relative;z-index: 1;}#sk-container-id-4 div.sk-parallel {display: flex;align-items: stretch;justify-content: center;background-color: white;position: relative;}#sk-container-id-4 div.sk-item::before, #sk-container-id-4 div.sk-parallel-item::before {content: \"\";position: absolute;border-left: 1px solid gray;box-sizing: border-box;top: 0;bottom: 0;left: 50%;z-index: -1;}#sk-container-id-4 div.sk-parallel-item {display: flex;flex-direction: column;z-index: 1;position: relative;background-color: white;}#sk-container-id-4 div.sk-parallel-item:first-child::after {align-self: flex-end;width: 50%;}#sk-container-id-4 div.sk-parallel-item:last-child::after {align-self: flex-start;width: 50%;}#sk-container-id-4 div.sk-parallel-item:only-child::after {width: 0;}#sk-container-id-4 div.sk-dashed-wrapped {border: 1px dashed gray;margin: 0 0.4em 0.5em 0.4em;box-sizing: border-box;padding-bottom: 0.4em;background-color: white;}#sk-container-id-4 div.sk-label label {font-family: monospace;font-weight: bold;display: inline-block;line-height: 1.2em;}#sk-container-id-4 div.sk-label-container {text-align: center;}#sk-container-id-4 div.sk-container {/* jupyter's `normalize.less` sets `[hidden] { display: none; }` but bootstrap.min.css set `[hidden] { display: none !important; }` so we also need the `!important` here to be able to override the default hidden behavior on the sphinx rendered scikit-learn.org. See: https://github.com/scikit-learn/scikit-learn/issues/21755 */display: inline-block !important;position: relative;}#sk-container-id-4 div.sk-text-repr-fallback {display: none;}</style><div id=\"sk-container-id-4\" class=\"sk-top-container\"><div class=\"sk-text-repr-fallback\"><pre>RandomizedSearchCV(cv=3, estimator=DecisionTreeRegressor(random_state=2023),\n",
       "                   n_iter=16, n_jobs=-1,\n",
       "                   param_distributions={&#x27;criterion&#x27;: [&#x27;mse&#x27;, &#x27;mae&#x27;],\n",
       "                                        &#x27;max_depth&#x27;: range(2, 5)},\n",
       "                   scoring=make_scorer(sMare_func, greater_is_better=False))</pre><b>In a Jupyter environment, please rerun this cell to show the HTML representation or trust the notebook. <br />On GitHub, the HTML representation is unable to render, please try loading this page with nbviewer.org.</b></div><div class=\"sk-container\" hidden><div class=\"sk-item sk-dashed-wrapped\"><div class=\"sk-label-container\"><div class=\"sk-label sk-toggleable\"><input class=\"sk-toggleable__control sk-hidden--visually\" id=\"sk-estimator-id-8\" type=\"checkbox\" ><label for=\"sk-estimator-id-8\" class=\"sk-toggleable__label sk-toggleable__label-arrow\">RandomizedSearchCV</label><div class=\"sk-toggleable__content\"><pre>RandomizedSearchCV(cv=3, estimator=DecisionTreeRegressor(random_state=2023),\n",
       "                   n_iter=16, n_jobs=-1,\n",
       "                   param_distributions={&#x27;criterion&#x27;: [&#x27;mse&#x27;, &#x27;mae&#x27;],\n",
       "                                        &#x27;max_depth&#x27;: range(2, 5)},\n",
       "                   scoring=make_scorer(sMare_func, greater_is_better=False))</pre></div></div></div><div class=\"sk-parallel\"><div class=\"sk-parallel-item\"><div class=\"sk-item\"><div class=\"sk-label-container\"><div class=\"sk-label sk-toggleable\"><input class=\"sk-toggleable__control sk-hidden--visually\" id=\"sk-estimator-id-9\" type=\"checkbox\" ><label for=\"sk-estimator-id-9\" class=\"sk-toggleable__label sk-toggleable__label-arrow\">estimator: DecisionTreeRegressor</label><div class=\"sk-toggleable__content\"><pre>DecisionTreeRegressor(random_state=2023)</pre></div></div></div><div class=\"sk-serial\"><div class=\"sk-item\"><div class=\"sk-estimator sk-toggleable\"><input class=\"sk-toggleable__control sk-hidden--visually\" id=\"sk-estimator-id-10\" type=\"checkbox\" ><label for=\"sk-estimator-id-10\" class=\"sk-toggleable__label sk-toggleable__label-arrow\">DecisionTreeRegressor</label><div class=\"sk-toggleable__content\"><pre>DecisionTreeRegressor(random_state=2023)</pre></div></div></div></div></div></div></div></div></div></div>"
      ],
      "text/plain": [
       "RandomizedSearchCV(cv=3, estimator=DecisionTreeRegressor(random_state=2023),\n",
       "                   n_iter=16, n_jobs=-1,\n",
       "                   param_distributions={'criterion': ['mse', 'mae'],\n",
       "                                        'max_depth': range(2, 5)},\n",
       "                   scoring=make_scorer(sMare_func, greater_is_better=False))"
      ]
     },
     "execution_count": 110,
     "metadata": {},
     "output_type": "execute_result"
    }
   ],
   "source": [
    "final_tree_cv = RandomizedSearchCV(DecisionTreeRegressor(random_state=2023), params,\n",
    "                             scoring=sMAPE_score , cv=3, n_iter=16, n_jobs = -1)\n",
    "final_tree_cv.fit(final_train_features, final_train_target)"
   ]
  },
  {
   "cell_type": "code",
   "execution_count": 111,
   "metadata": {},
   "outputs": [
    {
     "data": {
      "text/plain": [
       "{'max_depth': 2, 'criterion': 'mse'}"
      ]
     },
     "execution_count": 111,
     "metadata": {},
     "output_type": "execute_result"
    }
   ],
   "source": [
    "final_tree_cv.best_params_\n"
   ]
  },
  {
   "cell_type": "code",
   "execution_count": 112,
   "metadata": {},
   "outputs": [
    {
     "data": {
      "text/plain": [
       "-9.579585834020675"
      ]
     },
     "execution_count": 112,
     "metadata": {},
     "output_type": "execute_result"
    }
   ],
   "source": [
    "sMare_tree_final_cv = final_tree_cv.best_score_ \n",
    "sMare_tree_final_cv"
   ]
  },
  {
   "cell_type": "markdown",
   "metadata": {},
   "source": [
    "random forest"
   ]
  },
  {
   "cell_type": "code",
   "execution_count": 113,
   "metadata": {},
   "outputs": [],
   "source": [
    "forest_params = {'n_estimators':range(5,8),\n",
    "                 'max_depth':range(3,6),\n",
    "                 'max_features':range(10, 25),\n",
    "                 'bootstrap':[True, False],\n",
    "                 'criterion':['mse', 'mae']\n",
    "                }\n"
   ]
  },
  {
   "cell_type": "code",
   "execution_count": 114,
   "metadata": {},
   "outputs": [],
   "source": [
    "forest_final_cv = RandomizedSearchCV(RandomForestRegressor(random_state=2023),\n",
    "                               forest_params, cv = 5, n_iter = 16, scoring = sMAPE_score)\n"
   ]
  },
  {
   "cell_type": "code",
   "execution_count": 115,
   "metadata": {},
   "outputs": [
    {
     "data": {
      "text/html": [
       "<style>#sk-container-id-5 {color: black;background-color: white;}#sk-container-id-5 pre{padding: 0;}#sk-container-id-5 div.sk-toggleable {background-color: white;}#sk-container-id-5 label.sk-toggleable__label {cursor: pointer;display: block;width: 100%;margin-bottom: 0;padding: 0.3em;box-sizing: border-box;text-align: center;}#sk-container-id-5 label.sk-toggleable__label-arrow:before {content: \"▸\";float: left;margin-right: 0.25em;color: #696969;}#sk-container-id-5 label.sk-toggleable__label-arrow:hover:before {color: black;}#sk-container-id-5 div.sk-estimator:hover label.sk-toggleable__label-arrow:before {color: black;}#sk-container-id-5 div.sk-toggleable__content {max-height: 0;max-width: 0;overflow: hidden;text-align: left;background-color: #f0f8ff;}#sk-container-id-5 div.sk-toggleable__content pre {margin: 0.2em;color: black;border-radius: 0.25em;background-color: #f0f8ff;}#sk-container-id-5 input.sk-toggleable__control:checked~div.sk-toggleable__content {max-height: 200px;max-width: 100%;overflow: auto;}#sk-container-id-5 input.sk-toggleable__control:checked~label.sk-toggleable__label-arrow:before {content: \"▾\";}#sk-container-id-5 div.sk-estimator input.sk-toggleable__control:checked~label.sk-toggleable__label {background-color: #d4ebff;}#sk-container-id-5 div.sk-label input.sk-toggleable__control:checked~label.sk-toggleable__label {background-color: #d4ebff;}#sk-container-id-5 input.sk-hidden--visually {border: 0;clip: rect(1px 1px 1px 1px);clip: rect(1px, 1px, 1px, 1px);height: 1px;margin: -1px;overflow: hidden;padding: 0;position: absolute;width: 1px;}#sk-container-id-5 div.sk-estimator {font-family: monospace;background-color: #f0f8ff;border: 1px dotted black;border-radius: 0.25em;box-sizing: border-box;margin-bottom: 0.5em;}#sk-container-id-5 div.sk-estimator:hover {background-color: #d4ebff;}#sk-container-id-5 div.sk-parallel-item::after {content: \"\";width: 100%;border-bottom: 1px solid gray;flex-grow: 1;}#sk-container-id-5 div.sk-label:hover label.sk-toggleable__label {background-color: #d4ebff;}#sk-container-id-5 div.sk-serial::before {content: \"\";position: absolute;border-left: 1px solid gray;box-sizing: border-box;top: 0;bottom: 0;left: 50%;z-index: 0;}#sk-container-id-5 div.sk-serial {display: flex;flex-direction: column;align-items: center;background-color: white;padding-right: 0.2em;padding-left: 0.2em;position: relative;}#sk-container-id-5 div.sk-item {position: relative;z-index: 1;}#sk-container-id-5 div.sk-parallel {display: flex;align-items: stretch;justify-content: center;background-color: white;position: relative;}#sk-container-id-5 div.sk-item::before, #sk-container-id-5 div.sk-parallel-item::before {content: \"\";position: absolute;border-left: 1px solid gray;box-sizing: border-box;top: 0;bottom: 0;left: 50%;z-index: -1;}#sk-container-id-5 div.sk-parallel-item {display: flex;flex-direction: column;z-index: 1;position: relative;background-color: white;}#sk-container-id-5 div.sk-parallel-item:first-child::after {align-self: flex-end;width: 50%;}#sk-container-id-5 div.sk-parallel-item:last-child::after {align-self: flex-start;width: 50%;}#sk-container-id-5 div.sk-parallel-item:only-child::after {width: 0;}#sk-container-id-5 div.sk-dashed-wrapped {border: 1px dashed gray;margin: 0 0.4em 0.5em 0.4em;box-sizing: border-box;padding-bottom: 0.4em;background-color: white;}#sk-container-id-5 div.sk-label label {font-family: monospace;font-weight: bold;display: inline-block;line-height: 1.2em;}#sk-container-id-5 div.sk-label-container {text-align: center;}#sk-container-id-5 div.sk-container {/* jupyter's `normalize.less` sets `[hidden] { display: none; }` but bootstrap.min.css set `[hidden] { display: none !important; }` so we also need the `!important` here to be able to override the default hidden behavior on the sphinx rendered scikit-learn.org. See: https://github.com/scikit-learn/scikit-learn/issues/21755 */display: inline-block !important;position: relative;}#sk-container-id-5 div.sk-text-repr-fallback {display: none;}</style><div id=\"sk-container-id-5\" class=\"sk-top-container\"><div class=\"sk-text-repr-fallback\"><pre>RandomizedSearchCV(cv=5, estimator=RandomForestRegressor(random_state=2023),\n",
       "                   n_iter=16,\n",
       "                   param_distributions={&#x27;bootstrap&#x27;: [True, False],\n",
       "                                        &#x27;criterion&#x27;: [&#x27;mse&#x27;, &#x27;mae&#x27;],\n",
       "                                        &#x27;max_depth&#x27;: range(3, 6),\n",
       "                                        &#x27;max_features&#x27;: range(10, 25),\n",
       "                                        &#x27;n_estimators&#x27;: range(5, 8)},\n",
       "                   scoring=make_scorer(sMare_func, greater_is_better=False))</pre><b>In a Jupyter environment, please rerun this cell to show the HTML representation or trust the notebook. <br />On GitHub, the HTML representation is unable to render, please try loading this page with nbviewer.org.</b></div><div class=\"sk-container\" hidden><div class=\"sk-item sk-dashed-wrapped\"><div class=\"sk-label-container\"><div class=\"sk-label sk-toggleable\"><input class=\"sk-toggleable__control sk-hidden--visually\" id=\"sk-estimator-id-11\" type=\"checkbox\" ><label for=\"sk-estimator-id-11\" class=\"sk-toggleable__label sk-toggleable__label-arrow\">RandomizedSearchCV</label><div class=\"sk-toggleable__content\"><pre>RandomizedSearchCV(cv=5, estimator=RandomForestRegressor(random_state=2023),\n",
       "                   n_iter=16,\n",
       "                   param_distributions={&#x27;bootstrap&#x27;: [True, False],\n",
       "                                        &#x27;criterion&#x27;: [&#x27;mse&#x27;, &#x27;mae&#x27;],\n",
       "                                        &#x27;max_depth&#x27;: range(3, 6),\n",
       "                                        &#x27;max_features&#x27;: range(10, 25),\n",
       "                                        &#x27;n_estimators&#x27;: range(5, 8)},\n",
       "                   scoring=make_scorer(sMare_func, greater_is_better=False))</pre></div></div></div><div class=\"sk-parallel\"><div class=\"sk-parallel-item\"><div class=\"sk-item\"><div class=\"sk-label-container\"><div class=\"sk-label sk-toggleable\"><input class=\"sk-toggleable__control sk-hidden--visually\" id=\"sk-estimator-id-12\" type=\"checkbox\" ><label for=\"sk-estimator-id-12\" class=\"sk-toggleable__label sk-toggleable__label-arrow\">estimator: RandomForestRegressor</label><div class=\"sk-toggleable__content\"><pre>RandomForestRegressor(random_state=2023)</pre></div></div></div><div class=\"sk-serial\"><div class=\"sk-item\"><div class=\"sk-estimator sk-toggleable\"><input class=\"sk-toggleable__control sk-hidden--visually\" id=\"sk-estimator-id-13\" type=\"checkbox\" ><label for=\"sk-estimator-id-13\" class=\"sk-toggleable__label sk-toggleable__label-arrow\">RandomForestRegressor</label><div class=\"sk-toggleable__content\"><pre>RandomForestRegressor(random_state=2023)</pre></div></div></div></div></div></div></div></div></div></div>"
      ],
      "text/plain": [
       "RandomizedSearchCV(cv=5, estimator=RandomForestRegressor(random_state=2023),\n",
       "                   n_iter=16,\n",
       "                   param_distributions={'bootstrap': [True, False],\n",
       "                                        'criterion': ['mse', 'mae'],\n",
       "                                        'max_depth': range(3, 6),\n",
       "                                        'max_features': range(10, 25),\n",
       "                                        'n_estimators': range(5, 8)},\n",
       "                   scoring=make_scorer(sMare_func, greater_is_better=False))"
      ]
     },
     "execution_count": 115,
     "metadata": {},
     "output_type": "execute_result"
    }
   ],
   "source": [
    "forest_final_cv.fit(final_train_features, final_train_target)\n"
   ]
  },
  {
   "cell_type": "code",
   "execution_count": 116,
   "metadata": {},
   "outputs": [],
   "source": [
    "Smare_final_forest_cv = forest_final_cv.best_score_\n"
   ]
  },
  {
   "cell_type": "code",
   "execution_count": 117,
   "metadata": {},
   "outputs": [
    {
     "data": {
      "text/plain": [
       "{'n_estimators': 7,\n",
       " 'max_features': 15,\n",
       " 'max_depth': 4,\n",
       " 'criterion': 'mse',\n",
       " 'bootstrap': False}"
      ]
     },
     "execution_count": 117,
     "metadata": {},
     "output_type": "execute_result"
    }
   ],
   "source": [
    "forest_final_cv.best_params_\n"
   ]
  },
  {
   "cell_type": "code",
   "execution_count": 118,
   "metadata": {},
   "outputs": [
    {
     "name": "stdout",
     "output_type": "stream",
     "text": [
      "sMare L2 regularization -8.757030266484133\n",
      "sMare decision tree with parameter selection and cross-validation -9.579585834020675\n",
      "sMare random forest with parameter selection and cross-validation -8.640497695243695\n"
     ]
    }
   ],
   "source": [
    "print('sMare L2 regularization', sMAPE_score_L2_fin)\n",
    "print('sMare decision tree with parameter selection and cross-validation',sMare_tree_final_cv)\n",
    "print('sMare random forest with parameter selection and cross-validation',Smare_final_forest_cv)"
   ]
  },
  {
   "cell_type": "markdown",
   "metadata": {},
   "source": [
    "after flotation, the best model according to the sMARE random forest metric, the final one is a random forest model. let's calculate the final sMARE"
   ]
  },
  {
   "cell_type": "code",
   "execution_count": 141,
   "metadata": {},
   "outputs": [],
   "source": [
    "end_SMARE = final_sMARE(Smare_forest_cv, Smare_final_forest_cv)"
   ]
  },
  {
   "cell_type": "code",
   "execution_count": 142,
   "metadata": {},
   "outputs": [
    {
     "data": {
      "text/plain": [
       "-7.992523269342875"
      ]
     },
     "execution_count": 142,
     "metadata": {},
     "output_type": "execute_result"
    }
   ],
   "source": [
    "end_SMARE"
   ]
  },
  {
   "cell_type": "markdown",
   "metadata": {},
   "source": [
    "Now let's check the final SMARE on the test sample"
   ]
  },
  {
   "cell_type": "code",
   "execution_count": 121,
   "metadata": {},
   "outputs": [],
   "source": [
    "list_data = df_test['date']\n",
    "df_target_end = df_all.loc[df_all['date'].isin(list_data)]"
   ]
  },
  {
   "cell_type": "code",
   "execution_count": 122,
   "metadata": {},
   "outputs": [],
   "source": [
    "test_final = df_test.drop('date', axis=1)"
   ]
  },
  {
   "cell_type": "code",
   "execution_count": 123,
   "metadata": {},
   "outputs": [],
   "source": [
    "x = test_final.columns\n",
    "test_final[x] = mmscaler.transform(test_final[x])"
   ]
  },
  {
   "cell_type": "code",
   "execution_count": 124,
   "metadata": {},
   "outputs": [],
   "source": [
    "#fill in the blanks\n",
    "x = test_final\n",
    "imputer = KNNImputer(n_neighbors=5)\n",
    "x1 = imputer.fit_transform(x)\n",
    "test_final = pd.DataFrame(x1, columns=test_final.columns)"
   ]
  },
  {
   "cell_type": "code",
   "execution_count": 125,
   "metadata": {},
   "outputs": [],
   "source": [
    "#select the necessary features for flotation from the test sample\n",
    "df_test_rougher= test_final.loc[:,list_for_rougher]"
   ]
  },
  {
   "cell_type": "code",
   "execution_count": 126,
   "metadata": {},
   "outputs": [],
   "source": [
    "target_testDF_rougher = df_target_end['rougher.output.recovery']"
   ]
  },
  {
   "cell_type": "code",
   "execution_count": 127,
   "metadata": {},
   "outputs": [],
   "source": [
    "target_testDF_final = df_target_end['final.output.recovery']"
   ]
  },
  {
   "cell_type": "code",
   "execution_count": 143,
   "metadata": {},
   "outputs": [],
   "source": [
    "test_rougher_predict = rs_forest.predict(df_test_rougher)\n"
   ]
  },
  {
   "cell_type": "code",
   "execution_count": 144,
   "metadata": {},
   "outputs": [],
   "source": [
    "test_rou_smare =  sMare_func(target_testDF_rougher, test_rougher_predict)"
   ]
  },
  {
   "cell_type": "code",
   "execution_count": 145,
   "metadata": {},
   "outputs": [
    {
     "data": {
      "text/plain": [
       "4.23516531917609"
      ]
     },
     "execution_count": 145,
     "metadata": {},
     "output_type": "execute_result"
    }
   ],
   "source": [
    "test_rou_smare"
   ]
  },
  {
   "cell_type": "code",
   "execution_count": 146,
   "metadata": {},
   "outputs": [],
   "source": [
    "test_final_predict = forest_final_cv.predict(test_final)"
   ]
  },
  {
   "cell_type": "code",
   "execution_count": 147,
   "metadata": {},
   "outputs": [],
   "source": [
    "test_final_smare =  sMare_func(target_testDF_final, test_final_predict)"
   ]
  },
  {
   "cell_type": "code",
   "execution_count": 148,
   "metadata": {},
   "outputs": [
    {
     "data": {
      "text/plain": [
       "7.6637425058389645"
      ]
     },
     "execution_count": 148,
     "metadata": {},
     "output_type": "execute_result"
    }
   ],
   "source": [
    "test_final_smare"
   ]
  },
  {
   "cell_type": "code",
   "execution_count": 149,
   "metadata": {},
   "outputs": [],
   "source": [
    "end_test_SMARE = final_sMARE(test_rou_smare,test_final_smare)"
   ]
  },
  {
   "cell_type": "code",
   "execution_count": 150,
   "metadata": {},
   "outputs": [
    {
     "data": {
      "text/plain": [
       "6.806598209173246"
      ]
     },
     "execution_count": 150,
     "metadata": {},
     "output_type": "execute_result"
    }
   ],
   "source": [
    "end_test_SMARE"
   ]
  },
  {
   "cell_type": "markdown",
   "metadata": {},
   "source": [
    "We obtained 2 models that predict the recovery coefficient after the flotation stage and after completion of the entire purification process. The metric that evaluates the quality of the obtained forecast - SMARE is equal to 4.235 and 7.663 (total - 6.806). Since the customer did not provide the desired quality values, it is difficult to assess how satisfactory this metric is for the business. However, we can do a test on a random model to evaluate the quality of our models' predictions"
   ]
  },
  {
   "cell_type": "markdown",
   "metadata": {},
   "source": [
    "Let's check what result the constant model will produce"
   ]
  },
  {
   "cell_type": "code",
   "execution_count": 137,
   "metadata": {},
   "outputs": [],
   "source": [
    "from sklearn.dummy import  DummyRegressor \n"
   ]
  },
  {
   "cell_type": "code",
   "execution_count": 138,
   "metadata": {},
   "outputs": [
    {
     "data": {
      "text/plain": [
       "6.101944863418984"
      ]
     },
     "execution_count": 138,
     "metadata": {},
     "output_type": "execute_result"
    }
   ],
   "source": [
    "dummy_model1 =  DummyRegressor (strategy='mean')\n",
    "dummy_model1.fit(rougher_train_features, rougher_train_target)\n",
    "sMARE1 = sMare_func(dummy_model1.predict(df_test_rougher), target_testDF_rougher)\n",
    "sMARE1"
   ]
  },
  {
   "cell_type": "code",
   "execution_count": 139,
   "metadata": {},
   "outputs": [
    {
     "data": {
      "text/plain": [
       "9.256728336204745"
      ]
     },
     "execution_count": 139,
     "metadata": {},
     "output_type": "execute_result"
    }
   ],
   "source": [
    "dummy_model2 = DummyRegressor (strategy='mean')\n",
    "dummy_model2.fit(final_train_features, final_train_target)\n",
    "sMARE2 = sMare_func(dummy_model2.predict(test_final), target_testDF_final)\n",
    "sMARE2"
   ]
  },
  {
   "cell_type": "code",
   "execution_count": 140,
   "metadata": {},
   "outputs": [
    {
     "data": {
      "text/plain": [
       "8.468032468008305"
      ]
     },
     "execution_count": 140,
     "metadata": {},
     "output_type": "execute_result"
    }
   ],
   "source": [
    "dummy_all_sMARE = final_sMARE(sMARE1, sMARE2)\n",
    "dummy_all_sMARE"
   ]
  },
  {
   "cell_type": "markdown",
   "metadata": {},
   "source": [
    "The random model showed a higher metric value, which means our models make more accurate predictions."
   ]
  },
  {
   "cell_type": "markdown",
   "metadata": {},
   "source": [
    "### Conclusion."
   ]
  },
  {
   "cell_type": "markdown",
   "metadata": {},
   "source": [
    "To develop two models predicting gold concentration coefficients after the flotation stage and at the end of the technological process, 3  datasets were provided (training, test and initial). The original dataset contained training and test samples with all signs and targets. The training dataset also contained all the signs and targets, but we should use it in model learning. The test dataset did not contain target features, and also lacked some features that were calculated. Those. arose during the ore purification process.\n",
    "\n",
    "\n",
    "From the original dataset we obtained target values for the test sample.\n",
    "\n",
    "Data contained gaps that needed to be processed. Gaps are handled using the nearest neighbor method.\n",
    "\n",
    "The adequacy of the data was also assessed during the data analysis. The data shows that during the refining process, the concentration of gold increases, the concentration of silver decreases, and the concentration of lead also increases. The total concentration of all substances during the purification process also increases, and the variability of concentrations decreases. All identified dependencies coincide with the expected results, which tells us about the quality of the data from which we can build a machine learning model\n",
    "\n",
    "Also, during the data analysis, values of zero concentrations of all elements in the ore (gold, silver and lead) were discovered. Most likely, these values were obtained during the process of technological maintenance of cleaning devices or another error. Since a situation where there is not a single gram of these elements in the initial ore is hardly possible in real life, data with zero concentrations were removed from the sample.\n",
    "\n",
    "The metric measuring the quality of the obtained forecast - SMARE, is equal to 4.235 for the flotation stage and 7.663 for the total stage (total 6.806). Since the customer did not provide the required quality indicators, it is difficult to assess how this indicator will satisfy the business. However, we can run a test on a random model to evaluate the quality of our model's predictions.\n",
    "\n",
    "The random model showed a higher value of indicators (6.101 for the flotation stage, 9.256 for the final stage, 8.468 total). This means that our models give more accurate forecasts and can be presented to the customer"
   ]
  }
 ],
 "metadata": {
  "ExecuteTimeLog": [
   {
    "duration": 49,
    "start_time": "2023-03-02T10:33:49.154Z"
   },
   {
    "duration": 463,
    "start_time": "2023-03-02T10:33:55.842Z"
   },
   {
    "duration": 94,
    "start_time": "2023-03-02T10:33:56.447Z"
   },
   {
    "duration": 11,
    "start_time": "2023-03-02T10:35:07.195Z"
   },
   {
    "duration": 1798,
    "start_time": "2023-03-02T10:35:51.698Z"
   },
   {
    "duration": 1077,
    "start_time": "2023-03-02T10:37:12.253Z"
   },
   {
    "duration": 446,
    "start_time": "2023-03-02T10:38:51.167Z"
   },
   {
    "duration": 784,
    "start_time": "2023-03-02T10:38:51.615Z"
   },
   {
    "duration": 46,
    "start_time": "2023-03-02T10:38:52.401Z"
   },
   {
    "duration": 27,
    "start_time": "2023-03-02T10:38:52.449Z"
   },
   {
    "duration": 31,
    "start_time": "2023-03-02T10:38:52.478Z"
   },
   {
    "duration": 86,
    "start_time": "2023-03-02T10:38:52.511Z"
   },
   {
    "duration": 19,
    "start_time": "2023-03-02T10:38:52.599Z"
   },
   {
    "duration": 45,
    "start_time": "2023-03-02T10:38:52.620Z"
   },
   {
    "duration": 254,
    "start_time": "2023-03-02T12:00:11.914Z"
   },
   {
    "duration": 154,
    "start_time": "2023-03-02T12:00:24.609Z"
   },
   {
    "duration": 290,
    "start_time": "2023-03-02T12:00:26.041Z"
   },
   {
    "duration": 13222,
    "start_time": "2023-03-02T12:00:28.818Z"
   },
   {
    "duration": 3,
    "start_time": "2023-03-02T12:01:44.875Z"
   },
   {
    "duration": 13268,
    "start_time": "2023-03-02T12:01:51.135Z"
   },
   {
    "duration": 11,
    "start_time": "2023-03-02T12:14:13.237Z"
   },
   {
    "duration": 4,
    "start_time": "2023-03-02T12:15:53.466Z"
   },
   {
    "duration": 7,
    "start_time": "2023-03-02T12:15:58.671Z"
   },
   {
    "duration": 3,
    "start_time": "2023-03-02T12:16:34.845Z"
   },
   {
    "duration": 7,
    "start_time": "2023-03-02T12:21:53.269Z"
   },
   {
    "duration": 8,
    "start_time": "2023-03-02T12:24:56.663Z"
   },
   {
    "duration": 3,
    "start_time": "2023-03-02T12:27:40.075Z"
   },
   {
    "duration": 3,
    "start_time": "2023-03-02T12:27:45.150Z"
   },
   {
    "duration": 5,
    "start_time": "2023-03-02T12:27:51.272Z"
   },
   {
    "duration": 7,
    "start_time": "2023-03-02T12:28:13.050Z"
   },
   {
    "duration": 12,
    "start_time": "2023-03-02T12:28:20.557Z"
   },
   {
    "duration": 9,
    "start_time": "2023-03-02T12:28:24.949Z"
   },
   {
    "duration": 4,
    "start_time": "2023-03-02T12:28:47.753Z"
   },
   {
    "duration": 5,
    "start_time": "2023-03-02T12:29:47.373Z"
   },
   {
    "duration": 3,
    "start_time": "2023-03-03T07:25:37.439Z"
   },
   {
    "duration": 668,
    "start_time": "2023-03-03T07:25:37.445Z"
   },
   {
    "duration": 38,
    "start_time": "2023-03-03T07:25:38.115Z"
   },
   {
    "duration": 37,
    "start_time": "2023-03-03T07:25:38.155Z"
   },
   {
    "duration": 29,
    "start_time": "2023-03-03T07:25:38.194Z"
   },
   {
    "duration": 19,
    "start_time": "2023-03-03T07:25:38.224Z"
   },
   {
    "duration": 26,
    "start_time": "2023-03-03T07:25:38.245Z"
   },
   {
    "duration": 27,
    "start_time": "2023-03-03T07:25:38.274Z"
   },
   {
    "duration": 274,
    "start_time": "2023-03-03T07:25:38.321Z"
   },
   {
    "duration": 138,
    "start_time": "2023-03-03T07:25:38.597Z"
   },
   {
    "duration": 272,
    "start_time": "2023-03-03T07:25:38.738Z"
   },
   {
    "duration": 3,
    "start_time": "2023-03-03T07:25:39.011Z"
   },
   {
    "duration": 15,
    "start_time": "2023-03-03T07:25:39.021Z"
   },
   {
    "duration": 20,
    "start_time": "2023-03-03T07:25:39.038Z"
   },
   {
    "duration": 22,
    "start_time": "2023-03-03T07:25:39.059Z"
   },
   {
    "duration": 697,
    "start_time": "2023-03-03T07:25:43.097Z"
   },
   {
    "duration": 752,
    "start_time": "2023-03-03T07:26:39.090Z"
   },
   {
    "duration": 7,
    "start_time": "2023-03-03T07:26:59.784Z"
   },
   {
    "duration": 8,
    "start_time": "2023-03-03T07:27:09.320Z"
   },
   {
    "duration": 6,
    "start_time": "2023-03-03T07:27:30.938Z"
   },
   {
    "duration": 7,
    "start_time": "2023-03-03T08:19:13.562Z"
   },
   {
    "duration": 222,
    "start_time": "2023-03-03T08:20:43.990Z"
   },
   {
    "duration": 6,
    "start_time": "2023-03-03T08:23:40.150Z"
   },
   {
    "duration": 7,
    "start_time": "2023-03-03T08:24:47.536Z"
   },
   {
    "duration": 7,
    "start_time": "2023-03-03T08:24:47.801Z"
   },
   {
    "duration": 735,
    "start_time": "2023-03-03T08:27:08.537Z"
   },
   {
    "duration": 8,
    "start_time": "2023-03-03T08:27:09.798Z"
   },
   {
    "duration": 982,
    "start_time": "2023-03-03T08:27:20.508Z"
   },
   {
    "duration": 5,
    "start_time": "2023-03-03T08:27:28.338Z"
   },
   {
    "duration": 6,
    "start_time": "2023-03-03T08:27:32.526Z"
   },
   {
    "duration": 6,
    "start_time": "2023-03-03T08:32:29.019Z"
   },
   {
    "duration": 7,
    "start_time": "2023-03-03T08:32:34.726Z"
   },
   {
    "duration": 7,
    "start_time": "2023-03-03T08:37:21.175Z"
   },
   {
    "duration": 10,
    "start_time": "2023-03-03T08:37:26.643Z"
   },
   {
    "duration": 1458,
    "start_time": "2023-03-03T08:49:54.500Z"
   },
   {
    "duration": 5,
    "start_time": "2023-03-03T08:51:11.170Z"
   },
   {
    "duration": 6,
    "start_time": "2023-03-03T08:51:21.800Z"
   },
   {
    "duration": 85,
    "start_time": "2023-03-03T08:52:22.010Z"
   },
   {
    "duration": 5,
    "start_time": "2023-03-03T08:56:57.866Z"
   },
   {
    "duration": 11,
    "start_time": "2023-03-03T08:57:27.618Z"
   },
   {
    "duration": 10,
    "start_time": "2023-03-03T08:57:57.737Z"
   },
   {
    "duration": 24,
    "start_time": "2023-03-03T08:58:08.780Z"
   },
   {
    "duration": 5,
    "start_time": "2023-03-03T09:03:15.229Z"
   },
   {
    "duration": 7,
    "start_time": "2023-03-03T09:03:17.053Z"
   },
   {
    "duration": 6,
    "start_time": "2023-03-03T09:04:20.878Z"
   },
   {
    "duration": 8,
    "start_time": "2023-03-03T09:04:22.064Z"
   },
   {
    "duration": 7,
    "start_time": "2023-03-03T09:05:00.377Z"
   },
   {
    "duration": 6,
    "start_time": "2023-03-03T09:15:50.896Z"
   },
   {
    "duration": 16,
    "start_time": "2023-03-03T09:16:20.598Z"
   },
   {
    "duration": 50,
    "start_time": "2023-03-03T09:17:06.077Z"
   },
   {
    "duration": 10,
    "start_time": "2023-03-03T09:17:15.935Z"
   },
   {
    "duration": 17,
    "start_time": "2023-03-03T09:21:21.836Z"
   },
   {
    "duration": 11,
    "start_time": "2023-03-03T09:21:29.899Z"
   },
   {
    "duration": 1189,
    "start_time": "2023-03-03T09:21:41.277Z"
   },
   {
    "duration": 653,
    "start_time": "2023-03-03T09:21:42.468Z"
   },
   {
    "duration": 26,
    "start_time": "2023-03-03T09:21:43.123Z"
   },
   {
    "duration": 23,
    "start_time": "2023-03-03T09:21:43.151Z"
   },
   {
    "duration": 21,
    "start_time": "2023-03-03T09:21:43.175Z"
   },
   {
    "duration": 39,
    "start_time": "2023-03-03T09:21:43.198Z"
   },
   {
    "duration": 17,
    "start_time": "2023-03-03T09:21:43.240Z"
   },
   {
    "duration": 18,
    "start_time": "2023-03-03T09:21:43.259Z"
   },
   {
    "duration": 263,
    "start_time": "2023-03-03T09:21:43.278Z"
   },
   {
    "duration": 144,
    "start_time": "2023-03-03T09:21:43.545Z"
   },
   {
    "duration": 262,
    "start_time": "2023-03-03T09:21:43.691Z"
   },
   {
    "duration": 3,
    "start_time": "2023-03-03T09:21:43.955Z"
   },
   {
    "duration": 4,
    "start_time": "2023-03-03T09:21:43.960Z"
   },
   {
    "duration": 5,
    "start_time": "2023-03-03T09:21:43.966Z"
   },
   {
    "duration": 6,
    "start_time": "2023-03-03T09:21:43.973Z"
   },
   {
    "duration": 12,
    "start_time": "2023-03-03T09:21:43.980Z"
   },
   {
    "duration": 32,
    "start_time": "2023-03-03T09:21:43.993Z"
   },
   {
    "duration": 883,
    "start_time": "2023-03-03T09:21:44.027Z"
   },
   {
    "duration": 0,
    "start_time": "2023-03-03T09:21:44.912Z"
   },
   {
    "duration": 0,
    "start_time": "2023-03-03T09:21:44.914Z"
   },
   {
    "duration": 0,
    "start_time": "2023-03-03T09:21:44.915Z"
   },
   {
    "duration": 0,
    "start_time": "2023-03-03T09:21:44.916Z"
   },
   {
    "duration": 0,
    "start_time": "2023-03-03T09:21:44.918Z"
   },
   {
    "duration": 6,
    "start_time": "2023-03-03T09:23:42.035Z"
   },
   {
    "duration": 7,
    "start_time": "2023-03-03T09:23:44.979Z"
   },
   {
    "duration": 729,
    "start_time": "2023-03-03T09:23:51.826Z"
   },
   {
    "duration": 5,
    "start_time": "2023-03-03T09:23:59.733Z"
   },
   {
    "duration": 5,
    "start_time": "2023-03-03T09:24:02.125Z"
   },
   {
    "duration": 10,
    "start_time": "2023-03-03T09:24:04.279Z"
   },
   {
    "duration": 15,
    "start_time": "2023-03-03T09:24:36.281Z"
   },
   {
    "duration": 16,
    "start_time": "2023-03-03T09:24:37.601Z"
   },
   {
    "duration": 21,
    "start_time": "2023-03-03T09:25:13.624Z"
   },
   {
    "duration": 6,
    "start_time": "2023-03-03T09:25:34.174Z"
   },
   {
    "duration": 1294,
    "start_time": "2023-03-03T09:26:00.623Z"
   },
   {
    "duration": 700,
    "start_time": "2023-03-03T09:26:01.919Z"
   },
   {
    "duration": 30,
    "start_time": "2023-03-03T09:26:02.621Z"
   },
   {
    "duration": 22,
    "start_time": "2023-03-03T09:26:02.653Z"
   },
   {
    "duration": 46,
    "start_time": "2023-03-03T09:26:02.679Z"
   },
   {
    "duration": 23,
    "start_time": "2023-03-03T09:26:02.727Z"
   },
   {
    "duration": 16,
    "start_time": "2023-03-03T09:26:02.752Z"
   },
   {
    "duration": 52,
    "start_time": "2023-03-03T09:26:02.770Z"
   },
   {
    "duration": 251,
    "start_time": "2023-03-03T09:26:02.824Z"
   },
   {
    "duration": 138,
    "start_time": "2023-03-03T09:26:03.077Z"
   },
   {
    "duration": 283,
    "start_time": "2023-03-03T09:26:03.217Z"
   },
   {
    "duration": 3,
    "start_time": "2023-03-03T09:26:03.502Z"
   },
   {
    "duration": 14,
    "start_time": "2023-03-03T09:26:03.507Z"
   },
   {
    "duration": 10,
    "start_time": "2023-03-03T09:26:03.525Z"
   },
   {
    "duration": 13,
    "start_time": "2023-03-03T09:26:03.536Z"
   },
   {
    "duration": 9,
    "start_time": "2023-03-03T09:26:03.551Z"
   },
   {
    "duration": 6,
    "start_time": "2023-03-03T09:26:03.562Z"
   },
   {
    "duration": 12,
    "start_time": "2023-03-03T09:26:03.569Z"
   },
   {
    "duration": 8,
    "start_time": "2023-03-03T09:26:03.583Z"
   },
   {
    "duration": 32,
    "start_time": "2023-03-03T09:26:03.593Z"
   },
   {
    "duration": 8,
    "start_time": "2023-03-03T09:26:03.627Z"
   },
   {
    "duration": 120,
    "start_time": "2023-03-03T09:26:03.637Z"
   },
   {
    "duration": 0,
    "start_time": "2023-03-03T09:26:03.759Z"
   },
   {
    "duration": 14,
    "start_time": "2023-03-03T09:26:17.045Z"
   },
   {
    "duration": 14,
    "start_time": "2023-03-03T09:26:18.709Z"
   },
   {
    "duration": 6,
    "start_time": "2023-03-03T09:26:25.019Z"
   },
   {
    "duration": 11,
    "start_time": "2023-03-03T09:48:08.225Z"
   },
   {
    "duration": 1260,
    "start_time": "2023-03-03T09:48:22.418Z"
   },
   {
    "duration": 654,
    "start_time": "2023-03-03T09:48:23.680Z"
   },
   {
    "duration": 24,
    "start_time": "2023-03-03T09:48:24.336Z"
   },
   {
    "duration": 21,
    "start_time": "2023-03-03T09:48:24.362Z"
   },
   {
    "duration": 37,
    "start_time": "2023-03-03T09:48:24.386Z"
   },
   {
    "duration": 16,
    "start_time": "2023-03-03T09:48:24.425Z"
   },
   {
    "duration": 11,
    "start_time": "2023-03-03T09:48:24.443Z"
   },
   {
    "duration": 16,
    "start_time": "2023-03-03T09:48:24.456Z"
   },
   {
    "duration": 251,
    "start_time": "2023-03-03T09:48:24.474Z"
   },
   {
    "duration": 140,
    "start_time": "2023-03-03T09:48:24.726Z"
   },
   {
    "duration": 253,
    "start_time": "2023-03-03T09:48:24.869Z"
   },
   {
    "duration": 3,
    "start_time": "2023-03-03T09:48:25.124Z"
   },
   {
    "duration": 4,
    "start_time": "2023-03-03T09:48:25.129Z"
   },
   {
    "duration": 5,
    "start_time": "2023-03-03T09:48:25.135Z"
   },
   {
    "duration": 5,
    "start_time": "2023-03-03T09:48:25.141Z"
   },
   {
    "duration": 8,
    "start_time": "2023-03-03T09:48:25.147Z"
   },
   {
    "duration": 5,
    "start_time": "2023-03-03T09:48:25.156Z"
   },
   {
    "duration": 9,
    "start_time": "2023-03-03T09:48:25.162Z"
   },
   {
    "duration": 7,
    "start_time": "2023-03-03T09:48:25.172Z"
   },
   {
    "duration": 42,
    "start_time": "2023-03-03T09:48:25.181Z"
   },
   {
    "duration": 5,
    "start_time": "2023-03-03T09:48:25.225Z"
   },
   {
    "duration": 15,
    "start_time": "2023-03-03T09:48:25.232Z"
   },
   {
    "duration": 14,
    "start_time": "2023-03-03T09:48:25.248Z"
   },
   {
    "duration": 5,
    "start_time": "2023-03-03T09:48:25.264Z"
   },
   {
    "duration": 8,
    "start_time": "2023-03-03T09:48:25.270Z"
   },
   {
    "duration": 4,
    "start_time": "2023-03-03T09:48:33.354Z"
   },
   {
    "duration": 3,
    "start_time": "2023-03-03T09:48:44.426Z"
   },
   {
    "duration": 10,
    "start_time": "2023-03-03T09:53:20.323Z"
   },
   {
    "duration": 4,
    "start_time": "2023-03-03T09:53:25.274Z"
   },
   {
    "duration": 102,
    "start_time": "2023-03-03T09:53:51.037Z"
   },
   {
    "duration": 5,
    "start_time": "2023-03-03T09:57:00.788Z"
   },
   {
    "duration": 12,
    "start_time": "2023-03-03T09:57:10.763Z"
   },
   {
    "duration": 41,
    "start_time": "2023-03-03T10:01:01.439Z"
   },
   {
    "duration": 4,
    "start_time": "2023-03-03T10:01:10.333Z"
   },
   {
    "duration": 4,
    "start_time": "2023-03-03T10:01:40.574Z"
   },
   {
    "duration": 5,
    "start_time": "2023-03-03T10:01:52.086Z"
   },
   {
    "duration": 14,
    "start_time": "2023-03-03T10:02:03.896Z"
   },
   {
    "duration": 69,
    "start_time": "2023-03-04T08:23:12.569Z"
   },
   {
    "duration": 3,
    "start_time": "2023-03-04T08:24:12.103Z"
   },
   {
    "duration": 666,
    "start_time": "2023-03-04T08:24:12.107Z"
   },
   {
    "duration": 20,
    "start_time": "2023-03-04T08:24:12.774Z"
   },
   {
    "duration": 30,
    "start_time": "2023-03-04T08:24:12.795Z"
   },
   {
    "duration": 21,
    "start_time": "2023-03-04T08:24:12.827Z"
   },
   {
    "duration": 22,
    "start_time": "2023-03-04T08:24:12.850Z"
   },
   {
    "duration": 13,
    "start_time": "2023-03-04T08:24:12.874Z"
   },
   {
    "duration": 40,
    "start_time": "2023-03-04T08:24:12.889Z"
   },
   {
    "duration": 232,
    "start_time": "2023-03-04T08:24:12.931Z"
   },
   {
    "duration": 127,
    "start_time": "2023-03-04T08:24:13.165Z"
   },
   {
    "duration": 245,
    "start_time": "2023-03-04T08:24:13.294Z"
   },
   {
    "duration": 3,
    "start_time": "2023-03-04T08:24:13.541Z"
   },
   {
    "duration": 5,
    "start_time": "2023-03-04T08:24:13.545Z"
   },
   {
    "duration": 4,
    "start_time": "2023-03-04T08:24:13.553Z"
   },
   {
    "duration": 13,
    "start_time": "2023-03-04T08:24:13.558Z"
   },
   {
    "duration": 7,
    "start_time": "2023-03-04T08:24:13.572Z"
   },
   {
    "duration": 5,
    "start_time": "2023-03-04T08:24:13.580Z"
   },
   {
    "duration": 6,
    "start_time": "2023-03-04T08:24:13.587Z"
   },
   {
    "duration": 6,
    "start_time": "2023-03-04T08:24:13.622Z"
   },
   {
    "duration": 8,
    "start_time": "2023-03-04T08:24:13.629Z"
   },
   {
    "duration": 7,
    "start_time": "2023-03-04T08:24:13.638Z"
   },
   {
    "duration": 10,
    "start_time": "2023-03-04T08:24:13.647Z"
   },
   {
    "duration": 14,
    "start_time": "2023-03-04T08:24:13.658Z"
   },
   {
    "duration": 5,
    "start_time": "2023-03-04T08:24:13.673Z"
   },
   {
    "duration": 12,
    "start_time": "2023-03-04T08:24:13.680Z"
   },
   {
    "duration": 19,
    "start_time": "2023-03-04T08:24:13.693Z"
   },
   {
    "duration": 27,
    "start_time": "2023-03-04T08:24:13.722Z"
   },
   {
    "duration": 14,
    "start_time": "2023-03-04T08:24:13.751Z"
   },
   {
    "duration": 8,
    "start_time": "2023-03-04T08:24:13.767Z"
   },
   {
    "duration": 20,
    "start_time": "2023-03-04T08:24:13.777Z"
   },
   {
    "duration": 19,
    "start_time": "2023-03-04T08:24:13.799Z"
   },
   {
    "duration": 5086,
    "start_time": "2023-03-04T08:24:21.668Z"
   },
   {
    "duration": 5354,
    "start_time": "2023-03-04T08:24:56.394Z"
   },
   {
    "duration": 7,
    "start_time": "2023-03-04T08:28:37.633Z"
   },
   {
    "duration": 13,
    "start_time": "2023-03-04T08:29:20.671Z"
   },
   {
    "duration": 32,
    "start_time": "2023-03-04T08:29:44.280Z"
   },
   {
    "duration": 37,
    "start_time": "2023-03-04T08:31:29.567Z"
   },
   {
    "duration": 107,
    "start_time": "2023-03-04T08:35:23.814Z"
   },
   {
    "duration": 28,
    "start_time": "2023-03-04T08:35:41.195Z"
   },
   {
    "duration": 1657,
    "start_time": "2023-03-04T21:46:21.046Z"
   },
   {
    "duration": 4162,
    "start_time": "2023-03-04T21:46:22.705Z"
   },
   {
    "duration": 29,
    "start_time": "2023-03-04T21:46:26.868Z"
   },
   {
    "duration": 21,
    "start_time": "2023-03-04T21:46:26.899Z"
   },
   {
    "duration": 21,
    "start_time": "2023-03-04T21:46:26.922Z"
   },
   {
    "duration": 27,
    "start_time": "2023-03-04T21:46:26.960Z"
   },
   {
    "duration": 16,
    "start_time": "2023-03-04T21:46:26.988Z"
   },
   {
    "duration": 17,
    "start_time": "2023-03-04T21:46:27.006Z"
   },
   {
    "duration": 276,
    "start_time": "2023-03-04T21:46:27.025Z"
   },
   {
    "duration": 164,
    "start_time": "2023-03-04T21:46:27.303Z"
   },
   {
    "duration": 274,
    "start_time": "2023-03-04T21:46:27.468Z"
   },
   {
    "duration": 4,
    "start_time": "2023-03-04T21:46:27.753Z"
   },
   {
    "duration": 31,
    "start_time": "2023-03-04T21:46:27.759Z"
   },
   {
    "duration": 8,
    "start_time": "2023-03-04T21:46:27.792Z"
   },
   {
    "duration": 11,
    "start_time": "2023-03-04T21:46:27.802Z"
   },
   {
    "duration": 11,
    "start_time": "2023-03-04T21:46:27.815Z"
   },
   {
    "duration": 14,
    "start_time": "2023-03-04T21:46:27.828Z"
   },
   {
    "duration": 52,
    "start_time": "2023-03-04T21:46:27.845Z"
   },
   {
    "duration": 11,
    "start_time": "2023-03-04T21:46:27.899Z"
   },
   {
    "duration": 8,
    "start_time": "2023-03-04T21:46:27.912Z"
   },
   {
    "duration": 8,
    "start_time": "2023-03-04T21:46:27.922Z"
   },
   {
    "duration": 26,
    "start_time": "2023-03-04T21:46:27.932Z"
   },
   {
    "duration": 34,
    "start_time": "2023-03-04T21:46:27.960Z"
   },
   {
    "duration": 6,
    "start_time": "2023-03-04T21:46:27.996Z"
   },
   {
    "duration": 7,
    "start_time": "2023-03-04T21:46:28.003Z"
   },
   {
    "duration": 5,
    "start_time": "2023-03-04T21:46:28.012Z"
   },
   {
    "duration": 9,
    "start_time": "2023-03-04T21:46:28.019Z"
   },
   {
    "duration": 34,
    "start_time": "2023-03-04T21:46:28.032Z"
   },
   {
    "duration": 25,
    "start_time": "2023-03-04T21:46:28.068Z"
   },
   {
    "duration": 10,
    "start_time": "2023-03-04T21:46:28.094Z"
   },
   {
    "duration": 17,
    "start_time": "2023-03-04T21:46:28.106Z"
   },
   {
    "duration": 10,
    "start_time": "2023-03-04T21:46:28.125Z"
   },
   {
    "duration": 41,
    "start_time": "2023-03-04T21:46:28.137Z"
   },
   {
    "duration": 31,
    "start_time": "2023-03-04T21:46:28.180Z"
   },
   {
    "duration": 32,
    "start_time": "2023-03-04T21:46:40.711Z"
   },
   {
    "duration": 23,
    "start_time": "2023-03-04T21:48:20.593Z"
   },
   {
    "duration": 30,
    "start_time": "2023-03-04T21:49:12.599Z"
   },
   {
    "duration": 1534,
    "start_time": "2023-03-05T10:41:24.592Z"
   },
   {
    "duration": 2879,
    "start_time": "2023-03-05T10:41:26.128Z"
   },
   {
    "duration": 25,
    "start_time": "2023-03-05T10:41:29.009Z"
   },
   {
    "duration": 20,
    "start_time": "2023-03-05T10:41:29.036Z"
   },
   {
    "duration": 21,
    "start_time": "2023-03-05T10:41:29.058Z"
   },
   {
    "duration": 36,
    "start_time": "2023-03-05T10:41:29.080Z"
   },
   {
    "duration": 14,
    "start_time": "2023-03-05T10:41:29.118Z"
   },
   {
    "duration": 17,
    "start_time": "2023-03-05T10:41:29.133Z"
   },
   {
    "duration": 242,
    "start_time": "2023-03-05T10:41:29.152Z"
   },
   {
    "duration": 122,
    "start_time": "2023-03-05T10:41:29.396Z"
   },
   {
    "duration": 236,
    "start_time": "2023-03-05T10:41:29.520Z"
   },
   {
    "duration": 3,
    "start_time": "2023-03-05T10:41:29.758Z"
   },
   {
    "duration": 27,
    "start_time": "2023-03-05T10:41:29.762Z"
   },
   {
    "duration": 16,
    "start_time": "2023-03-05T10:41:29.792Z"
   },
   {
    "duration": 9,
    "start_time": "2023-03-05T10:41:29.809Z"
   },
   {
    "duration": 10,
    "start_time": "2023-03-05T10:41:29.820Z"
   },
   {
    "duration": 4,
    "start_time": "2023-03-05T10:41:29.832Z"
   },
   {
    "duration": 9,
    "start_time": "2023-03-05T10:41:29.838Z"
   },
   {
    "duration": 8,
    "start_time": "2023-03-05T10:41:29.848Z"
   },
   {
    "duration": 6,
    "start_time": "2023-03-05T10:41:29.858Z"
   },
   {
    "duration": 6,
    "start_time": "2023-03-05T10:41:29.865Z"
   },
   {
    "duration": 36,
    "start_time": "2023-03-05T10:41:29.872Z"
   },
   {
    "duration": 18,
    "start_time": "2023-03-05T10:41:29.910Z"
   },
   {
    "duration": 6,
    "start_time": "2023-03-05T10:41:29.930Z"
   },
   {
    "duration": 5,
    "start_time": "2023-03-05T10:41:29.938Z"
   },
   {
    "duration": 6,
    "start_time": "2023-03-05T10:41:29.944Z"
   },
   {
    "duration": 7,
    "start_time": "2023-03-05T10:41:29.951Z"
   },
   {
    "duration": 11,
    "start_time": "2023-03-05T10:41:29.960Z"
   },
   {
    "duration": 3,
    "start_time": "2023-03-05T10:41:29.973Z"
   },
   {
    "duration": 14,
    "start_time": "2023-03-05T10:41:30.003Z"
   },
   {
    "duration": 18,
    "start_time": "2023-03-05T10:41:30.018Z"
   },
   {
    "duration": 7,
    "start_time": "2023-03-05T10:41:30.038Z"
   },
   {
    "duration": 22,
    "start_time": "2023-03-05T10:41:30.047Z"
   },
   {
    "duration": 44,
    "start_time": "2023-03-05T10:41:30.071Z"
   },
   {
    "duration": 20,
    "start_time": "2023-03-05T10:41:46.474Z"
   },
   {
    "duration": 23,
    "start_time": "2023-03-05T10:43:00.820Z"
   },
   {
    "duration": 125,
    "start_time": "2023-03-05T10:57:47.003Z"
   },
   {
    "duration": 5,
    "start_time": "2023-03-05T10:59:13.720Z"
   },
   {
    "duration": 45,
    "start_time": "2023-03-05T11:01:46.724Z"
   },
   {
    "duration": 6,
    "start_time": "2023-03-05T11:03:46.269Z"
   },
   {
    "duration": 13,
    "start_time": "2023-03-05T11:03:49.168Z"
   },
   {
    "duration": 8,
    "start_time": "2023-03-05T11:03:55.571Z"
   },
   {
    "duration": 638,
    "start_time": "2023-03-05T11:04:44.297Z"
   },
   {
    "duration": 719,
    "start_time": "2023-03-05T11:04:44.937Z"
   },
   {
    "duration": 729,
    "start_time": "2023-03-05T11:04:45.658Z"
   },
   {
    "duration": 25,
    "start_time": "2023-03-05T11:04:46.388Z"
   },
   {
    "duration": 21,
    "start_time": "2023-03-05T11:04:46.416Z"
   },
   {
    "duration": 21,
    "start_time": "2023-03-05T11:04:46.438Z"
   },
   {
    "duration": 27,
    "start_time": "2023-03-05T11:04:46.461Z"
   },
   {
    "duration": 13,
    "start_time": "2023-03-05T11:04:46.504Z"
   },
   {
    "duration": 17,
    "start_time": "2023-03-05T11:04:46.519Z"
   },
   {
    "duration": 273,
    "start_time": "2023-03-05T11:04:46.537Z"
   },
   {
    "duration": 175,
    "start_time": "2023-03-05T11:04:46.812Z"
   },
   {
    "duration": 249,
    "start_time": "2023-03-05T11:04:46.989Z"
   },
   {
    "duration": 2,
    "start_time": "2023-03-05T11:04:47.240Z"
   },
   {
    "duration": 7,
    "start_time": "2023-03-05T11:04:47.245Z"
   },
   {
    "duration": 7,
    "start_time": "2023-03-05T11:04:47.253Z"
   },
   {
    "duration": 6,
    "start_time": "2023-03-05T11:04:47.261Z"
   },
   {
    "duration": 8,
    "start_time": "2023-03-05T11:04:47.269Z"
   },
   {
    "duration": 5,
    "start_time": "2023-03-05T11:04:47.279Z"
   },
   {
    "duration": 19,
    "start_time": "2023-03-05T11:04:47.285Z"
   },
   {
    "duration": 21,
    "start_time": "2023-03-05T11:04:47.306Z"
   },
   {
    "duration": 14,
    "start_time": "2023-03-05T11:04:47.328Z"
   },
   {
    "duration": 7,
    "start_time": "2023-03-05T11:04:47.343Z"
   },
   {
    "duration": 13,
    "start_time": "2023-03-05T11:04:47.352Z"
   },
   {
    "duration": 13,
    "start_time": "2023-03-05T11:04:47.366Z"
   },
   {
    "duration": 7,
    "start_time": "2023-03-05T11:04:47.380Z"
   },
   {
    "duration": 9,
    "start_time": "2023-03-05T11:04:47.388Z"
   },
   {
    "duration": 2,
    "start_time": "2023-03-05T11:04:47.404Z"
   },
   {
    "duration": 5,
    "start_time": "2023-03-05T11:04:47.408Z"
   },
   {
    "duration": 19,
    "start_time": "2023-03-05T11:04:47.415Z"
   },
   {
    "duration": 10,
    "start_time": "2023-03-05T11:04:47.435Z"
   },
   {
    "duration": 17,
    "start_time": "2023-03-05T11:04:47.447Z"
   },
   {
    "duration": 26,
    "start_time": "2023-03-05T11:04:47.465Z"
   },
   {
    "duration": 7,
    "start_time": "2023-03-05T11:04:47.492Z"
   },
   {
    "duration": 22,
    "start_time": "2023-03-05T11:04:47.500Z"
   },
   {
    "duration": 22,
    "start_time": "2023-03-05T11:04:47.523Z"
   },
   {
    "duration": 24,
    "start_time": "2023-03-05T11:04:47.547Z"
   },
   {
    "duration": 5,
    "start_time": "2023-03-05T11:04:47.572Z"
   },
   {
    "duration": 171,
    "start_time": "2023-03-05T11:04:47.579Z"
   },
   {
    "duration": 5,
    "start_time": "2023-03-05T11:05:40.299Z"
   },
   {
    "duration": 2376,
    "start_time": "2023-03-05T11:05:41.781Z"
   },
   {
    "duration": 4,
    "start_time": "2023-03-05T11:05:51.471Z"
   },
   {
    "duration": 678,
    "start_time": "2023-03-05T11:06:55.373Z"
   },
   {
    "duration": 741,
    "start_time": "2023-03-05T11:06:56.053Z"
   },
   {
    "duration": 713,
    "start_time": "2023-03-05T11:06:56.796Z"
   },
   {
    "duration": 24,
    "start_time": "2023-03-05T11:06:57.511Z"
   },
   {
    "duration": 19,
    "start_time": "2023-03-05T11:06:57.537Z"
   },
   {
    "duration": 19,
    "start_time": "2023-03-05T11:06:57.558Z"
   },
   {
    "duration": 36,
    "start_time": "2023-03-05T11:06:57.579Z"
   },
   {
    "duration": 12,
    "start_time": "2023-03-05T11:06:57.617Z"
   },
   {
    "duration": 16,
    "start_time": "2023-03-05T11:06:57.630Z"
   },
   {
    "duration": 257,
    "start_time": "2023-03-05T11:06:57.649Z"
   },
   {
    "duration": 129,
    "start_time": "2023-03-05T11:06:57.908Z"
   },
   {
    "duration": 234,
    "start_time": "2023-03-05T11:06:58.039Z"
   },
   {
    "duration": 2,
    "start_time": "2023-03-05T11:06:58.275Z"
   },
   {
    "duration": 6,
    "start_time": "2023-03-05T11:06:58.279Z"
   },
   {
    "duration": 7,
    "start_time": "2023-03-05T11:06:58.286Z"
   },
   {
    "duration": 12,
    "start_time": "2023-03-05T11:06:58.295Z"
   },
   {
    "duration": 7,
    "start_time": "2023-03-05T11:06:58.309Z"
   },
   {
    "duration": 5,
    "start_time": "2023-03-05T11:06:58.318Z"
   },
   {
    "duration": 7,
    "start_time": "2023-03-05T11:06:58.324Z"
   },
   {
    "duration": 6,
    "start_time": "2023-03-05T11:06:58.332Z"
   },
   {
    "duration": 5,
    "start_time": "2023-03-05T11:06:58.340Z"
   },
   {
    "duration": 4,
    "start_time": "2023-03-05T11:06:58.347Z"
   },
   {
    "duration": 13,
    "start_time": "2023-03-05T11:06:58.353Z"
   },
   {
    "duration": 47,
    "start_time": "2023-03-05T11:06:58.367Z"
   },
   {
    "duration": 7,
    "start_time": "2023-03-05T11:06:58.415Z"
   },
   {
    "duration": 4,
    "start_time": "2023-03-05T11:06:58.424Z"
   },
   {
    "duration": 4,
    "start_time": "2023-03-05T11:06:58.430Z"
   },
   {
    "duration": 9,
    "start_time": "2023-03-05T11:06:58.437Z"
   },
   {
    "duration": 14,
    "start_time": "2023-03-05T11:06:58.448Z"
   },
   {
    "duration": 5,
    "start_time": "2023-03-05T11:06:58.463Z"
   },
   {
    "duration": 9,
    "start_time": "2023-03-05T11:06:58.469Z"
   },
   {
    "duration": 33,
    "start_time": "2023-03-05T11:06:58.479Z"
   },
   {
    "duration": 6,
    "start_time": "2023-03-05T11:06:58.514Z"
   },
   {
    "duration": 30,
    "start_time": "2023-03-05T11:06:58.522Z"
   },
   {
    "duration": 19,
    "start_time": "2023-03-05T11:06:58.553Z"
   },
   {
    "duration": 38,
    "start_time": "2023-03-05T11:06:58.573Z"
   },
   {
    "duration": 5,
    "start_time": "2023-03-05T11:06:58.612Z"
   },
   {
    "duration": 5,
    "start_time": "2023-03-05T11:06:58.619Z"
   },
   {
    "duration": 120,
    "start_time": "2023-03-05T11:06:58.626Z"
   },
   {
    "duration": 0,
    "start_time": "2023-03-05T11:06:58.747Z"
   },
   {
    "duration": 614,
    "start_time": "2023-03-05T11:23:25.533Z"
   },
   {
    "duration": 721,
    "start_time": "2023-03-05T11:23:26.149Z"
   },
   {
    "duration": 701,
    "start_time": "2023-03-05T11:23:26.872Z"
   },
   {
    "duration": 38,
    "start_time": "2023-03-05T11:23:27.576Z"
   },
   {
    "duration": 35,
    "start_time": "2023-03-05T11:23:27.618Z"
   },
   {
    "duration": 32,
    "start_time": "2023-03-05T11:23:27.655Z"
   },
   {
    "duration": 32,
    "start_time": "2023-03-05T11:23:27.689Z"
   },
   {
    "duration": 13,
    "start_time": "2023-03-05T11:23:27.724Z"
   },
   {
    "duration": 20,
    "start_time": "2023-03-05T11:23:27.739Z"
   },
   {
    "duration": 265,
    "start_time": "2023-03-05T11:23:27.763Z"
   },
   {
    "duration": 138,
    "start_time": "2023-03-05T11:23:28.030Z"
   },
   {
    "duration": 258,
    "start_time": "2023-03-05T11:23:28.170Z"
   },
   {
    "duration": 3,
    "start_time": "2023-03-05T11:23:28.430Z"
   },
   {
    "duration": 6,
    "start_time": "2023-03-05T11:23:28.434Z"
   },
   {
    "duration": 6,
    "start_time": "2023-03-05T11:23:28.442Z"
   },
   {
    "duration": 8,
    "start_time": "2023-03-05T11:23:28.449Z"
   },
   {
    "duration": 8,
    "start_time": "2023-03-05T11:23:28.458Z"
   },
   {
    "duration": 6,
    "start_time": "2023-03-05T11:23:28.467Z"
   },
   {
    "duration": 30,
    "start_time": "2023-03-05T11:23:28.475Z"
   },
   {
    "duration": 9,
    "start_time": "2023-03-05T11:23:28.507Z"
   },
   {
    "duration": 6,
    "start_time": "2023-03-05T11:23:28.518Z"
   },
   {
    "duration": 7,
    "start_time": "2023-03-05T11:23:28.526Z"
   },
   {
    "duration": 17,
    "start_time": "2023-03-05T11:23:28.534Z"
   },
   {
    "duration": 14,
    "start_time": "2023-03-05T11:23:28.552Z"
   },
   {
    "duration": 7,
    "start_time": "2023-03-05T11:23:28.568Z"
   },
   {
    "duration": 3,
    "start_time": "2023-03-05T11:23:28.604Z"
   },
   {
    "duration": 16,
    "start_time": "2023-03-05T11:23:28.609Z"
   },
   {
    "duration": 7,
    "start_time": "2023-03-05T11:23:28.629Z"
   },
   {
    "duration": 15,
    "start_time": "2023-03-05T11:23:28.638Z"
   },
   {
    "duration": 3,
    "start_time": "2023-03-05T11:23:28.655Z"
   },
   {
    "duration": 20,
    "start_time": "2023-03-05T11:23:28.660Z"
   },
   {
    "duration": 19,
    "start_time": "2023-03-05T11:23:28.682Z"
   },
   {
    "duration": 8,
    "start_time": "2023-03-05T11:23:28.704Z"
   },
   {
    "duration": 22,
    "start_time": "2023-03-05T11:23:28.713Z"
   },
   {
    "duration": 19,
    "start_time": "2023-03-05T11:23:28.737Z"
   },
   {
    "duration": 47,
    "start_time": "2023-03-05T11:23:28.757Z"
   },
   {
    "duration": 5,
    "start_time": "2023-03-05T11:23:28.806Z"
   },
   {
    "duration": 7,
    "start_time": "2023-03-05T11:23:28.813Z"
   },
   {
    "duration": 72,
    "start_time": "2023-03-05T11:23:28.821Z"
   },
   {
    "duration": 0,
    "start_time": "2023-03-05T11:23:28.895Z"
   },
   {
    "duration": 4,
    "start_time": "2023-03-05T11:23:38.884Z"
   },
   {
    "duration": 127,
    "start_time": "2023-03-05T11:23:49.003Z"
   },
   {
    "duration": 10,
    "start_time": "2023-03-05T11:24:30.513Z"
   },
   {
    "duration": 2462,
    "start_time": "2023-03-05T11:24:43.473Z"
   },
   {
    "duration": 25,
    "start_time": "2023-03-05T11:24:45.937Z"
   },
   {
    "duration": 22,
    "start_time": "2023-03-05T11:25:25.368Z"
   },
   {
    "duration": 7,
    "start_time": "2023-03-05T11:25:32.117Z"
   },
   {
    "duration": 10,
    "start_time": "2023-03-05T11:29:37.432Z"
   },
   {
    "duration": 667,
    "start_time": "2023-03-05T11:30:51.728Z"
   },
   {
    "duration": 723,
    "start_time": "2023-03-05T11:30:52.397Z"
   },
   {
    "duration": 729,
    "start_time": "2023-03-05T11:30:53.122Z"
   },
   {
    "duration": 25,
    "start_time": "2023-03-05T11:30:53.853Z"
   },
   {
    "duration": 33,
    "start_time": "2023-03-05T11:30:53.879Z"
   },
   {
    "duration": 21,
    "start_time": "2023-03-05T11:30:53.914Z"
   },
   {
    "duration": 22,
    "start_time": "2023-03-05T11:30:53.937Z"
   },
   {
    "duration": 12,
    "start_time": "2023-03-05T11:30:53.960Z"
   },
   {
    "duration": 37,
    "start_time": "2023-03-05T11:30:53.974Z"
   },
   {
    "duration": 259,
    "start_time": "2023-03-05T11:30:54.014Z"
   },
   {
    "duration": 134,
    "start_time": "2023-03-05T11:30:54.275Z"
   },
   {
    "duration": 262,
    "start_time": "2023-03-05T11:30:54.411Z"
   },
   {
    "duration": 3,
    "start_time": "2023-03-05T11:30:54.675Z"
   },
   {
    "duration": 8,
    "start_time": "2023-03-05T11:30:54.680Z"
   },
   {
    "duration": 16,
    "start_time": "2023-03-05T11:30:54.690Z"
   },
   {
    "duration": 15,
    "start_time": "2023-03-05T11:30:54.708Z"
   },
   {
    "duration": 15,
    "start_time": "2023-03-05T11:30:54.725Z"
   },
   {
    "duration": 6,
    "start_time": "2023-03-05T11:30:54.741Z"
   },
   {
    "duration": 10,
    "start_time": "2023-03-05T11:30:54.748Z"
   },
   {
    "duration": 12,
    "start_time": "2023-03-05T11:30:54.760Z"
   },
   {
    "duration": 8,
    "start_time": "2023-03-05T11:30:54.774Z"
   },
   {
    "duration": 6,
    "start_time": "2023-03-05T11:30:54.784Z"
   },
   {
    "duration": 30,
    "start_time": "2023-03-05T11:30:54.792Z"
   },
   {
    "duration": 15,
    "start_time": "2023-03-05T11:30:54.824Z"
   },
   {
    "duration": 7,
    "start_time": "2023-03-05T11:30:54.841Z"
   },
   {
    "duration": 6,
    "start_time": "2023-03-05T11:30:54.849Z"
   },
   {
    "duration": 8,
    "start_time": "2023-03-05T11:30:54.857Z"
   },
   {
    "duration": 7,
    "start_time": "2023-03-05T11:30:54.869Z"
   },
   {
    "duration": 34,
    "start_time": "2023-03-05T11:30:54.878Z"
   },
   {
    "duration": 8,
    "start_time": "2023-03-05T11:30:54.914Z"
   },
   {
    "duration": 23,
    "start_time": "2023-03-05T11:30:54.924Z"
   },
   {
    "duration": 37,
    "start_time": "2023-03-05T11:30:54.949Z"
   },
   {
    "duration": 52,
    "start_time": "2023-03-05T11:30:55.003Z"
   },
   {
    "duration": 10,
    "start_time": "2023-03-05T11:30:55.057Z"
   },
   {
    "duration": 15,
    "start_time": "2023-03-05T11:30:55.069Z"
   },
   {
    "duration": 3734,
    "start_time": "2023-03-05T11:30:55.086Z"
   },
   {
    "duration": 6,
    "start_time": "2023-03-05T11:30:58.822Z"
   },
   {
    "duration": 7,
    "start_time": "2023-03-05T11:32:06.943Z"
   },
   {
    "duration": 7,
    "start_time": "2023-03-05T11:32:29.298Z"
   },
   {
    "duration": 104,
    "start_time": "2023-03-05T11:35:37.979Z"
   },
   {
    "duration": 32,
    "start_time": "2023-03-05T11:35:53.733Z"
   },
   {
    "duration": 15,
    "start_time": "2023-03-05T11:36:18.024Z"
   },
   {
    "duration": 30,
    "start_time": "2023-03-05T11:36:19.135Z"
   },
   {
    "duration": 4,
    "start_time": "2023-03-05T11:36:30.316Z"
   },
   {
    "duration": 1936,
    "start_time": "2023-03-05T11:36:35.712Z"
   },
   {
    "duration": 25,
    "start_time": "2023-03-05T11:36:46.493Z"
   },
   {
    "duration": 11,
    "start_time": "2023-03-05T11:36:59.289Z"
   },
   {
    "duration": 13,
    "start_time": "2023-03-05T11:37:23.279Z"
   },
   {
    "duration": 16,
    "start_time": "2023-03-05T11:48:12.786Z"
   },
   {
    "duration": 2,
    "start_time": "2023-03-05T11:48:40.587Z"
   },
   {
    "duration": 10,
    "start_time": "2023-03-05T11:48:54.325Z"
   },
   {
    "duration": 8,
    "start_time": "2023-03-05T11:49:07.815Z"
   },
   {
    "duration": 4,
    "start_time": "2023-03-05T11:49:14.298Z"
   },
   {
    "duration": 3,
    "start_time": "2023-03-05T11:49:23.994Z"
   },
   {
    "duration": 4,
    "start_time": "2023-03-05T11:51:37.169Z"
   },
   {
    "duration": 180,
    "start_time": "2023-03-05T11:51:55.219Z"
   },
   {
    "duration": 94,
    "start_time": "2023-03-05T11:56:46.213Z"
   },
   {
    "duration": 13,
    "start_time": "2023-03-05T11:58:35.998Z"
   },
   {
    "duration": 94,
    "start_time": "2023-03-05T11:58:46.439Z"
   },
   {
    "duration": 151,
    "start_time": "2023-03-05T11:58:59.497Z"
   },
   {
    "duration": 601,
    "start_time": "2023-03-05T12:05:07.826Z"
   },
   {
    "duration": 680,
    "start_time": "2023-03-05T12:05:08.429Z"
   },
   {
    "duration": 675,
    "start_time": "2023-03-05T12:05:09.110Z"
   },
   {
    "duration": 24,
    "start_time": "2023-03-05T12:05:09.786Z"
   },
   {
    "duration": 18,
    "start_time": "2023-03-05T12:05:09.812Z"
   },
   {
    "duration": 22,
    "start_time": "2023-03-05T12:05:09.831Z"
   },
   {
    "duration": 22,
    "start_time": "2023-03-05T12:05:09.854Z"
   },
   {
    "duration": 29,
    "start_time": "2023-03-05T12:05:09.877Z"
   },
   {
    "duration": 16,
    "start_time": "2023-03-05T12:05:09.907Z"
   },
   {
    "duration": 241,
    "start_time": "2023-03-05T12:05:09.925Z"
   },
   {
    "duration": 140,
    "start_time": "2023-03-05T12:05:10.168Z"
   },
   {
    "duration": 256,
    "start_time": "2023-03-05T12:05:10.309Z"
   },
   {
    "duration": 3,
    "start_time": "2023-03-05T12:05:10.566Z"
   },
   {
    "duration": 4,
    "start_time": "2023-03-05T12:05:10.571Z"
   },
   {
    "duration": 6,
    "start_time": "2023-03-05T12:05:10.576Z"
   },
   {
    "duration": 20,
    "start_time": "2023-03-05T12:05:10.584Z"
   },
   {
    "duration": 5,
    "start_time": "2023-03-05T12:05:10.606Z"
   },
   {
    "duration": 10,
    "start_time": "2023-03-05T12:05:10.613Z"
   },
   {
    "duration": 18,
    "start_time": "2023-03-05T12:05:10.624Z"
   },
   {
    "duration": 13,
    "start_time": "2023-03-05T12:05:10.643Z"
   },
   {
    "duration": 8,
    "start_time": "2023-03-05T12:05:10.657Z"
   },
   {
    "duration": 10,
    "start_time": "2023-03-05T12:05:10.666Z"
   },
   {
    "duration": 25,
    "start_time": "2023-03-05T12:05:10.677Z"
   },
   {
    "duration": 13,
    "start_time": "2023-03-05T12:05:10.704Z"
   },
   {
    "duration": 7,
    "start_time": "2023-03-05T12:05:10.718Z"
   },
   {
    "duration": 11,
    "start_time": "2023-03-05T12:05:10.726Z"
   },
   {
    "duration": 6,
    "start_time": "2023-03-05T12:05:10.738Z"
   },
   {
    "duration": 12,
    "start_time": "2023-03-05T12:05:10.745Z"
   },
   {
    "duration": 16,
    "start_time": "2023-03-05T12:05:10.759Z"
   },
   {
    "duration": 7,
    "start_time": "2023-03-05T12:05:10.776Z"
   },
   {
    "duration": 35,
    "start_time": "2023-03-05T12:05:10.785Z"
   },
   {
    "duration": 20,
    "start_time": "2023-03-05T12:05:10.821Z"
   },
   {
    "duration": 20,
    "start_time": "2023-03-05T12:05:10.842Z"
   },
   {
    "duration": 8,
    "start_time": "2023-03-05T12:05:10.863Z"
   },
   {
    "duration": 11,
    "start_time": "2023-03-05T12:05:10.872Z"
   },
   {
    "duration": 3704,
    "start_time": "2023-03-05T12:05:10.884Z"
   },
   {
    "duration": 14,
    "start_time": "2023-03-05T12:05:14.590Z"
   },
   {
    "duration": 6,
    "start_time": "2023-03-05T12:05:14.605Z"
   },
   {
    "duration": 6,
    "start_time": "2023-03-05T12:05:14.612Z"
   },
   {
    "duration": 1913,
    "start_time": "2023-03-05T12:05:14.619Z"
   },
   {
    "duration": 10,
    "start_time": "2023-03-05T12:05:16.536Z"
   },
   {
    "duration": 5,
    "start_time": "2023-03-05T12:05:16.547Z"
   },
   {
    "duration": 7,
    "start_time": "2023-03-05T12:05:16.553Z"
   },
   {
    "duration": 5,
    "start_time": "2023-03-05T12:05:16.562Z"
   },
   {
    "duration": 135,
    "start_time": "2023-03-05T12:05:16.568Z"
   },
   {
    "duration": 112,
    "start_time": "2023-03-05T12:05:16.705Z"
   },
   {
    "duration": 3,
    "start_time": "2023-03-05T12:05:16.819Z"
   },
   {
    "duration": 658,
    "start_time": "2023-03-05T12:07:32.323Z"
   },
   {
    "duration": 760,
    "start_time": "2023-03-05T12:07:32.983Z"
   },
   {
    "duration": 750,
    "start_time": "2023-03-05T12:07:33.745Z"
   },
   {
    "duration": 33,
    "start_time": "2023-03-05T12:07:34.497Z"
   },
   {
    "duration": 21,
    "start_time": "2023-03-05T12:07:34.532Z"
   },
   {
    "duration": 27,
    "start_time": "2023-03-05T12:07:34.555Z"
   },
   {
    "duration": 40,
    "start_time": "2023-03-05T12:07:34.584Z"
   },
   {
    "duration": 12,
    "start_time": "2023-03-05T12:07:34.626Z"
   },
   {
    "duration": 17,
    "start_time": "2023-03-05T12:07:34.640Z"
   },
   {
    "duration": 300,
    "start_time": "2023-03-05T12:07:34.659Z"
   },
   {
    "duration": 156,
    "start_time": "2023-03-05T12:07:34.961Z"
   },
   {
    "duration": 280,
    "start_time": "2023-03-05T12:07:35.119Z"
   },
   {
    "duration": 4,
    "start_time": "2023-03-05T12:07:35.406Z"
   },
   {
    "duration": 14,
    "start_time": "2023-03-05T12:07:35.413Z"
   },
   {
    "duration": 6,
    "start_time": "2023-03-05T12:07:35.429Z"
   },
   {
    "duration": 6,
    "start_time": "2023-03-05T12:07:35.436Z"
   },
   {
    "duration": 10,
    "start_time": "2023-03-05T12:07:35.443Z"
   },
   {
    "duration": 6,
    "start_time": "2023-03-05T12:07:35.455Z"
   },
   {
    "duration": 7,
    "start_time": "2023-03-05T12:07:35.463Z"
   },
   {
    "duration": 9,
    "start_time": "2023-03-05T12:07:35.472Z"
   },
   {
    "duration": 40,
    "start_time": "2023-03-05T12:07:35.482Z"
   },
   {
    "duration": 4,
    "start_time": "2023-03-05T12:07:35.524Z"
   },
   {
    "duration": 16,
    "start_time": "2023-03-05T12:07:35.530Z"
   },
   {
    "duration": 14,
    "start_time": "2023-03-05T12:07:35.548Z"
   },
   {
    "duration": 6,
    "start_time": "2023-03-05T12:07:35.564Z"
   },
   {
    "duration": 33,
    "start_time": "2023-03-05T12:07:35.571Z"
   },
   {
    "duration": 26,
    "start_time": "2023-03-05T12:07:35.606Z"
   },
   {
    "duration": 10,
    "start_time": "2023-03-05T12:07:35.634Z"
   },
   {
    "duration": 14,
    "start_time": "2023-03-05T12:07:35.645Z"
   },
   {
    "duration": 7,
    "start_time": "2023-03-05T12:07:35.661Z"
   },
   {
    "duration": 25,
    "start_time": "2023-03-05T12:07:35.670Z"
   },
   {
    "duration": 33,
    "start_time": "2023-03-05T12:07:35.697Z"
   },
   {
    "duration": 24,
    "start_time": "2023-03-05T12:07:35.732Z"
   },
   {
    "duration": 10,
    "start_time": "2023-03-05T12:07:35.758Z"
   },
   {
    "duration": 16,
    "start_time": "2023-03-05T12:07:35.770Z"
   },
   {
    "duration": 3908,
    "start_time": "2023-03-05T12:07:35.788Z"
   },
   {
    "duration": 17,
    "start_time": "2023-03-05T12:07:39.697Z"
   },
   {
    "duration": 14,
    "start_time": "2023-03-05T12:07:39.717Z"
   },
   {
    "duration": 6,
    "start_time": "2023-03-05T12:07:39.733Z"
   },
   {
    "duration": 2016,
    "start_time": "2023-03-05T12:07:39.740Z"
   },
   {
    "duration": 10,
    "start_time": "2023-03-05T12:07:41.760Z"
   },
   {
    "duration": 4,
    "start_time": "2023-03-05T12:07:41.772Z"
   },
   {
    "duration": 10,
    "start_time": "2023-03-05T12:07:41.778Z"
   },
   {
    "duration": 16,
    "start_time": "2023-03-05T12:07:41.789Z"
   },
   {
    "duration": 130,
    "start_time": "2023-03-05T12:07:41.808Z"
   },
   {
    "duration": 116,
    "start_time": "2023-03-05T12:07:41.940Z"
   },
   {
    "duration": 4,
    "start_time": "2023-03-05T12:07:42.057Z"
   },
   {
    "duration": 120,
    "start_time": "2023-03-05T12:09:05.826Z"
   },
   {
    "duration": 127,
    "start_time": "2023-03-05T12:09:30.638Z"
   },
   {
    "duration": 3536,
    "start_time": "2023-03-05T12:09:39.516Z"
   },
   {
    "duration": 3976,
    "start_time": "2023-03-05T12:09:55.164Z"
   },
   {
    "duration": 28,
    "start_time": "2023-03-05T12:34:16.142Z"
   },
   {
    "duration": 11,
    "start_time": "2023-03-05T12:34:24.270Z"
   },
   {
    "duration": 16,
    "start_time": "2023-03-05T12:34:47.583Z"
   },
   {
    "duration": 473,
    "start_time": "2023-03-05T12:42:34.984Z"
   },
   {
    "duration": 465,
    "start_time": "2023-03-05T12:42:57.865Z"
   },
   {
    "duration": 543,
    "start_time": "2023-03-05T12:43:06.516Z"
   },
   {
    "duration": 447,
    "start_time": "2023-03-05T12:43:24.249Z"
   },
   {
    "duration": 481,
    "start_time": "2023-03-05T12:43:34.615Z"
   },
   {
    "duration": 489,
    "start_time": "2023-03-05T12:44:43.013Z"
   },
   {
    "duration": 632,
    "start_time": "2023-03-05T12:45:08.805Z"
   },
   {
    "duration": 460,
    "start_time": "2023-03-05T12:45:35.728Z"
   },
   {
    "duration": 479,
    "start_time": "2023-03-05T12:45:43.747Z"
   },
   {
    "duration": 484,
    "start_time": "2023-03-05T12:46:28.165Z"
   },
   {
    "duration": 73,
    "start_time": "2023-03-05T13:04:09.190Z"
   },
   {
    "duration": 21,
    "start_time": "2023-03-05T13:04:18.805Z"
   },
   {
    "duration": 340,
    "start_time": "2023-03-05T13:04:28.328Z"
   },
   {
    "duration": 381,
    "start_time": "2023-03-05T13:04:42.494Z"
   },
   {
    "duration": 391,
    "start_time": "2023-03-05T13:05:02.414Z"
   },
   {
    "duration": 509,
    "start_time": "2023-03-05T13:05:20.629Z"
   },
   {
    "duration": 692,
    "start_time": "2023-03-05T13:05:33.981Z"
   },
   {
    "duration": 543,
    "start_time": "2023-03-05T13:06:01.093Z"
   },
   {
    "duration": 532,
    "start_time": "2023-03-05T13:08:04.028Z"
   },
   {
    "duration": 484,
    "start_time": "2023-03-05T13:23:28.670Z"
   },
   {
    "duration": 749,
    "start_time": "2023-03-05T13:23:40.460Z"
   },
   {
    "duration": 550,
    "start_time": "2023-03-05T13:24:22.605Z"
   },
   {
    "duration": 13,
    "start_time": "2023-03-05T13:25:13.980Z"
   },
   {
    "duration": 11,
    "start_time": "2023-03-05T13:25:38.804Z"
   },
   {
    "duration": 302,
    "start_time": "2023-03-05T13:29:08.054Z"
   },
   {
    "duration": 327,
    "start_time": "2023-03-05T13:29:39.628Z"
   },
   {
    "duration": 6,
    "start_time": "2023-03-05T13:31:28.767Z"
   },
   {
    "duration": 5,
    "start_time": "2023-03-05T13:31:42.035Z"
   },
   {
    "duration": 7,
    "start_time": "2023-03-05T13:31:56.640Z"
   },
   {
    "duration": 6,
    "start_time": "2023-03-05T13:32:35.410Z"
   },
   {
    "duration": 13,
    "start_time": "2023-03-05T13:35:04.724Z"
   },
   {
    "duration": 14,
    "start_time": "2023-03-05T14:19:14.271Z"
   },
   {
    "duration": 4,
    "start_time": "2023-03-05T14:24:43.987Z"
   },
   {
    "duration": 4,
    "start_time": "2023-03-05T14:24:46.542Z"
   },
   {
    "duration": 5,
    "start_time": "2023-03-05T14:24:47.263Z"
   },
   {
    "duration": 3,
    "start_time": "2023-03-05T14:24:47.850Z"
   },
   {
    "duration": 6,
    "start_time": "2023-03-05T14:25:59.320Z"
   },
   {
    "duration": 1209,
    "start_time": "2023-03-05T14:28:55.651Z"
   },
   {
    "duration": 4,
    "start_time": "2023-03-05T14:29:11.980Z"
   },
   {
    "duration": 5,
    "start_time": "2023-03-05T14:29:13.097Z"
   },
   {
    "duration": 3,
    "start_time": "2023-03-05T14:29:13.683Z"
   },
   {
    "duration": 4,
    "start_time": "2023-03-05T14:29:14.231Z"
   },
   {
    "duration": 1297,
    "start_time": "2023-03-05T14:29:14.798Z"
   },
   {
    "duration": 652,
    "start_time": "2023-03-05T14:30:58.566Z"
   },
   {
    "duration": 578,
    "start_time": "2023-03-05T14:31:19.818Z"
   },
   {
    "duration": 4,
    "start_time": "2023-03-05T14:45:37.244Z"
   },
   {
    "duration": 1214,
    "start_time": "2023-03-05T15:00:35.495Z"
   },
   {
    "duration": 264,
    "start_time": "2023-03-05T15:00:36.711Z"
   },
   {
    "duration": 705,
    "start_time": "2023-03-05T15:00:36.977Z"
   },
   {
    "duration": 32,
    "start_time": "2023-03-05T15:00:37.683Z"
   },
   {
    "duration": 29,
    "start_time": "2023-03-05T15:00:37.718Z"
   },
   {
    "duration": 19,
    "start_time": "2023-03-05T15:00:37.749Z"
   },
   {
    "duration": 35,
    "start_time": "2023-03-05T15:00:37.770Z"
   },
   {
    "duration": 13,
    "start_time": "2023-03-05T15:00:37.806Z"
   },
   {
    "duration": 17,
    "start_time": "2023-03-05T15:00:37.821Z"
   },
   {
    "duration": 245,
    "start_time": "2023-03-05T15:00:37.840Z"
   },
   {
    "duration": 125,
    "start_time": "2023-03-05T15:00:38.087Z"
   },
   {
    "duration": 243,
    "start_time": "2023-03-05T15:00:38.213Z"
   },
   {
    "duration": 2,
    "start_time": "2023-03-05T15:00:38.457Z"
   },
   {
    "duration": 8,
    "start_time": "2023-03-05T15:00:38.462Z"
   },
   {
    "duration": 7,
    "start_time": "2023-03-05T15:00:38.471Z"
   },
   {
    "duration": 6,
    "start_time": "2023-03-05T15:00:38.479Z"
   },
   {
    "duration": 21,
    "start_time": "2023-03-05T15:00:38.487Z"
   },
   {
    "duration": 12,
    "start_time": "2023-03-05T15:00:38.510Z"
   },
   {
    "duration": 22,
    "start_time": "2023-03-05T15:00:38.523Z"
   },
   {
    "duration": 18,
    "start_time": "2023-03-05T15:00:38.547Z"
   },
   {
    "duration": 6,
    "start_time": "2023-03-05T15:00:38.567Z"
   },
   {
    "duration": 6,
    "start_time": "2023-03-05T15:00:38.574Z"
   },
   {
    "duration": 108,
    "start_time": "2023-03-05T15:00:38.582Z"
   },
   {
    "duration": 0,
    "start_time": "2023-03-05T15:00:38.693Z"
   },
   {
    "duration": 0,
    "start_time": "2023-03-05T15:00:38.694Z"
   },
   {
    "duration": 0,
    "start_time": "2023-03-05T15:00:38.704Z"
   },
   {
    "duration": 0,
    "start_time": "2023-03-05T15:00:38.705Z"
   },
   {
    "duration": 0,
    "start_time": "2023-03-05T15:00:38.707Z"
   },
   {
    "duration": 0,
    "start_time": "2023-03-05T15:00:38.708Z"
   },
   {
    "duration": 0,
    "start_time": "2023-03-05T15:00:38.710Z"
   },
   {
    "duration": 0,
    "start_time": "2023-03-05T15:00:38.711Z"
   },
   {
    "duration": 0,
    "start_time": "2023-03-05T15:00:38.712Z"
   },
   {
    "duration": 0,
    "start_time": "2023-03-05T15:00:38.713Z"
   },
   {
    "duration": 0,
    "start_time": "2023-03-05T15:00:38.714Z"
   },
   {
    "duration": 0,
    "start_time": "2023-03-05T15:00:38.715Z"
   },
   {
    "duration": 0,
    "start_time": "2023-03-05T15:00:38.716Z"
   },
   {
    "duration": 0,
    "start_time": "2023-03-05T15:00:38.717Z"
   },
   {
    "duration": 0,
    "start_time": "2023-03-05T15:00:38.718Z"
   },
   {
    "duration": 0,
    "start_time": "2023-03-05T15:00:38.719Z"
   },
   {
    "duration": 0,
    "start_time": "2023-03-05T15:00:38.720Z"
   },
   {
    "duration": 0,
    "start_time": "2023-03-05T15:00:38.721Z"
   },
   {
    "duration": 0,
    "start_time": "2023-03-05T15:00:38.722Z"
   },
   {
    "duration": 0,
    "start_time": "2023-03-05T15:00:38.723Z"
   },
   {
    "duration": 0,
    "start_time": "2023-03-05T15:00:38.724Z"
   },
   {
    "duration": 0,
    "start_time": "2023-03-05T15:00:38.725Z"
   },
   {
    "duration": 0,
    "start_time": "2023-03-05T15:00:38.726Z"
   },
   {
    "duration": 0,
    "start_time": "2023-03-05T15:00:38.727Z"
   },
   {
    "duration": 0,
    "start_time": "2023-03-05T15:00:38.728Z"
   },
   {
    "duration": 0,
    "start_time": "2023-03-05T15:00:38.729Z"
   },
   {
    "duration": 0,
    "start_time": "2023-03-05T15:00:38.730Z"
   },
   {
    "duration": 0,
    "start_time": "2023-03-05T15:00:38.731Z"
   },
   {
    "duration": 0,
    "start_time": "2023-03-05T15:00:38.732Z"
   },
   {
    "duration": 0,
    "start_time": "2023-03-05T15:00:38.733Z"
   },
   {
    "duration": 0,
    "start_time": "2023-03-05T15:00:38.734Z"
   },
   {
    "duration": 10,
    "start_time": "2023-03-05T15:01:20.591Z"
   },
   {
    "duration": 34,
    "start_time": "2023-03-05T15:01:24.312Z"
   },
   {
    "duration": 20,
    "start_time": "2023-03-05T15:01:26.579Z"
   },
   {
    "duration": 1070,
    "start_time": "2023-03-05T15:01:43.343Z"
   },
   {
    "duration": 242,
    "start_time": "2023-03-05T15:01:44.415Z"
   },
   {
    "duration": 681,
    "start_time": "2023-03-05T15:01:44.659Z"
   },
   {
    "duration": 26,
    "start_time": "2023-03-05T15:01:45.342Z"
   },
   {
    "duration": 34,
    "start_time": "2023-03-05T15:01:45.370Z"
   },
   {
    "duration": 23,
    "start_time": "2023-03-05T15:01:45.406Z"
   },
   {
    "duration": 29,
    "start_time": "2023-03-05T15:01:45.431Z"
   },
   {
    "duration": 13,
    "start_time": "2023-03-05T15:01:45.461Z"
   },
   {
    "duration": 17,
    "start_time": "2023-03-05T15:01:45.475Z"
   },
   {
    "duration": 239,
    "start_time": "2023-03-05T15:01:45.494Z"
   },
   {
    "duration": 135,
    "start_time": "2023-03-05T15:01:45.734Z"
   },
   {
    "duration": 249,
    "start_time": "2023-03-05T15:01:45.871Z"
   },
   {
    "duration": 2,
    "start_time": "2023-03-05T15:01:46.122Z"
   },
   {
    "duration": 9,
    "start_time": "2023-03-05T15:01:46.127Z"
   },
   {
    "duration": 30,
    "start_time": "2023-03-05T15:01:46.137Z"
   },
   {
    "duration": 18,
    "start_time": "2023-03-05T15:01:46.169Z"
   },
   {
    "duration": 32,
    "start_time": "2023-03-05T15:01:46.189Z"
   },
   {
    "duration": 22,
    "start_time": "2023-03-05T15:01:46.223Z"
   },
   {
    "duration": 36,
    "start_time": "2023-03-05T15:01:46.246Z"
   },
   {
    "duration": 28,
    "start_time": "2023-03-05T15:01:46.283Z"
   },
   {
    "duration": 41,
    "start_time": "2023-03-05T15:01:46.313Z"
   },
   {
    "duration": 19,
    "start_time": "2023-03-05T15:01:46.357Z"
   },
   {
    "duration": 19,
    "start_time": "2023-03-05T15:01:46.378Z"
   },
   {
    "duration": 51,
    "start_time": "2023-03-05T15:01:46.399Z"
   },
   {
    "duration": 20,
    "start_time": "2023-03-05T15:01:46.453Z"
   },
   {
    "duration": 43,
    "start_time": "2023-03-05T15:01:46.474Z"
   },
   {
    "duration": 29,
    "start_time": "2023-03-05T15:01:46.519Z"
   },
   {
    "duration": 18,
    "start_time": "2023-03-05T15:01:46.550Z"
   },
   {
    "duration": 10559,
    "start_time": "2023-03-05T15:01:46.570Z"
   },
   {
    "duration": 13,
    "start_time": "2023-03-05T15:01:57.131Z"
   },
   {
    "duration": 111,
    "start_time": "2023-03-05T15:01:57.146Z"
   },
   {
    "duration": 0,
    "start_time": "2023-03-05T15:01:57.259Z"
   },
   {
    "duration": 0,
    "start_time": "2023-03-05T15:01:57.260Z"
   },
   {
    "duration": 0,
    "start_time": "2023-03-05T15:01:57.261Z"
   },
   {
    "duration": 0,
    "start_time": "2023-03-05T15:01:57.262Z"
   },
   {
    "duration": 0,
    "start_time": "2023-03-05T15:01:57.263Z"
   },
   {
    "duration": 0,
    "start_time": "2023-03-05T15:01:57.264Z"
   },
   {
    "duration": 0,
    "start_time": "2023-03-05T15:01:57.265Z"
   },
   {
    "duration": 0,
    "start_time": "2023-03-05T15:01:57.266Z"
   },
   {
    "duration": 0,
    "start_time": "2023-03-05T15:01:57.267Z"
   },
   {
    "duration": 0,
    "start_time": "2023-03-05T15:01:57.269Z"
   },
   {
    "duration": 0,
    "start_time": "2023-03-05T15:01:57.270Z"
   },
   {
    "duration": 0,
    "start_time": "2023-03-05T15:01:57.271Z"
   },
   {
    "duration": 0,
    "start_time": "2023-03-05T15:01:57.272Z"
   },
   {
    "duration": 0,
    "start_time": "2023-03-05T15:01:57.273Z"
   },
   {
    "duration": 0,
    "start_time": "2023-03-05T15:01:57.274Z"
   },
   {
    "duration": 0,
    "start_time": "2023-03-05T15:01:57.275Z"
   },
   {
    "duration": 0,
    "start_time": "2023-03-05T15:01:57.303Z"
   },
   {
    "duration": 0,
    "start_time": "2023-03-05T15:01:57.305Z"
   },
   {
    "duration": 0,
    "start_time": "2023-03-05T15:01:57.306Z"
   },
   {
    "duration": 0,
    "start_time": "2023-03-05T15:01:57.307Z"
   },
   {
    "duration": 0,
    "start_time": "2023-03-05T15:01:57.308Z"
   },
   {
    "duration": 0,
    "start_time": "2023-03-05T15:01:57.308Z"
   },
   {
    "duration": 107,
    "start_time": "2023-03-05T15:02:51.766Z"
   },
   {
    "duration": 94,
    "start_time": "2023-03-05T15:03:23.834Z"
   },
   {
    "duration": 38408,
    "start_time": "2023-03-05T15:04:03.299Z"
   },
   {
    "duration": 40529,
    "start_time": "2023-03-05T15:05:55.456Z"
   },
   {
    "duration": 6,
    "start_time": "2023-03-05T15:07:46.989Z"
   },
   {
    "duration": 17304,
    "start_time": "2023-03-05T15:07:52.891Z"
   },
   {
    "duration": 497,
    "start_time": "2023-03-05T15:09:27.698Z"
   },
   {
    "duration": 3,
    "start_time": "2023-03-05T15:09:37.730Z"
   },
   {
    "duration": 8,
    "start_time": "2023-03-05T15:09:37.736Z"
   },
   {
    "duration": 652,
    "start_time": "2023-03-05T15:09:37.745Z"
   },
   {
    "duration": 21,
    "start_time": "2023-03-05T15:09:38.399Z"
   },
   {
    "duration": 19,
    "start_time": "2023-03-05T15:09:38.423Z"
   },
   {
    "duration": 22,
    "start_time": "2023-03-05T15:09:38.444Z"
   },
   {
    "duration": 38,
    "start_time": "2023-03-05T15:09:38.468Z"
   },
   {
    "duration": 13,
    "start_time": "2023-03-05T15:09:38.508Z"
   },
   {
    "duration": 19,
    "start_time": "2023-03-05T15:09:38.522Z"
   },
   {
    "duration": 245,
    "start_time": "2023-03-05T15:09:38.542Z"
   },
   {
    "duration": 134,
    "start_time": "2023-03-05T15:09:38.789Z"
   },
   {
    "duration": 252,
    "start_time": "2023-03-05T15:09:38.925Z"
   },
   {
    "duration": 4,
    "start_time": "2023-03-05T15:09:39.179Z"
   },
   {
    "duration": 17,
    "start_time": "2023-03-05T15:09:39.187Z"
   },
   {
    "duration": 9,
    "start_time": "2023-03-05T15:09:39.205Z"
   },
   {
    "duration": 8,
    "start_time": "2023-03-05T15:09:39.216Z"
   },
   {
    "duration": 22,
    "start_time": "2023-03-05T15:09:39.225Z"
   },
   {
    "duration": 9,
    "start_time": "2023-03-05T15:09:39.248Z"
   },
   {
    "duration": 8,
    "start_time": "2023-03-05T15:09:39.259Z"
   },
   {
    "duration": 9,
    "start_time": "2023-03-05T15:09:39.268Z"
   },
   {
    "duration": 7,
    "start_time": "2023-03-05T15:09:39.278Z"
   },
   {
    "duration": 7,
    "start_time": "2023-03-05T15:09:39.286Z"
   },
   {
    "duration": 18,
    "start_time": "2023-03-05T15:09:39.294Z"
   },
   {
    "duration": 25,
    "start_time": "2023-03-05T15:09:39.313Z"
   },
   {
    "duration": 20,
    "start_time": "2023-03-05T15:09:39.339Z"
   },
   {
    "duration": 45,
    "start_time": "2023-03-05T15:09:39.361Z"
   },
   {
    "duration": 13,
    "start_time": "2023-03-05T15:09:39.408Z"
   },
   {
    "duration": 10,
    "start_time": "2023-03-05T15:09:39.423Z"
   },
   {
    "duration": 10399,
    "start_time": "2023-03-05T15:09:39.434Z"
   },
   {
    "duration": 15,
    "start_time": "2023-03-05T15:09:49.835Z"
   },
   {
    "duration": 102,
    "start_time": "2023-03-05T15:09:49.851Z"
   },
   {
    "duration": 104,
    "start_time": "2023-03-05T15:09:49.954Z"
   },
   {
    "duration": 5,
    "start_time": "2023-03-05T15:09:50.059Z"
   },
   {
    "duration": 17114,
    "start_time": "2023-03-05T15:09:50.065Z"
   },
   {
    "duration": 1369,
    "start_time": "2023-03-05T15:10:07.180Z"
   },
   {
    "duration": 486,
    "start_time": "2023-03-05T15:10:08.550Z"
   },
   {
    "duration": 501,
    "start_time": "2023-03-05T15:10:09.038Z"
   },
   {
    "duration": 305,
    "start_time": "2023-03-05T15:10:09.541Z"
   },
   {
    "duration": 5,
    "start_time": "2023-03-05T15:10:09.847Z"
   },
   {
    "duration": 21,
    "start_time": "2023-03-05T15:10:09.853Z"
   },
   {
    "duration": 5,
    "start_time": "2023-03-05T15:10:09.878Z"
   },
   {
    "duration": 5,
    "start_time": "2023-03-05T15:10:09.884Z"
   },
   {
    "duration": 10,
    "start_time": "2023-03-05T15:10:09.891Z"
   },
   {
    "duration": 10,
    "start_time": "2023-03-05T15:10:09.903Z"
   },
   {
    "duration": 516,
    "start_time": "2023-03-05T15:10:09.915Z"
   },
   {
    "duration": 4,
    "start_time": "2023-03-05T15:10:30.915Z"
   },
   {
    "duration": 13,
    "start_time": "2023-03-05T15:11:31.933Z"
   },
   {
    "duration": 6,
    "start_time": "2023-03-05T15:13:09.387Z"
   },
   {
    "duration": 14,
    "start_time": "2023-03-05T15:13:10.589Z"
   },
   {
    "duration": 5,
    "start_time": "2023-03-05T15:21:01.703Z"
   },
   {
    "duration": 13,
    "start_time": "2023-03-05T15:21:03.462Z"
   },
   {
    "duration": 3,
    "start_time": "2023-03-05T15:26:17.410Z"
   },
   {
    "duration": 4,
    "start_time": "2023-03-05T15:26:19.198Z"
   },
   {
    "duration": 12,
    "start_time": "2023-03-05T15:26:20.355Z"
   },
   {
    "duration": 1265,
    "start_time": "2023-03-05T15:28:06.667Z"
   },
   {
    "duration": 25,
    "start_time": "2023-03-05T15:28:45.559Z"
   },
   {
    "duration": 11,
    "start_time": "2023-03-05T15:28:55.389Z"
   },
   {
    "duration": 4,
    "start_time": "2023-03-05T15:29:18.836Z"
   },
   {
    "duration": 4,
    "start_time": "2023-03-05T15:30:05.400Z"
   },
   {
    "duration": 11,
    "start_time": "2023-03-05T15:30:24.340Z"
   },
   {
    "duration": 12,
    "start_time": "2023-03-05T15:30:32.163Z"
   },
   {
    "duration": 3,
    "start_time": "2023-03-05T15:33:13.472Z"
   },
   {
    "duration": 10,
    "start_time": "2023-03-05T15:54:01.789Z"
   },
   {
    "duration": 3,
    "start_time": "2023-03-05T15:54:14.934Z"
   },
   {
    "duration": 6,
    "start_time": "2023-03-05T15:54:38.720Z"
   },
   {
    "duration": 10,
    "start_time": "2023-03-05T15:55:05.008Z"
   },
   {
    "duration": 11,
    "start_time": "2023-03-05T15:55:13.354Z"
   },
   {
    "duration": 4,
    "start_time": "2023-03-05T15:56:16.476Z"
   },
   {
    "duration": 9,
    "start_time": "2023-03-05T15:57:26.080Z"
   },
   {
    "duration": 5,
    "start_time": "2023-03-05T16:09:04.548Z"
   },
   {
    "duration": 15,
    "start_time": "2023-03-05T16:13:53.545Z"
   },
   {
    "duration": 5,
    "start_time": "2023-03-05T16:14:00.337Z"
   },
   {
    "duration": 21,
    "start_time": "2023-03-05T16:14:50.940Z"
   },
   {
    "duration": 20,
    "start_time": "2023-03-05T16:16:10.553Z"
   },
   {
    "duration": 6,
    "start_time": "2023-03-05T16:16:13.292Z"
   },
   {
    "duration": 4,
    "start_time": "2023-03-05T16:52:07.771Z"
   },
   {
    "duration": 1084,
    "start_time": "2023-03-05T16:56:47.366Z"
   },
   {
    "duration": 265,
    "start_time": "2023-03-05T16:56:48.452Z"
   },
   {
    "duration": 730,
    "start_time": "2023-03-05T16:56:48.719Z"
   },
   {
    "duration": 23,
    "start_time": "2023-03-05T16:56:49.450Z"
   },
   {
    "duration": 35,
    "start_time": "2023-03-05T16:56:49.475Z"
   },
   {
    "duration": 21,
    "start_time": "2023-03-05T16:56:49.515Z"
   },
   {
    "duration": 21,
    "start_time": "2023-03-05T16:56:49.537Z"
   },
   {
    "duration": 11,
    "start_time": "2023-03-05T16:56:49.559Z"
   },
   {
    "duration": 17,
    "start_time": "2023-03-05T16:56:49.571Z"
   },
   {
    "duration": 252,
    "start_time": "2023-03-05T16:56:49.589Z"
   },
   {
    "duration": 123,
    "start_time": "2023-03-05T16:56:49.843Z"
   },
   {
    "duration": 258,
    "start_time": "2023-03-05T16:56:49.967Z"
   },
   {
    "duration": 3,
    "start_time": "2023-03-05T16:56:50.226Z"
   },
   {
    "duration": 5,
    "start_time": "2023-03-05T16:56:50.231Z"
   },
   {
    "duration": 5,
    "start_time": "2023-03-05T16:56:50.237Z"
   },
   {
    "duration": 6,
    "start_time": "2023-03-05T16:56:50.243Z"
   },
   {
    "duration": 8,
    "start_time": "2023-03-05T16:56:50.250Z"
   },
   {
    "duration": 12,
    "start_time": "2023-03-05T16:56:50.260Z"
   },
   {
    "duration": 36,
    "start_time": "2023-03-05T16:56:50.274Z"
   },
   {
    "duration": 14,
    "start_time": "2023-03-05T16:56:50.311Z"
   },
   {
    "duration": 8,
    "start_time": "2023-03-05T16:56:50.327Z"
   },
   {
    "duration": 10,
    "start_time": "2023-03-05T16:56:50.337Z"
   },
   {
    "duration": 11,
    "start_time": "2023-03-05T16:56:50.348Z"
   },
   {
    "duration": 29,
    "start_time": "2023-03-05T16:56:50.360Z"
   },
   {
    "duration": 26,
    "start_time": "2023-03-05T16:56:50.391Z"
   },
   {
    "duration": 23,
    "start_time": "2023-03-05T16:56:50.419Z"
   },
   {
    "duration": 6,
    "start_time": "2023-03-05T16:56:50.443Z"
   },
   {
    "duration": 6,
    "start_time": "2023-03-05T16:56:50.451Z"
   },
   {
    "duration": 10998,
    "start_time": "2023-03-05T16:56:50.459Z"
   },
   {
    "duration": 14,
    "start_time": "2023-03-05T16:57:01.459Z"
   },
   {
    "duration": 151,
    "start_time": "2023-03-05T16:57:01.474Z"
   },
   {
    "duration": 122,
    "start_time": "2023-03-05T16:57:01.627Z"
   },
   {
    "duration": 5,
    "start_time": "2023-03-05T16:57:01.751Z"
   },
   {
    "duration": 17466,
    "start_time": "2023-03-05T16:57:01.758Z"
   },
   {
    "duration": 522,
    "start_time": "2023-03-05T16:57:19.226Z"
   },
   {
    "duration": 527,
    "start_time": "2023-03-05T16:57:19.750Z"
   },
   {
    "duration": 721,
    "start_time": "2023-03-05T16:57:20.279Z"
   },
   {
    "duration": 367,
    "start_time": "2023-03-05T16:57:21.003Z"
   },
   {
    "duration": 5,
    "start_time": "2023-03-05T16:57:21.371Z"
   },
   {
    "duration": 8,
    "start_time": "2023-03-05T16:57:21.378Z"
   },
   {
    "duration": 29,
    "start_time": "2023-03-05T16:57:21.390Z"
   },
   {
    "duration": 17,
    "start_time": "2023-03-05T16:57:21.421Z"
   },
   {
    "duration": 7,
    "start_time": "2023-03-05T16:57:21.440Z"
   },
   {
    "duration": 18,
    "start_time": "2023-03-05T16:57:21.449Z"
   },
   {
    "duration": 546,
    "start_time": "2023-03-05T16:57:21.469Z"
   },
   {
    "duration": 3,
    "start_time": "2023-03-05T16:57:22.017Z"
   },
   {
    "duration": 14,
    "start_time": "2023-03-05T16:57:22.022Z"
   },
   {
    "duration": 22,
    "start_time": "2023-03-05T16:57:22.038Z"
   },
   {
    "duration": 5,
    "start_time": "2023-03-05T16:57:22.062Z"
   },
   {
    "duration": 18,
    "start_time": "2023-03-05T16:57:22.068Z"
   },
   {
    "duration": 3,
    "start_time": "2023-03-05T16:57:22.087Z"
   },
   {
    "duration": 24,
    "start_time": "2023-03-05T16:57:22.091Z"
   },
   {
    "duration": 3,
    "start_time": "2023-03-05T16:57:22.118Z"
   },
   {
    "duration": 7,
    "start_time": "2023-03-05T16:57:22.123Z"
   },
   {
    "duration": 23,
    "start_time": "2023-03-05T16:57:22.131Z"
   },
   {
    "duration": 21,
    "start_time": "2023-03-05T16:57:22.155Z"
   },
   {
    "duration": 12,
    "start_time": "2023-03-05T16:57:22.178Z"
   },
   {
    "duration": 20,
    "start_time": "2023-03-05T16:57:22.192Z"
   },
   {
    "duration": 30,
    "start_time": "2023-03-05T16:57:22.213Z"
   },
   {
    "duration": 4,
    "start_time": "2023-03-05T16:57:22.245Z"
   },
   {
    "duration": 13,
    "start_time": "2023-03-05T16:57:22.251Z"
   },
   {
    "duration": 30,
    "start_time": "2023-03-05T16:57:22.265Z"
   },
   {
    "duration": 128,
    "start_time": "2023-03-05T16:57:22.296Z"
   },
   {
    "duration": 30,
    "start_time": "2023-03-05T16:58:01.113Z"
   },
   {
    "duration": 11,
    "start_time": "2023-03-05T17:03:46.310Z"
   },
   {
    "duration": 12,
    "start_time": "2023-03-05T17:03:48.171Z"
   },
   {
    "duration": 12,
    "start_time": "2023-03-05T17:03:54.628Z"
   },
   {
    "duration": 5,
    "start_time": "2023-03-05T17:05:24.381Z"
   },
   {
    "duration": 3,
    "start_time": "2023-03-05T17:05:26.169Z"
   },
   {
    "duration": 21,
    "start_time": "2023-03-05T17:05:59.971Z"
   },
   {
    "duration": 25,
    "start_time": "2023-03-05T17:06:06.965Z"
   },
   {
    "duration": 1047,
    "start_time": "2023-03-06T06:24:42.046Z"
   },
   {
    "duration": 234,
    "start_time": "2023-03-06T06:24:43.096Z"
   },
   {
    "duration": 745,
    "start_time": "2023-03-06T06:24:43.332Z"
   },
   {
    "duration": 26,
    "start_time": "2023-03-06T06:24:44.079Z"
   },
   {
    "duration": 20,
    "start_time": "2023-03-06T06:24:44.106Z"
   },
   {
    "duration": 20,
    "start_time": "2023-03-06T06:24:44.128Z"
   },
   {
    "duration": 17,
    "start_time": "2023-03-06T06:24:44.150Z"
   },
   {
    "duration": 36,
    "start_time": "2023-03-06T06:24:44.168Z"
   },
   {
    "duration": 16,
    "start_time": "2023-03-06T06:24:44.206Z"
   },
   {
    "duration": 229,
    "start_time": "2023-03-06T06:24:44.225Z"
   },
   {
    "duration": 128,
    "start_time": "2023-03-06T06:24:44.455Z"
   },
   {
    "duration": 237,
    "start_time": "2023-03-06T06:24:44.584Z"
   },
   {
    "duration": 2,
    "start_time": "2023-03-06T06:24:44.823Z"
   },
   {
    "duration": 16,
    "start_time": "2023-03-06T06:24:44.826Z"
   },
   {
    "duration": 7,
    "start_time": "2023-03-06T06:24:44.844Z"
   },
   {
    "duration": 10,
    "start_time": "2023-03-06T06:24:44.853Z"
   },
   {
    "duration": 12,
    "start_time": "2023-03-06T06:24:44.864Z"
   },
   {
    "duration": 6,
    "start_time": "2023-03-06T06:24:44.877Z"
   },
   {
    "duration": 13,
    "start_time": "2023-03-06T06:24:44.885Z"
   },
   {
    "duration": 7,
    "start_time": "2023-03-06T06:24:44.899Z"
   },
   {
    "duration": 20,
    "start_time": "2023-03-06T06:24:44.908Z"
   },
   {
    "duration": 20,
    "start_time": "2023-03-06T06:24:44.929Z"
   },
   {
    "duration": 25,
    "start_time": "2023-03-06T06:24:44.951Z"
   },
   {
    "duration": 56,
    "start_time": "2023-03-06T06:24:44.977Z"
   },
   {
    "duration": 31,
    "start_time": "2023-03-06T06:24:45.035Z"
   },
   {
    "duration": 42,
    "start_time": "2023-03-06T06:24:45.067Z"
   },
   {
    "duration": 25,
    "start_time": "2023-03-06T06:24:45.110Z"
   },
   {
    "duration": 11,
    "start_time": "2023-03-06T06:24:45.138Z"
   },
   {
    "duration": 10393,
    "start_time": "2023-03-06T06:24:45.150Z"
   },
   {
    "duration": 14,
    "start_time": "2023-03-06T06:24:55.544Z"
   },
   {
    "duration": 110,
    "start_time": "2023-03-06T06:24:55.560Z"
   },
   {
    "duration": 101,
    "start_time": "2023-03-06T06:24:55.672Z"
   },
   {
    "duration": 5,
    "start_time": "2023-03-06T06:24:55.774Z"
   },
   {
    "duration": 16383,
    "start_time": "2023-03-06T06:24:55.781Z"
   },
   {
    "duration": 502,
    "start_time": "2023-03-06T06:25:12.166Z"
   },
   {
    "duration": 485,
    "start_time": "2023-03-06T06:25:12.669Z"
   },
   {
    "duration": 673,
    "start_time": "2023-03-06T06:25:13.155Z"
   },
   {
    "duration": 294,
    "start_time": "2023-03-06T06:25:13.830Z"
   },
   {
    "duration": 4,
    "start_time": "2023-03-06T06:25:14.126Z"
   },
   {
    "duration": 14,
    "start_time": "2023-03-06T06:25:14.132Z"
   },
   {
    "duration": 10,
    "start_time": "2023-03-06T06:25:14.148Z"
   },
   {
    "duration": 11,
    "start_time": "2023-03-06T06:25:14.159Z"
   },
   {
    "duration": 10,
    "start_time": "2023-03-06T06:25:14.172Z"
   },
   {
    "duration": 7,
    "start_time": "2023-03-06T06:25:14.183Z"
   },
   {
    "duration": 502,
    "start_time": "2023-03-06T06:25:14.192Z"
   },
   {
    "duration": 8,
    "start_time": "2023-03-06T06:25:14.696Z"
   },
   {
    "duration": 11,
    "start_time": "2023-03-06T06:25:14.706Z"
   },
   {
    "duration": 25,
    "start_time": "2023-03-06T06:25:14.718Z"
   },
   {
    "duration": 13,
    "start_time": "2023-03-06T06:25:14.744Z"
   },
   {
    "duration": 17,
    "start_time": "2023-03-06T06:25:14.758Z"
   },
   {
    "duration": 3,
    "start_time": "2023-03-06T06:25:14.776Z"
   },
   {
    "duration": 71,
    "start_time": "2023-03-06T06:25:14.780Z"
   },
   {
    "duration": 10,
    "start_time": "2023-03-06T06:25:14.852Z"
   },
   {
    "duration": 13,
    "start_time": "2023-03-06T06:25:14.864Z"
   },
   {
    "duration": 21,
    "start_time": "2023-03-06T06:25:14.879Z"
   },
   {
    "duration": 13,
    "start_time": "2023-03-06T06:25:14.901Z"
   },
   {
    "duration": 13,
    "start_time": "2023-03-06T06:25:14.916Z"
   },
   {
    "duration": 64,
    "start_time": "2023-03-06T06:25:14.931Z"
   },
   {
    "duration": 36,
    "start_time": "2023-03-06T06:25:14.997Z"
   },
   {
    "duration": 18,
    "start_time": "2023-03-06T06:25:15.035Z"
   },
   {
    "duration": 11,
    "start_time": "2023-03-06T06:25:15.055Z"
   },
   {
    "duration": 28,
    "start_time": "2023-03-06T06:25:15.068Z"
   },
   {
    "duration": 26,
    "start_time": "2023-03-06T06:25:15.098Z"
   },
   {
    "duration": 9,
    "start_time": "2023-03-06T06:25:15.125Z"
   },
   {
    "duration": 16,
    "start_time": "2023-03-06T06:25:15.135Z"
   },
   {
    "duration": 10,
    "start_time": "2023-03-06T06:25:15.152Z"
   },
   {
    "duration": 4,
    "start_time": "2023-03-06T06:25:15.164Z"
   },
   {
    "duration": 7,
    "start_time": "2023-03-06T06:25:15.170Z"
   },
   {
    "duration": 40,
    "start_time": "2023-03-06T06:25:15.178Z"
   },
   {
    "duration": 24,
    "start_time": "2023-03-06T06:25:15.219Z"
   },
   {
    "duration": 1416,
    "start_time": "2023-03-07T22:07:31.489Z"
   },
   {
    "duration": 290,
    "start_time": "2023-03-07T22:07:32.908Z"
   },
   {
    "duration": 3005,
    "start_time": "2023-03-07T22:07:33.199Z"
   },
   {
    "duration": 26,
    "start_time": "2023-03-07T22:07:36.206Z"
   },
   {
    "duration": 22,
    "start_time": "2023-03-07T22:07:36.234Z"
   },
   {
    "duration": 30,
    "start_time": "2023-03-07T22:07:36.257Z"
   },
   {
    "duration": 24,
    "start_time": "2023-03-07T22:07:36.288Z"
   },
   {
    "duration": 13,
    "start_time": "2023-03-07T22:07:36.314Z"
   },
   {
    "duration": 19,
    "start_time": "2023-03-07T22:07:36.329Z"
   },
   {
    "duration": 268,
    "start_time": "2023-03-07T22:07:36.350Z"
   },
   {
    "duration": 136,
    "start_time": "2023-03-07T22:07:36.620Z"
   },
   {
    "duration": 278,
    "start_time": "2023-03-07T22:07:36.758Z"
   },
   {
    "duration": 3,
    "start_time": "2023-03-07T22:07:37.038Z"
   },
   {
    "duration": 4,
    "start_time": "2023-03-07T22:07:37.044Z"
   },
   {
    "duration": 8,
    "start_time": "2023-03-07T22:07:37.049Z"
   },
   {
    "duration": 6,
    "start_time": "2023-03-07T22:07:37.072Z"
   },
   {
    "duration": 10,
    "start_time": "2023-03-07T22:07:37.080Z"
   },
   {
    "duration": 11,
    "start_time": "2023-03-07T22:07:37.092Z"
   },
   {
    "duration": 7,
    "start_time": "2023-03-07T22:07:37.105Z"
   },
   {
    "duration": 10,
    "start_time": "2023-03-07T22:07:37.113Z"
   },
   {
    "duration": 16,
    "start_time": "2023-03-07T22:07:37.124Z"
   },
   {
    "duration": 9,
    "start_time": "2023-03-07T22:07:37.142Z"
   },
   {
    "duration": 11,
    "start_time": "2023-03-07T22:07:37.173Z"
   },
   {
    "duration": 31,
    "start_time": "2023-03-07T22:07:37.185Z"
   },
   {
    "duration": 21,
    "start_time": "2023-03-07T22:07:37.218Z"
   },
   {
    "duration": 49,
    "start_time": "2023-03-07T22:07:37.241Z"
   },
   {
    "duration": 6,
    "start_time": "2023-03-07T22:07:37.292Z"
   },
   {
    "duration": 10,
    "start_time": "2023-03-07T22:07:37.300Z"
   },
   {
    "duration": 16930,
    "start_time": "2023-03-07T22:07:37.312Z"
   },
   {
    "duration": 19,
    "start_time": "2023-03-07T22:07:54.244Z"
   },
   {
    "duration": 146,
    "start_time": "2023-03-07T22:07:54.265Z"
   },
   {
    "duration": 211,
    "start_time": "2023-03-07T22:07:54.413Z"
   },
   {
    "duration": 5,
    "start_time": "2023-03-07T22:07:54.626Z"
   },
   {
    "duration": 18595,
    "start_time": "2023-03-07T22:07:54.633Z"
   },
   {
    "duration": 576,
    "start_time": "2023-03-07T22:08:13.231Z"
   },
   {
    "duration": 562,
    "start_time": "2023-03-07T22:08:13.808Z"
   },
   {
    "duration": 753,
    "start_time": "2023-03-07T22:08:14.373Z"
   },
   {
    "duration": 339,
    "start_time": "2023-03-07T22:08:15.128Z"
   },
   {
    "duration": 4,
    "start_time": "2023-03-07T22:08:15.472Z"
   },
   {
    "duration": 6,
    "start_time": "2023-03-07T22:08:15.478Z"
   },
   {
    "duration": 4,
    "start_time": "2023-03-07T22:08:15.488Z"
   },
   {
    "duration": 6,
    "start_time": "2023-03-07T22:08:15.493Z"
   },
   {
    "duration": 5,
    "start_time": "2023-03-07T22:08:15.500Z"
   },
   {
    "duration": 5,
    "start_time": "2023-03-07T22:08:15.506Z"
   },
   {
    "duration": 574,
    "start_time": "2023-03-07T22:08:15.512Z"
   },
   {
    "duration": 4,
    "start_time": "2023-03-07T22:08:16.088Z"
   },
   {
    "duration": 9,
    "start_time": "2023-03-07T22:08:16.093Z"
   },
   {
    "duration": 18,
    "start_time": "2023-03-07T22:08:16.104Z"
   },
   {
    "duration": 5,
    "start_time": "2023-03-07T22:08:16.124Z"
   },
   {
    "duration": 16,
    "start_time": "2023-03-07T22:08:16.131Z"
   },
   {
    "duration": 24,
    "start_time": "2023-03-07T22:08:16.149Z"
   },
   {
    "duration": 12,
    "start_time": "2023-03-07T22:08:16.175Z"
   },
   {
    "duration": 9,
    "start_time": "2023-03-07T22:08:16.189Z"
   },
   {
    "duration": 6,
    "start_time": "2023-03-07T22:08:16.199Z"
   },
   {
    "duration": 13,
    "start_time": "2023-03-07T22:08:16.206Z"
   },
   {
    "duration": 12,
    "start_time": "2023-03-07T22:08:16.221Z"
   },
   {
    "duration": 6,
    "start_time": "2023-03-07T22:08:16.235Z"
   },
   {
    "duration": 36,
    "start_time": "2023-03-07T22:08:16.243Z"
   },
   {
    "duration": 10,
    "start_time": "2023-03-07T22:08:16.281Z"
   },
   {
    "duration": 4,
    "start_time": "2023-03-07T22:08:16.293Z"
   },
   {
    "duration": 7,
    "start_time": "2023-03-07T22:08:16.298Z"
   },
   {
    "duration": 15,
    "start_time": "2023-03-07T22:08:16.307Z"
   },
   {
    "duration": 51,
    "start_time": "2023-03-07T22:08:16.324Z"
   },
   {
    "duration": 13,
    "start_time": "2023-03-07T22:08:16.376Z"
   },
   {
    "duration": 13,
    "start_time": "2023-03-07T22:08:16.390Z"
   },
   {
    "duration": 11,
    "start_time": "2023-03-07T22:08:16.405Z"
   },
   {
    "duration": 6,
    "start_time": "2023-03-07T22:08:16.418Z"
   },
   {
    "duration": 6,
    "start_time": "2023-03-07T22:08:16.425Z"
   },
   {
    "duration": 53,
    "start_time": "2023-03-07T22:08:16.433Z"
   },
   {
    "duration": 25,
    "start_time": "2023-03-07T22:08:16.488Z"
   },
   {
    "duration": 3,
    "start_time": "2023-03-07T22:08:16.515Z"
   },
   {
    "duration": 145,
    "start_time": "2023-03-07T22:08:16.519Z"
   },
   {
    "duration": 0,
    "start_time": "2023-03-07T22:08:16.666Z"
   },
   {
    "duration": 0,
    "start_time": "2023-03-07T22:08:16.673Z"
   },
   {
    "duration": 0,
    "start_time": "2023-03-07T22:08:16.675Z"
   },
   {
    "duration": 11,
    "start_time": "2023-03-07T22:20:50.151Z"
   },
   {
    "duration": 2,
    "start_time": "2023-03-07T22:27:40.754Z"
   },
   {
    "duration": 3,
    "start_time": "2023-03-07T22:27:41.841Z"
   },
   {
    "duration": 6923,
    "start_time": "2023-03-07T22:27:44.852Z"
   },
   {
    "duration": 5,
    "start_time": "2023-03-07T22:28:10.719Z"
   },
   {
    "duration": 4,
    "start_time": "2023-03-07T22:28:12.817Z"
   },
   {
    "duration": 13,
    "start_time": "2023-03-07T22:30:22.451Z"
   },
   {
    "duration": 5,
    "start_time": "2023-03-07T22:32:49.410Z"
   },
   {
    "duration": 11,
    "start_time": "2023-03-07T22:32:52.047Z"
   },
   {
    "duration": 4,
    "start_time": "2023-03-07T22:33:58.479Z"
   },
   {
    "duration": 13,
    "start_time": "2023-03-07T22:34:01.476Z"
   },
   {
    "duration": 15,
    "start_time": "2023-03-07T22:34:15.077Z"
   },
   {
    "duration": 5,
    "start_time": "2023-03-07T22:34:43.589Z"
   },
   {
    "duration": 3,
    "start_time": "2023-03-07T22:34:46.047Z"
   },
   {
    "duration": 3,
    "start_time": "2023-03-07T22:34:46.923Z"
   },
   {
    "duration": 7025,
    "start_time": "2023-03-07T22:35:08.053Z"
   },
   {
    "duration": 4,
    "start_time": "2023-03-07T22:35:20.169Z"
   },
   {
    "duration": 9,
    "start_time": "2023-03-07T22:37:16.476Z"
   },
   {
    "duration": 3,
    "start_time": "2023-03-07T22:37:37.247Z"
   },
   {
    "duration": 737,
    "start_time": "2023-03-07T22:37:46.008Z"
   },
   {
    "duration": 1231,
    "start_time": "2023-03-07T22:38:01.976Z"
   },
   {
    "duration": 272,
    "start_time": "2023-03-07T22:38:03.209Z"
   },
   {
    "duration": 2,
    "start_time": "2023-03-07T22:38:03.483Z"
   },
   {
    "duration": 758,
    "start_time": "2023-03-07T22:38:03.487Z"
   },
   {
    "duration": 39,
    "start_time": "2023-03-07T22:38:04.246Z"
   },
   {
    "duration": 30,
    "start_time": "2023-03-07T22:38:04.288Z"
   },
   {
    "duration": 25,
    "start_time": "2023-03-07T22:38:04.320Z"
   },
   {
    "duration": 42,
    "start_time": "2023-03-07T22:38:04.346Z"
   },
   {
    "duration": 15,
    "start_time": "2023-03-07T22:38:04.391Z"
   },
   {
    "duration": 20,
    "start_time": "2023-03-07T22:38:04.409Z"
   },
   {
    "duration": 282,
    "start_time": "2023-03-07T22:38:04.430Z"
   },
   {
    "duration": 135,
    "start_time": "2023-03-07T22:38:04.714Z"
   },
   {
    "duration": 262,
    "start_time": "2023-03-07T22:38:04.851Z"
   },
   {
    "duration": 2,
    "start_time": "2023-03-07T22:38:05.115Z"
   },
   {
    "duration": 7,
    "start_time": "2023-03-07T22:38:05.119Z"
   },
   {
    "duration": 10,
    "start_time": "2023-03-07T22:38:05.127Z"
   },
   {
    "duration": 9,
    "start_time": "2023-03-07T22:38:05.139Z"
   },
   {
    "duration": 23,
    "start_time": "2023-03-07T22:38:05.150Z"
   },
   {
    "duration": 7,
    "start_time": "2023-03-07T22:38:05.174Z"
   },
   {
    "duration": 7,
    "start_time": "2023-03-07T22:38:05.183Z"
   },
   {
    "duration": 10,
    "start_time": "2023-03-07T22:38:05.192Z"
   },
   {
    "duration": 7,
    "start_time": "2023-03-07T22:38:05.204Z"
   },
   {
    "duration": 10,
    "start_time": "2023-03-07T22:38:05.212Z"
   },
   {
    "duration": 15,
    "start_time": "2023-03-07T22:38:05.223Z"
   },
   {
    "duration": 58,
    "start_time": "2023-03-07T22:38:05.240Z"
   },
   {
    "duration": 23,
    "start_time": "2023-03-07T22:38:05.300Z"
   },
   {
    "duration": 34,
    "start_time": "2023-03-07T22:38:05.324Z"
   },
   {
    "duration": 78,
    "start_time": "2023-03-07T22:38:05.375Z"
   },
   {
    "duration": 10,
    "start_time": "2023-03-07T22:38:05.455Z"
   },
   {
    "duration": 13276,
    "start_time": "2023-03-07T22:38:05.467Z"
   },
   {
    "duration": 15,
    "start_time": "2023-03-07T22:38:18.745Z"
   },
   {
    "duration": 119,
    "start_time": "2023-03-07T22:38:18.762Z"
   },
   {
    "duration": 132,
    "start_time": "2023-03-07T22:38:18.883Z"
   },
   {
    "duration": 6,
    "start_time": "2023-03-07T22:38:19.016Z"
   },
   {
    "duration": 18065,
    "start_time": "2023-03-07T22:38:19.023Z"
   },
   {
    "duration": 557,
    "start_time": "2023-03-07T22:38:37.090Z"
   },
   {
    "duration": 541,
    "start_time": "2023-03-07T22:38:37.649Z"
   },
   {
    "duration": 768,
    "start_time": "2023-03-07T22:38:38.191Z"
   },
   {
    "duration": 340,
    "start_time": "2023-03-07T22:38:38.961Z"
   },
   {
    "duration": 5,
    "start_time": "2023-03-07T22:38:39.302Z"
   },
   {
    "duration": 7,
    "start_time": "2023-03-07T22:38:39.308Z"
   },
   {
    "duration": 9,
    "start_time": "2023-03-07T22:38:39.316Z"
   },
   {
    "duration": 10,
    "start_time": "2023-03-07T22:38:39.326Z"
   },
   {
    "duration": 7,
    "start_time": "2023-03-07T22:38:39.337Z"
   },
   {
    "duration": 8,
    "start_time": "2023-03-07T22:38:39.346Z"
   },
   {
    "duration": 560,
    "start_time": "2023-03-07T22:38:39.356Z"
   },
   {
    "duration": 4,
    "start_time": "2023-03-07T22:38:39.918Z"
   },
   {
    "duration": 13,
    "start_time": "2023-03-07T22:38:39.924Z"
   },
   {
    "duration": 20,
    "start_time": "2023-03-07T22:38:39.938Z"
   },
   {
    "duration": 14,
    "start_time": "2023-03-07T22:38:39.959Z"
   },
   {
    "duration": 21,
    "start_time": "2023-03-07T22:38:39.975Z"
   },
   {
    "duration": 3,
    "start_time": "2023-03-07T22:38:39.998Z"
   },
   {
    "duration": 13,
    "start_time": "2023-03-07T22:38:40.003Z"
   },
   {
    "duration": 19,
    "start_time": "2023-03-07T22:38:40.017Z"
   },
   {
    "duration": 6,
    "start_time": "2023-03-07T22:38:40.038Z"
   },
   {
    "duration": 19,
    "start_time": "2023-03-07T22:38:40.045Z"
   },
   {
    "duration": 15,
    "start_time": "2023-03-07T22:38:40.066Z"
   },
   {
    "duration": 7,
    "start_time": "2023-03-07T22:38:40.083Z"
   },
   {
    "duration": 12,
    "start_time": "2023-03-07T22:38:40.091Z"
   },
   {
    "duration": 10,
    "start_time": "2023-03-07T22:38:40.105Z"
   },
   {
    "duration": 5,
    "start_time": "2023-03-07T22:38:40.117Z"
   },
   {
    "duration": 15,
    "start_time": "2023-03-07T22:38:40.124Z"
   },
   {
    "duration": 51,
    "start_time": "2023-03-07T22:38:40.140Z"
   },
   {
    "duration": 27,
    "start_time": "2023-03-07T22:38:40.193Z"
   },
   {
    "duration": 10,
    "start_time": "2023-03-07T22:38:40.223Z"
   },
   {
    "duration": 38,
    "start_time": "2023-03-07T22:38:40.235Z"
   },
   {
    "duration": 13,
    "start_time": "2023-03-07T22:38:40.275Z"
   },
   {
    "duration": 5,
    "start_time": "2023-03-07T22:38:40.290Z"
   },
   {
    "duration": 13,
    "start_time": "2023-03-07T22:38:40.297Z"
   },
   {
    "duration": 31,
    "start_time": "2023-03-07T22:38:40.311Z"
   },
   {
    "duration": 53,
    "start_time": "2023-03-07T22:38:40.344Z"
   },
   {
    "duration": 3,
    "start_time": "2023-03-07T22:38:40.399Z"
   },
   {
    "duration": 77,
    "start_time": "2023-03-07T22:38:40.404Z"
   },
   {
    "duration": 93,
    "start_time": "2023-03-07T22:38:40.484Z"
   },
   {
    "duration": 95,
    "start_time": "2023-03-07T22:38:40.580Z"
   },
   {
    "duration": 102,
    "start_time": "2023-03-07T22:38:40.677Z"
   },
   {
    "duration": 192,
    "start_time": "2023-03-07T22:38:40.787Z"
   },
   {
    "duration": 4,
    "start_time": "2023-03-07T22:38:40.980Z"
   },
   {
    "duration": 6,
    "start_time": "2023-03-07T22:38:40.986Z"
   },
   {
    "duration": 6480,
    "start_time": "2023-03-07T22:38:40.994Z"
   },
   {
    "duration": 11,
    "start_time": "2023-03-07T22:38:47.477Z"
   },
   {
    "duration": 4,
    "start_time": "2023-03-07T22:38:47.578Z"
   },
   {
    "duration": 125,
    "start_time": "2023-03-07T22:43:24.620Z"
   },
   {
    "duration": 76,
    "start_time": "2023-03-07T22:44:09.479Z"
   },
   {
    "duration": 81,
    "start_time": "2023-03-07T22:44:17.051Z"
   },
   {
    "duration": 3,
    "start_time": "2023-03-07T22:44:23.743Z"
   },
   {
    "duration": 4,
    "start_time": "2023-03-07T22:44:25.789Z"
   },
   {
    "duration": 23,
    "start_time": "2023-03-07T22:44:28.534Z"
   },
   {
    "duration": 3,
    "start_time": "2023-03-07T22:45:42.665Z"
   },
   {
    "duration": 3,
    "start_time": "2023-03-07T22:45:43.649Z"
   },
   {
    "duration": 312,
    "start_time": "2023-03-07T22:45:44.965Z"
   },
   {
    "duration": 1253,
    "start_time": "2023-03-07T22:46:02.450Z"
   },
   {
    "duration": 274,
    "start_time": "2023-03-07T22:46:03.705Z"
   },
   {
    "duration": 3,
    "start_time": "2023-03-07T22:46:03.980Z"
   },
   {
    "duration": 792,
    "start_time": "2023-03-07T22:46:03.985Z"
   },
   {
    "duration": 29,
    "start_time": "2023-03-07T22:46:04.778Z"
   },
   {
    "duration": 21,
    "start_time": "2023-03-07T22:46:04.809Z"
   },
   {
    "duration": 42,
    "start_time": "2023-03-07T22:46:04.832Z"
   },
   {
    "duration": 18,
    "start_time": "2023-03-07T22:46:04.876Z"
   },
   {
    "duration": 14,
    "start_time": "2023-03-07T22:46:04.895Z"
   },
   {
    "duration": 19,
    "start_time": "2023-03-07T22:46:04.911Z"
   },
   {
    "duration": 266,
    "start_time": "2023-03-07T22:46:04.931Z"
   },
   {
    "duration": 139,
    "start_time": "2023-03-07T22:46:05.198Z"
   },
   {
    "duration": 257,
    "start_time": "2023-03-07T22:46:05.339Z"
   },
   {
    "duration": 3,
    "start_time": "2023-03-07T22:46:05.597Z"
   },
   {
    "duration": 9,
    "start_time": "2023-03-07T22:46:05.602Z"
   },
   {
    "duration": 14,
    "start_time": "2023-03-07T22:46:05.612Z"
   },
   {
    "duration": 7,
    "start_time": "2023-03-07T22:46:05.628Z"
   },
   {
    "duration": 10,
    "start_time": "2023-03-07T22:46:05.637Z"
   },
   {
    "duration": 8,
    "start_time": "2023-03-07T22:46:05.649Z"
   },
   {
    "duration": 17,
    "start_time": "2023-03-07T22:46:05.658Z"
   },
   {
    "duration": 10,
    "start_time": "2023-03-07T22:46:05.677Z"
   },
   {
    "duration": 7,
    "start_time": "2023-03-07T22:46:05.688Z"
   },
   {
    "duration": 6,
    "start_time": "2023-03-07T22:46:05.696Z"
   },
   {
    "duration": 10,
    "start_time": "2023-03-07T22:46:05.703Z"
   },
   {
    "duration": 61,
    "start_time": "2023-03-07T22:46:05.715Z"
   },
   {
    "duration": 22,
    "start_time": "2023-03-07T22:46:05.778Z"
   },
   {
    "duration": 23,
    "start_time": "2023-03-07T22:46:05.801Z"
   },
   {
    "duration": 6,
    "start_time": "2023-03-07T22:46:05.829Z"
   },
   {
    "duration": 41,
    "start_time": "2023-03-07T22:46:05.837Z"
   },
   {
    "duration": 14358,
    "start_time": "2023-03-07T22:46:05.880Z"
   },
   {
    "duration": 16,
    "start_time": "2023-03-07T22:46:20.240Z"
   },
   {
    "duration": 132,
    "start_time": "2023-03-07T22:46:20.259Z"
   },
   {
    "duration": 145,
    "start_time": "2023-03-07T22:46:20.394Z"
   },
   {
    "duration": 6,
    "start_time": "2023-03-07T22:46:20.542Z"
   },
   {
    "duration": 18179,
    "start_time": "2023-03-07T22:46:20.549Z"
   },
   {
    "duration": 580,
    "start_time": "2023-03-07T22:46:38.731Z"
   },
   {
    "duration": 571,
    "start_time": "2023-03-07T22:46:39.313Z"
   },
   {
    "duration": 833,
    "start_time": "2023-03-07T22:46:39.886Z"
   },
   {
    "duration": 341,
    "start_time": "2023-03-07T22:46:40.722Z"
   },
   {
    "duration": 8,
    "start_time": "2023-03-07T22:46:41.065Z"
   },
   {
    "duration": 5,
    "start_time": "2023-03-07T22:46:41.075Z"
   },
   {
    "duration": 7,
    "start_time": "2023-03-07T22:46:41.081Z"
   },
   {
    "duration": 6,
    "start_time": "2023-03-07T22:46:41.090Z"
   },
   {
    "duration": 5,
    "start_time": "2023-03-07T22:46:41.097Z"
   },
   {
    "duration": 5,
    "start_time": "2023-03-07T22:46:41.103Z"
   },
   {
    "duration": 569,
    "start_time": "2023-03-07T22:46:41.109Z"
   },
   {
    "duration": 3,
    "start_time": "2023-03-07T22:46:41.680Z"
   },
   {
    "duration": 9,
    "start_time": "2023-03-07T22:46:41.685Z"
   },
   {
    "duration": 19,
    "start_time": "2023-03-07T22:46:41.695Z"
   },
   {
    "duration": 5,
    "start_time": "2023-03-07T22:46:41.715Z"
   },
   {
    "duration": 15,
    "start_time": "2023-03-07T22:46:41.722Z"
   },
   {
    "duration": 3,
    "start_time": "2023-03-07T22:46:41.738Z"
   },
   {
    "duration": 32,
    "start_time": "2023-03-07T22:46:41.743Z"
   },
   {
    "duration": 7,
    "start_time": "2023-03-07T22:46:41.776Z"
   },
   {
    "duration": 6,
    "start_time": "2023-03-07T22:46:41.784Z"
   },
   {
    "duration": 14,
    "start_time": "2023-03-07T22:46:41.792Z"
   },
   {
    "duration": 12,
    "start_time": "2023-03-07T22:46:41.808Z"
   },
   {
    "duration": 7,
    "start_time": "2023-03-07T22:46:41.822Z"
   },
   {
    "duration": 14,
    "start_time": "2023-03-07T22:46:41.830Z"
   },
   {
    "duration": 11,
    "start_time": "2023-03-07T22:46:41.874Z"
   },
   {
    "duration": 6,
    "start_time": "2023-03-07T22:46:41.887Z"
   },
   {
    "duration": 6,
    "start_time": "2023-03-07T22:46:41.895Z"
   },
   {
    "duration": 15,
    "start_time": "2023-03-07T22:46:41.903Z"
   },
   {
    "duration": 55,
    "start_time": "2023-03-07T22:46:41.919Z"
   },
   {
    "duration": 11,
    "start_time": "2023-03-07T22:46:41.976Z"
   },
   {
    "duration": 13,
    "start_time": "2023-03-07T22:46:41.989Z"
   },
   {
    "duration": 13,
    "start_time": "2023-03-07T22:46:42.003Z"
   },
   {
    "duration": 5,
    "start_time": "2023-03-07T22:46:42.017Z"
   },
   {
    "duration": 6,
    "start_time": "2023-03-07T22:46:42.024Z"
   },
   {
    "duration": 57,
    "start_time": "2023-03-07T22:46:42.031Z"
   },
   {
    "duration": 24,
    "start_time": "2023-03-07T22:46:42.090Z"
   },
   {
    "duration": 2,
    "start_time": "2023-03-07T22:46:42.116Z"
   },
   {
    "duration": 55,
    "start_time": "2023-03-07T22:46:42.120Z"
   },
   {
    "duration": 96,
    "start_time": "2023-03-07T22:46:42.178Z"
   },
   {
    "duration": 100,
    "start_time": "2023-03-07T22:46:42.276Z"
   },
   {
    "duration": 7,
    "start_time": "2023-03-07T22:46:42.378Z"
   },
   {
    "duration": 189,
    "start_time": "2023-03-07T22:46:42.388Z"
   },
   {
    "duration": 5,
    "start_time": "2023-03-07T22:46:42.578Z"
   },
   {
    "duration": 5,
    "start_time": "2023-03-07T22:46:42.585Z"
   },
   {
    "duration": 400,
    "start_time": "2023-03-07T22:46:42.592Z"
   },
   {
    "duration": 0,
    "start_time": "2023-03-07T22:46:42.994Z"
   },
   {
    "duration": 0,
    "start_time": "2023-03-07T22:46:42.995Z"
   },
   {
    "duration": 4,
    "start_time": "2023-03-08T07:54:32.337Z"
   },
   {
    "duration": 4,
    "start_time": "2023-03-08T07:56:34.640Z"
   },
   {
    "duration": 4,
    "start_time": "2023-03-08T07:56:35.513Z"
   },
   {
    "duration": 271,
    "start_time": "2023-03-08T07:56:40.706Z"
   },
   {
    "duration": 1356,
    "start_time": "2023-03-08T07:57:05.900Z"
   },
   {
    "duration": 352,
    "start_time": "2023-03-08T07:57:07.259Z"
   },
   {
    "duration": 4,
    "start_time": "2023-03-08T07:57:07.613Z"
   },
   {
    "duration": 988,
    "start_time": "2023-03-08T07:57:07.619Z"
   },
   {
    "duration": 37,
    "start_time": "2023-03-08T07:57:08.613Z"
   },
   {
    "duration": 36,
    "start_time": "2023-03-08T07:57:08.652Z"
   },
   {
    "duration": 44,
    "start_time": "2023-03-08T07:57:08.690Z"
   },
   {
    "duration": 67,
    "start_time": "2023-03-08T07:57:08.736Z"
   },
   {
    "duration": 25,
    "start_time": "2023-03-08T07:57:08.805Z"
   },
   {
    "duration": 45,
    "start_time": "2023-03-08T07:57:08.833Z"
   },
   {
    "duration": 323,
    "start_time": "2023-03-08T07:57:08.880Z"
   },
   {
    "duration": 159,
    "start_time": "2023-03-08T07:57:09.208Z"
   },
   {
    "duration": 327,
    "start_time": "2023-03-08T07:57:09.370Z"
   },
   {
    "duration": 4,
    "start_time": "2023-03-08T07:57:09.702Z"
   },
   {
    "duration": 5,
    "start_time": "2023-03-08T07:57:09.709Z"
   },
   {
    "duration": 13,
    "start_time": "2023-03-08T07:57:09.716Z"
   },
   {
    "duration": 11,
    "start_time": "2023-03-08T07:57:09.731Z"
   },
   {
    "duration": 8,
    "start_time": "2023-03-08T07:57:09.744Z"
   },
   {
    "duration": 54,
    "start_time": "2023-03-08T07:57:09.754Z"
   },
   {
    "duration": 17,
    "start_time": "2023-03-08T07:57:09.811Z"
   },
   {
    "duration": 10,
    "start_time": "2023-03-08T07:57:09.830Z"
   },
   {
    "duration": 11,
    "start_time": "2023-03-08T07:57:09.842Z"
   },
   {
    "duration": 7,
    "start_time": "2023-03-08T07:57:09.855Z"
   },
   {
    "duration": 18,
    "start_time": "2023-03-08T07:57:09.864Z"
   },
   {
    "duration": 48,
    "start_time": "2023-03-08T07:57:09.884Z"
   },
   {
    "duration": 45,
    "start_time": "2023-03-08T07:57:09.934Z"
   },
   {
    "duration": 35,
    "start_time": "2023-03-08T07:57:09.981Z"
   },
   {
    "duration": 10,
    "start_time": "2023-03-08T07:57:10.019Z"
   },
   {
    "duration": 18,
    "start_time": "2023-03-08T07:57:10.031Z"
   },
   {
    "duration": 29218,
    "start_time": "2023-03-08T07:57:10.051Z"
   },
   {
    "duration": 25,
    "start_time": "2023-03-08T07:57:39.271Z"
   },
   {
    "duration": 152,
    "start_time": "2023-03-08T07:57:39.299Z"
   },
   {
    "duration": 137,
    "start_time": "2023-03-08T07:57:39.454Z"
   },
   {
    "duration": 6,
    "start_time": "2023-03-08T07:57:39.597Z"
   },
   {
    "duration": 22178,
    "start_time": "2023-03-08T07:57:39.613Z"
   },
   {
    "duration": 695,
    "start_time": "2023-03-08T07:58:01.794Z"
   },
   {
    "duration": 651,
    "start_time": "2023-03-08T07:58:02.492Z"
   },
   {
    "duration": 982,
    "start_time": "2023-03-08T07:58:03.146Z"
   },
   {
    "duration": 561,
    "start_time": "2023-03-08T07:58:04.130Z"
   },
   {
    "duration": 6,
    "start_time": "2023-03-08T07:58:04.694Z"
   },
   {
    "duration": 10,
    "start_time": "2023-03-08T07:58:04.705Z"
   },
   {
    "duration": 7,
    "start_time": "2023-03-08T07:58:04.717Z"
   },
   {
    "duration": 9,
    "start_time": "2023-03-08T07:58:04.726Z"
   },
   {
    "duration": 7,
    "start_time": "2023-03-08T07:58:04.737Z"
   },
   {
    "duration": 28,
    "start_time": "2023-03-08T07:58:04.746Z"
   },
   {
    "duration": 672,
    "start_time": "2023-03-08T07:58:04.778Z"
   },
   {
    "duration": 4,
    "start_time": "2023-03-08T07:58:05.452Z"
   },
   {
    "duration": 64,
    "start_time": "2023-03-08T07:58:05.459Z"
   },
   {
    "duration": 23,
    "start_time": "2023-03-08T07:58:05.525Z"
   },
   {
    "duration": 6,
    "start_time": "2023-03-08T07:58:05.551Z"
   },
   {
    "duration": 31,
    "start_time": "2023-03-08T07:58:05.559Z"
   },
   {
    "duration": 19,
    "start_time": "2023-03-08T07:58:05.592Z"
   },
   {
    "duration": 14,
    "start_time": "2023-03-08T07:58:05.613Z"
   },
   {
    "duration": 11,
    "start_time": "2023-03-08T07:58:05.630Z"
   },
   {
    "duration": 9,
    "start_time": "2023-03-08T07:58:05.644Z"
   },
   {
    "duration": 72,
    "start_time": "2023-03-08T07:58:05.655Z"
   },
   {
    "duration": 20,
    "start_time": "2023-03-08T07:58:05.729Z"
   },
   {
    "duration": 8,
    "start_time": "2023-03-08T07:58:05.751Z"
   },
   {
    "duration": 20,
    "start_time": "2023-03-08T07:58:05.761Z"
   },
   {
    "duration": 18,
    "start_time": "2023-03-08T07:58:05.783Z"
   },
   {
    "duration": 17,
    "start_time": "2023-03-08T07:58:05.802Z"
   },
   {
    "duration": 14,
    "start_time": "2023-03-08T07:58:05.821Z"
   },
   {
    "duration": 43,
    "start_time": "2023-03-08T07:58:05.837Z"
   },
   {
    "duration": 60,
    "start_time": "2023-03-08T07:58:05.883Z"
   },
   {
    "duration": 15,
    "start_time": "2023-03-08T07:58:05.946Z"
   },
   {
    "duration": 32,
    "start_time": "2023-03-08T07:58:05.964Z"
   },
   {
    "duration": 21,
    "start_time": "2023-03-08T07:58:06.003Z"
   },
   {
    "duration": 6,
    "start_time": "2023-03-08T07:58:06.026Z"
   },
   {
    "duration": 15,
    "start_time": "2023-03-08T07:58:06.034Z"
   },
   {
    "duration": 31,
    "start_time": "2023-03-08T07:58:06.051Z"
   },
   {
    "duration": 41,
    "start_time": "2023-03-08T07:58:06.088Z"
   },
   {
    "duration": 3,
    "start_time": "2023-03-08T07:58:06.132Z"
   },
   {
    "duration": 53,
    "start_time": "2023-03-08T07:58:06.137Z"
   },
   {
    "duration": 172,
    "start_time": "2023-03-08T07:58:06.192Z"
   },
   {
    "duration": 150,
    "start_time": "2023-03-08T07:58:06.367Z"
   },
   {
    "duration": 19,
    "start_time": "2023-03-08T07:58:06.519Z"
   },
   {
    "duration": 138,
    "start_time": "2023-03-08T07:58:06.543Z"
   },
   {
    "duration": 35,
    "start_time": "2023-03-08T07:58:06.683Z"
   },
   {
    "duration": 17,
    "start_time": "2023-03-08T07:58:06.721Z"
   },
   {
    "duration": 390,
    "start_time": "2023-03-08T07:58:06.740Z"
   },
   {
    "duration": 0,
    "start_time": "2023-03-08T07:58:07.132Z"
   },
   {
    "duration": 0,
    "start_time": "2023-03-08T07:58:07.133Z"
   },
   {
    "duration": 3,
    "start_time": "2023-03-08T08:00:44.652Z"
   },
   {
    "duration": 8281,
    "start_time": "2023-03-08T08:00:47.122Z"
   },
   {
    "duration": 4,
    "start_time": "2023-03-08T08:00:59.343Z"
   },
   {
    "duration": 7,
    "start_time": "2023-03-08T08:09:16.519Z"
   },
   {
    "duration": 23,
    "start_time": "2023-03-08T08:29:24.972Z"
   },
   {
    "duration": 15,
    "start_time": "2023-03-08T08:29:58.509Z"
   },
   {
    "duration": 18,
    "start_time": "2023-03-08T08:30:35.941Z"
   },
   {
    "duration": 4,
    "start_time": "2023-03-08T08:30:50.005Z"
   },
   {
    "duration": 31,
    "start_time": "2023-03-08T08:30:56.141Z"
   },
   {
    "duration": 18,
    "start_time": "2023-03-08T08:31:56.672Z"
   },
   {
    "duration": 15,
    "start_time": "2023-03-08T08:32:25.744Z"
   },
   {
    "duration": 23,
    "start_time": "2023-03-08T08:32:42.813Z"
   },
   {
    "duration": 1660,
    "start_time": "2023-03-08T08:33:01.550Z"
   },
   {
    "duration": 394,
    "start_time": "2023-03-08T08:33:03.212Z"
   },
   {
    "duration": 3,
    "start_time": "2023-03-08T08:33:03.608Z"
   },
   {
    "duration": 1109,
    "start_time": "2023-03-08T08:33:03.615Z"
   },
   {
    "duration": 40,
    "start_time": "2023-03-08T08:33:04.738Z"
   },
   {
    "duration": 121,
    "start_time": "2023-03-08T08:33:04.780Z"
   },
   {
    "duration": 69,
    "start_time": "2023-03-08T08:33:04.906Z"
   },
   {
    "duration": 99,
    "start_time": "2023-03-08T08:33:04.977Z"
   },
   {
    "duration": 90,
    "start_time": "2023-03-08T08:33:05.078Z"
   },
   {
    "duration": 70,
    "start_time": "2023-03-08T08:33:05.171Z"
   },
   {
    "duration": 417,
    "start_time": "2023-03-08T08:33:05.243Z"
   },
   {
    "duration": 179,
    "start_time": "2023-03-08T08:33:05.662Z"
   },
   {
    "duration": 378,
    "start_time": "2023-03-08T08:33:05.844Z"
   },
   {
    "duration": 4,
    "start_time": "2023-03-08T08:33:06.227Z"
   },
   {
    "duration": 10,
    "start_time": "2023-03-08T08:33:06.234Z"
   },
   {
    "duration": 16,
    "start_time": "2023-03-08T08:33:06.245Z"
   },
   {
    "duration": 12,
    "start_time": "2023-03-08T08:33:06.264Z"
   },
   {
    "duration": 48,
    "start_time": "2023-03-08T08:33:06.284Z"
   },
   {
    "duration": 7,
    "start_time": "2023-03-08T08:33:06.334Z"
   },
   {
    "duration": 13,
    "start_time": "2023-03-08T08:33:06.342Z"
   },
   {
    "duration": 27,
    "start_time": "2023-03-08T08:33:06.357Z"
   },
   {
    "duration": 38,
    "start_time": "2023-03-08T08:33:06.387Z"
   },
   {
    "duration": 13,
    "start_time": "2023-03-08T08:33:06.427Z"
   },
   {
    "duration": 16,
    "start_time": "2023-03-08T08:33:06.443Z"
   },
   {
    "duration": 69,
    "start_time": "2023-03-08T08:33:06.463Z"
   },
   {
    "duration": 36,
    "start_time": "2023-03-08T08:33:06.534Z"
   },
   {
    "duration": 87,
    "start_time": "2023-03-08T08:33:06.572Z"
   },
   {
    "duration": 7,
    "start_time": "2023-03-08T08:33:06.662Z"
   },
   {
    "duration": 67,
    "start_time": "2023-03-08T08:33:06.671Z"
   },
   {
    "duration": 32711,
    "start_time": "2023-03-08T08:33:06.740Z"
   },
   {
    "duration": 44,
    "start_time": "2023-03-08T08:33:39.454Z"
   },
   {
    "duration": 150,
    "start_time": "2023-03-08T08:33:39.512Z"
   },
   {
    "duration": 192,
    "start_time": "2023-03-08T08:33:39.665Z"
   },
   {
    "duration": 10,
    "start_time": "2023-03-08T08:33:39.860Z"
   },
   {
    "duration": 27441,
    "start_time": "2023-03-08T08:33:39.873Z"
   },
   {
    "duration": 1134,
    "start_time": "2023-03-08T08:34:07.326Z"
   },
   {
    "duration": 1098,
    "start_time": "2023-03-08T08:34:08.463Z"
   },
   {
    "duration": 1370,
    "start_time": "2023-03-08T08:34:09.568Z"
   },
   {
    "duration": 628,
    "start_time": "2023-03-08T08:34:10.954Z"
   },
   {
    "duration": 14,
    "start_time": "2023-03-08T08:34:11.590Z"
   },
   {
    "duration": 210,
    "start_time": "2023-03-08T08:34:11.618Z"
   },
   {
    "duration": 77,
    "start_time": "2023-03-08T08:34:11.838Z"
   },
   {
    "duration": 39,
    "start_time": "2023-03-08T08:34:11.932Z"
   },
   {
    "duration": 127,
    "start_time": "2023-03-08T08:34:11.977Z"
   },
   {
    "duration": 32,
    "start_time": "2023-03-08T08:34:12.108Z"
   },
   {
    "duration": 1178,
    "start_time": "2023-03-08T08:34:12.147Z"
   },
   {
    "duration": 6,
    "start_time": "2023-03-08T08:34:13.327Z"
   },
   {
    "duration": 117,
    "start_time": "2023-03-08T08:34:13.338Z"
   },
   {
    "duration": 34,
    "start_time": "2023-03-08T08:34:13.462Z"
   },
   {
    "duration": 149,
    "start_time": "2023-03-08T08:34:13.504Z"
   },
   {
    "duration": 103,
    "start_time": "2023-03-08T08:34:13.655Z"
   },
   {
    "duration": 44,
    "start_time": "2023-03-08T08:34:13.766Z"
   },
   {
    "duration": 116,
    "start_time": "2023-03-08T08:34:13.824Z"
   },
   {
    "duration": 90,
    "start_time": "2023-03-08T08:34:13.945Z"
   },
   {
    "duration": 67,
    "start_time": "2023-03-08T08:34:14.038Z"
   },
   {
    "duration": 152,
    "start_time": "2023-03-08T08:34:14.112Z"
   },
   {
    "duration": 96,
    "start_time": "2023-03-08T08:34:14.266Z"
   },
   {
    "duration": 85,
    "start_time": "2023-03-08T08:34:14.364Z"
   },
   {
    "duration": 23,
    "start_time": "2023-03-08T08:34:14.451Z"
   },
   {
    "duration": 126,
    "start_time": "2023-03-08T08:34:14.477Z"
   },
   {
    "duration": 96,
    "start_time": "2023-03-08T08:34:14.606Z"
   },
   {
    "duration": 206,
    "start_time": "2023-03-08T08:34:14.710Z"
   },
   {
    "duration": 168,
    "start_time": "2023-03-08T08:34:14.922Z"
   },
   {
    "duration": 126,
    "start_time": "2023-03-08T08:34:15.097Z"
   },
   {
    "duration": 28,
    "start_time": "2023-03-08T08:34:15.230Z"
   },
   {
    "duration": 85,
    "start_time": "2023-03-08T08:34:15.265Z"
   },
   {
    "duration": 27,
    "start_time": "2023-03-08T08:34:15.352Z"
   },
   {
    "duration": 77,
    "start_time": "2023-03-08T08:34:15.385Z"
   },
   {
    "duration": 93,
    "start_time": "2023-03-08T08:34:15.467Z"
   },
   {
    "duration": 100,
    "start_time": "2023-03-08T08:34:15.565Z"
   },
   {
    "duration": 136,
    "start_time": "2023-03-08T08:34:15.667Z"
   },
   {
    "duration": 19,
    "start_time": "2023-03-08T08:34:15.810Z"
   },
   {
    "duration": 187,
    "start_time": "2023-03-08T08:34:15.835Z"
   },
   {
    "duration": 93,
    "start_time": "2023-03-08T08:34:16.042Z"
   },
   {
    "duration": 33,
    "start_time": "2023-03-08T08:34:16.155Z"
   },
   {
    "duration": 130,
    "start_time": "2023-03-08T08:34:16.232Z"
   },
   {
    "duration": 425,
    "start_time": "2023-03-08T08:34:16.368Z"
   },
   {
    "duration": 10,
    "start_time": "2023-03-08T08:35:02.720Z"
   },
   {
    "duration": 18,
    "start_time": "2023-03-08T08:35:08.920Z"
   },
   {
    "duration": 10,
    "start_time": "2023-03-08T08:40:36.384Z"
   },
   {
    "duration": 4,
    "start_time": "2023-03-08T08:40:38.921Z"
   },
   {
    "duration": 5,
    "start_time": "2023-03-08T08:40:42.358Z"
   },
   {
    "duration": 9700,
    "start_time": "2023-03-08T08:40:54.312Z"
   },
   {
    "duration": 5,
    "start_time": "2023-03-08T08:41:27.855Z"
   },
   {
    "duration": 5,
    "start_time": "2023-03-08T08:42:36.902Z"
   },
   {
    "duration": 5,
    "start_time": "2023-03-08T08:42:44.823Z"
   },
   {
    "duration": 9162,
    "start_time": "2023-03-08T08:42:49.414Z"
   },
   {
    "duration": 13,
    "start_time": "2023-03-08T08:43:07.228Z"
   },
   {
    "duration": 2197,
    "start_time": "2023-03-08T08:43:20.109Z"
   },
   {
    "duration": 458,
    "start_time": "2023-03-08T08:43:22.323Z"
   },
   {
    "duration": 4,
    "start_time": "2023-03-08T08:43:22.783Z"
   },
   {
    "duration": 1202,
    "start_time": "2023-03-08T08:43:22.788Z"
   },
   {
    "duration": 41,
    "start_time": "2023-03-08T08:43:23.993Z"
   },
   {
    "duration": 43,
    "start_time": "2023-03-08T08:43:24.040Z"
   },
   {
    "duration": 45,
    "start_time": "2023-03-08T08:43:24.085Z"
   },
   {
    "duration": 63,
    "start_time": "2023-03-08T08:43:24.134Z"
   },
   {
    "duration": 84,
    "start_time": "2023-03-08T08:43:24.204Z"
   },
   {
    "duration": 34,
    "start_time": "2023-03-08T08:43:24.291Z"
   },
   {
    "duration": 366,
    "start_time": "2023-03-08T08:43:24.335Z"
   },
   {
    "duration": 178,
    "start_time": "2023-03-08T08:43:24.703Z"
   },
   {
    "duration": 326,
    "start_time": "2023-03-08T08:43:24.883Z"
   },
   {
    "duration": 10,
    "start_time": "2023-03-08T08:43:25.216Z"
   },
   {
    "duration": 11,
    "start_time": "2023-03-08T08:43:25.229Z"
   },
   {
    "duration": 13,
    "start_time": "2023-03-08T08:43:25.242Z"
   },
   {
    "duration": 11,
    "start_time": "2023-03-08T08:43:25.258Z"
   },
   {
    "duration": 63,
    "start_time": "2023-03-08T08:43:25.273Z"
   },
   {
    "duration": 27,
    "start_time": "2023-03-08T08:43:25.338Z"
   },
   {
    "duration": 30,
    "start_time": "2023-03-08T08:43:25.367Z"
   },
   {
    "duration": 39,
    "start_time": "2023-03-08T08:43:25.399Z"
   },
   {
    "duration": 16,
    "start_time": "2023-03-08T08:43:25.441Z"
   },
   {
    "duration": 10,
    "start_time": "2023-03-08T08:43:25.459Z"
   },
   {
    "duration": 58,
    "start_time": "2023-03-08T08:43:25.472Z"
   },
   {
    "duration": 35,
    "start_time": "2023-03-08T08:43:25.533Z"
   },
   {
    "duration": 42,
    "start_time": "2023-03-08T08:43:25.570Z"
   },
   {
    "duration": 42,
    "start_time": "2023-03-08T08:43:25.620Z"
   },
   {
    "duration": 6,
    "start_time": "2023-03-08T08:43:25.664Z"
   },
   {
    "duration": 37,
    "start_time": "2023-03-08T08:43:25.671Z"
   },
   {
    "duration": 30760,
    "start_time": "2023-03-08T08:43:25.710Z"
   },
   {
    "duration": 27,
    "start_time": "2023-03-08T08:43:56.473Z"
   },
   {
    "duration": 221,
    "start_time": "2023-03-08T08:43:56.504Z"
   },
   {
    "duration": 149,
    "start_time": "2023-03-08T08:43:56.727Z"
   },
   {
    "duration": 8,
    "start_time": "2023-03-08T08:43:56.877Z"
   },
   {
    "duration": 980,
    "start_time": "2023-03-08T08:43:56.886Z"
   },
   {
    "duration": 780,
    "start_time": "2023-03-08T08:43:57.876Z"
   },
   {
    "duration": 796,
    "start_time": "2023-03-08T08:43:58.659Z"
   },
   {
    "duration": 477,
    "start_time": "2023-03-08T08:43:59.458Z"
   },
   {
    "duration": 6,
    "start_time": "2023-03-08T08:43:59.938Z"
   },
   {
    "duration": 17,
    "start_time": "2023-03-08T08:43:59.947Z"
   },
   {
    "duration": 49,
    "start_time": "2023-03-08T08:43:59.979Z"
   },
   {
    "duration": 20,
    "start_time": "2023-03-08T08:44:00.030Z"
   },
   {
    "duration": 15,
    "start_time": "2023-03-08T08:44:00.052Z"
   },
   {
    "duration": 53,
    "start_time": "2023-03-08T08:44:00.069Z"
   },
   {
    "duration": 1111,
    "start_time": "2023-03-08T08:44:00.124Z"
   },
   {
    "duration": 5,
    "start_time": "2023-03-08T08:44:01.238Z"
   },
   {
    "duration": 96,
    "start_time": "2023-03-08T08:44:01.246Z"
   },
   {
    "duration": 98,
    "start_time": "2023-03-08T08:44:01.345Z"
   },
   {
    "duration": 57,
    "start_time": "2023-03-08T08:44:01.445Z"
   },
   {
    "duration": 97,
    "start_time": "2023-03-08T08:44:01.504Z"
   },
   {
    "duration": 46,
    "start_time": "2023-03-08T08:44:01.606Z"
   },
   {
    "duration": 72,
    "start_time": "2023-03-08T08:44:01.654Z"
   },
   {
    "duration": 20,
    "start_time": "2023-03-08T08:44:01.729Z"
   },
   {
    "duration": 20,
    "start_time": "2023-03-08T08:44:01.751Z"
   },
   {
    "duration": 64,
    "start_time": "2023-03-08T08:44:01.777Z"
   },
   {
    "duration": 16,
    "start_time": "2023-03-08T08:44:01.844Z"
   },
   {
    "duration": 13,
    "start_time": "2023-03-08T08:44:01.862Z"
   },
   {
    "duration": 107,
    "start_time": "2023-03-08T08:44:01.879Z"
   },
   {
    "duration": 62,
    "start_time": "2023-03-08T08:44:01.988Z"
   },
   {
    "duration": 15,
    "start_time": "2023-03-08T08:44:02.052Z"
   },
   {
    "duration": 75,
    "start_time": "2023-03-08T08:44:02.070Z"
   },
   {
    "duration": 81,
    "start_time": "2023-03-08T08:44:02.147Z"
   },
   {
    "duration": 41,
    "start_time": "2023-03-08T08:44:02.230Z"
   },
   {
    "duration": 16,
    "start_time": "2023-03-08T08:44:02.272Z"
   },
   {
    "duration": 50,
    "start_time": "2023-03-08T08:44:02.289Z"
   },
   {
    "duration": 20,
    "start_time": "2023-03-08T08:44:02.341Z"
   },
   {
    "duration": 25,
    "start_time": "2023-03-08T08:44:02.364Z"
   },
   {
    "duration": 43,
    "start_time": "2023-03-08T08:44:02.396Z"
   },
   {
    "duration": 49,
    "start_time": "2023-03-08T08:44:02.441Z"
   },
   {
    "duration": 57,
    "start_time": "2023-03-08T08:44:02.492Z"
   },
   {
    "duration": 3,
    "start_time": "2023-03-08T08:44:02.551Z"
   },
   {
    "duration": 81,
    "start_time": "2023-03-08T08:44:02.556Z"
   },
   {
    "duration": 88,
    "start_time": "2023-03-08T08:44:02.686Z"
   },
   {
    "duration": 145,
    "start_time": "2023-03-08T08:44:02.792Z"
   },
   {
    "duration": 53,
    "start_time": "2023-03-08T08:44:02.939Z"
   },
   {
    "duration": 145,
    "start_time": "2023-03-08T08:44:02.994Z"
   },
   {
    "duration": 9,
    "start_time": "2023-03-08T08:44:03.141Z"
   },
   {
    "duration": 7,
    "start_time": "2023-03-08T08:44:03.152Z"
   },
   {
    "duration": 9169,
    "start_time": "2023-03-08T08:44:03.161Z"
   },
   {
    "duration": 60,
    "start_time": "2023-03-08T08:44:12.333Z"
   },
   {
    "duration": 117,
    "start_time": "2023-03-08T08:44:12.405Z"
   },
   {
    "duration": 143,
    "start_time": "2023-03-08T08:53:36.235Z"
   },
   {
    "duration": 3,
    "start_time": "2023-03-08T08:53:57.246Z"
   },
   {
    "duration": 13,
    "start_time": "2023-03-08T08:54:02.258Z"
   },
   {
    "duration": 3,
    "start_time": "2023-03-08T08:54:24.356Z"
   },
   {
    "duration": 22,
    "start_time": "2023-03-08T08:54:25.441Z"
   },
   {
    "duration": 4,
    "start_time": "2023-03-08T08:55:07.831Z"
   },
   {
    "duration": 74,
    "start_time": "2023-03-08T08:55:15.499Z"
   },
   {
    "duration": 44,
    "start_time": "2023-03-08T08:57:23.168Z"
   },
   {
    "duration": 31,
    "start_time": "2023-03-08T08:58:27.974Z"
   },
   {
    "duration": 5766,
    "start_time": "2023-03-08T09:06:12.108Z"
   },
   {
    "duration": 89,
    "start_time": "2023-03-08T09:06:24.107Z"
   },
   {
    "duration": 17622,
    "start_time": "2023-03-08T09:09:27.554Z"
   },
   {
    "duration": 6,
    "start_time": "2023-03-08T09:10:03.412Z"
   },
   {
    "duration": 16659,
    "start_time": "2023-03-08T09:10:26.334Z"
   },
   {
    "duration": 6,
    "start_time": "2023-03-08T09:10:54.999Z"
   },
   {
    "duration": 11,
    "start_time": "2023-03-08T09:19:23.589Z"
   },
   {
    "duration": 3,
    "start_time": "2023-03-08T09:53:54.185Z"
   },
   {
    "duration": 3,
    "start_time": "2023-03-08T09:53:56.264Z"
   },
   {
    "duration": 4,
    "start_time": "2023-03-08T09:54:15.009Z"
   },
   {
    "duration": 4,
    "start_time": "2023-03-08T09:54:15.916Z"
   },
   {
    "duration": 387,
    "start_time": "2023-03-08T09:55:31.529Z"
   },
   {
    "duration": 7,
    "start_time": "2023-03-08T09:55:34.035Z"
   },
   {
    "duration": 147611,
    "start_time": "2023-03-08T09:56:22.413Z"
   },
   {
    "duration": 4,
    "start_time": "2023-03-08T09:59:17.859Z"
   },
   {
    "duration": 148907,
    "start_time": "2023-03-08T09:59:25.494Z"
   },
   {
    "duration": 111,
    "start_time": "2023-03-08T10:03:32.905Z"
   },
   {
    "duration": 5,
    "start_time": "2023-03-08T10:03:37.907Z"
   },
   {
    "duration": 8,
    "start_time": "2023-03-08T10:03:59.105Z"
   },
   {
    "duration": 6,
    "start_time": "2023-03-08T10:04:29.505Z"
   },
   {
    "duration": 2,
    "start_time": "2023-03-08T10:09:47.910Z"
   },
   {
    "duration": 13,
    "start_time": "2023-03-08T10:09:49.279Z"
   },
   {
    "duration": 170,
    "start_time": "2023-03-08T10:10:19.734Z"
   },
   {
    "duration": 5,
    "start_time": "2023-03-08T10:10:20.928Z"
   },
   {
    "duration": 6,
    "start_time": "2023-03-08T10:10:23.571Z"
   },
   {
    "duration": 3,
    "start_time": "2023-03-08T10:11:01.324Z"
   },
   {
    "duration": 12306,
    "start_time": "2023-03-08T10:11:04.353Z"
   },
   {
    "duration": 5,
    "start_time": "2023-03-08T10:11:24.085Z"
   },
   {
    "duration": 6,
    "start_time": "2023-03-08T10:11:25.208Z"
   },
   {
    "duration": 3,
    "start_time": "2023-03-08T10:11:36.947Z"
   },
   {
    "duration": 3,
    "start_time": "2023-03-08T10:14:18.970Z"
   },
   {
    "duration": 23815,
    "start_time": "2023-03-08T10:14:19.939Z"
   },
   {
    "duration": 127,
    "start_time": "2023-03-08T10:14:48.116Z"
   },
   {
    "duration": 10,
    "start_time": "2023-03-08T10:14:49.533Z"
   },
   {
    "duration": 5,
    "start_time": "2023-03-08T10:14:59.919Z"
   },
   {
    "duration": 7,
    "start_time": "2023-03-08T10:15:23.474Z"
   },
   {
    "duration": 149427,
    "start_time": "2023-03-08T10:15:24.455Z"
   },
   {
    "duration": 5,
    "start_time": "2023-03-08T10:18:31.605Z"
   },
   {
    "duration": 4,
    "start_time": "2023-03-08T10:20:56.270Z"
   },
   {
    "duration": 33623,
    "start_time": "2023-03-08T10:20:57.745Z"
   },
   {
    "duration": 13,
    "start_time": "2023-03-08T10:22:28.297Z"
   },
   {
    "duration": 8,
    "start_time": "2023-03-08T10:22:29.474Z"
   },
   {
    "duration": 11,
    "start_time": "2023-03-08T10:27:32.229Z"
   },
   {
    "duration": 18,
    "start_time": "2023-03-08T10:27:42.067Z"
   },
   {
    "duration": 3,
    "start_time": "2023-03-08T10:30:19.347Z"
   },
   {
    "duration": 15,
    "start_time": "2023-03-08T10:30:20.169Z"
   },
   {
    "duration": 8,
    "start_time": "2023-03-08T10:30:21.026Z"
   },
   {
    "duration": 5,
    "start_time": "2023-03-08T10:30:23.886Z"
   },
   {
    "duration": 12,
    "start_time": "2023-03-08T10:30:30.440Z"
   },
   {
    "duration": 1381,
    "start_time": "2023-03-08T10:36:26.466Z"
   },
   {
    "duration": 287,
    "start_time": "2023-03-08T10:36:27.849Z"
   },
   {
    "duration": 3,
    "start_time": "2023-03-08T10:36:28.137Z"
   },
   {
    "duration": 791,
    "start_time": "2023-03-08T10:36:28.141Z"
   },
   {
    "duration": 30,
    "start_time": "2023-03-08T10:36:28.934Z"
   },
   {
    "duration": 36,
    "start_time": "2023-03-08T10:36:28.965Z"
   },
   {
    "duration": 22,
    "start_time": "2023-03-08T10:36:29.003Z"
   },
   {
    "duration": 47,
    "start_time": "2023-03-08T10:36:29.027Z"
   },
   {
    "duration": 15,
    "start_time": "2023-03-08T10:36:29.076Z"
   },
   {
    "duration": 22,
    "start_time": "2023-03-08T10:36:29.092Z"
   },
   {
    "duration": 280,
    "start_time": "2023-03-08T10:36:29.117Z"
   },
   {
    "duration": 146,
    "start_time": "2023-03-08T10:36:29.398Z"
   },
   {
    "duration": 278,
    "start_time": "2023-03-08T10:36:29.546Z"
   },
   {
    "duration": 4,
    "start_time": "2023-03-08T10:36:29.828Z"
   },
   {
    "duration": 6,
    "start_time": "2023-03-08T10:36:29.833Z"
   },
   {
    "duration": 6,
    "start_time": "2023-03-08T10:36:29.841Z"
   },
   {
    "duration": 25,
    "start_time": "2023-03-08T10:36:29.849Z"
   },
   {
    "duration": 14,
    "start_time": "2023-03-08T10:36:29.877Z"
   },
   {
    "duration": 6,
    "start_time": "2023-03-08T10:36:29.893Z"
   },
   {
    "duration": 19,
    "start_time": "2023-03-08T10:36:29.900Z"
   },
   {
    "duration": 9,
    "start_time": "2023-03-08T10:36:29.920Z"
   },
   {
    "duration": 7,
    "start_time": "2023-03-08T10:36:29.930Z"
   },
   {
    "duration": 7,
    "start_time": "2023-03-08T10:36:29.939Z"
   },
   {
    "duration": 33,
    "start_time": "2023-03-08T10:36:29.947Z"
   },
   {
    "duration": 36,
    "start_time": "2023-03-08T10:36:29.981Z"
   },
   {
    "duration": 25,
    "start_time": "2023-03-08T10:36:30.018Z"
   },
   {
    "duration": 49,
    "start_time": "2023-03-08T10:36:30.045Z"
   },
   {
    "duration": 5,
    "start_time": "2023-03-08T10:36:30.096Z"
   },
   {
    "duration": 23,
    "start_time": "2023-03-08T10:36:30.103Z"
   },
   {
    "duration": 23190,
    "start_time": "2023-03-08T10:36:30.128Z"
   },
   {
    "duration": 16,
    "start_time": "2023-03-08T10:36:53.320Z"
   },
   {
    "duration": 135,
    "start_time": "2023-03-08T10:36:53.338Z"
   },
   {
    "duration": 115,
    "start_time": "2023-03-08T10:36:53.475Z"
   },
   {
    "duration": 6,
    "start_time": "2023-03-08T10:36:53.592Z"
   },
   {
    "duration": 682,
    "start_time": "2023-03-08T10:36:53.600Z"
   },
   {
    "duration": 597,
    "start_time": "2023-03-08T10:36:54.284Z"
   },
   {
    "duration": 573,
    "start_time": "2023-03-08T10:36:54.883Z"
   },
   {
    "duration": 351,
    "start_time": "2023-03-08T10:36:55.457Z"
   },
   {
    "duration": 4,
    "start_time": "2023-03-08T10:36:55.810Z"
   },
   {
    "duration": 12,
    "start_time": "2023-03-08T10:36:55.815Z"
   },
   {
    "duration": 4,
    "start_time": "2023-03-08T10:36:55.965Z"
   },
   {
    "duration": 8,
    "start_time": "2023-03-08T10:36:55.973Z"
   },
   {
    "duration": 13,
    "start_time": "2023-03-08T10:36:55.983Z"
   },
   {
    "duration": 9,
    "start_time": "2023-03-08T10:36:55.998Z"
   },
   {
    "duration": 597,
    "start_time": "2023-03-08T10:36:56.009Z"
   },
   {
    "duration": 4,
    "start_time": "2023-03-08T10:36:56.608Z"
   },
   {
    "duration": 13,
    "start_time": "2023-03-08T10:36:56.614Z"
   },
   {
    "duration": 23,
    "start_time": "2023-03-08T10:36:56.629Z"
   },
   {
    "duration": 6,
    "start_time": "2023-03-08T10:36:56.653Z"
   },
   {
    "duration": 15,
    "start_time": "2023-03-08T10:36:56.673Z"
   },
   {
    "duration": 3,
    "start_time": "2023-03-08T10:36:56.690Z"
   },
   {
    "duration": 8,
    "start_time": "2023-03-08T10:36:56.694Z"
   },
   {
    "duration": 9,
    "start_time": "2023-03-08T10:36:56.703Z"
   },
   {
    "duration": 12,
    "start_time": "2023-03-08T10:36:56.713Z"
   },
   {
    "duration": 21,
    "start_time": "2023-03-08T10:36:56.727Z"
   },
   {
    "duration": 32,
    "start_time": "2023-03-08T10:36:56.750Z"
   },
   {
    "duration": 8,
    "start_time": "2023-03-08T10:36:56.784Z"
   },
   {
    "duration": 17,
    "start_time": "2023-03-08T10:36:56.793Z"
   },
   {
    "duration": 12,
    "start_time": "2023-03-08T10:36:56.812Z"
   },
   {
    "duration": 11,
    "start_time": "2023-03-08T10:36:56.826Z"
   },
   {
    "duration": 21,
    "start_time": "2023-03-08T10:36:56.838Z"
   },
   {
    "duration": 15,
    "start_time": "2023-03-08T10:36:56.874Z"
   },
   {
    "duration": 30,
    "start_time": "2023-03-08T10:36:56.890Z"
   },
   {
    "duration": 11,
    "start_time": "2023-03-08T10:36:56.922Z"
   },
   {
    "duration": 76,
    "start_time": "2023-03-08T10:36:56.935Z"
   },
   {
    "duration": 14,
    "start_time": "2023-03-08T10:36:57.013Z"
   },
   {
    "duration": 6,
    "start_time": "2023-03-08T10:36:57.029Z"
   },
   {
    "duration": 32,
    "start_time": "2023-03-08T10:36:57.036Z"
   },
   {
    "duration": 37,
    "start_time": "2023-03-08T10:36:57.070Z"
   },
   {
    "duration": 29,
    "start_time": "2023-03-08T10:36:57.109Z"
   },
   {
    "duration": 2,
    "start_time": "2023-03-08T10:36:57.140Z"
   },
   {
    "duration": 34,
    "start_time": "2023-03-08T10:36:57.144Z"
   },
   {
    "duration": 192,
    "start_time": "2023-03-08T10:36:57.181Z"
   },
   {
    "duration": 6,
    "start_time": "2023-03-08T10:36:57.375Z"
   },
   {
    "duration": 7,
    "start_time": "2023-03-08T10:36:57.383Z"
   },
   {
    "duration": 88,
    "start_time": "2023-03-08T10:36:57.393Z"
   },
   {
    "duration": 9,
    "start_time": "2023-03-08T10:36:57.573Z"
   },
   {
    "duration": 13,
    "start_time": "2023-03-08T10:36:57.584Z"
   },
   {
    "duration": 5474,
    "start_time": "2023-03-08T10:36:57.599Z"
   },
   {
    "duration": 12,
    "start_time": "2023-03-08T10:37:03.076Z"
   },
   {
    "duration": 8,
    "start_time": "2023-03-08T10:37:03.173Z"
   },
   {
    "duration": 5,
    "start_time": "2023-03-08T10:37:03.183Z"
   },
   {
    "duration": 21,
    "start_time": "2023-03-08T10:37:03.189Z"
   },
   {
    "duration": 162,
    "start_time": "2023-03-08T10:37:03.212Z"
   },
   {
    "duration": 99,
    "start_time": "2023-03-08T10:37:03.377Z"
   },
   {
    "duration": 8,
    "start_time": "2023-03-08T10:37:03.478Z"
   },
   {
    "duration": 16,
    "start_time": "2023-03-08T10:37:03.488Z"
   },
   {
    "duration": 408,
    "start_time": "2023-03-08T10:37:03.507Z"
   },
   {
    "duration": 7,
    "start_time": "2023-03-08T10:37:03.917Z"
   },
   {
    "duration": 10,
    "start_time": "2023-03-08T10:37:03.926Z"
   },
   {
    "duration": 17,
    "start_time": "2023-03-08T10:37:03.937Z"
   },
   {
    "duration": 8,
    "start_time": "2023-03-08T10:37:03.956Z"
   },
   {
    "duration": 7,
    "start_time": "2023-03-08T10:37:03.966Z"
   },
   {
    "duration": 142724,
    "start_time": "2023-03-08T10:37:03.974Z"
   },
   {
    "duration": 4,
    "start_time": "2023-03-08T10:39:26.700Z"
   },
   {
    "duration": 9,
    "start_time": "2023-03-08T10:39:26.705Z"
   },
   {
    "duration": 12698,
    "start_time": "2023-03-08T10:39:26.717Z"
   },
   {
    "duration": 4,
    "start_time": "2023-03-08T10:39:39.417Z"
   },
   {
    "duration": 8,
    "start_time": "2023-03-08T10:39:39.423Z"
   },
   {
    "duration": 6,
    "start_time": "2023-03-08T10:39:39.432Z"
   },
   {
    "duration": 4,
    "start_time": "2023-03-08T10:39:39.440Z"
   },
   {
    "duration": 23280,
    "start_time": "2023-03-08T10:39:39.445Z"
   },
   {
    "duration": 131,
    "start_time": "2023-03-08T10:40:02.727Z"
   },
   {
    "duration": 5,
    "start_time": "2023-03-08T10:40:02.860Z"
   },
   {
    "duration": 15,
    "start_time": "2023-03-08T10:40:02.873Z"
   },
   {
    "duration": 17,
    "start_time": "2023-03-08T10:40:02.890Z"
   },
   {
    "duration": 766,
    "start_time": "2023-03-08T10:40:02.908Z"
   },
   {
    "duration": 4,
    "start_time": "2023-03-08T10:40:03.676Z"
   },
   {
    "duration": 5,
    "start_time": "2023-03-08T10:40:03.681Z"
   },
   {
    "duration": 30594,
    "start_time": "2023-03-08T10:40:03.687Z"
   },
   {
    "duration": 9,
    "start_time": "2023-03-08T10:40:34.284Z"
   },
   {
    "duration": 9,
    "start_time": "2023-03-08T10:40:34.297Z"
   },
   {
    "duration": 77,
    "start_time": "2023-03-08T10:40:34.310Z"
   },
   {
    "duration": 4,
    "start_time": "2023-03-08T10:41:08.463Z"
   },
   {
    "duration": 5,
    "start_time": "2023-03-08T10:42:28.056Z"
   },
   {
    "duration": 4,
    "start_time": "2023-03-08T10:42:29.529Z"
   },
   {
    "duration": 5,
    "start_time": "2023-03-08T10:43:07.193Z"
   },
   {
    "duration": 5,
    "start_time": "2023-03-08T10:43:10.626Z"
   },
   {
    "duration": 146,
    "start_time": "2023-03-08T10:43:20.852Z"
   },
   {
    "duration": 6,
    "start_time": "2023-03-08T10:43:24.857Z"
   },
   {
    "duration": 4,
    "start_time": "2023-03-08T10:43:25.732Z"
   },
   {
    "duration": 8,
    "start_time": "2023-03-08T10:43:26.884Z"
   },
   {
    "duration": 428,
    "start_time": "2023-03-08T10:49:57.853Z"
   },
   {
    "duration": 12,
    "start_time": "2023-03-08T10:49:59.424Z"
   },
   {
    "duration": 7,
    "start_time": "2023-03-08T10:50:00.471Z"
   },
   {
    "duration": 5,
    "start_time": "2023-03-08T10:50:17.909Z"
   },
   {
    "duration": 5,
    "start_time": "2023-03-08T10:50:25.854Z"
   },
   {
    "duration": 3,
    "start_time": "2023-03-08T10:56:07.746Z"
   },
   {
    "duration": 3,
    "start_time": "2023-03-08T10:56:08.676Z"
   },
   {
    "duration": 9967,
    "start_time": "2023-03-08T10:56:09.807Z"
   },
   {
    "duration": 4,
    "start_time": "2023-03-08T10:56:59.768Z"
   },
   {
    "duration": 5,
    "start_time": "2023-03-08T10:57:00.420Z"
   },
   {
    "duration": 3,
    "start_time": "2023-03-08T10:57:03.025Z"
   },
   {
    "duration": 44,
    "start_time": "2023-03-08T10:57:03.929Z"
   },
   {
    "duration": 6,
    "start_time": "2023-03-08T10:57:04.821Z"
   },
   {
    "duration": 5,
    "start_time": "2023-03-08T10:57:06.009Z"
   },
   {
    "duration": 4,
    "start_time": "2023-03-08T10:57:06.876Z"
   },
   {
    "duration": 3,
    "start_time": "2023-03-08T11:02:29.446Z"
   },
   {
    "duration": 1016,
    "start_time": "2023-03-08T11:02:30.289Z"
   },
   {
    "duration": 7,
    "start_time": "2023-03-08T11:02:31.308Z"
   },
   {
    "duration": 4,
    "start_time": "2023-03-08T11:02:31.968Z"
   },
   {
    "duration": 4,
    "start_time": "2023-03-08T11:02:32.932Z"
   },
   {
    "duration": 3,
    "start_time": "2023-03-08T11:04:01.328Z"
   },
   {
    "duration": 354,
    "start_time": "2023-03-08T11:04:02.924Z"
   },
   {
    "duration": 9,
    "start_time": "2023-03-08T11:04:04.960Z"
   },
   {
    "duration": 5,
    "start_time": "2023-03-08T11:04:05.994Z"
   },
   {
    "duration": 4,
    "start_time": "2023-03-08T11:04:06.926Z"
   },
   {
    "duration": 3,
    "start_time": "2023-03-08T11:04:21.892Z"
   },
   {
    "duration": 3,
    "start_time": "2023-03-08T11:04:42.432Z"
   },
   {
    "duration": 343340,
    "start_time": "2023-03-08T11:05:00.004Z"
   },
   {
    "duration": 4,
    "start_time": "2023-03-08T11:11:03.944Z"
   },
   {
    "duration": 5,
    "start_time": "2023-03-08T11:11:05.558Z"
   },
   {
    "duration": 3,
    "start_time": "2023-03-08T11:11:16.735Z"
   },
   {
    "duration": 33503,
    "start_time": "2023-03-08T11:11:28.695Z"
   },
   {
    "duration": 7,
    "start_time": "2023-03-08T11:19:17.966Z"
   },
   {
    "duration": 7,
    "start_time": "2023-03-08T11:19:20.459Z"
   },
   {
    "duration": 5,
    "start_time": "2023-03-08T11:19:22.736Z"
   },
   {
    "duration": 4,
    "start_time": "2023-03-08T11:24:55.269Z"
   },
   {
    "duration": 58335,
    "start_time": "2023-03-08T11:24:56.219Z"
   },
   {
    "duration": 147,
    "start_time": "2023-03-08T11:25:54.556Z"
   },
   {
    "duration": 6,
    "start_time": "2023-03-08T11:25:54.704Z"
   },
   {
    "duration": 8,
    "start_time": "2023-03-08T11:25:54.712Z"
   },
   {
    "duration": 6,
    "start_time": "2023-03-08T11:25:54.721Z"
   },
   {
    "duration": 8,
    "start_time": "2023-03-08T11:25:54.729Z"
   },
   {
    "duration": 177557,
    "start_time": "2023-03-08T11:25:54.738Z"
   },
   {
    "duration": 6,
    "start_time": "2023-03-08T11:28:52.297Z"
   },
   {
    "duration": 11,
    "start_time": "2023-03-08T11:28:52.305Z"
   },
   {
    "duration": 7,
    "start_time": "2023-03-08T11:28:52.319Z"
   },
   {
    "duration": 33309,
    "start_time": "2023-03-08T11:28:52.328Z"
   },
   {
    "duration": 10,
    "start_time": "2023-03-08T11:29:25.639Z"
   },
   {
    "duration": 8,
    "start_time": "2023-03-08T11:29:25.651Z"
   },
   {
    "duration": 14,
    "start_time": "2023-03-08T11:29:25.661Z"
   },
   {
    "duration": 17,
    "start_time": "2023-03-08T11:29:25.677Z"
   },
   {
    "duration": 4,
    "start_time": "2023-03-08T11:29:44.992Z"
   },
   {
    "duration": 4,
    "start_time": "2023-03-08T11:29:45.854Z"
   },
   {
    "duration": 5,
    "start_time": "2023-03-08T11:29:51.097Z"
   },
   {
    "duration": 3,
    "start_time": "2023-03-08T11:30:25.305Z"
   },
   {
    "duration": 38015,
    "start_time": "2023-03-08T11:30:26.954Z"
   },
   {
    "duration": 9,
    "start_time": "2023-03-08T11:31:04.974Z"
   },
   {
    "duration": 25,
    "start_time": "2023-03-08T11:31:04.985Z"
   },
   {
    "duration": 19,
    "start_time": "2023-03-08T11:31:05.013Z"
   },
   {
    "duration": 34,
    "start_time": "2023-03-08T11:31:05.034Z"
   },
   {
    "duration": 2,
    "start_time": "2023-03-08T11:31:43.959Z"
   },
   {
    "duration": 4,
    "start_time": "2023-03-08T11:31:45.165Z"
   },
   {
    "duration": 31,
    "start_time": "2023-03-08T11:42:56.395Z"
   },
   {
    "duration": 111,
    "start_time": "2023-03-08T11:43:25.773Z"
   },
   {
    "duration": 87,
    "start_time": "2023-03-08T11:43:31.416Z"
   },
   {
    "duration": 19,
    "start_time": "2023-03-08T11:43:35.815Z"
   },
   {
    "duration": 74,
    "start_time": "2023-03-08T11:43:53.092Z"
   },
   {
    "duration": 72,
    "start_time": "2023-03-08T11:44:04.458Z"
   },
   {
    "duration": 13,
    "start_time": "2023-03-08T11:45:08.656Z"
   },
   {
    "duration": 13,
    "start_time": "2023-03-08T11:45:24.321Z"
   },
   {
    "duration": 35,
    "start_time": "2023-03-08T11:46:06.773Z"
   },
   {
    "duration": 15,
    "start_time": "2023-03-08T11:46:24.616Z"
   },
   {
    "duration": 20,
    "start_time": "2023-03-08T11:47:17.578Z"
   },
   {
    "duration": 12,
    "start_time": "2023-03-08T11:49:12.841Z"
   },
   {
    "duration": 17,
    "start_time": "2023-03-08T11:49:27.606Z"
   },
   {
    "duration": 42,
    "start_time": "2023-03-08T11:49:43.452Z"
   },
   {
    "duration": 18,
    "start_time": "2023-03-08T11:49:49.161Z"
   },
   {
    "duration": 3,
    "start_time": "2023-03-08T11:51:23.118Z"
   },
   {
    "duration": 3,
    "start_time": "2023-03-08T11:51:23.992Z"
   },
   {
    "duration": 14,
    "start_time": "2023-03-08T11:53:38.173Z"
   },
   {
    "duration": 5,
    "start_time": "2023-03-08T11:54:04.975Z"
   },
   {
    "duration": 9,
    "start_time": "2023-03-08T11:54:09.436Z"
   },
   {
    "duration": 20,
    "start_time": "2023-03-08T11:54:10.576Z"
   },
   {
    "duration": 3,
    "start_time": "2023-03-08T11:54:11.970Z"
   },
   {
    "duration": 3,
    "start_time": "2023-03-08T11:54:13.776Z"
   },
   {
    "duration": 19,
    "start_time": "2023-03-08T11:54:14.943Z"
   },
   {
    "duration": 9,
    "start_time": "2023-03-08T11:57:49.198Z"
   },
   {
    "duration": 68,
    "start_time": "2023-03-08T11:57:51.234Z"
   },
   {
    "duration": 5,
    "start_time": "2023-03-08T11:58:23.641Z"
   },
   {
    "duration": 572,
    "start_time": "2023-03-08T11:58:26.576Z"
   },
   {
    "duration": 8,
    "start_time": "2023-03-08T12:00:01.140Z"
   },
   {
    "duration": 5,
    "start_time": "2023-03-08T12:00:01.913Z"
   },
   {
    "duration": 561,
    "start_time": "2023-03-08T12:00:02.701Z"
   },
   {
    "duration": 4,
    "start_time": "2023-03-08T12:00:03.501Z"
   },
   {
    "duration": 4,
    "start_time": "2023-03-08T12:00:05.165Z"
   },
   {
    "duration": 3,
    "start_time": "2023-03-08T12:00:06.146Z"
   },
   {
    "duration": 8,
    "start_time": "2023-03-08T12:00:07.366Z"
   },
   {
    "duration": 4,
    "start_time": "2023-03-08T12:01:06.781Z"
   },
   {
    "duration": 16,
    "start_time": "2023-03-08T12:01:07.656Z"
   },
   {
    "duration": 9,
    "start_time": "2023-03-08T12:03:40.417Z"
   },
   {
    "duration": 4,
    "start_time": "2023-03-08T12:03:41.344Z"
   },
   {
    "duration": 250,
    "start_time": "2023-03-08T12:03:42.241Z"
   },
   {
    "duration": 6,
    "start_time": "2023-03-08T12:03:43.490Z"
   },
   {
    "duration": 3,
    "start_time": "2023-03-08T12:03:44.707Z"
   },
   {
    "duration": 3,
    "start_time": "2023-03-08T12:03:45.727Z"
   },
   {
    "duration": 5,
    "start_time": "2023-03-08T12:03:46.808Z"
   },
   {
    "duration": 5,
    "start_time": "2023-03-08T12:03:47.933Z"
   },
   {
    "duration": 35,
    "start_time": "2023-03-08T12:03:49.478Z"
   },
   {
    "duration": 5,
    "start_time": "2023-03-08T12:03:50.824Z"
   },
   {
    "duration": 3,
    "start_time": "2023-03-08T12:03:51.836Z"
   },
   {
    "duration": 4,
    "start_time": "2023-03-08T12:04:02.036Z"
   },
   {
    "duration": 10,
    "start_time": "2023-03-08T12:05:40.560Z"
   },
   {
    "duration": 6,
    "start_time": "2023-03-08T12:05:57.618Z"
   },
   {
    "duration": 17,
    "start_time": "2023-03-08T12:06:39.715Z"
   },
   {
    "duration": 6,
    "start_time": "2023-03-08T12:07:12.460Z"
   },
   {
    "duration": 346,
    "start_time": "2023-03-08T12:11:06.788Z"
   },
   {
    "duration": 1401,
    "start_time": "2023-03-08T12:14:07.759Z"
   },
   {
    "duration": 300,
    "start_time": "2023-03-08T12:14:09.163Z"
   },
   {
    "duration": 3,
    "start_time": "2023-03-08T12:14:09.464Z"
   },
   {
    "duration": 855,
    "start_time": "2023-03-08T12:14:09.468Z"
   },
   {
    "duration": 27,
    "start_time": "2023-03-08T12:14:10.326Z"
   },
   {
    "duration": 53,
    "start_time": "2023-03-08T12:14:10.355Z"
   },
   {
    "duration": 27,
    "start_time": "2023-03-08T12:14:10.410Z"
   },
   {
    "duration": 51,
    "start_time": "2023-03-08T12:14:10.439Z"
   },
   {
    "duration": 17,
    "start_time": "2023-03-08T12:14:10.493Z"
   },
   {
    "duration": 24,
    "start_time": "2023-03-08T12:14:10.513Z"
   },
   {
    "duration": 329,
    "start_time": "2023-03-08T12:14:10.540Z"
   },
   {
    "duration": 157,
    "start_time": "2023-03-08T12:14:10.871Z"
   },
   {
    "duration": 301,
    "start_time": "2023-03-08T12:14:11.029Z"
   },
   {
    "duration": 3,
    "start_time": "2023-03-08T12:14:11.333Z"
   },
   {
    "duration": 6,
    "start_time": "2023-03-08T12:14:11.337Z"
   },
   {
    "duration": 11,
    "start_time": "2023-03-08T12:14:11.345Z"
   },
   {
    "duration": 21,
    "start_time": "2023-03-08T12:14:11.358Z"
   },
   {
    "duration": 17,
    "start_time": "2023-03-08T12:14:11.382Z"
   },
   {
    "duration": 8,
    "start_time": "2023-03-08T12:14:11.401Z"
   },
   {
    "duration": 8,
    "start_time": "2023-03-08T12:14:11.410Z"
   },
   {
    "duration": 10,
    "start_time": "2023-03-08T12:14:11.420Z"
   },
   {
    "duration": 8,
    "start_time": "2023-03-08T12:14:11.432Z"
   },
   {
    "duration": 6,
    "start_time": "2023-03-08T12:14:11.441Z"
   },
   {
    "duration": 18,
    "start_time": "2023-03-08T12:14:11.474Z"
   },
   {
    "duration": 42,
    "start_time": "2023-03-08T12:14:11.495Z"
   },
   {
    "duration": 37,
    "start_time": "2023-03-08T12:14:11.538Z"
   },
   {
    "duration": 34,
    "start_time": "2023-03-08T12:14:11.578Z"
   },
   {
    "duration": 8,
    "start_time": "2023-03-08T12:14:11.614Z"
   },
   {
    "duration": 8,
    "start_time": "2023-03-08T12:14:11.624Z"
   },
   {
    "duration": 25742,
    "start_time": "2023-03-08T12:14:11.634Z"
   },
   {
    "duration": 24,
    "start_time": "2023-03-08T12:14:37.378Z"
   },
   {
    "duration": 193,
    "start_time": "2023-03-08T12:14:37.404Z"
   },
   {
    "duration": 154,
    "start_time": "2023-03-08T12:14:37.599Z"
   },
   {
    "duration": 731,
    "start_time": "2023-03-08T12:14:37.755Z"
   },
   {
    "duration": 724,
    "start_time": "2023-03-08T12:14:38.488Z"
   },
   {
    "duration": 626,
    "start_time": "2023-03-08T12:14:39.214Z"
   },
   {
    "duration": 459,
    "start_time": "2023-03-08T12:14:39.842Z"
   },
   {
    "duration": 6,
    "start_time": "2023-03-08T12:14:40.304Z"
   },
   {
    "duration": 11,
    "start_time": "2023-03-08T12:14:40.312Z"
   },
   {
    "duration": 11,
    "start_time": "2023-03-08T12:14:40.325Z"
   },
   {
    "duration": 6,
    "start_time": "2023-03-08T12:14:40.533Z"
   },
   {
    "duration": 47,
    "start_time": "2023-03-08T12:14:40.542Z"
   },
   {
    "duration": 16,
    "start_time": "2023-03-08T12:14:40.592Z"
   },
   {
    "duration": 737,
    "start_time": "2023-03-08T12:14:40.610Z"
   },
   {
    "duration": 4,
    "start_time": "2023-03-08T12:14:41.349Z"
   },
   {
    "duration": 28,
    "start_time": "2023-03-08T12:14:41.355Z"
   },
   {
    "duration": 26,
    "start_time": "2023-03-08T12:14:41.389Z"
   },
   {
    "duration": 6,
    "start_time": "2023-03-08T12:14:41.418Z"
   },
   {
    "duration": 29,
    "start_time": "2023-03-08T12:14:41.426Z"
   },
   {
    "duration": 4,
    "start_time": "2023-03-08T12:14:41.457Z"
   },
   {
    "duration": 20,
    "start_time": "2023-03-08T12:14:41.472Z"
   },
   {
    "duration": 14,
    "start_time": "2023-03-08T12:14:41.495Z"
   },
   {
    "duration": 11,
    "start_time": "2023-03-08T12:14:41.511Z"
   },
   {
    "duration": 20,
    "start_time": "2023-03-08T12:14:41.524Z"
   },
   {
    "duration": 17,
    "start_time": "2023-03-08T12:14:41.546Z"
   },
   {
    "duration": 16,
    "start_time": "2023-03-08T12:14:41.565Z"
   },
   {
    "duration": 29,
    "start_time": "2023-03-08T12:14:41.583Z"
   },
   {
    "duration": 12,
    "start_time": "2023-03-08T12:14:41.615Z"
   },
   {
    "duration": 7,
    "start_time": "2023-03-08T12:14:41.628Z"
   },
   {
    "duration": 8,
    "start_time": "2023-03-08T12:14:41.637Z"
   },
   {
    "duration": 36,
    "start_time": "2023-03-08T12:14:41.647Z"
   },
   {
    "duration": 45,
    "start_time": "2023-03-08T12:14:41.690Z"
   },
   {
    "duration": 11,
    "start_time": "2023-03-08T12:14:41.737Z"
   },
   {
    "duration": 31,
    "start_time": "2023-03-08T12:14:41.751Z"
   },
   {
    "duration": 19,
    "start_time": "2023-03-08T12:14:41.789Z"
   },
   {
    "duration": 6,
    "start_time": "2023-03-08T12:14:41.810Z"
   },
   {
    "duration": 9,
    "start_time": "2023-03-08T12:14:41.818Z"
   },
   {
    "duration": 27,
    "start_time": "2023-03-08T12:14:41.830Z"
   },
   {
    "duration": 35,
    "start_time": "2023-03-08T12:14:41.880Z"
   },
   {
    "duration": 16,
    "start_time": "2023-03-08T12:14:41.917Z"
   },
   {
    "duration": 46,
    "start_time": "2023-03-08T12:14:41.935Z"
   },
   {
    "duration": 116,
    "start_time": "2023-03-08T12:14:41.984Z"
   },
   {
    "duration": 190,
    "start_time": "2023-03-08T12:14:42.104Z"
   },
   {
    "duration": 13,
    "start_time": "2023-03-08T12:14:42.296Z"
   },
   {
    "duration": 12,
    "start_time": "2023-03-08T12:14:42.311Z"
   },
   {
    "duration": 7863,
    "start_time": "2023-03-08T12:14:42.326Z"
   },
   {
    "duration": 87,
    "start_time": "2023-03-08T12:14:50.192Z"
   },
   {
    "duration": 129,
    "start_time": "2023-03-08T12:14:50.284Z"
   },
   {
    "duration": 18,
    "start_time": "2023-03-08T12:14:50.417Z"
   },
   {
    "duration": 67,
    "start_time": "2023-03-08T12:14:50.438Z"
   },
   {
    "duration": 112,
    "start_time": "2023-03-08T12:14:50.575Z"
   },
   {
    "duration": 130,
    "start_time": "2023-03-08T12:14:50.693Z"
   },
   {
    "duration": 41,
    "start_time": "2023-03-08T12:14:50.825Z"
   },
   {
    "duration": 32,
    "start_time": "2023-03-08T12:14:50.868Z"
   },
   {
    "duration": 449,
    "start_time": "2023-03-08T12:14:50.902Z"
   },
   {
    "duration": 8,
    "start_time": "2023-03-08T12:14:51.354Z"
   },
   {
    "duration": 15,
    "start_time": "2023-03-08T12:14:51.373Z"
   },
   {
    "duration": 24,
    "start_time": "2023-03-08T12:14:51.390Z"
   },
   {
    "duration": 14,
    "start_time": "2023-03-08T12:14:51.416Z"
   },
   {
    "duration": 26,
    "start_time": "2023-03-08T12:14:51.432Z"
   },
   {
    "duration": 165882,
    "start_time": "2023-03-08T12:14:51.461Z"
   },
   {
    "duration": 4,
    "start_time": "2023-03-08T12:17:37.345Z"
   },
   {
    "duration": 8,
    "start_time": "2023-03-08T12:17:37.351Z"
   },
   {
    "duration": 14626,
    "start_time": "2023-03-08T12:17:37.374Z"
   },
   {
    "duration": 5,
    "start_time": "2023-03-08T12:17:52.002Z"
   },
   {
    "duration": 13,
    "start_time": "2023-03-08T12:17:52.009Z"
   },
   {
    "duration": 15,
    "start_time": "2023-03-08T12:17:52.024Z"
   },
   {
    "duration": 18,
    "start_time": "2023-03-08T12:17:52.041Z"
   },
   {
    "duration": 25480,
    "start_time": "2023-03-08T12:17:52.062Z"
   },
   {
    "duration": 141,
    "start_time": "2023-03-08T12:18:17.544Z"
   },
   {
    "duration": 5,
    "start_time": "2023-03-08T12:18:17.692Z"
   },
   {
    "duration": 7,
    "start_time": "2023-03-08T12:18:17.698Z"
   },
   {
    "duration": 5,
    "start_time": "2023-03-08T12:18:17.706Z"
   },
   {
    "duration": 5,
    "start_time": "2023-03-08T12:18:17.713Z"
   },
   {
    "duration": 289679,
    "start_time": "2023-03-08T12:18:17.719Z"
   },
   {
    "duration": 4,
    "start_time": "2023-03-08T12:23:07.400Z"
   },
   {
    "duration": 6,
    "start_time": "2023-03-08T12:23:07.405Z"
   },
   {
    "duration": 33592,
    "start_time": "2023-03-08T12:23:07.413Z"
   },
   {
    "duration": 10,
    "start_time": "2023-03-08T12:23:41.007Z"
   },
   {
    "duration": 10,
    "start_time": "2023-03-08T12:23:41.018Z"
   },
   {
    "duration": 18,
    "start_time": "2023-03-08T12:23:41.030Z"
   },
   {
    "duration": 17,
    "start_time": "2023-03-08T12:23:41.049Z"
   },
   {
    "duration": 120,
    "start_time": "2023-03-08T12:23:41.067Z"
   },
   {
    "duration": 187,
    "start_time": "2023-03-08T12:23:41.190Z"
   },
   {
    "duration": 190,
    "start_time": "2023-03-08T12:23:41.385Z"
   },
   {
    "duration": 11,
    "start_time": "2023-03-08T12:23:41.578Z"
   },
   {
    "duration": 6,
    "start_time": "2023-03-08T12:23:41.591Z"
   },
   {
    "duration": 7,
    "start_time": "2023-03-08T12:23:41.599Z"
   },
   {
    "duration": 18270,
    "start_time": "2023-03-08T12:23:41.608Z"
   },
   {
    "duration": 10,
    "start_time": "2023-03-08T12:23:59.881Z"
   },
   {
    "duration": 25,
    "start_time": "2023-03-08T12:23:59.975Z"
   },
   {
    "duration": 37,
    "start_time": "2023-03-08T12:24:00.009Z"
   },
   {
    "duration": 32,
    "start_time": "2023-03-08T12:24:00.048Z"
   },
   {
    "duration": 193,
    "start_time": "2023-03-08T12:24:00.083Z"
   },
   {
    "duration": 99,
    "start_time": "2023-03-08T12:24:00.279Z"
   },
   {
    "duration": 59,
    "start_time": "2023-03-08T12:24:00.382Z"
   },
   {
    "duration": 17,
    "start_time": "2023-03-08T12:24:00.443Z"
   },
   {
    "duration": 1128,
    "start_time": "2023-03-08T12:24:00.463Z"
   },
   {
    "duration": 7,
    "start_time": "2023-03-08T12:24:01.593Z"
   },
   {
    "duration": 49,
    "start_time": "2023-03-08T12:24:01.601Z"
   },
   {
    "duration": 26,
    "start_time": "2023-03-08T12:24:01.652Z"
   },
   {
    "duration": 18,
    "start_time": "2023-03-08T12:24:01.684Z"
   },
   {
    "duration": 35,
    "start_time": "2023-03-08T12:24:01.704Z"
   },
   {
    "duration": 354628,
    "start_time": "2023-03-08T12:24:01.741Z"
   },
   {
    "duration": 4,
    "start_time": "2023-03-08T12:29:56.372Z"
   },
   {
    "duration": 21,
    "start_time": "2023-03-08T12:29:56.378Z"
   },
   {
    "duration": 10,
    "start_time": "2023-03-08T12:29:56.400Z"
   },
   {
    "duration": 33220,
    "start_time": "2023-03-08T12:29:56.412Z"
   },
   {
    "duration": 6,
    "start_time": "2023-03-08T12:30:29.633Z"
   },
   {
    "duration": 7,
    "start_time": "2023-03-08T12:30:29.640Z"
   },
   {
    "duration": 16,
    "start_time": "2023-03-08T12:30:29.649Z"
   },
   {
    "duration": 8,
    "start_time": "2023-03-08T12:30:29.667Z"
   },
   {
    "duration": 57905,
    "start_time": "2023-03-08T12:30:29.676Z"
   },
   {
    "duration": 145,
    "start_time": "2023-03-08T12:31:27.583Z"
   },
   {
    "duration": 7,
    "start_time": "2023-03-08T12:31:27.730Z"
   },
   {
    "duration": 7,
    "start_time": "2023-03-08T12:31:27.739Z"
   },
   {
    "duration": 26,
    "start_time": "2023-03-08T12:31:27.748Z"
   },
   {
    "duration": 7,
    "start_time": "2023-03-08T12:31:27.776Z"
   },
   {
    "duration": 464792,
    "start_time": "2023-03-08T12:31:27.784Z"
   },
   {
    "duration": 4,
    "start_time": "2023-03-08T12:39:12.578Z"
   },
   {
    "duration": 12,
    "start_time": "2023-03-08T12:39:12.584Z"
   },
   {
    "duration": 5,
    "start_time": "2023-03-08T12:39:12.597Z"
   },
   {
    "duration": 37806,
    "start_time": "2023-03-08T12:39:12.603Z"
   },
   {
    "duration": 9,
    "start_time": "2023-03-08T12:39:50.412Z"
   },
   {
    "duration": 12,
    "start_time": "2023-03-08T12:39:50.424Z"
   },
   {
    "duration": 19,
    "start_time": "2023-03-08T12:39:50.439Z"
   },
   {
    "duration": 15,
    "start_time": "2023-03-08T12:39:50.460Z"
   },
   {
    "duration": 18,
    "start_time": "2023-03-08T12:39:50.478Z"
   },
   {
    "duration": 17,
    "start_time": "2023-03-08T12:39:50.498Z"
   },
   {
    "duration": 27,
    "start_time": "2023-03-08T12:39:50.518Z"
   },
   {
    "duration": 20,
    "start_time": "2023-03-08T12:39:50.548Z"
   },
   {
    "duration": 421,
    "start_time": "2023-03-08T12:39:50.571Z"
   },
   {
    "duration": 4,
    "start_time": "2023-03-08T12:39:50.994Z"
   },
   {
    "duration": 14,
    "start_time": "2023-03-08T12:39:51.000Z"
   },
   {
    "duration": 8,
    "start_time": "2023-03-08T12:39:51.016Z"
   },
   {
    "duration": 13,
    "start_time": "2023-03-08T12:39:51.026Z"
   },
   {
    "duration": 14,
    "start_time": "2023-03-08T12:39:51.041Z"
   },
   {
    "duration": 38,
    "start_time": "2023-03-08T12:39:51.057Z"
   },
   {
    "duration": 5,
    "start_time": "2023-03-08T12:39:51.096Z"
   },
   {
    "duration": 24,
    "start_time": "2023-03-08T12:39:51.102Z"
   },
   {
    "duration": 8,
    "start_time": "2023-03-08T12:39:51.128Z"
   },
   {
    "duration": 9,
    "start_time": "2023-03-08T12:39:51.138Z"
   },
   {
    "duration": 8,
    "start_time": "2023-03-08T12:39:51.149Z"
   },
   {
    "duration": 0,
    "start_time": "2023-03-09T10:50:11.941Z"
   },
   {
    "duration": 197,
    "start_time": "2023-03-09T10:50:30.526Z"
   },
   {
    "duration": 113,
    "start_time": "2023-03-09T10:50:43.125Z"
   },
   {
    "duration": 51,
    "start_time": "2023-03-09T12:37:27.815Z"
   },
   {
    "duration": 1183,
    "start_time": "2023-03-09T12:37:38.322Z"
   },
   {
    "duration": 322,
    "start_time": "2023-03-09T12:37:39.506Z"
   },
   {
    "duration": 3,
    "start_time": "2023-03-09T12:37:39.829Z"
   },
   {
    "duration": 2739,
    "start_time": "2023-03-09T12:37:39.833Z"
   },
   {
    "duration": 22,
    "start_time": "2023-03-09T12:37:42.574Z"
   },
   {
    "duration": 24,
    "start_time": "2023-03-09T12:37:42.597Z"
   },
   {
    "duration": 21,
    "start_time": "2023-03-09T12:37:42.623Z"
   },
   {
    "duration": 18,
    "start_time": "2023-03-09T12:37:42.645Z"
   },
   {
    "duration": 20,
    "start_time": "2023-03-09T12:37:42.664Z"
   },
   {
    "duration": 16,
    "start_time": "2023-03-09T12:37:42.686Z"
   },
   {
    "duration": 195,
    "start_time": "2023-03-09T12:37:42.703Z"
   },
   {
    "duration": 101,
    "start_time": "2023-03-09T12:37:42.899Z"
   },
   {
    "duration": 212,
    "start_time": "2023-03-09T12:37:43.001Z"
   },
   {
    "duration": 2,
    "start_time": "2023-03-09T12:37:43.216Z"
   },
   {
    "duration": 5,
    "start_time": "2023-03-09T12:37:43.220Z"
   },
   {
    "duration": 7,
    "start_time": "2023-03-09T12:37:43.226Z"
   },
   {
    "duration": 6,
    "start_time": "2023-03-09T12:37:43.234Z"
   },
   {
    "duration": 6,
    "start_time": "2023-03-09T12:37:43.241Z"
   },
   {
    "duration": 5,
    "start_time": "2023-03-09T12:37:43.249Z"
   },
   {
    "duration": 25,
    "start_time": "2023-03-09T12:37:43.256Z"
   },
   {
    "duration": 7,
    "start_time": "2023-03-09T12:37:43.282Z"
   },
   {
    "duration": 7,
    "start_time": "2023-03-09T12:37:43.290Z"
   },
   {
    "duration": 5,
    "start_time": "2023-03-09T12:37:43.299Z"
   },
   {
    "duration": 9,
    "start_time": "2023-03-09T12:37:43.305Z"
   },
   {
    "duration": 25,
    "start_time": "2023-03-09T12:37:43.315Z"
   },
   {
    "duration": 54,
    "start_time": "2023-03-09T12:37:43.342Z"
   },
   {
    "duration": 16,
    "start_time": "2023-03-09T12:37:43.398Z"
   },
   {
    "duration": 6,
    "start_time": "2023-03-09T12:37:43.416Z"
   },
   {
    "duration": 5,
    "start_time": "2023-03-09T12:37:43.424Z"
   },
   {
    "duration": 8218,
    "start_time": "2023-03-09T12:37:43.431Z"
   },
   {
    "duration": 14,
    "start_time": "2023-03-09T12:37:51.650Z"
   },
   {
    "duration": 103,
    "start_time": "2023-03-09T12:37:51.666Z"
   },
   {
    "duration": 87,
    "start_time": "2023-03-09T12:37:51.771Z"
   },
   {
    "duration": 506,
    "start_time": "2023-03-09T12:37:51.860Z"
   },
   {
    "duration": 431,
    "start_time": "2023-03-09T12:37:52.368Z"
   },
   {
    "duration": 429,
    "start_time": "2023-03-09T12:37:52.801Z"
   },
   {
    "duration": 270,
    "start_time": "2023-03-09T12:37:58.063Z"
   },
   {
    "duration": 4,
    "start_time": "2023-03-09T12:43:55.501Z"
   },
   {
    "duration": 11,
    "start_time": "2023-03-09T12:44:07.826Z"
   },
   {
    "duration": 3,
    "start_time": "2023-03-09T18:52:11.432Z"
   },
   {
    "duration": 7,
    "start_time": "2023-03-09T18:52:11.436Z"
   },
   {
    "duration": 11,
    "start_time": "2023-03-09T18:52:11.444Z"
   },
   {
    "duration": 839,
    "start_time": "2023-03-09T18:52:11.456Z"
   },
   {
    "duration": 23,
    "start_time": "2023-03-09T18:52:12.297Z"
   },
   {
    "duration": 17,
    "start_time": "2023-03-09T18:52:12.322Z"
   },
   {
    "duration": 19,
    "start_time": "2023-03-09T18:52:12.340Z"
   },
   {
    "duration": 30,
    "start_time": "2023-03-09T18:52:12.361Z"
   },
   {
    "duration": 13,
    "start_time": "2023-03-09T18:52:12.392Z"
   },
   {
    "duration": 19,
    "start_time": "2023-03-09T18:52:12.407Z"
   },
   {
    "duration": 201,
    "start_time": "2023-03-09T18:52:12.427Z"
   },
   {
    "duration": 100,
    "start_time": "2023-03-09T18:52:12.629Z"
   },
   {
    "duration": 213,
    "start_time": "2023-03-09T18:52:12.732Z"
   },
   {
    "duration": 2,
    "start_time": "2023-03-09T18:52:12.947Z"
   },
   {
    "duration": 5,
    "start_time": "2023-03-09T18:52:12.951Z"
   },
   {
    "duration": 5,
    "start_time": "2023-03-09T18:52:12.958Z"
   },
   {
    "duration": 16,
    "start_time": "2023-03-09T18:52:12.964Z"
   },
   {
    "duration": 4,
    "start_time": "2023-03-09T18:52:12.981Z"
   },
   {
    "duration": 27,
    "start_time": "2023-03-09T18:52:12.992Z"
   },
   {
    "duration": 6,
    "start_time": "2023-03-09T18:52:13.020Z"
   },
   {
    "duration": 6,
    "start_time": "2023-03-09T18:52:13.027Z"
   },
   {
    "duration": 5,
    "start_time": "2023-03-09T18:52:13.034Z"
   },
   {
    "duration": 4,
    "start_time": "2023-03-09T18:52:13.041Z"
   },
   {
    "duration": 21,
    "start_time": "2023-03-09T18:52:13.046Z"
   },
   {
    "duration": 38,
    "start_time": "2023-03-09T18:52:13.069Z"
   },
   {
    "duration": 26,
    "start_time": "2023-03-09T18:52:13.108Z"
   },
   {
    "duration": 18,
    "start_time": "2023-03-09T18:52:13.135Z"
   },
   {
    "duration": 7,
    "start_time": "2023-03-09T18:52:13.154Z"
   },
   {
    "duration": 25,
    "start_time": "2023-03-09T18:52:13.162Z"
   },
   {
    "duration": 8858,
    "start_time": "2023-03-09T18:52:13.188Z"
   },
   {
    "duration": 17,
    "start_time": "2023-03-09T18:52:22.049Z"
   },
   {
    "duration": 112,
    "start_time": "2023-03-09T18:52:22.068Z"
   },
   {
    "duration": 117,
    "start_time": "2023-03-09T18:52:22.182Z"
   },
   {
    "duration": 5,
    "start_time": "2023-03-09T18:52:22.302Z"
   },
   {
    "duration": 16,
    "start_time": "2023-03-09T18:52:22.308Z"
   },
   {
    "duration": 577,
    "start_time": "2023-03-09T18:52:22.326Z"
   },
   {
    "duration": 545,
    "start_time": "2023-03-09T18:52:22.907Z"
   },
   {
    "duration": 645,
    "start_time": "2023-03-09T18:52:23.453Z"
   },
   {
    "duration": 350,
    "start_time": "2023-03-09T18:52:24.099Z"
   },
   {
    "duration": 5,
    "start_time": "2023-03-09T18:52:24.451Z"
   },
   {
    "duration": 23,
    "start_time": "2023-03-09T18:52:24.458Z"
   },
   {
    "duration": 41,
    "start_time": "2023-03-09T18:52:24.485Z"
   },
   {
    "duration": 18,
    "start_time": "2023-03-09T18:52:24.527Z"
   },
   {
    "duration": 22,
    "start_time": "2023-03-09T18:52:24.546Z"
   },
   {
    "duration": 38,
    "start_time": "2023-03-09T18:52:24.570Z"
   },
   {
    "duration": 601,
    "start_time": "2023-03-09T18:52:24.613Z"
   },
   {
    "duration": 6,
    "start_time": "2023-03-09T18:53:29.602Z"
   },
   {
    "duration": 5,
    "start_time": "2023-03-09T18:58:29.409Z"
   },
   {
    "duration": 84,
    "start_time": "2023-03-09T19:00:01.274Z"
   },
   {
    "duration": 4,
    "start_time": "2023-03-09T19:02:09.057Z"
   },
   {
    "duration": 3,
    "start_time": "2023-03-09T19:02:13.856Z"
   },
   {
    "duration": 17,
    "start_time": "2023-03-09T19:02:18.674Z"
   },
   {
    "duration": 66,
    "start_time": "2023-03-09T19:02:59.412Z"
   },
   {
    "duration": 69,
    "start_time": "2023-03-09T19:03:05.913Z"
   },
   {
    "duration": 6,
    "start_time": "2023-03-09T19:04:32.661Z"
   },
   {
    "duration": 6,
    "start_time": "2023-03-09T19:05:00.850Z"
   },
   {
    "duration": 12,
    "start_time": "2023-03-09T19:07:32.635Z"
   },
   {
    "duration": 1231,
    "start_time": "2023-03-09T19:08:28.507Z"
   },
   {
    "duration": 336,
    "start_time": "2023-03-09T19:08:29.740Z"
   },
   {
    "duration": 4,
    "start_time": "2023-03-09T19:08:30.078Z"
   },
   {
    "duration": 750,
    "start_time": "2023-03-09T19:08:30.083Z"
   },
   {
    "duration": 34,
    "start_time": "2023-03-09T19:08:30.836Z"
   },
   {
    "duration": 47,
    "start_time": "2023-03-09T19:08:30.872Z"
   },
   {
    "duration": 43,
    "start_time": "2023-03-09T19:08:30.921Z"
   },
   {
    "duration": 82,
    "start_time": "2023-03-09T19:08:30.966Z"
   },
   {
    "duration": 28,
    "start_time": "2023-03-09T19:08:31.050Z"
   },
   {
    "duration": 82,
    "start_time": "2023-03-09T19:08:31.080Z"
   },
   {
    "duration": 287,
    "start_time": "2023-03-09T19:08:31.164Z"
   },
   {
    "duration": 147,
    "start_time": "2023-03-09T19:08:31.453Z"
   },
   {
    "duration": 231,
    "start_time": "2023-03-09T19:08:31.602Z"
   },
   {
    "duration": 2,
    "start_time": "2023-03-09T19:08:31.837Z"
   },
   {
    "duration": 26,
    "start_time": "2023-03-09T19:08:31.841Z"
   },
   {
    "duration": 49,
    "start_time": "2023-03-09T19:08:31.869Z"
   },
   {
    "duration": 18,
    "start_time": "2023-03-09T19:08:31.919Z"
   },
   {
    "duration": 31,
    "start_time": "2023-03-09T19:08:31.938Z"
   },
   {
    "duration": 9,
    "start_time": "2023-03-09T19:08:31.970Z"
   },
   {
    "duration": 44,
    "start_time": "2023-03-09T19:08:31.980Z"
   },
   {
    "duration": 26,
    "start_time": "2023-03-09T19:08:32.025Z"
   },
   {
    "duration": 25,
    "start_time": "2023-03-09T19:08:32.053Z"
   },
   {
    "duration": 58,
    "start_time": "2023-03-09T19:08:32.079Z"
   },
   {
    "duration": 30,
    "start_time": "2023-03-09T19:08:32.139Z"
   },
   {
    "duration": 71,
    "start_time": "2023-03-09T19:08:32.170Z"
   },
   {
    "duration": 17,
    "start_time": "2023-03-09T19:08:32.242Z"
   },
   {
    "duration": 19,
    "start_time": "2023-03-09T19:08:32.260Z"
   },
   {
    "duration": 62,
    "start_time": "2023-03-09T19:08:32.280Z"
   },
   {
    "duration": 24,
    "start_time": "2023-03-09T19:08:32.343Z"
   },
   {
    "duration": 8768,
    "start_time": "2023-03-09T19:08:32.369Z"
   },
   {
    "duration": 14,
    "start_time": "2023-03-09T19:08:41.138Z"
   },
   {
    "duration": 113,
    "start_time": "2023-03-09T19:08:41.153Z"
   },
   {
    "duration": 113,
    "start_time": "2023-03-09T19:08:41.267Z"
   },
   {
    "duration": 10,
    "start_time": "2023-03-09T19:08:41.381Z"
   },
   {
    "duration": 13,
    "start_time": "2023-03-09T19:08:41.393Z"
   },
   {
    "duration": 557,
    "start_time": "2023-03-09T19:08:41.408Z"
   },
   {
    "duration": 505,
    "start_time": "2023-03-09T19:08:41.967Z"
   },
   {
    "duration": 466,
    "start_time": "2023-03-09T19:08:42.474Z"
   },
   {
    "duration": 308,
    "start_time": "2023-03-09T19:08:42.942Z"
   },
   {
    "duration": 4,
    "start_time": "2023-03-09T19:08:43.251Z"
   },
   {
    "duration": 5,
    "start_time": "2023-03-09T19:08:43.260Z"
   },
   {
    "duration": 43,
    "start_time": "2023-03-09T19:08:43.266Z"
   },
   {
    "duration": 7,
    "start_time": "2023-03-09T19:08:43.311Z"
   },
   {
    "duration": 5,
    "start_time": "2023-03-09T19:08:43.319Z"
   },
   {
    "duration": 6,
    "start_time": "2023-03-09T19:08:43.325Z"
   },
   {
    "duration": 571,
    "start_time": "2023-03-09T19:08:43.332Z"
   },
   {
    "duration": 4,
    "start_time": "2023-03-09T19:08:43.906Z"
   },
   {
    "duration": 11,
    "start_time": "2023-03-09T19:08:43.911Z"
   },
   {
    "duration": 147,
    "start_time": "2023-03-09T19:08:43.923Z"
   },
   {
    "duration": 0,
    "start_time": "2023-03-09T19:08:44.071Z"
   },
   {
    "duration": 0,
    "start_time": "2023-03-09T19:08:44.072Z"
   },
   {
    "duration": 0,
    "start_time": "2023-03-09T19:08:44.073Z"
   },
   {
    "duration": 0,
    "start_time": "2023-03-09T19:08:44.073Z"
   },
   {
    "duration": 6,
    "start_time": "2023-03-09T19:09:34.145Z"
   },
   {
    "duration": 7,
    "start_time": "2023-03-09T19:09:41.532Z"
   },
   {
    "duration": 4,
    "start_time": "2023-03-09T19:09:45.072Z"
   },
   {
    "duration": 4,
    "start_time": "2023-03-09T19:09:46.004Z"
   },
   {
    "duration": 10,
    "start_time": "2023-03-09T19:09:46.764Z"
   },
   {
    "duration": 8,
    "start_time": "2023-03-09T19:09:54.068Z"
   },
   {
    "duration": 16,
    "start_time": "2023-03-09T19:16:16.173Z"
   },
   {
    "duration": 5,
    "start_time": "2023-03-09T19:16:19.100Z"
   },
   {
    "duration": 4,
    "start_time": "2023-03-09T19:16:19.634Z"
   },
   {
    "duration": 7,
    "start_time": "2023-03-09T19:16:21.632Z"
   },
   {
    "duration": 6,
    "start_time": "2023-03-09T19:16:22.507Z"
   },
   {
    "duration": 3,
    "start_time": "2023-03-09T19:20:58.714Z"
   },
   {
    "duration": 6,
    "start_time": "2023-03-09T19:20:58.719Z"
   },
   {
    "duration": 5,
    "start_time": "2023-03-09T19:20:58.726Z"
   },
   {
    "duration": 753,
    "start_time": "2023-03-09T19:20:58.733Z"
   },
   {
    "duration": 20,
    "start_time": "2023-03-09T19:20:59.488Z"
   },
   {
    "duration": 31,
    "start_time": "2023-03-09T19:20:59.513Z"
   },
   {
    "duration": 17,
    "start_time": "2023-03-09T19:20:59.545Z"
   },
   {
    "duration": 27,
    "start_time": "2023-03-09T19:20:59.563Z"
   },
   {
    "duration": 16,
    "start_time": "2023-03-09T19:20:59.591Z"
   },
   {
    "duration": 32,
    "start_time": "2023-03-09T19:20:59.609Z"
   },
   {
    "duration": 245,
    "start_time": "2023-03-09T19:20:59.643Z"
   },
   {
    "duration": 143,
    "start_time": "2023-03-09T19:20:59.890Z"
   },
   {
    "duration": 258,
    "start_time": "2023-03-09T19:21:00.036Z"
   },
   {
    "duration": 3,
    "start_time": "2023-03-09T19:21:00.296Z"
   },
   {
    "duration": 6,
    "start_time": "2023-03-09T19:21:00.300Z"
   },
   {
    "duration": 20,
    "start_time": "2023-03-09T19:21:00.308Z"
   },
   {
    "duration": 9,
    "start_time": "2023-03-09T19:21:00.330Z"
   },
   {
    "duration": 9,
    "start_time": "2023-03-09T19:21:00.340Z"
   },
   {
    "duration": 25,
    "start_time": "2023-03-09T19:21:00.350Z"
   },
   {
    "duration": 59,
    "start_time": "2023-03-09T19:21:00.376Z"
   },
   {
    "duration": 16,
    "start_time": "2023-03-09T19:21:00.437Z"
   },
   {
    "duration": 14,
    "start_time": "2023-03-09T19:21:00.454Z"
   },
   {
    "duration": 5,
    "start_time": "2023-03-09T19:21:00.470Z"
   },
   {
    "duration": 62,
    "start_time": "2023-03-09T19:21:00.476Z"
   },
   {
    "duration": 36,
    "start_time": "2023-03-09T19:21:00.539Z"
   },
   {
    "duration": 60,
    "start_time": "2023-03-09T19:21:00.577Z"
   },
   {
    "duration": 34,
    "start_time": "2023-03-09T19:21:00.638Z"
   },
   {
    "duration": 72,
    "start_time": "2023-03-09T19:21:00.674Z"
   },
   {
    "duration": 30,
    "start_time": "2023-03-09T19:21:00.748Z"
   },
   {
    "duration": 9394,
    "start_time": "2023-03-09T19:21:00.784Z"
   },
   {
    "duration": 25,
    "start_time": "2023-03-09T19:21:10.186Z"
   },
   {
    "duration": 125,
    "start_time": "2023-03-09T19:21:10.212Z"
   },
   {
    "duration": 112,
    "start_time": "2023-03-09T19:21:10.339Z"
   },
   {
    "duration": 4,
    "start_time": "2023-03-09T19:21:10.453Z"
   },
   {
    "duration": 15,
    "start_time": "2023-03-09T19:21:10.459Z"
   },
   {
    "duration": 551,
    "start_time": "2023-03-09T19:21:10.476Z"
   },
   {
    "duration": 608,
    "start_time": "2023-03-09T19:21:11.031Z"
   },
   {
    "duration": 500,
    "start_time": "2023-03-09T19:21:11.641Z"
   },
   {
    "duration": 312,
    "start_time": "2023-03-09T19:21:12.143Z"
   },
   {
    "duration": 4,
    "start_time": "2023-03-09T19:21:12.457Z"
   },
   {
    "duration": 5,
    "start_time": "2023-03-09T19:21:12.463Z"
   },
   {
    "duration": 32,
    "start_time": "2023-03-09T19:21:12.469Z"
   },
   {
    "duration": 8,
    "start_time": "2023-03-09T19:21:12.514Z"
   },
   {
    "duration": 8,
    "start_time": "2023-03-09T19:21:12.524Z"
   },
   {
    "duration": 10,
    "start_time": "2023-03-09T19:21:12.533Z"
   },
   {
    "duration": 512,
    "start_time": "2023-03-09T19:21:12.544Z"
   },
   {
    "duration": 5,
    "start_time": "2023-03-09T19:21:13.058Z"
   },
   {
    "duration": 25,
    "start_time": "2023-03-09T19:21:13.064Z"
   },
   {
    "duration": 26,
    "start_time": "2023-03-09T19:21:13.105Z"
   },
   {
    "duration": 6,
    "start_time": "2023-03-09T19:21:13.132Z"
   },
   {
    "duration": 10,
    "start_time": "2023-03-09T19:21:13.139Z"
   },
   {
    "duration": 10,
    "start_time": "2023-03-09T19:21:13.150Z"
   },
   {
    "duration": 15,
    "start_time": "2023-03-09T19:21:13.161Z"
   },
   {
    "duration": 13,
    "start_time": "2023-03-09T19:21:13.177Z"
   },
   {
    "duration": 46,
    "start_time": "2023-03-09T19:21:13.198Z"
   },
   {
    "duration": 6,
    "start_time": "2023-03-09T19:21:13.246Z"
   },
   {
    "duration": 14,
    "start_time": "2023-03-09T19:21:13.254Z"
   },
   {
    "duration": 32,
    "start_time": "2023-03-09T19:21:13.269Z"
   },
   {
    "duration": 30,
    "start_time": "2023-03-09T19:21:13.305Z"
   },
   {
    "duration": 17,
    "start_time": "2023-03-09T19:21:13.337Z"
   },
   {
    "duration": 5,
    "start_time": "2023-03-09T19:22:05.214Z"
   },
   {
    "duration": 9,
    "start_time": "2023-03-09T19:22:06.520Z"
   },
   {
    "duration": 5,
    "start_time": "2023-03-09T19:22:09.319Z"
   },
   {
    "duration": 610,
    "start_time": "2023-03-09T19:24:07.452Z"
   },
   {
    "duration": 5,
    "start_time": "2023-03-09T19:24:26.573Z"
   },
   {
    "duration": 5,
    "start_time": "2023-03-09T19:24:27.407Z"
   },
   {
    "duration": 5,
    "start_time": "2023-03-09T19:24:28.107Z"
   },
   {
    "duration": 15,
    "start_time": "2023-03-09T19:24:36.538Z"
   },
   {
    "duration": 20,
    "start_time": "2023-03-09T19:25:23.377Z"
   },
   {
    "duration": 15,
    "start_time": "2023-03-09T19:25:24.524Z"
   },
   {
    "duration": 2,
    "start_time": "2023-03-09T19:28:15.859Z"
   },
   {
    "duration": 92,
    "start_time": "2023-03-09T19:29:02.224Z"
   },
   {
    "duration": 75,
    "start_time": "2023-03-09T19:29:24.422Z"
   },
   {
    "duration": 69,
    "start_time": "2023-03-09T19:29:50.491Z"
   },
   {
    "duration": 68,
    "start_time": "2023-03-09T19:30:39.295Z"
   },
   {
    "duration": 70,
    "start_time": "2023-03-09T19:41:18.289Z"
   },
   {
    "duration": 101,
    "start_time": "2023-03-09T19:42:52.621Z"
   },
   {
    "duration": 705,
    "start_time": "2023-03-09T19:43:36.203Z"
   },
   {
    "duration": 96,
    "start_time": "2023-03-09T19:43:45.634Z"
   },
   {
    "duration": 3,
    "start_time": "2023-03-09T22:21:51.123Z"
   },
   {
    "duration": 2,
    "start_time": "2023-03-09T22:21:52.637Z"
   },
   {
    "duration": 9,
    "start_time": "2023-03-09T22:21:54.235Z"
   },
   {
    "duration": 9,
    "start_time": "2023-03-09T22:22:01.176Z"
   },
   {
    "duration": 1223,
    "start_time": "2023-03-09T22:22:25.751Z"
   },
   {
    "duration": 261,
    "start_time": "2023-03-09T22:22:26.976Z"
   },
   {
    "duration": 3,
    "start_time": "2023-03-09T22:22:27.238Z"
   },
   {
    "duration": 664,
    "start_time": "2023-03-09T22:22:27.243Z"
   },
   {
    "duration": 24,
    "start_time": "2023-03-09T22:22:27.908Z"
   },
   {
    "duration": 17,
    "start_time": "2023-03-09T22:22:27.934Z"
   },
   {
    "duration": 32,
    "start_time": "2023-03-09T22:22:27.953Z"
   },
   {
    "duration": 17,
    "start_time": "2023-03-09T22:22:27.987Z"
   },
   {
    "duration": 11,
    "start_time": "2023-03-09T22:22:28.005Z"
   },
   {
    "duration": 17,
    "start_time": "2023-03-09T22:22:28.019Z"
   },
   {
    "duration": 231,
    "start_time": "2023-03-09T22:22:28.037Z"
   },
   {
    "duration": 119,
    "start_time": "2023-03-09T22:22:28.270Z"
   },
   {
    "duration": 225,
    "start_time": "2023-03-09T22:22:28.391Z"
   },
   {
    "duration": 2,
    "start_time": "2023-03-09T22:22:28.618Z"
   },
   {
    "duration": 6,
    "start_time": "2023-03-09T22:22:28.621Z"
   },
   {
    "duration": 10,
    "start_time": "2023-03-09T22:22:28.629Z"
   },
   {
    "duration": 5,
    "start_time": "2023-03-09T22:22:28.641Z"
   },
   {
    "duration": 20,
    "start_time": "2023-03-09T22:22:28.647Z"
   },
   {
    "duration": 12,
    "start_time": "2023-03-09T22:22:28.668Z"
   },
   {
    "duration": 15,
    "start_time": "2023-03-09T22:22:28.681Z"
   },
   {
    "duration": 31,
    "start_time": "2023-03-09T22:22:28.697Z"
   },
   {
    "duration": 15,
    "start_time": "2023-03-09T22:22:28.729Z"
   },
   {
    "duration": 9,
    "start_time": "2023-03-09T22:22:28.746Z"
   },
   {
    "duration": 12,
    "start_time": "2023-03-09T22:22:28.757Z"
   },
   {
    "duration": 27,
    "start_time": "2023-03-09T22:22:28.770Z"
   },
   {
    "duration": 19,
    "start_time": "2023-03-09T22:22:28.798Z"
   },
   {
    "duration": 19,
    "start_time": "2023-03-09T22:22:28.819Z"
   },
   {
    "duration": 5,
    "start_time": "2023-03-09T22:22:28.843Z"
   },
   {
    "duration": 30,
    "start_time": "2023-03-09T22:22:28.849Z"
   },
   {
    "duration": 8283,
    "start_time": "2023-03-09T22:22:28.881Z"
   },
   {
    "duration": 15,
    "start_time": "2023-03-09T22:22:37.166Z"
   },
   {
    "duration": 113,
    "start_time": "2023-03-09T22:22:37.182Z"
   },
   {
    "duration": 92,
    "start_time": "2023-03-09T22:22:37.297Z"
   },
   {
    "duration": 5,
    "start_time": "2023-03-09T22:22:37.391Z"
   },
   {
    "duration": 18,
    "start_time": "2023-03-09T22:22:37.397Z"
   },
   {
    "duration": 490,
    "start_time": "2023-03-09T22:22:37.416Z"
   },
   {
    "duration": 443,
    "start_time": "2023-03-09T22:22:37.907Z"
   },
   {
    "duration": 432,
    "start_time": "2023-03-09T22:22:38.351Z"
   },
   {
    "duration": 265,
    "start_time": "2023-03-09T22:22:38.785Z"
   },
   {
    "duration": 3,
    "start_time": "2023-03-09T22:22:39.052Z"
   },
   {
    "duration": 16,
    "start_time": "2023-03-09T22:22:39.056Z"
   },
   {
    "duration": 13,
    "start_time": "2023-03-09T22:22:39.073Z"
   },
   {
    "duration": 14,
    "start_time": "2023-03-09T22:22:39.088Z"
   },
   {
    "duration": 14,
    "start_time": "2023-03-09T22:22:39.103Z"
   },
   {
    "duration": 24,
    "start_time": "2023-03-09T22:22:39.119Z"
   },
   {
    "duration": 524,
    "start_time": "2023-03-09T22:22:39.144Z"
   },
   {
    "duration": 9,
    "start_time": "2023-03-09T22:22:39.670Z"
   },
   {
    "duration": 35,
    "start_time": "2023-03-09T22:22:39.681Z"
   },
   {
    "duration": 11,
    "start_time": "2023-03-09T22:22:39.718Z"
   },
   {
    "duration": 5,
    "start_time": "2023-03-09T22:22:39.730Z"
   },
   {
    "duration": 8,
    "start_time": "2023-03-09T22:22:39.736Z"
   },
   {
    "duration": 4,
    "start_time": "2023-03-09T22:22:39.746Z"
   },
   {
    "duration": 19,
    "start_time": "2023-03-09T22:22:39.751Z"
   },
   {
    "duration": 9,
    "start_time": "2023-03-09T22:22:39.771Z"
   },
   {
    "duration": 10,
    "start_time": "2023-03-09T22:22:39.782Z"
   },
   {
    "duration": 15,
    "start_time": "2023-03-09T22:22:39.794Z"
   },
   {
    "duration": 14,
    "start_time": "2023-03-09T22:22:39.811Z"
   },
   {
    "duration": 5,
    "start_time": "2023-03-09T22:22:39.826Z"
   },
   {
    "duration": 4,
    "start_time": "2023-03-09T22:22:39.832Z"
   },
   {
    "duration": 4,
    "start_time": "2023-03-09T22:22:39.837Z"
   },
   {
    "duration": 13,
    "start_time": "2023-03-09T22:22:39.842Z"
   },
   {
    "duration": 5,
    "start_time": "2023-03-09T22:22:39.856Z"
   },
   {
    "duration": 443,
    "start_time": "2023-03-09T22:22:39.862Z"
   },
   {
    "duration": 5,
    "start_time": "2023-03-09T22:22:40.306Z"
   },
   {
    "duration": 9,
    "start_time": "2023-03-09T22:22:40.313Z"
   },
   {
    "duration": 10,
    "start_time": "2023-03-09T22:22:40.323Z"
   },
   {
    "duration": 8,
    "start_time": "2023-03-09T22:22:40.334Z"
   },
   {
    "duration": 15,
    "start_time": "2023-03-09T22:22:40.344Z"
   },
   {
    "duration": 2,
    "start_time": "2023-03-09T22:22:40.361Z"
   },
   {
    "duration": 37,
    "start_time": "2023-03-09T22:22:40.364Z"
   },
   {
    "duration": 23,
    "start_time": "2023-03-09T22:22:40.403Z"
   },
   {
    "duration": 15,
    "start_time": "2023-03-09T22:22:40.427Z"
   },
   {
    "duration": 3,
    "start_time": "2023-03-09T22:22:40.444Z"
   },
   {
    "duration": 13,
    "start_time": "2023-03-09T22:22:40.449Z"
   },
   {
    "duration": 3,
    "start_time": "2023-03-09T22:22:40.463Z"
   },
   {
    "duration": 4,
    "start_time": "2023-03-09T22:22:40.467Z"
   },
   {
    "duration": 5,
    "start_time": "2023-03-09T22:22:40.472Z"
   },
   {
    "duration": 3,
    "start_time": "2023-03-09T22:22:40.479Z"
   },
   {
    "duration": 11,
    "start_time": "2023-03-09T22:22:40.484Z"
   },
   {
    "duration": 10,
    "start_time": "2023-03-09T22:22:40.497Z"
   },
   {
    "duration": 4,
    "start_time": "2023-03-09T22:22:40.508Z"
   },
   {
    "duration": 10,
    "start_time": "2023-03-09T22:22:40.516Z"
   },
   {
    "duration": 20,
    "start_time": "2023-03-09T22:22:40.528Z"
   },
   {
    "duration": 31,
    "start_time": "2023-03-09T22:22:40.550Z"
   },
   {
    "duration": 11,
    "start_time": "2023-03-09T22:22:40.583Z"
   },
   {
    "duration": 20,
    "start_time": "2023-03-09T22:22:40.596Z"
   },
   {
    "duration": 2,
    "start_time": "2023-03-09T22:22:40.618Z"
   },
   {
    "duration": 2,
    "start_time": "2023-03-09T22:23:09.683Z"
   },
   {
    "duration": 2,
    "start_time": "2023-03-09T22:23:11.575Z"
   },
   {
    "duration": 7820,
    "start_time": "2023-03-09T22:23:12.761Z"
   },
   {
    "duration": 3,
    "start_time": "2023-03-09T22:23:26.238Z"
   },
   {
    "duration": 232,
    "start_time": "2023-03-09T22:26:49.037Z"
   },
   {
    "duration": 4,
    "start_time": "2023-03-09T22:28:02.941Z"
   },
   {
    "duration": 8,
    "start_time": "2023-03-09T22:28:05.563Z"
   },
   {
    "duration": 17,
    "start_time": "2023-03-09T22:28:21.375Z"
   },
   {
    "duration": 4,
    "start_time": "2023-03-09T22:28:26.559Z"
   },
   {
    "duration": 3,
    "start_time": "2023-03-09T22:29:10.649Z"
   },
   {
    "duration": 3,
    "start_time": "2023-03-09T22:30:41.313Z"
   },
   {
    "duration": 427,
    "start_time": "2023-03-09T22:31:15.979Z"
   },
   {
    "duration": 6,
    "start_time": "2023-03-09T22:31:17.993Z"
   },
   {
    "duration": 4,
    "start_time": "2023-03-09T22:31:21.272Z"
   },
   {
    "duration": 3,
    "start_time": "2023-03-09T22:31:22.740Z"
   },
   {
    "duration": 5,
    "start_time": "2023-03-09T22:31:33.583Z"
   },
   {
    "duration": 4,
    "start_time": "2023-03-09T22:31:48.013Z"
   },
   {
    "duration": 3,
    "start_time": "2023-03-09T22:31:58.731Z"
   },
   {
    "duration": 10,
    "start_time": "2023-03-09T22:32:26.100Z"
   },
   {
    "duration": 5,
    "start_time": "2023-03-09T22:33:30.057Z"
   },
   {
    "duration": 5,
    "start_time": "2023-03-09T22:36:18.303Z"
   },
   {
    "duration": 3,
    "start_time": "2023-03-09T22:36:19.304Z"
   },
   {
    "duration": 3,
    "start_time": "2023-03-09T22:37:02.699Z"
   },
   {
    "duration": 4,
    "start_time": "2023-03-09T22:39:11.091Z"
   },
   {
    "duration": 2,
    "start_time": "2023-03-09T22:39:11.900Z"
   },
   {
    "duration": 664767,
    "start_time": "2023-03-09T22:39:14.931Z"
   },
   {
    "duration": 9,
    "start_time": "2023-03-09T22:51:52.656Z"
   },
   {
    "duration": 3,
    "start_time": "2023-03-09T22:52:03.529Z"
   },
   {
    "duration": 2,
    "start_time": "2023-03-09T22:52:21.894Z"
   },
   {
    "duration": 43797,
    "start_time": "2023-03-09T22:52:22.801Z"
   },
   {
    "duration": 4,
    "start_time": "2023-03-09T22:53:06.600Z"
   },
   {
    "duration": 10,
    "start_time": "2023-03-09T22:53:06.605Z"
   },
   {
    "duration": 4,
    "start_time": "2023-03-09T22:53:06.617Z"
   },
   {
    "duration": 5,
    "start_time": "2023-03-09T22:53:06.622Z"
   },
   {
    "duration": 11,
    "start_time": "2023-03-09T22:53:06.628Z"
   },
   {
    "duration": 1346480,
    "start_time": "2023-03-09T22:53:06.641Z"
   },
   {
    "duration": 3,
    "start_time": "2023-03-09T23:15:33.123Z"
   },
   {
    "duration": 19,
    "start_time": "2023-03-09T23:15:33.127Z"
   },
   {
    "duration": 137870,
    "start_time": "2023-03-09T23:15:33.148Z"
   },
   {
    "duration": 9,
    "start_time": "2023-03-09T23:17:51.019Z"
   },
   {
    "duration": 4,
    "start_time": "2023-03-09T23:17:51.029Z"
   },
   {
    "duration": 7,
    "start_time": "2023-03-09T23:17:51.034Z"
   },
   {
    "duration": 9,
    "start_time": "2023-03-09T23:17:51.043Z"
   },
   {
    "duration": 5,
    "start_time": "2023-03-09T23:17:51.053Z"
   },
   {
    "duration": 9625,
    "start_time": "2023-03-09T23:17:51.060Z"
   },
   {
    "duration": 94,
    "start_time": "2023-03-09T23:18:00.687Z"
   },
   {
    "duration": 30,
    "start_time": "2023-03-09T23:18:00.782Z"
   },
   {
    "duration": 125,
    "start_time": "2023-03-09T23:18:00.881Z"
   },
   {
    "duration": 35,
    "start_time": "2023-03-09T23:18:01.009Z"
   },
   {
    "duration": 29,
    "start_time": "2023-03-09T23:18:01.045Z"
   },
   {
    "duration": 37,
    "start_time": "2023-03-09T23:18:01.076Z"
   },
   {
    "duration": 1616610,
    "start_time": "2023-03-09T23:18:01.114Z"
   },
   {
    "duration": 4,
    "start_time": "2023-03-09T23:44:57.726Z"
   },
   {
    "duration": 13,
    "start_time": "2023-03-09T23:44:57.732Z"
   },
   {
    "duration": 18,
    "start_time": "2023-03-09T23:44:57.747Z"
   },
   {
    "duration": 159966,
    "start_time": "2023-03-09T23:44:57.766Z"
   },
   {
    "duration": 6,
    "start_time": "2023-03-09T23:47:37.734Z"
   },
   {
    "duration": 7,
    "start_time": "2023-03-09T23:47:37.741Z"
   },
   {
    "duration": 8,
    "start_time": "2023-03-09T23:47:37.749Z"
   },
   {
    "duration": 5,
    "start_time": "2023-03-09T23:47:37.758Z"
   },
   {
    "duration": 5,
    "start_time": "2023-03-09T23:47:37.764Z"
   },
   {
    "duration": 3534930,
    "start_time": "2023-03-09T23:47:37.770Z"
   },
   {
    "duration": 4,
    "start_time": "2023-03-10T00:46:32.702Z"
   },
   {
    "duration": 5,
    "start_time": "2023-03-10T00:46:32.708Z"
   },
   {
    "duration": 3,
    "start_time": "2023-03-10T00:46:32.715Z"
   },
   {
    "duration": 194600,
    "start_time": "2023-03-10T00:46:32.719Z"
   },
   {
    "duration": 7,
    "start_time": "2023-03-10T00:49:47.321Z"
   },
   {
    "duration": 4,
    "start_time": "2023-03-10T00:49:47.329Z"
   },
   {
    "duration": 4,
    "start_time": "2023-03-10T00:49:47.334Z"
   },
   {
    "duration": 5,
    "start_time": "2023-03-10T00:49:47.339Z"
   },
   {
    "duration": 3,
    "start_time": "2023-03-10T04:56:16.397Z"
   },
   {
    "duration": 69262,
    "start_time": "2023-03-10T04:56:21.306Z"
   },
   {
    "duration": 8,
    "start_time": "2023-03-10T05:49:15.835Z"
   },
   {
    "duration": 5,
    "start_time": "2023-03-10T05:49:16.863Z"
   },
   {
    "duration": 4,
    "start_time": "2023-03-10T05:49:17.727Z"
   },
   {
    "duration": 4,
    "start_time": "2023-03-10T05:49:22.329Z"
   },
   {
    "duration": 2,
    "start_time": "2023-03-10T05:49:30.810Z"
   },
   {
    "duration": 10470,
    "start_time": "2023-03-10T05:49:31.015Z"
   },
   {
    "duration": 4,
    "start_time": "2023-03-10T05:49:41.487Z"
   },
   {
    "duration": 98,
    "start_time": "2023-03-10T05:49:41.492Z"
   },
   {
    "duration": 89,
    "start_time": "2023-03-10T05:49:41.594Z"
   },
   {
    "duration": 100,
    "start_time": "2023-03-10T05:49:41.685Z"
   },
   {
    "duration": 4,
    "start_time": "2023-03-10T05:49:41.787Z"
   },
   {
    "duration": 3,
    "start_time": "2023-03-10T05:49:49.469Z"
   },
   {
    "duration": 1618420,
    "start_time": "2023-03-10T05:49:52.619Z"
   },
   {
    "duration": 3,
    "start_time": "2023-03-10T06:16:51.040Z"
   },
   {
    "duration": 11,
    "start_time": "2023-03-10T06:16:51.045Z"
   },
   {
    "duration": 3,
    "start_time": "2023-03-10T06:16:51.058Z"
   },
   {
    "duration": 131854,
    "start_time": "2023-03-10T06:16:51.063Z"
   },
   {
    "duration": 5,
    "start_time": "2023-03-10T06:19:02.918Z"
   },
   {
    "duration": 11,
    "start_time": "2023-03-10T06:19:02.924Z"
   },
   {
    "duration": 6,
    "start_time": "2023-03-10T06:19:02.936Z"
   },
   {
    "duration": 5,
    "start_time": "2023-03-10T06:19:02.943Z"
   },
   {
    "duration": 12,
    "start_time": "2023-03-10T06:19:02.950Z"
   },
   {
    "duration": 3,
    "start_time": "2023-03-10T08:16:11.894Z"
   },
   {
    "duration": 557,
    "start_time": "2023-03-10T08:16:16.496Z"
   },
   {
    "duration": 8,
    "start_time": "2023-03-10T08:16:19.659Z"
   },
   {
    "duration": 5,
    "start_time": "2023-03-10T08:16:20.560Z"
   },
   {
    "duration": 3,
    "start_time": "2023-03-10T08:16:21.741Z"
   },
   {
    "duration": 4,
    "start_time": "2023-03-10T08:16:24.674Z"
   },
   {
    "duration": 13,
    "start_time": "2023-03-10T08:18:56.915Z"
   },
   {
    "duration": 3,
    "start_time": "2023-03-10T08:19:11.935Z"
   },
   {
    "duration": 4,
    "start_time": "2023-03-10T08:19:13.212Z"
   },
   {
    "duration": 2,
    "start_time": "2023-03-10T08:20:09.959Z"
   },
   {
    "duration": 3,
    "start_time": "2023-03-10T08:20:18.432Z"
   },
   {
    "duration": 4,
    "start_time": "2023-03-10T08:20:19.209Z"
   },
   {
    "duration": 7,
    "start_time": "2023-03-10T08:20:24.125Z"
   },
   {
    "duration": 4,
    "start_time": "2023-03-10T08:20:25.674Z"
   },
   {
    "duration": 237,
    "start_time": "2023-03-10T08:20:26.361Z"
   },
   {
    "duration": 4,
    "start_time": "2023-03-10T08:20:30.018Z"
   },
   {
    "duration": 3,
    "start_time": "2023-03-10T08:20:30.899Z"
   },
   {
    "duration": 3,
    "start_time": "2023-03-10T08:20:31.121Z"
   },
   {
    "duration": 6,
    "start_time": "2023-03-10T08:20:31.334Z"
   },
   {
    "duration": 4,
    "start_time": "2023-03-10T08:20:46.679Z"
   },
   {
    "duration": 6,
    "start_time": "2023-03-10T08:21:17.570Z"
   },
   {
    "duration": 4,
    "start_time": "2023-03-10T08:21:18.531Z"
   },
   {
    "duration": 8,
    "start_time": "2023-03-10T08:21:20.079Z"
   },
   {
    "duration": 2,
    "start_time": "2023-03-10T08:21:47.245Z"
   },
   {
    "duration": 4,
    "start_time": "2023-03-10T08:21:48.314Z"
   },
   {
    "duration": 3,
    "start_time": "2023-03-10T08:22:14.506Z"
   },
   {
    "duration": 3,
    "start_time": "2023-03-10T08:22:35.747Z"
   },
   {
    "duration": 4,
    "start_time": "2023-03-10T08:22:55.860Z"
   },
   {
    "duration": 5,
    "start_time": "2023-03-10T08:23:24.243Z"
   },
   {
    "duration": 5,
    "start_time": "2023-03-10T08:24:22.665Z"
   },
   {
    "duration": 4,
    "start_time": "2023-03-10T08:24:24.730Z"
   },
   {
    "duration": 3,
    "start_time": "2023-03-10T08:24:27.196Z"
   },
   {
    "duration": 5,
    "start_time": "2023-03-10T08:24:28.841Z"
   },
   {
    "duration": 4,
    "start_time": "2023-03-10T08:24:30.005Z"
   },
   {
    "duration": 12,
    "start_time": "2023-03-10T08:32:23.014Z"
   },
   {
    "duration": 12,
    "start_time": "2023-03-10T08:33:41.309Z"
   },
   {
    "duration": 4,
    "start_time": "2023-03-10T08:33:50.273Z"
   },
   {
    "duration": 4,
    "start_time": "2023-03-10T08:33:54.568Z"
   },
   {
    "duration": 8,
    "start_time": "2023-03-10T08:36:07.847Z"
   },
   {
    "duration": 5,
    "start_time": "2023-03-10T08:36:08.782Z"
   },
   {
    "duration": 4,
    "start_time": "2023-03-10T08:36:33.499Z"
   },
   {
    "duration": 4,
    "start_time": "2023-03-10T08:36:54.471Z"
   },
   {
    "duration": 3,
    "start_time": "2023-03-10T08:37:03.684Z"
   },
   {
    "duration": 3,
    "start_time": "2023-03-10T08:38:33.628Z"
   },
   {
    "duration": 3,
    "start_time": "2023-03-10T08:38:34.497Z"
   },
   {
    "duration": 7,
    "start_time": "2023-03-10T08:39:14.111Z"
   },
   {
    "duration": 6,
    "start_time": "2023-03-10T08:39:14.840Z"
   },
   {
    "duration": 4,
    "start_time": "2023-03-10T08:39:15.857Z"
   },
   {
    "duration": 5,
    "start_time": "2023-03-10T08:39:19.853Z"
   },
   {
    "duration": 3,
    "start_time": "2023-03-10T08:39:20.636Z"
   },
   {
    "duration": 6,
    "start_time": "2023-03-10T08:39:21.695Z"
   },
   {
    "duration": 4,
    "start_time": "2023-03-10T08:39:21.897Z"
   },
   {
    "duration": 4,
    "start_time": "2023-03-10T08:39:22.177Z"
   },
   {
    "duration": 3,
    "start_time": "2023-03-10T08:39:22.397Z"
   },
   {
    "duration": 3,
    "start_time": "2023-03-10T08:39:23.553Z"
   },
   {
    "duration": 6,
    "start_time": "2023-03-10T08:39:31.099Z"
   },
   {
    "duration": 4,
    "start_time": "2023-03-10T08:39:34.171Z"
   },
   {
    "duration": 9,
    "start_time": "2023-03-10T08:39:58.002Z"
   },
   {
    "duration": 2,
    "start_time": "2023-03-10T08:40:31.666Z"
   },
   {
    "duration": 8,
    "start_time": "2023-03-10T08:40:32.707Z"
   },
   {
    "duration": 6,
    "start_time": "2023-03-10T08:40:36.429Z"
   },
   {
    "duration": 4,
    "start_time": "2023-03-10T08:40:42.810Z"
   },
   {
    "duration": 7,
    "start_time": "2023-03-10T08:46:27.230Z"
   },
   {
    "duration": 584,
    "start_time": "2023-03-10T08:46:28.561Z"
   },
   {
    "duration": 578,
    "start_time": "2023-03-10T08:46:39.148Z"
   },
   {
    "duration": 4,
    "start_time": "2023-03-10T08:46:44.107Z"
   },
   {
    "duration": 1116,
    "start_time": "2023-03-10T09:00:21.347Z"
   },
   {
    "duration": 296,
    "start_time": "2023-03-10T09:00:22.465Z"
   },
   {
    "duration": 3,
    "start_time": "2023-03-10T09:00:22.762Z"
   },
   {
    "duration": 641,
    "start_time": "2023-03-10T09:00:22.767Z"
   },
   {
    "duration": 23,
    "start_time": "2023-03-10T09:00:23.410Z"
   },
   {
    "duration": 18,
    "start_time": "2023-03-10T09:00:23.434Z"
   },
   {
    "duration": 39,
    "start_time": "2023-03-10T09:00:23.453Z"
   },
   {
    "duration": 19,
    "start_time": "2023-03-10T09:00:23.493Z"
   },
   {
    "duration": 12,
    "start_time": "2023-03-10T09:00:23.513Z"
   },
   {
    "duration": 16,
    "start_time": "2023-03-10T09:00:23.528Z"
   },
   {
    "duration": 245,
    "start_time": "2023-03-10T09:00:23.546Z"
   },
   {
    "duration": 118,
    "start_time": "2023-03-10T09:00:23.793Z"
   },
   {
    "duration": 231,
    "start_time": "2023-03-10T09:00:23.913Z"
   },
   {
    "duration": 3,
    "start_time": "2023-03-10T09:00:24.146Z"
   },
   {
    "duration": 16,
    "start_time": "2023-03-10T09:00:24.150Z"
   },
   {
    "duration": 12,
    "start_time": "2023-03-10T09:00:24.168Z"
   },
   {
    "duration": 16,
    "start_time": "2023-03-10T09:00:24.182Z"
   },
   {
    "duration": 13,
    "start_time": "2023-03-10T09:00:24.199Z"
   },
   {
    "duration": 5,
    "start_time": "2023-03-10T09:00:24.213Z"
   },
   {
    "duration": 11,
    "start_time": "2023-03-10T09:00:24.219Z"
   },
   {
    "duration": 12,
    "start_time": "2023-03-10T09:00:24.231Z"
   },
   {
    "duration": 14,
    "start_time": "2023-03-10T09:00:24.245Z"
   },
   {
    "duration": 9,
    "start_time": "2023-03-10T09:00:24.261Z"
   },
   {
    "duration": 17,
    "start_time": "2023-03-10T09:00:24.272Z"
   },
   {
    "duration": 31,
    "start_time": "2023-03-10T09:00:24.290Z"
   },
   {
    "duration": 19,
    "start_time": "2023-03-10T09:00:24.322Z"
   },
   {
    "duration": 19,
    "start_time": "2023-03-10T09:00:24.343Z"
   },
   {
    "duration": 5,
    "start_time": "2023-03-10T09:00:24.380Z"
   },
   {
    "duration": 13,
    "start_time": "2023-03-10T09:00:24.386Z"
   },
   {
    "duration": 8826,
    "start_time": "2023-03-10T09:00:24.400Z"
   },
   {
    "duration": 15,
    "start_time": "2023-03-10T09:00:33.227Z"
   },
   {
    "duration": 109,
    "start_time": "2023-03-10T09:00:33.243Z"
   },
   {
    "duration": 97,
    "start_time": "2023-03-10T09:00:33.353Z"
   },
   {
    "duration": 4,
    "start_time": "2023-03-10T09:00:33.451Z"
   },
   {
    "duration": 24,
    "start_time": "2023-03-10T09:00:33.456Z"
   },
   {
    "duration": 527,
    "start_time": "2023-03-10T09:00:33.482Z"
   },
   {
    "duration": 462,
    "start_time": "2023-03-10T09:00:34.011Z"
   },
   {
    "duration": 441,
    "start_time": "2023-03-10T09:00:34.475Z"
   },
   {
    "duration": 294,
    "start_time": "2023-03-10T09:00:34.917Z"
   },
   {
    "duration": 4,
    "start_time": "2023-03-10T09:00:35.212Z"
   },
   {
    "duration": 5,
    "start_time": "2023-03-10T09:00:35.218Z"
   },
   {
    "duration": 18,
    "start_time": "2023-03-10T09:00:35.224Z"
   },
   {
    "duration": 4,
    "start_time": "2023-03-10T09:00:35.243Z"
   },
   {
    "duration": 6,
    "start_time": "2023-03-10T09:00:35.248Z"
   },
   {
    "duration": 8,
    "start_time": "2023-03-10T09:00:35.255Z"
   },
   {
    "duration": 537,
    "start_time": "2023-03-10T09:00:35.264Z"
   },
   {
    "duration": 4,
    "start_time": "2023-03-10T09:00:35.803Z"
   },
   {
    "duration": 6,
    "start_time": "2023-03-10T09:00:35.809Z"
   },
   {
    "duration": 15,
    "start_time": "2023-03-10T09:00:35.816Z"
   },
   {
    "duration": 7,
    "start_time": "2023-03-10T09:00:35.832Z"
   },
   {
    "duration": 6,
    "start_time": "2023-03-10T09:00:35.841Z"
   },
   {
    "duration": 17,
    "start_time": "2023-03-10T09:00:35.849Z"
   },
   {
    "duration": 20,
    "start_time": "2023-03-10T09:00:35.868Z"
   },
   {
    "duration": 22,
    "start_time": "2023-03-10T09:00:35.890Z"
   },
   {
    "duration": 19,
    "start_time": "2023-03-10T09:00:35.914Z"
   },
   {
    "duration": 10,
    "start_time": "2023-03-10T09:00:35.935Z"
   },
   {
    "duration": 20,
    "start_time": "2023-03-10T09:00:35.947Z"
   },
   {
    "duration": 35,
    "start_time": "2023-03-10T09:00:35.969Z"
   },
   {
    "duration": 20,
    "start_time": "2023-03-10T09:00:36.006Z"
   },
   {
    "duration": 21,
    "start_time": "2023-03-10T09:00:36.028Z"
   },
   {
    "duration": 15,
    "start_time": "2023-03-10T09:00:36.051Z"
   },
   {
    "duration": 14,
    "start_time": "2023-03-10T09:00:36.068Z"
   },
   {
    "duration": 458,
    "start_time": "2023-03-10T09:00:36.084Z"
   },
   {
    "duration": 6,
    "start_time": "2023-03-10T09:00:36.544Z"
   },
   {
    "duration": 11,
    "start_time": "2023-03-10T09:00:36.552Z"
   },
   {
    "duration": 15,
    "start_time": "2023-03-10T09:00:36.564Z"
   },
   {
    "duration": 5,
    "start_time": "2023-03-10T09:00:36.581Z"
   },
   {
    "duration": 19,
    "start_time": "2023-03-10T09:00:36.587Z"
   },
   {
    "duration": 3,
    "start_time": "2023-03-10T09:00:36.608Z"
   },
   {
    "duration": 8,
    "start_time": "2023-03-10T09:00:36.613Z"
   },
   {
    "duration": 11,
    "start_time": "2023-03-10T09:00:36.622Z"
   },
   {
    "duration": 23,
    "start_time": "2023-03-10T09:00:36.635Z"
   },
   {
    "duration": 4,
    "start_time": "2023-03-10T09:00:36.660Z"
   },
   {
    "duration": 28,
    "start_time": "2023-03-10T09:00:36.665Z"
   },
   {
    "duration": 2,
    "start_time": "2023-03-10T09:00:36.695Z"
   },
   {
    "duration": 20,
    "start_time": "2023-03-10T09:00:36.699Z"
   },
   {
    "duration": 6,
    "start_time": "2023-03-10T09:00:36.720Z"
   },
   {
    "duration": 8,
    "start_time": "2023-03-10T09:00:36.727Z"
   },
   {
    "duration": 16,
    "start_time": "2023-03-10T09:00:36.736Z"
   },
   {
    "duration": 9,
    "start_time": "2023-03-10T09:00:36.754Z"
   },
   {
    "duration": 4,
    "start_time": "2023-03-10T09:00:36.764Z"
   },
   {
    "duration": 13,
    "start_time": "2023-03-10T09:00:36.782Z"
   },
   {
    "duration": 21,
    "start_time": "2023-03-10T09:00:36.797Z"
   },
   {
    "duration": 4,
    "start_time": "2023-03-10T09:00:36.820Z"
   },
   {
    "duration": 15,
    "start_time": "2023-03-10T09:00:36.826Z"
   },
   {
    "duration": 19,
    "start_time": "2023-03-10T09:00:36.843Z"
   },
   {
    "duration": 19,
    "start_time": "2023-03-10T09:00:36.863Z"
   },
   {
    "duration": 8,
    "start_time": "2023-03-10T09:00:36.883Z"
   },
   {
    "duration": 6,
    "start_time": "2023-03-10T09:00:36.892Z"
   },
   {
    "duration": 6991,
    "start_time": "2023-03-10T09:00:36.899Z"
   },
   {
    "duration": 4,
    "start_time": "2023-03-10T09:00:43.979Z"
   },
   {
    "duration": 97,
    "start_time": "2023-03-10T09:00:43.985Z"
   },
   {
    "duration": 196,
    "start_time": "2023-03-10T09:00:44.086Z"
   },
   {
    "duration": 5,
    "start_time": "2023-03-10T09:00:44.283Z"
   },
   {
    "duration": 5,
    "start_time": "2023-03-10T09:00:44.289Z"
   },
   {
    "duration": 43448,
    "start_time": "2023-03-10T09:00:44.295Z"
   },
   {
    "duration": 5,
    "start_time": "2023-03-10T09:01:27.745Z"
   },
   {
    "duration": 17,
    "start_time": "2023-03-10T09:01:27.752Z"
   },
   {
    "duration": 10,
    "start_time": "2023-03-10T09:01:27.770Z"
   },
   {
    "duration": 17,
    "start_time": "2023-03-10T09:01:27.782Z"
   },
   {
    "duration": 72250,
    "start_time": "2023-03-10T09:01:27.800Z"
   },
   {
    "duration": 5,
    "start_time": "2023-03-10T09:02:40.052Z"
   },
   {
    "duration": 5,
    "start_time": "2023-03-10T09:02:40.059Z"
   },
   {
    "duration": 15,
    "start_time": "2023-03-10T09:02:40.065Z"
   },
   {
    "duration": 5,
    "start_time": "2023-03-10T09:02:40.081Z"
   },
   {
    "duration": 3,
    "start_time": "2023-03-10T09:02:40.087Z"
   },
   {
    "duration": 11688,
    "start_time": "2023-03-10T09:02:40.092Z"
   },
   {
    "duration": 96,
    "start_time": "2023-03-10T09:02:51.784Z"
   },
   {
    "duration": 21,
    "start_time": "2023-03-10T09:02:51.882Z"
   },
   {
    "duration": 174,
    "start_time": "2023-03-10T09:02:51.908Z"
   },
   {
    "duration": 9,
    "start_time": "2023-03-10T09:02:52.083Z"
   },
   {
    "duration": 14,
    "start_time": "2023-03-10T09:02:52.093Z"
   },
   {
    "duration": 136393,
    "start_time": "2023-03-10T09:02:52.108Z"
   },
   {
    "duration": 5,
    "start_time": "2023-03-10T09:05:08.504Z"
   },
   {
    "duration": 11,
    "start_time": "2023-03-10T09:05:08.511Z"
   },
   {
    "duration": 7,
    "start_time": "2023-03-10T09:05:08.524Z"
   },
   {
    "duration": 14,
    "start_time": "2023-03-10T09:05:08.533Z"
   },
   {
    "duration": 700,
    "start_time": "2023-03-10T09:05:08.549Z"
   },
   {
    "duration": 10,
    "start_time": "2023-03-10T09:05:09.251Z"
   },
   {
    "duration": 8,
    "start_time": "2023-03-10T09:05:09.263Z"
   },
   {
    "duration": 28,
    "start_time": "2023-03-10T09:05:09.273Z"
   },
   {
    "duration": 37,
    "start_time": "2023-03-10T09:05:09.302Z"
   },
   {
    "duration": 15,
    "start_time": "2023-03-10T09:05:09.341Z"
   },
   {
    "duration": 11,
    "start_time": "2023-03-10T09:05:09.358Z"
   },
   {
    "duration": 21,
    "start_time": "2023-03-10T09:05:09.371Z"
   },
   {
    "duration": 19,
    "start_time": "2023-03-10T09:05:09.394Z"
   },
   {
    "duration": 410,
    "start_time": "2023-03-10T09:05:09.415Z"
   },
   {
    "duration": 4,
    "start_time": "2023-03-10T09:05:09.827Z"
   },
   {
    "duration": 13,
    "start_time": "2023-03-10T09:05:09.832Z"
   },
   {
    "duration": 20,
    "start_time": "2023-03-10T09:05:09.847Z"
   },
   {
    "duration": 17,
    "start_time": "2023-03-10T09:05:09.869Z"
   },
   {
    "duration": 110,
    "start_time": "2023-03-10T09:05:09.888Z"
   },
   {
    "duration": 83,
    "start_time": "2023-03-10T09:05:10.000Z"
   },
   {
    "duration": 33,
    "start_time": "2023-03-10T09:05:10.085Z"
   },
   {
    "duration": 40,
    "start_time": "2023-03-10T09:05:10.124Z"
   },
   {
    "duration": 13,
    "start_time": "2023-03-10T09:05:10.166Z"
   },
   {
    "duration": 22,
    "start_time": "2023-03-10T09:05:10.181Z"
   },
   {
    "duration": 17,
    "start_time": "2023-03-10T09:05:10.205Z"
   },
   {
    "duration": 16,
    "start_time": "2023-03-10T09:05:10.224Z"
   },
   {
    "duration": 32,
    "start_time": "2023-03-10T09:05:10.242Z"
   },
   {
    "duration": 25,
    "start_time": "2023-03-10T09:05:10.276Z"
   },
   {
    "duration": 24,
    "start_time": "2023-03-10T09:05:10.303Z"
   },
   {
    "duration": 15,
    "start_time": "2023-03-10T09:05:10.329Z"
   },
   {
    "duration": 6,
    "start_time": "2023-03-10T09:05:10.346Z"
   },
   {
    "duration": 21,
    "start_time": "2023-03-10T09:05:10.354Z"
   },
   {
    "duration": 46,
    "start_time": "2023-03-10T09:05:10.377Z"
   },
   {
    "duration": 16,
    "start_time": "2023-03-10T09:05:10.425Z"
   },
   {
    "duration": 5,
    "start_time": "2023-03-10T09:05:10.443Z"
   },
   {
    "duration": 711,
    "start_time": "2023-03-10T09:05:10.450Z"
   },
   {
    "duration": 662,
    "start_time": "2023-03-10T09:05:11.163Z"
   },
   {
    "duration": 5,
    "start_time": "2023-03-10T09:05:11.827Z"
   },
   {
    "duration": 56,
    "start_time": "2023-03-11T09:10:52.080Z"
   },
   {
    "duration": 1376,
    "start_time": "2023-03-11T09:40:15.764Z"
   },
   {
    "duration": 254,
    "start_time": "2023-03-11T09:40:17.142Z"
   },
   {
    "duration": 3,
    "start_time": "2023-03-11T09:40:17.398Z"
   },
   {
    "duration": 1832,
    "start_time": "2023-03-11T09:40:17.402Z"
   },
   {
    "duration": 28,
    "start_time": "2023-03-11T09:40:19.237Z"
   },
   {
    "duration": 21,
    "start_time": "2023-03-11T09:40:19.267Z"
   },
   {
    "duration": 27,
    "start_time": "2023-03-11T09:40:19.289Z"
   },
   {
    "duration": 18,
    "start_time": "2023-03-11T09:40:19.320Z"
   },
   {
    "duration": 13,
    "start_time": "2023-03-11T09:40:19.340Z"
   },
   {
    "duration": 18,
    "start_time": "2023-03-11T09:40:19.355Z"
   },
   {
    "duration": 287,
    "start_time": "2023-03-11T09:40:19.375Z"
   },
   {
    "duration": 136,
    "start_time": "2023-03-11T09:40:19.664Z"
   },
   {
    "duration": 256,
    "start_time": "2023-03-11T09:40:19.802Z"
   },
   {
    "duration": 2,
    "start_time": "2023-03-11T09:40:20.062Z"
   },
   {
    "duration": 20,
    "start_time": "2023-03-11T09:40:20.066Z"
   },
   {
    "duration": 10,
    "start_time": "2023-03-11T09:40:20.088Z"
   },
   {
    "duration": 34,
    "start_time": "2023-03-11T09:40:20.100Z"
   },
   {
    "duration": 14,
    "start_time": "2023-03-11T09:40:20.136Z"
   },
   {
    "duration": 7,
    "start_time": "2023-03-11T09:40:20.151Z"
   },
   {
    "duration": 28,
    "start_time": "2023-03-11T09:40:20.160Z"
   },
   {
    "duration": 12,
    "start_time": "2023-03-11T09:40:20.190Z"
   },
   {
    "duration": 15,
    "start_time": "2023-03-11T09:40:20.204Z"
   },
   {
    "duration": 9,
    "start_time": "2023-03-11T09:40:20.221Z"
   },
   {
    "duration": 11,
    "start_time": "2023-03-11T09:40:20.233Z"
   },
   {
    "duration": 41,
    "start_time": "2023-03-11T09:40:20.246Z"
   },
   {
    "duration": 50,
    "start_time": "2023-03-11T09:40:20.289Z"
   },
   {
    "duration": 28,
    "start_time": "2023-03-11T09:40:20.341Z"
   },
   {
    "duration": 6,
    "start_time": "2023-03-11T09:40:20.371Z"
   },
   {
    "duration": 7,
    "start_time": "2023-03-11T09:40:20.379Z"
   },
   {
    "duration": 16022,
    "start_time": "2023-03-11T09:40:20.387Z"
   },
   {
    "duration": 21,
    "start_time": "2023-03-11T09:40:36.411Z"
   },
   {
    "duration": 122,
    "start_time": "2023-03-11T09:40:36.433Z"
   },
   {
    "duration": 120,
    "start_time": "2023-03-11T09:40:36.557Z"
   },
   {
    "duration": 4,
    "start_time": "2023-03-11T09:40:36.679Z"
   },
   {
    "duration": 17,
    "start_time": "2023-03-11T09:40:36.685Z"
   },
   {
    "duration": 617,
    "start_time": "2023-03-11T09:40:36.704Z"
   },
   {
    "duration": 543,
    "start_time": "2023-03-11T09:40:37.323Z"
   },
   {
    "duration": 525,
    "start_time": "2023-03-11T09:40:37.868Z"
   },
   {
    "duration": 354,
    "start_time": "2023-03-11T09:40:38.395Z"
   },
   {
    "duration": 4,
    "start_time": "2023-03-11T09:40:38.751Z"
   },
   {
    "duration": 5,
    "start_time": "2023-03-11T09:40:38.875Z"
   },
   {
    "duration": 6,
    "start_time": "2023-03-11T09:40:38.881Z"
   },
   {
    "duration": 3,
    "start_time": "2023-03-11T09:40:38.889Z"
   },
   {
    "duration": 5,
    "start_time": "2023-03-11T09:40:38.893Z"
   },
   {
    "duration": 5,
    "start_time": "2023-03-11T09:40:38.899Z"
   },
   {
    "duration": 533,
    "start_time": "2023-03-11T09:40:38.920Z"
   },
   {
    "duration": 5,
    "start_time": "2023-03-11T09:40:39.454Z"
   },
   {
    "duration": 16,
    "start_time": "2023-03-11T09:40:39.461Z"
   },
   {
    "duration": 47,
    "start_time": "2023-03-11T09:40:39.479Z"
   },
   {
    "duration": 28,
    "start_time": "2023-03-11T09:40:39.528Z"
   },
   {
    "duration": 6,
    "start_time": "2023-03-11T09:40:39.558Z"
   },
   {
    "duration": 9,
    "start_time": "2023-03-11T09:40:39.566Z"
   },
   {
    "duration": 14,
    "start_time": "2023-03-11T09:40:39.577Z"
   },
   {
    "duration": 7,
    "start_time": "2023-03-11T09:40:39.593Z"
   },
   {
    "duration": 10,
    "start_time": "2023-03-11T09:40:39.602Z"
   },
   {
    "duration": 20,
    "start_time": "2023-03-11T09:40:39.614Z"
   },
   {
    "duration": 15,
    "start_time": "2023-03-11T09:40:39.636Z"
   },
   {
    "duration": 6,
    "start_time": "2023-03-11T09:40:39.653Z"
   },
   {
    "duration": 5,
    "start_time": "2023-03-11T09:40:39.661Z"
   },
   {
    "duration": 9,
    "start_time": "2023-03-11T09:40:39.668Z"
   },
   {
    "duration": 13,
    "start_time": "2023-03-11T09:40:39.678Z"
   },
   {
    "duration": 6,
    "start_time": "2023-03-11T09:40:39.693Z"
   },
   {
    "duration": 565,
    "start_time": "2023-03-11T09:40:39.700Z"
   },
   {
    "duration": 7,
    "start_time": "2023-03-11T09:40:40.267Z"
   },
   {
    "duration": 14,
    "start_time": "2023-03-11T09:40:40.277Z"
   },
   {
    "duration": 9,
    "start_time": "2023-03-11T09:40:40.293Z"
   },
   {
    "duration": 20,
    "start_time": "2023-03-11T09:40:40.304Z"
   },
   {
    "duration": 19,
    "start_time": "2023-03-11T09:40:40.326Z"
   },
   {
    "duration": 14,
    "start_time": "2023-03-11T09:40:40.347Z"
   },
   {
    "duration": 8,
    "start_time": "2023-03-11T09:40:40.362Z"
   },
   {
    "duration": 71,
    "start_time": "2023-03-11T09:40:40.372Z"
   },
   {
    "duration": 38,
    "start_time": "2023-03-11T09:40:40.445Z"
   },
   {
    "duration": 12,
    "start_time": "2023-03-11T09:40:40.485Z"
   },
   {
    "duration": 69,
    "start_time": "2023-03-11T09:40:40.499Z"
   },
   {
    "duration": 3,
    "start_time": "2023-03-11T09:40:40.570Z"
   },
   {
    "duration": 10,
    "start_time": "2023-03-11T09:40:40.574Z"
   },
   {
    "duration": 5,
    "start_time": "2023-03-11T09:40:40.586Z"
   },
   {
    "duration": 13,
    "start_time": "2023-03-11T09:40:40.592Z"
   },
   {
    "duration": 14,
    "start_time": "2023-03-11T09:40:40.606Z"
   },
   {
    "duration": 12,
    "start_time": "2023-03-11T09:40:40.622Z"
   },
   {
    "duration": 5,
    "start_time": "2023-03-11T09:40:40.635Z"
   },
   {
    "duration": 11,
    "start_time": "2023-03-11T09:40:40.641Z"
   },
   {
    "duration": 33,
    "start_time": "2023-03-11T09:40:40.653Z"
   },
   {
    "duration": 6,
    "start_time": "2023-03-11T09:40:40.688Z"
   },
   {
    "duration": 35,
    "start_time": "2023-03-11T09:40:40.696Z"
   },
   {
    "duration": 25,
    "start_time": "2023-03-11T09:40:40.732Z"
   },
   {
    "duration": 15,
    "start_time": "2023-03-11T09:40:40.759Z"
   },
   {
    "duration": 8,
    "start_time": "2023-03-11T09:40:40.775Z"
   },
   {
    "duration": 9047,
    "start_time": "2023-03-11T09:40:40.785Z"
   },
   {
    "duration": 89,
    "start_time": "2023-03-11T09:40:49.834Z"
   },
   {
    "duration": 5,
    "start_time": "2023-03-11T09:40:49.925Z"
   },
   {
    "duration": 94,
    "start_time": "2023-03-11T09:40:49.931Z"
   },
   {
    "duration": 0,
    "start_time": "2023-03-11T09:40:50.027Z"
   },
   {
    "duration": 0,
    "start_time": "2023-03-11T09:40:50.028Z"
   },
   {
    "duration": 0,
    "start_time": "2023-03-11T09:40:50.029Z"
   },
   {
    "duration": 0,
    "start_time": "2023-03-11T09:40:50.030Z"
   },
   {
    "duration": 0,
    "start_time": "2023-03-11T09:40:50.031Z"
   },
   {
    "duration": 0,
    "start_time": "2023-03-11T09:40:50.032Z"
   },
   {
    "duration": 0,
    "start_time": "2023-03-11T09:40:50.033Z"
   },
   {
    "duration": 0,
    "start_time": "2023-03-11T09:40:50.034Z"
   },
   {
    "duration": 0,
    "start_time": "2023-03-11T09:40:50.035Z"
   },
   {
    "duration": 0,
    "start_time": "2023-03-11T09:40:50.036Z"
   },
   {
    "duration": 0,
    "start_time": "2023-03-11T09:40:50.036Z"
   },
   {
    "duration": 0,
    "start_time": "2023-03-11T09:40:50.038Z"
   },
   {
    "duration": 0,
    "start_time": "2023-03-11T09:40:50.038Z"
   },
   {
    "duration": 0,
    "start_time": "2023-03-11T09:40:50.039Z"
   },
   {
    "duration": 0,
    "start_time": "2023-03-11T09:40:50.041Z"
   },
   {
    "duration": 0,
    "start_time": "2023-03-11T09:40:50.042Z"
   },
   {
    "duration": 0,
    "start_time": "2023-03-11T09:40:50.043Z"
   },
   {
    "duration": 0,
    "start_time": "2023-03-11T09:40:50.044Z"
   },
   {
    "duration": 0,
    "start_time": "2023-03-11T09:40:50.045Z"
   },
   {
    "duration": 0,
    "start_time": "2023-03-11T09:40:50.046Z"
   },
   {
    "duration": 0,
    "start_time": "2023-03-11T09:40:50.047Z"
   },
   {
    "duration": 0,
    "start_time": "2023-03-11T09:40:50.048Z"
   },
   {
    "duration": 0,
    "start_time": "2023-03-11T09:40:50.049Z"
   },
   {
    "duration": 0,
    "start_time": "2023-03-11T09:40:50.050Z"
   },
   {
    "duration": 0,
    "start_time": "2023-03-11T09:40:50.052Z"
   },
   {
    "duration": 0,
    "start_time": "2023-03-11T09:40:50.053Z"
   },
   {
    "duration": 0,
    "start_time": "2023-03-11T09:40:50.053Z"
   },
   {
    "duration": 0,
    "start_time": "2023-03-11T09:40:50.054Z"
   },
   {
    "duration": 0,
    "start_time": "2023-03-11T09:40:50.056Z"
   },
   {
    "duration": 0,
    "start_time": "2023-03-11T09:40:50.057Z"
   },
   {
    "duration": 0,
    "start_time": "2023-03-11T09:40:50.058Z"
   },
   {
    "duration": 7,
    "start_time": "2023-03-11T09:41:21.592Z"
   },
   {
    "duration": 9409,
    "start_time": "2023-03-11T09:42:37.514Z"
   },
   {
    "duration": 4,
    "start_time": "2023-03-11T09:42:46.925Z"
   },
   {
    "duration": 98,
    "start_time": "2023-03-11T09:42:46.931Z"
   },
   {
    "duration": 4,
    "start_time": "2023-03-11T09:43:02.381Z"
   },
   {
    "duration": 4,
    "start_time": "2023-03-11T09:43:19.890Z"
   },
   {
    "duration": 3,
    "start_time": "2023-03-11T09:43:24.267Z"
   },
   {
    "duration": 4,
    "start_time": "2023-03-11T09:43:25.150Z"
   },
   {
    "duration": 8,
    "start_time": "2023-03-11T09:44:13.301Z"
   },
   {
    "duration": 10,
    "start_time": "2023-03-11T09:48:29.243Z"
   },
   {
    "duration": 5,
    "start_time": "2023-03-11T09:48:39.495Z"
   },
   {
    "duration": 13,
    "start_time": "2023-03-11T09:48:42.400Z"
   },
   {
    "duration": 7,
    "start_time": "2023-03-11T09:51:07.982Z"
   },
   {
    "duration": 12,
    "start_time": "2023-03-11T09:51:11.025Z"
   },
   {
    "duration": 5,
    "start_time": "2023-03-11T09:51:28.261Z"
   },
   {
    "duration": 16,
    "start_time": "2023-03-11T09:51:32.627Z"
   },
   {
    "duration": 8,
    "start_time": "2023-03-11T09:52:07.576Z"
   },
   {
    "duration": 3,
    "start_time": "2023-03-11T09:52:11.183Z"
   },
   {
    "duration": 3,
    "start_time": "2023-03-11T09:52:13.288Z"
   },
   {
    "duration": 8,
    "start_time": "2023-03-11T09:52:50.685Z"
   },
   {
    "duration": 9,
    "start_time": "2023-03-11T09:53:47.366Z"
   },
   {
    "duration": 4,
    "start_time": "2023-03-11T09:53:59.913Z"
   },
   {
    "duration": 3,
    "start_time": "2023-03-11T09:54:01.129Z"
   },
   {
    "duration": 5,
    "start_time": "2023-03-11T09:54:01.748Z"
   },
   {
    "duration": 10,
    "start_time": "2023-03-11T09:54:02.340Z"
   },
   {
    "duration": 1381,
    "start_time": "2023-03-11T10:10:48.406Z"
   },
   {
    "duration": 316,
    "start_time": "2023-03-11T10:10:49.789Z"
   },
   {
    "duration": 3,
    "start_time": "2023-03-11T10:10:50.106Z"
   },
   {
    "duration": 836,
    "start_time": "2023-03-11T10:10:50.111Z"
   },
   {
    "duration": 32,
    "start_time": "2023-03-11T10:10:50.952Z"
   },
   {
    "duration": 70,
    "start_time": "2023-03-11T10:10:50.985Z"
   },
   {
    "duration": 29,
    "start_time": "2023-03-11T10:10:51.057Z"
   },
   {
    "duration": 25,
    "start_time": "2023-03-11T10:10:51.087Z"
   },
   {
    "duration": 25,
    "start_time": "2023-03-11T10:10:51.113Z"
   },
   {
    "duration": 27,
    "start_time": "2023-03-11T10:10:51.142Z"
   },
   {
    "duration": 295,
    "start_time": "2023-03-11T10:10:51.170Z"
   },
   {
    "duration": 142,
    "start_time": "2023-03-11T10:10:51.468Z"
   },
   {
    "duration": 315,
    "start_time": "2023-03-11T10:10:51.612Z"
   },
   {
    "duration": 6,
    "start_time": "2023-03-11T10:10:51.930Z"
   },
   {
    "duration": 22,
    "start_time": "2023-03-11T10:10:51.938Z"
   },
   {
    "duration": 21,
    "start_time": "2023-03-11T10:10:51.963Z"
   },
   {
    "duration": 13,
    "start_time": "2023-03-11T10:10:51.986Z"
   },
   {
    "duration": 26,
    "start_time": "2023-03-11T10:10:52.000Z"
   },
   {
    "duration": 13,
    "start_time": "2023-03-11T10:10:52.028Z"
   },
   {
    "duration": 20,
    "start_time": "2023-03-11T10:10:52.043Z"
   },
   {
    "duration": 13,
    "start_time": "2023-03-11T10:10:52.065Z"
   },
   {
    "duration": 54,
    "start_time": "2023-03-11T10:10:52.080Z"
   },
   {
    "duration": 29,
    "start_time": "2023-03-11T10:10:52.136Z"
   },
   {
    "duration": 9,
    "start_time": "2023-03-11T10:10:52.166Z"
   },
   {
    "duration": 52,
    "start_time": "2023-03-11T10:10:52.177Z"
   },
   {
    "duration": 36,
    "start_time": "2023-03-11T10:10:52.231Z"
   },
   {
    "duration": 24,
    "start_time": "2023-03-11T10:10:52.269Z"
   },
   {
    "duration": 5,
    "start_time": "2023-03-11T10:10:52.299Z"
   },
   {
    "duration": 22,
    "start_time": "2023-03-11T10:10:52.306Z"
   },
   {
    "duration": 19480,
    "start_time": "2023-03-11T10:10:52.330Z"
   },
   {
    "duration": 23,
    "start_time": "2023-03-11T10:11:11.812Z"
   },
   {
    "duration": 147,
    "start_time": "2023-03-11T10:11:11.838Z"
   },
   {
    "duration": 118,
    "start_time": "2023-03-11T10:11:11.987Z"
   },
   {
    "duration": 4,
    "start_time": "2023-03-11T10:11:12.107Z"
   },
   {
    "duration": 24,
    "start_time": "2023-03-11T10:11:12.120Z"
   },
   {
    "duration": 715,
    "start_time": "2023-03-11T10:11:12.146Z"
   },
   {
    "duration": 626,
    "start_time": "2023-03-11T10:11:12.863Z"
   },
   {
    "duration": 624,
    "start_time": "2023-03-11T10:11:13.490Z"
   },
   {
    "duration": 384,
    "start_time": "2023-03-11T10:11:14.115Z"
   },
   {
    "duration": 5,
    "start_time": "2023-03-11T10:11:14.500Z"
   },
   {
    "duration": 48,
    "start_time": "2023-03-11T10:11:14.507Z"
   },
   {
    "duration": 6,
    "start_time": "2023-03-11T10:11:14.557Z"
   },
   {
    "duration": 3,
    "start_time": "2023-03-11T10:11:14.564Z"
   },
   {
    "duration": 7,
    "start_time": "2023-03-11T10:11:14.569Z"
   },
   {
    "duration": 6,
    "start_time": "2023-03-11T10:11:14.577Z"
   },
   {
    "duration": 718,
    "start_time": "2023-03-11T10:11:14.584Z"
   },
   {
    "duration": 5,
    "start_time": "2023-03-11T10:11:15.304Z"
   },
   {
    "duration": 18,
    "start_time": "2023-03-11T10:11:15.311Z"
   },
   {
    "duration": 14,
    "start_time": "2023-03-11T10:11:15.332Z"
   },
   {
    "duration": 15,
    "start_time": "2023-03-11T10:11:15.349Z"
   },
   {
    "duration": 4,
    "start_time": "2023-03-11T10:11:15.368Z"
   },
   {
    "duration": 4,
    "start_time": "2023-03-11T10:11:15.374Z"
   },
   {
    "duration": 11,
    "start_time": "2023-03-11T10:11:15.380Z"
   },
   {
    "duration": 31,
    "start_time": "2023-03-11T10:11:15.392Z"
   },
   {
    "duration": 11,
    "start_time": "2023-03-11T10:11:15.426Z"
   },
   {
    "duration": 11,
    "start_time": "2023-03-11T10:11:15.440Z"
   },
   {
    "duration": 14,
    "start_time": "2023-03-11T10:11:15.453Z"
   },
   {
    "duration": 8,
    "start_time": "2023-03-11T10:11:15.469Z"
   },
   {
    "duration": 5,
    "start_time": "2023-03-11T10:11:15.479Z"
   },
   {
    "duration": 4,
    "start_time": "2023-03-11T10:11:15.486Z"
   },
   {
    "duration": 50,
    "start_time": "2023-03-11T10:11:15.491Z"
   },
   {
    "duration": 10,
    "start_time": "2023-03-11T10:11:15.543Z"
   },
   {
    "duration": 656,
    "start_time": "2023-03-11T10:11:15.556Z"
   },
   {
    "duration": 23,
    "start_time": "2023-03-11T10:11:16.213Z"
   },
   {
    "duration": 8,
    "start_time": "2023-03-11T10:11:16.238Z"
   },
   {
    "duration": 9,
    "start_time": "2023-03-11T10:11:16.248Z"
   },
   {
    "duration": 9,
    "start_time": "2023-03-11T10:11:16.258Z"
   },
   {
    "duration": 18,
    "start_time": "2023-03-11T10:11:16.269Z"
   },
   {
    "duration": 9,
    "start_time": "2023-03-11T10:11:16.288Z"
   },
   {
    "duration": 6,
    "start_time": "2023-03-11T10:11:16.299Z"
   },
   {
    "duration": 36,
    "start_time": "2023-03-11T10:11:16.306Z"
   },
   {
    "duration": 23,
    "start_time": "2023-03-11T10:11:16.345Z"
   },
   {
    "duration": 5,
    "start_time": "2023-03-11T10:11:16.370Z"
   },
   {
    "duration": 32,
    "start_time": "2023-03-11T10:11:16.377Z"
   },
   {
    "duration": 2,
    "start_time": "2023-03-11T10:11:16.411Z"
   },
   {
    "duration": 5,
    "start_time": "2023-03-11T10:11:16.415Z"
   },
   {
    "duration": 15,
    "start_time": "2023-03-11T10:11:16.421Z"
   },
   {
    "duration": 5,
    "start_time": "2023-03-11T10:11:16.438Z"
   },
   {
    "duration": 17,
    "start_time": "2023-03-11T10:11:16.445Z"
   },
   {
    "duration": 13,
    "start_time": "2023-03-11T10:11:16.465Z"
   },
   {
    "duration": 7,
    "start_time": "2023-03-11T10:11:16.480Z"
   },
   {
    "duration": 26,
    "start_time": "2023-03-11T10:11:16.492Z"
   },
   {
    "duration": 64,
    "start_time": "2023-03-11T10:11:16.520Z"
   },
   {
    "duration": 7,
    "start_time": "2023-03-11T10:11:16.585Z"
   },
   {
    "duration": 14,
    "start_time": "2023-03-11T10:11:16.594Z"
   },
   {
    "duration": 40,
    "start_time": "2023-03-11T10:11:16.609Z"
   },
   {
    "duration": 3,
    "start_time": "2023-03-11T10:11:16.650Z"
   },
   {
    "duration": 8,
    "start_time": "2023-03-11T10:11:16.655Z"
   },
   {
    "duration": 7667,
    "start_time": "2023-03-11T10:11:16.665Z"
   },
   {
    "duration": 13,
    "start_time": "2023-03-11T10:11:24.338Z"
   },
   {
    "duration": 5,
    "start_time": "2023-03-11T10:11:24.426Z"
   },
   {
    "duration": 7,
    "start_time": "2023-03-11T10:11:24.435Z"
   },
   {
    "duration": 8,
    "start_time": "2023-03-11T10:12:06.017Z"
   },
   {
    "duration": 4,
    "start_time": "2023-03-11T10:12:16.693Z"
   },
   {
    "duration": 11,
    "start_time": "2023-03-11T10:12:18.246Z"
   },
   {
    "duration": 4,
    "start_time": "2023-03-11T10:12:29.805Z"
   },
   {
    "duration": 3,
    "start_time": "2023-03-11T10:12:40.011Z"
   },
   {
    "duration": 4,
    "start_time": "2023-03-11T10:12:42.322Z"
   },
   {
    "duration": 147,
    "start_time": "2023-03-11T10:13:02.816Z"
   },
   {
    "duration": 18,
    "start_time": "2023-03-11T10:14:24.638Z"
   },
   {
    "duration": 28,
    "start_time": "2023-03-11T10:16:59.118Z"
   },
   {
    "duration": 6,
    "start_time": "2023-03-11T10:17:21.365Z"
   },
   {
    "duration": 12,
    "start_time": "2023-03-11T10:19:28.338Z"
   },
   {
    "duration": 171,
    "start_time": "2023-03-11T10:20:54.472Z"
   },
   {
    "duration": 5,
    "start_time": "2023-03-11T10:20:58.682Z"
   },
   {
    "duration": 3,
    "start_time": "2023-03-11T10:20:59.176Z"
   },
   {
    "duration": 3,
    "start_time": "2023-03-11T10:20:59.834Z"
   },
   {
    "duration": 6,
    "start_time": "2023-03-11T10:21:02.616Z"
   },
   {
    "duration": 5,
    "start_time": "2023-03-11T10:21:07.010Z"
   },
   {
    "duration": 4,
    "start_time": "2023-03-11T10:21:39.177Z"
   },
   {
    "duration": 3,
    "start_time": "2023-03-11T10:21:40.098Z"
   },
   {
    "duration": 9,
    "start_time": "2023-03-11T10:22:36.553Z"
   },
   {
    "duration": 7,
    "start_time": "2023-03-11T10:22:43.417Z"
   },
   {
    "duration": 3,
    "start_time": "2023-03-11T10:23:02.600Z"
   },
   {
    "duration": 3,
    "start_time": "2023-03-11T10:23:22.372Z"
   },
   {
    "duration": 3,
    "start_time": "2023-03-11T10:23:23.253Z"
   },
   {
    "duration": 214487,
    "start_time": "2023-03-11T10:23:27.698Z"
   },
   {
    "duration": 3,
    "start_time": "2023-03-11T10:27:02.187Z"
   },
   {
    "duration": 13,
    "start_time": "2023-03-11T10:27:02.191Z"
   },
   {
    "duration": 3,
    "start_time": "2023-03-11T10:27:02.206Z"
   },
   {
    "duration": 24,
    "start_time": "2023-03-11T10:27:02.211Z"
   },
   {
    "duration": 263461,
    "start_time": "2023-03-11T10:27:02.237Z"
   },
   {
    "duration": 0,
    "start_time": "2023-03-11T10:31:25.699Z"
   },
   {
    "duration": 0,
    "start_time": "2023-03-11T10:31:25.701Z"
   },
   {
    "duration": 0,
    "start_time": "2023-03-11T10:31:25.702Z"
   },
   {
    "duration": 0,
    "start_time": "2023-03-11T10:31:25.702Z"
   },
   {
    "duration": 0,
    "start_time": "2023-03-11T10:31:25.703Z"
   },
   {
    "duration": 781009,
    "start_time": "2023-03-11T10:31:53.872Z"
   },
   {
    "duration": 5,
    "start_time": "2023-03-11T10:44:54.883Z"
   },
   {
    "duration": 4,
    "start_time": "2023-03-11T10:44:54.890Z"
   },
   {
    "duration": 7,
    "start_time": "2023-03-11T10:44:54.896Z"
   },
   {
    "duration": 17,
    "start_time": "2023-03-11T10:44:54.905Z"
   },
   {
    "duration": 11210,
    "start_time": "2023-03-11T10:44:54.924Z"
   },
   {
    "duration": 6,
    "start_time": "2023-03-11T10:45:06.139Z"
   },
   {
    "duration": 85,
    "start_time": "2023-03-11T10:45:06.151Z"
   },
   {
    "duration": 3,
    "start_time": "2023-03-11T10:45:06.239Z"
   },
   {
    "duration": 7,
    "start_time": "2023-03-11T10:45:06.244Z"
   },
   {
    "duration": 17,
    "start_time": "2023-03-11T10:45:06.253Z"
   },
   {
    "duration": 6,
    "start_time": "2023-03-11T10:45:06.273Z"
   },
   {
    "duration": 191861,
    "start_time": "2023-03-11T10:45:06.281Z"
   },
   {
    "duration": 5,
    "start_time": "2023-03-11T10:48:18.143Z"
   },
   {
    "duration": 5,
    "start_time": "2023-03-11T10:48:18.149Z"
   },
   {
    "duration": 3,
    "start_time": "2023-03-11T10:48:18.156Z"
   },
   {
    "duration": 4,
    "start_time": "2023-03-11T10:48:18.161Z"
   },
   {
    "duration": 1567966,
    "start_time": "2023-03-11T10:48:18.166Z"
   },
   {
    "duration": 3,
    "start_time": "2023-03-11T11:14:26.134Z"
   },
   {
    "duration": 9,
    "start_time": "2023-03-11T11:14:26.138Z"
   },
   {
    "duration": 4,
    "start_time": "2023-03-11T11:14:26.149Z"
   },
   {
    "duration": 4,
    "start_time": "2023-03-11T11:14:26.155Z"
   },
   {
    "duration": 5,
    "start_time": "2023-03-11T11:14:26.161Z"
   },
   {
    "duration": 6,
    "start_time": "2023-03-11T11:14:26.168Z"
   },
   {
    "duration": 5,
    "start_time": "2023-03-11T11:14:26.175Z"
   },
   {
    "duration": 9,
    "start_time": "2023-03-11T11:14:26.181Z"
   },
   {
    "duration": 257,
    "start_time": "2023-03-11T11:14:26.192Z"
   },
   {
    "duration": 4,
    "start_time": "2023-03-11T11:14:26.451Z"
   },
   {
    "duration": 8,
    "start_time": "2023-03-11T11:14:26.457Z"
   },
   {
    "duration": 4,
    "start_time": "2023-03-11T11:14:26.466Z"
   },
   {
    "duration": 6,
    "start_time": "2023-03-11T11:14:26.472Z"
   },
   {
    "duration": 5,
    "start_time": "2023-03-11T11:14:26.522Z"
   },
   {
    "duration": 13,
    "start_time": "2023-03-11T11:14:26.529Z"
   },
   {
    "duration": 97,
    "start_time": "2023-03-11T11:14:26.544Z"
   },
   {
    "duration": 0,
    "start_time": "2023-03-11T11:14:26.642Z"
   },
   {
    "duration": 0,
    "start_time": "2023-03-11T11:14:26.643Z"
   },
   {
    "duration": 0,
    "start_time": "2023-03-11T11:14:26.644Z"
   },
   {
    "duration": 0,
    "start_time": "2023-03-11T11:14:26.646Z"
   },
   {
    "duration": 0,
    "start_time": "2023-03-11T11:14:26.647Z"
   },
   {
    "duration": 0,
    "start_time": "2023-03-11T11:14:26.648Z"
   },
   {
    "duration": 0,
    "start_time": "2023-03-11T11:14:26.650Z"
   },
   {
    "duration": 0,
    "start_time": "2023-03-11T11:14:26.651Z"
   },
   {
    "duration": 0,
    "start_time": "2023-03-11T11:14:26.652Z"
   },
   {
    "duration": 0,
    "start_time": "2023-03-11T11:14:26.653Z"
   },
   {
    "duration": 6,
    "start_time": "2023-03-11T11:16:12.541Z"
   },
   {
    "duration": 4,
    "start_time": "2023-03-11T11:16:14.905Z"
   },
   {
    "duration": 4,
    "start_time": "2023-03-11T11:16:15.676Z"
   },
   {
    "duration": 3,
    "start_time": "2023-03-11T11:16:18.512Z"
   },
   {
    "duration": 4,
    "start_time": "2023-03-11T11:16:19.390Z"
   },
   {
    "duration": 5,
    "start_time": "2023-03-11T11:16:28.104Z"
   },
   {
    "duration": 5,
    "start_time": "2023-03-11T11:16:28.869Z"
   },
   {
    "duration": 2,
    "start_time": "2023-03-11T11:16:31.383Z"
   },
   {
    "duration": 6,
    "start_time": "2023-03-11T11:16:32.026Z"
   },
   {
    "duration": 7,
    "start_time": "2023-03-11T11:16:32.234Z"
   },
   {
    "duration": 5,
    "start_time": "2023-03-11T11:16:32.475Z"
   }
  ],
  "kernelspec": {
   "display_name": "Python 3 (ipykernel)",
   "language": "python",
   "name": "python3"
  },
  "language_info": {
   "codemirror_mode": {
    "name": "ipython",
    "version": 3
   },
   "file_extension": ".py",
   "mimetype": "text/x-python",
   "name": "python",
   "nbconvert_exporter": "python",
   "pygments_lexer": "ipython3",
   "version": "3.9.13"
  },
  "toc": {
   "base_numbering": 1,
   "nav_menu": {},
   "number_sections": true,
   "sideBar": true,
   "skip_h1_title": true,
   "title_cell": "Содержание",
   "title_sidebar": "Contents",
   "toc_cell": true,
   "toc_position": {
    "height": "calc(100% - 180px)",
    "left": "10px",
    "top": "150px",
    "width": "165px"
   },
   "toc_section_display": true,
   "toc_window_display": true
  }
 },
 "nbformat": 4,
 "nbformat_minor": 2
}
