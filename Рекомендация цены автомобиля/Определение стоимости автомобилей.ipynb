{
 "cells": [
  {
   "cell_type": "markdown",
   "metadata": {},
   "source": [
    "# Определение стоимости автомобилей"
   ]
  },
  {
   "cell_type": "markdown",
   "metadata": {},
   "source": [
    "Сервис по продаже автомобилей с пробегом разрабатывает приложение для привлечения новых клиентов. В нём можно быстро узнать рыночную стоимость своего автомобиля. В вашем распоряжении исторические данные: технические характеристики, комплектации и цены автомобилей. Вам нужно построить модель для определения стоимости. \n",
    "\n",
    "Заказчику важны:\n",
    "\n",
    "- качество предсказания;\n",
    "- скорость предсказания;\n",
    "- время обучения.\n",
    "\n",
    "Необходимо проверить как минимум LightGBM и одну модель не бустинг. Параметр качества- RSME, должен быть не выше 2500."
   ]
  },
  {
   "cell_type": "markdown",
   "metadata": {},
   "source": [
    "## Подготовка данных"
   ]
  },
  {
   "cell_type": "code",
   "execution_count": 1,
   "metadata": {},
   "outputs": [
    {
     "name": "stdout",
     "output_type": "stream",
     "text": [
      "Requirement already satisfied: lightgbm in c:\\users\\79263\\anaconda3\\lib\\site-packages (4.0.0)\n",
      "Requirement already satisfied: numpy in c:\\users\\79263\\anaconda3\\lib\\site-packages (from lightgbm) (1.23.5)\n",
      "Requirement already satisfied: scipy in c:\\users\\79263\\anaconda3\\lib\\site-packages (from lightgbm) (1.9.1)\n",
      "Note: you may need to restart the kernel to use updated packages.\n"
     ]
    },
    {
     "name": "stderr",
     "output_type": "stream",
     "text": [
      "\n",
      "[notice] A new release of pip is available: 23.1.2 -> 23.2.1\n",
      "[notice] To update, run: python.exe -m pip install --upgrade pip\n"
     ]
    }
   ],
   "source": [
    "pip install lightgbm"
   ]
  },
  {
   "cell_type": "code",
   "execution_count": 2,
   "metadata": {},
   "outputs": [
    {
     "name": "stdout",
     "output_type": "stream",
     "text": [
      "Requirement already satisfied: scikit-learn==1.1.3 in c:\\users\\79263\\anaconda3\\lib\\site-packages (1.1.3)\n",
      "Requirement already satisfied: numpy>=1.17.3 in c:\\users\\79263\\anaconda3\\lib\\site-packages (from scikit-learn==1.1.3) (1.23.5)\n",
      "Requirement already satisfied: scipy>=1.3.2 in c:\\users\\79263\\anaconda3\\lib\\site-packages (from scikit-learn==1.1.3) (1.9.1)\n",
      "Requirement already satisfied: joblib>=1.0.0 in c:\\users\\79263\\anaconda3\\lib\\site-packages (from scikit-learn==1.1.3) (1.1.0)\n",
      "Requirement already satisfied: threadpoolctl>=2.0.0 in c:\\users\\79263\\anaconda3\\lib\\site-packages (from scikit-learn==1.1.3) (2.2.0)\n"
     ]
    },
    {
     "name": "stderr",
     "output_type": "stream",
     "text": [
      "\n",
      "[notice] A new release of pip is available: 23.1.2 -> 23.2.1\n",
      "[notice] To update, run: python.exe -m pip install --upgrade pip\n"
     ]
    }
   ],
   "source": [
    "!pip install scikit-learn==1.1.3"
   ]
  },
  {
   "cell_type": "code",
   "execution_count": 3,
   "metadata": {},
   "outputs": [
    {
     "name": "stdout",
     "output_type": "stream",
     "text": [
      "Requirement already satisfied: catboost in c:\\users\\79263\\anaconda3\\lib\\site-packages (1.2)\n",
      "Requirement already satisfied: graphviz in c:\\users\\79263\\anaconda3\\lib\\site-packages (from catboost) (0.20.1)\n",
      "Requirement already satisfied: matplotlib in c:\\users\\79263\\anaconda3\\lib\\site-packages (from catboost) (3.5.2)\n",
      "Requirement already satisfied: numpy>=1.16.0 in c:\\users\\79263\\anaconda3\\lib\\site-packages (from catboost) (1.23.5)\n",
      "Requirement already satisfied: pandas>=0.24 in c:\\users\\79263\\anaconda3\\lib\\site-packages (from catboost) (1.4.4)\n",
      "Requirement already satisfied: scipy in c:\\users\\79263\\anaconda3\\lib\\site-packages (from catboost) (1.9.1)\n",
      "Requirement already satisfied: plotly in c:\\users\\79263\\anaconda3\\lib\\site-packages (from catboost) (5.9.0)\n",
      "Requirement already satisfied: six in c:\\users\\79263\\anaconda3\\lib\\site-packages (from catboost) (1.16.0)\n",
      "Requirement already satisfied: python-dateutil>=2.8.1 in c:\\users\\79263\\anaconda3\\lib\\site-packages (from pandas>=0.24->catboost) (2.8.2)\n",
      "Requirement already satisfied: pytz>=2020.1 in c:\\users\\79263\\anaconda3\\lib\\site-packages (from pandas>=0.24->catboost) (2022.1)\n",
      "Requirement already satisfied: cycler>=0.10 in c:\\users\\79263\\anaconda3\\lib\\site-packages (from matplotlib->catboost) (0.11.0)\n",
      "Requirement already satisfied: fonttools>=4.22.0 in c:\\users\\79263\\anaconda3\\lib\\site-packages (from matplotlib->catboost) (4.25.0)\n",
      "Requirement already satisfied: kiwisolver>=1.0.1 in c:\\users\\79263\\anaconda3\\lib\\site-packages (from matplotlib->catboost) (1.4.2)\n",
      "Requirement already satisfied: packaging>=20.0 in c:\\users\\79263\\anaconda3\\lib\\site-packages (from matplotlib->catboost) (21.3)\n",
      "Requirement already satisfied: pillow>=6.2.0 in c:\\users\\79263\\anaconda3\\lib\\site-packages (from matplotlib->catboost) (9.2.0)\n",
      "Requirement already satisfied: pyparsing>=2.2.1 in c:\\users\\79263\\anaconda3\\lib\\site-packages (from matplotlib->catboost) (3.0.9)\n",
      "Requirement already satisfied: tenacity>=6.2.0 in c:\\users\\79263\\anaconda3\\lib\\site-packages (from plotly->catboost) (8.0.1)\n"
     ]
    },
    {
     "name": "stderr",
     "output_type": "stream",
     "text": [
      "\n",
      "[notice] A new release of pip is available: 23.1.2 -> 23.2.1\n",
      "[notice] To update, run: python.exe -m pip install --upgrade pip\n"
     ]
    }
   ],
   "source": [
    "!pip3 install catboost"
   ]
  },
  {
   "cell_type": "code",
   "execution_count": 4,
   "metadata": {},
   "outputs": [],
   "source": [
    "import pandas as pd\n",
    "import numpy as np\n",
    "import matplotlib.pyplot as plt\n",
    "import lightgbm as lgb\n",
    "import warnings\n",
    "warnings.filterwarnings('ignore')\n",
    "from sklearn.preprocessing import OneHotEncoder,StandardScaler,OrdinalEncoder\n",
    "from sklearn.model_selection import train_test_split\n",
    "\n",
    "from sklearn.metrics import make_scorer\n",
    "from sklearn.linear_model import Ridge\n",
    "from catboost import CatBoostRegressor\n",
    "from lightgbm import LGBMRegressor\n",
    "from sklearn.metrics import mean_squared_error \n",
    "from sklearn.model_selection import GridSearchCV\n",
    "from sklearn.dummy import DummyRegressor\n",
    "import time"
   ]
  },
  {
   "cell_type": "code",
   "execution_count": 5,
   "metadata": {},
   "outputs": [],
   "source": [
    "data = pd.read_csv('autos.csv.crdownload')"
   ]
  },
  {
   "cell_type": "code",
   "execution_count": 6,
   "metadata": {},
   "outputs": [
    {
     "data": {
      "text/html": [
       "<div>\n",
       "<style scoped>\n",
       "    .dataframe tbody tr th:only-of-type {\n",
       "        vertical-align: middle;\n",
       "    }\n",
       "\n",
       "    .dataframe tbody tr th {\n",
       "        vertical-align: top;\n",
       "    }\n",
       "\n",
       "    .dataframe thead th {\n",
       "        text-align: right;\n",
       "    }\n",
       "</style>\n",
       "<table border=\"1\" class=\"dataframe\">\n",
       "  <thead>\n",
       "    <tr style=\"text-align: right;\">\n",
       "      <th></th>\n",
       "      <th>DateCrawled</th>\n",
       "      <th>Price</th>\n",
       "      <th>VehicleType</th>\n",
       "      <th>RegistrationYear</th>\n",
       "      <th>Gearbox</th>\n",
       "      <th>Power</th>\n",
       "      <th>Model</th>\n",
       "      <th>Kilometer</th>\n",
       "      <th>RegistrationMonth</th>\n",
       "      <th>FuelType</th>\n",
       "      <th>Brand</th>\n",
       "      <th>Repaired</th>\n",
       "      <th>DateCreated</th>\n",
       "      <th>NumberOfPictures</th>\n",
       "      <th>PostalCode</th>\n",
       "      <th>LastSeen</th>\n",
       "    </tr>\n",
       "  </thead>\n",
       "  <tbody>\n",
       "    <tr>\n",
       "      <th>0</th>\n",
       "      <td>2016-03-24 11:52:17</td>\n",
       "      <td>480.0</td>\n",
       "      <td>NaN</td>\n",
       "      <td>1993.0</td>\n",
       "      <td>manual</td>\n",
       "      <td>0.0</td>\n",
       "      <td>golf</td>\n",
       "      <td>150000.0</td>\n",
       "      <td>0.0</td>\n",
       "      <td>petrol</td>\n",
       "      <td>volkswagen</td>\n",
       "      <td>NaN</td>\n",
       "      <td>2016-03-24 00:00:00</td>\n",
       "      <td>0.0</td>\n",
       "      <td>70435.0</td>\n",
       "      <td>2016-04-07 03:16:57</td>\n",
       "    </tr>\n",
       "    <tr>\n",
       "      <th>1</th>\n",
       "      <td>2016-03-24 10:58:45</td>\n",
       "      <td>18300.0</td>\n",
       "      <td>coupe</td>\n",
       "      <td>2011.0</td>\n",
       "      <td>manual</td>\n",
       "      <td>190.0</td>\n",
       "      <td>NaN</td>\n",
       "      <td>125000.0</td>\n",
       "      <td>5.0</td>\n",
       "      <td>gasoline</td>\n",
       "      <td>audi</td>\n",
       "      <td>yes</td>\n",
       "      <td>2016-03-24 00:00:00</td>\n",
       "      <td>0.0</td>\n",
       "      <td>66954.0</td>\n",
       "      <td>2016-04-07 01:46:50</td>\n",
       "    </tr>\n",
       "    <tr>\n",
       "      <th>2</th>\n",
       "      <td>2016-03-14 12:52:21</td>\n",
       "      <td>9800.0</td>\n",
       "      <td>suv</td>\n",
       "      <td>2004.0</td>\n",
       "      <td>auto</td>\n",
       "      <td>163.0</td>\n",
       "      <td>grand</td>\n",
       "      <td>125000.0</td>\n",
       "      <td>8.0</td>\n",
       "      <td>gasoline</td>\n",
       "      <td>jeep</td>\n",
       "      <td>NaN</td>\n",
       "      <td>2016-03-14 00:00:00</td>\n",
       "      <td>0.0</td>\n",
       "      <td>90480.0</td>\n",
       "      <td>2016-04-05 12:47:46</td>\n",
       "    </tr>\n",
       "    <tr>\n",
       "      <th>3</th>\n",
       "      <td>2016-03-17 16:54:04</td>\n",
       "      <td>1500.0</td>\n",
       "      <td>small</td>\n",
       "      <td>2001.0</td>\n",
       "      <td>manual</td>\n",
       "      <td>75.0</td>\n",
       "      <td>golf</td>\n",
       "      <td>150000.0</td>\n",
       "      <td>6.0</td>\n",
       "      <td>petrol</td>\n",
       "      <td>volkswagen</td>\n",
       "      <td>no</td>\n",
       "      <td>2016-03-17 00:00:00</td>\n",
       "      <td>0.0</td>\n",
       "      <td>91074.0</td>\n",
       "      <td>2016-03-17 17:40:17</td>\n",
       "    </tr>\n",
       "    <tr>\n",
       "      <th>4</th>\n",
       "      <td>2016-03-31 17:25:20</td>\n",
       "      <td>3600.0</td>\n",
       "      <td>small</td>\n",
       "      <td>2008.0</td>\n",
       "      <td>manual</td>\n",
       "      <td>69.0</td>\n",
       "      <td>fabia</td>\n",
       "      <td>90000.0</td>\n",
       "      <td>7.0</td>\n",
       "      <td>gasoline</td>\n",
       "      <td>skoda</td>\n",
       "      <td>no</td>\n",
       "      <td>2016-03-31 00:00:00</td>\n",
       "      <td>0.0</td>\n",
       "      <td>60437.0</td>\n",
       "      <td>2016-04-06 10:17:21</td>\n",
       "    </tr>\n",
       "  </tbody>\n",
       "</table>\n",
       "</div>"
      ],
      "text/plain": [
       "           DateCrawled    Price VehicleType  RegistrationYear Gearbox  Power  \\\n",
       "0  2016-03-24 11:52:17    480.0         NaN            1993.0  manual    0.0   \n",
       "1  2016-03-24 10:58:45  18300.0       coupe            2011.0  manual  190.0   \n",
       "2  2016-03-14 12:52:21   9800.0         suv            2004.0    auto  163.0   \n",
       "3  2016-03-17 16:54:04   1500.0       small            2001.0  manual   75.0   \n",
       "4  2016-03-31 17:25:20   3600.0       small            2008.0  manual   69.0   \n",
       "\n",
       "   Model  Kilometer  RegistrationMonth  FuelType       Brand Repaired  \\\n",
       "0   golf   150000.0                0.0    petrol  volkswagen      NaN   \n",
       "1    NaN   125000.0                5.0  gasoline        audi      yes   \n",
       "2  grand   125000.0                8.0  gasoline        jeep      NaN   \n",
       "3   golf   150000.0                6.0    petrol  volkswagen       no   \n",
       "4  fabia    90000.0                7.0  gasoline       skoda       no   \n",
       "\n",
       "           DateCreated  NumberOfPictures  PostalCode             LastSeen  \n",
       "0  2016-03-24 00:00:00               0.0     70435.0  2016-04-07 03:16:57  \n",
       "1  2016-03-24 00:00:00               0.0     66954.0  2016-04-07 01:46:50  \n",
       "2  2016-03-14 00:00:00               0.0     90480.0  2016-04-05 12:47:46  \n",
       "3  2016-03-17 00:00:00               0.0     91074.0  2016-03-17 17:40:17  \n",
       "4  2016-03-31 00:00:00               0.0     60437.0  2016-04-06 10:17:21  "
      ]
     },
     "execution_count": 6,
     "metadata": {},
     "output_type": "execute_result"
    }
   ],
   "source": [
    "data.head(5)"
   ]
  },
  {
   "cell_type": "code",
   "execution_count": 7,
   "metadata": {},
   "outputs": [
    {
     "name": "stdout",
     "output_type": "stream",
     "text": [
      "<class 'pandas.core.frame.DataFrame'>\n",
      "RangeIndex: 154256 entries, 0 to 154255\n",
      "Data columns (total 16 columns):\n",
      " #   Column             Non-Null Count   Dtype  \n",
      "---  ------             --------------   -----  \n",
      " 0   DateCrawled        154256 non-null  object \n",
      " 1   Price              154255 non-null  float64\n",
      " 2   VehicleType        138045 non-null  object \n",
      " 3   RegistrationYear   154255 non-null  float64\n",
      " 4   Gearbox            145645 non-null  object \n",
      " 5   Power              154255 non-null  float64\n",
      " 6   Model              145674 non-null  object \n",
      " 7   Kilometer          154255 non-null  float64\n",
      " 8   RegistrationMonth  154255 non-null  float64\n",
      " 9   FuelType           139888 non-null  object \n",
      " 10  Brand              154255 non-null  object \n",
      " 11  Repaired           123198 non-null  object \n",
      " 12  DateCreated        154255 non-null  object \n",
      " 13  NumberOfPictures   154255 non-null  float64\n",
      " 14  PostalCode         154255 non-null  float64\n",
      " 15  LastSeen           154255 non-null  object \n",
      "dtypes: float64(7), object(9)\n",
      "memory usage: 18.8+ MB\n"
     ]
    }
   ],
   "source": [
    "data.info()"
   ]
  },
  {
   "cell_type": "markdown",
   "metadata": {},
   "source": [
    "для предсказания цены автомобиля не играют роли такие признаки как: DateCrawled,PostalCode,LastSeen,RegistrationMonth,RegistrationMonth"
   ]
  },
  {
   "cell_type": "code",
   "execution_count": 8,
   "metadata": {},
   "outputs": [],
   "source": [
    "data.drop(['DateCrawled', 'PostalCode', 'LastSeen','RegistrationMonth','DateCreated'], axis = 1, inplace= True)"
   ]
  },
  {
   "cell_type": "code",
   "execution_count": 9,
   "metadata": {},
   "outputs": [
    {
     "name": "stdout",
     "output_type": "stream",
     "text": [
      "<class 'pandas.core.frame.DataFrame'>\n",
      "RangeIndex: 154256 entries, 0 to 154255\n",
      "Data columns (total 11 columns):\n",
      " #   Column            Non-Null Count   Dtype  \n",
      "---  ------            --------------   -----  \n",
      " 0   Price             154255 non-null  float64\n",
      " 1   VehicleType       138045 non-null  object \n",
      " 2   RegistrationYear  154255 non-null  float64\n",
      " 3   Gearbox           145645 non-null  object \n",
      " 4   Power             154255 non-null  float64\n",
      " 5   Model             145674 non-null  object \n",
      " 6   Kilometer         154255 non-null  float64\n",
      " 7   FuelType          139888 non-null  object \n",
      " 8   Brand             154255 non-null  object \n",
      " 9   Repaired          123198 non-null  object \n",
      " 10  NumberOfPictures  154255 non-null  float64\n",
      "dtypes: float64(5), object(6)\n",
      "memory usage: 12.9+ MB\n"
     ]
    }
   ],
   "source": [
    "data.info()"
   ]
  },
  {
   "cell_type": "code",
   "execution_count": 10,
   "metadata": {},
   "outputs": [],
   "source": [
    "data.columns = data.columns.str.lower()"
   ]
  },
  {
   "cell_type": "code",
   "execution_count": 11,
   "metadata": {},
   "outputs": [
    {
     "data": {
      "text/html": [
       "<div>\n",
       "<style scoped>\n",
       "    .dataframe tbody tr th:only-of-type {\n",
       "        vertical-align: middle;\n",
       "    }\n",
       "\n",
       "    .dataframe tbody tr th {\n",
       "        vertical-align: top;\n",
       "    }\n",
       "\n",
       "    .dataframe thead th {\n",
       "        text-align: right;\n",
       "    }\n",
       "</style>\n",
       "<table border=\"1\" class=\"dataframe\">\n",
       "  <thead>\n",
       "    <tr style=\"text-align: right;\">\n",
       "      <th></th>\n",
       "      <th>price</th>\n",
       "      <th>vehicletype</th>\n",
       "      <th>registrationyear</th>\n",
       "      <th>gearbox</th>\n",
       "      <th>power</th>\n",
       "      <th>model</th>\n",
       "      <th>kilometer</th>\n",
       "      <th>fueltype</th>\n",
       "      <th>brand</th>\n",
       "      <th>repaired</th>\n",
       "      <th>numberofpictures</th>\n",
       "    </tr>\n",
       "  </thead>\n",
       "  <tbody>\n",
       "    <tr>\n",
       "      <th>0</th>\n",
       "      <td>480.0</td>\n",
       "      <td>NaN</td>\n",
       "      <td>1993.0</td>\n",
       "      <td>manual</td>\n",
       "      <td>0.0</td>\n",
       "      <td>golf</td>\n",
       "      <td>150000.0</td>\n",
       "      <td>petrol</td>\n",
       "      <td>volkswagen</td>\n",
       "      <td>NaN</td>\n",
       "      <td>0.0</td>\n",
       "    </tr>\n",
       "    <tr>\n",
       "      <th>1</th>\n",
       "      <td>18300.0</td>\n",
       "      <td>coupe</td>\n",
       "      <td>2011.0</td>\n",
       "      <td>manual</td>\n",
       "      <td>190.0</td>\n",
       "      <td>NaN</td>\n",
       "      <td>125000.0</td>\n",
       "      <td>gasoline</td>\n",
       "      <td>audi</td>\n",
       "      <td>yes</td>\n",
       "      <td>0.0</td>\n",
       "    </tr>\n",
       "    <tr>\n",
       "      <th>2</th>\n",
       "      <td>9800.0</td>\n",
       "      <td>suv</td>\n",
       "      <td>2004.0</td>\n",
       "      <td>auto</td>\n",
       "      <td>163.0</td>\n",
       "      <td>grand</td>\n",
       "      <td>125000.0</td>\n",
       "      <td>gasoline</td>\n",
       "      <td>jeep</td>\n",
       "      <td>NaN</td>\n",
       "      <td>0.0</td>\n",
       "    </tr>\n",
       "    <tr>\n",
       "      <th>3</th>\n",
       "      <td>1500.0</td>\n",
       "      <td>small</td>\n",
       "      <td>2001.0</td>\n",
       "      <td>manual</td>\n",
       "      <td>75.0</td>\n",
       "      <td>golf</td>\n",
       "      <td>150000.0</td>\n",
       "      <td>petrol</td>\n",
       "      <td>volkswagen</td>\n",
       "      <td>no</td>\n",
       "      <td>0.0</td>\n",
       "    </tr>\n",
       "    <tr>\n",
       "      <th>4</th>\n",
       "      <td>3600.0</td>\n",
       "      <td>small</td>\n",
       "      <td>2008.0</td>\n",
       "      <td>manual</td>\n",
       "      <td>69.0</td>\n",
       "      <td>fabia</td>\n",
       "      <td>90000.0</td>\n",
       "      <td>gasoline</td>\n",
       "      <td>skoda</td>\n",
       "      <td>no</td>\n",
       "      <td>0.0</td>\n",
       "    </tr>\n",
       "    <tr>\n",
       "      <th>...</th>\n",
       "      <td>...</td>\n",
       "      <td>...</td>\n",
       "      <td>...</td>\n",
       "      <td>...</td>\n",
       "      <td>...</td>\n",
       "      <td>...</td>\n",
       "      <td>...</td>\n",
       "      <td>...</td>\n",
       "      <td>...</td>\n",
       "      <td>...</td>\n",
       "      <td>...</td>\n",
       "    </tr>\n",
       "    <tr>\n",
       "      <th>154251</th>\n",
       "      <td>5000.0</td>\n",
       "      <td>NaN</td>\n",
       "      <td>2007.0</td>\n",
       "      <td>NaN</td>\n",
       "      <td>0.0</td>\n",
       "      <td>touran</td>\n",
       "      <td>5000.0</td>\n",
       "      <td>gasoline</td>\n",
       "      <td>volkswagen</td>\n",
       "      <td>no</td>\n",
       "      <td>0.0</td>\n",
       "    </tr>\n",
       "    <tr>\n",
       "      <th>154252</th>\n",
       "      <td>900.0</td>\n",
       "      <td>small</td>\n",
       "      <td>1996.0</td>\n",
       "      <td>manual</td>\n",
       "      <td>0.0</td>\n",
       "      <td>polo</td>\n",
       "      <td>150000.0</td>\n",
       "      <td>petrol</td>\n",
       "      <td>volkswagen</td>\n",
       "      <td>no</td>\n",
       "      <td>0.0</td>\n",
       "    </tr>\n",
       "    <tr>\n",
       "      <th>154253</th>\n",
       "      <td>5200.0</td>\n",
       "      <td>sedan</td>\n",
       "      <td>2006.0</td>\n",
       "      <td>auto</td>\n",
       "      <td>105.0</td>\n",
       "      <td>astra</td>\n",
       "      <td>125000.0</td>\n",
       "      <td>petrol</td>\n",
       "      <td>opel</td>\n",
       "      <td>no</td>\n",
       "      <td>0.0</td>\n",
       "    </tr>\n",
       "    <tr>\n",
       "      <th>154254</th>\n",
       "      <td>2800.0</td>\n",
       "      <td>wagon</td>\n",
       "      <td>2006.0</td>\n",
       "      <td>manual</td>\n",
       "      <td>125.0</td>\n",
       "      <td>astra</td>\n",
       "      <td>150000.0</td>\n",
       "      <td>petrol</td>\n",
       "      <td>opel</td>\n",
       "      <td>yes</td>\n",
       "      <td>0.0</td>\n",
       "    </tr>\n",
       "    <tr>\n",
       "      <th>154255</th>\n",
       "      <td>NaN</td>\n",
       "      <td>NaN</td>\n",
       "      <td>NaN</td>\n",
       "      <td>NaN</td>\n",
       "      <td>NaN</td>\n",
       "      <td>NaN</td>\n",
       "      <td>NaN</td>\n",
       "      <td>NaN</td>\n",
       "      <td>NaN</td>\n",
       "      <td>NaN</td>\n",
       "      <td>NaN</td>\n",
       "    </tr>\n",
       "  </tbody>\n",
       "</table>\n",
       "<p>154256 rows × 11 columns</p>\n",
       "</div>"
      ],
      "text/plain": [
       "          price vehicletype  registrationyear gearbox  power   model  \\\n",
       "0         480.0         NaN            1993.0  manual    0.0    golf   \n",
       "1       18300.0       coupe            2011.0  manual  190.0     NaN   \n",
       "2        9800.0         suv            2004.0    auto  163.0   grand   \n",
       "3        1500.0       small            2001.0  manual   75.0    golf   \n",
       "4        3600.0       small            2008.0  manual   69.0   fabia   \n",
       "...         ...         ...               ...     ...    ...     ...   \n",
       "154251   5000.0         NaN            2007.0     NaN    0.0  touran   \n",
       "154252    900.0       small            1996.0  manual    0.0    polo   \n",
       "154253   5200.0       sedan            2006.0    auto  105.0   astra   \n",
       "154254   2800.0       wagon            2006.0  manual  125.0   astra   \n",
       "154255      NaN         NaN               NaN     NaN    NaN     NaN   \n",
       "\n",
       "        kilometer  fueltype       brand repaired  numberofpictures  \n",
       "0        150000.0    petrol  volkswagen      NaN               0.0  \n",
       "1        125000.0  gasoline        audi      yes               0.0  \n",
       "2        125000.0  gasoline        jeep      NaN               0.0  \n",
       "3        150000.0    petrol  volkswagen       no               0.0  \n",
       "4         90000.0  gasoline       skoda       no               0.0  \n",
       "...           ...       ...         ...      ...               ...  \n",
       "154251     5000.0  gasoline  volkswagen       no               0.0  \n",
       "154252   150000.0    petrol  volkswagen       no               0.0  \n",
       "154253   125000.0    petrol        opel       no               0.0  \n",
       "154254   150000.0    petrol        opel      yes               0.0  \n",
       "154255        NaN       NaN         NaN      NaN               NaN  \n",
       "\n",
       "[154256 rows x 11 columns]"
      ]
     },
     "execution_count": 11,
     "metadata": {},
     "output_type": "execute_result"
    }
   ],
   "source": [
    "data"
   ]
  },
  {
   "cell_type": "code",
   "execution_count": 12,
   "metadata": {},
   "outputs": [],
   "source": [
    "data.rename(columns= {'vehicletype':'vehicle_type', 'registrationyear':'registration_year','fueltype':'fuel_type', 'numberofpictures':'number_of_pictures'}, inplace=True)"
   ]
  },
  {
   "cell_type": "code",
   "execution_count": 13,
   "metadata": {},
   "outputs": [
    {
     "data": {
      "text/plain": [
       "<function matplotlib.pyplot.show(close=None, block=None)>"
      ]
     },
     "execution_count": 13,
     "metadata": {},
     "output_type": "execute_result"
    },
    {
     "data": {
      "image/png": "[encoded data removed]",
      "text/plain": [
       "<Figure size 1500x2000 with 6 Axes>"
      ]
     },
     "metadata": {},
     "output_type": "display_data"
    }
   ],
   "source": [
    "data.hist(figsize=(15,20))\n",
    "plt.show"
   ]
  },
  {
   "cell_type": "markdown",
   "metadata": {},
   "source": [
    "По первому взгляду на графики можно сразу отметить, что точно есть какая-то ошибка или выброс в признаках RegistrationYear и Power, а еще огромное количество автомобилей с нулевой ценой. Еще вызывает подозрение признак NumberOfPictures(там что, одни нули?). ПОсмотрим колонку number_of_pictures, чтобы сразу удалить ее сразу, если там действительно нули"
   ]
  },
  {
   "cell_type": "code",
   "execution_count": 14,
   "metadata": {},
   "outputs": [
    {
     "data": {
      "text/plain": [
       "count    154255.0\n",
       "mean          0.0\n",
       "std           0.0\n",
       "min           0.0\n",
       "25%           0.0\n",
       "50%           0.0\n",
       "75%           0.0\n",
       "max           0.0\n",
       "Name: number_of_pictures, dtype: float64"
      ]
     },
     "execution_count": 14,
     "metadata": {},
     "output_type": "execute_result"
    }
   ],
   "source": [
    "data.number_of_pictures.describe()"
   ]
  },
  {
   "cell_type": "markdown",
   "metadata": {},
   "source": [
    "Действительно, одни нуди.удаляем этот признак"
   ]
  },
  {
   "cell_type": "code",
   "execution_count": 15,
   "metadata": {},
   "outputs": [],
   "source": [
    "data.drop('number_of_pictures', axis=1,inplace=True)"
   ]
  },
  {
   "cell_type": "code",
   "execution_count": 16,
   "metadata": {},
   "outputs": [
    {
     "name": "stdout",
     "output_type": "stream",
     "text": [
      "<class 'pandas.core.frame.DataFrame'>\n",
      "RangeIndex: 154256 entries, 0 to 154255\n",
      "Data columns (total 10 columns):\n",
      " #   Column             Non-Null Count   Dtype  \n",
      "---  ------             --------------   -----  \n",
      " 0   price              154255 non-null  float64\n",
      " 1   vehicle_type       138045 non-null  object \n",
      " 2   registration_year  154255 non-null  float64\n",
      " 3   gearbox            145645 non-null  object \n",
      " 4   power              154255 non-null  float64\n",
      " 5   model              145674 non-null  object \n",
      " 6   kilometer          154255 non-null  float64\n",
      " 7   fuel_type          139888 non-null  object \n",
      " 8   brand              154255 non-null  object \n",
      " 9   repaired           123198 non-null  object \n",
      "dtypes: float64(4), object(6)\n",
      "memory usage: 11.8+ MB\n"
     ]
    }
   ],
   "source": [
    "data.info()"
   ]
  },
  {
   "cell_type": "code",
   "execution_count": 17,
   "metadata": {},
   "outputs": [
    {
     "data": {
      "text/plain": [
       "10543"
      ]
     },
     "execution_count": 17,
     "metadata": {},
     "output_type": "execute_result"
    }
   ],
   "source": [
    "data.duplicated().sum()"
   ]
  },
  {
   "cell_type": "code",
   "execution_count": 18,
   "metadata": {},
   "outputs": [],
   "source": [
    "data = data.drop_duplicates()"
   ]
  },
  {
   "cell_type": "code",
   "execution_count": 19,
   "metadata": {},
   "outputs": [],
   "source": [
    "data.reset_index(drop=True, inplace=True)"
   ]
  },
  {
   "cell_type": "markdown",
   "metadata": {},
   "source": [
    "## Подготовка выборок"
   ]
  },
  {
   "cell_type": "markdown",
   "metadata": {},
   "source": [
    "разобьем выборку на обучающу, тестовую и валидационную."
   ]
  },
  {
   "cell_type": "code",
   "execution_count": 20,
   "metadata": {},
   "outputs": [],
   "source": [
    "all_train, test = train_test_split(data, test_size=0.2, random_state=2023)"
   ]
  },
  {
   "cell_type": "code",
   "execution_count": 21,
   "metadata": {},
   "outputs": [],
   "source": [
    "train, valid = train_test_split(all_train, test_size=0.2, random_state=2023)"
   ]
  },
  {
   "cell_type": "code",
   "execution_count": 22,
   "metadata": {},
   "outputs": [],
   "source": [
    "valid_features = valid.drop('price', axis=1)\n",
    "test_features = test.drop('price', axis=1)"
   ]
  },
  {
   "cell_type": "code",
   "execution_count": 23,
   "metadata": {},
   "outputs": [],
   "source": [
    "valid_target = valid['price']\n",
    "test_target = test['price']"
   ]
  },
  {
   "cell_type": "markdown",
   "metadata": {},
   "source": [
    "Обработаем порпуски и выбросы в обучающей выборке. посмотрим внимательнее на данные, где год регистрации выше текущего (2023)"
   ]
  },
  {
   "cell_type": "code",
   "execution_count": 24,
   "metadata": {},
   "outputs": [
    {
     "name": "stdout",
     "output_type": "stream",
     "text": [
      "<class 'pandas.core.frame.DataFrame'>\n",
      "Int64Index: 91976 entries, 1184 to 31226\n",
      "Data columns (total 10 columns):\n",
      " #   Column             Non-Null Count  Dtype  \n",
      "---  ------             --------------  -----  \n",
      " 0   price              91975 non-null  float64\n",
      " 1   vehicle_type       82022 non-null  object \n",
      " 2   registration_year  91975 non-null  float64\n",
      " 3   gearbox            86918 non-null  object \n",
      " 4   power              91975 non-null  float64\n",
      " 5   model              86729 non-null  object \n",
      " 6   kilometer          91975 non-null  float64\n",
      " 7   fuel_type          83043 non-null  object \n",
      " 8   brand              91975 non-null  object \n",
      " 9   repaired           73087 non-null  object \n",
      "dtypes: float64(4), object(6)\n",
      "memory usage: 7.7+ MB\n"
     ]
    }
   ],
   "source": [
    "train.info()"
   ]
  },
  {
   "cell_type": "code",
   "execution_count": 25,
   "metadata": {},
   "outputs": [
    {
     "data": {
      "image/png": "[encoded data removed]",
      "text/plain": [
       "<Figure size 1300x800 with 4 Axes>"
      ]
     },
     "metadata": {},
     "output_type": "display_data"
    }
   ],
   "source": [
    "train.hist(figsize=(13,8))\n",
    "plt.show()"
   ]
  },
  {
   "cell_type": "code",
   "execution_count": 26,
   "metadata": {},
   "outputs": [
    {
     "data": {
      "text/html": [
       "<div>\n",
       "<style scoped>\n",
       "    .dataframe tbody tr th:only-of-type {\n",
       "        vertical-align: middle;\n",
       "    }\n",
       "\n",
       "    .dataframe tbody tr th {\n",
       "        vertical-align: top;\n",
       "    }\n",
       "\n",
       "    .dataframe thead th {\n",
       "        text-align: right;\n",
       "    }\n",
       "</style>\n",
       "<table border=\"1\" class=\"dataframe\">\n",
       "  <thead>\n",
       "    <tr style=\"text-align: right;\">\n",
       "      <th></th>\n",
       "      <th>price</th>\n",
       "      <th>vehicle_type</th>\n",
       "      <th>registration_year</th>\n",
       "      <th>gearbox</th>\n",
       "      <th>power</th>\n",
       "      <th>model</th>\n",
       "      <th>kilometer</th>\n",
       "      <th>fuel_type</th>\n",
       "      <th>brand</th>\n",
       "      <th>repaired</th>\n",
       "    </tr>\n",
       "  </thead>\n",
       "  <tbody>\n",
       "    <tr>\n",
       "      <th>101221</th>\n",
       "      <td>0.0</td>\n",
       "      <td>NaN</td>\n",
       "      <td>5000.0</td>\n",
       "      <td>NaN</td>\n",
       "      <td>0.0</td>\n",
       "      <td>3er</td>\n",
       "      <td>5000.0</td>\n",
       "      <td>NaN</td>\n",
       "      <td>bmw</td>\n",
       "      <td>NaN</td>\n",
       "    </tr>\n",
       "    <tr>\n",
       "      <th>139188</th>\n",
       "      <td>400.0</td>\n",
       "      <td>NaN</td>\n",
       "      <td>9999.0</td>\n",
       "      <td>NaN</td>\n",
       "      <td>0.0</td>\n",
       "      <td>NaN</td>\n",
       "      <td>10000.0</td>\n",
       "      <td>NaN</td>\n",
       "      <td>sonstige_autos</td>\n",
       "      <td>NaN</td>\n",
       "    </tr>\n",
       "    <tr>\n",
       "      <th>130868</th>\n",
       "      <td>3500.0</td>\n",
       "      <td>NaN</td>\n",
       "      <td>2500.0</td>\n",
       "      <td>NaN</td>\n",
       "      <td>0.0</td>\n",
       "      <td>NaN</td>\n",
       "      <td>5000.0</td>\n",
       "      <td>gasoline</td>\n",
       "      <td>volkswagen</td>\n",
       "      <td>NaN</td>\n",
       "    </tr>\n",
       "    <tr>\n",
       "      <th>17070</th>\n",
       "      <td>700.0</td>\n",
       "      <td>NaN</td>\n",
       "      <td>9999.0</td>\n",
       "      <td>NaN</td>\n",
       "      <td>0.0</td>\n",
       "      <td>other</td>\n",
       "      <td>10000.0</td>\n",
       "      <td>NaN</td>\n",
       "      <td>opel</td>\n",
       "      <td>NaN</td>\n",
       "    </tr>\n",
       "    <tr>\n",
       "      <th>76153</th>\n",
       "      <td>1500.0</td>\n",
       "      <td>NaN</td>\n",
       "      <td>3700.0</td>\n",
       "      <td>manual</td>\n",
       "      <td>0.0</td>\n",
       "      <td>zafira</td>\n",
       "      <td>5000.0</td>\n",
       "      <td>cng</td>\n",
       "      <td>opel</td>\n",
       "      <td>NaN</td>\n",
       "    </tr>\n",
       "    <tr>\n",
       "      <th>26103</th>\n",
       "      <td>800.0</td>\n",
       "      <td>NaN</td>\n",
       "      <td>2066.0</td>\n",
       "      <td>NaN</td>\n",
       "      <td>0.0</td>\n",
       "      <td>zafira</td>\n",
       "      <td>5000.0</td>\n",
       "      <td>gasoline</td>\n",
       "      <td>opel</td>\n",
       "      <td>NaN</td>\n",
       "    </tr>\n",
       "    <tr>\n",
       "      <th>15000</th>\n",
       "      <td>0.0</td>\n",
       "      <td>NaN</td>\n",
       "      <td>9999.0</td>\n",
       "      <td>NaN</td>\n",
       "      <td>0.0</td>\n",
       "      <td>NaN</td>\n",
       "      <td>10000.0</td>\n",
       "      <td>NaN</td>\n",
       "      <td>sonstige_autos</td>\n",
       "      <td>NaN</td>\n",
       "    </tr>\n",
       "    <tr>\n",
       "      <th>103515</th>\n",
       "      <td>1.0</td>\n",
       "      <td>NaN</td>\n",
       "      <td>6500.0</td>\n",
       "      <td>manual</td>\n",
       "      <td>120.0</td>\n",
       "      <td>other</td>\n",
       "      <td>10000.0</td>\n",
       "      <td>gasoline</td>\n",
       "      <td>peugeot</td>\n",
       "      <td>no</td>\n",
       "    </tr>\n",
       "    <tr>\n",
       "      <th>64100</th>\n",
       "      <td>1.0</td>\n",
       "      <td>NaN</td>\n",
       "      <td>8000.0</td>\n",
       "      <td>NaN</td>\n",
       "      <td>55.0</td>\n",
       "      <td>golf</td>\n",
       "      <td>10000.0</td>\n",
       "      <td>petrol</td>\n",
       "      <td>volkswagen</td>\n",
       "      <td>NaN</td>\n",
       "    </tr>\n",
       "    <tr>\n",
       "      <th>44464</th>\n",
       "      <td>999.0</td>\n",
       "      <td>NaN</td>\n",
       "      <td>9000.0</td>\n",
       "      <td>NaN</td>\n",
       "      <td>0.0</td>\n",
       "      <td>fiesta</td>\n",
       "      <td>10000.0</td>\n",
       "      <td>NaN</td>\n",
       "      <td>ford</td>\n",
       "      <td>yes</td>\n",
       "    </tr>\n",
       "    <tr>\n",
       "      <th>126503</th>\n",
       "      <td>11111.0</td>\n",
       "      <td>NaN</td>\n",
       "      <td>7000.0</td>\n",
       "      <td>NaN</td>\n",
       "      <td>0.0</td>\n",
       "      <td>polo</td>\n",
       "      <td>10000.0</td>\n",
       "      <td>NaN</td>\n",
       "      <td>volkswagen</td>\n",
       "      <td>NaN</td>\n",
       "    </tr>\n",
       "    <tr>\n",
       "      <th>120942</th>\n",
       "      <td>1550.0</td>\n",
       "      <td>NaN</td>\n",
       "      <td>9999.0</td>\n",
       "      <td>NaN</td>\n",
       "      <td>95.0</td>\n",
       "      <td>NaN</td>\n",
       "      <td>10000.0</td>\n",
       "      <td>NaN</td>\n",
       "      <td>volkswagen</td>\n",
       "      <td>NaN</td>\n",
       "    </tr>\n",
       "    <tr>\n",
       "      <th>45678</th>\n",
       "      <td>4900.0</td>\n",
       "      <td>NaN</td>\n",
       "      <td>6000.0</td>\n",
       "      <td>manual</td>\n",
       "      <td>52.0</td>\n",
       "      <td>NaN</td>\n",
       "      <td>10000.0</td>\n",
       "      <td>petrol</td>\n",
       "      <td>sonstige_autos</td>\n",
       "      <td>no</td>\n",
       "    </tr>\n",
       "    <tr>\n",
       "      <th>140576</th>\n",
       "      <td>200.0</td>\n",
       "      <td>NaN</td>\n",
       "      <td>5000.0</td>\n",
       "      <td>manual</td>\n",
       "      <td>0.0</td>\n",
       "      <td>corsa</td>\n",
       "      <td>5000.0</td>\n",
       "      <td>petrol</td>\n",
       "      <td>opel</td>\n",
       "      <td>yes</td>\n",
       "    </tr>\n",
       "    <tr>\n",
       "      <th>19882</th>\n",
       "      <td>1600.0</td>\n",
       "      <td>NaN</td>\n",
       "      <td>4100.0</td>\n",
       "      <td>NaN</td>\n",
       "      <td>0.0</td>\n",
       "      <td>NaN</td>\n",
       "      <td>5000.0</td>\n",
       "      <td>NaN</td>\n",
       "      <td>sonstige_autos</td>\n",
       "      <td>NaN</td>\n",
       "    </tr>\n",
       "    <tr>\n",
       "      <th>81172</th>\n",
       "      <td>500.0</td>\n",
       "      <td>NaN</td>\n",
       "      <td>3800.0</td>\n",
       "      <td>NaN</td>\n",
       "      <td>0.0</td>\n",
       "      <td>NaN</td>\n",
       "      <td>5000.0</td>\n",
       "      <td>NaN</td>\n",
       "      <td>sonstige_autos</td>\n",
       "      <td>NaN</td>\n",
       "    </tr>\n",
       "    <tr>\n",
       "      <th>58091</th>\n",
       "      <td>0.0</td>\n",
       "      <td>NaN</td>\n",
       "      <td>9999.0</td>\n",
       "      <td>NaN</td>\n",
       "      <td>0.0</td>\n",
       "      <td>NaN</td>\n",
       "      <td>10000.0</td>\n",
       "      <td>NaN</td>\n",
       "      <td>mazda</td>\n",
       "      <td>NaN</td>\n",
       "    </tr>\n",
       "    <tr>\n",
       "      <th>115605</th>\n",
       "      <td>0.0</td>\n",
       "      <td>NaN</td>\n",
       "      <td>2500.0</td>\n",
       "      <td>NaN</td>\n",
       "      <td>0.0</td>\n",
       "      <td>NaN</td>\n",
       "      <td>5000.0</td>\n",
       "      <td>NaN</td>\n",
       "      <td>audi</td>\n",
       "      <td>NaN</td>\n",
       "    </tr>\n",
       "    <tr>\n",
       "      <th>90441</th>\n",
       "      <td>2350.0</td>\n",
       "      <td>NaN</td>\n",
       "      <td>7000.0</td>\n",
       "      <td>NaN</td>\n",
       "      <td>0.0</td>\n",
       "      <td>NaN</td>\n",
       "      <td>10000.0</td>\n",
       "      <td>NaN</td>\n",
       "      <td>sonstige_autos</td>\n",
       "      <td>NaN</td>\n",
       "    </tr>\n",
       "    <tr>\n",
       "      <th>39948</th>\n",
       "      <td>59.0</td>\n",
       "      <td>NaN</td>\n",
       "      <td>8000.0</td>\n",
       "      <td>NaN</td>\n",
       "      <td>0.0</td>\n",
       "      <td>other</td>\n",
       "      <td>10000.0</td>\n",
       "      <td>NaN</td>\n",
       "      <td>chevrolet</td>\n",
       "      <td>NaN</td>\n",
       "    </tr>\n",
       "    <tr>\n",
       "      <th>60268</th>\n",
       "      <td>55.0</td>\n",
       "      <td>NaN</td>\n",
       "      <td>9999.0</td>\n",
       "      <td>NaN</td>\n",
       "      <td>0.0</td>\n",
       "      <td>other</td>\n",
       "      <td>10000.0</td>\n",
       "      <td>NaN</td>\n",
       "      <td>volkswagen</td>\n",
       "      <td>NaN</td>\n",
       "    </tr>\n",
       "    <tr>\n",
       "      <th>28434</th>\n",
       "      <td>18000.0</td>\n",
       "      <td>NaN</td>\n",
       "      <td>9999.0</td>\n",
       "      <td>NaN</td>\n",
       "      <td>0.0</td>\n",
       "      <td>a_klasse</td>\n",
       "      <td>10000.0</td>\n",
       "      <td>petrol</td>\n",
       "      <td>mercedes_benz</td>\n",
       "      <td>NaN</td>\n",
       "    </tr>\n",
       "    <tr>\n",
       "      <th>90827</th>\n",
       "      <td>250.0</td>\n",
       "      <td>NaN</td>\n",
       "      <td>4000.0</td>\n",
       "      <td>NaN</td>\n",
       "      <td>0.0</td>\n",
       "      <td>passat</td>\n",
       "      <td>5000.0</td>\n",
       "      <td>NaN</td>\n",
       "      <td>volkswagen</td>\n",
       "      <td>NaN</td>\n",
       "    </tr>\n",
       "    <tr>\n",
       "      <th>83645</th>\n",
       "      <td>500.0</td>\n",
       "      <td>NaN</td>\n",
       "      <td>4800.0</td>\n",
       "      <td>manual</td>\n",
       "      <td>3.0</td>\n",
       "      <td>NaN</td>\n",
       "      <td>5000.0</td>\n",
       "      <td>NaN</td>\n",
       "      <td>sonstige_autos</td>\n",
       "      <td>NaN</td>\n",
       "    </tr>\n",
       "    <tr>\n",
       "      <th>55763</th>\n",
       "      <td>1.0</td>\n",
       "      <td>NaN</td>\n",
       "      <td>5000.0</td>\n",
       "      <td>NaN</td>\n",
       "      <td>5000.0</td>\n",
       "      <td>clk</td>\n",
       "      <td>5000.0</td>\n",
       "      <td>petrol</td>\n",
       "      <td>mercedes_benz</td>\n",
       "      <td>NaN</td>\n",
       "    </tr>\n",
       "    <tr>\n",
       "      <th>64813</th>\n",
       "      <td>6499.0</td>\n",
       "      <td>NaN</td>\n",
       "      <td>8500.0</td>\n",
       "      <td>NaN</td>\n",
       "      <td>0.0</td>\n",
       "      <td>3er</td>\n",
       "      <td>10000.0</td>\n",
       "      <td>NaN</td>\n",
       "      <td>bmw</td>\n",
       "      <td>NaN</td>\n",
       "    </tr>\n",
       "    <tr>\n",
       "      <th>48820</th>\n",
       "      <td>200.0</td>\n",
       "      <td>NaN</td>\n",
       "      <td>5900.0</td>\n",
       "      <td>NaN</td>\n",
       "      <td>0.0</td>\n",
       "      <td>escort</td>\n",
       "      <td>10000.0</td>\n",
       "      <td>NaN</td>\n",
       "      <td>ford</td>\n",
       "      <td>NaN</td>\n",
       "    </tr>\n",
       "    <tr>\n",
       "      <th>40155</th>\n",
       "      <td>800.0</td>\n",
       "      <td>NaN</td>\n",
       "      <td>5300.0</td>\n",
       "      <td>NaN</td>\n",
       "      <td>0.0</td>\n",
       "      <td>NaN</td>\n",
       "      <td>10000.0</td>\n",
       "      <td>NaN</td>\n",
       "      <td>sonstige_autos</td>\n",
       "      <td>NaN</td>\n",
       "    </tr>\n",
       "    <tr>\n",
       "      <th>76633</th>\n",
       "      <td>9000.0</td>\n",
       "      <td>NaN</td>\n",
       "      <td>5000.0</td>\n",
       "      <td>manual</td>\n",
       "      <td>420.0</td>\n",
       "      <td>impreza</td>\n",
       "      <td>5000.0</td>\n",
       "      <td>petrol</td>\n",
       "      <td>subaru</td>\n",
       "      <td>no</td>\n",
       "    </tr>\n",
       "    <tr>\n",
       "      <th>55401</th>\n",
       "      <td>2500.0</td>\n",
       "      <td>NaN</td>\n",
       "      <td>5000.0</td>\n",
       "      <td>NaN</td>\n",
       "      <td>0.0</td>\n",
       "      <td>corsa</td>\n",
       "      <td>5000.0</td>\n",
       "      <td>NaN</td>\n",
       "      <td>opel</td>\n",
       "      <td>NaN</td>\n",
       "    </tr>\n",
       "  </tbody>\n",
       "</table>\n",
       "</div>"
      ],
      "text/plain": [
       "          price vehicle_type  registration_year gearbox   power     model  \\\n",
       "101221      0.0          NaN             5000.0     NaN     0.0       3er   \n",
       "139188    400.0          NaN             9999.0     NaN     0.0       NaN   \n",
       "130868   3500.0          NaN             2500.0     NaN     0.0       NaN   \n",
       "17070     700.0          NaN             9999.0     NaN     0.0     other   \n",
       "76153    1500.0          NaN             3700.0  manual     0.0    zafira   \n",
       "26103     800.0          NaN             2066.0     NaN     0.0    zafira   \n",
       "15000       0.0          NaN             9999.0     NaN     0.0       NaN   \n",
       "103515      1.0          NaN             6500.0  manual   120.0     other   \n",
       "64100       1.0          NaN             8000.0     NaN    55.0      golf   \n",
       "44464     999.0          NaN             9000.0     NaN     0.0    fiesta   \n",
       "126503  11111.0          NaN             7000.0     NaN     0.0      polo   \n",
       "120942   1550.0          NaN             9999.0     NaN    95.0       NaN   \n",
       "45678    4900.0          NaN             6000.0  manual    52.0       NaN   \n",
       "140576    200.0          NaN             5000.0  manual     0.0     corsa   \n",
       "19882    1600.0          NaN             4100.0     NaN     0.0       NaN   \n",
       "81172     500.0          NaN             3800.0     NaN     0.0       NaN   \n",
       "58091       0.0          NaN             9999.0     NaN     0.0       NaN   \n",
       "115605      0.0          NaN             2500.0     NaN     0.0       NaN   \n",
       "90441    2350.0          NaN             7000.0     NaN     0.0       NaN   \n",
       "39948      59.0          NaN             8000.0     NaN     0.0     other   \n",
       "60268      55.0          NaN             9999.0     NaN     0.0     other   \n",
       "28434   18000.0          NaN             9999.0     NaN     0.0  a_klasse   \n",
       "90827     250.0          NaN             4000.0     NaN     0.0    passat   \n",
       "83645     500.0          NaN             4800.0  manual     3.0       NaN   \n",
       "55763       1.0          NaN             5000.0     NaN  5000.0       clk   \n",
       "64813    6499.0          NaN             8500.0     NaN     0.0       3er   \n",
       "48820     200.0          NaN             5900.0     NaN     0.0    escort   \n",
       "40155     800.0          NaN             5300.0     NaN     0.0       NaN   \n",
       "76633    9000.0          NaN             5000.0  manual   420.0   impreza   \n",
       "55401    2500.0          NaN             5000.0     NaN     0.0     corsa   \n",
       "\n",
       "        kilometer fuel_type           brand repaired  \n",
       "101221     5000.0       NaN             bmw      NaN  \n",
       "139188    10000.0       NaN  sonstige_autos      NaN  \n",
       "130868     5000.0  gasoline      volkswagen      NaN  \n",
       "17070     10000.0       NaN            opel      NaN  \n",
       "76153      5000.0       cng            opel      NaN  \n",
       "26103      5000.0  gasoline            opel      NaN  \n",
       "15000     10000.0       NaN  sonstige_autos      NaN  \n",
       "103515    10000.0  gasoline         peugeot       no  \n",
       "64100     10000.0    petrol      volkswagen      NaN  \n",
       "44464     10000.0       NaN            ford      yes  \n",
       "126503    10000.0       NaN      volkswagen      NaN  \n",
       "120942    10000.0       NaN      volkswagen      NaN  \n",
       "45678     10000.0    petrol  sonstige_autos       no  \n",
       "140576     5000.0    petrol            opel      yes  \n",
       "19882      5000.0       NaN  sonstige_autos      NaN  \n",
       "81172      5000.0       NaN  sonstige_autos      NaN  \n",
       "58091     10000.0       NaN           mazda      NaN  \n",
       "115605     5000.0       NaN            audi      NaN  \n",
       "90441     10000.0       NaN  sonstige_autos      NaN  \n",
       "39948     10000.0       NaN       chevrolet      NaN  \n",
       "60268     10000.0       NaN      volkswagen      NaN  \n",
       "28434     10000.0    petrol   mercedes_benz      NaN  \n",
       "90827      5000.0       NaN      volkswagen      NaN  \n",
       "83645      5000.0       NaN  sonstige_autos      NaN  \n",
       "55763      5000.0    petrol   mercedes_benz      NaN  \n",
       "64813     10000.0       NaN             bmw      NaN  \n",
       "48820     10000.0       NaN            ford      NaN  \n",
       "40155     10000.0       NaN  sonstige_autos      NaN  \n",
       "76633      5000.0    petrol          subaru       no  \n",
       "55401      5000.0       NaN            opel      NaN  "
      ]
     },
     "execution_count": 26,
     "metadata": {},
     "output_type": "execute_result"
    }
   ],
   "source": [
    "train.loc[train['registration_year']>2023]"
   ]
  },
  {
   "cell_type": "markdown",
   "metadata": {},
   "source": [
    "Видим, что эти данные неинформативны. Логичнее всего будет их удалить. Подозреваю, что была какая-то ошибка в выгрузке данных или ранее. Теперь посмотрим данные с очень ранними годами регистрации. Первый автомобиль был изобретен в 1886 году. Автомобили старше 30 лет уже считаются раритетными. Т.о. делаем вывод, что со 100% вероятностью все года регистрации ранее 1886 года - ошибки, а все, что между 1886 и 1989 это либо ошибка либо старые машины и раритет (разница в цене может быть колоссальная). Предполагаю, что данные за 2019 год."
   ]
  },
  {
   "cell_type": "markdown",
   "metadata": {},
   "source": [
    "Также данные выглядят скорее результатом ошибки. Подлежат удалению. Теперь посмотрим что там в промежутке 1886 - 1993"
   ]
  },
  {
   "cell_type": "code",
   "execution_count": 27,
   "metadata": {
    "scrolled": true
   },
   "outputs": [
    {
     "data": {
      "text/html": [
       "<div>\n",
       "<style scoped>\n",
       "    .dataframe tbody tr th:only-of-type {\n",
       "        vertical-align: middle;\n",
       "    }\n",
       "\n",
       "    .dataframe tbody tr th {\n",
       "        vertical-align: top;\n",
       "    }\n",
       "\n",
       "    .dataframe thead th {\n",
       "        text-align: right;\n",
       "    }\n",
       "</style>\n",
       "<table border=\"1\" class=\"dataframe\">\n",
       "  <thead>\n",
       "    <tr style=\"text-align: right;\">\n",
       "      <th></th>\n",
       "      <th>price</th>\n",
       "      <th>vehicle_type</th>\n",
       "      <th>registration_year</th>\n",
       "      <th>gearbox</th>\n",
       "      <th>power</th>\n",
       "      <th>model</th>\n",
       "      <th>kilometer</th>\n",
       "      <th>fuel_type</th>\n",
       "      <th>brand</th>\n",
       "      <th>repaired</th>\n",
       "    </tr>\n",
       "  </thead>\n",
       "  <tbody>\n",
       "    <tr>\n",
       "      <th>33585</th>\n",
       "      <td>450.0</td>\n",
       "      <td>NaN</td>\n",
       "      <td>1800.0</td>\n",
       "      <td>NaN</td>\n",
       "      <td>1800.0</td>\n",
       "      <td>NaN</td>\n",
       "      <td>5000.0</td>\n",
       "      <td>NaN</td>\n",
       "      <td>mitsubishi</td>\n",
       "      <td>no</td>\n",
       "    </tr>\n",
       "    <tr>\n",
       "      <th>64256</th>\n",
       "      <td>0.0</td>\n",
       "      <td>NaN</td>\n",
       "      <td>1200.0</td>\n",
       "      <td>auto</td>\n",
       "      <td>1200.0</td>\n",
       "      <td>punto</td>\n",
       "      <td>150000.0</td>\n",
       "      <td>petrol</td>\n",
       "      <td>fiat</td>\n",
       "      <td>NaN</td>\n",
       "    </tr>\n",
       "    <tr>\n",
       "      <th>122131</th>\n",
       "      <td>1000.0</td>\n",
       "      <td>NaN</td>\n",
       "      <td>1000.0</td>\n",
       "      <td>NaN</td>\n",
       "      <td>0.0</td>\n",
       "      <td>NaN</td>\n",
       "      <td>5000.0</td>\n",
       "      <td>NaN</td>\n",
       "      <td>sonstige_autos</td>\n",
       "      <td>NaN</td>\n",
       "    </tr>\n",
       "    <tr>\n",
       "      <th>138671</th>\n",
       "      <td>0.0</td>\n",
       "      <td>NaN</td>\n",
       "      <td>1688.0</td>\n",
       "      <td>NaN</td>\n",
       "      <td>0.0</td>\n",
       "      <td>NaN</td>\n",
       "      <td>5000.0</td>\n",
       "      <td>NaN</td>\n",
       "      <td>rover</td>\n",
       "      <td>NaN</td>\n",
       "    </tr>\n",
       "    <tr>\n",
       "      <th>64770</th>\n",
       "      <td>0.0</td>\n",
       "      <td>NaN</td>\n",
       "      <td>1500.0</td>\n",
       "      <td>NaN</td>\n",
       "      <td>0.0</td>\n",
       "      <td>kuga</td>\n",
       "      <td>5000.0</td>\n",
       "      <td>gasoline</td>\n",
       "      <td>ford</td>\n",
       "      <td>NaN</td>\n",
       "    </tr>\n",
       "    <tr>\n",
       "      <th>63858</th>\n",
       "      <td>1300.0</td>\n",
       "      <td>NaN</td>\n",
       "      <td>1000.0</td>\n",
       "      <td>auto</td>\n",
       "      <td>0.0</td>\n",
       "      <td>NaN</td>\n",
       "      <td>5000.0</td>\n",
       "      <td>petrol</td>\n",
       "      <td>sonstige_autos</td>\n",
       "      <td>NaN</td>\n",
       "    </tr>\n",
       "    <tr>\n",
       "      <th>68765</th>\n",
       "      <td>500.0</td>\n",
       "      <td>NaN</td>\n",
       "      <td>1000.0</td>\n",
       "      <td>NaN</td>\n",
       "      <td>0.0</td>\n",
       "      <td>golf</td>\n",
       "      <td>5000.0</td>\n",
       "      <td>NaN</td>\n",
       "      <td>volkswagen</td>\n",
       "      <td>NaN</td>\n",
       "    </tr>\n",
       "    <tr>\n",
       "      <th>106625</th>\n",
       "      <td>2500.0</td>\n",
       "      <td>NaN</td>\n",
       "      <td>1000.0</td>\n",
       "      <td>NaN</td>\n",
       "      <td>0.0</td>\n",
       "      <td>NaN</td>\n",
       "      <td>5000.0</td>\n",
       "      <td>NaN</td>\n",
       "      <td>trabant</td>\n",
       "      <td>no</td>\n",
       "    </tr>\n",
       "    <tr>\n",
       "      <th>104259</th>\n",
       "      <td>400.0</td>\n",
       "      <td>NaN</td>\n",
       "      <td>1000.0</td>\n",
       "      <td>NaN</td>\n",
       "      <td>0.0</td>\n",
       "      <td>NaN</td>\n",
       "      <td>5000.0</td>\n",
       "      <td>NaN</td>\n",
       "      <td>mercedes_benz</td>\n",
       "      <td>no</td>\n",
       "    </tr>\n",
       "    <tr>\n",
       "      <th>99384</th>\n",
       "      <td>100.0</td>\n",
       "      <td>NaN</td>\n",
       "      <td>1234.0</td>\n",
       "      <td>NaN</td>\n",
       "      <td>0.0</td>\n",
       "      <td>156</td>\n",
       "      <td>5000.0</td>\n",
       "      <td>petrol</td>\n",
       "      <td>alfa_romeo</td>\n",
       "      <td>NaN</td>\n",
       "    </tr>\n",
       "    <tr>\n",
       "      <th>87642</th>\n",
       "      <td>400.0</td>\n",
       "      <td>NaN</td>\n",
       "      <td>1000.0</td>\n",
       "      <td>NaN</td>\n",
       "      <td>0.0</td>\n",
       "      <td>NaN</td>\n",
       "      <td>5000.0</td>\n",
       "      <td>NaN</td>\n",
       "      <td>sonstige_autos</td>\n",
       "      <td>NaN</td>\n",
       "    </tr>\n",
       "    <tr>\n",
       "      <th>74996</th>\n",
       "      <td>0.0</td>\n",
       "      <td>NaN</td>\n",
       "      <td>1000.0</td>\n",
       "      <td>NaN</td>\n",
       "      <td>0.0</td>\n",
       "      <td>NaN</td>\n",
       "      <td>5000.0</td>\n",
       "      <td>NaN</td>\n",
       "      <td>sonstige_autos</td>\n",
       "      <td>NaN</td>\n",
       "    </tr>\n",
       "    <tr>\n",
       "      <th>121936</th>\n",
       "      <td>275.0</td>\n",
       "      <td>NaN</td>\n",
       "      <td>1234.0</td>\n",
       "      <td>NaN</td>\n",
       "      <td>0.0</td>\n",
       "      <td>e_klasse</td>\n",
       "      <td>5000.0</td>\n",
       "      <td>NaN</td>\n",
       "      <td>mercedes_benz</td>\n",
       "      <td>NaN</td>\n",
       "    </tr>\n",
       "    <tr>\n",
       "      <th>136669</th>\n",
       "      <td>400.0</td>\n",
       "      <td>NaN</td>\n",
       "      <td>1234.0</td>\n",
       "      <td>NaN</td>\n",
       "      <td>0.0</td>\n",
       "      <td>NaN</td>\n",
       "      <td>5000.0</td>\n",
       "      <td>NaN</td>\n",
       "      <td>opel</td>\n",
       "      <td>yes</td>\n",
       "    </tr>\n",
       "    <tr>\n",
       "      <th>51960</th>\n",
       "      <td>330.0</td>\n",
       "      <td>NaN</td>\n",
       "      <td>1000.0</td>\n",
       "      <td>NaN</td>\n",
       "      <td>0.0</td>\n",
       "      <td>polo</td>\n",
       "      <td>5000.0</td>\n",
       "      <td>NaN</td>\n",
       "      <td>volkswagen</td>\n",
       "      <td>NaN</td>\n",
       "    </tr>\n",
       "    <tr>\n",
       "      <th>18001</th>\n",
       "      <td>7999.0</td>\n",
       "      <td>NaN</td>\n",
       "      <td>1500.0</td>\n",
       "      <td>manual</td>\n",
       "      <td>224.0</td>\n",
       "      <td>impreza</td>\n",
       "      <td>5000.0</td>\n",
       "      <td>NaN</td>\n",
       "      <td>subaru</td>\n",
       "      <td>NaN</td>\n",
       "    </tr>\n",
       "    <tr>\n",
       "      <th>75911</th>\n",
       "      <td>4750.0</td>\n",
       "      <td>NaN</td>\n",
       "      <td>1000.0</td>\n",
       "      <td>NaN</td>\n",
       "      <td>0.0</td>\n",
       "      <td>other</td>\n",
       "      <td>5000.0</td>\n",
       "      <td>NaN</td>\n",
       "      <td>renault</td>\n",
       "      <td>NaN</td>\n",
       "    </tr>\n",
       "    <tr>\n",
       "      <th>114255</th>\n",
       "      <td>100.0</td>\n",
       "      <td>NaN</td>\n",
       "      <td>1500.0</td>\n",
       "      <td>NaN</td>\n",
       "      <td>0.0</td>\n",
       "      <td>g_klasse</td>\n",
       "      <td>5000.0</td>\n",
       "      <td>NaN</td>\n",
       "      <td>mercedes_benz</td>\n",
       "      <td>NaN</td>\n",
       "    </tr>\n",
       "    <tr>\n",
       "      <th>622</th>\n",
       "      <td>0.0</td>\n",
       "      <td>NaN</td>\n",
       "      <td>1111.0</td>\n",
       "      <td>NaN</td>\n",
       "      <td>0.0</td>\n",
       "      <td>NaN</td>\n",
       "      <td>5000.0</td>\n",
       "      <td>NaN</td>\n",
       "      <td>opel</td>\n",
       "      <td>NaN</td>\n",
       "    </tr>\n",
       "    <tr>\n",
       "      <th>118183</th>\n",
       "      <td>7750.0</td>\n",
       "      <td>NaN</td>\n",
       "      <td>1001.0</td>\n",
       "      <td>NaN</td>\n",
       "      <td>0.0</td>\n",
       "      <td>other</td>\n",
       "      <td>5000.0</td>\n",
       "      <td>NaN</td>\n",
       "      <td>citroen</td>\n",
       "      <td>NaN</td>\n",
       "    </tr>\n",
       "    <tr>\n",
       "      <th>37956</th>\n",
       "      <td>1234.0</td>\n",
       "      <td>NaN</td>\n",
       "      <td>1234.0</td>\n",
       "      <td>NaN</td>\n",
       "      <td>26.0</td>\n",
       "      <td>NaN</td>\n",
       "      <td>5000.0</td>\n",
       "      <td>NaN</td>\n",
       "      <td>trabant</td>\n",
       "      <td>NaN</td>\n",
       "    </tr>\n",
       "  </tbody>\n",
       "</table>\n",
       "</div>"
      ],
      "text/plain": [
       "         price vehicle_type  registration_year gearbox   power     model  \\\n",
       "33585    450.0          NaN             1800.0     NaN  1800.0       NaN   \n",
       "64256      0.0          NaN             1200.0    auto  1200.0     punto   \n",
       "122131  1000.0          NaN             1000.0     NaN     0.0       NaN   \n",
       "138671     0.0          NaN             1688.0     NaN     0.0       NaN   \n",
       "64770      0.0          NaN             1500.0     NaN     0.0      kuga   \n",
       "63858   1300.0          NaN             1000.0    auto     0.0       NaN   \n",
       "68765    500.0          NaN             1000.0     NaN     0.0      golf   \n",
       "106625  2500.0          NaN             1000.0     NaN     0.0       NaN   \n",
       "104259   400.0          NaN             1000.0     NaN     0.0       NaN   \n",
       "99384    100.0          NaN             1234.0     NaN     0.0       156   \n",
       "87642    400.0          NaN             1000.0     NaN     0.0       NaN   \n",
       "74996      0.0          NaN             1000.0     NaN     0.0       NaN   \n",
       "121936   275.0          NaN             1234.0     NaN     0.0  e_klasse   \n",
       "136669   400.0          NaN             1234.0     NaN     0.0       NaN   \n",
       "51960    330.0          NaN             1000.0     NaN     0.0      polo   \n",
       "18001   7999.0          NaN             1500.0  manual   224.0   impreza   \n",
       "75911   4750.0          NaN             1000.0     NaN     0.0     other   \n",
       "114255   100.0          NaN             1500.0     NaN     0.0  g_klasse   \n",
       "622        0.0          NaN             1111.0     NaN     0.0       NaN   \n",
       "118183  7750.0          NaN             1001.0     NaN     0.0     other   \n",
       "37956   1234.0          NaN             1234.0     NaN    26.0       NaN   \n",
       "\n",
       "        kilometer fuel_type           brand repaired  \n",
       "33585      5000.0       NaN      mitsubishi       no  \n",
       "64256    150000.0    petrol            fiat      NaN  \n",
       "122131     5000.0       NaN  sonstige_autos      NaN  \n",
       "138671     5000.0       NaN           rover      NaN  \n",
       "64770      5000.0  gasoline            ford      NaN  \n",
       "63858      5000.0    petrol  sonstige_autos      NaN  \n",
       "68765      5000.0       NaN      volkswagen      NaN  \n",
       "106625     5000.0       NaN         trabant       no  \n",
       "104259     5000.0       NaN   mercedes_benz       no  \n",
       "99384      5000.0    petrol      alfa_romeo      NaN  \n",
       "87642      5000.0       NaN  sonstige_autos      NaN  \n",
       "74996      5000.0       NaN  sonstige_autos      NaN  \n",
       "121936     5000.0       NaN   mercedes_benz      NaN  \n",
       "136669     5000.0       NaN            opel      yes  \n",
       "51960      5000.0       NaN      volkswagen      NaN  \n",
       "18001      5000.0       NaN          subaru      NaN  \n",
       "75911      5000.0       NaN         renault      NaN  \n",
       "114255     5000.0       NaN   mercedes_benz      NaN  \n",
       "622        5000.0       NaN            opel      NaN  \n",
       "118183     5000.0       NaN         citroen      NaN  \n",
       "37956      5000.0       NaN         trabant      NaN  "
      ]
     },
     "execution_count": 27,
     "metadata": {},
     "output_type": "execute_result"
    }
   ],
   "source": [
    "train.loc[train['registration_year']<1886]"
   ]
  },
  {
   "cell_type": "code",
   "execution_count": 28,
   "metadata": {},
   "outputs": [],
   "source": [
    "short_data = train.query('registration_year>1886 & registration_year<1989')"
   ]
  },
  {
   "cell_type": "code",
   "execution_count": 29,
   "metadata": {},
   "outputs": [
    {
     "data": {
      "text/html": [
       "<div>\n",
       "<style scoped>\n",
       "    .dataframe tbody tr th:only-of-type {\n",
       "        vertical-align: middle;\n",
       "    }\n",
       "\n",
       "    .dataframe tbody tr th {\n",
       "        vertical-align: top;\n",
       "    }\n",
       "\n",
       "    .dataframe thead th {\n",
       "        text-align: right;\n",
       "    }\n",
       "</style>\n",
       "<table border=\"1\" class=\"dataframe\">\n",
       "  <thead>\n",
       "    <tr style=\"text-align: right;\">\n",
       "      <th></th>\n",
       "      <th>price</th>\n",
       "      <th>vehicle_type</th>\n",
       "      <th>registration_year</th>\n",
       "      <th>gearbox</th>\n",
       "      <th>power</th>\n",
       "      <th>model</th>\n",
       "      <th>kilometer</th>\n",
       "      <th>fuel_type</th>\n",
       "      <th>brand</th>\n",
       "      <th>repaired</th>\n",
       "    </tr>\n",
       "  </thead>\n",
       "  <tbody>\n",
       "    <tr>\n",
       "      <th>83136</th>\n",
       "      <td>6000.0</td>\n",
       "      <td>sedan</td>\n",
       "      <td>1982.0</td>\n",
       "      <td>manual</td>\n",
       "      <td>60.0</td>\n",
       "      <td>other</td>\n",
       "      <td>150000.0</td>\n",
       "      <td>gasoline</td>\n",
       "      <td>mercedes_benz</td>\n",
       "      <td>no</td>\n",
       "    </tr>\n",
       "    <tr>\n",
       "      <th>1837</th>\n",
       "      <td>1500.0</td>\n",
       "      <td>other</td>\n",
       "      <td>1985.0</td>\n",
       "      <td>auto</td>\n",
       "      <td>0.0</td>\n",
       "      <td>other</td>\n",
       "      <td>50000.0</td>\n",
       "      <td>petrol</td>\n",
       "      <td>chevrolet</td>\n",
       "      <td>NaN</td>\n",
       "    </tr>\n",
       "    <tr>\n",
       "      <th>98048</th>\n",
       "      <td>4500.0</td>\n",
       "      <td>convertible</td>\n",
       "      <td>1986.0</td>\n",
       "      <td>manual</td>\n",
       "      <td>90.0</td>\n",
       "      <td>NaN</td>\n",
       "      <td>100000.0</td>\n",
       "      <td>petrol</td>\n",
       "      <td>bmw</td>\n",
       "      <td>NaN</td>\n",
       "    </tr>\n",
       "    <tr>\n",
       "      <th>22716</th>\n",
       "      <td>5900.0</td>\n",
       "      <td>sedan</td>\n",
       "      <td>1983.0</td>\n",
       "      <td>manual</td>\n",
       "      <td>0.0</td>\n",
       "      <td>golf</td>\n",
       "      <td>150000.0</td>\n",
       "      <td>petrol</td>\n",
       "      <td>volkswagen</td>\n",
       "      <td>NaN</td>\n",
       "    </tr>\n",
       "    <tr>\n",
       "      <th>78075</th>\n",
       "      <td>3250.0</td>\n",
       "      <td>sedan</td>\n",
       "      <td>1988.0</td>\n",
       "      <td>manual</td>\n",
       "      <td>0.0</td>\n",
       "      <td>3er</td>\n",
       "      <td>150000.0</td>\n",
       "      <td>petrol</td>\n",
       "      <td>bmw</td>\n",
       "      <td>NaN</td>\n",
       "    </tr>\n",
       "    <tr>\n",
       "      <th>...</th>\n",
       "      <td>...</td>\n",
       "      <td>...</td>\n",
       "      <td>...</td>\n",
       "      <td>...</td>\n",
       "      <td>...</td>\n",
       "      <td>...</td>\n",
       "      <td>...</td>\n",
       "      <td>...</td>\n",
       "      <td>...</td>\n",
       "      <td>...</td>\n",
       "    </tr>\n",
       "    <tr>\n",
       "      <th>37188</th>\n",
       "      <td>10.0</td>\n",
       "      <td>NaN</td>\n",
       "      <td>1980.0</td>\n",
       "      <td>NaN</td>\n",
       "      <td>0.0</td>\n",
       "      <td>601</td>\n",
       "      <td>100000.0</td>\n",
       "      <td>NaN</td>\n",
       "      <td>trabant</td>\n",
       "      <td>NaN</td>\n",
       "    </tr>\n",
       "    <tr>\n",
       "      <th>126302</th>\n",
       "      <td>8950.0</td>\n",
       "      <td>coupe</td>\n",
       "      <td>1984.0</td>\n",
       "      <td>manual</td>\n",
       "      <td>101.0</td>\n",
       "      <td>other</td>\n",
       "      <td>60000.0</td>\n",
       "      <td>petrol</td>\n",
       "      <td>ford</td>\n",
       "      <td>no</td>\n",
       "    </tr>\n",
       "    <tr>\n",
       "      <th>78767</th>\n",
       "      <td>4000.0</td>\n",
       "      <td>sedan</td>\n",
       "      <td>1982.0</td>\n",
       "      <td>manual</td>\n",
       "      <td>60.0</td>\n",
       "      <td>other</td>\n",
       "      <td>150000.0</td>\n",
       "      <td>gasoline</td>\n",
       "      <td>mercedes_benz</td>\n",
       "      <td>no</td>\n",
       "    </tr>\n",
       "    <tr>\n",
       "      <th>26419</th>\n",
       "      <td>14500.0</td>\n",
       "      <td>sedan</td>\n",
       "      <td>1971.0</td>\n",
       "      <td>manual</td>\n",
       "      <td>98.0</td>\n",
       "      <td>other</td>\n",
       "      <td>80000.0</td>\n",
       "      <td>petrol</td>\n",
       "      <td>citroen</td>\n",
       "      <td>no</td>\n",
       "    </tr>\n",
       "    <tr>\n",
       "      <th>101965</th>\n",
       "      <td>8999.0</td>\n",
       "      <td>coupe</td>\n",
       "      <td>1981.0</td>\n",
       "      <td>auto</td>\n",
       "      <td>179.0</td>\n",
       "      <td>other</td>\n",
       "      <td>40000.0</td>\n",
       "      <td>petrol</td>\n",
       "      <td>chevrolet</td>\n",
       "      <td>no</td>\n",
       "    </tr>\n",
       "  </tbody>\n",
       "</table>\n",
       "<p>2240 rows × 10 columns</p>\n",
       "</div>"
      ],
      "text/plain": [
       "          price vehicle_type  registration_year gearbox  power  model  \\\n",
       "83136    6000.0        sedan             1982.0  manual   60.0  other   \n",
       "1837     1500.0        other             1985.0    auto    0.0  other   \n",
       "98048    4500.0  convertible             1986.0  manual   90.0    NaN   \n",
       "22716    5900.0        sedan             1983.0  manual    0.0   golf   \n",
       "78075    3250.0        sedan             1988.0  manual    0.0    3er   \n",
       "...         ...          ...                ...     ...    ...    ...   \n",
       "37188      10.0          NaN             1980.0     NaN    0.0    601   \n",
       "126302   8950.0        coupe             1984.0  manual  101.0  other   \n",
       "78767    4000.0        sedan             1982.0  manual   60.0  other   \n",
       "26419   14500.0        sedan             1971.0  manual   98.0  other   \n",
       "101965   8999.0        coupe             1981.0    auto  179.0  other   \n",
       "\n",
       "        kilometer fuel_type          brand repaired  \n",
       "83136    150000.0  gasoline  mercedes_benz       no  \n",
       "1837      50000.0    petrol      chevrolet      NaN  \n",
       "98048    100000.0    petrol            bmw      NaN  \n",
       "22716    150000.0    petrol     volkswagen      NaN  \n",
       "78075    150000.0    petrol            bmw      NaN  \n",
       "...           ...       ...            ...      ...  \n",
       "37188    100000.0       NaN        trabant      NaN  \n",
       "126302    60000.0    petrol           ford       no  \n",
       "78767    150000.0  gasoline  mercedes_benz       no  \n",
       "26419     80000.0    petrol        citroen       no  \n",
       "101965    40000.0    petrol      chevrolet       no  \n",
       "\n",
       "[2240 rows x 10 columns]"
      ]
     },
     "execution_count": 29,
     "metadata": {},
     "output_type": "execute_result"
    }
   ],
   "source": [
    "short_data"
   ]
  },
  {
   "cell_type": "code",
   "execution_count": 30,
   "metadata": {},
   "outputs": [
    {
     "data": {
      "text/plain": [
       "<function matplotlib.pyplot.show(close=None, block=None)>"
      ]
     },
     "execution_count": 30,
     "metadata": {},
     "output_type": "execute_result"
    },
    {
     "data": {
      "image/png": "[encoded data removed]",
      "text/plain": [
       "<Figure size 640x480 with 1 Axes>"
      ]
     },
     "metadata": {},
     "output_type": "display_data"
    }
   ],
   "source": [
    "short_data['registration_year'].hist()\n",
    "plt.show"
   ]
  },
  {
   "cell_type": "code",
   "execution_count": 31,
   "metadata": {},
   "outputs": [
    {
     "data": {
      "text/html": [
       "<div>\n",
       "<style scoped>\n",
       "    .dataframe tbody tr th:only-of-type {\n",
       "        vertical-align: middle;\n",
       "    }\n",
       "\n",
       "    .dataframe tbody tr th {\n",
       "        vertical-align: top;\n",
       "    }\n",
       "\n",
       "    .dataframe thead th {\n",
       "        text-align: right;\n",
       "    }\n",
       "</style>\n",
       "<table border=\"1\" class=\"dataframe\">\n",
       "  <thead>\n",
       "    <tr style=\"text-align: right;\">\n",
       "      <th></th>\n",
       "      <th>price</th>\n",
       "      <th>vehicle_type</th>\n",
       "      <th>registration_year</th>\n",
       "      <th>gearbox</th>\n",
       "      <th>power</th>\n",
       "      <th>model</th>\n",
       "      <th>kilometer</th>\n",
       "      <th>fuel_type</th>\n",
       "      <th>brand</th>\n",
       "      <th>repaired</th>\n",
       "    </tr>\n",
       "  </thead>\n",
       "  <tbody>\n",
       "    <tr>\n",
       "      <th>43292</th>\n",
       "      <td>8000.0</td>\n",
       "      <td>sedan</td>\n",
       "      <td>1988.0</td>\n",
       "      <td>manual</td>\n",
       "      <td>72.0</td>\n",
       "      <td>e_klasse</td>\n",
       "      <td>70000.0</td>\n",
       "      <td>gasoline</td>\n",
       "      <td>mercedes_benz</td>\n",
       "      <td>no</td>\n",
       "    </tr>\n",
       "    <tr>\n",
       "      <th>25042</th>\n",
       "      <td>1400.0</td>\n",
       "      <td>small</td>\n",
       "      <td>1988.0</td>\n",
       "      <td>manual</td>\n",
       "      <td>0.0</td>\n",
       "      <td>other</td>\n",
       "      <td>60000.0</td>\n",
       "      <td>petrol</td>\n",
       "      <td>citroen</td>\n",
       "      <td>no</td>\n",
       "    </tr>\n",
       "    <tr>\n",
       "      <th>138606</th>\n",
       "      <td>2300.0</td>\n",
       "      <td>wagon</td>\n",
       "      <td>1988.0</td>\n",
       "      <td>auto</td>\n",
       "      <td>0.0</td>\n",
       "      <td>3er</td>\n",
       "      <td>90000.0</td>\n",
       "      <td>petrol</td>\n",
       "      <td>bmw</td>\n",
       "      <td>NaN</td>\n",
       "    </tr>\n",
       "    <tr>\n",
       "      <th>18329</th>\n",
       "      <td>1600.0</td>\n",
       "      <td>coupe</td>\n",
       "      <td>1988.0</td>\n",
       "      <td>manual</td>\n",
       "      <td>113.0</td>\n",
       "      <td>3er</td>\n",
       "      <td>150000.0</td>\n",
       "      <td>petrol</td>\n",
       "      <td>bmw</td>\n",
       "      <td>no</td>\n",
       "    </tr>\n",
       "    <tr>\n",
       "      <th>74974</th>\n",
       "      <td>850.0</td>\n",
       "      <td>sedan</td>\n",
       "      <td>1988.0</td>\n",
       "      <td>auto</td>\n",
       "      <td>132.0</td>\n",
       "      <td>e_klasse</td>\n",
       "      <td>150000.0</td>\n",
       "      <td>petrol</td>\n",
       "      <td>mercedes_benz</td>\n",
       "      <td>NaN</td>\n",
       "    </tr>\n",
       "    <tr>\n",
       "      <th>...</th>\n",
       "      <td>...</td>\n",
       "      <td>...</td>\n",
       "      <td>...</td>\n",
       "      <td>...</td>\n",
       "      <td>...</td>\n",
       "      <td>...</td>\n",
       "      <td>...</td>\n",
       "      <td>...</td>\n",
       "      <td>...</td>\n",
       "      <td>...</td>\n",
       "    </tr>\n",
       "    <tr>\n",
       "      <th>129450</th>\n",
       "      <td>0.0</td>\n",
       "      <td>NaN</td>\n",
       "      <td>1910.0</td>\n",
       "      <td>NaN</td>\n",
       "      <td>0.0</td>\n",
       "      <td>combo</td>\n",
       "      <td>150000.0</td>\n",
       "      <td>NaN</td>\n",
       "      <td>opel</td>\n",
       "      <td>NaN</td>\n",
       "    </tr>\n",
       "    <tr>\n",
       "      <th>89861</th>\n",
       "      <td>0.0</td>\n",
       "      <td>wagon</td>\n",
       "      <td>1910.0</td>\n",
       "      <td>NaN</td>\n",
       "      <td>0.0</td>\n",
       "      <td>NaN</td>\n",
       "      <td>150000.0</td>\n",
       "      <td>petrol</td>\n",
       "      <td>sonstige_autos</td>\n",
       "      <td>NaN</td>\n",
       "    </tr>\n",
       "    <tr>\n",
       "      <th>93303</th>\n",
       "      <td>1.0</td>\n",
       "      <td>sedan</td>\n",
       "      <td>1910.0</td>\n",
       "      <td>manual</td>\n",
       "      <td>10.0</td>\n",
       "      <td>other</td>\n",
       "      <td>5000.0</td>\n",
       "      <td>gasoline</td>\n",
       "      <td>mercedes_benz</td>\n",
       "      <td>no</td>\n",
       "    </tr>\n",
       "    <tr>\n",
       "      <th>24062</th>\n",
       "      <td>50.0</td>\n",
       "      <td>small</td>\n",
       "      <td>1910.0</td>\n",
       "      <td>manual</td>\n",
       "      <td>0.0</td>\n",
       "      <td>NaN</td>\n",
       "      <td>5000.0</td>\n",
       "      <td>NaN</td>\n",
       "      <td>volkswagen</td>\n",
       "      <td>yes</td>\n",
       "    </tr>\n",
       "    <tr>\n",
       "      <th>62117</th>\n",
       "      <td>160.0</td>\n",
       "      <td>NaN</td>\n",
       "      <td>1910.0</td>\n",
       "      <td>NaN</td>\n",
       "      <td>0.0</td>\n",
       "      <td>NaN</td>\n",
       "      <td>5000.0</td>\n",
       "      <td>NaN</td>\n",
       "      <td>hyundai</td>\n",
       "      <td>NaN</td>\n",
       "    </tr>\n",
       "  </tbody>\n",
       "</table>\n",
       "<p>2240 rows × 10 columns</p>\n",
       "</div>"
      ],
      "text/plain": [
       "         price vehicle_type  registration_year gearbox  power     model  \\\n",
       "43292   8000.0        sedan             1988.0  manual   72.0  e_klasse   \n",
       "25042   1400.0        small             1988.0  manual    0.0     other   \n",
       "138606  2300.0        wagon             1988.0    auto    0.0       3er   \n",
       "18329   1600.0        coupe             1988.0  manual  113.0       3er   \n",
       "74974    850.0        sedan             1988.0    auto  132.0  e_klasse   \n",
       "...        ...          ...                ...     ...    ...       ...   \n",
       "129450     0.0          NaN             1910.0     NaN    0.0     combo   \n",
       "89861      0.0        wagon             1910.0     NaN    0.0       NaN   \n",
       "93303      1.0        sedan             1910.0  manual   10.0     other   \n",
       "24062     50.0        small             1910.0  manual    0.0       NaN   \n",
       "62117    160.0          NaN             1910.0     NaN    0.0       NaN   \n",
       "\n",
       "        kilometer fuel_type           brand repaired  \n",
       "43292     70000.0  gasoline   mercedes_benz       no  \n",
       "25042     60000.0    petrol         citroen       no  \n",
       "138606    90000.0    petrol             bmw      NaN  \n",
       "18329    150000.0    petrol             bmw       no  \n",
       "74974    150000.0    petrol   mercedes_benz      NaN  \n",
       "...           ...       ...             ...      ...  \n",
       "129450   150000.0       NaN            opel      NaN  \n",
       "89861    150000.0    petrol  sonstige_autos      NaN  \n",
       "93303      5000.0  gasoline   mercedes_benz       no  \n",
       "24062      5000.0       NaN      volkswagen      yes  \n",
       "62117      5000.0       NaN         hyundai      NaN  \n",
       "\n",
       "[2240 rows x 10 columns]"
      ]
     },
     "execution_count": 31,
     "metadata": {},
     "output_type": "execute_result"
    }
   ],
   "source": [
    "short_data.sort_values(by='registration_year', ascending =False)"
   ]
  },
  {
   "cell_type": "markdown",
   "metadata": {},
   "source": [
    "Выглядит так, что все, что меньше 1950 года- что-то ошибочное. По крайней мере 1910 год. Оставим срез с 1910 по 1950 год. "
   ]
  },
  {
   "cell_type": "code",
   "execution_count": 32,
   "metadata": {},
   "outputs": [],
   "source": [
    "train = train.query('registration_year>1910 & registration_year<=2016')"
   ]
  },
  {
   "cell_type": "markdown",
   "metadata": {},
   "source": [
    "Теперь расмотрим все данные, у которых слишком низкая цена. Поставим границу 50 евро. "
   ]
  },
  {
   "cell_type": "code",
   "execution_count": 33,
   "metadata": {},
   "outputs": [
    {
     "data": {
      "text/html": [
       "<div>\n",
       "<style scoped>\n",
       "    .dataframe tbody tr th:only-of-type {\n",
       "        vertical-align: middle;\n",
       "    }\n",
       "\n",
       "    .dataframe tbody tr th {\n",
       "        vertical-align: top;\n",
       "    }\n",
       "\n",
       "    .dataframe thead th {\n",
       "        text-align: right;\n",
       "    }\n",
       "</style>\n",
       "<table border=\"1\" class=\"dataframe\">\n",
       "  <thead>\n",
       "    <tr style=\"text-align: right;\">\n",
       "      <th></th>\n",
       "      <th>price</th>\n",
       "      <th>vehicle_type</th>\n",
       "      <th>registration_year</th>\n",
       "      <th>gearbox</th>\n",
       "      <th>power</th>\n",
       "      <th>model</th>\n",
       "      <th>kilometer</th>\n",
       "      <th>fuel_type</th>\n",
       "      <th>brand</th>\n",
       "      <th>repaired</th>\n",
       "    </tr>\n",
       "  </thead>\n",
       "  <tbody>\n",
       "    <tr>\n",
       "      <th>522</th>\n",
       "      <td>0.0</td>\n",
       "      <td>NaN</td>\n",
       "      <td>2000.0</td>\n",
       "      <td>NaN</td>\n",
       "      <td>0.0</td>\n",
       "      <td>NaN</td>\n",
       "      <td>150000.0</td>\n",
       "      <td>NaN</td>\n",
       "      <td>volvo</td>\n",
       "      <td>NaN</td>\n",
       "    </tr>\n",
       "    <tr>\n",
       "      <th>15764</th>\n",
       "      <td>1.0</td>\n",
       "      <td>small</td>\n",
       "      <td>2007.0</td>\n",
       "      <td>manual</td>\n",
       "      <td>0.0</td>\n",
       "      <td>other</td>\n",
       "      <td>125000.0</td>\n",
       "      <td>petrol</td>\n",
       "      <td>peugeot</td>\n",
       "      <td>no</td>\n",
       "    </tr>\n",
       "    <tr>\n",
       "      <th>90041</th>\n",
       "      <td>0.0</td>\n",
       "      <td>convertible</td>\n",
       "      <td>1997.0</td>\n",
       "      <td>manual</td>\n",
       "      <td>90.0</td>\n",
       "      <td>golf</td>\n",
       "      <td>150000.0</td>\n",
       "      <td>petrol</td>\n",
       "      <td>volkswagen</td>\n",
       "      <td>NaN</td>\n",
       "    </tr>\n",
       "    <tr>\n",
       "      <th>24148</th>\n",
       "      <td>0.0</td>\n",
       "      <td>wagon</td>\n",
       "      <td>1996.0</td>\n",
       "      <td>manual</td>\n",
       "      <td>0.0</td>\n",
       "      <td>5er</td>\n",
       "      <td>150000.0</td>\n",
       "      <td>gasoline</td>\n",
       "      <td>bmw</td>\n",
       "      <td>NaN</td>\n",
       "    </tr>\n",
       "    <tr>\n",
       "      <th>26538</th>\n",
       "      <td>0.0</td>\n",
       "      <td>NaN</td>\n",
       "      <td>1995.0</td>\n",
       "      <td>NaN</td>\n",
       "      <td>0.0</td>\n",
       "      <td>golf</td>\n",
       "      <td>5000.0</td>\n",
       "      <td>NaN</td>\n",
       "      <td>volkswagen</td>\n",
       "      <td>NaN</td>\n",
       "    </tr>\n",
       "    <tr>\n",
       "      <th>...</th>\n",
       "      <td>...</td>\n",
       "      <td>...</td>\n",
       "      <td>...</td>\n",
       "      <td>...</td>\n",
       "      <td>...</td>\n",
       "      <td>...</td>\n",
       "      <td>...</td>\n",
       "      <td>...</td>\n",
       "      <td>...</td>\n",
       "      <td>...</td>\n",
       "    </tr>\n",
       "    <tr>\n",
       "      <th>42071</th>\n",
       "      <td>0.0</td>\n",
       "      <td>small</td>\n",
       "      <td>1992.0</td>\n",
       "      <td>manual</td>\n",
       "      <td>60.0</td>\n",
       "      <td>NaN</td>\n",
       "      <td>150000.0</td>\n",
       "      <td>gasoline</td>\n",
       "      <td>volkswagen</td>\n",
       "      <td>no</td>\n",
       "    </tr>\n",
       "    <tr>\n",
       "      <th>13521</th>\n",
       "      <td>0.0</td>\n",
       "      <td>sedan</td>\n",
       "      <td>2006.0</td>\n",
       "      <td>manual</td>\n",
       "      <td>177.0</td>\n",
       "      <td>5er</td>\n",
       "      <td>150000.0</td>\n",
       "      <td>petrol</td>\n",
       "      <td>bmw</td>\n",
       "      <td>NaN</td>\n",
       "    </tr>\n",
       "    <tr>\n",
       "      <th>32233</th>\n",
       "      <td>0.0</td>\n",
       "      <td>wagon</td>\n",
       "      <td>1991.0</td>\n",
       "      <td>manual</td>\n",
       "      <td>115.0</td>\n",
       "      <td>passat</td>\n",
       "      <td>150000.0</td>\n",
       "      <td>petrol</td>\n",
       "      <td>volkswagen</td>\n",
       "      <td>NaN</td>\n",
       "    </tr>\n",
       "    <tr>\n",
       "      <th>103192</th>\n",
       "      <td>0.0</td>\n",
       "      <td>small</td>\n",
       "      <td>2001.0</td>\n",
       "      <td>manual</td>\n",
       "      <td>58.0</td>\n",
       "      <td>twingo</td>\n",
       "      <td>150000.0</td>\n",
       "      <td>petrol</td>\n",
       "      <td>renault</td>\n",
       "      <td>no</td>\n",
       "    </tr>\n",
       "    <tr>\n",
       "      <th>89054</th>\n",
       "      <td>0.0</td>\n",
       "      <td>convertible</td>\n",
       "      <td>2005.0</td>\n",
       "      <td>manual</td>\n",
       "      <td>125.0</td>\n",
       "      <td>NaN</td>\n",
       "      <td>80000.0</td>\n",
       "      <td>petrol</td>\n",
       "      <td>opel</td>\n",
       "      <td>NaN</td>\n",
       "    </tr>\n",
       "  </tbody>\n",
       "</table>\n",
       "<p>2901 rows × 10 columns</p>\n",
       "</div>"
      ],
      "text/plain": [
       "        price vehicle_type  registration_year gearbox  power   model  \\\n",
       "522       0.0          NaN             2000.0     NaN    0.0     NaN   \n",
       "15764     1.0        small             2007.0  manual    0.0   other   \n",
       "90041     0.0  convertible             1997.0  manual   90.0    golf   \n",
       "24148     0.0        wagon             1996.0  manual    0.0     5er   \n",
       "26538     0.0          NaN             1995.0     NaN    0.0    golf   \n",
       "...       ...          ...                ...     ...    ...     ...   \n",
       "42071     0.0        small             1992.0  manual   60.0     NaN   \n",
       "13521     0.0        sedan             2006.0  manual  177.0     5er   \n",
       "32233     0.0        wagon             1991.0  manual  115.0  passat   \n",
       "103192    0.0        small             2001.0  manual   58.0  twingo   \n",
       "89054     0.0  convertible             2005.0  manual  125.0     NaN   \n",
       "\n",
       "        kilometer fuel_type       brand repaired  \n",
       "522      150000.0       NaN       volvo      NaN  \n",
       "15764    125000.0    petrol     peugeot       no  \n",
       "90041    150000.0    petrol  volkswagen      NaN  \n",
       "24148    150000.0  gasoline         bmw      NaN  \n",
       "26538      5000.0       NaN  volkswagen      NaN  \n",
       "...           ...       ...         ...      ...  \n",
       "42071    150000.0  gasoline  volkswagen       no  \n",
       "13521    150000.0    petrol         bmw      NaN  \n",
       "32233    150000.0    petrol  volkswagen      NaN  \n",
       "103192   150000.0    petrol     renault       no  \n",
       "89054     80000.0    petrol        opel      NaN  \n",
       "\n",
       "[2901 rows x 10 columns]"
      ]
     },
     "execution_count": 33,
     "metadata": {},
     "output_type": "execute_result"
    }
   ],
   "source": [
    "train.query('price<50')"
   ]
  },
  {
   "cell_type": "markdown",
   "metadata": {},
   "source": [
    "Видим около 6,6 тысяч записей с ценой меньше 100. Много цен 0 и 1 евро. Откуда эти значения- узнать бы у коллег, но т.к. такой возможности нет, то считаю, что эти данные нужно удалить. Вряд ли хоть кому-то из пользвоателей захочется увидеть предсказание от модели \"ваш автомобиль стоит 0 евро\". "
   ]
  },
  {
   "cell_type": "code",
   "execution_count": 34,
   "metadata": {},
   "outputs": [],
   "source": [
    "train = train.loc[train['price']>49]"
   ]
  },
  {
   "cell_type": "markdown",
   "metadata": {},
   "source": [
    "также по гистограммам было видно, что есть выбросы в признаке power"
   ]
  },
  {
   "cell_type": "markdown",
   "metadata": {},
   "source": [
    "на данный момент самый мощный автомобиль имеет 2000 лошадиные силы. Посмотрим на данные, у которых мощности двигателя указаны выше 2000"
   ]
  },
  {
   "cell_type": "code",
   "execution_count": 35,
   "metadata": {},
   "outputs": [
    {
     "data": {
      "text/html": [
       "<div>\n",
       "<style scoped>\n",
       "    .dataframe tbody tr th:only-of-type {\n",
       "        vertical-align: middle;\n",
       "    }\n",
       "\n",
       "    .dataframe tbody tr th {\n",
       "        vertical-align: top;\n",
       "    }\n",
       "\n",
       "    .dataframe thead th {\n",
       "        text-align: right;\n",
       "    }\n",
       "</style>\n",
       "<table border=\"1\" class=\"dataframe\">\n",
       "  <thead>\n",
       "    <tr style=\"text-align: right;\">\n",
       "      <th></th>\n",
       "      <th>price</th>\n",
       "      <th>vehicle_type</th>\n",
       "      <th>registration_year</th>\n",
       "      <th>gearbox</th>\n",
       "      <th>power</th>\n",
       "      <th>model</th>\n",
       "      <th>kilometer</th>\n",
       "      <th>fuel_type</th>\n",
       "      <th>brand</th>\n",
       "      <th>repaired</th>\n",
       "    </tr>\n",
       "  </thead>\n",
       "  <tbody>\n",
       "    <tr>\n",
       "      <th>126384</th>\n",
       "      <td>10500.0</td>\n",
       "      <td>wagon</td>\n",
       "      <td>2007.0</td>\n",
       "      <td>auto</td>\n",
       "      <td>2331.0</td>\n",
       "      <td>a6</td>\n",
       "      <td>150000.0</td>\n",
       "      <td>gasoline</td>\n",
       "      <td>audi</td>\n",
       "      <td>no</td>\n",
       "    </tr>\n",
       "    <tr>\n",
       "      <th>115901</th>\n",
       "      <td>950.0</td>\n",
       "      <td>small</td>\n",
       "      <td>1998.0</td>\n",
       "      <td>manual</td>\n",
       "      <td>7508.0</td>\n",
       "      <td>astra</td>\n",
       "      <td>150000.0</td>\n",
       "      <td>NaN</td>\n",
       "      <td>opel</td>\n",
       "      <td>no</td>\n",
       "    </tr>\n",
       "    <tr>\n",
       "      <th>55161</th>\n",
       "      <td>1995.0</td>\n",
       "      <td>wagon</td>\n",
       "      <td>2002.0</td>\n",
       "      <td>manual</td>\n",
       "      <td>11530.0</td>\n",
       "      <td>focus</td>\n",
       "      <td>150000.0</td>\n",
       "      <td>petrol</td>\n",
       "      <td>ford</td>\n",
       "      <td>no</td>\n",
       "    </tr>\n",
       "    <tr>\n",
       "      <th>74670</th>\n",
       "      <td>850.0</td>\n",
       "      <td>sedan</td>\n",
       "      <td>2000.0</td>\n",
       "      <td>manual</td>\n",
       "      <td>12510.0</td>\n",
       "      <td>astra</td>\n",
       "      <td>30000.0</td>\n",
       "      <td>NaN</td>\n",
       "      <td>opel</td>\n",
       "      <td>no</td>\n",
       "    </tr>\n",
       "    <tr>\n",
       "      <th>133797</th>\n",
       "      <td>120.0</td>\n",
       "      <td>small</td>\n",
       "      <td>1996.0</td>\n",
       "      <td>manual</td>\n",
       "      <td>5815.0</td>\n",
       "      <td>twingo</td>\n",
       "      <td>150000.0</td>\n",
       "      <td>petrol</td>\n",
       "      <td>renault</td>\n",
       "      <td>yes</td>\n",
       "    </tr>\n",
       "    <tr>\n",
       "      <th>7620</th>\n",
       "      <td>1499.0</td>\n",
       "      <td>small</td>\n",
       "      <td>1999.0</td>\n",
       "      <td>manual</td>\n",
       "      <td>7515.0</td>\n",
       "      <td>lupo</td>\n",
       "      <td>150000.0</td>\n",
       "      <td>petrol</td>\n",
       "      <td>volkswagen</td>\n",
       "      <td>NaN</td>\n",
       "    </tr>\n",
       "    <tr>\n",
       "      <th>91972</th>\n",
       "      <td>4700.0</td>\n",
       "      <td>bus</td>\n",
       "      <td>1997.0</td>\n",
       "      <td>manual</td>\n",
       "      <td>10522.0</td>\n",
       "      <td>transporter</td>\n",
       "      <td>150000.0</td>\n",
       "      <td>gasoline</td>\n",
       "      <td>volkswagen</td>\n",
       "      <td>NaN</td>\n",
       "    </tr>\n",
       "    <tr>\n",
       "      <th>123413</th>\n",
       "      <td>4500.0</td>\n",
       "      <td>sedan</td>\n",
       "      <td>2001.0</td>\n",
       "      <td>auto</td>\n",
       "      <td>3454.0</td>\n",
       "      <td>e_klasse</td>\n",
       "      <td>150000.0</td>\n",
       "      <td>petrol</td>\n",
       "      <td>mercedes_benz</td>\n",
       "      <td>NaN</td>\n",
       "    </tr>\n",
       "    <tr>\n",
       "      <th>133295</th>\n",
       "      <td>8600.0</td>\n",
       "      <td>other</td>\n",
       "      <td>2007.0</td>\n",
       "      <td>NaN</td>\n",
       "      <td>3500.0</td>\n",
       "      <td>other</td>\n",
       "      <td>150000.0</td>\n",
       "      <td>NaN</td>\n",
       "      <td>volkswagen</td>\n",
       "      <td>NaN</td>\n",
       "    </tr>\n",
       "    <tr>\n",
       "      <th>18844</th>\n",
       "      <td>9750.0</td>\n",
       "      <td>wagon</td>\n",
       "      <td>2005.0</td>\n",
       "      <td>auto</td>\n",
       "      <td>2729.0</td>\n",
       "      <td>5er</td>\n",
       "      <td>150000.0</td>\n",
       "      <td>gasoline</td>\n",
       "      <td>bmw</td>\n",
       "      <td>no</td>\n",
       "    </tr>\n",
       "    <tr>\n",
       "      <th>139088</th>\n",
       "      <td>650.0</td>\n",
       "      <td>wagon</td>\n",
       "      <td>2002.0</td>\n",
       "      <td>manual</td>\n",
       "      <td>2172.0</td>\n",
       "      <td>vectra</td>\n",
       "      <td>150000.0</td>\n",
       "      <td>NaN</td>\n",
       "      <td>opel</td>\n",
       "      <td>NaN</td>\n",
       "    </tr>\n",
       "    <tr>\n",
       "      <th>81138</th>\n",
       "      <td>1999.0</td>\n",
       "      <td>sedan</td>\n",
       "      <td>1991.0</td>\n",
       "      <td>auto</td>\n",
       "      <td>10912.0</td>\n",
       "      <td>NaN</td>\n",
       "      <td>150000.0</td>\n",
       "      <td>gasoline</td>\n",
       "      <td>mercedes_benz</td>\n",
       "      <td>no</td>\n",
       "    </tr>\n",
       "    <tr>\n",
       "      <th>121833</th>\n",
       "      <td>300.0</td>\n",
       "      <td>small</td>\n",
       "      <td>1997.0</td>\n",
       "      <td>manual</td>\n",
       "      <td>4700.0</td>\n",
       "      <td>polo</td>\n",
       "      <td>150000.0</td>\n",
       "      <td>petrol</td>\n",
       "      <td>volkswagen</td>\n",
       "      <td>yes</td>\n",
       "    </tr>\n",
       "    <tr>\n",
       "      <th>87533</th>\n",
       "      <td>4500.0</td>\n",
       "      <td>suv</td>\n",
       "      <td>2004.0</td>\n",
       "      <td>auto</td>\n",
       "      <td>2340.0</td>\n",
       "      <td>NaN</td>\n",
       "      <td>125000.0</td>\n",
       "      <td>petrol</td>\n",
       "      <td>nissan</td>\n",
       "      <td>yes</td>\n",
       "    </tr>\n",
       "    <tr>\n",
       "      <th>43372</th>\n",
       "      <td>2500.0</td>\n",
       "      <td>convertible</td>\n",
       "      <td>1998.0</td>\n",
       "      <td>manual</td>\n",
       "      <td>7512.0</td>\n",
       "      <td>golf</td>\n",
       "      <td>150000.0</td>\n",
       "      <td>NaN</td>\n",
       "      <td>volkswagen</td>\n",
       "      <td>NaN</td>\n",
       "    </tr>\n",
       "    <tr>\n",
       "      <th>60821</th>\n",
       "      <td>2200.0</td>\n",
       "      <td>small</td>\n",
       "      <td>1999.0</td>\n",
       "      <td>manual</td>\n",
       "      <td>12012.0</td>\n",
       "      <td>polo</td>\n",
       "      <td>150000.0</td>\n",
       "      <td>petrol</td>\n",
       "      <td>volkswagen</td>\n",
       "      <td>NaN</td>\n",
       "    </tr>\n",
       "    <tr>\n",
       "      <th>61775</th>\n",
       "      <td>3250.0</td>\n",
       "      <td>sedan</td>\n",
       "      <td>2001.0</td>\n",
       "      <td>auto</td>\n",
       "      <td>17932.0</td>\n",
       "      <td>omega</td>\n",
       "      <td>150000.0</td>\n",
       "      <td>petrol</td>\n",
       "      <td>opel</td>\n",
       "      <td>NaN</td>\n",
       "    </tr>\n",
       "    <tr>\n",
       "      <th>106993</th>\n",
       "      <td>350.0</td>\n",
       "      <td>small</td>\n",
       "      <td>1995.0</td>\n",
       "      <td>manual</td>\n",
       "      <td>5575.0</td>\n",
       "      <td>polo</td>\n",
       "      <td>150000.0</td>\n",
       "      <td>petrol</td>\n",
       "      <td>volkswagen</td>\n",
       "      <td>yes</td>\n",
       "    </tr>\n",
       "    <tr>\n",
       "      <th>138581</th>\n",
       "      <td>3650.0</td>\n",
       "      <td>small</td>\n",
       "      <td>2002.0</td>\n",
       "      <td>auto</td>\n",
       "      <td>15020.0</td>\n",
       "      <td>147</td>\n",
       "      <td>125000.0</td>\n",
       "      <td>petrol</td>\n",
       "      <td>alfa_romeo</td>\n",
       "      <td>no</td>\n",
       "    </tr>\n",
       "    <tr>\n",
       "      <th>132604</th>\n",
       "      <td>600.0</td>\n",
       "      <td>sedan</td>\n",
       "      <td>1997.0</td>\n",
       "      <td>manual</td>\n",
       "      <td>6006.0</td>\n",
       "      <td>passat</td>\n",
       "      <td>150000.0</td>\n",
       "      <td>petrol</td>\n",
       "      <td>volkswagen</td>\n",
       "      <td>yes</td>\n",
       "    </tr>\n",
       "    <tr>\n",
       "      <th>43882</th>\n",
       "      <td>15800.0</td>\n",
       "      <td>convertible</td>\n",
       "      <td>2014.0</td>\n",
       "      <td>auto</td>\n",
       "      <td>10218.0</td>\n",
       "      <td>fortwo</td>\n",
       "      <td>30000.0</td>\n",
       "      <td>petrol</td>\n",
       "      <td>smart</td>\n",
       "      <td>NaN</td>\n",
       "    </tr>\n",
       "    <tr>\n",
       "      <th>24815</th>\n",
       "      <td>10900.0</td>\n",
       "      <td>bus</td>\n",
       "      <td>2009.0</td>\n",
       "      <td>manual</td>\n",
       "      <td>10520.0</td>\n",
       "      <td>caddy</td>\n",
       "      <td>150000.0</td>\n",
       "      <td>gasoline</td>\n",
       "      <td>volkswagen</td>\n",
       "      <td>no</td>\n",
       "    </tr>\n",
       "    <tr>\n",
       "      <th>129850</th>\n",
       "      <td>2500.0</td>\n",
       "      <td>bus</td>\n",
       "      <td>2001.0</td>\n",
       "      <td>manual</td>\n",
       "      <td>2461.0</td>\n",
       "      <td>transporter</td>\n",
       "      <td>150000.0</td>\n",
       "      <td>gasoline</td>\n",
       "      <td>volkswagen</td>\n",
       "      <td>NaN</td>\n",
       "    </tr>\n",
       "  </tbody>\n",
       "</table>\n",
       "</div>"
      ],
      "text/plain": [
       "          price vehicle_type  registration_year gearbox    power        model  \\\n",
       "126384  10500.0        wagon             2007.0    auto   2331.0           a6   \n",
       "115901    950.0        small             1998.0  manual   7508.0        astra   \n",
       "55161    1995.0        wagon             2002.0  manual  11530.0        focus   \n",
       "74670     850.0        sedan             2000.0  manual  12510.0        astra   \n",
       "133797    120.0        small             1996.0  manual   5815.0       twingo   \n",
       "7620     1499.0        small             1999.0  manual   7515.0         lupo   \n",
       "91972    4700.0          bus             1997.0  manual  10522.0  transporter   \n",
       "123413   4500.0        sedan             2001.0    auto   3454.0     e_klasse   \n",
       "133295   8600.0        other             2007.0     NaN   3500.0        other   \n",
       "18844    9750.0        wagon             2005.0    auto   2729.0          5er   \n",
       "139088    650.0        wagon             2002.0  manual   2172.0       vectra   \n",
       "81138    1999.0        sedan             1991.0    auto  10912.0          NaN   \n",
       "121833    300.0        small             1997.0  manual   4700.0         polo   \n",
       "87533    4500.0          suv             2004.0    auto   2340.0          NaN   \n",
       "43372    2500.0  convertible             1998.0  manual   7512.0         golf   \n",
       "60821    2200.0        small             1999.0  manual  12012.0         polo   \n",
       "61775    3250.0        sedan             2001.0    auto  17932.0        omega   \n",
       "106993    350.0        small             1995.0  manual   5575.0         polo   \n",
       "138581   3650.0        small             2002.0    auto  15020.0          147   \n",
       "132604    600.0        sedan             1997.0  manual   6006.0       passat   \n",
       "43882   15800.0  convertible             2014.0    auto  10218.0       fortwo   \n",
       "24815   10900.0          bus             2009.0  manual  10520.0        caddy   \n",
       "129850   2500.0          bus             2001.0  manual   2461.0  transporter   \n",
       "\n",
       "        kilometer fuel_type          brand repaired  \n",
       "126384   150000.0  gasoline           audi       no  \n",
       "115901   150000.0       NaN           opel       no  \n",
       "55161    150000.0    petrol           ford       no  \n",
       "74670     30000.0       NaN           opel       no  \n",
       "133797   150000.0    petrol        renault      yes  \n",
       "7620     150000.0    petrol     volkswagen      NaN  \n",
       "91972    150000.0  gasoline     volkswagen      NaN  \n",
       "123413   150000.0    petrol  mercedes_benz      NaN  \n",
       "133295   150000.0       NaN     volkswagen      NaN  \n",
       "18844    150000.0  gasoline            bmw       no  \n",
       "139088   150000.0       NaN           opel      NaN  \n",
       "81138    150000.0  gasoline  mercedes_benz       no  \n",
       "121833   150000.0    petrol     volkswagen      yes  \n",
       "87533    125000.0    petrol         nissan      yes  \n",
       "43372    150000.0       NaN     volkswagen      NaN  \n",
       "60821    150000.0    petrol     volkswagen      NaN  \n",
       "61775    150000.0    petrol           opel      NaN  \n",
       "106993   150000.0    petrol     volkswagen      yes  \n",
       "138581   125000.0    petrol     alfa_romeo       no  \n",
       "132604   150000.0    petrol     volkswagen      yes  \n",
       "43882     30000.0    petrol          smart      NaN  \n",
       "24815    150000.0  gasoline     volkswagen       no  \n",
       "129850   150000.0  gasoline     volkswagen      NaN  "
      ]
     },
     "execution_count": 35,
     "metadata": {},
     "output_type": "execute_result"
    }
   ],
   "source": [
    "train.loc[train['power']>2100]"
   ]
  },
  {
   "cell_type": "code",
   "execution_count": 36,
   "metadata": {},
   "outputs": [
    {
     "name": "stdout",
     "output_type": "stream",
     "text": [
      "<class 'pandas.core.frame.DataFrame'>\n",
      "Int64Index: 85135 entries, 1184 to 31226\n",
      "Data columns (total 10 columns):\n",
      " #   Column             Non-Null Count  Dtype  \n",
      "---  ------             --------------  -----  \n",
      " 0   price              85135 non-null  float64\n",
      " 1   vehicle_type       79978 non-null  object \n",
      " 2   registration_year  85135 non-null  float64\n",
      " 3   gearbox            81311 non-null  object \n",
      " 4   power              85135 non-null  float64\n",
      " 5   model              80996 non-null  object \n",
      " 6   kilometer          85135 non-null  float64\n",
      " 7   fuel_type          78646 non-null  object \n",
      " 8   brand              85135 non-null  object \n",
      " 9   repaired           69467 non-null  object \n",
      "dtypes: float64(4), object(6)\n",
      "memory usage: 7.1+ MB\n"
     ]
    }
   ],
   "source": [
    "train.info()"
   ]
  },
  {
   "cell_type": "markdown",
   "metadata": {},
   "source": [
    "Таких автомобилей всего 70 на 191 тысячe (меньше 0,04%). Целесообразнее удалить эти данные из датасета, они все равно мало на что повлияют"
   ]
  },
  {
   "cell_type": "code",
   "execution_count": 37,
   "metadata": {},
   "outputs": [],
   "source": [
    "train = train.loc[train['power']<2100]"
   ]
  },
  {
   "cell_type": "code",
   "execution_count": 38,
   "metadata": {},
   "outputs": [
    {
     "data": {
      "text/plain": [
       "<function matplotlib.pyplot.show(close=None, block=None)>"
      ]
     },
     "execution_count": 38,
     "metadata": {},
     "output_type": "execute_result"
    },
    {
     "data": {
      "image/png": "[encoded data removed]",
      "text/plain": [
       "<Figure size 640x480 with 1 Axes>"
      ]
     },
     "metadata": {},
     "output_type": "display_data"
    }
   ],
   "source": [
    "train.power.hist()\n",
    "plt.title('Распределение по мощностям')\n",
    "plt.xlabel('Мощность')\n",
    "plt.ylabel('Количество')\n",
    "plt.show"
   ]
  },
  {
   "cell_type": "code",
   "execution_count": 39,
   "metadata": {},
   "outputs": [
    {
     "data": {
      "text/html": [
       "<div>\n",
       "<style scoped>\n",
       "    .dataframe tbody tr th:only-of-type {\n",
       "        vertical-align: middle;\n",
       "    }\n",
       "\n",
       "    .dataframe tbody tr th {\n",
       "        vertical-align: top;\n",
       "    }\n",
       "\n",
       "    .dataframe thead th {\n",
       "        text-align: right;\n",
       "    }\n",
       "</style>\n",
       "<table border=\"1\" class=\"dataframe\">\n",
       "  <thead>\n",
       "    <tr style=\"text-align: right;\">\n",
       "      <th></th>\n",
       "      <th>price</th>\n",
       "      <th>vehicle_type</th>\n",
       "      <th>registration_year</th>\n",
       "      <th>gearbox</th>\n",
       "      <th>power</th>\n",
       "      <th>model</th>\n",
       "      <th>kilometer</th>\n",
       "      <th>fuel_type</th>\n",
       "      <th>brand</th>\n",
       "      <th>repaired</th>\n",
       "    </tr>\n",
       "  </thead>\n",
       "  <tbody>\n",
       "    <tr>\n",
       "      <th>136301</th>\n",
       "      <td>2700.0</td>\n",
       "      <td>NaN</td>\n",
       "      <td>2004.0</td>\n",
       "      <td>auto</td>\n",
       "      <td>612.0</td>\n",
       "      <td>fortwo</td>\n",
       "      <td>125000.0</td>\n",
       "      <td>petrol</td>\n",
       "      <td>smart</td>\n",
       "      <td>NaN</td>\n",
       "    </tr>\n",
       "    <tr>\n",
       "      <th>76011</th>\n",
       "      <td>1600.0</td>\n",
       "      <td>bus</td>\n",
       "      <td>2005.0</td>\n",
       "      <td>manual</td>\n",
       "      <td>1202.0</td>\n",
       "      <td>scenic</td>\n",
       "      <td>5000.0</td>\n",
       "      <td>gasoline</td>\n",
       "      <td>renault</td>\n",
       "      <td>NaN</td>\n",
       "    </tr>\n",
       "    <tr>\n",
       "      <th>24774</th>\n",
       "      <td>4300.0</td>\n",
       "      <td>NaN</td>\n",
       "      <td>2016.0</td>\n",
       "      <td>manual</td>\n",
       "      <td>696.0</td>\n",
       "      <td>fabia</td>\n",
       "      <td>150000.0</td>\n",
       "      <td>petrol</td>\n",
       "      <td>skoda</td>\n",
       "      <td>no</td>\n",
       "    </tr>\n",
       "    <tr>\n",
       "      <th>48744</th>\n",
       "      <td>650.0</td>\n",
       "      <td>small</td>\n",
       "      <td>2003.0</td>\n",
       "      <td>auto</td>\n",
       "      <td>602.0</td>\n",
       "      <td>NaN</td>\n",
       "      <td>90000.0</td>\n",
       "      <td>NaN</td>\n",
       "      <td>lancia</td>\n",
       "      <td>yes</td>\n",
       "    </tr>\n",
       "    <tr>\n",
       "      <th>102880</th>\n",
       "      <td>17500.0</td>\n",
       "      <td>sedan</td>\n",
       "      <td>2005.0</td>\n",
       "      <td>NaN</td>\n",
       "      <td>507.0</td>\n",
       "      <td>NaN</td>\n",
       "      <td>150000.0</td>\n",
       "      <td>NaN</td>\n",
       "      <td>bmw</td>\n",
       "      <td>NaN</td>\n",
       "    </tr>\n",
       "    <tr>\n",
       "      <th>...</th>\n",
       "      <td>...</td>\n",
       "      <td>...</td>\n",
       "      <td>...</td>\n",
       "      <td>...</td>\n",
       "      <td>...</td>\n",
       "      <td>...</td>\n",
       "      <td>...</td>\n",
       "      <td>...</td>\n",
       "      <td>...</td>\n",
       "      <td>...</td>\n",
       "    </tr>\n",
       "    <tr>\n",
       "      <th>96178</th>\n",
       "      <td>600.0</td>\n",
       "      <td>wagon</td>\n",
       "      <td>2000.0</td>\n",
       "      <td>manual</td>\n",
       "      <td>1753.0</td>\n",
       "      <td>focus</td>\n",
       "      <td>150000.0</td>\n",
       "      <td>gasoline</td>\n",
       "      <td>ford</td>\n",
       "      <td>no</td>\n",
       "    </tr>\n",
       "    <tr>\n",
       "      <th>87363</th>\n",
       "      <td>3800.0</td>\n",
       "      <td>sedan</td>\n",
       "      <td>2006.0</td>\n",
       "      <td>manual</td>\n",
       "      <td>1223.0</td>\n",
       "      <td>1er</td>\n",
       "      <td>150000.0</td>\n",
       "      <td>gasoline</td>\n",
       "      <td>bmw</td>\n",
       "      <td>yes</td>\n",
       "    </tr>\n",
       "    <tr>\n",
       "      <th>136594</th>\n",
       "      <td>1500.0</td>\n",
       "      <td>sedan</td>\n",
       "      <td>1996.0</td>\n",
       "      <td>manual</td>\n",
       "      <td>1596.0</td>\n",
       "      <td>NaN</td>\n",
       "      <td>150000.0</td>\n",
       "      <td>petrol</td>\n",
       "      <td>bmw</td>\n",
       "      <td>NaN</td>\n",
       "    </tr>\n",
       "    <tr>\n",
       "      <th>63123</th>\n",
       "      <td>3700.0</td>\n",
       "      <td>small</td>\n",
       "      <td>2005.0</td>\n",
       "      <td>manual</td>\n",
       "      <td>1399.0</td>\n",
       "      <td>rio</td>\n",
       "      <td>70000.0</td>\n",
       "      <td>petrol</td>\n",
       "      <td>kia</td>\n",
       "      <td>no</td>\n",
       "    </tr>\n",
       "    <tr>\n",
       "      <th>117676</th>\n",
       "      <td>400.0</td>\n",
       "      <td>wagon</td>\n",
       "      <td>2002.0</td>\n",
       "      <td>auto</td>\n",
       "      <td>1312.0</td>\n",
       "      <td>mondeo</td>\n",
       "      <td>150000.0</td>\n",
       "      <td>gasoline</td>\n",
       "      <td>ford</td>\n",
       "      <td>NaN</td>\n",
       "    </tr>\n",
       "  </tbody>\n",
       "</table>\n",
       "<p>75 rows × 10 columns</p>\n",
       "</div>"
      ],
      "text/plain": [
       "          price vehicle_type  registration_year gearbox   power   model  \\\n",
       "136301   2700.0          NaN             2004.0    auto   612.0  fortwo   \n",
       "76011    1600.0          bus             2005.0  manual  1202.0  scenic   \n",
       "24774    4300.0          NaN             2016.0  manual   696.0   fabia   \n",
       "48744     650.0        small             2003.0    auto   602.0     NaN   \n",
       "102880  17500.0        sedan             2005.0     NaN   507.0     NaN   \n",
       "...         ...          ...                ...     ...     ...     ...   \n",
       "96178     600.0        wagon             2000.0  manual  1753.0   focus   \n",
       "87363    3800.0        sedan             2006.0  manual  1223.0     1er   \n",
       "136594   1500.0        sedan             1996.0  manual  1596.0     NaN   \n",
       "63123    3700.0        small             2005.0  manual  1399.0     rio   \n",
       "117676    400.0        wagon             2002.0    auto  1312.0  mondeo   \n",
       "\n",
       "        kilometer fuel_type    brand repaired  \n",
       "136301   125000.0    petrol    smart      NaN  \n",
       "76011      5000.0  gasoline  renault      NaN  \n",
       "24774    150000.0    petrol    skoda       no  \n",
       "48744     90000.0       NaN   lancia      yes  \n",
       "102880   150000.0       NaN      bmw      NaN  \n",
       "...           ...       ...      ...      ...  \n",
       "96178    150000.0  gasoline     ford       no  \n",
       "87363    150000.0  gasoline      bmw      yes  \n",
       "136594   150000.0    petrol      bmw      NaN  \n",
       "63123     70000.0    petrol      kia       no  \n",
       "117676   150000.0  gasoline     ford      NaN  \n",
       "\n",
       "[75 rows x 10 columns]"
      ]
     },
     "execution_count": 39,
     "metadata": {},
     "output_type": "execute_result"
    }
   ],
   "source": [
    "train.query('power>500')"
   ]
  },
  {
   "cell_type": "markdown",
   "metadata": {},
   "source": [
    "всего 190 значений. т.к. мощность обычных автомобилей - не выше 250, все, что выше 500 уже являеься спорткарами, однако глядя на данные мы видим, что модели и бренды автомобилей никак не относятся к спорткарам, это обычные автомобили. исправлять на что-то среднее не представляется целесообразным, удаляю"
   ]
  },
  {
   "cell_type": "markdown",
   "metadata": {},
   "source": [
    "посмотрим теперь авто с очень низкими мощностями."
   ]
  },
  {
   "cell_type": "code",
   "execution_count": 40,
   "metadata": {},
   "outputs": [],
   "source": [
    "train = train.query('power<=500')"
   ]
  },
  {
   "cell_type": "code",
   "execution_count": 41,
   "metadata": {},
   "outputs": [
    {
     "data": {
      "text/html": [
       "<div>\n",
       "<style scoped>\n",
       "    .dataframe tbody tr th:only-of-type {\n",
       "        vertical-align: middle;\n",
       "    }\n",
       "\n",
       "    .dataframe tbody tr th {\n",
       "        vertical-align: top;\n",
       "    }\n",
       "\n",
       "    .dataframe thead th {\n",
       "        text-align: right;\n",
       "    }\n",
       "</style>\n",
       "<table border=\"1\" class=\"dataframe\">\n",
       "  <thead>\n",
       "    <tr style=\"text-align: right;\">\n",
       "      <th></th>\n",
       "      <th>price</th>\n",
       "      <th>vehicle_type</th>\n",
       "      <th>registration_year</th>\n",
       "      <th>gearbox</th>\n",
       "      <th>power</th>\n",
       "      <th>model</th>\n",
       "      <th>kilometer</th>\n",
       "      <th>fuel_type</th>\n",
       "      <th>brand</th>\n",
       "      <th>repaired</th>\n",
       "    </tr>\n",
       "  </thead>\n",
       "  <tbody>\n",
       "    <tr>\n",
       "      <th>1837</th>\n",
       "      <td>1500.0</td>\n",
       "      <td>other</td>\n",
       "      <td>1985.0</td>\n",
       "      <td>auto</td>\n",
       "      <td>0.0</td>\n",
       "      <td>other</td>\n",
       "      <td>50000.0</td>\n",
       "      <td>petrol</td>\n",
       "      <td>chevrolet</td>\n",
       "      <td>NaN</td>\n",
       "    </tr>\n",
       "    <tr>\n",
       "      <th>12355</th>\n",
       "      <td>99.0</td>\n",
       "      <td>NaN</td>\n",
       "      <td>2000.0</td>\n",
       "      <td>NaN</td>\n",
       "      <td>0.0</td>\n",
       "      <td>astra</td>\n",
       "      <td>150000.0</td>\n",
       "      <td>NaN</td>\n",
       "      <td>opel</td>\n",
       "      <td>yes</td>\n",
       "    </tr>\n",
       "    <tr>\n",
       "      <th>22716</th>\n",
       "      <td>5900.0</td>\n",
       "      <td>sedan</td>\n",
       "      <td>1983.0</td>\n",
       "      <td>manual</td>\n",
       "      <td>0.0</td>\n",
       "      <td>golf</td>\n",
       "      <td>150000.0</td>\n",
       "      <td>petrol</td>\n",
       "      <td>volkswagen</td>\n",
       "      <td>NaN</td>\n",
       "    </tr>\n",
       "    <tr>\n",
       "      <th>40971</th>\n",
       "      <td>14800.0</td>\n",
       "      <td>NaN</td>\n",
       "      <td>2010.0</td>\n",
       "      <td>NaN</td>\n",
       "      <td>0.0</td>\n",
       "      <td>c_klasse</td>\n",
       "      <td>150000.0</td>\n",
       "      <td>gasoline</td>\n",
       "      <td>mercedes_benz</td>\n",
       "      <td>NaN</td>\n",
       "    </tr>\n",
       "    <tr>\n",
       "      <th>23390</th>\n",
       "      <td>1950.0</td>\n",
       "      <td>sedan</td>\n",
       "      <td>2002.0</td>\n",
       "      <td>manual</td>\n",
       "      <td>0.0</td>\n",
       "      <td>c5</td>\n",
       "      <td>125000.0</td>\n",
       "      <td>petrol</td>\n",
       "      <td>citroen</td>\n",
       "      <td>NaN</td>\n",
       "    </tr>\n",
       "    <tr>\n",
       "      <th>...</th>\n",
       "      <td>...</td>\n",
       "      <td>...</td>\n",
       "      <td>...</td>\n",
       "      <td>...</td>\n",
       "      <td>...</td>\n",
       "      <td>...</td>\n",
       "      <td>...</td>\n",
       "      <td>...</td>\n",
       "      <td>...</td>\n",
       "      <td>...</td>\n",
       "    </tr>\n",
       "    <tr>\n",
       "      <th>924</th>\n",
       "      <td>140.0</td>\n",
       "      <td>coupe</td>\n",
       "      <td>1997.0</td>\n",
       "      <td>manual</td>\n",
       "      <td>0.0</td>\n",
       "      <td>megane</td>\n",
       "      <td>150000.0</td>\n",
       "      <td>petrol</td>\n",
       "      <td>renault</td>\n",
       "      <td>yes</td>\n",
       "    </tr>\n",
       "    <tr>\n",
       "      <th>108387</th>\n",
       "      <td>3700.0</td>\n",
       "      <td>NaN</td>\n",
       "      <td>2011.0</td>\n",
       "      <td>NaN</td>\n",
       "      <td>0.0</td>\n",
       "      <td>3_reihe</td>\n",
       "      <td>60000.0</td>\n",
       "      <td>gasoline</td>\n",
       "      <td>peugeot</td>\n",
       "      <td>yes</td>\n",
       "    </tr>\n",
       "    <tr>\n",
       "      <th>66114</th>\n",
       "      <td>1100.0</td>\n",
       "      <td>sedan</td>\n",
       "      <td>1999.0</td>\n",
       "      <td>NaN</td>\n",
       "      <td>0.0</td>\n",
       "      <td>astra</td>\n",
       "      <td>150000.0</td>\n",
       "      <td>NaN</td>\n",
       "      <td>opel</td>\n",
       "      <td>no</td>\n",
       "    </tr>\n",
       "    <tr>\n",
       "      <th>129370</th>\n",
       "      <td>590.0</td>\n",
       "      <td>other</td>\n",
       "      <td>1994.0</td>\n",
       "      <td>NaN</td>\n",
       "      <td>0.0</td>\n",
       "      <td>NaN</td>\n",
       "      <td>30000.0</td>\n",
       "      <td>NaN</td>\n",
       "      <td>sonstige_autos</td>\n",
       "      <td>NaN</td>\n",
       "    </tr>\n",
       "    <tr>\n",
       "      <th>99865</th>\n",
       "      <td>2999.0</td>\n",
       "      <td>NaN</td>\n",
       "      <td>2005.0</td>\n",
       "      <td>NaN</td>\n",
       "      <td>0.0</td>\n",
       "      <td>NaN</td>\n",
       "      <td>150000.0</td>\n",
       "      <td>NaN</td>\n",
       "      <td>bmw</td>\n",
       "      <td>NaN</td>\n",
       "    </tr>\n",
       "  </tbody>\n",
       "</table>\n",
       "<p>8484 rows × 10 columns</p>\n",
       "</div>"
      ],
      "text/plain": [
       "          price vehicle_type  registration_year gearbox  power     model  \\\n",
       "1837     1500.0        other             1985.0    auto    0.0     other   \n",
       "12355      99.0          NaN             2000.0     NaN    0.0     astra   \n",
       "22716    5900.0        sedan             1983.0  manual    0.0      golf   \n",
       "40971   14800.0          NaN             2010.0     NaN    0.0  c_klasse   \n",
       "23390    1950.0        sedan             2002.0  manual    0.0        c5   \n",
       "...         ...          ...                ...     ...    ...       ...   \n",
       "924       140.0        coupe             1997.0  manual    0.0    megane   \n",
       "108387   3700.0          NaN             2011.0     NaN    0.0   3_reihe   \n",
       "66114    1100.0        sedan             1999.0     NaN    0.0     astra   \n",
       "129370    590.0        other             1994.0     NaN    0.0       NaN   \n",
       "99865    2999.0          NaN             2005.0     NaN    0.0       NaN   \n",
       "\n",
       "        kilometer fuel_type           brand repaired  \n",
       "1837      50000.0    petrol       chevrolet      NaN  \n",
       "12355    150000.0       NaN            opel      yes  \n",
       "22716    150000.0    petrol      volkswagen      NaN  \n",
       "40971    150000.0  gasoline   mercedes_benz      NaN  \n",
       "23390    125000.0    petrol         citroen      NaN  \n",
       "...           ...       ...             ...      ...  \n",
       "924      150000.0    petrol         renault      yes  \n",
       "108387    60000.0  gasoline         peugeot      yes  \n",
       "66114    150000.0       NaN            opel       no  \n",
       "129370    30000.0       NaN  sonstige_autos      NaN  \n",
       "99865    150000.0       NaN             bmw      NaN  \n",
       "\n",
       "[8484 rows x 10 columns]"
      ]
     },
     "execution_count": 41,
     "metadata": {},
     "output_type": "execute_result"
    }
   ],
   "source": [
    "train.query('power<=10')"
   ]
  },
  {
   "cell_type": "code",
   "execution_count": 42,
   "metadata": {},
   "outputs": [],
   "source": [
    "power_data = train.query('power<=10')"
   ]
  },
  {
   "cell_type": "code",
   "execution_count": 43,
   "metadata": {},
   "outputs": [
    {
     "data": {
      "text/plain": [
       "<function matplotlib.pyplot.show(close=None, block=None)>"
      ]
     },
     "execution_count": 43,
     "metadata": {},
     "output_type": "execute_result"
    },
    {
     "data": {
      "image/png": "[encoded data removed]",
      "text/plain": [
       "<Figure size 2000x1500 with 4 Axes>"
      ]
     },
     "metadata": {},
     "output_type": "display_data"
    }
   ],
   "source": [
    "power_data.hist(figsize=(20,15))\n",
    "plt.show"
   ]
  },
  {
   "cell_type": "markdown",
   "metadata": {},
   "source": [
    "Похоже, автомобили с нулевыми мощностями- автомобили на разборку, те, которые не на ходу. Тогда они должны стоить дешевле обычных авто. "
   ]
  },
  {
   "cell_type": "markdown",
   "metadata": {},
   "source": [
    "Сравним стоимости автомобилей с очень низкими мощностями и нормальными мощностями на нормализованной гистограмме"
   ]
  },
  {
   "cell_type": "code",
   "execution_count": 44,
   "metadata": {},
   "outputs": [
    {
     "data": {
      "text/plain": [
       "Text(0, 0.5, 'Частота встречаемости')"
      ]
     },
     "execution_count": 44,
     "metadata": {},
     "output_type": "execute_result"
    },
    {
     "data": {
      "image/png": "[encoded data removed]",
      "text/plain": [
       "<Figure size 640x480 with 1 Axes>"
      ]
     },
     "metadata": {},
     "output_type": "display_data"
    }
   ],
   "source": [
    "train[train['power']<10]['price'].hist(bins=35, alpha=0.5, color='green', label= 'Низкая мощность', density = True)\n",
    "train[train['power']>10]['price'].hist(bins=35, alpha=0.5, color='blue',label= 'Высокая мощность', density = True)\n",
    "plt.show\n",
    "plt.legend()\n",
    "plt.title('Сревнение цен разномощностных авто')\n",
    "plt.xlabel('Цена')\n",
    "plt.ylabel('Частота встречаемости')\n"
   ]
  },
  {
   "cell_type": "markdown",
   "metadata": {},
   "source": [
    "Из графика видим, что автомобили с нулевыми мощностями и низкой ценой почти в 2 раза больше автомобилей с нормальной мощностью. Делаем вывод, что скорее всего предположение, что это авто на разборку верно."
   ]
  },
  {
   "cell_type": "code",
   "execution_count": 45,
   "metadata": {},
   "outputs": [
    {
     "name": "stdout",
     "output_type": "stream",
     "text": [
      "<class 'pandas.core.frame.DataFrame'>\n",
      "Int64Index: 85037 entries, 1184 to 31226\n",
      "Data columns (total 10 columns):\n",
      " #   Column             Non-Null Count  Dtype  \n",
      "---  ------             --------------  -----  \n",
      " 0   price              85037 non-null  float64\n",
      " 1   vehicle_type       79887 non-null  object \n",
      " 2   registration_year  85037 non-null  float64\n",
      " 3   gearbox            81216 non-null  object \n",
      " 4   power              85037 non-null  float64\n",
      " 5   model              80912 non-null  object \n",
      " 6   kilometer          85037 non-null  float64\n",
      " 7   fuel_type          78567 non-null  object \n",
      " 8   brand              85037 non-null  object \n",
      " 9   repaired           69404 non-null  object \n",
      "dtypes: float64(4), object(6)\n",
      "memory usage: 7.1+ MB\n"
     ]
    }
   ],
   "source": [
    "train.info()"
   ]
  },
  {
   "cell_type": "markdown",
   "metadata": {},
   "source": [
    "выведем данные, у которых есть пропуски сразу по 3 признакам- vehicle_type, gearbox, model"
   ]
  },
  {
   "cell_type": "code",
   "execution_count": 46,
   "metadata": {},
   "outputs": [
    {
     "data": {
      "text/html": [
       "<div>\n",
       "<style scoped>\n",
       "    .dataframe tbody tr th:only-of-type {\n",
       "        vertical-align: middle;\n",
       "    }\n",
       "\n",
       "    .dataframe tbody tr th {\n",
       "        vertical-align: top;\n",
       "    }\n",
       "\n",
       "    .dataframe thead th {\n",
       "        text-align: right;\n",
       "    }\n",
       "</style>\n",
       "<table border=\"1\" class=\"dataframe\">\n",
       "  <thead>\n",
       "    <tr style=\"text-align: right;\">\n",
       "      <th></th>\n",
       "      <th>price</th>\n",
       "      <th>vehicle_type</th>\n",
       "      <th>registration_year</th>\n",
       "      <th>gearbox</th>\n",
       "      <th>power</th>\n",
       "      <th>model</th>\n",
       "      <th>kilometer</th>\n",
       "      <th>fuel_type</th>\n",
       "      <th>brand</th>\n",
       "      <th>repaired</th>\n",
       "    </tr>\n",
       "  </thead>\n",
       "  <tbody>\n",
       "    <tr>\n",
       "      <th>5150</th>\n",
       "      <td>3599.0</td>\n",
       "      <td>NaN</td>\n",
       "      <td>2006.0</td>\n",
       "      <td>NaN</td>\n",
       "      <td>114.0</td>\n",
       "      <td>NaN</td>\n",
       "      <td>150000.0</td>\n",
       "      <td>gasoline</td>\n",
       "      <td>opel</td>\n",
       "      <td>NaN</td>\n",
       "    </tr>\n",
       "    <tr>\n",
       "      <th>8487</th>\n",
       "      <td>300.0</td>\n",
       "      <td>NaN</td>\n",
       "      <td>2016.0</td>\n",
       "      <td>NaN</td>\n",
       "      <td>50.0</td>\n",
       "      <td>NaN</td>\n",
       "      <td>150000.0</td>\n",
       "      <td>petrol</td>\n",
       "      <td>volkswagen</td>\n",
       "      <td>NaN</td>\n",
       "    </tr>\n",
       "    <tr>\n",
       "      <th>81317</th>\n",
       "      <td>499.0</td>\n",
       "      <td>NaN</td>\n",
       "      <td>1995.0</td>\n",
       "      <td>NaN</td>\n",
       "      <td>109.0</td>\n",
       "      <td>NaN</td>\n",
       "      <td>150000.0</td>\n",
       "      <td>NaN</td>\n",
       "      <td>volkswagen</td>\n",
       "      <td>yes</td>\n",
       "    </tr>\n",
       "    <tr>\n",
       "      <th>45572</th>\n",
       "      <td>2400.0</td>\n",
       "      <td>NaN</td>\n",
       "      <td>2005.0</td>\n",
       "      <td>NaN</td>\n",
       "      <td>0.0</td>\n",
       "      <td>NaN</td>\n",
       "      <td>100000.0</td>\n",
       "      <td>NaN</td>\n",
       "      <td>volkswagen</td>\n",
       "      <td>NaN</td>\n",
       "    </tr>\n",
       "    <tr>\n",
       "      <th>24678</th>\n",
       "      <td>10000.0</td>\n",
       "      <td>NaN</td>\n",
       "      <td>1970.0</td>\n",
       "      <td>NaN</td>\n",
       "      <td>0.0</td>\n",
       "      <td>NaN</td>\n",
       "      <td>5000.0</td>\n",
       "      <td>NaN</td>\n",
       "      <td>sonstige_autos</td>\n",
       "      <td>no</td>\n",
       "    </tr>\n",
       "    <tr>\n",
       "      <th>...</th>\n",
       "      <td>...</td>\n",
       "      <td>...</td>\n",
       "      <td>...</td>\n",
       "      <td>...</td>\n",
       "      <td>...</td>\n",
       "      <td>...</td>\n",
       "      <td>...</td>\n",
       "      <td>...</td>\n",
       "      <td>...</td>\n",
       "      <td>...</td>\n",
       "    </tr>\n",
       "    <tr>\n",
       "      <th>9960</th>\n",
       "      <td>599.0</td>\n",
       "      <td>NaN</td>\n",
       "      <td>2005.0</td>\n",
       "      <td>NaN</td>\n",
       "      <td>0.0</td>\n",
       "      <td>NaN</td>\n",
       "      <td>150000.0</td>\n",
       "      <td>NaN</td>\n",
       "      <td>mazda</td>\n",
       "      <td>NaN</td>\n",
       "    </tr>\n",
       "    <tr>\n",
       "      <th>104375</th>\n",
       "      <td>3000.0</td>\n",
       "      <td>NaN</td>\n",
       "      <td>1980.0</td>\n",
       "      <td>NaN</td>\n",
       "      <td>0.0</td>\n",
       "      <td>NaN</td>\n",
       "      <td>150000.0</td>\n",
       "      <td>NaN</td>\n",
       "      <td>volkswagen</td>\n",
       "      <td>NaN</td>\n",
       "    </tr>\n",
       "    <tr>\n",
       "      <th>137417</th>\n",
       "      <td>350.0</td>\n",
       "      <td>NaN</td>\n",
       "      <td>1995.0</td>\n",
       "      <td>NaN</td>\n",
       "      <td>0.0</td>\n",
       "      <td>NaN</td>\n",
       "      <td>100000.0</td>\n",
       "      <td>NaN</td>\n",
       "      <td>sonstige_autos</td>\n",
       "      <td>NaN</td>\n",
       "    </tr>\n",
       "    <tr>\n",
       "      <th>72610</th>\n",
       "      <td>300.0</td>\n",
       "      <td>NaN</td>\n",
       "      <td>2000.0</td>\n",
       "      <td>NaN</td>\n",
       "      <td>0.0</td>\n",
       "      <td>NaN</td>\n",
       "      <td>5000.0</td>\n",
       "      <td>NaN</td>\n",
       "      <td>mitsubishi</td>\n",
       "      <td>NaN</td>\n",
       "    </tr>\n",
       "    <tr>\n",
       "      <th>99865</th>\n",
       "      <td>2999.0</td>\n",
       "      <td>NaN</td>\n",
       "      <td>2005.0</td>\n",
       "      <td>NaN</td>\n",
       "      <td>0.0</td>\n",
       "      <td>NaN</td>\n",
       "      <td>150000.0</td>\n",
       "      <td>NaN</td>\n",
       "      <td>bmw</td>\n",
       "      <td>NaN</td>\n",
       "    </tr>\n",
       "  </tbody>\n",
       "</table>\n",
       "<p>414 rows × 10 columns</p>\n",
       "</div>"
      ],
      "text/plain": [
       "          price vehicle_type  registration_year gearbox  power model  \\\n",
       "5150     3599.0          NaN             2006.0     NaN  114.0   NaN   \n",
       "8487      300.0          NaN             2016.0     NaN   50.0   NaN   \n",
       "81317     499.0          NaN             1995.0     NaN  109.0   NaN   \n",
       "45572    2400.0          NaN             2005.0     NaN    0.0   NaN   \n",
       "24678   10000.0          NaN             1970.0     NaN    0.0   NaN   \n",
       "...         ...          ...                ...     ...    ...   ...   \n",
       "9960      599.0          NaN             2005.0     NaN    0.0   NaN   \n",
       "104375   3000.0          NaN             1980.0     NaN    0.0   NaN   \n",
       "137417    350.0          NaN             1995.0     NaN    0.0   NaN   \n",
       "72610     300.0          NaN             2000.0     NaN    0.0   NaN   \n",
       "99865    2999.0          NaN             2005.0     NaN    0.0   NaN   \n",
       "\n",
       "        kilometer fuel_type           brand repaired  \n",
       "5150     150000.0  gasoline            opel      NaN  \n",
       "8487     150000.0    petrol      volkswagen      NaN  \n",
       "81317    150000.0       NaN      volkswagen      yes  \n",
       "45572    100000.0       NaN      volkswagen      NaN  \n",
       "24678      5000.0       NaN  sonstige_autos       no  \n",
       "...           ...       ...             ...      ...  \n",
       "9960     150000.0       NaN           mazda      NaN  \n",
       "104375   150000.0       NaN      volkswagen      NaN  \n",
       "137417   100000.0       NaN  sonstige_autos      NaN  \n",
       "72610      5000.0       NaN      mitsubishi      NaN  \n",
       "99865    150000.0       NaN             bmw      NaN  \n",
       "\n",
       "[414 rows x 10 columns]"
      ]
     },
     "execution_count": 46,
     "metadata": {},
     "output_type": "execute_result"
    }
   ],
   "source": [
    "train.query('vehicle_type.isnull()&gearbox.isnull()&model.isnull()')"
   ]
  },
  {
   "cell_type": "markdown",
   "metadata": {},
   "source": [
    "в этих данных также есть пропуски в fuel_type и repaired. Эти строки также подлежат удалению, т.к. достаточно бессмысленно ждать достоверных предсказаний только по бренду машины, году регистрации и киллометражу. Слишком мало информации."
   ]
  },
  {
   "cell_type": "markdown",
   "metadata": {},
   "source": [
    "обработаем пропуски в признаке vehicle_type"
   ]
  },
  {
   "cell_type": "code",
   "execution_count": 47,
   "metadata": {},
   "outputs": [],
   "source": [
    "train.dropna(axis=0, how='all', subset=['vehicle_type','gearbox','model'], inplace=True)"
   ]
  },
  {
   "cell_type": "code",
   "execution_count": 48,
   "metadata": {},
   "outputs": [
    {
     "data": {
      "text/html": [
       "<div>\n",
       "<style scoped>\n",
       "    .dataframe tbody tr th:only-of-type {\n",
       "        vertical-align: middle;\n",
       "    }\n",
       "\n",
       "    .dataframe tbody tr th {\n",
       "        vertical-align: top;\n",
       "    }\n",
       "\n",
       "    .dataframe thead th {\n",
       "        text-align: right;\n",
       "    }\n",
       "</style>\n",
       "<table border=\"1\" class=\"dataframe\">\n",
       "  <thead>\n",
       "    <tr style=\"text-align: right;\">\n",
       "      <th></th>\n",
       "      <th>price</th>\n",
       "      <th>vehicle_type</th>\n",
       "      <th>registration_year</th>\n",
       "      <th>gearbox</th>\n",
       "      <th>power</th>\n",
       "      <th>model</th>\n",
       "      <th>kilometer</th>\n",
       "      <th>fuel_type</th>\n",
       "      <th>brand</th>\n",
       "      <th>repaired</th>\n",
       "    </tr>\n",
       "  </thead>\n",
       "  <tbody>\n",
       "    <tr>\n",
       "      <th>87765</th>\n",
       "      <td>3200.0</td>\n",
       "      <td>NaN</td>\n",
       "      <td>2016.0</td>\n",
       "      <td>manual</td>\n",
       "      <td>75.0</td>\n",
       "      <td>golf</td>\n",
       "      <td>100000.0</td>\n",
       "      <td>petrol</td>\n",
       "      <td>volkswagen</td>\n",
       "      <td>no</td>\n",
       "    </tr>\n",
       "    <tr>\n",
       "      <th>112419</th>\n",
       "      <td>5650.0</td>\n",
       "      <td>NaN</td>\n",
       "      <td>2007.0</td>\n",
       "      <td>manual</td>\n",
       "      <td>143.0</td>\n",
       "      <td>1er</td>\n",
       "      <td>150000.0</td>\n",
       "      <td>gasoline</td>\n",
       "      <td>bmw</td>\n",
       "      <td>NaN</td>\n",
       "    </tr>\n",
       "    <tr>\n",
       "      <th>106735</th>\n",
       "      <td>99.0</td>\n",
       "      <td>NaN</td>\n",
       "      <td>2016.0</td>\n",
       "      <td>manual</td>\n",
       "      <td>54.0</td>\n",
       "      <td>punto</td>\n",
       "      <td>150000.0</td>\n",
       "      <td>petrol</td>\n",
       "      <td>fiat</td>\n",
       "      <td>no</td>\n",
       "    </tr>\n",
       "    <tr>\n",
       "      <th>17497</th>\n",
       "      <td>6000.0</td>\n",
       "      <td>NaN</td>\n",
       "      <td>2016.0</td>\n",
       "      <td>auto</td>\n",
       "      <td>41.0</td>\n",
       "      <td>NaN</td>\n",
       "      <td>5000.0</td>\n",
       "      <td>NaN</td>\n",
       "      <td>sonstige_autos</td>\n",
       "      <td>no</td>\n",
       "    </tr>\n",
       "    <tr>\n",
       "      <th>12355</th>\n",
       "      <td>99.0</td>\n",
       "      <td>NaN</td>\n",
       "      <td>2000.0</td>\n",
       "      <td>NaN</td>\n",
       "      <td>0.0</td>\n",
       "      <td>astra</td>\n",
       "      <td>150000.0</td>\n",
       "      <td>NaN</td>\n",
       "      <td>opel</td>\n",
       "      <td>yes</td>\n",
       "    </tr>\n",
       "    <tr>\n",
       "      <th>...</th>\n",
       "      <td>...</td>\n",
       "      <td>...</td>\n",
       "      <td>...</td>\n",
       "      <td>...</td>\n",
       "      <td>...</td>\n",
       "      <td>...</td>\n",
       "      <td>...</td>\n",
       "      <td>...</td>\n",
       "      <td>...</td>\n",
       "      <td>...</td>\n",
       "    </tr>\n",
       "    <tr>\n",
       "      <th>87886</th>\n",
       "      <td>600.0</td>\n",
       "      <td>NaN</td>\n",
       "      <td>2002.0</td>\n",
       "      <td>manual</td>\n",
       "      <td>50.0</td>\n",
       "      <td>arosa</td>\n",
       "      <td>150000.0</td>\n",
       "      <td>petrol</td>\n",
       "      <td>seat</td>\n",
       "      <td>no</td>\n",
       "    </tr>\n",
       "    <tr>\n",
       "      <th>41796</th>\n",
       "      <td>150.0</td>\n",
       "      <td>NaN</td>\n",
       "      <td>2000.0</td>\n",
       "      <td>manual</td>\n",
       "      <td>0.0</td>\n",
       "      <td>3er</td>\n",
       "      <td>20000.0</td>\n",
       "      <td>petrol</td>\n",
       "      <td>bmw</td>\n",
       "      <td>NaN</td>\n",
       "    </tr>\n",
       "    <tr>\n",
       "      <th>119635</th>\n",
       "      <td>4350.0</td>\n",
       "      <td>NaN</td>\n",
       "      <td>2016.0</td>\n",
       "      <td>auto</td>\n",
       "      <td>0.0</td>\n",
       "      <td>c_klasse</td>\n",
       "      <td>150000.0</td>\n",
       "      <td>gasoline</td>\n",
       "      <td>mercedes_benz</td>\n",
       "      <td>yes</td>\n",
       "    </tr>\n",
       "    <tr>\n",
       "      <th>108387</th>\n",
       "      <td>3700.0</td>\n",
       "      <td>NaN</td>\n",
       "      <td>2011.0</td>\n",
       "      <td>NaN</td>\n",
       "      <td>0.0</td>\n",
       "      <td>3_reihe</td>\n",
       "      <td>60000.0</td>\n",
       "      <td>gasoline</td>\n",
       "      <td>peugeot</td>\n",
       "      <td>yes</td>\n",
       "    </tr>\n",
       "    <tr>\n",
       "      <th>6570</th>\n",
       "      <td>600.0</td>\n",
       "      <td>NaN</td>\n",
       "      <td>1990.0</td>\n",
       "      <td>manual</td>\n",
       "      <td>90.0</td>\n",
       "      <td>golf</td>\n",
       "      <td>150000.0</td>\n",
       "      <td>petrol</td>\n",
       "      <td>volkswagen</td>\n",
       "      <td>NaN</td>\n",
       "    </tr>\n",
       "  </tbody>\n",
       "</table>\n",
       "<p>4736 rows × 10 columns</p>\n",
       "</div>"
      ],
      "text/plain": [
       "         price vehicle_type  registration_year gearbox  power     model  \\\n",
       "87765   3200.0          NaN             2016.0  manual   75.0      golf   \n",
       "112419  5650.0          NaN             2007.0  manual  143.0       1er   \n",
       "106735    99.0          NaN             2016.0  manual   54.0     punto   \n",
       "17497   6000.0          NaN             2016.0    auto   41.0       NaN   \n",
       "12355     99.0          NaN             2000.0     NaN    0.0     astra   \n",
       "...        ...          ...                ...     ...    ...       ...   \n",
       "87886    600.0          NaN             2002.0  manual   50.0     arosa   \n",
       "41796    150.0          NaN             2000.0  manual    0.0       3er   \n",
       "119635  4350.0          NaN             2016.0    auto    0.0  c_klasse   \n",
       "108387  3700.0          NaN             2011.0     NaN    0.0   3_reihe   \n",
       "6570     600.0          NaN             1990.0  manual   90.0      golf   \n",
       "\n",
       "        kilometer fuel_type           brand repaired  \n",
       "87765    100000.0    petrol      volkswagen       no  \n",
       "112419   150000.0  gasoline             bmw      NaN  \n",
       "106735   150000.0    petrol            fiat       no  \n",
       "17497      5000.0       NaN  sonstige_autos       no  \n",
       "12355    150000.0       NaN            opel      yes  \n",
       "...           ...       ...             ...      ...  \n",
       "87886    150000.0    petrol            seat       no  \n",
       "41796     20000.0    petrol             bmw      NaN  \n",
       "119635   150000.0  gasoline   mercedes_benz      yes  \n",
       "108387    60000.0  gasoline         peugeot      yes  \n",
       "6570     150000.0    petrol      volkswagen      NaN  \n",
       "\n",
       "[4736 rows x 10 columns]"
      ]
     },
     "execution_count": 48,
     "metadata": {},
     "output_type": "execute_result"
    }
   ],
   "source": [
    "train[train.vehicle_type.isnull()]"
   ]
  },
  {
   "cell_type": "code",
   "execution_count": 49,
   "metadata": {},
   "outputs": [
    {
     "data": {
      "text/plain": [
       "array(['suv', 'wagon', 'sedan', 'convertible', nan, 'bus', 'small',\n",
       "       'coupe', 'other'], dtype=object)"
      ]
     },
     "execution_count": 49,
     "metadata": {},
     "output_type": "execute_result"
    }
   ],
   "source": [
    "train.vehicle_type.unique()"
   ]
  },
  {
   "cell_type": "markdown",
   "metadata": {},
   "source": [
    "Заменим пропуски на заглушки \"other\" в столбце vehicle_type"
   ]
  },
  {
   "cell_type": "code",
   "execution_count": 50,
   "metadata": {},
   "outputs": [],
   "source": [
    "train.loc[train['vehicle_type'].isnull(), 'vehicle_type'] = 'other'"
   ]
  },
  {
   "cell_type": "code",
   "execution_count": 51,
   "metadata": {},
   "outputs": [
    {
     "data": {
      "text/html": [
       "<div>\n",
       "<style scoped>\n",
       "    .dataframe tbody tr th:only-of-type {\n",
       "        vertical-align: middle;\n",
       "    }\n",
       "\n",
       "    .dataframe tbody tr th {\n",
       "        vertical-align: top;\n",
       "    }\n",
       "\n",
       "    .dataframe thead th {\n",
       "        text-align: right;\n",
       "    }\n",
       "</style>\n",
       "<table border=\"1\" class=\"dataframe\">\n",
       "  <thead>\n",
       "    <tr style=\"text-align: right;\">\n",
       "      <th></th>\n",
       "      <th>price</th>\n",
       "      <th>vehicle_type</th>\n",
       "      <th>registration_year</th>\n",
       "      <th>gearbox</th>\n",
       "      <th>power</th>\n",
       "      <th>model</th>\n",
       "      <th>kilometer</th>\n",
       "      <th>fuel_type</th>\n",
       "      <th>brand</th>\n",
       "      <th>repaired</th>\n",
       "    </tr>\n",
       "  </thead>\n",
       "  <tbody>\n",
       "    <tr>\n",
       "      <th>12355</th>\n",
       "      <td>99.0</td>\n",
       "      <td>other</td>\n",
       "      <td>2000.0</td>\n",
       "      <td>NaN</td>\n",
       "      <td>0.0</td>\n",
       "      <td>astra</td>\n",
       "      <td>150000.0</td>\n",
       "      <td>NaN</td>\n",
       "      <td>opel</td>\n",
       "      <td>yes</td>\n",
       "    </tr>\n",
       "    <tr>\n",
       "      <th>80577</th>\n",
       "      <td>1200.0</td>\n",
       "      <td>small</td>\n",
       "      <td>1998.0</td>\n",
       "      <td>NaN</td>\n",
       "      <td>75.0</td>\n",
       "      <td>NaN</td>\n",
       "      <td>150000.0</td>\n",
       "      <td>petrol</td>\n",
       "      <td>ford</td>\n",
       "      <td>no</td>\n",
       "    </tr>\n",
       "    <tr>\n",
       "      <th>40971</th>\n",
       "      <td>14800.0</td>\n",
       "      <td>other</td>\n",
       "      <td>2010.0</td>\n",
       "      <td>NaN</td>\n",
       "      <td>0.0</td>\n",
       "      <td>c_klasse</td>\n",
       "      <td>150000.0</td>\n",
       "      <td>gasoline</td>\n",
       "      <td>mercedes_benz</td>\n",
       "      <td>NaN</td>\n",
       "    </tr>\n",
       "    <tr>\n",
       "      <th>112153</th>\n",
       "      <td>8900.0</td>\n",
       "      <td>suv</td>\n",
       "      <td>2006.0</td>\n",
       "      <td>NaN</td>\n",
       "      <td>0.0</td>\n",
       "      <td>m_klasse</td>\n",
       "      <td>150000.0</td>\n",
       "      <td>gasoline</td>\n",
       "      <td>mercedes_benz</td>\n",
       "      <td>no</td>\n",
       "    </tr>\n",
       "    <tr>\n",
       "      <th>85474</th>\n",
       "      <td>900.0</td>\n",
       "      <td>wagon</td>\n",
       "      <td>2000.0</td>\n",
       "      <td>NaN</td>\n",
       "      <td>0.0</td>\n",
       "      <td>other</td>\n",
       "      <td>150000.0</td>\n",
       "      <td>NaN</td>\n",
       "      <td>fiat</td>\n",
       "      <td>NaN</td>\n",
       "    </tr>\n",
       "    <tr>\n",
       "      <th>...</th>\n",
       "      <td>...</td>\n",
       "      <td>...</td>\n",
       "      <td>...</td>\n",
       "      <td>...</td>\n",
       "      <td>...</td>\n",
       "      <td>...</td>\n",
       "      <td>...</td>\n",
       "      <td>...</td>\n",
       "      <td>...</td>\n",
       "      <td>...</td>\n",
       "    </tr>\n",
       "    <tr>\n",
       "      <th>22239</th>\n",
       "      <td>1400.0</td>\n",
       "      <td>sedan</td>\n",
       "      <td>1990.0</td>\n",
       "      <td>NaN</td>\n",
       "      <td>0.0</td>\n",
       "      <td>other</td>\n",
       "      <td>150000.0</td>\n",
       "      <td>gasoline</td>\n",
       "      <td>mercedes_benz</td>\n",
       "      <td>no</td>\n",
       "    </tr>\n",
       "    <tr>\n",
       "      <th>108387</th>\n",
       "      <td>3700.0</td>\n",
       "      <td>other</td>\n",
       "      <td>2011.0</td>\n",
       "      <td>NaN</td>\n",
       "      <td>0.0</td>\n",
       "      <td>3_reihe</td>\n",
       "      <td>60000.0</td>\n",
       "      <td>gasoline</td>\n",
       "      <td>peugeot</td>\n",
       "      <td>yes</td>\n",
       "    </tr>\n",
       "    <tr>\n",
       "      <th>59672</th>\n",
       "      <td>500.0</td>\n",
       "      <td>small</td>\n",
       "      <td>2007.0</td>\n",
       "      <td>NaN</td>\n",
       "      <td>69.0</td>\n",
       "      <td>NaN</td>\n",
       "      <td>70000.0</td>\n",
       "      <td>NaN</td>\n",
       "      <td>daihatsu</td>\n",
       "      <td>NaN</td>\n",
       "    </tr>\n",
       "    <tr>\n",
       "      <th>66114</th>\n",
       "      <td>1100.0</td>\n",
       "      <td>sedan</td>\n",
       "      <td>1999.0</td>\n",
       "      <td>NaN</td>\n",
       "      <td>0.0</td>\n",
       "      <td>astra</td>\n",
       "      <td>150000.0</td>\n",
       "      <td>NaN</td>\n",
       "      <td>opel</td>\n",
       "      <td>no</td>\n",
       "    </tr>\n",
       "    <tr>\n",
       "      <th>129370</th>\n",
       "      <td>590.0</td>\n",
       "      <td>other</td>\n",
       "      <td>1994.0</td>\n",
       "      <td>NaN</td>\n",
       "      <td>0.0</td>\n",
       "      <td>NaN</td>\n",
       "      <td>30000.0</td>\n",
       "      <td>NaN</td>\n",
       "      <td>sonstige_autos</td>\n",
       "      <td>NaN</td>\n",
       "    </tr>\n",
       "  </tbody>\n",
       "</table>\n",
       "<p>3407 rows × 10 columns</p>\n",
       "</div>"
      ],
      "text/plain": [
       "          price vehicle_type  registration_year gearbox  power     model  \\\n",
       "12355      99.0        other             2000.0     NaN    0.0     astra   \n",
       "80577    1200.0        small             1998.0     NaN   75.0       NaN   \n",
       "40971   14800.0        other             2010.0     NaN    0.0  c_klasse   \n",
       "112153   8900.0          suv             2006.0     NaN    0.0  m_klasse   \n",
       "85474     900.0        wagon             2000.0     NaN    0.0     other   \n",
       "...         ...          ...                ...     ...    ...       ...   \n",
       "22239    1400.0        sedan             1990.0     NaN    0.0     other   \n",
       "108387   3700.0        other             2011.0     NaN    0.0   3_reihe   \n",
       "59672     500.0        small             2007.0     NaN   69.0       NaN   \n",
       "66114    1100.0        sedan             1999.0     NaN    0.0     astra   \n",
       "129370    590.0        other             1994.0     NaN    0.0       NaN   \n",
       "\n",
       "        kilometer fuel_type           brand repaired  \n",
       "12355    150000.0       NaN            opel      yes  \n",
       "80577    150000.0    petrol            ford       no  \n",
       "40971    150000.0  gasoline   mercedes_benz      NaN  \n",
       "112153   150000.0  gasoline   mercedes_benz       no  \n",
       "85474    150000.0       NaN            fiat      NaN  \n",
       "...           ...       ...             ...      ...  \n",
       "22239    150000.0  gasoline   mercedes_benz       no  \n",
       "108387    60000.0  gasoline         peugeot      yes  \n",
       "59672     70000.0       NaN        daihatsu      NaN  \n",
       "66114    150000.0       NaN            opel       no  \n",
       "129370    30000.0       NaN  sonstige_autos      NaN  \n",
       "\n",
       "[3407 rows x 10 columns]"
      ]
     },
     "execution_count": 51,
     "metadata": {},
     "output_type": "execute_result"
    }
   ],
   "source": [
    "train[train.gearbox.isnull()]"
   ]
  },
  {
   "cell_type": "markdown",
   "metadata": {},
   "source": [
    "заменим пропуски в gearbox на manual"
   ]
  },
  {
   "cell_type": "code",
   "execution_count": 52,
   "metadata": {},
   "outputs": [],
   "source": [
    "train.loc[train['gearbox'].isnull(), 'gearbox'] = 'manual'"
   ]
  },
  {
   "cell_type": "code",
   "execution_count": 53,
   "metadata": {},
   "outputs": [
    {
     "name": "stdout",
     "output_type": "stream",
     "text": [
      "<class 'pandas.core.frame.DataFrame'>\n",
      "Int64Index: 84623 entries, 1184 to 31226\n",
      "Data columns (total 10 columns):\n",
      " #   Column             Non-Null Count  Dtype  \n",
      "---  ------             --------------  -----  \n",
      " 0   price              84623 non-null  float64\n",
      " 1   vehicle_type       84623 non-null  object \n",
      " 2   registration_year  84623 non-null  float64\n",
      " 3   gearbox            84623 non-null  object \n",
      " 4   power              84623 non-null  float64\n",
      " 5   model              80912 non-null  object \n",
      " 6   kilometer          84623 non-null  float64\n",
      " 7   fuel_type          78467 non-null  object \n",
      " 8   brand              84623 non-null  object \n",
      " 9   repaired           69357 non-null  object \n",
      "dtypes: float64(4), object(6)\n",
      "memory usage: 7.1+ MB\n"
     ]
    }
   ],
   "source": [
    "train.info()"
   ]
  },
  {
   "cell_type": "code",
   "execution_count": 54,
   "metadata": {},
   "outputs": [
    {
     "data": {
      "text/html": [
       "<div>\n",
       "<style scoped>\n",
       "    .dataframe tbody tr th:only-of-type {\n",
       "        vertical-align: middle;\n",
       "    }\n",
       "\n",
       "    .dataframe tbody tr th {\n",
       "        vertical-align: top;\n",
       "    }\n",
       "\n",
       "    .dataframe thead th {\n",
       "        text-align: right;\n",
       "    }\n",
       "</style>\n",
       "<table border=\"1\" class=\"dataframe\">\n",
       "  <thead>\n",
       "    <tr style=\"text-align: right;\">\n",
       "      <th></th>\n",
       "      <th>price</th>\n",
       "      <th>vehicle_type</th>\n",
       "      <th>registration_year</th>\n",
       "      <th>gearbox</th>\n",
       "      <th>power</th>\n",
       "      <th>model</th>\n",
       "      <th>kilometer</th>\n",
       "      <th>fuel_type</th>\n",
       "      <th>brand</th>\n",
       "      <th>repaired</th>\n",
       "    </tr>\n",
       "  </thead>\n",
       "  <tbody>\n",
       "    <tr>\n",
       "      <th>99924</th>\n",
       "      <td>499.0</td>\n",
       "      <td>wagon</td>\n",
       "      <td>1996.0</td>\n",
       "      <td>manual</td>\n",
       "      <td>144.0</td>\n",
       "      <td>NaN</td>\n",
       "      <td>150000.0</td>\n",
       "      <td>NaN</td>\n",
       "      <td>volvo</td>\n",
       "      <td>no</td>\n",
       "    </tr>\n",
       "    <tr>\n",
       "      <th>98048</th>\n",
       "      <td>4500.0</td>\n",
       "      <td>convertible</td>\n",
       "      <td>1986.0</td>\n",
       "      <td>manual</td>\n",
       "      <td>90.0</td>\n",
       "      <td>NaN</td>\n",
       "      <td>100000.0</td>\n",
       "      <td>petrol</td>\n",
       "      <td>bmw</td>\n",
       "      <td>NaN</td>\n",
       "    </tr>\n",
       "    <tr>\n",
       "      <th>17497</th>\n",
       "      <td>6000.0</td>\n",
       "      <td>other</td>\n",
       "      <td>2016.0</td>\n",
       "      <td>auto</td>\n",
       "      <td>41.0</td>\n",
       "      <td>NaN</td>\n",
       "      <td>5000.0</td>\n",
       "      <td>NaN</td>\n",
       "      <td>sonstige_autos</td>\n",
       "      <td>no</td>\n",
       "    </tr>\n",
       "    <tr>\n",
       "      <th>83975</th>\n",
       "      <td>250.0</td>\n",
       "      <td>sedan</td>\n",
       "      <td>1995.0</td>\n",
       "      <td>auto</td>\n",
       "      <td>143.0</td>\n",
       "      <td>NaN</td>\n",
       "      <td>150000.0</td>\n",
       "      <td>gasoline</td>\n",
       "      <td>bmw</td>\n",
       "      <td>no</td>\n",
       "    </tr>\n",
       "    <tr>\n",
       "      <th>80577</th>\n",
       "      <td>1200.0</td>\n",
       "      <td>small</td>\n",
       "      <td>1998.0</td>\n",
       "      <td>manual</td>\n",
       "      <td>75.0</td>\n",
       "      <td>NaN</td>\n",
       "      <td>150000.0</td>\n",
       "      <td>petrol</td>\n",
       "      <td>ford</td>\n",
       "      <td>no</td>\n",
       "    </tr>\n",
       "    <tr>\n",
       "      <th>...</th>\n",
       "      <td>...</td>\n",
       "      <td>...</td>\n",
       "      <td>...</td>\n",
       "      <td>...</td>\n",
       "      <td>...</td>\n",
       "      <td>...</td>\n",
       "      <td>...</td>\n",
       "      <td>...</td>\n",
       "      <td>...</td>\n",
       "      <td>...</td>\n",
       "    </tr>\n",
       "    <tr>\n",
       "      <th>108605</th>\n",
       "      <td>7500.0</td>\n",
       "      <td>other</td>\n",
       "      <td>2016.0</td>\n",
       "      <td>manual</td>\n",
       "      <td>109.0</td>\n",
       "      <td>NaN</td>\n",
       "      <td>70000.0</td>\n",
       "      <td>petrol</td>\n",
       "      <td>kia</td>\n",
       "      <td>no</td>\n",
       "    </tr>\n",
       "    <tr>\n",
       "      <th>77827</th>\n",
       "      <td>4000.0</td>\n",
       "      <td>small</td>\n",
       "      <td>1998.0</td>\n",
       "      <td>manual</td>\n",
       "      <td>150.0</td>\n",
       "      <td>NaN</td>\n",
       "      <td>150000.0</td>\n",
       "      <td>petrol</td>\n",
       "      <td>audi</td>\n",
       "      <td>no</td>\n",
       "    </tr>\n",
       "    <tr>\n",
       "      <th>133341</th>\n",
       "      <td>380.0</td>\n",
       "      <td>small</td>\n",
       "      <td>1998.0</td>\n",
       "      <td>manual</td>\n",
       "      <td>58.0</td>\n",
       "      <td>NaN</td>\n",
       "      <td>150000.0</td>\n",
       "      <td>NaN</td>\n",
       "      <td>renault</td>\n",
       "      <td>NaN</td>\n",
       "    </tr>\n",
       "    <tr>\n",
       "      <th>59672</th>\n",
       "      <td>500.0</td>\n",
       "      <td>small</td>\n",
       "      <td>2007.0</td>\n",
       "      <td>manual</td>\n",
       "      <td>69.0</td>\n",
       "      <td>NaN</td>\n",
       "      <td>70000.0</td>\n",
       "      <td>NaN</td>\n",
       "      <td>daihatsu</td>\n",
       "      <td>NaN</td>\n",
       "    </tr>\n",
       "    <tr>\n",
       "      <th>129370</th>\n",
       "      <td>590.0</td>\n",
       "      <td>other</td>\n",
       "      <td>1994.0</td>\n",
       "      <td>manual</td>\n",
       "      <td>0.0</td>\n",
       "      <td>NaN</td>\n",
       "      <td>30000.0</td>\n",
       "      <td>NaN</td>\n",
       "      <td>sonstige_autos</td>\n",
       "      <td>NaN</td>\n",
       "    </tr>\n",
       "  </tbody>\n",
       "</table>\n",
       "<p>3711 rows × 10 columns</p>\n",
       "</div>"
      ],
      "text/plain": [
       "         price vehicle_type  registration_year gearbox  power model  \\\n",
       "99924    499.0        wagon             1996.0  manual  144.0   NaN   \n",
       "98048   4500.0  convertible             1986.0  manual   90.0   NaN   \n",
       "17497   6000.0        other             2016.0    auto   41.0   NaN   \n",
       "83975    250.0        sedan             1995.0    auto  143.0   NaN   \n",
       "80577   1200.0        small             1998.0  manual   75.0   NaN   \n",
       "...        ...          ...                ...     ...    ...   ...   \n",
       "108605  7500.0        other             2016.0  manual  109.0   NaN   \n",
       "77827   4000.0        small             1998.0  manual  150.0   NaN   \n",
       "133341   380.0        small             1998.0  manual   58.0   NaN   \n",
       "59672    500.0        small             2007.0  manual   69.0   NaN   \n",
       "129370   590.0        other             1994.0  manual    0.0   NaN   \n",
       "\n",
       "        kilometer fuel_type           brand repaired  \n",
       "99924    150000.0       NaN           volvo       no  \n",
       "98048    100000.0    petrol             bmw      NaN  \n",
       "17497      5000.0       NaN  sonstige_autos       no  \n",
       "83975    150000.0  gasoline             bmw       no  \n",
       "80577    150000.0    petrol            ford       no  \n",
       "...           ...       ...             ...      ...  \n",
       "108605    70000.0    petrol             kia       no  \n",
       "77827    150000.0    petrol            audi       no  \n",
       "133341   150000.0       NaN         renault      NaN  \n",
       "59672     70000.0       NaN        daihatsu      NaN  \n",
       "129370    30000.0       NaN  sonstige_autos      NaN  \n",
       "\n",
       "[3711 rows x 10 columns]"
      ]
     },
     "execution_count": 54,
     "metadata": {},
     "output_type": "execute_result"
    }
   ],
   "source": [
    "train[train.model.isnull()]"
   ]
  },
  {
   "cell_type": "code",
   "execution_count": 55,
   "metadata": {},
   "outputs": [
    {
     "data": {
      "text/html": [
       "<div>\n",
       "<style scoped>\n",
       "    .dataframe tbody tr th:only-of-type {\n",
       "        vertical-align: middle;\n",
       "    }\n",
       "\n",
       "    .dataframe tbody tr th {\n",
       "        vertical-align: top;\n",
       "    }\n",
       "\n",
       "    .dataframe thead th {\n",
       "        text-align: right;\n",
       "    }\n",
       "</style>\n",
       "<table border=\"1\" class=\"dataframe\">\n",
       "  <thead>\n",
       "    <tr style=\"text-align: right;\">\n",
       "      <th></th>\n",
       "      <th>price</th>\n",
       "      <th>vehicle_type</th>\n",
       "      <th>registration_year</th>\n",
       "      <th>gearbox</th>\n",
       "      <th>power</th>\n",
       "      <th>model</th>\n",
       "      <th>kilometer</th>\n",
       "      <th>fuel_type</th>\n",
       "      <th>brand</th>\n",
       "      <th>repaired</th>\n",
       "    </tr>\n",
       "  </thead>\n",
       "  <tbody>\n",
       "    <tr>\n",
       "      <th>72376</th>\n",
       "      <td>1449.0</td>\n",
       "      <td>wagon</td>\n",
       "      <td>1998.0</td>\n",
       "      <td>manual</td>\n",
       "      <td>75.0</td>\n",
       "      <td>other</td>\n",
       "      <td>125000.0</td>\n",
       "      <td>NaN</td>\n",
       "      <td>fiat</td>\n",
       "      <td>NaN</td>\n",
       "    </tr>\n",
       "    <tr>\n",
       "      <th>126453</th>\n",
       "      <td>11950.0</td>\n",
       "      <td>bus</td>\n",
       "      <td>2012.0</td>\n",
       "      <td>manual</td>\n",
       "      <td>125.0</td>\n",
       "      <td>other</td>\n",
       "      <td>50000.0</td>\n",
       "      <td>petrol</td>\n",
       "      <td>kia</td>\n",
       "      <td>no</td>\n",
       "    </tr>\n",
       "    <tr>\n",
       "      <th>65865</th>\n",
       "      <td>1400.0</td>\n",
       "      <td>sedan</td>\n",
       "      <td>1996.0</td>\n",
       "      <td>manual</td>\n",
       "      <td>101.0</td>\n",
       "      <td>other</td>\n",
       "      <td>125000.0</td>\n",
       "      <td>petrol</td>\n",
       "      <td>volkswagen</td>\n",
       "      <td>no</td>\n",
       "    </tr>\n",
       "    <tr>\n",
       "      <th>17480</th>\n",
       "      <td>2000.0</td>\n",
       "      <td>bus</td>\n",
       "      <td>2005.0</td>\n",
       "      <td>manual</td>\n",
       "      <td>139.0</td>\n",
       "      <td>other</td>\n",
       "      <td>100000.0</td>\n",
       "      <td>petrol</td>\n",
       "      <td>kia</td>\n",
       "      <td>yes</td>\n",
       "    </tr>\n",
       "    <tr>\n",
       "      <th>37341</th>\n",
       "      <td>6500.0</td>\n",
       "      <td>small</td>\n",
       "      <td>2009.0</td>\n",
       "      <td>auto</td>\n",
       "      <td>68.0</td>\n",
       "      <td>other</td>\n",
       "      <td>80000.0</td>\n",
       "      <td>petrol</td>\n",
       "      <td>toyota</td>\n",
       "      <td>no</td>\n",
       "    </tr>\n",
       "    <tr>\n",
       "      <th>...</th>\n",
       "      <td>...</td>\n",
       "      <td>...</td>\n",
       "      <td>...</td>\n",
       "      <td>...</td>\n",
       "      <td>...</td>\n",
       "      <td>...</td>\n",
       "      <td>...</td>\n",
       "      <td>...</td>\n",
       "      <td>...</td>\n",
       "      <td>...</td>\n",
       "    </tr>\n",
       "    <tr>\n",
       "      <th>101965</th>\n",
       "      <td>8999.0</td>\n",
       "      <td>coupe</td>\n",
       "      <td>1981.0</td>\n",
       "      <td>auto</td>\n",
       "      <td>179.0</td>\n",
       "      <td>other</td>\n",
       "      <td>40000.0</td>\n",
       "      <td>petrol</td>\n",
       "      <td>chevrolet</td>\n",
       "      <td>no</td>\n",
       "    </tr>\n",
       "    <tr>\n",
       "      <th>14523</th>\n",
       "      <td>1590.0</td>\n",
       "      <td>sedan</td>\n",
       "      <td>1996.0</td>\n",
       "      <td>manual</td>\n",
       "      <td>136.0</td>\n",
       "      <td>other</td>\n",
       "      <td>150000.0</td>\n",
       "      <td>petrol</td>\n",
       "      <td>mercedes_benz</td>\n",
       "      <td>no</td>\n",
       "    </tr>\n",
       "    <tr>\n",
       "      <th>6037</th>\n",
       "      <td>2100.0</td>\n",
       "      <td>bus</td>\n",
       "      <td>2003.0</td>\n",
       "      <td>manual</td>\n",
       "      <td>107.0</td>\n",
       "      <td>other</td>\n",
       "      <td>150000.0</td>\n",
       "      <td>gasoline</td>\n",
       "      <td>citroen</td>\n",
       "      <td>no</td>\n",
       "    </tr>\n",
       "    <tr>\n",
       "      <th>60737</th>\n",
       "      <td>6200.0</td>\n",
       "      <td>convertible</td>\n",
       "      <td>2006.0</td>\n",
       "      <td>manual</td>\n",
       "      <td>100.0</td>\n",
       "      <td>other</td>\n",
       "      <td>80000.0</td>\n",
       "      <td>petrol</td>\n",
       "      <td>peugeot</td>\n",
       "      <td>no</td>\n",
       "    </tr>\n",
       "    <tr>\n",
       "      <th>113154</th>\n",
       "      <td>3999.0</td>\n",
       "      <td>small</td>\n",
       "      <td>2011.0</td>\n",
       "      <td>manual</td>\n",
       "      <td>68.0</td>\n",
       "      <td>other</td>\n",
       "      <td>70000.0</td>\n",
       "      <td>petrol</td>\n",
       "      <td>nissan</td>\n",
       "      <td>no</td>\n",
       "    </tr>\n",
       "  </tbody>\n",
       "</table>\n",
       "<p>6259 rows × 10 columns</p>\n",
       "</div>"
      ],
      "text/plain": [
       "          price vehicle_type  registration_year gearbox  power  model  \\\n",
       "72376    1449.0        wagon             1998.0  manual   75.0  other   \n",
       "126453  11950.0          bus             2012.0  manual  125.0  other   \n",
       "65865    1400.0        sedan             1996.0  manual  101.0  other   \n",
       "17480    2000.0          bus             2005.0  manual  139.0  other   \n",
       "37341    6500.0        small             2009.0    auto   68.0  other   \n",
       "...         ...          ...                ...     ...    ...    ...   \n",
       "101965   8999.0        coupe             1981.0    auto  179.0  other   \n",
       "14523    1590.0        sedan             1996.0  manual  136.0  other   \n",
       "6037     2100.0          bus             2003.0  manual  107.0  other   \n",
       "60737    6200.0  convertible             2006.0  manual  100.0  other   \n",
       "113154   3999.0        small             2011.0  manual   68.0  other   \n",
       "\n",
       "        kilometer fuel_type          brand repaired  \n",
       "72376    125000.0       NaN           fiat      NaN  \n",
       "126453    50000.0    petrol            kia       no  \n",
       "65865    125000.0    petrol     volkswagen       no  \n",
       "17480    100000.0    petrol            kia      yes  \n",
       "37341     80000.0    petrol         toyota       no  \n",
       "...           ...       ...            ...      ...  \n",
       "101965    40000.0    petrol      chevrolet       no  \n",
       "14523    150000.0    petrol  mercedes_benz       no  \n",
       "6037     150000.0  gasoline        citroen       no  \n",
       "60737     80000.0    petrol        peugeot       no  \n",
       "113154    70000.0    petrol         nissan       no  \n",
       "\n",
       "[6259 rows x 10 columns]"
      ]
     },
     "execution_count": 55,
     "metadata": {},
     "output_type": "execute_result"
    }
   ],
   "source": [
    "train[train.model == 'other']"
   ]
  },
  {
   "cell_type": "markdown",
   "metadata": {},
   "source": [
    "Думаю, целесообразно поставить заглушку 'other' в колонке model, 'petrol' в колонке 'fuel_type'"
   ]
  },
  {
   "cell_type": "code",
   "execution_count": 56,
   "metadata": {},
   "outputs": [],
   "source": [
    "train.loc[train['model'].isnull(), 'model'] = 'other'"
   ]
  },
  {
   "cell_type": "code",
   "execution_count": 57,
   "metadata": {},
   "outputs": [],
   "source": [
    "train.loc[train['fuel_type'].isnull(), 'fuel_type'] = 'petrol'"
   ]
  },
  {
   "cell_type": "code",
   "execution_count": 58,
   "metadata": {},
   "outputs": [
    {
     "name": "stdout",
     "output_type": "stream",
     "text": [
      "<class 'pandas.core.frame.DataFrame'>\n",
      "Int64Index: 84623 entries, 1184 to 31226\n",
      "Data columns (total 10 columns):\n",
      " #   Column             Non-Null Count  Dtype  \n",
      "---  ------             --------------  -----  \n",
      " 0   price              84623 non-null  float64\n",
      " 1   vehicle_type       84623 non-null  object \n",
      " 2   registration_year  84623 non-null  float64\n",
      " 3   gearbox            84623 non-null  object \n",
      " 4   power              84623 non-null  float64\n",
      " 5   model              84623 non-null  object \n",
      " 6   kilometer          84623 non-null  float64\n",
      " 7   fuel_type          84623 non-null  object \n",
      " 8   brand              84623 non-null  object \n",
      " 9   repaired           69357 non-null  object \n",
      "dtypes: float64(4), object(6)\n",
      "memory usage: 7.1+ MB\n"
     ]
    }
   ],
   "source": [
    "train.info()"
   ]
  },
  {
   "cell_type": "markdown",
   "metadata": {},
   "source": [
    "Теперь обработаем пропуски в признаке repaired. ПОсмотрим,какие уникальные значения есть в этой колонке"
   ]
  },
  {
   "cell_type": "code",
   "execution_count": 59,
   "metadata": {},
   "outputs": [
    {
     "data": {
      "text/plain": [
       "array(['no', nan, 'yes'], dtype=object)"
      ]
     },
     "execution_count": 59,
     "metadata": {},
     "output_type": "execute_result"
    }
   ],
   "source": [
    "train.repaired.unique()"
   ]
  },
  {
   "cell_type": "markdown",
   "metadata": {},
   "source": [
    "Думаю, здесь лучше поставить заглушку \"unknown\". Т.к. факт того, была ли машина в ремонте или нет влияет на ее итоговую стоимость."
   ]
  },
  {
   "cell_type": "code",
   "execution_count": 60,
   "metadata": {},
   "outputs": [],
   "source": [
    "train.loc[train['repaired'].isnull(),'repaired'] = 'unknown'"
   ]
  },
  {
   "cell_type": "markdown",
   "metadata": {},
   "source": [
    "проверим, что нет больше пропусков и далее проверим данные на дубликаты"
   ]
  },
  {
   "cell_type": "code",
   "execution_count": 61,
   "metadata": {},
   "outputs": [
    {
     "name": "stdout",
     "output_type": "stream",
     "text": [
      "<class 'pandas.core.frame.DataFrame'>\n",
      "Int64Index: 84623 entries, 1184 to 31226\n",
      "Data columns (total 10 columns):\n",
      " #   Column             Non-Null Count  Dtype  \n",
      "---  ------             --------------  -----  \n",
      " 0   price              84623 non-null  float64\n",
      " 1   vehicle_type       84623 non-null  object \n",
      " 2   registration_year  84623 non-null  float64\n",
      " 3   gearbox            84623 non-null  object \n",
      " 4   power              84623 non-null  float64\n",
      " 5   model              84623 non-null  object \n",
      " 6   kilometer          84623 non-null  float64\n",
      " 7   fuel_type          84623 non-null  object \n",
      " 8   brand              84623 non-null  object \n",
      " 9   repaired           84623 non-null  object \n",
      "dtypes: float64(4), object(6)\n",
      "memory usage: 7.1+ MB\n"
     ]
    }
   ],
   "source": [
    "train.info()"
   ]
  },
  {
   "cell_type": "code",
   "execution_count": 62,
   "metadata": {},
   "outputs": [],
   "source": [
    "train_features = train.drop('price',axis=1)\n",
    "train_target = train['price']"
   ]
  },
  {
   "cell_type": "markdown",
   "metadata": {},
   "source": [
    "Теперь переведем категориальные данные в численные. Посмотрим, сколько значений в каждом категориальном признаке"
   ]
  },
  {
   "cell_type": "code",
   "execution_count": 63,
   "metadata": {},
   "outputs": [
    {
     "data": {
      "text/plain": [
       "9"
      ]
     },
     "execution_count": 63,
     "metadata": {},
     "output_type": "execute_result"
    }
   ],
   "source": [
    "len(data.vehicle_type.unique())"
   ]
  },
  {
   "cell_type": "code",
   "execution_count": 64,
   "metadata": {},
   "outputs": [
    {
     "data": {
      "text/plain": [
       "3"
      ]
     },
     "execution_count": 64,
     "metadata": {},
     "output_type": "execute_result"
    }
   ],
   "source": [
    "len(data.gearbox.unique())"
   ]
  },
  {
   "cell_type": "code",
   "execution_count": 65,
   "metadata": {},
   "outputs": [
    {
     "data": {
      "text/plain": [
       "250"
      ]
     },
     "execution_count": 65,
     "metadata": {},
     "output_type": "execute_result"
    }
   ],
   "source": [
    "len(data.model.unique())"
   ]
  },
  {
   "cell_type": "code",
   "execution_count": 66,
   "metadata": {},
   "outputs": [
    {
     "data": {
      "text/plain": [
       "8"
      ]
     },
     "execution_count": 66,
     "metadata": {},
     "output_type": "execute_result"
    }
   ],
   "source": [
    "len(data.fuel_type.unique())"
   ]
  },
  {
   "cell_type": "code",
   "execution_count": 67,
   "metadata": {},
   "outputs": [
    {
     "data": {
      "text/plain": [
       "41"
      ]
     },
     "execution_count": 67,
     "metadata": {},
     "output_type": "execute_result"
    }
   ],
   "source": [
    "len(data.brand.unique())"
   ]
  },
  {
   "cell_type": "code",
   "execution_count": 68,
   "metadata": {},
   "outputs": [
    {
     "data": {
      "text/plain": [
       "3"
      ]
     },
     "execution_count": 68,
     "metadata": {},
     "output_type": "execute_result"
    }
   ],
   "source": [
    "len(data.repaired.unique())"
   ]
  },
  {
   "cell_type": "markdown",
   "metadata": {},
   "source": [
    "Делать огромное количество признаков не хочется, поэтому для признаков vehicle_type,gearbox,fuel_type и repaired применим метод OHE,а для model и brand - ordinary"
   ]
  },
  {
   "cell_type": "code",
   "execution_count": 69,
   "metadata": {},
   "outputs": [],
   "source": [
    "ohe_names = ['vehicle_type','gearbox','fuel_type','repaired']"
   ]
  },
  {
   "cell_type": "code",
   "execution_count": 70,
   "metadata": {},
   "outputs": [],
   "source": [
    "encoder = OneHotEncoder(drop='first', sparse=False, handle_unknown='ignore')\n",
    "encoder.fit(train_features[ohe_names])\n",
    "ohe_train = encoder.transform(train_features[ohe_names])\n",
    "ohe_data_train = pd.DataFrame(ohe_train, columns=encoder.get_feature_names(ohe_names), index=train_features.index)\n",
    "\n",
    "ohe_valid = encoder.transform(valid_features[ohe_names])\n",
    "ohe_data_valid = pd.DataFrame(ohe_valid, columns=encoder.get_feature_names(ohe_names), index=valid_features.index)\n",
    "\n",
    "ohe_test = encoder.transform(test_features[ohe_names])\n",
    "ohe_data_test = pd.DataFrame(ohe_test, columns=encoder.get_feature_names(ohe_names), index=test_features.index)\n"
   ]
  },
  {
   "cell_type": "code",
   "execution_count": 71,
   "metadata": {},
   "outputs": [],
   "source": [
    "num_train = train_features.drop(ohe_names, axis=1)\n",
    "num_valid = valid_features.drop(ohe_names, axis=1)\n",
    "num_test = test_features.drop(ohe_names, axis=1)"
   ]
  },
  {
   "cell_type": "code",
   "execution_count": 72,
   "metadata": {},
   "outputs": [],
   "source": [
    "features_train = pd.concat([num_train,ohe_data_train], axis=1)\n",
    "features_valid = pd.concat([num_valid, ohe_data_valid], axis=1)\n",
    "features_test = pd.concat([num_test, ohe_data_test], axis=1)"
   ]
  },
  {
   "cell_type": "markdown",
   "metadata": {},
   "source": [
    "Теперь признаки model и brand"
   ]
  },
  {
   "cell_type": "code",
   "execution_count": 73,
   "metadata": {},
   "outputs": [],
   "source": [
    "encoder = OrdinalEncoder(handle_unknown= 'use_encoded_value',unknown_value=300)\n",
    "encoder.fit(features_train[['model']])\n",
    "features_train['model'] = encoder.transform(features_train[['model']])\n",
    "features_valid['model'] = encoder.transform(features_valid[['model']])\n",
    "features_test['model'] = encoder.transform(features_test[['model']])"
   ]
  },
  {
   "cell_type": "code",
   "execution_count": 74,
   "metadata": {},
   "outputs": [],
   "source": [
    "encoder = OrdinalEncoder(handle_unknown= 'use_encoded_value',unknown_value=300)\n",
    "encoder.fit(features_train[['brand']])\n",
    "features_train['brand'] = encoder.transform(features_train[['brand']])\n",
    "features_valid['brand'] = encoder.transform(features_valid[['brand']])\n",
    "features_test['brand'] = encoder.transform(features_test[['brand']])"
   ]
  },
  {
   "cell_type": "markdown",
   "metadata": {},
   "source": [
    "Теперь промасштабируем признаки"
   ]
  },
  {
   "cell_type": "code",
   "execution_count": 75,
   "metadata": {},
   "outputs": [],
   "source": [
    "numeric = ['registration_year', 'power', 'kilometer']\n",
    "scaler = StandardScaler()\n",
    "scaler.fit(features_train[numeric])\n",
    "features_train[numeric] = scaler.transform(features_train[numeric])\n",
    "features_valid[numeric] = scaler.transform(features_valid[numeric])\n",
    "features_test[numeric] = scaler.transform(features_test[numeric])"
   ]
  },
  {
   "cell_type": "markdown",
   "metadata": {},
   "source": [
    "## Обучение моделей"
   ]
  },
  {
   "cell_type": "markdown",
   "metadata": {},
   "source": [
    "Напишем функцию вычисления RMSE"
   ]
  },
  {
   "cell_type": "code",
   "execution_count": 76,
   "metadata": {},
   "outputs": [],
   "source": [
    "def RMSE(target,predictions):\n",
    "    MSE = mean_squared_error(target, predictions)\n",
    "    return MSE ** 0.5\n",
    "RMSE_score = make_scorer(RMSE, greater_is_better=False)"
   ]
  },
  {
   "cell_type": "code",
   "execution_count": 77,
   "metadata": {},
   "outputs": [],
   "source": [
    "model_list=[]"
   ]
  },
  {
   "cell_type": "code",
   "execution_count": 78,
   "metadata": {},
   "outputs": [],
   "source": [
    "def best_model(model, params, features_train, target_train, features_valid, target_valid):\n",
    "    start_time = time.time()\n",
    "    model_name = GridSearchCV(model, param_grid = params, cv=5,\n",
    "                                            scoring = RMSE_score, n_jobs=-1)\n",
    "    model_name.fit(features_train,target_train)\n",
    "    first_time = time.time() - start_time\n",
    "    start_time = time.time()\n",
    "    predict = model_name.predict(features_valid)\n",
    "    second_time = time.time() - start_time\n",
    "    model_list.append(model_name)\n",
    "    n = len(model_list)\n",
    "    return first_time, second_time, RMSE(target_valid, predict),n"
   ]
  },
  {
   "cell_type": "markdown",
   "metadata": {},
   "source": [
    "Модель линейной регресии с регуляризацией"
   ]
  },
  {
   "cell_type": "code",
   "execution_count": 79,
   "metadata": {},
   "outputs": [],
   "source": [
    "ridge = Ridge()\n",
    "ridge_param = {'alpha': np.logspace(-4, 4, 20)}"
   ]
  },
  {
   "cell_type": "code",
   "execution_count": 80,
   "metadata": {},
   "outputs": [],
   "source": [
    "ridge_model = best_model(ridge, ridge_param, features_train, train_target, features_valid, valid_target)"
   ]
  },
  {
   "cell_type": "code",
   "execution_count": 81,
   "metadata": {},
   "outputs": [
    {
     "data": {
      "text/plain": [
       "(9.785699367523193, 0.009490489959716797, 13347.10415116156, 1)"
      ]
     },
     "execution_count": 81,
     "metadata": {},
     "output_type": "execute_result"
    }
   ],
   "source": [
    "ridge_model"
   ]
  },
  {
   "cell_type": "markdown",
   "metadata": {},
   "source": [
    "Время обучения- 20 секунд, время предсказания- 0.0083, метрика- 11806.73599709747. "
   ]
  },
  {
   "cell_type": "markdown",
   "metadata": {},
   "source": [
    "Модель LGBM"
   ]
  },
  {
   "cell_type": "code",
   "execution_count": 82,
   "metadata": {},
   "outputs": [],
   "source": [
    "lgbm_params = {\n",
    "    'n_estimators': [10,50,100],\n",
    "    'max_depth': [15,30],\n",
    "    'num_leaves': [10,20,31],\n",
    "    'learning_rate': [0.1]\n",
    "}\n",
    "lgbm_reg_model = LGBMRegressor(random_state=2023)"
   ]
  },
  {
   "cell_type": "code",
   "execution_count": 83,
   "metadata": {},
   "outputs": [
    {
     "name": "stdout",
     "output_type": "stream",
     "text": [
      "[LightGBM] [Warning] Accuracy may be bad since you didn't explicitly set num_leaves OR 2^max_depth > num_leaves. (num_leaves=31).\n",
      "[LightGBM] [Warning] Accuracy may be bad since you didn't explicitly set num_leaves OR 2^max_depth > num_leaves. (num_leaves=31).\n",
      "[LightGBM] [Warning] Auto-choosing row-wise multi-threading, the overhead of testing was 0.003636 seconds.\n",
      "You can set `force_row_wise=true` to remove the overhead.\n",
      "And if memory is not enough, you can set `force_col_wise=true`.\n",
      "[LightGBM] [Info] Total Bins 636\n",
      "[LightGBM] [Info] Number of data points in the train set: 84623, number of used features: 21\n",
      "[LightGBM] [Info] Start training from score 4688.108434\n",
      "[LightGBM] [Warning] Accuracy may be bad since you didn't explicitly set num_leaves OR 2^max_depth > num_leaves. (num_leaves=31).\n"
     ]
    }
   ],
   "source": [
    "lgbm_model = best_model(lgbm_reg_model, lgbm_params, features_train, train_target, features_valid, valid_target )"
   ]
  },
  {
   "cell_type": "code",
   "execution_count": 84,
   "metadata": {},
   "outputs": [
    {
     "data": {
      "text/plain": [
       "(29.192648887634277, 0.08922171592712402, 2081.5628646243717, 2)"
      ]
     },
     "execution_count": 84,
     "metadata": {},
     "output_type": "execute_result"
    }
   ],
   "source": [
    "lgbm_model"
   ]
  },
  {
   "cell_type": "code",
   "execution_count": 85,
   "metadata": {},
   "outputs": [],
   "source": [
    "cat_param = { 'learning_rate': [0.1],\n",
    "    'iterations': [10,50,100],\n",
    "    'max_depth': [10,20]}\n",
    "cat_model = CatBoostRegressor(random_state=2023)"
   ]
  },
  {
   "cell_type": "code",
   "execution_count": 86,
   "metadata": {},
   "outputs": [
    {
     "name": "stdout",
     "output_type": "stream",
     "text": [
      "0:\tlearn: 4279.4194248\ttotal: 198ms\tremaining: 19.6s\n",
      "1:\tlearn: 3999.2709375\ttotal: 223ms\tremaining: 10.9s\n",
      "2:\tlearn: 3748.4292250\ttotal: 244ms\tremaining: 7.88s\n",
      "3:\tlearn: 3527.2914624\ttotal: 262ms\tremaining: 6.3s\n",
      "4:\tlearn: 3334.5578544\ttotal: 285ms\tremaining: 5.42s\n",
      "5:\tlearn: 3163.9277756\ttotal: 308ms\tremaining: 4.82s\n",
      "6:\tlearn: 3009.3726636\ttotal: 330ms\tremaining: 4.39s\n",
      "7:\tlearn: 2874.8207716\ttotal: 353ms\tremaining: 4.07s\n",
      "8:\tlearn: 2757.1407077\ttotal: 376ms\tremaining: 3.8s\n",
      "9:\tlearn: 2658.9654704\ttotal: 398ms\tremaining: 3.58s\n",
      "10:\tlearn: 2565.9905768\ttotal: 424ms\tremaining: 3.43s\n",
      "11:\tlearn: 2487.9024181\ttotal: 449ms\tremaining: 3.3s\n",
      "12:\tlearn: 2415.5652594\ttotal: 472ms\tremaining: 3.16s\n",
      "13:\tlearn: 2353.8888444\ttotal: 496ms\tremaining: 3.04s\n",
      "14:\tlearn: 2298.6791798\ttotal: 520ms\tremaining: 2.95s\n",
      "15:\tlearn: 2246.2733307\ttotal: 543ms\tremaining: 2.85s\n",
      "16:\tlearn: 2204.8785033\ttotal: 567ms\tremaining: 2.77s\n",
      "17:\tlearn: 2167.0835475\ttotal: 592ms\tremaining: 2.7s\n",
      "18:\tlearn: 2135.1746493\ttotal: 617ms\tremaining: 2.63s\n",
      "19:\tlearn: 2100.0509689\ttotal: 642ms\tremaining: 2.57s\n",
      "20:\tlearn: 2073.7285185\ttotal: 666ms\tremaining: 2.51s\n",
      "21:\tlearn: 2047.6806886\ttotal: 690ms\tremaining: 2.45s\n",
      "22:\tlearn: 2023.4174618\ttotal: 714ms\tremaining: 2.39s\n",
      "23:\tlearn: 2005.1433352\ttotal: 738ms\tremaining: 2.34s\n",
      "24:\tlearn: 1986.1118867\ttotal: 763ms\tremaining: 2.29s\n",
      "25:\tlearn: 1966.7181974\ttotal: 787ms\tremaining: 2.24s\n",
      "26:\tlearn: 1952.0829867\ttotal: 811ms\tremaining: 2.19s\n",
      "27:\tlearn: 1934.9069734\ttotal: 835ms\tremaining: 2.15s\n",
      "28:\tlearn: 1922.9721486\ttotal: 860ms\tremaining: 2.1s\n",
      "29:\tlearn: 1910.9119520\ttotal: 886ms\tremaining: 2.07s\n",
      "30:\tlearn: 1899.6464309\ttotal: 910ms\tremaining: 2.02s\n",
      "31:\tlearn: 1888.8104521\ttotal: 935ms\tremaining: 1.99s\n",
      "32:\tlearn: 1876.6267609\ttotal: 959ms\tremaining: 1.95s\n",
      "33:\tlearn: 1867.9164882\ttotal: 984ms\tremaining: 1.91s\n",
      "34:\tlearn: 1858.4352069\ttotal: 1.01s\tremaining: 1.87s\n",
      "35:\tlearn: 1851.2736442\ttotal: 1.03s\tremaining: 1.83s\n",
      "36:\tlearn: 1844.4891286\ttotal: 1.06s\tremaining: 1.8s\n",
      "37:\tlearn: 1838.7552336\ttotal: 1.08s\tremaining: 1.77s\n",
      "38:\tlearn: 1833.2376025\ttotal: 1.11s\tremaining: 1.73s\n",
      "39:\tlearn: 1828.0109896\ttotal: 1.14s\tremaining: 1.71s\n",
      "40:\tlearn: 1822.5834171\ttotal: 1.17s\tremaining: 1.68s\n",
      "41:\tlearn: 1816.2999732\ttotal: 1.2s\tremaining: 1.65s\n",
      "42:\tlearn: 1811.0808807\ttotal: 1.23s\tremaining: 1.63s\n",
      "43:\tlearn: 1805.1606509\ttotal: 1.25s\tremaining: 1.6s\n",
      "44:\tlearn: 1799.9625451\ttotal: 1.28s\tremaining: 1.57s\n",
      "45:\tlearn: 1795.1504132\ttotal: 1.31s\tremaining: 1.54s\n",
      "46:\tlearn: 1790.3571706\ttotal: 1.34s\tremaining: 1.51s\n",
      "47:\tlearn: 1785.0449822\ttotal: 1.37s\tremaining: 1.48s\n",
      "48:\tlearn: 1779.7026441\ttotal: 1.4s\tremaining: 1.46s\n",
      "49:\tlearn: 1775.2543557\ttotal: 1.43s\tremaining: 1.43s\n",
      "50:\tlearn: 1771.5822870\ttotal: 1.46s\tremaining: 1.4s\n",
      "51:\tlearn: 1768.0004146\ttotal: 1.49s\tremaining: 1.37s\n",
      "52:\tlearn: 1762.3496844\ttotal: 1.52s\tremaining: 1.35s\n",
      "53:\tlearn: 1758.8856716\ttotal: 1.55s\tremaining: 1.32s\n",
      "54:\tlearn: 1755.5409673\ttotal: 1.58s\tremaining: 1.29s\n",
      "55:\tlearn: 1753.1343096\ttotal: 1.61s\tremaining: 1.26s\n",
      "56:\tlearn: 1750.2218384\ttotal: 1.64s\tremaining: 1.24s\n",
      "57:\tlearn: 1745.9653653\ttotal: 1.67s\tremaining: 1.21s\n",
      "58:\tlearn: 1743.1550226\ttotal: 1.7s\tremaining: 1.18s\n",
      "59:\tlearn: 1741.2757675\ttotal: 1.73s\tremaining: 1.15s\n",
      "60:\tlearn: 1738.3068742\ttotal: 1.76s\tremaining: 1.13s\n",
      "61:\tlearn: 1735.9402277\ttotal: 1.79s\tremaining: 1.1s\n",
      "62:\tlearn: 1732.3633743\ttotal: 1.82s\tremaining: 1.07s\n",
      "63:\tlearn: 1729.0646827\ttotal: 1.85s\tremaining: 1.04s\n",
      "64:\tlearn: 1725.8544161\ttotal: 1.88s\tremaining: 1.01s\n",
      "65:\tlearn: 1723.3066445\ttotal: 1.91s\tremaining: 985ms\n",
      "66:\tlearn: 1721.3769174\ttotal: 1.94s\tremaining: 956ms\n",
      "67:\tlearn: 1718.7969190\ttotal: 1.97s\tremaining: 927ms\n",
      "68:\tlearn: 1716.5365130\ttotal: 2s\tremaining: 899ms\n",
      "69:\tlearn: 1713.6296038\ttotal: 2.03s\tremaining: 870ms\n",
      "70:\tlearn: 1711.2521388\ttotal: 2.06s\tremaining: 840ms\n",
      "71:\tlearn: 1709.1145903\ttotal: 2.09s\tremaining: 812ms\n",
      "72:\tlearn: 1706.9409973\ttotal: 2.12s\tremaining: 783ms\n",
      "73:\tlearn: 1704.1241324\ttotal: 2.15s\tremaining: 754ms\n",
      "74:\tlearn: 1702.1363754\ttotal: 2.18s\tremaining: 725ms\n",
      "75:\tlearn: 1699.8544159\ttotal: 2.21s\tremaining: 698ms\n",
      "76:\tlearn: 1696.5204879\ttotal: 2.24s\tremaining: 669ms\n",
      "77:\tlearn: 1693.9966176\ttotal: 2.27s\tremaining: 640ms\n",
      "78:\tlearn: 1691.7472915\ttotal: 2.3s\tremaining: 611ms\n",
      "79:\tlearn: 1689.7713342\ttotal: 2.33s\tremaining: 582ms\n",
      "80:\tlearn: 1687.7437717\ttotal: 2.36s\tremaining: 553ms\n",
      "81:\tlearn: 1685.7713739\ttotal: 2.38s\tremaining: 524ms\n",
      "82:\tlearn: 1684.5633850\ttotal: 2.41s\tremaining: 495ms\n",
      "83:\tlearn: 1681.6358321\ttotal: 2.44s\tremaining: 465ms\n",
      "84:\tlearn: 1680.1724532\ttotal: 2.47s\tremaining: 436ms\n",
      "85:\tlearn: 1677.7967125\ttotal: 2.5s\tremaining: 407ms\n",
      "86:\tlearn: 1676.0953507\ttotal: 2.53s\tremaining: 379ms\n",
      "87:\tlearn: 1674.1130157\ttotal: 2.56s\tremaining: 349ms\n",
      "88:\tlearn: 1672.5139900\ttotal: 2.59s\tremaining: 320ms\n",
      "89:\tlearn: 1671.3014990\ttotal: 2.62s\tremaining: 291ms\n",
      "90:\tlearn: 1670.1489097\ttotal: 2.65s\tremaining: 262ms\n",
      "91:\tlearn: 1668.5078843\ttotal: 2.68s\tremaining: 233ms\n",
      "92:\tlearn: 1666.6153529\ttotal: 2.71s\tremaining: 204ms\n",
      "93:\tlearn: 1665.2287559\ttotal: 2.73s\tremaining: 175ms\n",
      "94:\tlearn: 1663.6845784\ttotal: 2.77s\tremaining: 146ms\n",
      "95:\tlearn: 1662.1650521\ttotal: 2.79s\tremaining: 116ms\n",
      "96:\tlearn: 1660.1983732\ttotal: 2.83s\tremaining: 87.4ms\n",
      "97:\tlearn: 1659.1055665\ttotal: 2.86s\tremaining: 58.4ms\n",
      "98:\tlearn: 1657.3645629\ttotal: 2.89s\tremaining: 29.2ms\n",
      "99:\tlearn: 1655.9775542\ttotal: 2.93s\tremaining: 0us\n"
     ]
    }
   ],
   "source": [
    "cat_model = best_model(cat_model, cat_param, features_train, train_target, features_valid, valid_target )"
   ]
  },
  {
   "cell_type": "code",
   "execution_count": 87,
   "metadata": {},
   "outputs": [
    {
     "data": {
      "text/plain": [
       "(19.6666841506958, 0.021389245986938477, 2164.2586335255546, 3)"
      ]
     },
     "execution_count": 87,
     "metadata": {},
     "output_type": "execute_result"
    }
   ],
   "source": [
    "cat_model"
   ]
  },
  {
   "cell_type": "code",
   "execution_count": 88,
   "metadata": {},
   "outputs": [],
   "source": [
    "constant_model = DummyRegressor(strategy='mean')\n"
   ]
  },
  {
   "cell_type": "code",
   "execution_count": 89,
   "metadata": {},
   "outputs": [
    {
     "data": {
      "text/plain": [
       "4521.626759865161"
      ]
     },
     "execution_count": 89,
     "metadata": {},
     "output_type": "execute_result"
    }
   ],
   "source": [
    "constant_model.fit(features_train,train_target)\n",
    "constant_pred = constant_model.predict(features_valid)\n",
    "RMSE(valid_target,constant_pred)"
   ]
  },
  {
   "cell_type": "markdown",
   "metadata": {},
   "source": [
    "## Анализ моделей"
   ]
  },
  {
   "cell_type": "code",
   "execution_count": 90,
   "metadata": {},
   "outputs": [],
   "source": [
    "model_table = pd.DataFrame([ridge_model, lgbm_model, cat_model], columns=['Время обучения', 'Время предсказания', 'RMSE','номер модели'], index=['Ridge','LGBM','CatBoost'])"
   ]
  },
  {
   "cell_type": "code",
   "execution_count": 91,
   "metadata": {},
   "outputs": [
    {
     "data": {
      "text/html": [
       "<div>\n",
       "<style scoped>\n",
       "    .dataframe tbody tr th:only-of-type {\n",
       "        vertical-align: middle;\n",
       "    }\n",
       "\n",
       "    .dataframe tbody tr th {\n",
       "        vertical-align: top;\n",
       "    }\n",
       "\n",
       "    .dataframe thead th {\n",
       "        text-align: right;\n",
       "    }\n",
       "</style>\n",
       "<table border=\"1\" class=\"dataframe\">\n",
       "  <thead>\n",
       "    <tr style=\"text-align: right;\">\n",
       "      <th></th>\n",
       "      <th>Время обучения</th>\n",
       "      <th>Время предсказания</th>\n",
       "      <th>RMSE</th>\n",
       "      <th>номер модели</th>\n",
       "    </tr>\n",
       "  </thead>\n",
       "  <tbody>\n",
       "    <tr>\n",
       "      <th>Ridge</th>\n",
       "      <td>9.785699</td>\n",
       "      <td>0.009490</td>\n",
       "      <td>13347.104151</td>\n",
       "      <td>1</td>\n",
       "    </tr>\n",
       "    <tr>\n",
       "      <th>LGBM</th>\n",
       "      <td>29.192649</td>\n",
       "      <td>0.089222</td>\n",
       "      <td>2081.562865</td>\n",
       "      <td>2</td>\n",
       "    </tr>\n",
       "    <tr>\n",
       "      <th>CatBoost</th>\n",
       "      <td>19.666684</td>\n",
       "      <td>0.021389</td>\n",
       "      <td>2164.258634</td>\n",
       "      <td>3</td>\n",
       "    </tr>\n",
       "  </tbody>\n",
       "</table>\n",
       "</div>"
      ],
      "text/plain": [
       "          Время обучения  Время предсказания          RMSE  номер модели\n",
       "Ridge           9.785699            0.009490  13347.104151             1\n",
       "LGBM           29.192649            0.089222   2081.562865             2\n",
       "CatBoost       19.666684            0.021389   2164.258634             3"
      ]
     },
     "execution_count": 91,
     "metadata": {},
     "output_type": "execute_result"
    }
   ],
   "source": [
    "model_table"
   ]
  },
  {
   "cell_type": "markdown",
   "metadata": {},
   "source": [
    "## Тестирование лучшей модели"
   ]
  },
  {
   "cell_type": "markdown",
   "metadata": {},
   "source": [
    "Были проверены 3 модели: линейная регрессия, Модель LGBM, catboost. По результатам метрики RMSE лучше всего сея показали модели LGBM и catboost. В обоих случаях метрика ниже 2500. Но Так как в условиях было подобрать модель с наименьшим временем обучения и предсказания, делаем выбор в пользу catboost. Проверка случайно моделью показала, что предсказания адекватны. ПРоверим итоговую модель на тестовой выборке"
   ]
  },
  {
   "cell_type": "code",
   "execution_count": 92,
   "metadata": {},
   "outputs": [],
   "source": [
    "end_predict = model_list[2].predict(features_test)"
   ]
  },
  {
   "cell_type": "code",
   "execution_count": 93,
   "metadata": {},
   "outputs": [
    {
     "data": {
      "text/plain": [
       "2190.215521783534"
      ]
     },
     "execution_count": 93,
     "metadata": {},
     "output_type": "execute_result"
    }
   ],
   "source": [
    "RMSE (test_target, end_predict)"
   ]
  },
  {
   "cell_type": "markdown",
   "metadata": {},
   "source": [
    "Модель выбора- catboost"
   ]
  }
 ],
 "metadata": {
  "ExecuteTimeLog": [
   {
    "duration": 2439,
    "start_time": "2023-04-13T09:17:03.541Z"
   },
   {
    "duration": 1063,
    "start_time": "2023-04-13T09:17:08.652Z"
   },
   {
    "duration": 1134,
    "start_time": "2023-04-13T09:17:43.116Z"
   },
   {
    "duration": 27,
    "start_time": "2023-04-13T09:17:51.812Z"
   },
   {
    "duration": 12,
    "start_time": "2023-04-13T09:18:04.925Z"
   },
   {
    "duration": 116,
    "start_time": "2023-04-13T09:18:26.922Z"
   },
   {
    "duration": 1439,
    "start_time": "2023-04-13T09:26:26.425Z"
   },
   {
    "duration": 1072,
    "start_time": "2023-04-13T09:26:34.568Z"
   },
   {
    "duration": 3332,
    "start_time": "2023-04-14T07:08:39.213Z"
   },
   {
    "duration": 1491,
    "start_time": "2023-04-14T07:08:42.547Z"
   },
   {
    "duration": 4116,
    "start_time": "2023-04-14T07:08:44.039Z"
   },
   {
    "duration": 21,
    "start_time": "2023-04-14T07:08:48.157Z"
   },
   {
    "duration": 188,
    "start_time": "2023-04-14T07:08:48.180Z"
   },
   {
    "duration": 27,
    "start_time": "2023-04-14T07:08:57.654Z"
   },
   {
    "duration": 121,
    "start_time": "2023-04-14T07:09:14.812Z"
   },
   {
    "duration": 1275,
    "start_time": "2023-04-14T07:10:18.902Z"
   },
   {
    "duration": 3,
    "start_time": "2023-04-14T07:10:36.949Z"
   },
   {
    "duration": 993,
    "start_time": "2023-04-14T07:10:46.003Z"
   },
   {
    "duration": 7,
    "start_time": "2023-04-14T07:14:46.327Z"
   },
   {
    "duration": 20,
    "start_time": "2023-04-14T07:16:17.025Z"
   },
   {
    "duration": 43,
    "start_time": "2023-04-14T07:20:27.855Z"
   },
   {
    "duration": 113,
    "start_time": "2023-04-14T07:20:38.586Z"
   },
   {
    "duration": 34,
    "start_time": "2023-04-14T07:26:24.488Z"
   },
   {
    "duration": 11,
    "start_time": "2023-04-14T07:30:28.011Z"
   },
   {
    "duration": 9,
    "start_time": "2023-04-14T07:30:33.740Z"
   },
   {
    "duration": 8,
    "start_time": "2023-04-14T07:30:40.049Z"
   },
   {
    "duration": 9,
    "start_time": "2023-04-14T07:30:44.840Z"
   },
   {
    "duration": 24,
    "start_time": "2023-04-14T07:30:49.585Z"
   },
   {
    "duration": 137,
    "start_time": "2023-04-14T07:33:04.435Z"
   },
   {
    "duration": 16,
    "start_time": "2023-04-14T07:33:19.383Z"
   },
   {
    "duration": 97,
    "start_time": "2023-04-14T07:35:13.150Z"
   },
   {
    "duration": 12,
    "start_time": "2023-04-14T07:41:28.081Z"
   },
   {
    "duration": 25,
    "start_time": "2023-04-14T07:41:37.781Z"
   },
   {
    "duration": 116,
    "start_time": "2023-04-14T07:42:48.811Z"
   },
   {
    "duration": 236,
    "start_time": "2023-04-14T07:43:28.709Z"
   },
   {
    "duration": 37,
    "start_time": "2023-04-14T07:43:49.405Z"
   },
   {
    "duration": 2837,
    "start_time": "2023-04-14T16:47:34.421Z"
   },
   {
    "duration": 1743,
    "start_time": "2023-04-14T16:47:37.261Z"
   },
   {
    "duration": 1404,
    "start_time": "2023-04-14T16:47:39.006Z"
   },
   {
    "duration": 26,
    "start_time": "2023-04-14T16:47:40.414Z"
   },
   {
    "duration": 174,
    "start_time": "2023-04-14T16:47:40.442Z"
   },
   {
    "duration": 28,
    "start_time": "2023-04-14T16:47:40.621Z"
   },
   {
    "duration": 104,
    "start_time": "2023-04-14T16:47:40.651Z"
   },
   {
    "duration": 893,
    "start_time": "2023-04-14T16:47:40.758Z"
   },
   {
    "duration": 10,
    "start_time": "2023-04-14T16:47:41.654Z"
   },
   {
    "duration": 55,
    "start_time": "2023-04-14T16:47:41.666Z"
   },
   {
    "duration": 21,
    "start_time": "2023-04-14T16:47:41.724Z"
   },
   {
    "duration": 33,
    "start_time": "2023-04-14T16:47:49.926Z"
   },
   {
    "duration": 12,
    "start_time": "2023-04-14T16:48:19.050Z"
   },
   {
    "duration": 25,
    "start_time": "2023-04-14T16:48:21.140Z"
   },
   {
    "duration": 19,
    "start_time": "2023-04-14T16:49:55.340Z"
   },
   {
    "duration": 180,
    "start_time": "2023-04-14T16:51:30.910Z"
   },
   {
    "duration": 22,
    "start_time": "2023-04-14T16:55:05.232Z"
   },
   {
    "duration": 21,
    "start_time": "2023-04-14T16:55:22.220Z"
   },
   {
    "duration": 29,
    "start_time": "2023-04-14T16:57:16.311Z"
   },
   {
    "duration": 44,
    "start_time": "2023-04-14T17:00:05.088Z"
   },
   {
    "duration": 23,
    "start_time": "2023-04-14T17:04:56.053Z"
   },
   {
    "duration": 26,
    "start_time": "2023-04-14T17:06:19.816Z"
   },
   {
    "duration": 23,
    "start_time": "2023-04-14T17:06:52.720Z"
   },
   {
    "duration": 43,
    "start_time": "2023-04-14T17:08:33.650Z"
   },
   {
    "duration": 98,
    "start_time": "2023-04-14T17:08:35.153Z"
   },
   {
    "duration": 11,
    "start_time": "2023-04-14T17:09:17.023Z"
   },
   {
    "duration": 136,
    "start_time": "2023-04-14T17:12:36.068Z"
   },
   {
    "duration": 32,
    "start_time": "2023-04-14T17:12:43.143Z"
   },
   {
    "duration": 34,
    "start_time": "2023-04-14T17:17:51.521Z"
   },
   {
    "duration": 39,
    "start_time": "2023-04-14T17:18:15.282Z"
   },
   {
    "duration": 33,
    "start_time": "2023-04-14T17:18:27.162Z"
   },
   {
    "duration": 24,
    "start_time": "2023-04-14T17:19:12.162Z"
   },
   {
    "duration": 5,
    "start_time": "2023-04-14T18:16:25.758Z"
   },
   {
    "duration": 4,
    "start_time": "2023-04-14T18:17:44.593Z"
   },
   {
    "duration": 20,
    "start_time": "2023-04-14T18:17:45.567Z"
   },
   {
    "duration": 4,
    "start_time": "2023-04-14T18:19:18.640Z"
   },
   {
    "duration": 933,
    "start_time": "2023-04-14T18:19:20.501Z"
   },
   {
    "duration": 2153,
    "start_time": "2023-04-14T18:20:14.655Z"
   },
   {
    "duration": 1409,
    "start_time": "2023-04-14T18:20:16.811Z"
   },
   {
    "duration": 880,
    "start_time": "2023-04-14T18:20:18.222Z"
   },
   {
    "duration": 16,
    "start_time": "2023-04-14T18:20:19.104Z"
   },
   {
    "duration": 136,
    "start_time": "2023-04-14T18:20:19.123Z"
   },
   {
    "duration": 36,
    "start_time": "2023-04-14T18:20:19.260Z"
   },
   {
    "duration": 98,
    "start_time": "2023-04-14T18:20:19.298Z"
   },
   {
    "duration": 4,
    "start_time": "2023-04-14T18:20:19.398Z"
   },
   {
    "duration": 40,
    "start_time": "2023-04-14T18:20:19.403Z"
   },
   {
    "duration": 24,
    "start_time": "2023-04-14T18:20:19.445Z"
   },
   {
    "duration": 856,
    "start_time": "2023-04-14T18:20:19.471Z"
   },
   {
    "duration": 853,
    "start_time": "2023-04-14T18:20:20.329Z"
   },
   {
    "duration": 0,
    "start_time": "2023-04-14T18:20:21.184Z"
   },
   {
    "duration": 0,
    "start_time": "2023-04-14T18:20:21.186Z"
   },
   {
    "duration": 0,
    "start_time": "2023-04-14T18:20:21.187Z"
   },
   {
    "duration": 0,
    "start_time": "2023-04-14T18:20:21.188Z"
   },
   {
    "duration": 0,
    "start_time": "2023-04-14T18:20:21.189Z"
   },
   {
    "duration": 0,
    "start_time": "2023-04-14T18:20:21.191Z"
   },
   {
    "duration": 0,
    "start_time": "2023-04-14T18:20:21.191Z"
   },
   {
    "duration": 0,
    "start_time": "2023-04-14T18:20:21.193Z"
   },
   {
    "duration": 0,
    "start_time": "2023-04-14T18:20:21.194Z"
   },
   {
    "duration": 0,
    "start_time": "2023-04-14T18:20:21.195Z"
   },
   {
    "duration": 0,
    "start_time": "2023-04-14T18:20:21.196Z"
   },
   {
    "duration": 0,
    "start_time": "2023-04-14T18:20:21.197Z"
   },
   {
    "duration": 0,
    "start_time": "2023-04-14T18:20:21.198Z"
   },
   {
    "duration": 0,
    "start_time": "2023-04-14T18:20:21.200Z"
   },
   {
    "duration": 80,
    "start_time": "2023-04-14T18:21:12.354Z"
   },
   {
    "duration": 9,
    "start_time": "2023-04-14T18:21:33.102Z"
   },
   {
    "duration": 5,
    "start_time": "2023-04-14T18:24:02.842Z"
   },
   {
    "duration": 882,
    "start_time": "2023-04-14T18:24:07.039Z"
   },
   {
    "duration": 87,
    "start_time": "2023-04-14T18:24:07.923Z"
   },
   {
    "duration": 7,
    "start_time": "2023-04-14T18:24:08.240Z"
   },
   {
    "duration": 30,
    "start_time": "2023-04-14T18:24:10.470Z"
   },
   {
    "duration": 19,
    "start_time": "2023-04-14T18:24:11.542Z"
   },
   {
    "duration": 12,
    "start_time": "2023-04-14T18:24:11.985Z"
   },
   {
    "duration": 20,
    "start_time": "2023-04-14T18:24:12.377Z"
   },
   {
    "duration": 148,
    "start_time": "2023-04-14T18:24:12.566Z"
   },
   {
    "duration": 21,
    "start_time": "2023-04-14T18:24:12.749Z"
   },
   {
    "duration": 21,
    "start_time": "2023-04-14T18:24:13.094Z"
   },
   {
    "duration": 19,
    "start_time": "2023-04-14T18:24:13.285Z"
   },
   {
    "duration": 22,
    "start_time": "2023-04-14T18:24:13.607Z"
   },
   {
    "duration": 37,
    "start_time": "2023-04-14T18:24:13.925Z"
   },
   {
    "duration": 82,
    "start_time": "2023-04-14T18:24:14.083Z"
   },
   {
    "duration": 8,
    "start_time": "2023-04-14T18:24:26.367Z"
   },
   {
    "duration": 33,
    "start_time": "2023-04-14T18:24:28.152Z"
   },
   {
    "duration": 23,
    "start_time": "2023-04-14T18:25:00.313Z"
   },
   {
    "duration": 2151,
    "start_time": "2023-04-14T18:25:07.879Z"
   },
   {
    "duration": 1400,
    "start_time": "2023-04-14T18:25:10.033Z"
   },
   {
    "duration": 897,
    "start_time": "2023-04-14T18:25:11.435Z"
   },
   {
    "duration": 19,
    "start_time": "2023-04-14T18:25:12.334Z"
   },
   {
    "duration": 138,
    "start_time": "2023-04-14T18:25:12.355Z"
   },
   {
    "duration": 29,
    "start_time": "2023-04-14T18:25:12.495Z"
   },
   {
    "duration": 105,
    "start_time": "2023-04-14T18:25:12.527Z"
   },
   {
    "duration": 3,
    "start_time": "2023-04-14T18:25:12.635Z"
   },
   {
    "duration": 30,
    "start_time": "2023-04-14T18:25:12.639Z"
   },
   {
    "duration": 17,
    "start_time": "2023-04-14T18:25:12.672Z"
   },
   {
    "duration": 881,
    "start_time": "2023-04-14T18:25:12.690Z"
   },
   {
    "duration": 82,
    "start_time": "2023-04-14T18:25:13.573Z"
   },
   {
    "duration": 6,
    "start_time": "2023-04-14T18:25:13.657Z"
   },
   {
    "duration": 41,
    "start_time": "2023-04-14T18:25:13.665Z"
   },
   {
    "duration": 21,
    "start_time": "2023-04-14T18:25:13.708Z"
   },
   {
    "duration": 19,
    "start_time": "2023-04-14T18:25:13.731Z"
   },
   {
    "duration": 44,
    "start_time": "2023-04-14T18:25:13.752Z"
   },
   {
    "duration": 169,
    "start_time": "2023-04-14T18:25:13.798Z"
   },
   {
    "duration": 28,
    "start_time": "2023-04-14T18:25:13.969Z"
   },
   {
    "duration": 21,
    "start_time": "2023-04-14T18:25:13.999Z"
   },
   {
    "duration": 20,
    "start_time": "2023-04-14T18:25:14.021Z"
   },
   {
    "duration": 53,
    "start_time": "2023-04-14T18:25:14.042Z"
   },
   {
    "duration": 35,
    "start_time": "2023-04-14T18:25:14.097Z"
   },
   {
    "duration": 103,
    "start_time": "2023-04-14T18:25:14.134Z"
   },
   {
    "duration": 7,
    "start_time": "2023-04-14T18:25:14.239Z"
   },
   {
    "duration": 48,
    "start_time": "2023-04-14T18:25:14.248Z"
   },
   {
    "duration": 147,
    "start_time": "2023-04-14T18:25:14.298Z"
   },
   {
    "duration": 50,
    "start_time": "2023-04-14T22:15:34.699Z"
   },
   {
    "duration": 2201,
    "start_time": "2023-04-14T22:15:41.983Z"
   },
   {
    "duration": 1463,
    "start_time": "2023-04-14T22:15:44.186Z"
   },
   {
    "duration": 1090,
    "start_time": "2023-04-14T22:15:45.651Z"
   },
   {
    "duration": 16,
    "start_time": "2023-04-14T22:15:46.743Z"
   },
   {
    "duration": 119,
    "start_time": "2023-04-14T22:15:46.762Z"
   },
   {
    "duration": 26,
    "start_time": "2023-04-14T22:15:46.883Z"
   },
   {
    "duration": 85,
    "start_time": "2023-04-14T22:15:46.911Z"
   },
   {
    "duration": 2,
    "start_time": "2023-04-14T22:15:46.998Z"
   },
   {
    "duration": 23,
    "start_time": "2023-04-14T22:15:47.002Z"
   },
   {
    "duration": 8,
    "start_time": "2023-04-14T22:15:47.027Z"
   },
   {
    "duration": 771,
    "start_time": "2023-04-14T22:15:47.037Z"
   },
   {
    "duration": 78,
    "start_time": "2023-04-14T22:15:47.809Z"
   },
   {
    "duration": 5,
    "start_time": "2023-04-14T22:15:47.889Z"
   },
   {
    "duration": 31,
    "start_time": "2023-04-14T22:15:47.897Z"
   },
   {
    "duration": 32,
    "start_time": "2023-04-14T22:15:47.930Z"
   },
   {
    "duration": 13,
    "start_time": "2023-04-14T22:15:47.964Z"
   },
   {
    "duration": 18,
    "start_time": "2023-04-14T22:15:47.979Z"
   },
   {
    "duration": 171,
    "start_time": "2023-04-14T22:15:47.998Z"
   },
   {
    "duration": 18,
    "start_time": "2023-04-14T22:15:48.171Z"
   },
   {
    "duration": 21,
    "start_time": "2023-04-14T22:15:48.190Z"
   },
   {
    "duration": 21,
    "start_time": "2023-04-14T22:15:48.213Z"
   },
   {
    "duration": 22,
    "start_time": "2023-04-14T22:15:48.256Z"
   },
   {
    "duration": 36,
    "start_time": "2023-04-14T22:15:48.280Z"
   },
   {
    "duration": 96,
    "start_time": "2023-04-14T22:15:48.318Z"
   },
   {
    "duration": 7,
    "start_time": "2023-04-14T22:15:48.415Z"
   },
   {
    "duration": 52,
    "start_time": "2023-04-14T22:15:48.423Z"
   },
   {
    "duration": 25,
    "start_time": "2023-04-14T22:15:48.476Z"
   },
   {
    "duration": 2569,
    "start_time": "2023-04-15T06:20:43.806Z"
   },
   {
    "duration": 1535,
    "start_time": "2023-04-15T06:20:46.377Z"
   },
   {
    "duration": 2967,
    "start_time": "2023-04-15T06:20:47.914Z"
   },
   {
    "duration": 17,
    "start_time": "2023-04-15T06:20:50.883Z"
   },
   {
    "duration": 133,
    "start_time": "2023-04-15T06:20:50.903Z"
   },
   {
    "duration": 24,
    "start_time": "2023-04-15T06:20:51.038Z"
   },
   {
    "duration": 132,
    "start_time": "2023-04-15T06:20:51.064Z"
   },
   {
    "duration": 4,
    "start_time": "2023-04-15T06:20:51.199Z"
   },
   {
    "duration": 26,
    "start_time": "2023-04-15T06:20:51.204Z"
   },
   {
    "duration": 8,
    "start_time": "2023-04-15T06:20:51.232Z"
   },
   {
    "duration": 812,
    "start_time": "2023-04-15T06:20:51.242Z"
   },
   {
    "duration": 99,
    "start_time": "2023-04-15T06:20:52.056Z"
   },
   {
    "duration": 7,
    "start_time": "2023-04-15T06:20:52.157Z"
   },
   {
    "duration": 37,
    "start_time": "2023-04-15T06:20:52.168Z"
   },
   {
    "duration": 18,
    "start_time": "2023-04-15T06:20:52.207Z"
   },
   {
    "duration": 11,
    "start_time": "2023-04-15T06:20:52.227Z"
   },
   {
    "duration": 18,
    "start_time": "2023-04-15T06:20:52.240Z"
   },
   {
    "duration": 177,
    "start_time": "2023-04-15T06:20:52.259Z"
   },
   {
    "duration": 18,
    "start_time": "2023-04-15T06:20:52.438Z"
   },
   {
    "duration": 34,
    "start_time": "2023-04-15T06:20:52.457Z"
   },
   {
    "duration": 18,
    "start_time": "2023-04-15T06:20:52.493Z"
   },
   {
    "duration": 204,
    "start_time": "2023-04-15T06:20:52.513Z"
   },
   {
    "duration": 76,
    "start_time": "2023-04-15T06:20:52.718Z"
   },
   {
    "duration": 91,
    "start_time": "2023-04-15T06:20:52.796Z"
   },
   {
    "duration": 10,
    "start_time": "2023-04-15T06:20:52.889Z"
   },
   {
    "duration": 34,
    "start_time": "2023-04-15T06:20:52.900Z"
   },
   {
    "duration": 24,
    "start_time": "2023-04-15T06:20:52.935Z"
   },
   {
    "duration": 19,
    "start_time": "2023-04-15T06:24:49.614Z"
   },
   {
    "duration": 2187,
    "start_time": "2023-04-15T12:13:16.140Z"
   },
   {
    "duration": 1561,
    "start_time": "2023-04-15T12:13:18.329Z"
   },
   {
    "duration": 1075,
    "start_time": "2023-04-15T12:13:19.892Z"
   },
   {
    "duration": 17,
    "start_time": "2023-04-15T12:13:20.969Z"
   },
   {
    "duration": 137,
    "start_time": "2023-04-15T12:13:20.988Z"
   },
   {
    "duration": 34,
    "start_time": "2023-04-15T12:13:21.126Z"
   },
   {
    "duration": 76,
    "start_time": "2023-04-15T12:13:21.162Z"
   },
   {
    "duration": 4,
    "start_time": "2023-04-15T12:13:21.240Z"
   },
   {
    "duration": 26,
    "start_time": "2023-04-15T12:13:21.256Z"
   },
   {
    "duration": 8,
    "start_time": "2023-04-15T12:13:21.284Z"
   },
   {
    "duration": 842,
    "start_time": "2023-04-15T12:13:21.294Z"
   },
   {
    "duration": 100,
    "start_time": "2023-04-15T12:13:22.139Z"
   },
   {
    "duration": 18,
    "start_time": "2023-04-15T12:13:22.241Z"
   },
   {
    "duration": 22,
    "start_time": "2023-04-15T12:13:22.261Z"
   },
   {
    "duration": 21,
    "start_time": "2023-04-15T12:13:22.284Z"
   },
   {
    "duration": 11,
    "start_time": "2023-04-15T12:13:22.306Z"
   },
   {
    "duration": 46,
    "start_time": "2023-04-15T12:13:22.319Z"
   },
   {
    "duration": 153,
    "start_time": "2023-04-15T12:13:22.367Z"
   },
   {
    "duration": 18,
    "start_time": "2023-04-15T12:13:22.522Z"
   },
   {
    "duration": 23,
    "start_time": "2023-04-15T12:13:22.556Z"
   },
   {
    "duration": 20,
    "start_time": "2023-04-15T12:13:22.581Z"
   },
   {
    "duration": 25,
    "start_time": "2023-04-15T12:13:22.603Z"
   },
   {
    "duration": 53,
    "start_time": "2023-04-15T12:13:22.630Z"
   },
   {
    "duration": 86,
    "start_time": "2023-04-15T12:13:22.685Z"
   },
   {
    "duration": 7,
    "start_time": "2023-04-15T12:13:22.773Z"
   },
   {
    "duration": 31,
    "start_time": "2023-04-15T12:13:22.781Z"
   },
   {
    "duration": 26,
    "start_time": "2023-04-15T12:13:28.678Z"
   },
   {
    "duration": 12,
    "start_time": "2023-04-15T12:18:10.114Z"
   },
   {
    "duration": 18,
    "start_time": "2023-04-15T12:18:26.544Z"
   },
   {
    "duration": 2219,
    "start_time": "2023-04-15T12:18:54.683Z"
   },
   {
    "duration": 1382,
    "start_time": "2023-04-15T12:18:56.905Z"
   },
   {
    "duration": 875,
    "start_time": "2023-04-15T12:18:58.288Z"
   },
   {
    "duration": 18,
    "start_time": "2023-04-15T12:18:59.165Z"
   },
   {
    "duration": 144,
    "start_time": "2023-04-15T12:18:59.185Z"
   },
   {
    "duration": 36,
    "start_time": "2023-04-15T12:18:59.330Z"
   },
   {
    "duration": 79,
    "start_time": "2023-04-15T12:18:59.368Z"
   },
   {
    "duration": 4,
    "start_time": "2023-04-15T12:18:59.456Z"
   },
   {
    "duration": 22,
    "start_time": "2023-04-15T12:18:59.461Z"
   },
   {
    "duration": 4,
    "start_time": "2023-04-15T12:18:59.485Z"
   },
   {
    "duration": 823,
    "start_time": "2023-04-15T12:18:59.491Z"
   },
   {
    "duration": 79,
    "start_time": "2023-04-15T12:19:00.316Z"
   },
   {
    "duration": 7,
    "start_time": "2023-04-15T12:19:00.396Z"
   },
   {
    "duration": 22,
    "start_time": "2023-04-15T12:19:00.406Z"
   },
   {
    "duration": 42,
    "start_time": "2023-04-15T12:19:00.430Z"
   },
   {
    "duration": 19,
    "start_time": "2023-04-15T12:19:00.473Z"
   },
   {
    "duration": 29,
    "start_time": "2023-04-15T12:19:00.494Z"
   },
   {
    "duration": 164,
    "start_time": "2023-04-15T12:19:00.524Z"
   },
   {
    "duration": 25,
    "start_time": "2023-04-15T12:19:00.690Z"
   },
   {
    "duration": 34,
    "start_time": "2023-04-15T12:19:00.716Z"
   },
   {
    "duration": 35,
    "start_time": "2023-04-15T12:19:00.752Z"
   },
   {
    "duration": 50,
    "start_time": "2023-04-15T12:19:00.788Z"
   },
   {
    "duration": 49,
    "start_time": "2023-04-15T12:19:00.840Z"
   },
   {
    "duration": 85,
    "start_time": "2023-04-15T12:19:00.891Z"
   },
   {
    "duration": 19,
    "start_time": "2023-04-15T12:19:00.978Z"
   },
   {
    "duration": 55,
    "start_time": "2023-04-15T12:19:00.999Z"
   },
   {
    "duration": 58,
    "start_time": "2023-04-15T12:19:01.056Z"
   },
   {
    "duration": 50,
    "start_time": "2023-04-15T12:19:01.116Z"
   },
   {
    "duration": 89,
    "start_time": "2023-04-15T12:19:01.168Z"
   },
   {
    "duration": 68,
    "start_time": "2023-04-15T12:19:01.260Z"
   },
   {
    "duration": 9,
    "start_time": "2023-04-15T12:20:13.901Z"
   },
   {
    "duration": 20,
    "start_time": "2023-04-15T12:29:05.602Z"
   },
   {
    "duration": 28,
    "start_time": "2023-04-15T12:32:00.509Z"
   },
   {
    "duration": 156,
    "start_time": "2023-04-15T12:32:28.462Z"
   },
   {
    "duration": 14,
    "start_time": "2023-04-15T12:33:19.371Z"
   },
   {
    "duration": 21,
    "start_time": "2023-04-15T12:33:39.152Z"
   },
   {
    "duration": 2169,
    "start_time": "2023-04-15T17:28:56.303Z"
   },
   {
    "duration": 1464,
    "start_time": "2023-04-15T17:28:58.474Z"
   },
   {
    "duration": 2873,
    "start_time": "2023-04-15T17:28:59.939Z"
   },
   {
    "duration": 19,
    "start_time": "2023-04-15T17:29:02.814Z"
   },
   {
    "duration": 137,
    "start_time": "2023-04-15T17:29:02.837Z"
   },
   {
    "duration": 27,
    "start_time": "2023-04-15T17:29:02.976Z"
   },
   {
    "duration": 125,
    "start_time": "2023-04-15T17:29:03.005Z"
   },
   {
    "duration": 3,
    "start_time": "2023-04-15T17:29:03.132Z"
   },
   {
    "duration": 36,
    "start_time": "2023-04-15T17:29:03.137Z"
   },
   {
    "duration": 9,
    "start_time": "2023-04-15T17:29:03.174Z"
   },
   {
    "duration": 782,
    "start_time": "2023-04-15T17:29:03.184Z"
   },
   {
    "duration": 83,
    "start_time": "2023-04-15T17:29:03.968Z"
   },
   {
    "duration": 22,
    "start_time": "2023-04-15T17:29:04.053Z"
   },
   {
    "duration": 18,
    "start_time": "2023-04-15T17:29:04.078Z"
   },
   {
    "duration": 18,
    "start_time": "2023-04-15T17:29:04.098Z"
   },
   {
    "duration": 9,
    "start_time": "2023-04-15T17:29:04.118Z"
   },
   {
    "duration": 49,
    "start_time": "2023-04-15T17:29:04.128Z"
   },
   {
    "duration": 143,
    "start_time": "2023-04-15T17:29:04.179Z"
   },
   {
    "duration": 19,
    "start_time": "2023-04-15T17:29:04.323Z"
   },
   {
    "duration": 41,
    "start_time": "2023-04-15T17:29:04.346Z"
   },
   {
    "duration": 21,
    "start_time": "2023-04-15T17:29:04.389Z"
   },
   {
    "duration": 29,
    "start_time": "2023-04-15T17:29:04.412Z"
   },
   {
    "duration": 61,
    "start_time": "2023-04-15T17:29:04.443Z"
   },
   {
    "duration": 92,
    "start_time": "2023-04-15T17:29:04.505Z"
   },
   {
    "duration": 6,
    "start_time": "2023-04-15T17:29:04.599Z"
   },
   {
    "duration": 31,
    "start_time": "2023-04-15T17:29:04.606Z"
   },
   {
    "duration": 51,
    "start_time": "2023-04-15T17:29:04.639Z"
   },
   {
    "duration": 38,
    "start_time": "2023-04-15T17:29:04.692Z"
   },
   {
    "duration": 90,
    "start_time": "2023-04-15T17:29:04.733Z"
   },
   {
    "duration": 8,
    "start_time": "2023-04-15T17:29:04.825Z"
   },
   {
    "duration": 19,
    "start_time": "2023-04-15T17:29:04.834Z"
   },
   {
    "duration": 28,
    "start_time": "2023-04-15T17:29:04.874Z"
   },
   {
    "duration": 155,
    "start_time": "2023-04-15T17:29:04.903Z"
   },
   {
    "duration": 209,
    "start_time": "2023-04-15T17:29:07.632Z"
   },
   {
    "duration": 18,
    "start_time": "2023-04-15T17:29:14.318Z"
   },
   {
    "duration": 32,
    "start_time": "2023-04-15T19:28:02.372Z"
   },
   {
    "duration": 14,
    "start_time": "2023-04-15T19:29:24.141Z"
   },
   {
    "duration": 111,
    "start_time": "2023-04-15T19:29:41.770Z"
   },
   {
    "duration": 20,
    "start_time": "2023-04-15T19:30:57.721Z"
   },
   {
    "duration": 69,
    "start_time": "2023-04-15T19:31:28.171Z"
   },
   {
    "duration": 30,
    "start_time": "2023-04-15T19:31:37.795Z"
   },
   {
    "duration": 22,
    "start_time": "2023-04-15T19:33:45.521Z"
   },
   {
    "duration": 4,
    "start_time": "2023-04-15T19:34:37.807Z"
   },
   {
    "duration": 29,
    "start_time": "2023-04-15T19:35:35.024Z"
   },
   {
    "duration": 67,
    "start_time": "2023-04-15T19:36:22.231Z"
   },
   {
    "duration": 35,
    "start_time": "2023-04-15T19:41:26.004Z"
   },
   {
    "duration": 124,
    "start_time": "2023-04-15T19:42:31.071Z"
   },
   {
    "duration": 13,
    "start_time": "2023-04-15T19:42:41.969Z"
   },
   {
    "duration": 352,
    "start_time": "2023-04-15T19:42:42.947Z"
   },
   {
    "duration": 77,
    "start_time": "2023-04-15T19:43:12.217Z"
   },
   {
    "duration": 476,
    "start_time": "2023-04-15T19:43:46.960Z"
   },
   {
    "duration": 547,
    "start_time": "2023-04-15T19:43:56.970Z"
   },
   {
    "duration": 19,
    "start_time": "2023-04-15T19:46:29.135Z"
   },
   {
    "duration": 24,
    "start_time": "2023-04-15T19:46:47.929Z"
   },
   {
    "duration": 229,
    "start_time": "2023-04-15T19:54:34.528Z"
   },
   {
    "duration": 3142,
    "start_time": "2023-04-17T09:55:20.970Z"
   },
   {
    "duration": 1709,
    "start_time": "2023-04-17T09:55:24.115Z"
   },
   {
    "duration": 1282,
    "start_time": "2023-04-17T09:55:25.826Z"
   },
   {
    "duration": 23,
    "start_time": "2023-04-17T09:55:27.112Z"
   },
   {
    "duration": 272,
    "start_time": "2023-04-17T09:55:27.137Z"
   },
   {
    "duration": 25,
    "start_time": "2023-04-17T09:55:27.411Z"
   },
   {
    "duration": 146,
    "start_time": "2023-04-17T09:55:27.438Z"
   },
   {
    "duration": 5,
    "start_time": "2023-04-17T09:55:27.586Z"
   },
   {
    "duration": 50,
    "start_time": "2023-04-17T09:55:27.593Z"
   },
   {
    "duration": 13,
    "start_time": "2023-04-17T09:55:27.647Z"
   },
   {
    "duration": 865,
    "start_time": "2023-04-17T09:55:27.662Z"
   },
   {
    "duration": 180,
    "start_time": "2023-04-17T09:55:28.529Z"
   },
   {
    "duration": 10,
    "start_time": "2023-04-17T09:55:28.718Z"
   },
   {
    "duration": 22,
    "start_time": "2023-04-17T09:55:28.730Z"
   },
   {
    "duration": 31,
    "start_time": "2023-04-17T09:55:28.754Z"
   },
   {
    "duration": 48,
    "start_time": "2023-04-17T09:55:28.787Z"
   },
   {
    "duration": 27,
    "start_time": "2023-04-17T09:55:28.837Z"
   },
   {
    "duration": 194,
    "start_time": "2023-04-17T09:55:28.866Z"
   },
   {
    "duration": 20,
    "start_time": "2023-04-17T09:55:29.062Z"
   },
   {
    "duration": 40,
    "start_time": "2023-04-17T09:55:29.083Z"
   },
   {
    "duration": 32,
    "start_time": "2023-04-17T09:55:29.125Z"
   },
   {
    "duration": 33,
    "start_time": "2023-04-17T09:55:29.159Z"
   },
   {
    "duration": 75,
    "start_time": "2023-04-17T09:55:29.194Z"
   },
   {
    "duration": 103,
    "start_time": "2023-04-17T09:55:29.271Z"
   },
   {
    "duration": 8,
    "start_time": "2023-04-17T09:55:29.377Z"
   },
   {
    "duration": 55,
    "start_time": "2023-04-17T09:55:29.388Z"
   },
   {
    "duration": 31,
    "start_time": "2023-04-17T09:55:29.445Z"
   },
   {
    "duration": 60,
    "start_time": "2023-04-17T09:55:29.482Z"
   },
   {
    "duration": 123,
    "start_time": "2023-04-17T09:55:29.545Z"
   },
   {
    "duration": 9,
    "start_time": "2023-04-17T09:55:29.671Z"
   },
   {
    "duration": 40,
    "start_time": "2023-04-17T09:55:29.682Z"
   },
   {
    "duration": 31,
    "start_time": "2023-04-17T09:55:29.724Z"
   },
   {
    "duration": 178,
    "start_time": "2023-04-17T09:55:29.757Z"
   },
   {
    "duration": 30,
    "start_time": "2023-04-17T09:55:29.937Z"
   },
   {
    "duration": 61,
    "start_time": "2023-04-17T09:55:29.970Z"
   },
   {
    "duration": 35,
    "start_time": "2023-04-17T09:55:30.033Z"
   },
   {
    "duration": 11,
    "start_time": "2023-04-17T09:55:30.070Z"
   },
   {
    "duration": 755,
    "start_time": "2023-04-17T09:55:30.083Z"
   },
   {
    "duration": 23,
    "start_time": "2023-04-17T09:55:30.840Z"
   },
   {
    "duration": 21,
    "start_time": "2023-04-17T09:55:35.958Z"
   },
   {
    "duration": 275,
    "start_time": "2023-04-17T09:55:36.752Z"
   },
   {
    "duration": 100,
    "start_time": "2023-04-17T10:16:21.770Z"
   },
   {
    "duration": 170,
    "start_time": "2023-04-17T10:20:34.604Z"
   },
   {
    "duration": 69,
    "start_time": "2023-04-17T10:22:44.153Z"
   },
   {
    "duration": 60,
    "start_time": "2023-04-17T10:23:02.792Z"
   },
   {
    "duration": 88,
    "start_time": "2023-04-17T11:50:58.399Z"
   },
   {
    "duration": 62,
    "start_time": "2023-04-17T11:52:34.631Z"
   },
   {
    "duration": 13,
    "start_time": "2023-04-17T12:03:14.883Z"
   },
   {
    "duration": 84,
    "start_time": "2023-04-17T12:03:24.906Z"
   },
   {
    "duration": 97,
    "start_time": "2023-04-17T12:03:36.071Z"
   },
   {
    "duration": 41,
    "start_time": "2023-04-17T12:05:11.939Z"
   },
   {
    "duration": 20,
    "start_time": "2023-04-17T12:09:33.567Z"
   },
   {
    "duration": 35,
    "start_time": "2023-04-17T12:10:24.948Z"
   },
   {
    "duration": 818,
    "start_time": "2023-04-17T12:11:54.281Z"
   },
   {
    "duration": 28,
    "start_time": "2023-04-17T12:12:09.609Z"
   },
   {
    "duration": 44,
    "start_time": "2023-04-17T12:13:48.621Z"
   },
   {
    "duration": 42,
    "start_time": "2023-04-17T12:13:59.911Z"
   },
   {
    "duration": 47,
    "start_time": "2023-04-17T12:14:25.437Z"
   },
   {
    "duration": 26,
    "start_time": "2023-04-17T12:14:37.505Z"
   },
   {
    "duration": 27,
    "start_time": "2023-04-17T12:14:43.808Z"
   },
   {
    "duration": 57,
    "start_time": "2023-04-17T12:15:48.995Z"
   },
   {
    "duration": 54,
    "start_time": "2023-04-17T12:24:31.643Z"
   },
   {
    "duration": 25,
    "start_time": "2023-04-17T12:33:15.568Z"
   },
   {
    "duration": 24,
    "start_time": "2023-04-17T12:33:30.726Z"
   },
   {
    "duration": 37,
    "start_time": "2023-04-17T12:33:54.658Z"
   },
   {
    "duration": 22,
    "start_time": "2023-04-17T12:35:07.070Z"
   },
   {
    "duration": 91,
    "start_time": "2023-04-17T12:35:21.301Z"
   },
   {
    "duration": 45,
    "start_time": "2023-04-17T12:36:02.264Z"
   },
   {
    "duration": 24,
    "start_time": "2023-04-17T12:37:02.041Z"
   },
   {
    "duration": 165,
    "start_time": "2023-04-17T12:37:11.813Z"
   },
   {
    "duration": 19,
    "start_time": "2023-04-17T12:43:50.028Z"
   },
   {
    "duration": 40,
    "start_time": "2023-04-17T12:44:11.642Z"
   },
   {
    "duration": 24,
    "start_time": "2023-04-17T12:44:45.972Z"
   },
   {
    "duration": 42,
    "start_time": "2023-04-17T12:51:13.735Z"
   },
   {
    "duration": 21,
    "start_time": "2023-04-17T12:54:18.998Z"
   },
   {
    "duration": 21,
    "start_time": "2023-04-17T12:54:49.604Z"
   },
   {
    "duration": 9,
    "start_time": "2023-04-17T12:54:57.782Z"
   },
   {
    "duration": 85,
    "start_time": "2023-04-17T12:55:03.207Z"
   },
   {
    "duration": 21,
    "start_time": "2023-04-17T12:56:28.510Z"
   },
   {
    "duration": 36,
    "start_time": "2023-04-17T13:01:57.666Z"
   },
   {
    "duration": 12,
    "start_time": "2023-04-17T13:03:03.647Z"
   },
   {
    "duration": 25,
    "start_time": "2023-04-17T13:03:25.144Z"
   },
   {
    "duration": 133,
    "start_time": "2023-04-17T13:03:26.035Z"
   },
   {
    "duration": 151,
    "start_time": "2023-04-17T13:04:48.437Z"
   },
   {
    "duration": 154,
    "start_time": "2023-04-17T13:04:56.352Z"
   },
   {
    "duration": 193,
    "start_time": "2023-04-17T13:06:16.998Z"
   },
   {
    "duration": 94,
    "start_time": "2023-04-17T13:09:47.151Z"
   },
   {
    "duration": 7993,
    "start_time": "2023-04-17T14:24:32.777Z"
   },
   {
    "duration": 156,
    "start_time": "2023-04-17T14:25:12.550Z"
   },
   {
    "duration": 5,
    "start_time": "2023-04-17T14:25:20.284Z"
   },
   {
    "duration": 14,
    "start_time": "2023-04-17T14:27:02.511Z"
   },
   {
    "duration": 61,
    "start_time": "2023-04-17T14:27:44.189Z"
   },
   {
    "duration": 51,
    "start_time": "2023-04-17T14:28:38.783Z"
   },
   {
    "duration": 23,
    "start_time": "2023-04-17T14:30:38.143Z"
   },
   {
    "duration": 27,
    "start_time": "2023-04-17T14:34:30.912Z"
   },
   {
    "duration": 76,
    "start_time": "2023-04-17T14:35:20.761Z"
   },
   {
    "duration": 160,
    "start_time": "2023-04-17T14:35:25.411Z"
   },
   {
    "duration": 2410,
    "start_time": "2023-04-17T14:35:36.475Z"
   },
   {
    "duration": 2224,
    "start_time": "2023-04-17T14:35:38.887Z"
   },
   {
    "duration": 1265,
    "start_time": "2023-04-17T14:35:41.113Z"
   },
   {
    "duration": 896,
    "start_time": "2023-04-17T14:35:42.380Z"
   },
   {
    "duration": 19,
    "start_time": "2023-04-17T14:35:43.278Z"
   },
   {
    "duration": 161,
    "start_time": "2023-04-17T14:35:43.299Z"
   },
   {
    "duration": 28,
    "start_time": "2023-04-17T14:35:43.462Z"
   },
   {
    "duration": 111,
    "start_time": "2023-04-17T14:35:43.492Z"
   },
   {
    "duration": 11,
    "start_time": "2023-04-17T14:35:43.605Z"
   },
   {
    "duration": 31,
    "start_time": "2023-04-17T14:35:43.619Z"
   },
   {
    "duration": 25,
    "start_time": "2023-04-17T14:35:43.652Z"
   },
   {
    "duration": 804,
    "start_time": "2023-04-17T14:35:43.678Z"
   },
   {
    "duration": 102,
    "start_time": "2023-04-17T14:35:44.484Z"
   },
   {
    "duration": 56,
    "start_time": "2023-04-17T14:35:44.588Z"
   },
   {
    "duration": 45,
    "start_time": "2023-04-17T14:35:44.645Z"
   },
   {
    "duration": 26,
    "start_time": "2023-04-17T14:35:44.692Z"
   },
   {
    "duration": 40,
    "start_time": "2023-04-17T14:35:44.719Z"
   },
   {
    "duration": 34,
    "start_time": "2023-04-17T14:35:44.761Z"
   },
   {
    "duration": 180,
    "start_time": "2023-04-17T14:35:44.797Z"
   },
   {
    "duration": 17,
    "start_time": "2023-04-17T14:35:44.979Z"
   },
   {
    "duration": 55,
    "start_time": "2023-04-17T14:35:44.997Z"
   },
   {
    "duration": 48,
    "start_time": "2023-04-17T14:35:45.054Z"
   },
   {
    "duration": 44,
    "start_time": "2023-04-17T14:35:45.104Z"
   },
   {
    "duration": 65,
    "start_time": "2023-04-17T14:35:45.150Z"
   },
   {
    "duration": 109,
    "start_time": "2023-04-17T14:35:45.217Z"
   },
   {
    "duration": 16,
    "start_time": "2023-04-17T14:35:45.328Z"
   },
   {
    "duration": 46,
    "start_time": "2023-04-17T14:35:45.345Z"
   },
   {
    "duration": 43,
    "start_time": "2023-04-17T14:35:45.395Z"
   },
   {
    "duration": 42,
    "start_time": "2023-04-17T14:35:45.440Z"
   },
   {
    "duration": 87,
    "start_time": "2023-04-17T14:35:45.484Z"
   },
   {
    "duration": 35,
    "start_time": "2023-04-17T14:35:45.573Z"
   },
   {
    "duration": 54,
    "start_time": "2023-04-17T14:35:45.610Z"
   },
   {
    "duration": 47,
    "start_time": "2023-04-17T14:35:45.666Z"
   },
   {
    "duration": 164,
    "start_time": "2023-04-17T14:35:45.715Z"
   },
   {
    "duration": 20,
    "start_time": "2023-04-17T14:35:45.880Z"
   },
   {
    "duration": 52,
    "start_time": "2023-04-17T14:35:45.901Z"
   },
   {
    "duration": 53,
    "start_time": "2023-04-17T14:35:45.955Z"
   },
   {
    "duration": 39,
    "start_time": "2023-04-17T14:35:46.009Z"
   },
   {
    "duration": 700,
    "start_time": "2023-04-17T14:35:46.050Z"
   },
   {
    "duration": 272,
    "start_time": "2023-04-17T14:35:46.752Z"
   },
   {
    "duration": 101,
    "start_time": "2023-04-17T14:35:47.025Z"
   },
   {
    "duration": 75,
    "start_time": "2023-04-17T14:35:47.127Z"
   },
   {
    "duration": 83,
    "start_time": "2023-04-17T14:35:47.203Z"
   },
   {
    "duration": 100,
    "start_time": "2023-04-17T14:35:47.287Z"
   },
   {
    "duration": 46,
    "start_time": "2023-04-17T14:35:47.389Z"
   },
   {
    "duration": 56,
    "start_time": "2023-04-17T14:35:47.436Z"
   },
   {
    "duration": 57,
    "start_time": "2023-04-17T14:35:47.493Z"
   },
   {
    "duration": 121,
    "start_time": "2023-04-17T14:35:47.552Z"
   },
   {
    "duration": 59,
    "start_time": "2023-04-17T14:35:47.674Z"
   },
   {
    "duration": 23,
    "start_time": "2023-04-17T14:35:47.735Z"
   },
   {
    "duration": 102,
    "start_time": "2023-04-17T14:35:47.759Z"
   },
   {
    "duration": 40,
    "start_time": "2023-04-17T14:35:47.863Z"
   },
   {
    "duration": 21,
    "start_time": "2023-04-17T14:35:47.905Z"
   },
   {
    "duration": 45,
    "start_time": "2023-04-17T14:35:47.928Z"
   },
   {
    "duration": 20,
    "start_time": "2023-04-17T14:35:47.975Z"
   },
   {
    "duration": 33,
    "start_time": "2023-04-17T14:35:47.997Z"
   },
   {
    "duration": 93,
    "start_time": "2023-04-17T14:35:48.032Z"
   },
   {
    "duration": 20,
    "start_time": "2023-04-17T14:35:48.127Z"
   },
   {
    "duration": 46,
    "start_time": "2023-04-17T14:35:48.149Z"
   },
   {
    "duration": 33,
    "start_time": "2023-04-17T14:35:48.197Z"
   },
   {
    "duration": 94,
    "start_time": "2023-04-17T14:35:48.232Z"
   },
   {
    "duration": 155,
    "start_time": "2023-04-17T14:35:48.328Z"
   },
   {
    "duration": 176,
    "start_time": "2023-04-17T14:35:48.484Z"
   },
   {
    "duration": 81,
    "start_time": "2023-04-17T14:35:48.662Z"
   },
   {
    "duration": 59,
    "start_time": "2023-04-17T14:35:48.745Z"
   },
   {
    "duration": 52,
    "start_time": "2023-04-17T14:35:48.806Z"
   },
   {
    "duration": 22,
    "start_time": "2023-04-17T14:35:48.860Z"
   },
   {
    "duration": 12,
    "start_time": "2023-04-17T14:35:48.884Z"
   },
   {
    "duration": 3,
    "start_time": "2023-04-17T14:42:50.364Z"
   },
   {
    "duration": 80,
    "start_time": "2023-04-17T14:42:52.809Z"
   },
   {
    "duration": 65,
    "start_time": "2023-04-17T14:42:57.633Z"
   },
   {
    "duration": 43,
    "start_time": "2023-04-17T14:42:58.513Z"
   },
   {
    "duration": 20,
    "start_time": "2023-04-17T14:42:59.219Z"
   },
   {
    "duration": 3,
    "start_time": "2023-04-17T14:42:59.882Z"
   },
   {
    "duration": 20,
    "start_time": "2023-04-17T14:43:49.795Z"
   },
   {
    "duration": 34,
    "start_time": "2023-04-17T14:44:40.345Z"
   },
   {
    "duration": 33,
    "start_time": "2023-04-17T14:44:59.233Z"
   },
   {
    "duration": 19,
    "start_time": "2023-04-17T14:45:48.109Z"
   },
   {
    "duration": 25,
    "start_time": "2023-04-17T14:45:49.183Z"
   },
   {
    "duration": 19,
    "start_time": "2023-04-17T14:45:50.195Z"
   },
   {
    "duration": 4,
    "start_time": "2023-04-17T14:55:03.718Z"
   },
   {
    "duration": 394,
    "start_time": "2023-04-17T14:55:04.589Z"
   },
   {
    "duration": 8,
    "start_time": "2023-04-17T14:56:09.173Z"
   },
   {
    "duration": 2444,
    "start_time": "2023-04-17T14:57:18.618Z"
   },
   {
    "duration": 2366,
    "start_time": "2023-04-17T14:57:21.065Z"
   },
   {
    "duration": 1237,
    "start_time": "2023-04-17T14:57:23.433Z"
   },
   {
    "duration": 965,
    "start_time": "2023-04-17T14:57:24.672Z"
   },
   {
    "duration": 21,
    "start_time": "2023-04-17T14:57:25.639Z"
   },
   {
    "duration": 171,
    "start_time": "2023-04-17T14:57:25.662Z"
   },
   {
    "duration": 29,
    "start_time": "2023-04-17T14:57:25.835Z"
   },
   {
    "duration": 101,
    "start_time": "2023-04-17T14:57:25.866Z"
   },
   {
    "duration": 4,
    "start_time": "2023-04-17T14:57:25.969Z"
   },
   {
    "duration": 43,
    "start_time": "2023-04-17T14:57:25.976Z"
   },
   {
    "duration": 7,
    "start_time": "2023-04-17T14:57:26.021Z"
   },
   {
    "duration": 802,
    "start_time": "2023-04-17T14:57:26.029Z"
   },
   {
    "duration": 107,
    "start_time": "2023-04-17T14:57:26.833Z"
   },
   {
    "duration": 10,
    "start_time": "2023-04-17T14:57:26.941Z"
   },
   {
    "duration": 39,
    "start_time": "2023-04-17T14:57:26.953Z"
   },
   {
    "duration": 25,
    "start_time": "2023-04-17T14:57:26.994Z"
   },
   {
    "duration": 11,
    "start_time": "2023-04-17T14:57:27.021Z"
   },
   {
    "duration": 18,
    "start_time": "2023-04-17T14:57:27.034Z"
   },
   {
    "duration": 170,
    "start_time": "2023-04-17T14:57:27.054Z"
   },
   {
    "duration": 18,
    "start_time": "2023-04-17T14:57:27.226Z"
   },
   {
    "duration": 20,
    "start_time": "2023-04-17T14:57:27.246Z"
   },
   {
    "duration": 19,
    "start_time": "2023-04-17T14:57:27.268Z"
   },
   {
    "duration": 21,
    "start_time": "2023-04-17T14:57:27.318Z"
   },
   {
    "duration": 44,
    "start_time": "2023-04-17T14:57:27.341Z"
   },
   {
    "duration": 120,
    "start_time": "2023-04-17T14:57:27.387Z"
   },
   {
    "duration": 13,
    "start_time": "2023-04-17T14:57:27.509Z"
   },
   {
    "duration": 42,
    "start_time": "2023-04-17T14:57:27.524Z"
   },
   {
    "duration": 30,
    "start_time": "2023-04-17T14:57:27.570Z"
   },
   {
    "duration": 42,
    "start_time": "2023-04-17T14:57:27.602Z"
   },
   {
    "duration": 93,
    "start_time": "2023-04-17T14:57:27.645Z"
   },
   {
    "duration": 7,
    "start_time": "2023-04-17T14:57:27.740Z"
   },
   {
    "duration": 24,
    "start_time": "2023-04-17T14:57:27.749Z"
   },
   {
    "duration": 48,
    "start_time": "2023-04-17T14:57:27.775Z"
   },
   {
    "duration": 166,
    "start_time": "2023-04-17T14:57:27.825Z"
   },
   {
    "duration": 33,
    "start_time": "2023-04-17T14:57:27.993Z"
   },
   {
    "duration": 31,
    "start_time": "2023-04-17T14:57:28.028Z"
   },
   {
    "duration": 25,
    "start_time": "2023-04-17T14:57:28.062Z"
   },
   {
    "duration": 34,
    "start_time": "2023-04-17T14:57:28.090Z"
   },
   {
    "duration": 665,
    "start_time": "2023-04-17T14:57:28.126Z"
   },
   {
    "duration": 273,
    "start_time": "2023-04-17T14:57:28.793Z"
   },
   {
    "duration": 99,
    "start_time": "2023-04-17T14:57:29.068Z"
   },
   {
    "duration": 89,
    "start_time": "2023-04-17T14:57:29.168Z"
   },
   {
    "duration": 72,
    "start_time": "2023-04-17T14:57:29.259Z"
   },
   {
    "duration": 91,
    "start_time": "2023-04-17T14:57:29.333Z"
   },
   {
    "duration": 38,
    "start_time": "2023-04-17T14:57:29.426Z"
   },
   {
    "duration": 20,
    "start_time": "2023-04-17T14:57:29.466Z"
   },
   {
    "duration": 40,
    "start_time": "2023-04-17T14:57:29.488Z"
   },
   {
    "duration": 101,
    "start_time": "2023-04-17T14:57:29.530Z"
   },
   {
    "duration": 34,
    "start_time": "2023-04-17T14:57:29.632Z"
   },
   {
    "duration": 19,
    "start_time": "2023-04-17T14:57:29.668Z"
   },
   {
    "duration": 111,
    "start_time": "2023-04-17T14:57:29.689Z"
   },
   {
    "duration": 45,
    "start_time": "2023-04-17T14:57:29.802Z"
   },
   {
    "duration": 23,
    "start_time": "2023-04-17T14:57:29.849Z"
   },
   {
    "duration": 60,
    "start_time": "2023-04-17T14:57:29.874Z"
   },
   {
    "duration": 30,
    "start_time": "2023-04-17T14:57:29.936Z"
   },
   {
    "duration": 32,
    "start_time": "2023-04-17T14:57:29.968Z"
   },
   {
    "duration": 105,
    "start_time": "2023-04-17T14:57:30.002Z"
   },
   {
    "duration": 71,
    "start_time": "2023-04-17T14:57:30.109Z"
   },
   {
    "duration": 61,
    "start_time": "2023-04-17T14:57:30.182Z"
   },
   {
    "duration": 29,
    "start_time": "2023-04-17T14:57:30.245Z"
   },
   {
    "duration": 136,
    "start_time": "2023-04-17T14:57:30.276Z"
   },
   {
    "duration": 265,
    "start_time": "2023-04-17T14:57:30.414Z"
   },
   {
    "duration": 196,
    "start_time": "2023-04-17T14:57:30.681Z"
   },
   {
    "duration": 3,
    "start_time": "2023-04-17T14:57:30.879Z"
   },
   {
    "duration": 106,
    "start_time": "2023-04-17T14:57:30.884Z"
   },
   {
    "duration": 103,
    "start_time": "2023-04-17T14:57:30.992Z"
   },
   {
    "duration": 63,
    "start_time": "2023-04-17T14:57:31.097Z"
   },
   {
    "duration": 62,
    "start_time": "2023-04-17T14:57:31.162Z"
   },
   {
    "duration": 48,
    "start_time": "2023-04-17T14:57:31.226Z"
   },
   {
    "duration": 89,
    "start_time": "2023-04-17T14:57:31.276Z"
   },
   {
    "duration": 35,
    "start_time": "2023-04-17T14:57:31.369Z"
   },
   {
    "duration": 58,
    "start_time": "2023-04-17T14:57:31.405Z"
   },
   {
    "duration": 35,
    "start_time": "2023-04-17T14:57:31.465Z"
   },
   {
    "duration": 61,
    "start_time": "2023-04-17T14:57:31.502Z"
   },
   {
    "duration": 41,
    "start_time": "2023-04-17T14:57:31.565Z"
   },
   {
    "duration": 26,
    "start_time": "2023-04-17T14:57:31.608Z"
   },
   {
    "duration": 500,
    "start_time": "2023-04-17T14:57:31.636Z"
   },
   {
    "duration": 10,
    "start_time": "2023-04-17T14:57:32.138Z"
   },
   {
    "duration": 68,
    "start_time": "2023-04-17T14:59:37.501Z"
   },
   {
    "duration": 138,
    "start_time": "2023-04-17T14:59:42.923Z"
   },
   {
    "duration": 74,
    "start_time": "2023-04-17T15:02:58.411Z"
   },
   {
    "duration": 105,
    "start_time": "2023-04-17T15:03:42.988Z"
   },
   {
    "duration": 84,
    "start_time": "2023-04-17T15:03:43.902Z"
   },
   {
    "duration": 219,
    "start_time": "2023-04-17T15:36:23.095Z"
   },
   {
    "duration": 2485,
    "start_time": "2023-04-17T15:36:53.536Z"
   },
   {
    "duration": 2283,
    "start_time": "2023-04-17T15:36:56.024Z"
   },
   {
    "duration": 1249,
    "start_time": "2023-04-17T15:36:58.309Z"
   },
   {
    "duration": 860,
    "start_time": "2023-04-17T15:36:59.559Z"
   },
   {
    "duration": 17,
    "start_time": "2023-04-17T15:37:00.422Z"
   },
   {
    "duration": 174,
    "start_time": "2023-04-17T15:37:00.440Z"
   },
   {
    "duration": 27,
    "start_time": "2023-04-17T15:37:00.618Z"
   },
   {
    "duration": 130,
    "start_time": "2023-04-17T15:37:00.647Z"
   },
   {
    "duration": 4,
    "start_time": "2023-04-17T15:37:00.779Z"
   },
   {
    "duration": 54,
    "start_time": "2023-04-17T15:37:00.785Z"
   },
   {
    "duration": 49,
    "start_time": "2023-04-17T15:37:00.841Z"
   },
   {
    "duration": 909,
    "start_time": "2023-04-17T15:37:00.892Z"
   },
   {
    "duration": 119,
    "start_time": "2023-04-17T15:37:01.803Z"
   },
   {
    "duration": 37,
    "start_time": "2023-04-17T15:37:01.927Z"
   },
   {
    "duration": 55,
    "start_time": "2023-04-17T15:37:01.966Z"
   },
   {
    "duration": 35,
    "start_time": "2023-04-17T15:37:02.023Z"
   },
   {
    "duration": 41,
    "start_time": "2023-04-17T15:37:02.059Z"
   },
   {
    "duration": 39,
    "start_time": "2023-04-17T15:37:02.102Z"
   },
   {
    "duration": 185,
    "start_time": "2023-04-17T15:37:02.143Z"
   },
   {
    "duration": 19,
    "start_time": "2023-04-17T15:37:02.330Z"
   },
   {
    "duration": 55,
    "start_time": "2023-04-17T15:37:02.351Z"
   },
   {
    "duration": 50,
    "start_time": "2023-04-17T15:37:02.408Z"
   },
   {
    "duration": 64,
    "start_time": "2023-04-17T15:37:02.460Z"
   },
   {
    "duration": 65,
    "start_time": "2023-04-17T15:37:02.526Z"
   },
   {
    "duration": 120,
    "start_time": "2023-04-17T15:37:02.593Z"
   },
   {
    "duration": 6,
    "start_time": "2023-04-17T15:37:02.717Z"
   },
   {
    "duration": 52,
    "start_time": "2023-04-17T15:37:02.725Z"
   },
   {
    "duration": 41,
    "start_time": "2023-04-17T15:37:02.779Z"
   },
   {
    "duration": 33,
    "start_time": "2023-04-17T15:37:02.822Z"
   },
   {
    "duration": 92,
    "start_time": "2023-04-17T15:37:02.857Z"
   },
   {
    "duration": 7,
    "start_time": "2023-04-17T15:37:02.951Z"
   },
   {
    "duration": 46,
    "start_time": "2023-04-17T15:37:02.960Z"
   },
   {
    "duration": 30,
    "start_time": "2023-04-17T15:37:03.008Z"
   },
   {
    "duration": 159,
    "start_time": "2023-04-17T15:37:03.040Z"
   },
   {
    "duration": 28,
    "start_time": "2023-04-17T15:37:03.200Z"
   },
   {
    "duration": 24,
    "start_time": "2023-04-17T15:37:03.230Z"
   },
   {
    "duration": 24,
    "start_time": "2023-04-17T15:37:03.256Z"
   },
   {
    "duration": 40,
    "start_time": "2023-04-17T15:37:03.282Z"
   },
   {
    "duration": 667,
    "start_time": "2023-04-17T15:37:03.324Z"
   },
   {
    "duration": 258,
    "start_time": "2023-04-17T15:37:03.993Z"
   },
   {
    "duration": 88,
    "start_time": "2023-04-17T15:37:04.255Z"
   },
   {
    "duration": 73,
    "start_time": "2023-04-17T15:37:04.345Z"
   },
   {
    "duration": 69,
    "start_time": "2023-04-17T15:37:04.420Z"
   },
   {
    "duration": 101,
    "start_time": "2023-04-17T15:37:04.491Z"
   },
   {
    "duration": 46,
    "start_time": "2023-04-17T15:37:04.594Z"
   },
   {
    "duration": 22,
    "start_time": "2023-04-17T15:37:04.641Z"
   },
   {
    "duration": 43,
    "start_time": "2023-04-17T15:37:04.664Z"
   },
   {
    "duration": 92,
    "start_time": "2023-04-17T15:37:04.709Z"
   },
   {
    "duration": 43,
    "start_time": "2023-04-17T15:37:04.803Z"
   },
   {
    "duration": 22,
    "start_time": "2023-04-17T15:37:04.848Z"
   },
   {
    "duration": 105,
    "start_time": "2023-04-17T15:37:04.872Z"
   },
   {
    "duration": 41,
    "start_time": "2023-04-17T15:37:04.979Z"
   },
   {
    "duration": 23,
    "start_time": "2023-04-17T15:37:05.022Z"
   },
   {
    "duration": 52,
    "start_time": "2023-04-17T15:37:05.047Z"
   },
   {
    "duration": 20,
    "start_time": "2023-04-17T15:37:05.117Z"
   },
   {
    "duration": 27,
    "start_time": "2023-04-17T15:37:05.139Z"
   },
   {
    "duration": 108,
    "start_time": "2023-04-17T15:37:05.168Z"
   },
   {
    "duration": 23,
    "start_time": "2023-04-17T15:37:05.277Z"
   },
   {
    "duration": 52,
    "start_time": "2023-04-17T15:37:05.302Z"
   },
   {
    "duration": 22,
    "start_time": "2023-04-17T15:37:05.356Z"
   },
   {
    "duration": 103,
    "start_time": "2023-04-17T15:37:05.379Z"
   },
   {
    "duration": 180,
    "start_time": "2023-04-17T15:37:05.483Z"
   },
   {
    "duration": 187,
    "start_time": "2023-04-17T15:37:05.664Z"
   },
   {
    "duration": 3,
    "start_time": "2023-04-17T15:37:05.853Z"
   },
   {
    "duration": 105,
    "start_time": "2023-04-17T15:37:05.859Z"
   },
   {
    "duration": 73,
    "start_time": "2023-04-17T15:37:05.966Z"
   },
   {
    "duration": 58,
    "start_time": "2023-04-17T15:37:06.041Z"
   },
   {
    "duration": 32,
    "start_time": "2023-04-17T15:37:06.101Z"
   },
   {
    "duration": 36,
    "start_time": "2023-04-17T15:37:06.135Z"
   },
   {
    "duration": 40,
    "start_time": "2023-04-17T15:37:06.173Z"
   },
   {
    "duration": 36,
    "start_time": "2023-04-17T15:37:06.215Z"
   },
   {
    "duration": 35,
    "start_time": "2023-04-17T15:37:06.252Z"
   },
   {
    "duration": 21,
    "start_time": "2023-04-17T15:37:06.289Z"
   },
   {
    "duration": 34,
    "start_time": "2023-04-17T15:37:06.313Z"
   },
   {
    "duration": 25,
    "start_time": "2023-04-17T15:37:06.349Z"
   },
   {
    "duration": 13,
    "start_time": "2023-04-17T15:37:06.376Z"
   },
   {
    "duration": 452,
    "start_time": "2023-04-17T15:37:06.391Z"
   },
   {
    "duration": 9,
    "start_time": "2023-04-17T15:37:06.845Z"
   },
   {
    "duration": 84,
    "start_time": "2023-04-17T15:37:06.856Z"
   },
   {
    "duration": 104,
    "start_time": "2023-04-17T15:37:06.942Z"
   },
   {
    "duration": 92,
    "start_time": "2023-04-17T15:37:07.048Z"
   },
   {
    "duration": 241,
    "start_time": "2023-04-17T15:37:07.141Z"
   },
   {
    "duration": 65,
    "start_time": "2023-04-17T15:37:27.413Z"
   },
   {
    "duration": 81,
    "start_time": "2023-04-17T15:39:15.326Z"
   },
   {
    "duration": 2643,
    "start_time": "2023-04-17T15:39:59.190Z"
   },
   {
    "duration": 2358,
    "start_time": "2023-04-17T15:40:01.837Z"
   },
   {
    "duration": 1448,
    "start_time": "2023-04-17T15:40:04.198Z"
   },
   {
    "duration": 911,
    "start_time": "2023-04-17T15:40:05.648Z"
   },
   {
    "duration": 19,
    "start_time": "2023-04-17T15:40:06.562Z"
   },
   {
    "duration": 171,
    "start_time": "2023-04-17T15:40:06.583Z"
   },
   {
    "duration": 28,
    "start_time": "2023-04-17T15:40:06.756Z"
   },
   {
    "duration": 134,
    "start_time": "2023-04-17T15:40:06.786Z"
   },
   {
    "duration": 4,
    "start_time": "2023-04-17T15:40:06.922Z"
   },
   {
    "duration": 28,
    "start_time": "2023-04-17T15:40:06.927Z"
   },
   {
    "duration": 9,
    "start_time": "2023-04-17T15:40:06.957Z"
   },
   {
    "duration": 825,
    "start_time": "2023-04-17T15:40:06.968Z"
   },
   {
    "duration": 102,
    "start_time": "2023-04-17T15:40:07.795Z"
   },
   {
    "duration": 18,
    "start_time": "2023-04-17T15:40:07.901Z"
   },
   {
    "duration": 23,
    "start_time": "2023-04-17T15:40:07.921Z"
   },
   {
    "duration": 20,
    "start_time": "2023-04-17T15:40:07.946Z"
   },
   {
    "duration": 16,
    "start_time": "2023-04-17T15:40:07.968Z"
   },
   {
    "duration": 48,
    "start_time": "2023-04-17T15:40:07.986Z"
   },
   {
    "duration": 169,
    "start_time": "2023-04-17T15:40:08.036Z"
   },
   {
    "duration": 22,
    "start_time": "2023-04-17T15:40:08.207Z"
   },
   {
    "duration": 28,
    "start_time": "2023-04-17T15:40:08.231Z"
   },
   {
    "duration": 20,
    "start_time": "2023-04-17T15:40:08.261Z"
   },
   {
    "duration": 43,
    "start_time": "2023-04-17T15:40:08.283Z"
   },
   {
    "duration": 37,
    "start_time": "2023-04-17T15:40:08.328Z"
   },
   {
    "duration": 117,
    "start_time": "2023-04-17T15:40:08.367Z"
   },
   {
    "duration": 6,
    "start_time": "2023-04-17T15:40:08.485Z"
   },
   {
    "duration": 54,
    "start_time": "2023-04-17T15:40:08.493Z"
   },
   {
    "duration": 38,
    "start_time": "2023-04-17T15:40:08.549Z"
   },
   {
    "duration": 34,
    "start_time": "2023-04-17T15:40:08.588Z"
   },
   {
    "duration": 101,
    "start_time": "2023-04-17T15:40:08.624Z"
   },
   {
    "duration": 8,
    "start_time": "2023-04-17T15:40:08.727Z"
   },
   {
    "duration": 29,
    "start_time": "2023-04-17T15:40:08.736Z"
   },
   {
    "duration": 30,
    "start_time": "2023-04-17T15:40:08.767Z"
   },
   {
    "duration": 163,
    "start_time": "2023-04-17T15:40:08.799Z"
   },
   {
    "duration": 21,
    "start_time": "2023-04-17T15:40:08.964Z"
   },
   {
    "duration": 32,
    "start_time": "2023-04-17T15:40:08.987Z"
   },
   {
    "duration": 26,
    "start_time": "2023-04-17T15:40:09.021Z"
   },
   {
    "duration": 10,
    "start_time": "2023-04-17T15:40:09.049Z"
   },
   {
    "duration": 707,
    "start_time": "2023-04-17T15:40:09.061Z"
   },
   {
    "duration": 328,
    "start_time": "2023-04-17T15:40:09.771Z"
   },
   {
    "duration": 112,
    "start_time": "2023-04-17T15:40:10.104Z"
   },
   {
    "duration": 61,
    "start_time": "2023-04-17T15:40:10.217Z"
   },
   {
    "duration": 72,
    "start_time": "2023-04-17T15:40:10.280Z"
   },
   {
    "duration": 90,
    "start_time": "2023-04-17T15:40:10.354Z"
   },
   {
    "duration": 35,
    "start_time": "2023-04-17T15:40:10.446Z"
   },
   {
    "duration": 45,
    "start_time": "2023-04-17T15:40:10.483Z"
   },
   {
    "duration": 25,
    "start_time": "2023-04-17T15:40:10.530Z"
   },
   {
    "duration": 178,
    "start_time": "2023-04-17T15:40:10.556Z"
   },
   {
    "duration": 41,
    "start_time": "2023-04-17T15:40:10.736Z"
   },
   {
    "duration": 22,
    "start_time": "2023-04-17T15:40:10.818Z"
   },
   {
    "duration": 168,
    "start_time": "2023-04-17T15:40:10.842Z"
   },
   {
    "duration": 36,
    "start_time": "2023-04-17T15:40:11.012Z"
   },
   {
    "duration": 22,
    "start_time": "2023-04-17T15:40:11.050Z"
   },
   {
    "duration": 52,
    "start_time": "2023-04-17T15:40:11.073Z"
   },
   {
    "duration": 18,
    "start_time": "2023-04-17T15:40:11.127Z"
   },
   {
    "duration": 22,
    "start_time": "2023-04-17T15:40:11.147Z"
   },
   {
    "duration": 110,
    "start_time": "2023-04-17T15:40:11.171Z"
   },
   {
    "duration": 35,
    "start_time": "2023-04-17T15:40:11.282Z"
   },
   {
    "duration": 37,
    "start_time": "2023-04-17T15:40:11.319Z"
   },
   {
    "duration": 22,
    "start_time": "2023-04-17T15:40:11.358Z"
   },
   {
    "duration": 114,
    "start_time": "2023-04-17T15:40:11.382Z"
   },
   {
    "duration": 169,
    "start_time": "2023-04-17T15:40:11.498Z"
   },
   {
    "duration": 195,
    "start_time": "2023-04-17T15:40:11.669Z"
   },
   {
    "duration": 4,
    "start_time": "2023-04-17T15:40:11.866Z"
   },
   {
    "duration": 109,
    "start_time": "2023-04-17T15:40:11.872Z"
   },
   {
    "duration": 76,
    "start_time": "2023-04-17T15:40:11.983Z"
   },
   {
    "duration": 63,
    "start_time": "2023-04-17T15:40:12.062Z"
   },
   {
    "duration": 28,
    "start_time": "2023-04-17T15:40:12.127Z"
   },
   {
    "duration": 9,
    "start_time": "2023-04-17T15:40:12.157Z"
   },
   {
    "duration": 37,
    "start_time": "2023-04-17T15:40:12.168Z"
   },
   {
    "duration": 31,
    "start_time": "2023-04-17T15:40:12.207Z"
   },
   {
    "duration": 33,
    "start_time": "2023-04-17T15:40:12.240Z"
   },
   {
    "duration": 40,
    "start_time": "2023-04-17T15:40:12.275Z"
   },
   {
    "duration": 41,
    "start_time": "2023-04-17T15:40:12.317Z"
   },
   {
    "duration": 33,
    "start_time": "2023-04-17T15:40:12.360Z"
   },
   {
    "duration": 26,
    "start_time": "2023-04-17T15:40:12.395Z"
   },
   {
    "duration": 449,
    "start_time": "2023-04-17T15:40:12.423Z"
   },
   {
    "duration": 9,
    "start_time": "2023-04-17T15:40:12.874Z"
   },
   {
    "duration": 83,
    "start_time": "2023-04-17T15:40:12.885Z"
   },
   {
    "duration": 204,
    "start_time": "2023-04-17T15:40:12.970Z"
   },
   {
    "duration": 0,
    "start_time": "2023-04-17T15:40:13.176Z"
   },
   {
    "duration": 0,
    "start_time": "2023-04-17T15:40:13.177Z"
   },
   {
    "duration": 10,
    "start_time": "2023-04-17T15:46:59.318Z"
   },
   {
    "duration": 83,
    "start_time": "2023-04-17T15:47:38.907Z"
   },
   {
    "duration": 1867,
    "start_time": "2023-04-17T15:48:19.055Z"
   },
   {
    "duration": 3583,
    "start_time": "2023-04-17T20:33:04.030Z"
   },
   {
    "duration": 14791,
    "start_time": "2023-04-17T20:33:07.616Z"
   },
   {
    "duration": 2064,
    "start_time": "2023-04-17T20:33:22.409Z"
   },
   {
    "duration": 3358,
    "start_time": "2023-04-17T20:33:24.476Z"
   },
   {
    "duration": 49,
    "start_time": "2023-04-17T20:33:27.836Z"
   },
   {
    "duration": 248,
    "start_time": "2023-04-17T20:33:27.891Z"
   },
   {
    "duration": 74,
    "start_time": "2023-04-17T20:33:28.140Z"
   },
   {
    "duration": 153,
    "start_time": "2023-04-17T20:33:28.221Z"
   },
   {
    "duration": 5,
    "start_time": "2023-04-17T20:33:28.376Z"
   },
   {
    "duration": 49,
    "start_time": "2023-04-17T20:33:28.384Z"
   },
   {
    "duration": 11,
    "start_time": "2023-04-17T20:33:28.436Z"
   },
   {
    "duration": 1130,
    "start_time": "2023-04-17T20:33:28.459Z"
   },
   {
    "duration": 136,
    "start_time": "2023-04-17T20:33:29.595Z"
   },
   {
    "duration": 7,
    "start_time": "2023-04-17T20:33:29.732Z"
   },
   {
    "duration": 80,
    "start_time": "2023-04-17T20:33:29.741Z"
   },
   {
    "duration": 62,
    "start_time": "2023-04-17T20:33:29.824Z"
   },
   {
    "duration": 21,
    "start_time": "2023-04-17T20:33:29.897Z"
   },
   {
    "duration": 49,
    "start_time": "2023-04-17T20:33:29.924Z"
   },
   {
    "duration": 277,
    "start_time": "2023-04-17T20:33:29.980Z"
   },
   {
    "duration": 37,
    "start_time": "2023-04-17T20:33:30.264Z"
   },
   {
    "duration": 89,
    "start_time": "2023-04-17T20:33:30.307Z"
   },
   {
    "duration": 61,
    "start_time": "2023-04-17T20:33:30.403Z"
   },
   {
    "duration": 199,
    "start_time": "2023-04-17T20:33:30.471Z"
   },
   {
    "duration": 85,
    "start_time": "2023-04-17T20:33:30.684Z"
   },
   {
    "duration": 196,
    "start_time": "2023-04-17T20:33:30.774Z"
   },
   {
    "duration": 201,
    "start_time": "2023-04-17T20:33:30.984Z"
   },
   {
    "duration": 164,
    "start_time": "2023-04-17T20:33:31.191Z"
   },
   {
    "duration": 99,
    "start_time": "2023-04-17T20:33:31.368Z"
   },
   {
    "duration": 65,
    "start_time": "2023-04-17T20:33:31.470Z"
   },
   {
    "duration": 186,
    "start_time": "2023-04-17T20:33:31.537Z"
   },
   {
    "duration": 85,
    "start_time": "2023-04-17T20:33:31.725Z"
   },
   {
    "duration": 90,
    "start_time": "2023-04-17T20:33:31.812Z"
   },
   {
    "duration": 102,
    "start_time": "2023-04-17T20:33:31.904Z"
   },
   {
    "duration": 261,
    "start_time": "2023-04-17T20:33:32.016Z"
   },
   {
    "duration": 42,
    "start_time": "2023-04-17T20:33:32.279Z"
   },
   {
    "duration": 105,
    "start_time": "2023-04-17T20:33:32.328Z"
   },
   {
    "duration": 67,
    "start_time": "2023-04-17T20:33:32.436Z"
   },
   {
    "duration": 32,
    "start_time": "2023-04-17T20:33:32.506Z"
   },
   {
    "duration": 1064,
    "start_time": "2023-04-17T20:33:32.541Z"
   },
   {
    "duration": 354,
    "start_time": "2023-04-17T20:33:33.608Z"
   },
   {
    "duration": 119,
    "start_time": "2023-04-17T20:33:33.963Z"
   },
   {
    "duration": 127,
    "start_time": "2023-04-17T20:33:34.093Z"
   },
   {
    "duration": 108,
    "start_time": "2023-04-17T20:33:34.221Z"
   },
   {
    "duration": 117,
    "start_time": "2023-04-17T20:33:34.331Z"
   },
   {
    "duration": 122,
    "start_time": "2023-04-17T20:33:34.451Z"
   },
   {
    "duration": 43,
    "start_time": "2023-04-17T20:33:34.578Z"
   },
   {
    "duration": 50,
    "start_time": "2023-04-17T20:33:34.623Z"
   },
   {
    "duration": 190,
    "start_time": "2023-04-17T20:33:34.675Z"
   },
   {
    "duration": 117,
    "start_time": "2023-04-17T20:33:34.881Z"
   },
   {
    "duration": 108,
    "start_time": "2023-04-17T20:33:35.007Z"
   },
   {
    "duration": 230,
    "start_time": "2023-04-17T20:33:35.121Z"
   },
   {
    "duration": 150,
    "start_time": "2023-04-17T20:33:35.353Z"
   },
   {
    "duration": 64,
    "start_time": "2023-04-17T20:33:35.508Z"
   },
   {
    "duration": 111,
    "start_time": "2023-04-17T20:33:35.578Z"
   },
   {
    "duration": 31,
    "start_time": "2023-04-17T20:33:35.695Z"
   },
   {
    "duration": 51,
    "start_time": "2023-04-17T20:33:35.728Z"
   },
   {
    "duration": 151,
    "start_time": "2023-04-17T20:33:35.782Z"
   },
   {
    "duration": 57,
    "start_time": "2023-04-17T20:33:35.936Z"
   },
   {
    "duration": 95,
    "start_time": "2023-04-17T20:33:35.995Z"
   },
   {
    "duration": 102,
    "start_time": "2023-04-17T20:33:36.095Z"
   },
   {
    "duration": 233,
    "start_time": "2023-04-17T20:33:36.201Z"
   },
   {
    "duration": 255,
    "start_time": "2023-04-17T20:33:36.436Z"
   },
   {
    "duration": 278,
    "start_time": "2023-04-17T20:33:36.693Z"
   },
   {
    "duration": 15,
    "start_time": "2023-04-17T20:33:36.985Z"
   },
   {
    "duration": 182,
    "start_time": "2023-04-17T20:33:37.002Z"
   },
   {
    "duration": 108,
    "start_time": "2023-04-17T20:33:37.190Z"
   },
   {
    "duration": 105,
    "start_time": "2023-04-17T20:33:37.300Z"
   },
   {
    "duration": 82,
    "start_time": "2023-04-17T20:33:37.407Z"
   },
   {
    "duration": 115,
    "start_time": "2023-04-17T20:33:37.491Z"
   },
   {
    "duration": 69,
    "start_time": "2023-04-17T20:33:37.614Z"
   },
   {
    "duration": 106,
    "start_time": "2023-04-17T20:33:37.685Z"
   },
   {
    "duration": 60,
    "start_time": "2023-04-17T20:33:37.796Z"
   },
   {
    "duration": 67,
    "start_time": "2023-04-17T20:33:37.862Z"
   },
   {
    "duration": 45,
    "start_time": "2023-04-17T20:33:37.930Z"
   },
   {
    "duration": 88,
    "start_time": "2023-04-17T20:33:37.978Z"
   },
   {
    "duration": 55,
    "start_time": "2023-04-17T20:33:38.068Z"
   },
   {
    "duration": 683,
    "start_time": "2023-04-17T20:33:38.125Z"
   },
   {
    "duration": 13,
    "start_time": "2023-04-17T20:33:38.810Z"
   },
   {
    "duration": 88,
    "start_time": "2023-04-17T20:33:38.827Z"
   },
   {
    "duration": 12,
    "start_time": "2023-04-17T20:34:24.393Z"
   },
   {
    "duration": 213,
    "start_time": "2023-04-17T20:34:36.540Z"
   },
   {
    "duration": 356,
    "start_time": "2023-04-17T20:35:03.990Z"
   },
   {
    "duration": 208,
    "start_time": "2023-04-17T20:35:18.701Z"
   },
   {
    "duration": 226,
    "start_time": "2023-04-17T20:36:05.557Z"
   },
   {
    "duration": 419,
    "start_time": "2023-04-17T20:37:12.938Z"
   },
   {
    "duration": 220,
    "start_time": "2023-04-17T20:37:25.541Z"
   },
   {
    "duration": 2759,
    "start_time": "2023-04-19T20:34:34.300Z"
   },
   {
    "duration": 7244,
    "start_time": "2023-04-19T20:34:37.063Z"
   },
   {
    "duration": 1532,
    "start_time": "2023-04-19T20:34:44.309Z"
   },
   {
    "duration": 1293,
    "start_time": "2023-04-19T20:34:45.844Z"
   },
   {
    "duration": 22,
    "start_time": "2023-04-19T20:34:47.139Z"
   },
   {
    "duration": 151,
    "start_time": "2023-04-19T20:34:47.163Z"
   },
   {
    "duration": 25,
    "start_time": "2023-04-19T20:34:47.316Z"
   },
   {
    "duration": 117,
    "start_time": "2023-04-19T20:34:47.343Z"
   },
   {
    "duration": 4,
    "start_time": "2023-04-19T20:34:47.462Z"
   },
   {
    "duration": 29,
    "start_time": "2023-04-19T20:34:47.488Z"
   },
   {
    "duration": 4,
    "start_time": "2023-04-19T20:34:47.519Z"
   },
   {
    "duration": 802,
    "start_time": "2023-04-19T20:34:47.525Z"
   },
   {
    "duration": 103,
    "start_time": "2023-04-19T20:34:48.329Z"
   },
   {
    "duration": 6,
    "start_time": "2023-04-19T20:34:48.434Z"
   },
   {
    "duration": 47,
    "start_time": "2023-04-19T20:34:48.442Z"
   },
   {
    "duration": 21,
    "start_time": "2023-04-19T20:34:48.491Z"
   },
   {
    "duration": 11,
    "start_time": "2023-04-19T20:34:48.514Z"
   },
   {
    "duration": 20,
    "start_time": "2023-04-19T20:34:48.527Z"
   },
   {
    "duration": 193,
    "start_time": "2023-04-19T20:34:48.549Z"
   },
   {
    "duration": 19,
    "start_time": "2023-04-19T20:34:48.744Z"
   },
   {
    "duration": 43,
    "start_time": "2023-04-19T20:34:48.765Z"
   },
   {
    "duration": 28,
    "start_time": "2023-04-19T20:34:48.810Z"
   },
   {
    "duration": 57,
    "start_time": "2023-04-19T20:34:48.840Z"
   },
   {
    "duration": 40,
    "start_time": "2023-04-19T20:34:48.900Z"
   },
   {
    "duration": 148,
    "start_time": "2023-04-19T20:34:48.942Z"
   },
   {
    "duration": 6,
    "start_time": "2023-04-19T20:34:49.092Z"
   },
   {
    "duration": 31,
    "start_time": "2023-04-19T20:34:49.100Z"
   },
   {
    "duration": 53,
    "start_time": "2023-04-19T20:34:49.136Z"
   },
   {
    "duration": 34,
    "start_time": "2023-04-19T20:34:49.191Z"
   },
   {
    "duration": 107,
    "start_time": "2023-04-19T20:34:49.227Z"
   },
   {
    "duration": 9,
    "start_time": "2023-04-19T20:34:49.336Z"
   },
   {
    "duration": 43,
    "start_time": "2023-04-19T20:34:49.347Z"
   },
   {
    "duration": 30,
    "start_time": "2023-04-19T20:34:49.392Z"
   },
   {
    "duration": 192,
    "start_time": "2023-04-19T20:34:49.423Z"
   },
   {
    "duration": 22,
    "start_time": "2023-04-19T20:34:49.618Z"
   },
   {
    "duration": 49,
    "start_time": "2023-04-19T20:34:49.642Z"
   },
   {
    "duration": 27,
    "start_time": "2023-04-19T20:34:49.692Z"
   },
   {
    "duration": 12,
    "start_time": "2023-04-19T20:34:49.721Z"
   },
   {
    "duration": 744,
    "start_time": "2023-04-19T20:34:49.735Z"
   },
   {
    "duration": 440,
    "start_time": "2023-04-19T20:34:50.486Z"
   },
   {
    "duration": 98,
    "start_time": "2023-04-19T20:34:50.928Z"
   },
   {
    "duration": 76,
    "start_time": "2023-04-19T20:34:51.028Z"
   },
   {
    "duration": 91,
    "start_time": "2023-04-19T20:34:51.107Z"
   },
   {
    "duration": 99,
    "start_time": "2023-04-19T20:34:51.200Z"
   },
   {
    "duration": 117,
    "start_time": "2023-04-19T20:34:51.301Z"
   },
   {
    "duration": 31,
    "start_time": "2023-04-19T20:34:51.421Z"
   },
   {
    "duration": 38,
    "start_time": "2023-04-19T20:34:51.454Z"
   },
   {
    "duration": 95,
    "start_time": "2023-04-19T20:34:51.494Z"
   },
   {
    "duration": 51,
    "start_time": "2023-04-19T20:34:51.592Z"
   },
   {
    "duration": 49,
    "start_time": "2023-04-19T20:34:51.646Z"
   },
   {
    "duration": 141,
    "start_time": "2023-04-19T20:34:51.698Z"
   },
   {
    "duration": 51,
    "start_time": "2023-04-19T20:34:51.841Z"
   },
   {
    "duration": 24,
    "start_time": "2023-04-19T20:34:51.894Z"
   },
   {
    "duration": 69,
    "start_time": "2023-04-19T20:34:51.920Z"
   },
   {
    "duration": 37,
    "start_time": "2023-04-19T20:34:51.991Z"
   },
   {
    "duration": 26,
    "start_time": "2023-04-19T20:34:52.030Z"
   },
   {
    "duration": 113,
    "start_time": "2023-04-19T20:34:52.058Z"
   },
   {
    "duration": 24,
    "start_time": "2023-04-19T20:34:52.173Z"
   },
   {
    "duration": 46,
    "start_time": "2023-04-19T20:34:52.200Z"
   },
   {
    "duration": 57,
    "start_time": "2023-04-19T20:34:52.248Z"
   },
   {
    "duration": 102,
    "start_time": "2023-04-19T20:34:52.308Z"
   },
   {
    "duration": 220,
    "start_time": "2023-04-19T20:34:52.412Z"
   },
   {
    "duration": 198,
    "start_time": "2023-04-19T20:34:52.635Z"
   },
   {
    "duration": 105,
    "start_time": "2023-04-19T20:34:52.835Z"
   },
   {
    "duration": 1000,
    "start_time": "2023-04-19T20:34:52.942Z"
   },
   {
    "duration": 720,
    "start_time": "2023-04-19T20:34:53.945Z"
   },
   {
    "duration": 67,
    "start_time": "2023-04-19T20:34:54.667Z"
   },
   {
    "duration": 30,
    "start_time": "2023-04-19T20:34:54.736Z"
   },
   {
    "duration": 11,
    "start_time": "2023-04-19T20:34:54.768Z"
   },
   {
    "duration": 36,
    "start_time": "2023-04-19T20:34:54.788Z"
   },
   {
    "duration": 25,
    "start_time": "2023-04-19T20:34:54.826Z"
   },
   {
    "duration": 53,
    "start_time": "2023-04-19T20:34:54.853Z"
   },
   {
    "duration": 25,
    "start_time": "2023-04-19T20:34:54.908Z"
   },
   {
    "duration": 47,
    "start_time": "2023-04-19T20:34:54.935Z"
   },
   {
    "duration": 34,
    "start_time": "2023-04-19T20:34:54.987Z"
   },
   {
    "duration": 25,
    "start_time": "2023-04-19T20:34:55.024Z"
   },
   {
    "duration": 425,
    "start_time": "2023-04-19T20:34:55.051Z"
   },
   {
    "duration": 12,
    "start_time": "2023-04-19T20:34:55.478Z"
   },
   {
    "duration": 91,
    "start_time": "2023-04-19T20:34:55.492Z"
   },
   {
    "duration": 196,
    "start_time": "2023-04-19T20:34:55.587Z"
   },
   {
    "duration": 123,
    "start_time": "2023-04-19T20:34:55.784Z"
   },
   {
    "duration": 200,
    "start_time": "2023-04-19T20:34:55.913Z"
   },
   {
    "duration": 4,
    "start_time": "2023-04-19T20:34:56.115Z"
   },
   {
    "duration": 12,
    "start_time": "2023-04-19T20:34:56.121Z"
   },
   {
    "duration": 20,
    "start_time": "2023-04-19T20:34:56.135Z"
   },
   {
    "duration": 4,
    "start_time": "2023-04-19T20:35:01.105Z"
   },
   {
    "duration": 124,
    "start_time": "2023-04-19T20:35:01.771Z"
   },
   {
    "duration": 3,
    "start_time": "2023-04-19T20:36:02.438Z"
   },
   {
    "duration": 21212,
    "start_time": "2023-04-19T20:36:03.083Z"
   },
   {
    "duration": 4,
    "start_time": "2023-04-19T20:36:51.885Z"
   },
   {
    "duration": 20872,
    "start_time": "2023-04-19T20:36:58.323Z"
   },
   {
    "duration": 5,
    "start_time": "2023-04-19T20:40:22.939Z"
   },
   {
    "duration": 1262275,
    "start_time": "2023-04-19T20:40:26.220Z"
   },
   {
    "duration": 100,
    "start_time": "2023-04-19T21:01:28.498Z"
   },
   {
    "duration": 0,
    "start_time": "2023-04-19T21:01:28.599Z"
   },
   {
    "duration": 1,
    "start_time": "2023-04-19T21:01:28.600Z"
   },
   {
    "duration": 0,
    "start_time": "2023-04-19T21:01:28.602Z"
   },
   {
    "duration": 3,
    "start_time": "2023-04-19T21:06:55.661Z"
   },
   {
    "duration": 53381,
    "start_time": "2023-04-19T21:06:57.553Z"
   },
   {
    "duration": 9,
    "start_time": "2023-04-19T21:07:50.936Z"
   },
   {
    "duration": 0,
    "start_time": "2023-04-19T21:07:50.947Z"
   },
   {
    "duration": 5,
    "start_time": "2023-04-19T21:09:13.179Z"
   },
   {
    "duration": 10,
    "start_time": "2023-04-19T21:09:22.017Z"
   },
   {
    "duration": 4,
    "start_time": "2023-04-19T21:09:49.380Z"
   },
   {
    "duration": 3,
    "start_time": "2023-04-19T21:09:57.155Z"
   },
   {
    "duration": 8,
    "start_time": "2023-04-19T21:09:58.801Z"
   },
   {
    "duration": 4,
    "start_time": "2023-04-19T21:11:41.006Z"
   },
   {
    "duration": 4,
    "start_time": "2023-04-19T21:12:00.582Z"
   },
   {
    "duration": 59403,
    "start_time": "2023-04-19T21:12:01.194Z"
   },
   {
    "duration": 4,
    "start_time": "2023-04-19T21:13:18.853Z"
   },
   {
    "duration": 56400,
    "start_time": "2023-04-19T21:13:22.579Z"
   },
   {
    "duration": 2520,
    "start_time": "2023-04-21T18:51:44.621Z"
   },
   {
    "duration": 6056,
    "start_time": "2023-04-21T18:51:47.143Z"
   },
   {
    "duration": 1418,
    "start_time": "2023-04-21T18:51:53.201Z"
   },
   {
    "duration": 1023,
    "start_time": "2023-04-21T18:51:54.624Z"
   },
   {
    "duration": 18,
    "start_time": "2023-04-21T18:51:55.648Z"
   },
   {
    "duration": 142,
    "start_time": "2023-04-21T18:51:55.667Z"
   },
   {
    "duration": 29,
    "start_time": "2023-04-21T18:51:55.811Z"
   },
   {
    "duration": 92,
    "start_time": "2023-04-21T18:51:55.842Z"
   },
   {
    "duration": 3,
    "start_time": "2023-04-21T18:51:55.936Z"
   },
   {
    "duration": 23,
    "start_time": "2023-04-21T18:51:55.941Z"
   },
   {
    "duration": 3,
    "start_time": "2023-04-21T18:51:55.966Z"
   },
   {
    "duration": 697,
    "start_time": "2023-04-21T18:51:55.971Z"
   },
   {
    "duration": 101,
    "start_time": "2023-04-21T18:52:04.370Z"
   },
   {
    "duration": 13,
    "start_time": "2023-04-21T18:52:28.236Z"
   },
   {
    "duration": 45,
    "start_time": "2023-04-21T18:53:31.124Z"
   },
   {
    "duration": 83,
    "start_time": "2023-04-21T18:53:56.555Z"
   },
   {
    "duration": 27,
    "start_time": "2023-04-21T18:54:26.808Z"
   },
   {
    "duration": 78,
    "start_time": "2023-04-21T18:54:29.683Z"
   },
   {
    "duration": 183,
    "start_time": "2023-04-21T19:00:37.254Z"
   },
   {
    "duration": 234,
    "start_time": "2023-04-21T19:01:14.628Z"
   },
   {
    "duration": 2,
    "start_time": "2023-04-21T19:03:07.785Z"
   },
   {
    "duration": 65,
    "start_time": "2023-04-21T19:03:11.836Z"
   },
   {
    "duration": 50,
    "start_time": "2023-04-21T19:03:12.583Z"
   },
   {
    "duration": 23,
    "start_time": "2023-04-21T19:03:13.348Z"
   },
   {
    "duration": 3,
    "start_time": "2023-04-21T19:03:14.402Z"
   },
   {
    "duration": 10,
    "start_time": "2023-04-21T19:04:25.133Z"
   },
   {
    "duration": 3,
    "start_time": "2023-04-21T19:04:25.887Z"
   },
   {
    "duration": 51,
    "start_time": "2023-04-21T19:04:37.811Z"
   },
   {
    "duration": 532,
    "start_time": "2023-04-21T19:05:31.471Z"
   },
   {
    "duration": 520,
    "start_time": "2023-04-21T19:05:42.982Z"
   },
   {
    "duration": 2739,
    "start_time": "2023-04-22T07:40:46.432Z"
   },
   {
    "duration": 8837,
    "start_time": "2023-04-22T07:40:49.174Z"
   },
   {
    "duration": 1711,
    "start_time": "2023-04-22T07:40:58.013Z"
   },
   {
    "duration": 1387,
    "start_time": "2023-04-22T07:40:59.731Z"
   },
   {
    "duration": 30,
    "start_time": "2023-04-22T07:41:01.122Z"
   },
   {
    "duration": 220,
    "start_time": "2023-04-22T07:41:01.153Z"
   },
   {
    "duration": 113,
    "start_time": "2023-04-22T07:41:01.375Z"
   },
   {
    "duration": 184,
    "start_time": "2023-04-22T07:41:01.489Z"
   },
   {
    "duration": 39,
    "start_time": "2023-04-22T07:41:01.675Z"
   },
   {
    "duration": 92,
    "start_time": "2023-04-22T07:41:01.716Z"
   },
   {
    "duration": 78,
    "start_time": "2023-04-22T07:41:01.810Z"
   },
   {
    "duration": 991,
    "start_time": "2023-04-22T07:41:01.889Z"
   },
   {
    "duration": 14,
    "start_time": "2023-04-22T07:41:02.882Z"
   },
   {
    "duration": 48,
    "start_time": "2023-04-22T07:41:02.899Z"
   },
   {
    "duration": 113,
    "start_time": "2023-04-22T07:41:02.949Z"
   },
   {
    "duration": 223,
    "start_time": "2023-04-22T07:41:03.064Z"
   },
   {
    "duration": 253,
    "start_time": "2023-04-22T07:41:03.288Z"
   },
   {
    "duration": 7,
    "start_time": "2023-04-22T07:41:21.713Z"
   },
   {
    "duration": 73,
    "start_time": "2023-04-22T07:41:30.574Z"
   },
   {
    "duration": 60,
    "start_time": "2023-04-22T07:41:32.278Z"
   },
   {
    "duration": 12,
    "start_time": "2023-04-22T07:41:38.809Z"
   },
   {
    "duration": 3,
    "start_time": "2023-04-22T07:41:39.368Z"
   },
   {
    "duration": 68,
    "start_time": "2023-04-22T07:41:42.797Z"
   },
   {
    "duration": 636,
    "start_time": "2023-04-22T07:41:45.730Z"
   },
   {
    "duration": 20,
    "start_time": "2023-04-22T07:42:07.540Z"
   },
   {
    "duration": 25,
    "start_time": "2023-04-22T07:42:30.417Z"
   },
   {
    "duration": 8,
    "start_time": "2023-04-22T07:42:50.606Z"
   },
   {
    "duration": 29,
    "start_time": "2023-04-22T07:42:52.410Z"
   },
   {
    "duration": 149,
    "start_time": "2023-04-22T07:42:58.972Z"
   },
   {
    "duration": 20,
    "start_time": "2023-04-22T07:43:54.630Z"
   },
   {
    "duration": 24,
    "start_time": "2023-04-22T07:45:17.869Z"
   },
   {
    "duration": 22,
    "start_time": "2023-04-22T07:45:43.130Z"
   },
   {
    "duration": 27,
    "start_time": "2023-04-22T07:46:22.393Z"
   },
   {
    "duration": 14,
    "start_time": "2023-04-22T07:47:11.550Z"
   },
   {
    "duration": 19,
    "start_time": "2023-04-22T07:47:31.131Z"
   },
   {
    "duration": 58,
    "start_time": "2023-04-22T07:48:13.518Z"
   },
   {
    "duration": 14,
    "start_time": "2023-04-22T07:48:48.830Z"
   },
   {
    "duration": 148,
    "start_time": "2023-04-22T07:48:59.889Z"
   },
   {
    "duration": 19,
    "start_time": "2023-04-22T07:49:13.660Z"
   },
   {
    "duration": 16,
    "start_time": "2023-04-22T07:50:27.729Z"
   },
   {
    "duration": 22,
    "start_time": "2023-04-22T07:50:34.423Z"
   },
   {
    "duration": 10,
    "start_time": "2023-04-22T07:51:02.065Z"
   },
   {
    "duration": 634,
    "start_time": "2023-04-22T07:51:03.226Z"
   },
   {
    "duration": 259,
    "start_time": "2023-04-22T07:51:35.396Z"
   },
   {
    "duration": 68,
    "start_time": "2023-04-22T07:51:48.689Z"
   },
   {
    "duration": 62,
    "start_time": "2023-04-22T07:52:22.366Z"
   },
   {
    "duration": 41,
    "start_time": "2023-04-22T07:53:53.751Z"
   },
   {
    "duration": 27,
    "start_time": "2023-04-22T07:53:54.035Z"
   },
   {
    "duration": 17,
    "start_time": "2023-04-22T07:54:22.465Z"
   },
   {
    "duration": 15,
    "start_time": "2023-04-22T07:54:36.605Z"
   },
   {
    "duration": 28,
    "start_time": "2023-04-22T07:54:43.202Z"
   },
   {
    "duration": 15,
    "start_time": "2023-04-22T07:54:54.236Z"
   },
   {
    "duration": 77,
    "start_time": "2023-04-22T07:54:54.454Z"
   },
   {
    "duration": 56,
    "start_time": "2023-04-22T07:54:58.862Z"
   },
   {
    "duration": 28,
    "start_time": "2023-04-22T07:55:13.383Z"
   },
   {
    "duration": 31,
    "start_time": "2023-04-22T07:55:22.281Z"
   },
   {
    "duration": 13,
    "start_time": "2023-04-22T07:55:40.668Z"
   },
   {
    "duration": 14,
    "start_time": "2023-04-22T07:55:41.314Z"
   },
   {
    "duration": 53,
    "start_time": "2023-04-22T07:55:42.214Z"
   },
   {
    "duration": 14,
    "start_time": "2023-04-22T07:55:49.366Z"
   },
   {
    "duration": 14,
    "start_time": "2023-04-22T07:56:08.116Z"
   },
   {
    "duration": 57,
    "start_time": "2023-04-22T07:56:12.995Z"
   },
   {
    "duration": 10,
    "start_time": "2023-04-22T07:57:47.595Z"
   },
   {
    "duration": 20,
    "start_time": "2023-04-22T07:57:53.388Z"
   },
   {
    "duration": 20,
    "start_time": "2023-04-22T07:57:53.557Z"
   },
   {
    "duration": 20,
    "start_time": "2023-04-22T07:57:53.782Z"
   },
   {
    "duration": 21,
    "start_time": "2023-04-22T07:57:54.096Z"
   },
   {
    "duration": 26,
    "start_time": "2023-04-22T07:57:57.407Z"
   },
   {
    "duration": 19,
    "start_time": "2023-04-22T07:57:58.392Z"
   },
   {
    "duration": 2,
    "start_time": "2023-04-22T07:58:12.312Z"
   },
   {
    "duration": 480,
    "start_time": "2023-04-22T07:58:13.174Z"
   },
   {
    "duration": 9,
    "start_time": "2023-04-22T07:58:15.110Z"
   },
   {
    "duration": 70,
    "start_time": "2023-04-22T07:58:16.007Z"
   },
   {
    "duration": 122,
    "start_time": "2023-04-22T07:58:19.070Z"
   },
   {
    "duration": 112,
    "start_time": "2023-04-22T07:58:20.000Z"
   },
   {
    "duration": 176,
    "start_time": "2023-04-22T07:58:22.061Z"
   },
   {
    "duration": 3,
    "start_time": "2023-04-22T07:59:55.539Z"
   },
   {
    "duration": 4,
    "start_time": "2023-04-22T08:07:20.621Z"
   },
   {
    "duration": 3,
    "start_time": "2023-04-22T08:07:36.793Z"
   },
   {
    "duration": 114,
    "start_time": "2023-04-22T08:07:37.764Z"
   },
   {
    "duration": 9,
    "start_time": "2023-04-22T08:12:55.743Z"
   },
   {
    "duration": 2359,
    "start_time": "2023-04-22T08:22:18.260Z"
   },
   {
    "duration": 2387,
    "start_time": "2023-04-22T08:22:20.621Z"
   },
   {
    "duration": 6,
    "start_time": "2023-04-22T08:22:23.009Z"
   },
   {
    "duration": 858,
    "start_time": "2023-04-22T08:22:23.017Z"
   },
   {
    "duration": 15,
    "start_time": "2023-04-22T08:22:23.876Z"
   },
   {
    "duration": 158,
    "start_time": "2023-04-22T08:22:23.893Z"
   },
   {
    "duration": 20,
    "start_time": "2023-04-22T08:22:24.053Z"
   },
   {
    "duration": 125,
    "start_time": "2023-04-22T08:22:24.074Z"
   },
   {
    "duration": 14,
    "start_time": "2023-04-22T08:22:24.201Z"
   },
   {
    "duration": 59,
    "start_time": "2023-04-22T08:22:24.218Z"
   },
   {
    "duration": 68,
    "start_time": "2023-04-22T08:22:24.279Z"
   },
   {
    "duration": 797,
    "start_time": "2023-04-22T08:22:24.348Z"
   },
   {
    "duration": 14,
    "start_time": "2023-04-22T08:22:25.147Z"
   },
   {
    "duration": 54,
    "start_time": "2023-04-22T08:22:25.163Z"
   },
   {
    "duration": 108,
    "start_time": "2023-04-22T08:22:25.219Z"
   },
   {
    "duration": 179,
    "start_time": "2023-04-22T08:22:25.329Z"
   },
   {
    "duration": 210,
    "start_time": "2023-04-22T08:22:25.510Z"
   },
   {
    "duration": 3,
    "start_time": "2023-04-22T08:22:25.722Z"
   },
   {
    "duration": 75,
    "start_time": "2023-04-22T08:22:25.726Z"
   },
   {
    "duration": 52,
    "start_time": "2023-04-22T08:22:25.803Z"
   },
   {
    "duration": 10,
    "start_time": "2023-04-22T08:22:25.857Z"
   },
   {
    "duration": 10,
    "start_time": "2023-04-22T08:22:25.869Z"
   },
   {
    "duration": 80,
    "start_time": "2023-04-22T08:22:25.880Z"
   },
   {
    "duration": 731,
    "start_time": "2023-04-22T08:22:25.961Z"
   },
   {
    "duration": 25,
    "start_time": "2023-04-22T08:22:26.694Z"
   },
   {
    "duration": 39,
    "start_time": "2023-04-22T08:22:26.721Z"
   },
   {
    "duration": 10,
    "start_time": "2023-04-22T08:22:26.762Z"
   },
   {
    "duration": 57,
    "start_time": "2023-04-22T08:22:26.777Z"
   },
   {
    "duration": 152,
    "start_time": "2023-04-22T08:22:26.836Z"
   },
   {
    "duration": 17,
    "start_time": "2023-04-22T08:22:26.990Z"
   },
   {
    "duration": 24,
    "start_time": "2023-04-22T08:22:27.018Z"
   },
   {
    "duration": 28,
    "start_time": "2023-04-22T08:22:27.045Z"
   },
   {
    "duration": 14,
    "start_time": "2023-04-22T08:22:27.075Z"
   },
   {
    "duration": 45,
    "start_time": "2023-04-22T08:22:27.091Z"
   },
   {
    "duration": 70,
    "start_time": "2023-04-22T08:22:27.137Z"
   },
   {
    "duration": 27,
    "start_time": "2023-04-22T08:22:27.209Z"
   },
   {
    "duration": 174,
    "start_time": "2023-04-22T08:22:27.238Z"
   },
   {
    "duration": 20,
    "start_time": "2023-04-22T08:22:27.417Z"
   },
   {
    "duration": 24,
    "start_time": "2023-04-22T08:22:27.439Z"
   },
   {
    "duration": 53,
    "start_time": "2023-04-22T08:22:27.465Z"
   },
   {
    "duration": 15,
    "start_time": "2023-04-22T08:22:27.519Z"
   },
   {
    "duration": 617,
    "start_time": "2023-04-22T08:22:27.536Z"
   },
   {
    "duration": 255,
    "start_time": "2023-04-22T08:22:28.154Z"
   },
   {
    "duration": 58,
    "start_time": "2023-04-22T08:22:28.411Z"
   },
   {
    "duration": 58,
    "start_time": "2023-04-22T08:22:28.471Z"
   },
   {
    "duration": 41,
    "start_time": "2023-04-22T08:22:28.530Z"
   },
   {
    "duration": 47,
    "start_time": "2023-04-22T08:22:28.573Z"
   },
   {
    "duration": 17,
    "start_time": "2023-04-22T08:22:28.621Z"
   },
   {
    "duration": 38,
    "start_time": "2023-04-22T08:22:28.641Z"
   },
   {
    "duration": 51,
    "start_time": "2023-04-22T08:22:28.680Z"
   },
   {
    "duration": 28,
    "start_time": "2023-04-22T08:22:28.733Z"
   },
   {
    "duration": 68,
    "start_time": "2023-04-22T08:22:28.762Z"
   },
   {
    "duration": 30,
    "start_time": "2023-04-22T08:22:28.831Z"
   },
   {
    "duration": 33,
    "start_time": "2023-04-22T08:22:28.863Z"
   },
   {
    "duration": 30,
    "start_time": "2023-04-22T08:22:28.898Z"
   },
   {
    "duration": 25,
    "start_time": "2023-04-22T08:22:28.929Z"
   },
   {
    "duration": 63,
    "start_time": "2023-04-22T08:22:28.956Z"
   },
   {
    "duration": 26,
    "start_time": "2023-04-22T08:22:29.021Z"
   },
   {
    "duration": 25,
    "start_time": "2023-04-22T08:22:29.048Z"
   },
   {
    "duration": 75,
    "start_time": "2023-04-22T08:22:29.075Z"
   },
   {
    "duration": 16,
    "start_time": "2023-04-22T08:22:29.152Z"
   },
   {
    "duration": 30,
    "start_time": "2023-04-22T08:22:29.170Z"
   },
   {
    "duration": 29,
    "start_time": "2023-04-22T08:22:29.202Z"
   },
   {
    "duration": 26,
    "start_time": "2023-04-22T08:22:29.233Z"
   },
   {
    "duration": 25,
    "start_time": "2023-04-22T08:22:29.261Z"
   },
   {
    "duration": 31,
    "start_time": "2023-04-22T08:22:29.287Z"
   },
   {
    "duration": 25,
    "start_time": "2023-04-22T08:22:29.320Z"
   },
   {
    "duration": 8,
    "start_time": "2023-04-22T08:22:29.346Z"
   },
   {
    "duration": 484,
    "start_time": "2023-04-22T08:22:29.355Z"
   },
   {
    "duration": 10,
    "start_time": "2023-04-22T08:22:29.841Z"
   },
   {
    "duration": 70,
    "start_time": "2023-04-22T08:22:29.853Z"
   },
   {
    "duration": 123,
    "start_time": "2023-04-22T08:22:29.924Z"
   },
   {
    "duration": 117,
    "start_time": "2023-04-22T08:22:30.049Z"
   },
   {
    "duration": 159,
    "start_time": "2023-04-22T08:22:30.167Z"
   },
   {
    "duration": 4,
    "start_time": "2023-04-22T08:22:30.327Z"
   },
   {
    "duration": 3,
    "start_time": "2023-04-22T08:22:34.974Z"
   },
   {
    "duration": 4,
    "start_time": "2023-04-22T08:22:37.008Z"
   },
   {
    "duration": 3,
    "start_time": "2023-04-22T08:22:38.879Z"
   },
   {
    "duration": 20145,
    "start_time": "2023-04-22T08:22:39.974Z"
   },
   {
    "duration": 5,
    "start_time": "2023-04-22T08:26:34.848Z"
   },
   {
    "duration": 2,
    "start_time": "2023-04-22T08:26:36.579Z"
   },
   {
    "duration": 20362,
    "start_time": "2023-04-22T08:26:37.657Z"
   },
   {
    "duration": 2,
    "start_time": "2023-04-22T08:27:24.841Z"
   },
   {
    "duration": 4,
    "start_time": "2023-04-22T08:27:25.963Z"
   },
   {
    "duration": 3,
    "start_time": "2023-04-22T08:27:29.535Z"
   },
   {
    "duration": 20196,
    "start_time": "2023-04-22T08:27:30.644Z"
   },
   {
    "duration": 10,
    "start_time": "2023-04-22T08:28:30.477Z"
   },
   {
    "duration": 9,
    "start_time": "2023-04-22T08:28:40.721Z"
   },
   {
    "duration": 13,
    "start_time": "2023-04-22T08:29:03.177Z"
   },
   {
    "duration": 5,
    "start_time": "2023-04-22T08:29:39.915Z"
   },
   {
    "duration": 3,
    "start_time": "2023-04-22T08:29:41.811Z"
   },
   {
    "duration": 20239,
    "start_time": "2023-04-22T08:29:42.680Z"
   },
   {
    "duration": 26,
    "start_time": "2023-04-22T08:30:18.925Z"
   },
   {
    "duration": 10,
    "start_time": "2023-04-22T08:32:51.409Z"
   },
   {
    "duration": 2,
    "start_time": "2023-04-22T08:32:55.921Z"
   },
   {
    "duration": 4,
    "start_time": "2023-04-22T08:32:56.803Z"
   },
   {
    "duration": 10,
    "start_time": "2023-04-22T08:33:24.245Z"
   },
   {
    "duration": 2540,
    "start_time": "2023-04-22T08:35:19.785Z"
   },
   {
    "duration": 2332,
    "start_time": "2023-04-22T08:35:22.327Z"
   },
   {
    "duration": 1288,
    "start_time": "2023-04-22T08:35:24.661Z"
   },
   {
    "duration": 867,
    "start_time": "2023-04-22T08:35:25.952Z"
   },
   {
    "duration": 17,
    "start_time": "2023-04-22T08:35:26.821Z"
   },
   {
    "duration": 157,
    "start_time": "2023-04-22T08:35:26.840Z"
   },
   {
    "duration": 39,
    "start_time": "2023-04-22T08:35:26.999Z"
   },
   {
    "duration": 127,
    "start_time": "2023-04-22T08:35:27.040Z"
   },
   {
    "duration": 34,
    "start_time": "2023-04-22T08:35:27.169Z"
   },
   {
    "duration": 51,
    "start_time": "2023-04-22T08:35:27.207Z"
   },
   {
    "duration": 67,
    "start_time": "2023-04-22T08:35:27.260Z"
   },
   {
    "duration": 769,
    "start_time": "2023-04-22T08:35:27.329Z"
   },
   {
    "duration": 27,
    "start_time": "2023-04-22T08:35:28.100Z"
   },
   {
    "duration": 58,
    "start_time": "2023-04-22T08:35:28.129Z"
   },
   {
    "duration": 115,
    "start_time": "2023-04-22T08:35:28.190Z"
   },
   {
    "duration": 205,
    "start_time": "2023-04-22T08:35:28.307Z"
   },
   {
    "duration": 182,
    "start_time": "2023-04-22T08:35:28.514Z"
   },
   {
    "duration": 3,
    "start_time": "2023-04-22T08:35:28.698Z"
   },
   {
    "duration": 87,
    "start_time": "2023-04-22T08:35:28.702Z"
   },
   {
    "duration": 50,
    "start_time": "2023-04-22T08:35:28.791Z"
   },
   {
    "duration": 11,
    "start_time": "2023-04-22T08:35:28.843Z"
   },
   {
    "duration": 18,
    "start_time": "2023-04-22T08:35:28.856Z"
   },
   {
    "duration": 71,
    "start_time": "2023-04-22T08:35:28.876Z"
   },
   {
    "duration": 628,
    "start_time": "2023-04-22T08:35:28.949Z"
   },
   {
    "duration": 18,
    "start_time": "2023-04-22T08:35:29.579Z"
   },
   {
    "duration": 32,
    "start_time": "2023-04-22T08:35:29.599Z"
   },
   {
    "duration": 40,
    "start_time": "2023-04-22T08:35:29.633Z"
   },
   {
    "duration": 45,
    "start_time": "2023-04-22T08:35:29.677Z"
   },
   {
    "duration": 161,
    "start_time": "2023-04-22T08:35:29.724Z"
   },
   {
    "duration": 32,
    "start_time": "2023-04-22T08:35:29.887Z"
   },
   {
    "duration": 21,
    "start_time": "2023-04-22T08:35:29.921Z"
   },
   {
    "duration": 23,
    "start_time": "2023-04-22T08:35:29.944Z"
   },
   {
    "duration": 14,
    "start_time": "2023-04-22T08:35:29.969Z"
   },
   {
    "duration": 56,
    "start_time": "2023-04-22T08:35:29.985Z"
   },
   {
    "duration": 75,
    "start_time": "2023-04-22T08:35:30.043Z"
   },
   {
    "duration": 75,
    "start_time": "2023-04-22T08:35:30.120Z"
   },
   {
    "duration": 186,
    "start_time": "2023-04-22T08:35:30.197Z"
   },
   {
    "duration": 22,
    "start_time": "2023-04-22T08:35:30.385Z"
   },
   {
    "duration": 51,
    "start_time": "2023-04-22T08:35:30.418Z"
   },
   {
    "duration": 54,
    "start_time": "2023-04-22T08:35:30.471Z"
   },
   {
    "duration": 84,
    "start_time": "2023-04-22T08:35:30.527Z"
   },
   {
    "duration": 742,
    "start_time": "2023-04-22T08:35:30.613Z"
   },
   {
    "duration": 257,
    "start_time": "2023-04-22T08:35:31.357Z"
   },
   {
    "duration": 55,
    "start_time": "2023-04-22T08:35:31.618Z"
   },
   {
    "duration": 132,
    "start_time": "2023-04-22T08:35:31.674Z"
   },
   {
    "duration": 43,
    "start_time": "2023-04-22T08:35:31.808Z"
   },
   {
    "duration": 44,
    "start_time": "2023-04-22T08:35:31.853Z"
   },
   {
    "duration": 17,
    "start_time": "2023-04-22T08:35:31.899Z"
   },
   {
    "duration": 56,
    "start_time": "2023-04-22T08:35:31.919Z"
   },
   {
    "duration": 37,
    "start_time": "2023-04-22T08:35:31.977Z"
   },
   {
    "duration": 14,
    "start_time": "2023-04-22T08:35:32.015Z"
   },
   {
    "duration": 69,
    "start_time": "2023-04-22T08:35:32.031Z"
   },
   {
    "duration": 32,
    "start_time": "2023-04-22T08:35:32.102Z"
   },
   {
    "duration": 31,
    "start_time": "2023-04-22T08:35:32.135Z"
   },
   {
    "duration": 13,
    "start_time": "2023-04-22T08:35:32.168Z"
   },
   {
    "duration": 35,
    "start_time": "2023-04-22T08:35:32.183Z"
   },
   {
    "duration": 70,
    "start_time": "2023-04-22T08:35:32.220Z"
   },
   {
    "duration": 22,
    "start_time": "2023-04-22T08:35:32.292Z"
   },
   {
    "duration": 33,
    "start_time": "2023-04-22T08:35:32.315Z"
   },
   {
    "duration": 79,
    "start_time": "2023-04-22T08:35:32.350Z"
   },
   {
    "duration": 11,
    "start_time": "2023-04-22T08:35:32.431Z"
   },
   {
    "duration": 41,
    "start_time": "2023-04-22T08:35:32.444Z"
   },
   {
    "duration": 45,
    "start_time": "2023-04-22T08:35:32.488Z"
   },
   {
    "duration": 40,
    "start_time": "2023-04-22T08:35:32.536Z"
   },
   {
    "duration": 40,
    "start_time": "2023-04-22T08:35:32.579Z"
   },
   {
    "duration": 56,
    "start_time": "2023-04-22T08:35:32.621Z"
   },
   {
    "duration": 36,
    "start_time": "2023-04-22T08:35:32.680Z"
   },
   {
    "duration": 18,
    "start_time": "2023-04-22T08:35:32.718Z"
   },
   {
    "duration": 465,
    "start_time": "2023-04-22T08:35:32.738Z"
   },
   {
    "duration": 16,
    "start_time": "2023-04-22T08:35:33.205Z"
   },
   {
    "duration": 66,
    "start_time": "2023-04-22T08:35:33.223Z"
   },
   {
    "duration": 119,
    "start_time": "2023-04-22T08:35:33.291Z"
   },
   {
    "duration": 120,
    "start_time": "2023-04-22T08:35:33.412Z"
   },
   {
    "duration": 183,
    "start_time": "2023-04-22T08:35:33.535Z"
   },
   {
    "duration": 3,
    "start_time": "2023-04-22T08:35:33.720Z"
   },
   {
    "duration": 34,
    "start_time": "2023-04-22T08:35:33.725Z"
   },
   {
    "duration": 11,
    "start_time": "2023-04-22T08:35:33.761Z"
   },
   {
    "duration": 13,
    "start_time": "2023-04-22T08:35:33.773Z"
   },
   {
    "duration": 20237,
    "start_time": "2023-04-22T08:35:33.787Z"
   },
   {
    "duration": 0,
    "start_time": "2023-04-22T08:35:54.273Z"
   },
   {
    "duration": 0,
    "start_time": "2023-04-22T08:35:54.274Z"
   },
   {
    "duration": 0,
    "start_time": "2023-04-22T08:35:54.275Z"
   },
   {
    "duration": 0,
    "start_time": "2023-04-22T08:35:54.276Z"
   },
   {
    "duration": 0,
    "start_time": "2023-04-22T08:35:54.277Z"
   },
   {
    "duration": 0,
    "start_time": "2023-04-22T08:35:54.278Z"
   },
   {
    "duration": 0,
    "start_time": "2023-04-22T08:35:54.279Z"
   },
   {
    "duration": 29,
    "start_time": "2023-04-22T08:36:01.061Z"
   },
   {
    "duration": 17,
    "start_time": "2023-04-22T08:36:29.543Z"
   },
   {
    "duration": 52,
    "start_time": "2023-04-22T08:37:18.097Z"
   },
   {
    "duration": 13,
    "start_time": "2023-04-22T08:37:26.192Z"
   },
   {
    "duration": 3,
    "start_time": "2023-04-22T08:37:52.844Z"
   },
   {
    "duration": 1555326,
    "start_time": "2023-04-22T08:37:57.004Z"
   },
   {
    "duration": 3,
    "start_time": "2023-04-22T09:03:52.331Z"
   },
   {
    "duration": 51745,
    "start_time": "2023-04-22T09:03:52.336Z"
   },
   {
    "duration": 3,
    "start_time": "2023-04-22T09:04:44.084Z"
   },
   {
    "duration": 25,
    "start_time": "2023-04-22T09:04:44.089Z"
   },
   {
    "duration": 34,
    "start_time": "2023-04-22T09:35:31.513Z"
   },
   {
    "duration": 30,
    "start_time": "2023-04-22T09:35:47.725Z"
   },
   {
    "duration": 5,
    "start_time": "2023-04-22T09:36:30.308Z"
   },
   {
    "duration": 2396,
    "start_time": "2023-04-24T12:53:37.459Z"
   },
   {
    "duration": 6718,
    "start_time": "2023-04-24T12:53:39.857Z"
   },
   {
    "duration": 1366,
    "start_time": "2023-04-24T12:53:46.577Z"
   },
   {
    "duration": 2925,
    "start_time": "2023-04-24T12:53:47.945Z"
   },
   {
    "duration": 17,
    "start_time": "2023-04-24T12:53:50.872Z"
   },
   {
    "duration": 119,
    "start_time": "2023-04-24T12:53:50.890Z"
   },
   {
    "duration": 31,
    "start_time": "2023-04-24T12:53:51.012Z"
   },
   {
    "duration": 110,
    "start_time": "2023-04-24T12:53:51.044Z"
   },
   {
    "duration": 3,
    "start_time": "2023-04-24T12:53:51.156Z"
   },
   {
    "duration": 55,
    "start_time": "2023-04-24T12:53:51.162Z"
   },
   {
    "duration": 26,
    "start_time": "2023-04-24T12:53:51.219Z"
   },
   {
    "duration": 767,
    "start_time": "2023-04-24T12:53:51.247Z"
   },
   {
    "duration": 17,
    "start_time": "2023-04-24T12:53:52.017Z"
   },
   {
    "duration": 30,
    "start_time": "2023-04-24T12:53:52.055Z"
   },
   {
    "duration": 97,
    "start_time": "2023-04-24T12:53:52.087Z"
   },
   {
    "duration": 203,
    "start_time": "2023-04-24T12:53:52.187Z"
   },
   {
    "duration": 232,
    "start_time": "2023-04-24T12:53:52.392Z"
   },
   {
    "duration": 3,
    "start_time": "2023-04-24T12:53:52.626Z"
   },
   {
    "duration": 78,
    "start_time": "2023-04-24T12:53:52.631Z"
   },
   {
    "duration": 59,
    "start_time": "2023-04-24T12:53:52.711Z"
   },
   {
    "duration": 11,
    "start_time": "2023-04-24T12:53:52.772Z"
   },
   {
    "duration": 9,
    "start_time": "2023-04-24T12:53:52.785Z"
   },
   {
    "duration": 68,
    "start_time": "2023-04-24T12:53:52.796Z"
   },
   {
    "duration": 592,
    "start_time": "2023-04-24T12:53:52.866Z"
   },
   {
    "duration": 19,
    "start_time": "2023-04-24T12:53:53.460Z"
   },
   {
    "duration": 19,
    "start_time": "2023-04-24T12:53:53.480Z"
   },
   {
    "duration": 10,
    "start_time": "2023-04-24T12:53:53.501Z"
   },
   {
    "duration": 44,
    "start_time": "2023-04-24T12:53:53.513Z"
   },
   {
    "duration": 212,
    "start_time": "2023-04-24T12:53:53.560Z"
   },
   {
    "duration": 20,
    "start_time": "2023-04-24T12:53:53.775Z"
   },
   {
    "duration": 21,
    "start_time": "2023-04-24T12:53:53.797Z"
   },
   {
    "duration": 46,
    "start_time": "2023-04-24T12:53:53.820Z"
   },
   {
    "duration": 18,
    "start_time": "2023-04-24T12:53:53.868Z"
   },
   {
    "duration": 36,
    "start_time": "2023-04-24T12:53:53.889Z"
   },
   {
    "duration": 83,
    "start_time": "2023-04-24T12:53:53.927Z"
   },
   {
    "duration": 19,
    "start_time": "2023-04-24T12:53:54.013Z"
   },
   {
    "duration": 244,
    "start_time": "2023-04-24T12:53:54.035Z"
   },
   {
    "duration": 23,
    "start_time": "2023-04-24T12:53:54.281Z"
   },
   {
    "duration": 19,
    "start_time": "2023-04-24T12:53:54.305Z"
   },
   {
    "duration": 47,
    "start_time": "2023-04-24T12:53:54.326Z"
   },
   {
    "duration": 10,
    "start_time": "2023-04-24T12:53:54.378Z"
   },
   {
    "duration": 677,
    "start_time": "2023-04-24T12:53:54.389Z"
   },
   {
    "duration": 250,
    "start_time": "2023-04-24T12:53:55.068Z"
   },
   {
    "duration": 53,
    "start_time": "2023-04-24T12:53:55.320Z"
   },
   {
    "duration": 49,
    "start_time": "2023-04-24T12:53:55.374Z"
   },
   {
    "duration": 64,
    "start_time": "2023-04-24T12:53:55.426Z"
   },
   {
    "duration": 27,
    "start_time": "2023-04-24T12:53:55.491Z"
   },
   {
    "duration": 15,
    "start_time": "2023-04-24T12:53:55.520Z"
   },
   {
    "duration": 35,
    "start_time": "2023-04-24T12:53:55.536Z"
   },
   {
    "duration": 23,
    "start_time": "2023-04-24T12:53:55.573Z"
   },
   {
    "duration": 12,
    "start_time": "2023-04-24T12:53:55.598Z"
   },
   {
    "duration": 63,
    "start_time": "2023-04-24T12:53:55.612Z"
   },
   {
    "duration": 33,
    "start_time": "2023-04-24T12:53:55.677Z"
   },
   {
    "duration": 48,
    "start_time": "2023-04-24T12:53:55.712Z"
   },
   {
    "duration": 13,
    "start_time": "2023-04-24T12:53:55.762Z"
   },
   {
    "duration": 32,
    "start_time": "2023-04-24T12:53:55.776Z"
   },
   {
    "duration": 49,
    "start_time": "2023-04-24T12:53:55.810Z"
   },
   {
    "duration": 26,
    "start_time": "2023-04-24T12:53:55.861Z"
   },
   {
    "duration": 17,
    "start_time": "2023-04-24T12:53:55.888Z"
   },
   {
    "duration": 51,
    "start_time": "2023-04-24T12:53:55.907Z"
   },
   {
    "duration": 10,
    "start_time": "2023-04-24T12:53:55.960Z"
   },
   {
    "duration": 29,
    "start_time": "2023-04-24T12:53:55.972Z"
   },
   {
    "duration": 23,
    "start_time": "2023-04-24T12:53:56.003Z"
   },
   {
    "duration": 37,
    "start_time": "2023-04-24T12:53:56.028Z"
   },
   {
    "duration": 21,
    "start_time": "2023-04-24T12:53:56.067Z"
   },
   {
    "duration": 25,
    "start_time": "2023-04-24T12:53:56.090Z"
   },
   {
    "duration": 39,
    "start_time": "2023-04-24T12:53:56.117Z"
   },
   {
    "duration": 3,
    "start_time": "2023-04-24T12:53:56.158Z"
   },
   {
    "duration": 444,
    "start_time": "2023-04-24T12:53:56.163Z"
   },
   {
    "duration": 11,
    "start_time": "2023-04-24T12:53:56.609Z"
   },
   {
    "duration": 83,
    "start_time": "2023-04-24T12:53:56.622Z"
   },
   {
    "duration": 111,
    "start_time": "2023-04-24T12:53:56.707Z"
   },
   {
    "duration": 110,
    "start_time": "2023-04-24T12:53:56.820Z"
   },
   {
    "duration": 176,
    "start_time": "2023-04-24T12:53:56.932Z"
   },
   {
    "duration": 3,
    "start_time": "2023-04-24T12:53:57.110Z"
   },
   {
    "duration": 5,
    "start_time": "2023-04-24T12:53:57.115Z"
   },
   {
    "duration": 7,
    "start_time": "2023-04-24T12:53:57.122Z"
   },
   {
    "duration": 22,
    "start_time": "2023-04-24T12:53:57.131Z"
   },
   {
    "duration": 21006,
    "start_time": "2023-04-24T12:53:57.155Z"
   },
   {
    "duration": 4,
    "start_time": "2023-04-24T12:54:18.163Z"
   },
   {
    "duration": 90,
    "start_time": "2023-04-24T12:54:18.169Z"
   },
   {
    "duration": 7647210,
    "start_time": "2023-04-24T12:54:18.261Z"
   },
   {
    "duration": 14,
    "start_time": "2023-04-24T15:01:45.472Z"
   },
   {
    "duration": 6,
    "start_time": "2023-04-24T15:01:45.489Z"
   },
   {
    "duration": 60483,
    "start_time": "2023-04-24T15:01:45.497Z"
   },
   {
    "duration": 4,
    "start_time": "2023-04-24T15:02:45.983Z"
   },
   {
    "duration": 36,
    "start_time": "2023-04-24T15:02:45.988Z"
   },
   {
    "duration": 20,
    "start_time": "2023-04-24T15:02:46.026Z"
   },
   {
    "duration": 163,
    "start_time": "2023-04-24T15:02:46.047Z"
   },
   {
    "duration": 0,
    "start_time": "2023-04-24T15:02:46.212Z"
   },
   {
    "duration": 0,
    "start_time": "2023-04-24T15:02:46.213Z"
   },
   {
    "duration": 5,
    "start_time": "2023-04-24T16:00:12.493Z"
   },
   {
    "duration": 8,
    "start_time": "2023-04-24T16:00:22.614Z"
   },
   {
    "duration": 30,
    "start_time": "2023-04-24T16:00:35.293Z"
   },
   {
    "duration": 4,
    "start_time": "2023-04-24T16:00:36.102Z"
   }
  ],
  "kernelspec": {
   "display_name": "Python 3 (ipykernel)",
   "language": "python",
   "name": "python3"
  },
  "language_info": {
   "codemirror_mode": {
    "name": "ipython",
    "version": 3
   },
   "file_extension": ".py",
   "mimetype": "text/x-python",
   "name": "python",
   "nbconvert_exporter": "python",
   "pygments_lexer": "ipython3",
   "version": "3.9.13"
  },
  "toc": {
   "base_numbering": 1,
   "nav_menu": {},
   "number_sections": true,
   "sideBar": true,
   "skip_h1_title": true,
   "title_cell": "Table of Contents",
   "title_sidebar": "Contents",
   "toc_cell": false,
   "toc_position": {},
   "toc_section_display": true,
   "toc_window_display": false
  }
 },
 "nbformat": 4,
 "nbformat_minor": 2
}
